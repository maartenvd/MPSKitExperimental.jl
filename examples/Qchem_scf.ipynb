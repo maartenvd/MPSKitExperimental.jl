{
 "cells": [
  {
   "attachments": {},
   "cell_type": "markdown",
   "metadata": {},
   "source": [
    "In this piece of code I simultaneously optimize over the unitary basis rotation and the mps tensors."
   ]
  },
  {
   "cell_type": "code",
   "execution_count": 1,
   "metadata": {},
   "outputs": [],
   "source": [
    "using Revise,LinearAlgebra, MPSKit, TensorKit, MPSKitExperimental\n",
    "using GaussianBasis\n",
    "\n",
    "LinearAlgebra.BLAS.set_num_threads(1);\n",
    "TensorKit.TO.disable_cache();\n",
    "TensorKit.Strided.disable_threads();"
   ]
  },
  {
   "cell_type": "code",
   "execution_count": 2,
   "metadata": {},
   "outputs": [
    {
     "data": {
      "text/plain": [
       "6-31g Basis Set\n",
       "Type: Spherical   Backend: Libcint\n",
       "\n",
       "Number of shells: 10\n",
       "Number of basis:  18\n",
       "\n",
       "N: 1s 2s 1p 3s 2p \n",
       "N: 1s 2s 1p 3s 2p"
      ]
     },
     "metadata": {},
     "output_type": "display_data"
    }
   ],
   "source": [
    "bset = BasisSet(\"6-31g\", \"\"\"\n",
    "N        0.00      0.00     0.00      \n",
    "N        2.118      0.00     0.00\"\"\")"
   ]
  },
  {
   "attachments": {},
   "cell_type": "markdown",
   "metadata": {},
   "source": [
    "I will keep the first 3 orbitals frozen filled, treat the next 10 orbitals using MPS, and keep the rest frozen free."
   ]
  },
  {
   "cell_type": "code",
   "execution_count": 3,
   "metadata": {},
   "outputs": [],
   "source": [
    "N_ORBS = bset.nbas;\n",
    "N_frozen_filled = 4;\n",
    "N_active = 12;\n",
    "N_frozen_empty = N_ORBS-N_frozen_filled-N_active;\n",
    "NELEC = 14;\n",
    "MS2 = 0;"
   ]
  },
  {
   "attachments": {},
   "cell_type": "markdown",
   "metadata": {},
   "source": [
    "The state is now smaller:"
   ]
  },
  {
   "cell_type": "code",
   "execution_count": 42,
   "metadata": {},
   "outputs": [],
   "source": [
    "psp = Vect[(Irrep[U₁]⊠Irrep[SU₂] ⊠ FermionParity)]((0,0,0)=>1, (1,1//2,1)=>1, (2,0,0)=>1);\n",
    "\n",
    "left = Vect[(Irrep[U₁]⊠Irrep[SU₂] ⊠ FermionParity)]((-(NELEC-N_frozen_filled*2),MS2//2,mod1(-(NELEC-N_frozen_filled*2),2))=>1);\n",
    "right = oneunit(left);\n",
    "\n",
    "virtual = Vect[(Irrep[U₁]⊠Irrep[SU₂] ⊠ FermionParity)]((i,s,b)=>1 for i in -(NELEC-N_frozen_filled*2):0, s in 0:1//2:(MS2//2+1), b in (0,1));\n",
    "\n",
    "st = FiniteMPS(rand,ComplexF64,N_active,psp,virtual;left,right);"
   ]
  },
  {
   "attachments": {},
   "cell_type": "markdown",
   "metadata": {},
   "source": [
    "The code works through a weird new type. We cannot work directly with an MPO hamiltonian, because I want to consider general unitary rotations between frozen orbitals and the active space. The MPO will only describe the active space, and therefore does not contain enough information."
   ]
  },
  {
   "cell_type": "code",
   "execution_count": 63,
   "metadata": {},
   "outputs": [
    {
     "data": {
      "text/plain": [
       "CASSCF_Ham{BasisSet{GaussianBasis.LCint, Molecules.Atom, SphericalShell}, Matrix{ComplexF64}, UnitRange{Int64}}(BasisSet{GaussianBasis.LCint, Molecules.Atom, SphericalShell}(\"6-31g\", Molecules.Atom[Molecules.Atom{Float64, Float64}(7, 14.007, [0.0, 0.0, 0.0]), Molecules.Atom{Float64, Float64}(7, 14.007, [2.118, 0.0, 0.0])], SphericalShell[SphericalShell{Molecules.Atom{Float64, Float64}, 6, Float64}(0, [2.4069849440988125, 4.432663884944204, 7.161977226981375, 9.37348857044504, 8.029233024174598, 2.762149184707957], [4173.51146, 627.457911, 142.902093, 40.2343293, 12.8202129, 4.39043701], Molecules.Atom{Float64, Float64}(7, 14.007, [0.0, 0.0, 0.0])), SphericalShell{Molecules.Atom{Float64, Float64}, 3, Float64}(0, [-1.8287280250000597, -0.9040332377807428, 2.3847817471011106], [11.62636186, 2.716279807, 0.7722183966], Molecules.Atom{Float64, Float64}(7, 14.007, [0.0, 0.0, 0.0])), SphericalShell{Molecules.Atom{Float64, Float64}, 3, Float64}(1, [4.232585393498297, 3.295135320303207, 1.5646468061240926], [11.62636186, 2.716279807, 0.7722183966], Molecules.Atom{Float64, Float64}(7, 14.007, [0.0, 0.0, 0.0])), SphericalShell{Molecules.Atom{Float64, Float64}, 1, Float64}(0, [0.7894330596561904], [0.2120314975], Molecules.Atom{Float64, Float64}(7, 14.007, [0.0, 0.0, 0.0])), SphericalShell{Molecules.Atom{Float64, Float64}, 1, Float64}(1, [0.4197443590079671], [0.2120314975], Molecules.Atom{Float64, Float64}(7, 14.007, [0.0, 0.0, 0.0])), SphericalShell{Molecules.Atom{Float64, Float64}, 6, Float64}(0, [2.4069849440988125, 4.432663884944204, 7.161977226981375, 9.37348857044504, 8.029233024174598, 2.762149184707957], [4173.51146, 627.457911, 142.902093, 40.2343293, 12.8202129, 4.39043701], Molecules.Atom{Float64, Float64}(7, 14.007, [2.118, 0.0, 0.0])), SphericalShell{Molecules.Atom{Float64, Float64}, 3, Float64}(0, [-1.8287280250000597, -0.9040332377807428, 2.3847817471011106], [11.62636186, 2.716279807, 0.7722183966], Molecules.Atom{Float64, Float64}(7, 14.007, [2.118, 0.0, 0.0])), SphericalShell{Molecules.Atom{Float64, Float64}, 3, Float64}(1, [4.232585393498297, 3.295135320303207, 1.5646468061240926], [11.62636186, 2.716279807, 0.7722183966], Molecules.Atom{Float64, Float64}(7, 14.007, [2.118, 0.0, 0.0])), SphericalShell{Molecules.Atom{Float64, Float64}, 1, Float64}(0, [0.7894330596561904], [0.2120314975], Molecules.Atom{Float64, Float64}(7, 14.007, [2.118, 0.0, 0.0])), SphericalShell{Molecules.Atom{Float64, Float64}, 1, Float64}(1, [0.4197443590079671], [0.2120314975], Molecules.Atom{Float64, Float64}(7, 14.007, [2.118, 0.0, 0.0]))], [9, 9], [5, 5], 2, 18, 10, GaussianBasis.LCint(Int32[7, 20, 0, 0, 0, 0, 7, 24, 0, 0, 0, 0], 2, Int32[0, 0, 6, 1, 0, 28, 34, 0, 0, 0  …  81, 0, 1, 1, 1, 1, 0, 82, 83, 0], 18, [0.0, 0.0, 0.0, 0.0, 0.0, 0.0, 0.0, 0.0, 0.0, 0.0  …  11.62636186, 2.716279807, 0.7722183966, 4.232585393498297, 3.295135320303207, 1.5646468061240926, 0.2120314975, 0.7894330596561904, 0.2120314975, 0.4197443590079671])), ComplexF64[0.005510904255801022 + 0.0im -0.08401854606011235 + 0.0im … 0.1545438520599931 + 0.0im -0.07826620258859801 + 0.0im; -1.055387158333575 + 0.0im 1.041641617444058 + 0.0im … 0.3379934247650185 + 0.0im -0.21712508497029073 + 0.0im; … ; -1.0135515887247326e-15 + 0.0im 3.742985589090408e-17 + 0.0im … 7.314531099786089e-16 + 0.0im -2.484317922967359e-16 + 0.0im; -8.015434375349499e-17 + 0.0im 1.269228769305693e-16 + 0.0im … -5.2260976977433706e-17 + 0.0im 1.4331929359413524e-17 + 0.0im], 5:16)"
      ]
     },
     "metadata": {},
     "output_type": "display_data"
    }
   ],
   "source": [
    "nh = CASSCF_Ham(bset,N_frozen_filled+1:N_frozen_filled+N_active)"
   ]
  },
  {
   "attachments": {},
   "cell_type": "markdown",
   "metadata": {},
   "source": [
    "Let's try it out!"
   ]
  },
  {
   "cell_type": "code",
   "execution_count": 64,
   "metadata": {},
   "outputs": [
    {
     "name": "stderr",
     "output_type": "stream",
     "text": [
      "┌ Info: Iteraton 0 error 0.2279050095708951\n",
      "└ @ MPSKit /Users/maarten.vandamme/.julia/packages/MPSKit/BToBw/src/algorithms/groundstate/dmrg.jl:112\n"
     ]
    },
    {
     "name": "stderr",
     "output_type": "stream",
     "text": [
      "┌ Info: Iteraton 1 error 0.002759436394073167\n",
      "└ @ MPSKit /Users/maarten.vandamme/.julia/packages/MPSKit/BToBw/src/algorithms/groundstate/dmrg.jl:112\n"
     ]
    },
    {
     "name": "stderr",
     "output_type": "stream",
     "text": [
      "┌ Info: Iteraton 2 error 0.00021746617003826074\n",
      "└ @ MPSKit /Users/maarten.vandamme/.julia/packages/MPSKit/BToBw/src/algorithms/groundstate/dmrg.jl:112\n"
     ]
    },
    {
     "name": "stderr",
     "output_type": "stream",
     "text": [
      "┌ Info: CG: initializing with f = -90.393855064840, ‖∇f‖ = 1.9288e+01\n",
      "└ @ OptimKit /Users/maarten.vandamme/.julia/packages/OptimKit/xpmbV/src/cg.jl:39\n"
     ]
    },
    {
     "name": "stderr",
     "output_type": "stream",
     "text": [
      "┌ Info: CG: iter    1: f = -97.609072639323, ‖∇f‖ = 1.3894e+00, α = 3.60e-02, β = 0.00e+00, nfg = 2\n",
      "└ @ OptimKit /Users/maarten.vandamme/.julia/packages/OptimKit/xpmbV/src/cg.jl:83\n"
     ]
    },
    {
     "name": "stderr",
     "output_type": "stream",
     "text": [
      "┌ Info: CG: iter    2: f = -97.674780634479, ‖∇f‖ = 1.5025e+00, α = 6.63e-02, β = 4.52e-03, nfg = 2\n",
      "└ @ OptimKit /Users/maarten.vandamme/.julia/packages/OptimKit/xpmbV/src/cg.jl:83\n"
     ]
    },
    {
     "name": "stderr",
     "output_type": "stream",
     "text": [
      "┌ Info: CG: iter    3: f = -100.059785540749, ‖∇f‖ = 1.0034e+01, α = 1.44e+00, β = 1.11e+00, nfg = 4\n",
      "└ @ OptimKit /Users/maarten.vandamme/.julia/packages/OptimKit/xpmbV/src/cg.jl:83\n"
     ]
    },
    {
     "name": "stderr",
     "output_type": "stream",
     "text": [
      "┌ Info: CG: iter    4: f = -101.876243495368, ‖∇f‖ = 5.5110e+00, α = 8.86e-02, β = 7.51e+00, nfg = 6\n",
      "└ @ OptimKit /Users/maarten.vandamme/.julia/packages/OptimKit/xpmbV/src/cg.jl:83\n"
     ]
    },
    {
     "name": "stderr",
     "output_type": "stream",
     "text": [
      "┌ Info: CG: iter    5: f = -102.701791396784, ‖∇f‖ = 4.2317e+00, α = 5.21e-02, β = -9.12e-02, nfg = 2\n",
      "└ @ OptimKit /Users/maarten.vandamme/.julia/packages/OptimKit/xpmbV/src/cg.jl:83\n"
     ]
    },
    {
     "name": "stderr",
     "output_type": "stream",
     "text": [
      "┌ Info: CG: iter    6: f = -104.315210415862, ‖∇f‖ = 4.1158e+00, α = 2.01e-01, β = 5.03e-01, nfg = 3\n",
      "└ @ OptimKit /Users/maarten.vandamme/.julia/packages/OptimKit/xpmbV/src/cg.jl:83\n"
     ]
    },
    {
     "name": "stderr",
     "output_type": "stream",
     "text": [
      "┌ Info: CG: iter    7: f = -104.990247758251, ‖∇f‖ = 3.4727e+00, α = 1.44e-01, β = 9.28e-01, nfg = 2\n",
      "└ @ OptimKit /Users/maarten.vandamme/.julia/packages/OptimKit/xpmbV/src/cg.jl:83\n"
     ]
    },
    {
     "name": "stderr",
     "output_type": "stream",
     "text": [
      "┌ Info: CG: iter    8: f = -105.191742153548, ‖∇f‖ = 1.4986e+00, α = 4.06e-02, β = 2.65e-01, nfg = 2\n",
      "└ @ OptimKit /Users/maarten.vandamme/.julia/packages/OptimKit/xpmbV/src/cg.jl:83\n"
     ]
    },
    {
     "name": "stderr",
     "output_type": "stream",
     "text": [
      "┌ Info: CG: iter    9: f = -105.423034797595, ‖∇f‖ = 2.1442e+00, α = 2.08e-01, β = 1.09e-01, nfg = 3\n",
      "└ @ OptimKit /Users/maarten.vandamme/.julia/packages/OptimKit/xpmbV/src/cg.jl:83\n"
     ]
    },
    {
     "name": "stderr",
     "output_type": "stream",
     "text": [
      "┌ Info: CG: iter   10: f = -105.642741057564, ‖∇f‖ = 1.4626e+00, α = 9.89e-02, β = 2.31e+00, nfg = 2\n",
      "└ @ OptimKit /Users/maarten.vandamme/.julia/packages/OptimKit/xpmbV/src/cg.jl:83\n"
     ]
    },
    {
     "name": "stderr",
     "output_type": "stream",
     "text": [
      "┌ Info: CG: iter   11: f = -105.713039172133, ‖∇f‖ = 1.1821e+00, α = 6.77e-02, β = 3.52e-01, nfg = 2\n",
      "└ @ OptimKit /Users/maarten.vandamme/.julia/packages/OptimKit/xpmbV/src/cg.jl:83\n"
     ]
    },
    {
     "name": "stderr",
     "output_type": "stream",
     "text": [
      "┌ Info: CG: iter   12: f = -106.306977658613, ‖∇f‖ = 3.4728e+00, α = 5.84e-01, β = 6.84e-01, nfg = 3\n",
      "└ @ OptimKit /Users/maarten.vandamme/.julia/packages/OptimKit/xpmbV/src/cg.jl:83\n"
     ]
    },
    {
     "name": "stderr",
     "output_type": "stream",
     "text": [
      "┌ Info: CG: iter   13: f = -106.520684000870, ‖∇f‖ = 2.7911e+00, α = 3.54e-02, β = 9.78e+00, nfg = 5\n",
      "└ @ OptimKit /Users/maarten.vandamme/.julia/packages/OptimKit/xpmbV/src/cg.jl:83\n",
      "┌ Warning: resorting to η\n",
      "└ @ OptimKit /Users/maarten.vandamme/.julia/packages/OptimKit/xpmbV/src/cg.jl:139\n"
     ]
    },
    {
     "name": "stderr",
     "output_type": "stream",
     "text": [
      "┌ Info: CG: iter   14: f = -106.754573245894, ‖∇f‖ = 1.4802e+00, α = 5.97e-02, β = -1.63e-02, nfg = 2\n",
      "└ @ OptimKit /Users/maarten.vandamme/.julia/packages/OptimKit/xpmbV/src/cg.jl:83\n"
     ]
    },
    {
     "name": "stderr",
     "output_type": "stream",
     "text": [
      "┌ Info: CG: iter   15: f = -106.837071693552, ‖∇f‖ = 1.2775e+00, α = 7.54e-02, β = 2.89e-01, nfg = 2\n",
      "└ @ OptimKit /Users/maarten.vandamme/.julia/packages/OptimKit/xpmbV/src/cg.jl:83\n"
     ]
    },
    {
     "name": "stderr",
     "output_type": "stream",
     "text": [
      "┌ Info: CG: iter   16: f = -106.934918097741, ‖∇f‖ = 1.0181e+00, α = 1.20e-01, β = 7.43e-01, nfg = 2\n",
      "└ @ OptimKit /Users/maarten.vandamme/.julia/packages/OptimKit/xpmbV/src/cg.jl:83\n"
     ]
    },
    {
     "name": "stderr",
     "output_type": "stream",
     "text": [
      "┌ Info: CG: iter   17: f = -106.996568497756, ‖∇f‖ = 3.5191e-01, α = 1.20e-01, β = 6.37e-01, nfg = 2\n",
      "└ @ OptimKit /Users/maarten.vandamme/.julia/packages/OptimKit/xpmbV/src/cg.jl:83\n"
     ]
    },
    {
     "name": "stderr",
     "output_type": "stream",
     "text": [
      "┌ Info: CG: iter   18: f = -107.017512589965, ‖∇f‖ = 9.0763e-01, α = 3.41e-01, β = 1.11e-01, nfg = 3\n",
      "└ @ OptimKit /Users/maarten.vandamme/.julia/packages/OptimKit/xpmbV/src/cg.jl:83\n"
     ]
    },
    {
     "name": "stderr",
     "output_type": "stream",
     "text": [
      "┌ Info: CG: iter   19: f = -107.057910437832, ‖∇f‖ = 4.0071e-01, α = 1.00e-01, β = 6.67e+00, nfg = 2\n",
      "└ @ OptimKit /Users/maarten.vandamme/.julia/packages/OptimKit/xpmbV/src/cg.jl:83\n"
     ]
    },
    {
     "name": "stdout",
     "output_type": "stream",
     "text": [
      " 79.797145 seconds (1.37 G allocations: 515.531 GiB, 23.23% gc time, 0.23% compilation time: 100% of which was recompilation)\n"
     ]
    },
    {
     "name": "stderr",
     "output_type": "stream",
     "text": [
      "┌ Warning: CG: not converged to requested tol: f = -107.077091453847, ‖∇f‖ = 7.9946e-01\n",
      "└ @ OptimKit /Users/maarten.vandamme/.julia/packages/OptimKit/xpmbV/src/cg.jl:103\n"
     ]
    }
   ],
   "source": [
    "# first some dmrg to ramp up the bond dimension\n",
    "mpo_opp = MPSKitExperimental.mpo_representation(nh)[1]; # will be made easier in future\n",
    "(st,env) = find_groundstate(st,mpo_opp,DMRG2(maxiter=3,trscheme=truncdim(20)),disk_environments(st,mpo_opp));\n",
    "\n",
    "# grassmannscf simultaneously converges the state and the oribtals\n",
    "@time (st,nh) = find_groundstate(st,nh,GrassmannSCF(maxiter=20));"
   ]
  },
  {
   "attachments": {},
   "cell_type": "markdown",
   "metadata": {},
   "source": [
    "In practice, one should probably start from a well informed initial guess, instead of using atomic orbitals. Nevertheless, as a proof of principle, it works."
   ]
  },
  {
   "cell_type": "markdown",
   "metadata": {},
   "source": []
  }
 ],
 "metadata": {
  "kernelspec": {
   "display_name": "Julia 1.8.5",
   "language": "julia",
   "name": "julia-1.8"
  },
  "language_info": {
   "file_extension": ".jl",
   "mimetype": "application/julia",
   "name": "julia",
   "version": "1.8.5"
  },
  "orig_nbformat": 4
 },
 "nbformat": 4,
 "nbformat_minor": 2
}
