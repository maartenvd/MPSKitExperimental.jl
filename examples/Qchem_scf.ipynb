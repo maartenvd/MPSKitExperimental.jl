{
 "cells": [
  {
   "attachments": {},
   "cell_type": "markdown",
   "metadata": {},
   "source": [
    "In this piece of code I simultaneously optimize over the unitary basis rotation and the mps tensors.\n",
    "\n",
    "This is often done in \"DMRG-SCF\", but people conventionally optimize the matrix product state quite far before taking a small step in the orbital rotations. In this notebook I try to combine grassmann gradient descent with \"DMRG-SCF\", where I optimize the orbital basis after every linesearch. This may be more efficient..."
   ]
  },
  {
   "cell_type": "code",
   "execution_count": 1,
   "metadata": {},
   "outputs": [],
   "source": [
    "using Revise,LinearAlgebra, MPSKit, TensorKit, MPSKitExperimental\n",
    "using GaussianBasis,DelimitedFiles\n",
    "\n",
    "LinearAlgebra.BLAS.set_num_threads(1);\n",
    "#TensorKit.TO.disable_cache();\n",
    "TensorKit.Strided.disable_threads();"
   ]
  },
  {
   "cell_type": "code",
   "execution_count": 2,
   "metadata": {},
   "outputs": [
    {
     "data": {
      "text/plain": [
       "4"
      ]
     },
     "metadata": {},
     "output_type": "display_data"
    }
   ],
   "source": [
    "using Base.Threads; nthreads()"
   ]
  },
  {
   "cell_type": "code",
   "execution_count": 3,
   "metadata": {},
   "outputs": [
    {
     "data": {
      "text/plain": [
       "6-31g Basis Set\n",
       "Type: Spherical   Backend: Libcint\n",
       "\n",
       "Number of shells: 10\n",
       "Number of basis:  18\n",
       "\n",
       "N: 1s 2s 1p 3s 2p \n",
       "N: 1s 2s 1p 3s 2p"
      ]
     },
     "metadata": {},
     "output_type": "display_data"
    }
   ],
   "source": [
    "bset = BasisSet(\"6-31g\", \"\"\"\n",
    "N        0.00      0.00     0.00      \n",
    "N        2.118      0.00     0.00\"\"\")"
   ]
  },
  {
   "attachments": {},
   "cell_type": "markdown",
   "metadata": {},
   "source": [
    "I will keep the first 3 orbitals frozen filled, treat the next 10 orbitals using MPS, and keep the rest frozen free."
   ]
  },
  {
   "cell_type": "code",
   "execution_count": 4,
   "metadata": {},
   "outputs": [],
   "source": [
    "N_ORBS = bset.nbas;\n",
    "N_frozen_filled = 4;\n",
    "N_active = 12;\n",
    "N_frozen_empty = N_ORBS-N_frozen_filled-N_active;\n",
    "NELEC = 14;\n",
    "MS2 = 0;"
   ]
  },
  {
   "attachments": {},
   "cell_type": "markdown",
   "metadata": {},
   "source": [
    "The state is now smaller:"
   ]
  },
  {
   "cell_type": "code",
   "execution_count": 8,
   "metadata": {},
   "outputs": [],
   "source": [
    "psp = Vect[(Irrep[U₁]⊠Irrep[SU₂] ⊠ FermionParity)]((0,0,0)=>1, (1,1//2,1)=>1, (2,0,0)=>1);\n",
    "\n",
    "left = Vect[(Irrep[U₁]⊠Irrep[SU₂] ⊠ FermionParity)]((-(NELEC-N_frozen_filled*2),MS2//2,mod(-(NELEC-N_frozen_filled*2),2))=>1);\n",
    "right = oneunit(left);\n",
    "\n",
    "virtual = Vect[(Irrep[U₁]⊠Irrep[SU₂] ⊠ FermionParity)]((i,s,b)=>1 for i in -(NELEC-N_frozen_filled*2):0, s in 0:1//2:(MS2//2+1), b in (0,1));\n",
    "\n",
    "st = FiniteMPS(rand,Float64,N_active,psp,virtual;left,right);"
   ]
  },
  {
   "attachments": {},
   "cell_type": "markdown",
   "metadata": {},
   "source": [
    "The code works through a weird new type. We cannot work directly with an MPO hamiltonian, because I want to consider general unitary rotations between frozen orbitals and the active space. The MPO will only describe the active space, and therefore does not contain enough information."
   ]
  },
  {
   "cell_type": "code",
   "execution_count": 6,
   "metadata": {},
   "outputs": [],
   "source": [
    "nh = CASSCF_Ham(bset,N_frozen_filled+1:N_frozen_filled+N_active);"
   ]
  },
  {
   "attachments": {},
   "cell_type": "markdown",
   "metadata": {},
   "source": [
    "Let's try it out!"
   ]
  },
  {
   "cell_type": "code",
   "execution_count": 11,
   "metadata": {},
   "outputs": [
    {
     "name": "stderr",
     "output_type": "stream",
     "text": [
      "┌ Info: DMRG2 iteration:\n",
      "│   iter = 1\n",
      "│   ϵ = 0.0024758981739543273\n",
      "│   λ = -90.42386652829893\n",
      "│   Δt = 6.943917881\n",
      "└ @ MPSKit /home/maarten/projects/MPSKit.jl/src/algorithms/groundstate/dmrg.jl:119\n",
      "┌ Warning: DMRG2 maximum iterations\n",
      "│   iter = 1\n",
      "│   ϵ = 0.0024758981739543273\n",
      "│   λ = -90.42386652829893\n",
      "└ @ MPSKit /home/maarten/projects/MPSKit.jl/src/algorithms/groundstate/dmrg.jl:123\n",
      "┌ Info: DMRG2 summary:\n",
      "│   ϵ = 0.0024758981739543273\n",
      "│   λ = -90.42386652829893\n",
      "│   Δt = 6.948388389\n",
      "└ @ MPSKit /home/maarten/projects/MPSKit.jl/src/algorithms/groundstate/dmrg.jl:127\n"
     ]
    },
    {
     "name": "stderr",
     "output_type": "stream",
     "text": [
      "┌ Info: CG: initializing with f = -90.423866528299, ‖∇f‖ = 1.4441e-02\n",
      "└ @ OptimKit /home/maarten/.julia/packages/OptimKit/xpmbV/src/cg.jl:39\n"
     ]
    },
    {
     "name": "stderr",
     "output_type": "stream",
     "text": [
      "┌ Info: CG: initializing with f = -90.423873777291, ‖∇f‖ = 1.9324e+01\n",
      "└ @ OptimKit /home/maarten/.julia/packages/OptimKit/xpmbV/src/cg.jl:39\n"
     ]
    },
    {
     "name": "stderr",
     "output_type": "stream",
     "text": [
      "┌ Info: CG: iter    1: f = -97.772050938994, ‖∇f‖ = 2.4290e+00, α = 7.98e-01, β = 0.00e+00, nfg = 2\n",
      "└ @ OptimKit /home/maarten/.julia/packages/OptimKit/xpmbV/src/cg.jl:83\n"
     ]
    },
    {
     "name": "stderr",
     "output_type": "stream",
     "text": [
      "┌ Info: CG: iter    2: f = -97.904852553886, ‖∇f‖ = 1.5571e+00, α = 4.42e-02, β = 3.50e-01, nfg = 4\n",
      "└ @ OptimKit /home/maarten/.julia/packages/OptimKit/xpmbV/src/cg.jl:83\n"
     ]
    },
    {
     "name": "stderr",
     "output_type": "stream",
     "text": [
      "┌ Info: CG: iter    3: f = -102.364923298191, ‖∇f‖ = 1.2230e+01, α = 1.60e+00, β = 3.99e-01, nfg = 5\n",
      "└ @ OptimKit /home/maarten/.julia/packages/OptimKit/xpmbV/src/cg.jl:83\n"
     ]
    },
    {
     "name": "stderr",
     "output_type": "stream",
     "text": [
      "┌ Info: CG: iter    4: f = -102.491873018171, ‖∇f‖ = 1.3461e+01, α = 1.72e-01, β = 2.92e+00, nfg = 5\n",
      "└ @ OptimKit /home/maarten/.julia/packages/OptimKit/xpmbV/src/cg.jl:83\n"
     ]
    },
    {
     "name": "stderr",
     "output_type": "stream",
     "text": [
      "┌ Info: CG: iter    5: f = -105.101067415367, ‖∇f‖ = 2.5790e+00, α = 7.94e-01, β = 5.81e-02, nfg = 3\n",
      "└ @ OptimKit /home/maarten/.julia/packages/OptimKit/xpmbV/src/cg.jl:83\n"
     ]
    },
    {
     "name": "stderr",
     "output_type": "stream",
     "text": [
      "┌ Info: CG: iter    6: f = -105.230711075422, ‖∇f‖ = 2.1476e+00, α = 4.10e-02, β = 1.08e+00, nfg = 4\n",
      "└ @ OptimKit /home/maarten/.julia/packages/OptimKit/xpmbV/src/cg.jl:83\n"
     ]
    },
    {
     "name": "stderr",
     "output_type": "stream",
     "text": [
      "┌ Info: CG: iter    7: f = -106.201807516926, ‖∇f‖ = 3.7539e+00, α = 3.69e-01, β = 4.32e-01, nfg = 3\n",
      "└ @ OptimKit /home/maarten/.julia/packages/OptimKit/xpmbV/src/cg.jl:83\n"
     ]
    },
    {
     "name": "stderr",
     "output_type": "stream",
     "text": [
      "┌ Info: CG: iter    8: f = -106.893534717308, ‖∇f‖ = 2.9863e+00, α = 1.02e-01, β = 3.15e+00, nfg = 3\n",
      "└ @ OptimKit /home/maarten/.julia/packages/OptimKit/xpmbV/src/cg.jl:83\n",
      "┌ Warning: resorting to η\n",
      "└ @ OptimKit /home/maarten/.julia/packages/OptimKit/xpmbV/src/cg.jl:139\n"
     ]
    },
    {
     "name": "stderr",
     "output_type": "stream",
     "text": [
      "┌ Info: CG: iter    9: f = -107.755254986144, ‖∇f‖ = 1.6544e+00, α = 4.94e-01, β = -7.63e-02, nfg = 3\n",
      "└ @ OptimKit /home/maarten/.julia/packages/OptimKit/xpmbV/src/cg.jl:83\n"
     ]
    },
    {
     "name": "stderr",
     "output_type": "stream",
     "text": [
      "┌ Info: CG: iter   10: f = -107.928200175518, ‖∇f‖ = 2.3744e-01, α = 9.19e-01, β = -2.35e-02, nfg = 2\n",
      "└ @ OptimKit /home/maarten/.julia/packages/OptimKit/xpmbV/src/cg.jl:83\n"
     ]
    },
    {
     "name": "stderr",
     "output_type": "stream",
     "text": [
      "┌ Info: CG: iter   11: f = -107.931853083521, ‖∇f‖ = 2.2200e-02, α = 9.36e-01, β = 5.10e-03, nfg = 2\n",
      "└ @ OptimKit /home/maarten/.julia/packages/OptimKit/xpmbV/src/cg.jl:83\n"
     ]
    },
    {
     "name": "stderr",
     "output_type": "stream",
     "text": [
      "┌ Info: CG: iter   12: f = -107.931867956446, ‖∇f‖ = 1.9761e-02, α = 5.98e-02, β = 6.20e-02, nfg = 2\n",
      "└ @ OptimKit /home/maarten/.julia/packages/OptimKit/xpmbV/src/cg.jl:83\n"
     ]
    },
    {
     "name": "stderr",
     "output_type": "stream",
     "text": [
      "┌ Info: CG: iter   13: f = -107.931914321550, ‖∇f‖ = 1.7161e-02, α = 2.37e-01, β = 7.74e-01, nfg = 3\n",
      "└ @ OptimKit /home/maarten/.julia/packages/OptimKit/xpmbV/src/cg.jl:83\n"
     ]
    },
    {
     "name": "stderr",
     "output_type": "stream",
     "text": [
      "┌ Info: CG: iter   14: f = -107.931932613258, ‖∇f‖ = 2.3566e-02, α = 1.24e-01, β = 7.55e-01, nfg = 2\n",
      "└ @ OptimKit /home/maarten/.julia/packages/OptimKit/xpmbV/src/cg.jl:83\n"
     ]
    },
    {
     "name": "stderr",
     "output_type": "stream",
     "text": [
      "┌ Info: CG: iter   15: f = -107.931998607728, ‖∇f‖ = 4.7425e-02, α = 2.38e-01, β = 1.89e+00, nfg = 2\n",
      "└ @ OptimKit /home/maarten/.julia/packages/OptimKit/xpmbV/src/cg.jl:83\n"
     ]
    },
    {
     "name": "stderr",
     "output_type": "stream",
     "text": [
      "┌ Info: CG: iter   16: f = -107.940571222477, ‖∇f‖ = 6.7239e-01, α = 3.14e+00, β = 4.05e+00, nfg = 5\n",
      "└ @ OptimKit /home/maarten/.julia/packages/OptimKit/xpmbV/src/cg.jl:83\n"
     ]
    },
    {
     "name": "stderr",
     "output_type": "stream",
     "text": [
      "┌ Info: CG: iter   17: f = -107.941567070438, ‖∇f‖ = 7.1035e-01, α = 3.39e-03, β = 8.94e+01, nfg = 4\n",
      "└ @ OptimKit /home/maarten/.julia/packages/OptimKit/xpmbV/src/cg.jl:83\n"
     ]
    },
    {
     "name": "stderr",
     "output_type": "stream",
     "text": [
      "┌ Info: CG: iter   18: f = -107.965624645447, ‖∇f‖ = 7.7244e-01, α = 6.61e-02, β = 2.46e-01, nfg = 4\n",
      "└ @ OptimKit /home/maarten/.julia/packages/OptimKit/xpmbV/src/cg.jl:83\n"
     ]
    },
    {
     "name": "stderr",
     "output_type": "stream",
     "text": [
      "┌ Info: CG: iter   19: f = -107.993867869512, ‖∇f‖ = 8.9810e-01, α = 5.24e-02, β = 1.18e+00, nfg = 2\n",
      "└ @ OptimKit /home/maarten/.julia/packages/OptimKit/xpmbV/src/cg.jl:83\n"
     ]
    },
    {
     "name": "stderr",
     "output_type": "stream",
     "text": [
      "┌ Info: CG: iter   20: f = -108.051901031072, ‖∇f‖ = 1.3344e+00, α = 1.16e-01, β = 4.98e-01, nfg = 3\n",
      "└ @ OptimKit /home/maarten/.julia/packages/OptimKit/xpmbV/src/cg.jl:83\n"
     ]
    },
    {
     "name": "stderr",
     "output_type": "stream",
     "text": [
      "┌ Info: CG: iter   21: f = -108.135274704070, ‖∇f‖ = 8.8625e-01, α = 9.80e-02, β = 1.71e+00, nfg = 2\n",
      "└ @ OptimKit /home/maarten/.julia/packages/OptimKit/xpmbV/src/cg.jl:83\n"
     ]
    },
    {
     "name": "stderr",
     "output_type": "stream",
     "text": [
      "┌ Info: CG: iter   22: f = -108.293052810510, ‖∇f‖ = 5.4221e-01, α = 5.67e-01, β = -6.46e-03, nfg = 3\n",
      "└ @ OptimKit /home/maarten/.julia/packages/OptimKit/xpmbV/src/cg.jl:83\n"
     ]
    },
    {
     "name": "stderr",
     "output_type": "stream",
     "text": [
      "┌ Info: CG: iter   23: f = -108.296987525397, ‖∇f‖ = 4.7448e-01, α = 1.37e-01, β = 1.80e-01, nfg = 7\n",
      "└ @ OptimKit /home/maarten/.julia/packages/OptimKit/xpmbV/src/cg.jl:83\n"
     ]
    },
    {
     "name": "stderr",
     "output_type": "stream",
     "text": [
      "┌ Info: CG: iter   24: f = -108.297450167709, ‖∇f‖ = 4.5820e-01, α = 4.58e-03, β = 4.54e+00, nfg = 3\n",
      "└ @ OptimKit /home/maarten/.julia/packages/OptimKit/xpmbV/src/cg.jl:83\n",
      "┌ Warning: resorting to η\n",
      "└ @ OptimKit /home/maarten/.julia/packages/OptimKit/xpmbV/src/cg.jl:139\n"
     ]
    },
    {
     "name": "stderr",
     "output_type": "stream",
     "text": [
      "┌ Info: CG: iter   25: f = -108.335485922179, ‖∇f‖ = 9.2487e-01, α = 3.66e-01, β = -7.10e-05, nfg = 5\n",
      "└ @ OptimKit /home/maarten/.julia/packages/OptimKit/xpmbV/src/cg.jl:83\n"
     ]
    },
    {
     "name": "stderr",
     "output_type": "stream",
     "text": [
      "┌ Info: CG: iter   26: f = -108.360579281179, ‖∇f‖ = 4.4937e-01, α = 6.71e-02, β = 4.00e+00, nfg = 2\n",
      "└ @ OptimKit /home/maarten/.julia/packages/OptimKit/xpmbV/src/cg.jl:83\n"
     ]
    },
    {
     "name": "stderr",
     "output_type": "stream",
     "text": [
      "┌ Info: CG: iter   27: f = -108.368814653010, ‖∇f‖ = 3.8663e-01, α = 8.92e-02, β = 1.80e-01, nfg = 2\n",
      "└ @ OptimKit /home/maarten/.julia/packages/OptimKit/xpmbV/src/cg.jl:83\n"
     ]
    },
    {
     "name": "stderr",
     "output_type": "stream",
     "text": [
      "┌ Info: CG: iter   28: f = -108.383984721296, ‖∇f‖ = 6.4269e-01, α = 2.00e-01, β = 8.89e-01, nfg = 3\n",
      "└ @ OptimKit /home/maarten/.julia/packages/OptimKit/xpmbV/src/cg.jl:83\n"
     ]
    },
    {
     "name": "stderr",
     "output_type": "stream",
     "text": [
      "┌ Info: CG: iter   29: f = -108.406914047839, ‖∇f‖ = 3.8947e-01, α = 9.96e-02, β = 2.75e+00, nfg = 2\n",
      "└ @ OptimKit /home/maarten/.julia/packages/OptimKit/xpmbV/src/cg.jl:83\n"
     ]
    },
    {
     "name": "stderr",
     "output_type": "stream",
     "text": [
      "┌ Info: CG: iter   30: f = -108.424532899276, ‖∇f‖ = 5.6328e-01, α = 1.40e-01, β = 3.99e-01, nfg = 2\n",
      "└ @ OptimKit /home/maarten/.julia/packages/OptimKit/xpmbV/src/cg.jl:83\n",
      "┌ Warning: resorting to η\n",
      "└ @ OptimKit /home/maarten/.julia/packages/OptimKit/xpmbV/src/cg.jl:139\n"
     ]
    },
    {
     "name": "stderr",
     "output_type": "stream",
     "text": [
      "┌ Info: CG: iter   31: f = -108.467178753991, ‖∇f‖ = 8.7794e-02, α = 1.00e+00, β = -1.96e-02, nfg = 3\n",
      "└ @ OptimKit /home/maarten/.julia/packages/OptimKit/xpmbV/src/cg.jl:83\n"
     ]
    },
    {
     "name": "stderr",
     "output_type": "stream",
     "text": [
      "┌ Info: CG: iter   32: f = -108.478390660500, ‖∇f‖ = 1.5855e-01, α = 3.50e-01, β = 5.57e-01, nfg = 2\n",
      "└ @ OptimKit /home/maarten/.julia/packages/OptimKit/xpmbV/src/cg.jl:83\n",
      "┌ Warning: resorting to η\n",
      "└ @ OptimKit /home/maarten/.julia/packages/OptimKit/xpmbV/src/cg.jl:139\n"
     ]
    },
    {
     "name": "stderr",
     "output_type": "stream",
     "text": [
      "┌ Info: CG: iter   33: f = -108.484153498295, ‖∇f‖ = 5.7689e-02, α = 1.32e+00, β = -7.67e-03, nfg = 3\n",
      "└ @ OptimKit /home/maarten/.julia/packages/OptimKit/xpmbV/src/cg.jl:83\n"
     ]
    },
    {
     "name": "stderr",
     "output_type": "stream",
     "text": [
      "┌ Info: CG: iter   34: f = -108.486050819800, ‖∇f‖ = 8.3596e-02, α = 2.66e-01, β = 9.89e-01, nfg = 2\n",
      "└ @ OptimKit /home/maarten/.julia/packages/OptimKit/xpmbV/src/cg.jl:83\n",
      "┌ Warning: resorting to η\n",
      "└ @ OptimKit /home/maarten/.julia/packages/OptimKit/xpmbV/src/cg.jl:139\n"
     ]
    },
    {
     "name": "stderr",
     "output_type": "stream",
     "text": [
      "┌ Info: CG: iter   35: f = -108.487609192705, ‖∇f‖ = 2.4298e-02, α = 1.26e+00, β = -5.75e-03, nfg = 3\n",
      "└ @ OptimKit /home/maarten/.julia/packages/OptimKit/xpmbV/src/cg.jl:83\n"
     ]
    },
    {
     "name": "stderr",
     "output_type": "stream",
     "text": [
      "┌ Info: CG: iter   36: f = -108.488251252846, ‖∇f‖ = 4.6813e-02, α = 1.96e-01, β = 1.71e+00, nfg = 2\n",
      "└ @ OptimKit /home/maarten/.julia/packages/OptimKit/xpmbV/src/cg.jl:83\n",
      "┌ Warning: resorting to η\n",
      "└ @ OptimKit /home/maarten/.julia/packages/OptimKit/xpmbV/src/cg.jl:139\n"
     ]
    },
    {
     "name": "stderr",
     "output_type": "stream",
     "text": [
      "┌ Info: CG: iter   37: f = -108.489365635687, ‖∇f‖ = 2.8770e-02, α = 1.53e+00, β = -3.52e-03, nfg = 3\n",
      "└ @ OptimKit /home/maarten/.julia/packages/OptimKit/xpmbV/src/cg.jl:83\n"
     ]
    },
    {
     "name": "stderr",
     "output_type": "stream",
     "text": [
      "┌ Info: CG: iter   38: f = -108.489975591354, ‖∇f‖ = 2.5538e-02, α = 1.95e+00, β = 3.73e-01, nfg = 2\n",
      "└ @ OptimKit /home/maarten/.julia/packages/OptimKit/xpmbV/src/cg.jl:83\n"
     ]
    },
    {
     "name": "stderr",
     "output_type": "stream",
     "text": [
      "┌ Info: CG: iter   39: f = -108.490351999269, ‖∇f‖ = 2.5392e-02, α = 2.42e+00, β = 3.85e-01, nfg = 2\n",
      "└ @ OptimKit /home/maarten/.julia/packages/OptimKit/xpmbV/src/cg.jl:83\n"
     ]
    },
    {
     "name": "stderr",
     "output_type": "stream",
     "text": [
      "┌ Info: CG: iter   40: f = -108.490755061986, ‖∇f‖ = 7.4023e-02, α = 1.98e+00, β = 1.55e+00, nfg = 4\n",
      "└ @ OptimKit /home/maarten/.julia/packages/OptimKit/xpmbV/src/cg.jl:83\n"
     ]
    },
    {
     "name": "stderr",
     "output_type": "stream",
     "text": [
      "┌ Info: CG: iter   41: f = -108.491345935582, ‖∇f‖ = 3.3870e-02, α = 2.11e+00, β = 4.88e-01, nfg = 2\n",
      "└ @ OptimKit /home/maarten/.julia/packages/OptimKit/xpmbV/src/cg.jl:83\n"
     ]
    },
    {
     "name": "stderr",
     "output_type": "stream",
     "text": [
      "┌ Info: CG: converged after 42 iterations: f = -108.491429533578, ‖∇f‖ = 1.2817e-02\n",
      "└ @ OptimKit /home/maarten/.julia/packages/OptimKit/xpmbV/src/cg.jl:100\n"
     ]
    },
    {
     "name": "stderr",
     "output_type": "stream",
     "text": [
      "┌ Info: CG: iter    1: f = -108.490828094844, ‖∇f‖ = 2.2428e-01, α = 1.17e-01, β = 0.00e+00, nfg = 2\n",
      "└ @ OptimKit /home/maarten/.julia/packages/OptimKit/xpmbV/src/cg.jl:83\n"
     ]
    },
    {
     "name": "stderr",
     "output_type": "stream",
     "text": [
      "┌ Info: CG: initializing with f = -108.491421850457, ‖∇f‖ = 1.3815e-02\n",
      "└ @ OptimKit /home/maarten/.julia/packages/OptimKit/xpmbV/src/cg.jl:39\n"
     ]
    },
    {
     "name": "stderr",
     "output_type": "stream",
     "text": [
      "┌ Info: CG: converged after 1 iterations: f = -108.491426628121, ‖∇f‖ = 1.1350e-02\n",
      "└ @ OptimKit /home/maarten/.julia/packages/OptimKit/xpmbV/src/cg.jl:100\n"
     ]
    },
    {
     "name": "stderr",
     "output_type": "stream",
     "text": [
      "┌ Info: CG: iter    2: f = -108.491426628121, ‖∇f‖ = 1.8595e-01, α = 2.28e-02, β = 1.94e+01, nfg = 2\n",
      "└ @ OptimKit /home/maarten/.julia/packages/OptimKit/xpmbV/src/cg.jl:83\n"
     ]
    },
    {
     "name": "stderr",
     "output_type": "stream",
     "text": [
      "┌ Info: CG: initializing with f = -108.492450624316, ‖∇f‖ = 9.1518e-03\n",
      "└ @ OptimKit /home/maarten/.julia/packages/OptimKit/xpmbV/src/cg.jl:39\n"
     ]
    },
    {
     "name": "stderr",
     "output_type": "stream",
     "text": [
      "┌ Info: CG: converged after 1 iterations: f = -108.492454212405, ‖∇f‖ = 1.2519e-02\n",
      "└ @ OptimKit /home/maarten/.julia/packages/OptimKit/xpmbV/src/cg.jl:100\n"
     ]
    },
    {
     "name": "stderr",
     "output_type": "stream",
     "text": [
      "┌ Info: CG: iter    3: f = -108.492454212405, ‖∇f‖ = 1.5347e-01, α = 5.71e-02, β = 1.87e-01, nfg = 3\n",
      "└ @ OptimKit /home/maarten/.julia/packages/OptimKit/xpmbV/src/cg.jl:83\n"
     ]
    },
    {
     "name": "stderr",
     "output_type": "stream",
     "text": [
      "┌ Info: CG: initializing with f = -108.493545336669, ‖∇f‖ = 1.8500e-02\n",
      "└ @ OptimKit /home/maarten/.julia/packages/OptimKit/xpmbV/src/cg.jl:39\n"
     ]
    },
    {
     "name": "stderr",
     "output_type": "stream",
     "text": [
      "┌ Info: CG: converged after 1 iterations: f = -108.493643183213, ‖∇f‖ = 1.4025e-02\n",
      "└ @ OptimKit /home/maarten/.julia/packages/OptimKit/xpmbV/src/cg.jl:100\n"
     ]
    },
    {
     "name": "stderr",
     "output_type": "stream",
     "text": [
      "┌ Info: CG: iter    4: f = -108.493643183212, ‖∇f‖ = 1.8753e-01, α = 8.61e-02, β = 6.97e-01, nfg = 2\n",
      "└ @ OptimKit /home/maarten/.julia/packages/OptimKit/xpmbV/src/cg.jl:83\n"
     ]
    },
    {
     "name": "stderr",
     "output_type": "stream",
     "text": [
      "┌ Info: CG: initializing with f = -108.494674258066, ‖∇f‖ = 3.0196e-02\n",
      "└ @ OptimKit /home/maarten/.julia/packages/OptimKit/xpmbV/src/cg.jl:39\n"
     ]
    },
    {
     "name": "stderr",
     "output_type": "stream",
     "text": [
      "┌ Info: CG: converged after 1 iterations: f = -108.494711920499, ‖∇f‖ = 7.5439e-03\n",
      "└ @ OptimKit /home/maarten/.julia/packages/OptimKit/xpmbV/src/cg.jl:100\n"
     ]
    },
    {
     "name": "stderr",
     "output_type": "stream",
     "text": [
      "┌ Info: CG: iter    5: f = -108.494711920499, ‖∇f‖ = 2.1539e-01, α = 5.92e-02, β = 1.47e+00, nfg = 2\n",
      "└ @ OptimKit /home/maarten/.julia/packages/OptimKit/xpmbV/src/cg.jl:83\n"
     ]
    },
    {
     "name": "stderr",
     "output_type": "stream",
     "text": [
      "┌ Info: CG: initializing with f = -108.496049717275, ‖∇f‖ = 2.0363e-02\n",
      "└ @ OptimKit /home/maarten/.julia/packages/OptimKit/xpmbV/src/cg.jl:39\n"
     ]
    },
    {
     "name": "stderr",
     "output_type": "stream",
     "text": [
      "┌ Info: CG: converged after 1 iterations: f = -108.496050280148, ‖∇f‖ = 1.9108e-02\n",
      "└ @ OptimKit /home/maarten/.julia/packages/OptimKit/xpmbV/src/cg.jl:100\n"
     ]
    },
    {
     "name": "stderr",
     "output_type": "stream",
     "text": [
      "┌ Info: CG: iter    6: f = -108.496050280148, ‖∇f‖ = 1.5786e-01, α = 5.85e-02, β = 1.17e+00, nfg = 2\n",
      "└ @ OptimKit /home/maarten/.julia/packages/OptimKit/xpmbV/src/cg.jl:83\n"
     ]
    },
    {
     "name": "stderr",
     "output_type": "stream",
     "text": [
      "┌ Info: CG: initializing with f = -108.496625360989, ‖∇f‖ = 1.8787e-02\n",
      "└ @ OptimKit /home/maarten/.julia/packages/OptimKit/xpmbV/src/cg.jl:39\n"
     ]
    },
    {
     "name": "stderr",
     "output_type": "stream",
     "text": [
      "┌ Info: CG: converged after 1 iterations: f = -108.496631275435, ‖∇f‖ = 1.0699e-02\n",
      "└ @ OptimKit /home/maarten/.julia/packages/OptimKit/xpmbV/src/cg.jl:100\n"
     ]
    },
    {
     "name": "stderr",
     "output_type": "stream",
     "text": [
      "┌ Info: CG: iter    7: f = -108.496631275435, ‖∇f‖ = 1.0656e-01, α = 4.64e-02, β = 5.41e-01, nfg = 2\n",
      "└ @ OptimKit /home/maarten/.julia/packages/OptimKit/xpmbV/src/cg.jl:83\n"
     ]
    },
    {
     "name": "stderr",
     "output_type": "stream",
     "text": [
      "┌ Info: CG: initializing with f = -108.497007751384, ‖∇f‖ = 1.1317e-02\n",
      "└ @ OptimKit /home/maarten/.julia/packages/OptimKit/xpmbV/src/cg.jl:39\n"
     ]
    },
    {
     "name": "stderr",
     "output_type": "stream",
     "text": [
      "┌ Info: CG: converged after 1 iterations: f = -108.497012886045, ‖∇f‖ = 1.5102e-02\n",
      "└ @ OptimKit /home/maarten/.julia/packages/OptimKit/xpmbV/src/cg.jl:100\n"
     ]
    },
    {
     "name": "stderr",
     "output_type": "stream",
     "text": [
      "┌ Info: CG: iter    8: f = -108.497012886044, ‖∇f‖ = 1.2250e-01, α = 6.88e-02, β = 4.84e-01, nfg = 2\n",
      "└ @ OptimKit /home/maarten/.julia/packages/OptimKit/xpmbV/src/cg.jl:83\n"
     ]
    },
    {
     "name": "stderr",
     "output_type": "stream",
     "text": [
      "┌ Info: CG: initializing with f = -108.497562119239, ‖∇f‖ = 2.1767e-02\n",
      "└ @ OptimKit /home/maarten/.julia/packages/OptimKit/xpmbV/src/cg.jl:39\n"
     ]
    },
    {
     "name": "stderr",
     "output_type": "stream",
     "text": [
      "┌ Info: CG: converged after 1 iterations: f = -108.497572164154, ‖∇f‖ = 1.6239e-02\n",
      "└ @ OptimKit /home/maarten/.julia/packages/OptimKit/xpmbV/src/cg.jl:100\n"
     ]
    },
    {
     "name": "stderr",
     "output_type": "stream",
     "text": [
      "┌ Info: CG: iter    9: f = -108.497572164154, ‖∇f‖ = 1.5190e-01, α = 7.70e-02, β = 1.25e+00, nfg = 2\n",
      "└ @ OptimKit /home/maarten/.julia/packages/OptimKit/xpmbV/src/cg.jl:83\n"
     ]
    },
    {
     "name": "stderr",
     "output_type": "stream",
     "text": [
      "┌ Info: CG: initializing with f = -108.498139796190, ‖∇f‖ = 2.9330e-02\n",
      "└ @ OptimKit /home/maarten/.julia/packages/OptimKit/xpmbV/src/cg.jl:39\n"
     ]
    },
    {
     "name": "stderr",
     "output_type": "stream",
     "text": [
      "┌ Info: CG: converged after 1 iterations: f = -108.498157712290, ‖∇f‖ = 2.0649e-02\n",
      "└ @ OptimKit /home/maarten/.julia/packages/OptimKit/xpmbV/src/cg.jl:100\n"
     ]
    },
    {
     "name": "stderr",
     "output_type": "stream",
     "text": [
      "┌ Info: CG: iter   10: f = -108.498157712290, ‖∇f‖ = 1.3479e-01, α = 5.07e-02, β = 1.64e+00, nfg = 2\n",
      "└ @ OptimKit /home/maarten/.julia/packages/OptimKit/xpmbV/src/cg.jl:83\n"
     ]
    },
    {
     "name": "stderr",
     "output_type": "stream",
     "text": [
      "┌ Info: CG: initializing with f = -108.498661643539, ‖∇f‖ = 3.5898e-02\n",
      "└ @ OptimKit /home/maarten/.julia/packages/OptimKit/xpmbV/src/cg.jl:39\n"
     ]
    },
    {
     "name": "stderr",
     "output_type": "stream",
     "text": [
      "┌ Info: CG: converged after 1 iterations: f = -108.498687400123, ‖∇f‖ = 2.6271e-02\n",
      "└ @ OptimKit /home/maarten/.julia/packages/OptimKit/xpmbV/src/cg.jl:100\n"
     ]
    },
    {
     "name": "stderr",
     "output_type": "stream",
     "text": [
      "┌ Info: CG: iter   11: f = -108.498687400123, ‖∇f‖ = 1.0487e-01, α = 5.47e-02, β = 8.63e-01, nfg = 2\n",
      "└ @ OptimKit /home/maarten/.julia/packages/OptimKit/xpmbV/src/cg.jl:83\n"
     ]
    },
    {
     "name": "stderr",
     "output_type": "stream",
     "text": [
      "┌ Info: CG: initializing with f = -108.498924935526, ‖∇f‖ = 2.4387e-02\n",
      "└ @ OptimKit /home/maarten/.julia/packages/OptimKit/xpmbV/src/cg.jl:39\n"
     ]
    },
    {
     "name": "stderr",
     "output_type": "stream",
     "text": [
      "┌ Info: CG: converged after 1 iterations: f = -108.498946011654, ‖∇f‖ = 3.1053e-02\n",
      "└ @ OptimKit /home/maarten/.julia/packages/OptimKit/xpmbV/src/cg.jl:100\n"
     ]
    },
    {
     "name": "stderr",
     "output_type": "stream",
     "text": [
      "┌ Info: CG: iter   12: f = -108.498946011654, ‖∇f‖ = 8.7458e-02, α = 4.13e-02, β = 6.71e-01, nfg = 2\n",
      "└ @ OptimKit /home/maarten/.julia/packages/OptimKit/xpmbV/src/cg.jl:83\n"
     ]
    },
    {
     "name": "stderr",
     "output_type": "stream",
     "text": [
      "┌ Info: CG: initializing with f = -108.499101306204, ‖∇f‖ = 2.1981e-02\n",
      "└ @ OptimKit /home/maarten/.julia/packages/OptimKit/xpmbV/src/cg.jl:39\n"
     ]
    },
    {
     "name": "stderr",
     "output_type": "stream",
     "text": [
      "┌ Info: CG: converged after 1 iterations: f = -108.499120209489, ‖∇f‖ = 3.0203e-02\n",
      "└ @ OptimKit /home/maarten/.julia/packages/OptimKit/xpmbV/src/cg.jl:100\n"
     ]
    },
    {
     "name": "stderr",
     "output_type": "stream",
     "text": [
      "┌ Info: CG: iter   13: f = -108.499120209488, ‖∇f‖ = 6.8536e-02, α = 3.71e-02, β = 7.61e-01, nfg = 2\n",
      "└ @ OptimKit /home/maarten/.julia/packages/OptimKit/xpmbV/src/cg.jl:83\n"
     ]
    },
    {
     "name": "stderr",
     "output_type": "stream",
     "text": [
      "┌ Info: CG: initializing with f = -108.499237791453, ‖∇f‖ = 2.6066e-02\n",
      "└ @ OptimKit /home/maarten/.julia/packages/OptimKit/xpmbV/src/cg.jl:39\n"
     ]
    },
    {
     "name": "stderr",
     "output_type": "stream",
     "text": [
      "┌ Info: CG: converged after 1 iterations: f = -108.499253944363, ‖∇f‖ = 2.3400e-02\n",
      "└ @ OptimKit /home/maarten/.julia/packages/OptimKit/xpmbV/src/cg.jl:100\n"
     ]
    },
    {
     "name": "stderr",
     "output_type": "stream",
     "text": [
      "┌ Info: CG: iter   14: f = -108.499253944363, ‖∇f‖ = 7.0543e-02, α = 4.07e-02, β = 6.78e-01, nfg = 2\n",
      "└ @ OptimKit /home/maarten/.julia/packages/OptimKit/xpmbV/src/cg.jl:83\n"
     ]
    },
    {
     "name": "stderr",
     "output_type": "stream",
     "text": [
      "┌ Info: CG: initializing with f = -108.499360079638, ‖∇f‖ = 3.2588e-02\n",
      "└ @ OptimKit /home/maarten/.julia/packages/OptimKit/xpmbV/src/cg.jl:39\n"
     ]
    },
    {
     "name": "stderr",
     "output_type": "stream",
     "text": [
      "┌ Info: CG: converged after 1 iterations: f = -108.499379962179, ‖∇f‖ = 2.1932e-02\n",
      "└ @ OptimKit /home/maarten/.julia/packages/OptimKit/xpmbV/src/cg.jl:100\n"
     ]
    },
    {
     "name": "stderr",
     "output_type": "stream",
     "text": [
      "┌ Info: CG: iter   15: f = -108.499379962179, ‖∇f‖ = 6.0401e-02, α = 3.08e-02, β = 1.08e+00, nfg = 2\n",
      "└ @ OptimKit /home/maarten/.julia/packages/OptimKit/xpmbV/src/cg.jl:83\n"
     ]
    },
    {
     "name": "stderr",
     "output_type": "stream",
     "text": [
      "┌ Info: CG: initializing with f = -108.499460915276, ‖∇f‖ = 3.0315e-02\n",
      "└ @ OptimKit /home/maarten/.julia/packages/OptimKit/xpmbV/src/cg.jl:39\n"
     ]
    },
    {
     "name": "stderr",
     "output_type": "stream",
     "text": [
      "┌ Info: CG: converged after 1 iterations: f = -108.499478492007, ‖∇f‖ = 2.0908e-02\n",
      "└ @ OptimKit /home/maarten/.julia/packages/OptimKit/xpmbV/src/cg.jl:100\n"
     ]
    },
    {
     "name": "stderr",
     "output_type": "stream",
     "text": [
      "┌ Info: CG: iter   16: f = -108.499478492007, ‖∇f‖ = 6.0044e-02, α = 2.54e-02, β = 9.43e-01, nfg = 2\n",
      "└ @ OptimKit /home/maarten/.julia/packages/OptimKit/xpmbV/src/cg.jl:83\n"
     ]
    },
    {
     "name": "stderr",
     "output_type": "stream",
     "text": [
      "┌ Info: CG: initializing with f = -108.499552074954, ‖∇f‖ = 2.8657e-02\n",
      "└ @ OptimKit /home/maarten/.julia/packages/OptimKit/xpmbV/src/cg.jl:39\n"
     ]
    },
    {
     "name": "stderr",
     "output_type": "stream",
     "text": [
      "┌ Info: CG: converged after 1 iterations: f = -108.499567800408, ‖∇f‖ = 2.0362e-02\n",
      "└ @ OptimKit /home/maarten/.julia/packages/OptimKit/xpmbV/src/cg.jl:100\n"
     ]
    },
    {
     "name": "stderr",
     "output_type": "stream",
     "text": [
      "┌ Info: CG: iter   17: f = -108.499567800408, ‖∇f‖ = 5.0521e-02, α = 2.34e-02, β = 8.82e-01, nfg = 2\n",
      "└ @ OptimKit /home/maarten/.julia/packages/OptimKit/xpmbV/src/cg.jl:83\n"
     ]
    },
    {
     "name": "stderr",
     "output_type": "stream",
     "text": [
      "┌ Info: CG: initializing with f = -108.499625212743, ‖∇f‖ = 2.5640e-02\n",
      "└ @ OptimKit /home/maarten/.julia/packages/OptimKit/xpmbV/src/cg.jl:39\n"
     ]
    },
    {
     "name": "stderr",
     "output_type": "stream",
     "text": [
      "┌ Info: CG: converged after 1 iterations: f = -108.499638378767, ‖∇f‖ = 1.9924e-02\n",
      "└ @ OptimKit /home/maarten/.julia/packages/OptimKit/xpmbV/src/cg.jl:100\n"
     ]
    },
    {
     "name": "stderr",
     "output_type": "stream",
     "text": [
      "┌ Info: CG: iter   18: f = -108.499638378767, ‖∇f‖ = 4.9891e-02, α = 2.61e-02, β = 6.89e-01, nfg = 2\n",
      "└ @ OptimKit /home/maarten/.julia/packages/OptimKit/xpmbV/src/cg.jl:83\n"
     ]
    },
    {
     "name": "stderr",
     "output_type": "stream",
     "text": [
      "┌ Info: CG: initializing with f = -108.499689021776, ‖∇f‖ = 2.4527e-02\n",
      "└ @ OptimKit /home/maarten/.julia/packages/OptimKit/xpmbV/src/cg.jl:39\n"
     ]
    },
    {
     "name": "stderr",
     "output_type": "stream",
     "text": [
      "┌ Info: CG: converged after 1 iterations: f = -108.499701106124, ‖∇f‖ = 1.9464e-02\n",
      "└ @ OptimKit /home/maarten/.julia/packages/OptimKit/xpmbV/src/cg.jl:100\n"
     ]
    },
    {
     "name": "stderr",
     "output_type": "stream",
     "text": [
      "┌ Info: CG: iter   19: f = -108.499701106124, ‖∇f‖ = 4.3924e-02, α = 2.30e-02, β = 9.40e-01, nfg = 2\n",
      "└ @ OptimKit /home/maarten/.julia/packages/OptimKit/xpmbV/src/cg.jl:83\n"
     ]
    },
    {
     "name": "stderr",
     "output_type": "stream",
     "text": [
      "┌ Info: CG: initializing with f = -108.499742195328, ‖∇f‖ = 2.0760e-02\n",
      "└ @ OptimKit /home/maarten/.julia/packages/OptimKit/xpmbV/src/cg.jl:39\n"
     ]
    },
    {
     "name": "stderr",
     "output_type": "stream",
     "text": [
      "┌ Info: CG: converged after 1 iterations: f = -108.499752128028, ‖∇f‖ = 1.9214e-02\n",
      "└ @ OptimKit /home/maarten/.julia/packages/OptimKit/xpmbV/src/cg.jl:100\n"
     ]
    },
    {
     "name": "stderr",
     "output_type": "stream",
     "text": [
      "┌ Info: CG: iter   20: f = -108.499752128028, ‖∇f‖ = 3.9870e-02, α = 2.38e-02, β = 6.94e-01, nfg = 2\n",
      "└ @ OptimKit /home/maarten/.julia/packages/OptimKit/xpmbV/src/cg.jl:83\n"
     ]
    },
    {
     "name": "stderr",
     "output_type": "stream",
     "text": [
      "┌ Info: CG: initializing with f = -108.499783175583, ‖∇f‖ = 1.9503e-02\n",
      "└ @ OptimKit /home/maarten/.julia/packages/OptimKit/xpmbV/src/cg.jl:39\n"
     ]
    },
    {
     "name": "stderr",
     "output_type": "stream",
     "text": [
      "┌ Info: CG: converged after 1 iterations: f = -108.499792373986, ‖∇f‖ = 1.8847e-02\n",
      "└ @ OptimKit /home/maarten/.julia/packages/OptimKit/xpmbV/src/cg.jl:100\n"
     ]
    },
    {
     "name": "stderr",
     "output_type": "stream",
     "text": [
      "┌ Info: CG: iter   21: f = -108.499792373986, ‖∇f‖ = 3.8170e-02, α = 2.06e-02, β = 9.26e-01, nfg = 2\n",
      "└ @ OptimKit /home/maarten/.julia/packages/OptimKit/xpmbV/src/cg.jl:83\n"
     ]
    },
    {
     "name": "stderr",
     "output_type": "stream",
     "text": [
      "┌ Info: CG: initializing with f = -108.499819871181, ‖∇f‖ = 1.7322e-02\n",
      "└ @ OptimKit /home/maarten/.julia/packages/OptimKit/xpmbV/src/cg.jl:39\n"
     ]
    },
    {
     "name": "stderr",
     "output_type": "stream",
     "text": [
      "┌ Info: CG: converged after 1 iterations: f = -108.499828326996, ‖∇f‖ = 1.9079e-02\n",
      "└ @ OptimKit /home/maarten/.julia/packages/OptimKit/xpmbV/src/cg.jl:100\n"
     ]
    },
    {
     "name": "stderr",
     "output_type": "stream",
     "text": [
      "┌ Info: CG: iter   22: f = -108.499828326996, ‖∇f‖ = 3.0865e-02, α = 2.12e-02, β = 7.20e-01, nfg = 2\n",
      "└ @ OptimKit /home/maarten/.julia/packages/OptimKit/xpmbV/src/cg.jl:83\n"
     ]
    },
    {
     "name": "stderr",
     "output_type": "stream",
     "text": [
      "┌ Info: CG: initializing with f = -108.499845719663, ‖∇f‖ = 1.4006e-02\n",
      "└ @ OptimKit /home/maarten/.julia/packages/OptimKit/xpmbV/src/cg.jl:39\n"
     ]
    },
    {
     "name": "stderr",
     "output_type": "stream",
     "text": [
      "┌ Info: CG: converged after 1 iterations: f = -108.499855110494, ‖∇f‖ = 2.2624e-02\n",
      "└ @ OptimKit /home/maarten/.julia/packages/OptimKit/xpmbV/src/cg.jl:100\n"
     ]
    },
    {
     "name": "stderr",
     "output_type": "stream",
     "text": [
      "┌ Info: CG: iter   23: f = -108.499855110494, ‖∇f‖ = 3.3697e-02, α = 1.63e-02, β = 9.10e-01, nfg = 2\n",
      "└ @ OptimKit /home/maarten/.julia/packages/OptimKit/xpmbV/src/cg.jl:83\n"
     ]
    },
    {
     "name": "stderr",
     "output_type": "stream",
     "text": [
      "┌ Info: CG: initializing with f = -108.499870498448, ‖∇f‖ = 1.1834e-02\n",
      "└ @ OptimKit /home/maarten/.julia/packages/OptimKit/xpmbV/src/cg.jl:39\n"
     ]
    },
    {
     "name": "stderr",
     "output_type": "stream",
     "text": [
      "┌ Info: CG: iter    1: f = -108.499892218298, ‖∇f‖ = 3.6928e-02, α = 3.36e-01, β = 0.00e+00, nfg = 2\n",
      "└ @ OptimKit /home/maarten/.julia/packages/OptimKit/xpmbV/src/cg.jl:83\n"
     ]
    },
    {
     "name": "stderr",
     "output_type": "stream",
     "text": [
      "┌ Info: CG: iter    2: f = -108.500179748508, ‖∇f‖ = 5.0957e-02, α = 4.52e-01, β = 8.39e+00, nfg = 2\n",
      "└ @ OptimKit /home/maarten/.julia/packages/OptimKit/xpmbV/src/cg.jl:83\n"
     ]
    },
    {
     "name": "stderr",
     "output_type": "stream",
     "text": [
      "┌ Info: CG: iter    3: f = -108.500288526724, ‖∇f‖ = 4.8609e-02, α = 8.57e-02, β = 2.93e+00, nfg = 2\n",
      "└ @ OptimKit /home/maarten/.julia/packages/OptimKit/xpmbV/src/cg.jl:83\n"
     ]
    },
    {
     "name": "stderr",
     "output_type": "stream",
     "text": [
      "┌ Info: CG: iter    4: f = -108.500583511059, ‖∇f‖ = 8.4560e-02, α = 2.56e-01, β = 8.80e-01, nfg = 3\n",
      "└ @ OptimKit /home/maarten/.julia/packages/OptimKit/xpmbV/src/cg.jl:83\n"
     ]
    },
    {
     "name": "stderr",
     "output_type": "stream",
     "text": [
      "┌ Info: CG: iter    5: f = -108.501105029116, ‖∇f‖ = 9.3500e-02, α = 1.43e-01, β = 3.16e+00, nfg = 2\n",
      "└ @ OptimKit /home/maarten/.julia/packages/OptimKit/xpmbV/src/cg.jl:83\n"
     ]
    },
    {
     "name": "stderr",
     "output_type": "stream",
     "text": [
      "┌ Info: CG: iter    6: f = -108.501752720241, ‖∇f‖ = 2.1459e-01, α = 2.13e-01, β = 8.25e-01, nfg = 2\n",
      "└ @ OptimKit /home/maarten/.julia/packages/OptimKit/xpmbV/src/cg.jl:83\n",
      "┌ Warning: resorting to η\n",
      "└ @ OptimKit /home/maarten/.julia/packages/OptimKit/xpmbV/src/cg.jl:139\n"
     ]
    },
    {
     "name": "stderr",
     "output_type": "stream",
     "text": [
      "┌ Info: CG: converged after 7 iterations: f = -108.504279466280, ‖∇f‖ = 1.9471e-02\n",
      "└ @ OptimKit /home/maarten/.julia/packages/OptimKit/xpmbV/src/cg.jl:100\n"
     ]
    },
    {
     "name": "stderr",
     "output_type": "stream",
     "text": [
      "┌ Info: CG: iter   24: f = -108.504279466280, ‖∇f‖ = 5.1856e-02, α = 8.99e-03, β = 1.60e+00, nfg = 2\n",
      "└ @ OptimKit /home/maarten/.julia/packages/OptimKit/xpmbV/src/cg.jl:83\n"
     ]
    },
    {
     "name": "stderr",
     "output_type": "stream",
     "text": [
      "┌ Info: CG: initializing with f = -108.504290636379, ‖∇f‖ = 2.6919e-02\n",
      "└ @ OptimKit /home/maarten/.julia/packages/OptimKit/xpmbV/src/cg.jl:39\n"
     ]
    },
    {
     "name": "stderr",
     "output_type": "stream",
     "text": [
      "┌ Info: CG: converged after 1 iterations: f = -108.506529764169, ‖∇f‖ = 1.8005e-02\n",
      "└ @ OptimKit /home/maarten/.julia/packages/OptimKit/xpmbV/src/cg.jl:100\n"
     ]
    },
    {
     "name": "stderr",
     "output_type": "stream",
     "text": [
      "┌ Info: CG: iter   25: f = -108.506529764169, ‖∇f‖ = 6.8311e-02, α = 2.99e-03, β = 2.51e+00, nfg = 2\n",
      "└ @ OptimKit /home/maarten/.julia/packages/OptimKit/xpmbV/src/cg.jl:83\n"
     ]
    },
    {
     "name": "stderr",
     "output_type": "stream",
     "text": [
      "┌ Info: CG: initializing with f = -108.506554759556, ‖∇f‖ = 4.2909e-02\n",
      "└ @ OptimKit /home/maarten/.julia/packages/OptimKit/xpmbV/src/cg.jl:39\n"
     ]
    },
    {
     "name": "stderr",
     "output_type": "stream",
     "text": [
      "┌ Info: CG: converged after 1 iterations: f = -108.507096513166, ‖∇f‖ = 3.4984e-02\n",
      "└ @ OptimKit /home/maarten/.julia/packages/OptimKit/xpmbV/src/cg.jl:100\n"
     ]
    },
    {
     "name": "stderr",
     "output_type": "stream",
     "text": [
      "┌ Info: CG: iter   26: f = -108.507096513166, ‖∇f‖ = 7.4686e-02, α = 6.52e-03, β = 7.33e-01, nfg = 3\n",
      "└ @ OptimKit /home/maarten/.julia/packages/OptimKit/xpmbV/src/cg.jl:83\n"
     ]
    },
    {
     "name": "stderr",
     "output_type": "stream",
     "text": [
      "┌ Info: CG: initializing with f = -108.507187428982, ‖∇f‖ = 2.6214e-02\n",
      "└ @ OptimKit /home/maarten/.julia/packages/OptimKit/xpmbV/src/cg.jl:39\n"
     ]
    },
    {
     "name": "stderr",
     "output_type": "stream",
     "text": [
      "┌ Info: CG: converged after 1 iterations: f = -108.507316635829, ‖∇f‖ = 5.4479e-03\n",
      "└ @ OptimKit /home/maarten/.julia/packages/OptimKit/xpmbV/src/cg.jl:100\n"
     ]
    },
    {
     "name": "stderr",
     "output_type": "stream",
     "text": [
      "┌ Info: CG: iter   27: f = -108.507316635829, ‖∇f‖ = 7.0105e-02, α = 1.02e-02, β = 1.09e+00, nfg = 2\n",
      "└ @ OptimKit /home/maarten/.julia/packages/OptimKit/xpmbV/src/cg.jl:83\n"
     ]
    },
    {
     "name": "stderr",
     "output_type": "stream",
     "text": [
      "┌ Info: CG: initializing with f = -108.507460403533, ‖∇f‖ = 3.9405e-02\n",
      "└ @ OptimKit /home/maarten/.julia/packages/OptimKit/xpmbV/src/cg.jl:39\n"
     ]
    },
    {
     "name": "stderr",
     "output_type": "stream",
     "text": [
      "┌ Info: CG: converged after 1 iterations: f = -108.507493026413, ‖∇f‖ = 1.2990e-02\n",
      "└ @ OptimKit /home/maarten/.julia/packages/OptimKit/xpmbV/src/cg.jl:100\n"
     ]
    },
    {
     "name": "stderr",
     "output_type": "stream",
     "text": [
      "┌ Info: CG: iter   28: f = -108.507493026413, ‖∇f‖ = 6.3557e-02, α = 5.00e-02, β = 1.48e-01, nfg = 3\n",
      "└ @ OptimKit /home/maarten/.julia/packages/OptimKit/xpmbV/src/cg.jl:83\n"
     ]
    },
    {
     "name": "stderr",
     "output_type": "stream",
     "text": [
      "┌ Info: CG: initializing with f = -108.507611250754, ‖∇f‖ = 4.4830e-02\n",
      "└ @ OptimKit /home/maarten/.julia/packages/OptimKit/xpmbV/src/cg.jl:39\n"
     ]
    },
    {
     "ename": "CompositeException",
     "evalue": "TaskFailedException\n\n    nested task error: InterruptException:\n    Stacktrace:\n     [1] to_indices\n       @ ./indices.jl:356 [inlined]\n     [2] to_indices\n       @ ./indices.jl:344 [inlined]\n     [3] getindex(::Array{Float64, 4}, ::Int64, ::Function, ::Function, ::Vararg{Any})\n       @ Base ./abstractarray.jl:1296\n     [4] (::MPSKitExperimental.var\"#410#421\"{UnitRange{Int64}, UnitRange{Int64}, Vector{Matrix{Float64}}, Vector{Tuple{Int64, Int64}}})()\n       @ MPSKitExperimental ~/projects/MPSKitExperimental.jl/src/quantumchemistry/orbopt.jl:281\n     [5] lock(f::MPSKitExperimental.var\"#410#421\"{UnitRange{Int64}, UnitRange{Int64}, Vector{Matrix{Float64}}, Vector{Tuple{Int64, Int64}}}, l::SpinLock)\n       @ Base ./lock.jl:229\n     [6] macro expansion\n       @ ~/projects/MPSKitExperimental.jl/src/quantumchemistry/orbopt.jl:278 [inlined]\n     [7] (::MPSKitExperimental.var\"#1952#threadsfor_fun#416\"{MPSKitExperimental.var\"#1952#threadsfor_fun#406#417\"{CASSCF_Ham{BasisSet{GaussianBasis.LCint, Molecules.Atom, SphericalShell}, Matrix{Float64}, UnitRange{Int64}}, Vector{Int64}, Vector{Int64}, Vector{Matrix{Float64}}, Vector{Matrix{Float64}}, Matrix{SpinLock}, Vector{Tuple{Int64, Int64}}, UnitRange{Int64}, Matrix{Float64}, Vector{NTuple{4, Int64}}}})(tid::Int64; onethread::Bool)\n       @ MPSKitExperimental ./threadingconstructs.jl:206\n     [8] #1952#threadsfor_fun\n       @ ./threadingconstructs.jl:173 [inlined]\n     [9] (::Base.Threads.var\"#1#2\"{MPSKitExperimental.var\"#1952#threadsfor_fun#416\"{MPSKitExperimental.var\"#1952#threadsfor_fun#406#417\"{CASSCF_Ham{BasisSet{GaussianBasis.LCint, Molecules.Atom, SphericalShell}, Matrix{Float64}, UnitRange{Int64}}, Vector{Int64}, Vector{Int64}, Vector{Matrix{Float64}}, Vector{Matrix{Float64}}, Matrix{SpinLock}, Vector{Tuple{Int64, Int64}}, UnitRange{Int64}, Matrix{Float64}, Vector{NTuple{4, Int64}}}}, Int64})()\n       @ Base.Threads ./threadingconstructs.jl:145",
     "output_type": "error",
     "traceback": [
      "TaskFailedException\n",
      "\n",
      "    nested task error: InterruptException:\n",
      "    Stacktrace:\n",
      "     [1] to_indices\n",
      "       @ ./indices.jl:356 [inlined]\n",
      "     [2] to_indices\n",
      "       @ ./indices.jl:344 [inlined]\n",
      "     [3] getindex(::Array{Float64, 4}, ::Int64, ::Function, ::Function, ::Vararg{Any})\n",
      "       @ Base ./abstractarray.jl:1296\n",
      "     [4] (::MPSKitExperimental.var\"#410#421\"{UnitRange{Int64}, UnitRange{Int64}, Vector{Matrix{Float64}}, Vector{Tuple{Int64, Int64}}})()\n",
      "       @ MPSKitExperimental ~/projects/MPSKitExperimental.jl/src/quantumchemistry/orbopt.jl:281\n",
      "     [5] lock(f::MPSKitExperimental.var\"#410#421\"{UnitRange{Int64}, UnitRange{Int64}, Vector{Matrix{Float64}}, Vector{Tuple{Int64, Int64}}}, l::SpinLock)\n",
      "       @ Base ./lock.jl:229\n",
      "     [6] macro expansion\n",
      "       @ ~/projects/MPSKitExperimental.jl/src/quantumchemistry/orbopt.jl:278 [inlined]\n",
      "     [7] (::MPSKitExperimental.var\"#1952#threadsfor_fun#416\"{MPSKitExperimental.var\"#1952#threadsfor_fun#406#417\"{CASSCF_Ham{BasisSet{GaussianBasis.LCint, Molecules.Atom, SphericalShell}, Matrix{Float64}, UnitRange{Int64}}, Vector{Int64}, Vector{Int64}, Vector{Matrix{Float64}}, Vector{Matrix{Float64}}, Matrix{SpinLock}, Vector{Tuple{Int64, Int64}}, UnitRange{Int64}, Matrix{Float64}, Vector{NTuple{4, Int64}}}})(tid::Int64; onethread::Bool)\n",
      "       @ MPSKitExperimental ./threadingconstructs.jl:206\n",
      "     [8] #1952#threadsfor_fun\n",
      "       @ ./threadingconstructs.jl:173 [inlined]\n",
      "     [9] (::Base.Threads.var\"#1#2\"{MPSKitExperimental.var\"#1952#threadsfor_fun#416\"{MPSKitExperimental.var\"#1952#threadsfor_fun#406#417\"{CASSCF_Ham{BasisSet{GaussianBasis.LCint, Molecules.Atom, SphericalShell}, Matrix{Float64}, UnitRange{Int64}}, Vector{Int64}, Vector{Int64}, Vector{Matrix{Float64}}, Vector{Matrix{Float64}}, Matrix{SpinLock}, Vector{Tuple{Int64, Int64}}, UnitRange{Int64}, Matrix{Float64}, Vector{NTuple{4, Int64}}}}, Int64})()\n",
      "       @ Base.Threads ./threadingconstructs.jl:145\n",
      "\n",
      "Stacktrace:\n",
      "  [1] threading_run(fun::MPSKitExperimental.var\"#1952#threadsfor_fun#416\"{MPSKitExperimental.var\"#1952#threadsfor_fun#406#417\"{CASSCF_Ham{BasisSet{GaussianBasis.LCint, Molecules.Atom, SphericalShell}, Matrix{Float64}, UnitRange{Int64}}, Vector{Int64}, Vector{Int64}, Vector{Matrix{Float64}}, Vector{Matrix{Float64}}, Matrix{SpinLock}, Vector{Tuple{Int64, Int64}}, UnitRange{Int64}, Matrix{Float64}, Vector{NTuple{4, Int64}}}}, static::Bool)\n",
      "    @ Base.Threads ./threadingconstructs.jl:163\n",
      "  [2] macro expansion\n",
      "    @ ./threadingconstructs.jl:211 [inlined]\n",
      "  [3] get_A_B(h::CASSCF_Ham{BasisSet{GaussianBasis.LCint, Molecules.Atom, SphericalShell}, Matrix{Float64}, UnitRange{Int64}})\n",
      "    @ MPSKitExperimental ~/projects/MPSKitExperimental.jl/src/quantumchemistry/orbopt.jl:255\n",
      "  [4] orbmanpoint\n",
      "    @ ~/projects/MPSKitExperimental.jl/src/quantumchemistry/orbopt.jl:31 [inlined]\n",
      "  [5] orb_retract\n",
      "    @ ~/projects/MPSKitExperimental.jl/src/quantumchemistry/orbopt.jl:226 [inlined]\n",
      "  [6] takestep(iter::OptimKit.HagerZhangLineSearchIterator{Float64, typeof(MPSKitExperimental.orb_cfun), typeof(MPSKitExperimental.orb_retract), typeof(MPSKitExperimental.orb_inner), Tuple{CASSCF_Ham{BasisSet{GaussianBasis.LCint, Molecules.Atom, SphericalShell}, Matrix{Float64}, UnitRange{Int64}}, Array{Float64, 4}, Matrix{Float64}, Tuple{Vector{Tuple{Int64, Int64}}, Vector{Matrix{Float64}}, Vector{Matrix{Float64}}}, Tuple{Matrix{Float64}, MPSKitExperimental.var\"#apply_hessian#401\"{Vector{Matrix{Float64}}, Vector{Matrix{Float64}}, Vector{Tuple{Int64, Int64}}, Matrix{Float64}, Matrix{Float64}, Array{Float64, 4}, UnitRange{Int64}}}}, Matrix{Float64}, Rational{Int64}}, α::Float64)\n",
      "    @ OptimKit ~/.julia/packages/OptimKit/xpmbV/src/linesearches.jl:46\n",
      "  [7] update(iter::OptimKit.HagerZhangLineSearchIterator{Float64, typeof(MPSKitExperimental.orb_cfun), typeof(MPSKitExperimental.orb_retract), typeof(MPSKitExperimental.orb_inner), Tuple{CASSCF_Ham{BasisSet{GaussianBasis.LCint, Molecules.Atom, SphericalShell}, Matrix{Float64}, UnitRange{Int64}}, Array{Float64, 4}, Matrix{Float64}, Tuple{Vector{Tuple{Int64, Int64}}, Vector{Matrix{Float64}}, Vector{Matrix{Float64}}}, Tuple{Matrix{Float64}, MPSKitExperimental.var\"#apply_hessian#401\"{Vector{Matrix{Float64}}, Vector{Matrix{Float64}}, Vector{Tuple{Int64, Int64}}, Matrix{Float64}, Matrix{Float64}, Array{Float64, 4}, UnitRange{Int64}}}}, Matrix{Float64}, Rational{Int64}}, a::OptimKit.LineSearchPoint{Float64, Tuple{CASSCF_Ham{BasisSet{GaussianBasis.LCint, Molecules.Atom, SphericalShell}, Matrix{Float64}, UnitRange{Int64}}, Array{Float64, 4}, Matrix{Float64}, Tuple{Vector{Tuple{Int64, Int64}}, Vector{Matrix{Float64}}, Vector{Matrix{Float64}}}, Tuple{Matrix{Float64}, MPSKitExperimental.var\"#apply_hessian#401\"{Vector{Matrix{Float64}}, Vector{Matrix{Float64}}, Vector{Tuple{Int64, Int64}}, Matrix{Float64}, Matrix{Float64}, Array{Float64, 4}, UnitRange{Int64}}}}, Matrix{Float64}}, b::OptimKit.LineSearchPoint{Float64, Tuple{CASSCF_Ham{BasisSet{GaussianBasis.LCint, Molecules.Atom, SphericalShell}, Matrix{Float64}, UnitRange{Int64}}, Array{Float64, 4}, Matrix{Float64}, Tuple{Vector{Tuple{Int64, Int64}}, Vector{Matrix{Float64}}, Vector{Matrix{Float64}}}, Tuple{Matrix{Float64}, MPSKitExperimental.var\"#apply_hessian#401\"{Vector{Matrix{Float64}}, Vector{Matrix{Float64}}, Vector{Tuple{Int64, Int64}}, Matrix{Float64}, Matrix{Float64}, Array{Float64, 4}, UnitRange{Int64}}}}, Matrix{Float64}}, αc::Float64)\n",
      "    @ OptimKit ~/.julia/packages/OptimKit/xpmbV/src/linesearches.jl:78\n",
      "  [8] iterate(iter::OptimKit.HagerZhangLineSearchIterator{Float64, typeof(MPSKitExperimental.orb_cfun), typeof(MPSKitExperimental.orb_retract), typeof(MPSKitExperimental.orb_inner), Tuple{CASSCF_Ham{BasisSet{GaussianBasis.LCint, Molecules.Atom, SphericalShell}, Matrix{Float64}, UnitRange{Int64}}, Array{Float64, 4}, Matrix{Float64}, Tuple{Vector{Tuple{Int64, Int64}}, Vector{Matrix{Float64}}, Vector{Matrix{Float64}}}, Tuple{Matrix{Float64}, MPSKitExperimental.var\"#apply_hessian#401\"{Vector{Matrix{Float64}}, Vector{Matrix{Float64}}, Vector{Tuple{Int64, Int64}}, Matrix{Float64}, Matrix{Float64}, Array{Float64, 4}, UnitRange{Int64}}}}, Matrix{Float64}, Rational{Int64}}, state::Tuple{OptimKit.LineSearchPoint{Float64, Tuple{CASSCF_Ham{BasisSet{GaussianBasis.LCint, Molecules.Atom, SphericalShell}, Matrix{Float64}, UnitRange{Int64}}, Array{Float64, 4}, Matrix{Float64}, Tuple{Vector{Tuple{Int64, Int64}}, Vector{Matrix{Float64}}, Vector{Matrix{Float64}}}, Tuple{Matrix{Float64}, MPSKitExperimental.var\"#apply_hessian#401\"{Vector{Matrix{Float64}}, Vector{Matrix{Float64}}, Vector{Tuple{Int64, Int64}}, Matrix{Float64}, Matrix{Float64}, Array{Float64, 4}, UnitRange{Int64}}}}, Matrix{Float64}}, OptimKit.LineSearchPoint{Float64, Tuple{CASSCF_Ham{BasisSet{GaussianBasis.LCint, Molecules.Atom, SphericalShell}, Matrix{Float64}, UnitRange{Int64}}, Array{Float64, 4}, Matrix{Float64}, Tuple{Vector{Tuple{Int64, Int64}}, Vector{Matrix{Float64}}, Vector{Matrix{Float64}}}, Tuple{Matrix{Float64}, MPSKitExperimental.var\"#apply_hessian#401\"{Vector{Matrix{Float64}}, Vector{Matrix{Float64}}, Vector{Tuple{Int64, Int64}}, Matrix{Float64}, Matrix{Float64}, Array{Float64, 4}, UnitRange{Int64}}}}, Matrix{Float64}}, Int64, Bool})\n",
      "    @ OptimKit ~/.julia/packages/OptimKit/xpmbV/src/linesearches.jl:209\n",
      "  [9] (::OptimKit.HagerZhangLineSearch{Rational{Int64}})(fg::Function, x₀::Tuple{CASSCF_Ham{BasisSet{GaussianBasis.LCint, Molecules.Atom, SphericalShell}, Matrix{Float64}, UnitRange{Int64}}, Array{Float64, 4}, Matrix{Float64}, Tuple{Vector{Tuple{Int64, Int64}}, Vector{Matrix{Float64}}, Vector{Matrix{Float64}}}, Tuple{Matrix{Float64}, MPSKitExperimental.var\"#apply_hessian#401\"{Vector{Matrix{Float64}}, Vector{Matrix{Float64}}, Vector{Tuple{Int64, Int64}}, Matrix{Float64}, Matrix{Float64}, Array{Float64, 4}, UnitRange{Int64}}}}, η₀::Matrix{Float64}, fg₀::Tuple{Float64, Matrix{Float64}}; retract::Function, inner::typeof(MPSKitExperimental.orb_inner), initialguess::Float64, acceptfirst::Bool)\n",
      "    @ OptimKit ~/.julia/packages/OptimKit/xpmbV/src/linesearches.jl:276\n",
      " [10] optimize(fg::typeof(MPSKitExperimental.orb_cfun), x::Tuple{CASSCF_Ham{BasisSet{GaussianBasis.LCint, Molecules.Atom, SphericalShell}, Matrix{Float64}, UnitRange{Int64}}, Array{Float64, 4}, Matrix{Float64}, Tuple{Vector{Tuple{Int64, Int64}}, Vector{Matrix{Float64}}, Vector{Matrix{Float64}}}, Tuple{Matrix{Float64}, MPSKitExperimental.var\"#apply_hessian#401\"{Vector{Matrix{Float64}}, Vector{Matrix{Float64}}, Vector{Tuple{Int64, Int64}}, Matrix{Float64}, Matrix{Float64}, Array{Float64, 4}, UnitRange{Int64}}}}, alg::OptimKit.ConjugateGradient{OptimKit.HagerZhang{Rational{Int64}}, Float64, OptimKit.HagerZhangLineSearch{Rational{Int64}}}; precondition::typeof(MPSKitExperimental.orb_precondition), finalize!::typeof(OptimKit._finalize!), retract::Function, inner::typeof(MPSKitExperimental.orb_inner), transport!::typeof(MPSKitExperimental.orb_transport!), scale!::typeof(MPSKitExperimental.orb_scale!), add!::typeof(MPSKitExperimental.orb_add!), isometrictransport::Bool)\n",
      "    @ OptimKit ~/.julia/packages/OptimKit/xpmbV/src/cg.jl:68\n",
      " [11] orb_opt(ham::CASSCF_Ham{BasisSet{GaussianBasis.LCint, Molecules.Atom, SphericalShell}, Matrix{Float64}, UnitRange{Int64}}, dV::Array{Float64, 4}, dK::Matrix{Float64}; tol::Float64, maxiter::Int64)\n",
      "    @ MPSKitExperimental ~/projects/MPSKitExperimental.jl/src/quantumchemistry/orbopt.jl:17\n",
      " [12] orb_opt\n",
      "    @ ~/projects/MPSKitExperimental.jl/src/quantumchemistry/orbopt.jl:1 [inlined]\n",
      " [13] my_finalize!(x::Tuple{FiniteMPS{TensorMap{GradedSpace{TensorKit.ProductSector{Tuple{U1Irrep, SU2Irrep, FermionParity}}, TensorKit.SortedVectorDict{TensorKit.ProductSector{Tuple{U1Irrep, SU2Irrep, FermionParity}}, Int64}}, 2, 1, TensorKit.ProductSector{Tuple{U1Irrep, SU2Irrep, FermionParity}}, TensorKit.SortedVectorDict{TensorKit.ProductSector{Tuple{U1Irrep, SU2Irrep, FermionParity}}, Matrix{Float64}}, FusionTree{TensorKit.ProductSector{Tuple{U1Irrep, SU2Irrep, FermionParity}}, 2, 0, 1, Nothing}, FusionTree{TensorKit.ProductSector{Tuple{U1Irrep, SU2Irrep, FermionParity}}, 1, 0, 0, Nothing}}, TensorMap{GradedSpace{TensorKit.ProductSector{Tuple{U1Irrep, SU2Irrep, FermionParity}}, TensorKit.SortedVectorDict{TensorKit.ProductSector{Tuple{U1Irrep, SU2Irrep, FermionParity}}, Int64}}, 1, 1, TensorKit.ProductSector{Tuple{U1Irrep, SU2Irrep, FermionParity}}, TensorKit.SortedVectorDict{TensorKit.ProductSector{Tuple{U1Irrep, SU2Irrep, FermionParity}}, Matrix{Float64}}, FusionTree{TensorKit.ProductSector{Tuple{U1Irrep, SU2Irrep, FermionParity}}, 1, 0, 0, Nothing}, FusionTree{TensorKit.ProductSector{Tuple{U1Irrep, SU2Irrep, FermionParity}}, 1, 0, 0, Nothing}}}, CASSCF_Ham{BasisSet{GaussianBasis.LCint, Molecules.Atom, SphericalShell}, Matrix{Float64}, UnitRange{Int64}}, Vector{TensorMap{GradedSpace{TensorKit.ProductSector{Tuple{U1Irrep, SU2Irrep, FermionParity}}, TensorKit.SortedVectorDict{TensorKit.ProductSector{Tuple{U1Irrep, SU2Irrep, FermionParity}}, Int64}}, 1, 1, TensorKit.ProductSector{Tuple{U1Irrep, SU2Irrep, FermionParity}}, TensorKit.SortedVectorDict{TensorKit.ProductSector{Tuple{U1Irrep, SU2Irrep, FermionParity}}, Matrix{Float64}}, FusionTree{TensorKit.ProductSector{Tuple{U1Irrep, SU2Irrep, FermionParity}}, 1, 0, 0, Nothing}, FusionTree{TensorKit.ProductSector{Tuple{U1Irrep, SU2Irrep, FermionParity}}, 1, 0, 0, Nothing}}}, Vector{TensorKitManifolds.Grassmann.GrassmannTangent{TensorMap{GradedSpace{TensorKit.ProductSector{Tuple{U1Irrep, SU2Irrep, FermionParity}}, TensorKit.SortedVectorDict{TensorKit.ProductSector{Tuple{U1Irrep, SU2Irrep, FermionParity}}, Int64}}, 2, 1, TensorKit.ProductSector{Tuple{U1Irrep, SU2Irrep, FermionParity}}, TensorKit.SortedVectorDict{TensorKit.ProductSector{Tuple{U1Irrep, SU2Irrep, FermionParity}}, Matrix{Float64}}, FusionTree{TensorKit.ProductSector{Tuple{U1Irrep, SU2Irrep, FermionParity}}, 2, 0, 1, Nothing}, FusionTree{TensorKit.ProductSector{Tuple{U1Irrep, SU2Irrep, FermionParity}}, 1, 0, 0, Nothing}}, TensorMap{GradedSpace{TensorKit.ProductSector{Tuple{U1Irrep, SU2Irrep, FermionParity}}, TensorKit.SortedVectorDict{TensorKit.ProductSector{Tuple{U1Irrep, SU2Irrep, FermionParity}}, Int64}}, 2, 1, TensorKit.ProductSector{Tuple{U1Irrep, SU2Irrep, FermionParity}}, TensorKit.SortedVectorDict{TensorKit.ProductSector{Tuple{U1Irrep, SU2Irrep, FermionParity}}, Matrix{Float64}}, FusionTree{TensorKit.ProductSector{Tuple{U1Irrep, SU2Irrep, FermionParity}}, 2, 0, 1, Nothing}, FusionTree{TensorKit.ProductSector{Tuple{U1Irrep, SU2Irrep, FermionParity}}, 1, 0, 0, Nothing}}, TensorMap{GradedSpace{TensorKit.ProductSector{Tuple{U1Irrep, SU2Irrep, FermionParity}}, TensorKit.SortedVectorDict{TensorKit.ProductSector{Tuple{U1Irrep, SU2Irrep, FermionParity}}, Int64}}, 1, 1, TensorKit.ProductSector{Tuple{U1Irrep, SU2Irrep, FermionParity}}, TensorKit.SortedVectorDict{TensorKit.ProductSector{Tuple{U1Irrep, SU2Irrep, FermionParity}}, Matrix{Float64}}, FusionTree{TensorKit.ProductSector{Tuple{U1Irrep, SU2Irrep, FermionParity}}, 1, 0, 0, Nothing}, FusionTree{TensorKit.ProductSector{Tuple{U1Irrep, SU2Irrep, FermionParity}}, 1, 0, 0, Nothing}}, TensorMap{GradedSpace{TensorKit.ProductSector{Tuple{U1Irrep, SU2Irrep, FermionParity}}, TensorKit.SortedVectorDict{TensorKit.ProductSector{Tuple{U1Irrep, SU2Irrep, FermionParity}}, Int64}}, 1, 1, TensorKit.ProductSector{Tuple{U1Irrep, SU2Irrep, FermionParity}}, TensorKit.SortedVectorDict{TensorKit.ProductSector{Tuple{U1Irrep, SU2Irrep, FermionParity}}, Matrix{Float64}}, FusionTree{TensorKit.ProductSector{Tuple{U1Irrep, SU2Irrep, FermionParity}}, 1, 0, 0, Nothing}, FusionTree{TensorKit.ProductSector{Tuple{U1Irrep, SU2Irrep, FermionParity}}, 1, 0, 0, Nothing}}}}, Float64}, f::Float64, fg::Vector{MPSKit.GrassmannMPS.PrecGrad{TensorKitManifolds.Grassmann.GrassmannTangent{TensorMap{GradedSpace{TensorKit.ProductSector{Tuple{U1Irrep, SU2Irrep, FermionParity}}, TensorKit.SortedVectorDict{TensorKit.ProductSector{Tuple{U1Irrep, SU2Irrep, FermionParity}}, Int64}}, 2, 1, TensorKit.ProductSector{Tuple{U1Irrep, SU2Irrep, FermionParity}}, TensorKit.SortedVectorDict{TensorKit.ProductSector{Tuple{U1Irrep, SU2Irrep, FermionParity}}, Matrix{Float64}}, FusionTree{TensorKit.ProductSector{Tuple{U1Irrep, SU2Irrep, FermionParity}}, 2, 0, 1, Nothing}, FusionTree{TensorKit.ProductSector{Tuple{U1Irrep, SU2Irrep, FermionParity}}, 1, 0, 0, Nothing}}, TensorMap{GradedSpace{TensorKit.ProductSector{Tuple{U1Irrep, SU2Irrep, FermionParity}}, TensorKit.SortedVectorDict{TensorKit.ProductSector{Tuple{U1Irrep, SU2Irrep, FermionParity}}, Int64}}, 2, 1, TensorKit.ProductSector{Tuple{U1Irrep, SU2Irrep, FermionParity}}, TensorKit.SortedVectorDict{TensorKit.ProductSector{Tuple{U1Irrep, SU2Irrep, FermionParity}}, Matrix{Float64}}, FusionTree{TensorKit.ProductSector{Tuple{U1Irrep, SU2Irrep, FermionParity}}, 2, 0, 1, Nothing}, FusionTree{TensorKit.ProductSector{Tuple{U1Irrep, SU2Irrep, FermionParity}}, 1, 0, 0, Nothing}}, TensorMap{GradedSpace{TensorKit.ProductSector{Tuple{U1Irrep, SU2Irrep, FermionParity}}, TensorKit.SortedVectorDict{TensorKit.ProductSector{Tuple{U1Irrep, SU2Irrep, FermionParity}}, Int64}}, 1, 1, TensorKit.ProductSector{Tuple{U1Irrep, SU2Irrep, FermionParity}}, TensorKit.SortedVectorDict{TensorKit.ProductSector{Tuple{U1Irrep, SU2Irrep, FermionParity}}, Matrix{Float64}}, FusionTree{TensorKit.ProductSector{Tuple{U1Irrep, SU2Irrep, FermionParity}}, 1, 0, 0, Nothing}, FusionTree{TensorKit.ProductSector{Tuple{U1Irrep, SU2Irrep, FermionParity}}, 1, 0, 0, Nothing}}, TensorMap{GradedSpace{TensorKit.ProductSector{Tuple{U1Irrep, SU2Irrep, FermionParity}}, TensorKit.SortedVectorDict{TensorKit.ProductSector{Tuple{U1Irrep, SU2Irrep, FermionParity}}, Int64}}, 1, 1, TensorKit.ProductSector{Tuple{U1Irrep, SU2Irrep, FermionParity}}, TensorKit.SortedVectorDict{TensorKit.ProductSector{Tuple{U1Irrep, SU2Irrep, FermionParity}}, Matrix{Float64}}, FusionTree{TensorKit.ProductSector{Tuple{U1Irrep, SU2Irrep, FermionParity}}, 1, 0, 0, Nothing}, FusionTree{TensorKit.ProductSector{Tuple{U1Irrep, SU2Irrep, FermionParity}}, 1, 0, 0, Nothing}}}, TensorMap{GradedSpace{TensorKit.ProductSector{Tuple{U1Irrep, SU2Irrep, FermionParity}}, TensorKit.SortedVectorDict{TensorKit.ProductSector{Tuple{U1Irrep, SU2Irrep, FermionParity}}, Int64}}, 1, 1, TensorKit.ProductSector{Tuple{U1Irrep, SU2Irrep, FermionParity}}, TensorKit.SortedVectorDict{TensorKit.ProductSector{Tuple{U1Irrep, SU2Irrep, FermionParity}}, Matrix{Float64}}, FusionTree{TensorKit.ProductSector{Tuple{U1Irrep, SU2Irrep, FermionParity}}, 1, 0, 0, Nothing}, FusionTree{TensorKit.ProductSector{Tuple{U1Irrep, SU2Irrep, FermionParity}}, 1, 0, 0, Nothing}}}}, numiter::Int64)\n",
      "    @ MPSKitExperimental ~/projects/MPSKitExperimental.jl/src/quantumchemistry/grassmann_scf.jl:1365\n",
      " [14] optimize(fg::typeof(MPSKitExperimental.cfun), x::Tuple{FiniteMPS{TensorMap{GradedSpace{TensorKit.ProductSector{Tuple{U1Irrep, SU2Irrep, FermionParity}}, TensorKit.SortedVectorDict{TensorKit.ProductSector{Tuple{U1Irrep, SU2Irrep, FermionParity}}, Int64}}, 2, 1, TensorKit.ProductSector{Tuple{U1Irrep, SU2Irrep, FermionParity}}, TensorKit.SortedVectorDict{TensorKit.ProductSector{Tuple{U1Irrep, SU2Irrep, FermionParity}}, Matrix{Float64}}, FusionTree{TensorKit.ProductSector{Tuple{U1Irrep, SU2Irrep, FermionParity}}, 2, 0, 1, Nothing}, FusionTree{TensorKit.ProductSector{Tuple{U1Irrep, SU2Irrep, FermionParity}}, 1, 0, 0, Nothing}}, TensorMap{GradedSpace{TensorKit.ProductSector{Tuple{U1Irrep, SU2Irrep, FermionParity}}, TensorKit.SortedVectorDict{TensorKit.ProductSector{Tuple{U1Irrep, SU2Irrep, FermionParity}}, Int64}}, 1, 1, TensorKit.ProductSector{Tuple{U1Irrep, SU2Irrep, FermionParity}}, TensorKit.SortedVectorDict{TensorKit.ProductSector{Tuple{U1Irrep, SU2Irrep, FermionParity}}, Matrix{Float64}}, FusionTree{TensorKit.ProductSector{Tuple{U1Irrep, SU2Irrep, FermionParity}}, 1, 0, 0, Nothing}, FusionTree{TensorKit.ProductSector{Tuple{U1Irrep, SU2Irrep, FermionParity}}, 1, 0, 0, Nothing}}}, CASSCF_Ham{BasisSet{GaussianBasis.LCint, Molecules.Atom, SphericalShell}, Matrix{Float64}, UnitRange{Int64}}, Vector{TensorMap{GradedSpace{TensorKit.ProductSector{Tuple{U1Irrep, SU2Irrep, FermionParity}}, TensorKit.SortedVectorDict{TensorKit.ProductSector{Tuple{U1Irrep, SU2Irrep, FermionParity}}, Int64}}, 1, 1, TensorKit.ProductSector{Tuple{U1Irrep, SU2Irrep, FermionParity}}, TensorKit.SortedVectorDict{TensorKit.ProductSector{Tuple{U1Irrep, SU2Irrep, FermionParity}}, Matrix{Float64}}, FusionTree{TensorKit.ProductSector{Tuple{U1Irrep, SU2Irrep, FermionParity}}, 1, 0, 0, Nothing}, FusionTree{TensorKit.ProductSector{Tuple{U1Irrep, SU2Irrep, FermionParity}}, 1, 0, 0, Nothing}}}, Vector{TensorKitManifolds.Grassmann.GrassmannTangent{TensorMap{GradedSpace{TensorKit.ProductSector{Tuple{U1Irrep, SU2Irrep, FermionParity}}, TensorKit.SortedVectorDict{TensorKit.ProductSector{Tuple{U1Irrep, SU2Irrep, FermionParity}}, Int64}}, 2, 1, TensorKit.ProductSector{Tuple{U1Irrep, SU2Irrep, FermionParity}}, TensorKit.SortedVectorDict{TensorKit.ProductSector{Tuple{U1Irrep, SU2Irrep, FermionParity}}, Matrix{Float64}}, FusionTree{TensorKit.ProductSector{Tuple{U1Irrep, SU2Irrep, FermionParity}}, 2, 0, 1, Nothing}, FusionTree{TensorKit.ProductSector{Tuple{U1Irrep, SU2Irrep, FermionParity}}, 1, 0, 0, Nothing}}, TensorMap{GradedSpace{TensorKit.ProductSector{Tuple{U1Irrep, SU2Irrep, FermionParity}}, TensorKit.SortedVectorDict{TensorKit.ProductSector{Tuple{U1Irrep, SU2Irrep, FermionParity}}, Int64}}, 2, 1, TensorKit.ProductSector{Tuple{U1Irrep, SU2Irrep, FermionParity}}, TensorKit.SortedVectorDict{TensorKit.ProductSector{Tuple{U1Irrep, SU2Irrep, FermionParity}}, Matrix{Float64}}, FusionTree{TensorKit.ProductSector{Tuple{U1Irrep, SU2Irrep, FermionParity}}, 2, 0, 1, Nothing}, FusionTree{TensorKit.ProductSector{Tuple{U1Irrep, SU2Irrep, FermionParity}}, 1, 0, 0, Nothing}}, TensorMap{GradedSpace{TensorKit.ProductSector{Tuple{U1Irrep, SU2Irrep, FermionParity}}, TensorKit.SortedVectorDict{TensorKit.ProductSector{Tuple{U1Irrep, SU2Irrep, FermionParity}}, Int64}}, 1, 1, TensorKit.ProductSector{Tuple{U1Irrep, SU2Irrep, FermionParity}}, TensorKit.SortedVectorDict{TensorKit.ProductSector{Tuple{U1Irrep, SU2Irrep, FermionParity}}, Matrix{Float64}}, FusionTree{TensorKit.ProductSector{Tuple{U1Irrep, SU2Irrep, FermionParity}}, 1, 0, 0, Nothing}, FusionTree{TensorKit.ProductSector{Tuple{U1Irrep, SU2Irrep, FermionParity}}, 1, 0, 0, Nothing}}, TensorMap{GradedSpace{TensorKit.ProductSector{Tuple{U1Irrep, SU2Irrep, FermionParity}}, TensorKit.SortedVectorDict{TensorKit.ProductSector{Tuple{U1Irrep, SU2Irrep, FermionParity}}, Int64}}, 1, 1, TensorKit.ProductSector{Tuple{U1Irrep, SU2Irrep, FermionParity}}, TensorKit.SortedVectorDict{TensorKit.ProductSector{Tuple{U1Irrep, SU2Irrep, FermionParity}}, Matrix{Float64}}, FusionTree{TensorKit.ProductSector{Tuple{U1Irrep, SU2Irrep, FermionParity}}, 1, 0, 0, Nothing}, FusionTree{TensorKit.ProductSector{Tuple{U1Irrep, SU2Irrep, FermionParity}}, 1, 0, 0, Nothing}}}}, Float64}, alg::OptimKit.ConjugateGradient{OptimKit.HagerZhang{Rational{Int64}}, Float64, OptimKit.HagerZhangLineSearch{Rational{Int64}}}; precondition::typeof(OptimKit._precondition), finalize!::typeof(MPSKitExperimental.my_finalize!), retract::Function, inner::typeof(MPSKitExperimental.inner), transport!::typeof(MPSKitExperimental.transport!), scale!::typeof(MPSKit.GrassmannMPS.scale!), add!::typeof(MPSKit.GrassmannMPS.add!), isometrictransport::Bool)\n",
      "    @ OptimKit ~/.julia/packages/OptimKit/xpmbV/src/cg.jl:72\n",
      " [15] find_groundstate(state::FiniteMPS{TensorMap{GradedSpace{TensorKit.ProductSector{Tuple{U1Irrep, SU2Irrep, FermionParity}}, TensorKit.SortedVectorDict{TensorKit.ProductSector{Tuple{U1Irrep, SU2Irrep, FermionParity}}, Int64}}, 2, 1, TensorKit.ProductSector{Tuple{U1Irrep, SU2Irrep, FermionParity}}, TensorKit.SortedVectorDict{TensorKit.ProductSector{Tuple{U1Irrep, SU2Irrep, FermionParity}}, Matrix{Float64}}, FusionTree{TensorKit.ProductSector{Tuple{U1Irrep, SU2Irrep, FermionParity}}, 2, 0, 1, Nothing}, FusionTree{TensorKit.ProductSector{Tuple{U1Irrep, SU2Irrep, FermionParity}}, 1, 0, 0, Nothing}}, TensorMap{GradedSpace{TensorKit.ProductSector{Tuple{U1Irrep, SU2Irrep, FermionParity}}, TensorKit.SortedVectorDict{TensorKit.ProductSector{Tuple{U1Irrep, SU2Irrep, FermionParity}}, Int64}}, 1, 1, TensorKit.ProductSector{Tuple{U1Irrep, SU2Irrep, FermionParity}}, TensorKit.SortedVectorDict{TensorKit.ProductSector{Tuple{U1Irrep, SU2Irrep, FermionParity}}, Matrix{Float64}}, FusionTree{TensorKit.ProductSector{Tuple{U1Irrep, SU2Irrep, FermionParity}}, 1, 0, 0, Nothing}, FusionTree{TensorKit.ProductSector{Tuple{U1Irrep, SU2Irrep, FermionParity}}, 1, 0, 0, Nothing}}}, ham::CASSCF_Ham{BasisSet{GaussianBasis.LCint, Molecules.Atom, SphericalShell}, Matrix{Float64}, UnitRange{Int64}}, alg::GrassmannSCF)\n",
      "    @ MPSKitExperimental ~/projects/MPSKitExperimental.jl/src/quantumchemistry/grassmann_scf.jl:30\n",
      " [16] top-level scope\n",
      "    @ ./timing.jl:273 [inlined]\n",
      " [17] top-level scope\n",
      "    @ ~/projects/MPSKitExperimental.jl/examples/Qchem_scf.ipynb:0"
     ]
    }
   ],
   "source": [
    "# first some dmrg to ramp up the bond dimension\n",
    "mpo_opp = MPSKitExperimental.mpo_representation(nh)[1]; # will be made easier in future\n",
    "(st,env) = find_groundstate(st,mpo_opp,DMRG2(maxiter=1,trscheme=truncdim(100)),disk_environments(st,mpo_opp));\n",
    "\n",
    "# grassmannscf simultaneously converges the state and the oribtals\n",
    "@time (st,nh) = find_groundstate(st,nh,GrassmannSCF(maxiter=200));"
   ]
  },
  {
   "attachments": {},
   "cell_type": "markdown",
   "metadata": {},
   "source": [
    "In practice, one should probably start from a well informed initial guess, instead of using atomic orbitals. Nevertheless, as a proof of principle, it works."
   ]
  },
  {
   "cell_type": "code",
   "execution_count": null,
   "metadata": {},
   "outputs": [],
   "source": []
  }
 ],
 "metadata": {
  "kernelspec": {
   "display_name": "Julia 1.9.4",
   "language": "julia",
   "name": "julia-1.9"
  },
  "language_info": {
   "file_extension": ".jl",
   "mimetype": "application/julia",
   "name": "julia",
   "version": "1.9.4"
  },
  "orig_nbformat": 4
 },
 "nbformat": 4,
 "nbformat_minor": 2
}
