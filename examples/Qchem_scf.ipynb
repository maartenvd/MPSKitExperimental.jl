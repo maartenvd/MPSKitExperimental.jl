{
 "cells": [
  {
   "attachments": {},
   "cell_type": "markdown",
   "metadata": {},
   "source": [
    "In this piece of code I simultaneously optimize over the unitary basis rotation and the mps tensors.\n",
    "\n",
    "This is often done in \"DMRG-SCF\", but people conventionally optimize the matrix product state quite far before taking a small step in the orbital rotations. In this notebook I try to combine grassmann gradient descent with \"DMRG-SCF\", where I optimize the orbital basis after every linesearch. This may be more efficient..."
   ]
  },
  {
   "cell_type": "code",
   "execution_count": 1,
   "metadata": {},
   "outputs": [],
   "source": [
    "using Revise,LinearAlgebra, MPSKit, TensorKit, MPSKitExperimental\n",
    "using GaussianBasis,DelimitedFiles\n",
    "\n",
    "LinearAlgebra.BLAS.set_num_threads(1);\n",
    "#TensorKit.TO.disable_cache();\n",
    "TensorKit.Strided.disable_threads();"
   ]
  },
  {
   "cell_type": "code",
   "execution_count": 2,
   "metadata": {},
   "outputs": [
    {
     "data": {
      "text/plain": [
       "12"
      ]
     },
     "metadata": {},
     "output_type": "display_data"
    }
   ],
   "source": [
    "using Base.Threads; nthreads()"
   ]
  },
  {
   "cell_type": "code",
   "execution_count": 3,
   "metadata": {},
   "outputs": [
    {
     "data": {
      "text/plain": [
       "6-31g Basis Set\n",
       "Type: Spherical   Backend: Libcint\n",
       "\n",
       "Number of shells: 10\n",
       "Number of basis:  18\n",
       "\n",
       "N: 1s 2s 1p 3s 2p \n",
       "N: 1s 2s 1p 3s 2p"
      ]
     },
     "metadata": {},
     "output_type": "display_data"
    }
   ],
   "source": [
    "bset = BasisSet(\"6-31g\", \"\"\"\n",
    "N        0.00      0.00     0.00      \n",
    "N        2.118      0.00     0.00\"\"\")"
   ]
  },
  {
   "attachments": {},
   "cell_type": "markdown",
   "metadata": {},
   "source": [
    "I will keep the first 3 orbitals frozen filled, treat the next 10 orbitals using MPS, and keep the rest frozen free."
   ]
  },
  {
   "cell_type": "code",
   "execution_count": 4,
   "metadata": {},
   "outputs": [],
   "source": [
    "N_ORBS = bset.nbas;\n",
    "N_frozen_filled = 4;\n",
    "N_active = 12;\n",
    "N_frozen_empty = N_ORBS-N_frozen_filled-N_active;\n",
    "NELEC = 14;\n",
    "MS2 = 0;"
   ]
  },
  {
   "attachments": {},
   "cell_type": "markdown",
   "metadata": {},
   "source": [
    "The state is now smaller:"
   ]
  },
  {
   "cell_type": "code",
   "execution_count": 8,
   "metadata": {},
   "outputs": [],
   "source": [
    "psp = Vect[(Irrep[U₁]⊠Irrep[SU₂] ⊠ FermionParity)]((0,0,0)=>1, (1,1//2,1)=>1, (2,0,0)=>1);\n",
    "\n",
    "left = Vect[(Irrep[U₁]⊠Irrep[SU₂] ⊠ FermionParity)]((-(NELEC-N_frozen_filled*2),MS2//2,mod1(-(NELEC-N_frozen_filled*2),2))=>1);\n",
    "right = oneunit(left);\n",
    "\n",
    "virtual = Vect[(Irrep[U₁]⊠Irrep[SU₂] ⊠ FermionParity)]((i,s,b)=>1 for i in -(NELEC-N_frozen_filled*2):0, s in 0:1//2:(MS2//2+1), b in (0,1));\n",
    "\n",
    "st = FiniteMPS(rand,Float64,N_active,psp,virtual;left,right);"
   ]
  },
  {
   "attachments": {},
   "cell_type": "markdown",
   "metadata": {},
   "source": [
    "The code works through a weird new type. We cannot work directly with an MPO hamiltonian, because I want to consider general unitary rotations between frozen orbitals and the active space. The MPO will only describe the active space, and therefore does not contain enough information."
   ]
  },
  {
   "cell_type": "code",
   "execution_count": 9,
   "metadata": {},
   "outputs": [],
   "source": [
    "nh = CASSCF_Ham(bset,N_frozen_filled+1:N_frozen_filled+N_active);"
   ]
  },
  {
   "attachments": {},
   "cell_type": "markdown",
   "metadata": {},
   "source": [
    "Let's try it out!"
   ]
  },
  {
   "cell_type": "code",
   "execution_count": 10,
   "metadata": {},
   "outputs": [
    {
     "name": "stderr",
     "output_type": "stream",
     "text": [
      "┌ Info: Iteraton 0 error 0.9980757676863208\n",
      "└ @ MPSKit /home/maavdamm/.julia/packages/MPSKit/vdKxJ/src/algorithms/groundstate/dmrg.jl:112\n"
     ]
    },
    {
     "name": "stderr",
     "output_type": "stream",
     "text": [
      "┌ Info: CG: initializing with f = -90.386366875451, ‖∇f‖ = 3.6926e-01\n",
      "└ @ OptimKit /home/maavdamm/OptimKit.jl/src/cg.jl:39\n"
     ]
    },
    {
     "name": "stderr",
     "output_type": "stream",
     "text": [
      "┌ Info: CG: initializing with f = -90.389018624928, ‖∇f‖ = 1.9354e+01\n",
      "└ @ OptimKit /home/maavdamm/OptimKit.jl/src/cg.jl:39\n"
     ]
    },
    {
     "name": "stderr",
     "output_type": "stream",
     "text": [
      "┌ Info: CG: iter    1: f = -97.954144995721, ‖∇f‖ = 2.2007e+00, α = 8.25e-01, β = 0.00e+00, nfg = 2\n",
      "└ @ OptimKit /home/maavdamm/OptimKit.jl/src/cg.jl:95\n"
     ]
    },
    {
     "name": "stderr",
     "output_type": "stream",
     "text": [
      "┌ Info: CG: iter    2: f = -98.080035382825, ‖∇f‖ = 2.4473e+00, α = 7.29e-02, β = 2.88e-01, nfg = 4\n",
      "└ @ OptimKit /home/maavdamm/OptimKit.jl/src/cg.jl:95\n"
     ]
    },
    {
     "name": "stderr",
     "output_type": "stream",
     "text": [
      "┌ Info: CG: iter    3: f = -98.708438928297, ‖∇f‖ = 5.9106e+00, α = 2.79e-01, β = 6.95e-01, nfg = 3\n",
      "└ @ OptimKit /home/maavdamm/OptimKit.jl/src/cg.jl:95\n"
     ]
    },
    {
     "name": "stderr",
     "output_type": "stream",
     "text": [
      "┌ Info: CG: iter    4: f = -102.441339304811, ‖∇f‖ = 7.3120e+00, α = 1.25e-01, β = 6.89e+00, nfg = 3\n",
      "└ @ OptimKit /home/maavdamm/OptimKit.jl/src/cg.jl:95\n"
     ]
    },
    {
     "name": "stderr",
     "output_type": "stream",
     "text": [
      "┌ Info: CG: iter    5: f = -103.344658530566, ‖∇f‖ = 4.6585e+00, α = 3.72e-02, β = 1.21e+00, nfg = 4\n",
      "└ @ OptimKit /home/maavdamm/OptimKit.jl/src/cg.jl:95\n",
      "┌ Warning: resorting to η\n",
      "└ @ OptimKit /home/maavdamm/OptimKit.jl/src/cg.jl:151\n"
     ]
    },
    {
     "name": "stderr",
     "output_type": "stream",
     "text": [
      "┌ Info: CG: iter    6: f = -104.868003102314, ‖∇f‖ = 3.2714e+00, α = 2.95e-01, β = -4.51e-02, nfg = 3\n",
      "└ @ OptimKit /home/maavdamm/OptimKit.jl/src/cg.jl:95\n"
     ]
    },
    {
     "name": "stderr",
     "output_type": "stream",
     "text": [
      "┌ Info: CG: iter    7: f = -105.441866389513, ‖∇f‖ = 1.9262e+00, α = 3.87e-01, β = 9.07e-02, nfg = 2\n",
      "└ @ OptimKit /home/maavdamm/OptimKit.jl/src/cg.jl:95\n"
     ]
    },
    {
     "name": "stderr",
     "output_type": "stream",
     "text": [
      "┌ Info: CG: iter    8: f = -105.674381736718, ‖∇f‖ = 1.3337e+00, α = 2.64e-01, β = 5.16e-01, nfg = 2\n",
      "└ @ OptimKit /home/maavdamm/OptimKit.jl/src/cg.jl:95\n",
      "┌ Warning: resorting to η\n",
      "└ @ OptimKit /home/maavdamm/OptimKit.jl/src/cg.jl:151\n"
     ]
    },
    {
     "name": "stderr",
     "output_type": "stream",
     "text": [
      "┌ Info: CG: converged after 9 iterations: f = -105.847131146010, ‖∇f‖ = 2.6121e-01\n",
      "└ @ OptimKit /home/maavdamm/OptimKit.jl/src/cg.jl:112\n"
     ]
    },
    {
     "name": "stderr",
     "output_type": "stream",
     "text": [
      "┌ Info: CG: iter    1: f = -105.461236498474, ‖∇f‖ = 1.2306e+00, α = 8.01e-02, β = 0.00e+00, nfg = 2\n",
      "└ @ OptimKit /home/maavdamm/OptimKit.jl/src/cg.jl:95\n"
     ]
    },
    {
     "name": "stderr",
     "output_type": "stream",
     "text": [
      "┌ Info: CG: initializing with f = -105.468229389828, ‖∇f‖ = 1.3683e+00\n",
      "└ @ OptimKit /home/maavdamm/OptimKit.jl/src/cg.jl:39\n"
     ]
    },
    {
     "name": "stderr",
     "output_type": "stream",
     "text": [
      "┌ Info: CG: converged after 1 iterations: f = -105.545837295395, ‖∇f‖ = 3.0444e-01\n",
      "└ @ OptimKit /home/maavdamm/OptimKit.jl/src/cg.jl:112\n"
     ]
    },
    {
     "name": "stderr",
     "output_type": "stream",
     "text": [
      "┌ Info: CG: iter    2: f = -105.545837295395, ‖∇f‖ = 8.2375e-01, α = 7.91e-03, β = 7.83e+00, nfg = 2\n",
      "└ @ OptimKit /home/maavdamm/OptimKit.jl/src/cg.jl:95\n"
     ]
    },
    {
     "name": "stderr",
     "output_type": "stream",
     "text": [
      "┌ Warning: resorting to η\n",
      "└ @ OptimKit /home/maavdamm/OptimKit.jl/src/cg.jl:151\n"
     ]
    },
    {
     "name": "stderr",
     "output_type": "stream",
     "text": [
      "┌ Info: CG: initializing with f = -105.557510350336, ‖∇f‖ = 2.0443e-01\n",
      "└ @ OptimKit /home/maavdamm/OptimKit.jl/src/cg.jl:39\n"
     ]
    },
    {
     "name": "stderr",
     "output_type": "stream",
     "text": [
      "┌ Info: CG: converged after 1 iterations: f = -105.572831885413, ‖∇f‖ = 1.6232e-01\n",
      "└ @ OptimKit /home/maavdamm/OptimKit.jl/src/cg.jl:112\n"
     ]
    },
    {
     "name": "stderr",
     "output_type": "stream",
     "text": [
      "┌ Info: CG: iter    3: f = -105.572831885413, ‖∇f‖ = 4.0406e-01, α = 3.12e-02, β = -5.17e-02, nfg = 3\n",
      "└ @ OptimKit /home/maavdamm/OptimKit.jl/src/cg.jl:95\n"
     ]
    },
    {
     "name": "stderr",
     "output_type": "stream",
     "text": [
      "┌ Info: CG: initializing with f = -105.577703890816, ‖∇f‖ = 1.8297e-01\n",
      "└ @ OptimKit /home/maavdamm/OptimKit.jl/src/cg.jl:39\n"
     ]
    },
    {
     "name": "stderr",
     "output_type": "stream",
     "text": [
      "┌ Info: CG: converged after 1 iterations: f = -105.624590192281, ‖∇f‖ = 1.7555e-01\n",
      "└ @ OptimKit /home/maavdamm/OptimKit.jl/src/cg.jl:112\n"
     ]
    },
    {
     "name": "stderr",
     "output_type": "stream",
     "text": [
      "┌ Info: CG: iter    4: f = -105.624590192281, ‖∇f‖ = 3.9691e-01, α = 6.15e-02, β = 2.13e-01, nfg = 2\n",
      "└ @ OptimKit /home/maavdamm/OptimKit.jl/src/cg.jl:95\n"
     ]
    },
    {
     "name": "stderr",
     "output_type": "stream",
     "text": [
      "┌ Info: CG: initializing with f = -105.631195819846, ‖∇f‖ = 2.5600e-01\n",
      "└ @ OptimKit /home/maavdamm/OptimKit.jl/src/cg.jl:39\n"
     ]
    },
    {
     "name": "stderr",
     "output_type": "stream",
     "text": [
      "┌ Info: CG: converged after 1 iterations: f = -105.642197288617, ‖∇f‖ = 2.9529e-02\n",
      "└ @ OptimKit /home/maavdamm/OptimKit.jl/src/cg.jl:112\n"
     ]
    },
    {
     "name": "stderr",
     "output_type": "stream",
     "text": [
      "┌ Info: CG: iter    5: f = -105.642197288617, ‖∇f‖ = 3.6452e-01, α = 8.15e-02, β = 9.68e-01, nfg = 2\n",
      "└ @ OptimKit /home/maavdamm/OptimKit.jl/src/cg.jl:95\n"
     ]
    },
    {
     "name": "stderr",
     "output_type": "stream",
     "text": [
      "┌ Info: CG: initializing with f = -105.645882516560, ‖∇f‖ = 1.4393e-01\n",
      "└ @ OptimKit /home/maavdamm/OptimKit.jl/src/cg.jl:39\n"
     ]
    },
    {
     "name": "stderr",
     "output_type": "stream",
     "text": [
      "┌ Info: CG: converged after 1 iterations: f = -105.648226804326, ‖∇f‖ = 1.6235e-02\n",
      "└ @ OptimKit /home/maavdamm/OptimKit.jl/src/cg.jl:112\n"
     ]
    },
    {
     "name": "stderr",
     "output_type": "stream",
     "text": [
      "┌ Info: CG: iter    6: f = -105.648226804326, ‖∇f‖ = 2.7774e-01, α = 5.58e-02, β = 8.23e-01, nfg = 2\n",
      "└ @ OptimKit /home/maavdamm/OptimKit.jl/src/cg.jl:95\n"
     ]
    },
    {
     "name": "stderr",
     "output_type": "stream",
     "text": [
      "┌ Info: CG: initializing with f = -105.649889690695, ‖∇f‖ = 8.0398e-02\n",
      "└ @ OptimKit /home/maavdamm/OptimKit.jl/src/cg.jl:39\n"
     ]
    },
    {
     "name": "stderr",
     "output_type": "stream",
     "text": [
      "┌ Info: CG: converged after 1 iterations: f = -105.650314045798, ‖∇f‖ = 1.1198e-02\n",
      "└ @ OptimKit /home/maavdamm/OptimKit.jl/src/cg.jl:112\n"
     ]
    },
    {
     "name": "stderr",
     "output_type": "stream",
     "text": [
      "┌ Info: CG: iter    7: f = -105.650314045798, ‖∇f‖ = 1.9554e-01, α = 3.71e-02, β = 7.46e-01, nfg = 2\n",
      "└ @ OptimKit /home/maavdamm/OptimKit.jl/src/cg.jl:95\n"
     ]
    },
    {
     "name": "stderr",
     "output_type": "stream",
     "text": [
      "┌ Info: CG: initializing with f = -105.651202952023, ‖∇f‖ = 4.8265e-02\n",
      "└ @ OptimKit /home/maavdamm/OptimKit.jl/src/cg.jl:39\n"
     ]
    },
    {
     "name": "stderr",
     "output_type": "stream",
     "text": [
      "┌ Info: CG: converged after 1 iterations: f = -105.652464935975, ‖∇f‖ = 1.2399e-02\n",
      "└ @ OptimKit /home/maavdamm/OptimKit.jl/src/cg.jl:112\n"
     ]
    },
    {
     "name": "stderr",
     "output_type": "stream",
     "text": [
      "┌ Info: CG: iter    8: f = -105.652464935975, ‖∇f‖ = 1.4545e-01, α = 3.92e-02, β = 4.87e-01, nfg = 2\n",
      "└ @ OptimKit /home/maavdamm/OptimKit.jl/src/cg.jl:95\n"
     ]
    },
    {
     "name": "stderr",
     "output_type": "stream",
     "text": [
      "┌ Info: CG: initializing with f = -105.653143980366, ‖∇f‖ = 3.2766e-02\n",
      "└ @ OptimKit /home/maavdamm/OptimKit.jl/src/cg.jl:39\n"
     ]
    },
    {
     "name": "stderr",
     "output_type": "stream",
     "text": [
      "┌ Info: CG: converged after 1 iterations: f = -105.653664676392, ‖∇f‖ = 3.9849e-02\n",
      "└ @ OptimKit /home/maavdamm/OptimKit.jl/src/cg.jl:112\n"
     ]
    },
    {
     "name": "stderr",
     "output_type": "stream",
     "text": [
      "┌ Info: CG: iter    9: f = -105.653664676392, ‖∇f‖ = 1.5858e-01, α = 5.93e-02, β = 4.24e-01, nfg = 2\n",
      "└ @ OptimKit /home/maavdamm/OptimKit.jl/src/cg.jl:95\n"
     ]
    },
    {
     "name": "stderr",
     "output_type": "stream",
     "text": [
      "┌ Info: CG: initializing with f = -105.654313547866, ‖∇f‖ = 2.0945e-02\n",
      "└ @ OptimKit /home/maavdamm/OptimKit.jl/src/cg.jl:39\n"
     ]
    },
    {
     "name": "stderr",
     "output_type": "stream",
     "text": [
      "┌ Info: CG: converged after 1 iterations: f = -105.654488752357, ‖∇f‖ = 2.3510e-02\n",
      "└ @ OptimKit /home/maavdamm/OptimKit.jl/src/cg.jl:112\n"
     ]
    },
    {
     "name": "stderr",
     "output_type": "stream",
     "text": [
      "┌ Info: CG: iter   10: f = -105.654488752357, ‖∇f‖ = 1.3562e-01, α = 4.42e-02, β = 1.05e+00, nfg = 2\n",
      "└ @ OptimKit /home/maavdamm/OptimKit.jl/src/cg.jl:95\n"
     ]
    },
    {
     "name": "stderr",
     "output_type": "stream",
     "text": [
      "┌ Info: CG: initializing with f = -105.655009943588, ‖∇f‖ = 4.6019e-02\n",
      "└ @ OptimKit /home/maavdamm/OptimKit.jl/src/cg.jl:39\n"
     ]
    },
    {
     "name": "stderr",
     "output_type": "stream",
     "text": [
      "┌ Info: CG: converged after 1 iterations: f = -105.655070027934, ‖∇f‖ = 7.6944e-03\n",
      "└ @ OptimKit /home/maavdamm/OptimKit.jl/src/cg.jl:112\n"
     ]
    },
    {
     "name": "stderr",
     "output_type": "stream",
     "text": [
      "┌ Info: CG: iter   11: f = -105.655070027934, ‖∇f‖ = 1.3309e-01, α = 3.97e-02, β = 9.82e-01, nfg = 2\n",
      "└ @ OptimKit /home/maavdamm/OptimKit.jl/src/cg.jl:95\n"
     ]
    },
    {
     "name": "stderr",
     "output_type": "stream",
     "text": [
      "┌ Info: CG: initializing with f = -105.655618430940, ‖∇f‖ = 5.8695e-02\n",
      "└ @ OptimKit /home/maavdamm/OptimKit.jl/src/cg.jl:39\n"
     ]
    },
    {
     "name": "stderr",
     "output_type": "stream",
     "text": [
      "┌ Info: CG: converged after 1 iterations: f = -105.655695797176, ‖∇f‖ = 8.0089e-03\n",
      "└ @ OptimKit /home/maavdamm/OptimKit.jl/src/cg.jl:112\n"
     ]
    },
    {
     "name": "stderr",
     "output_type": "stream",
     "text": [
      "┌ Info: CG: iter   12: f = -105.655695797176, ‖∇f‖ = 1.3146e-01, α = 4.77e-02, β = 7.25e-01, nfg = 2\n",
      "└ @ OptimKit /home/maavdamm/OptimKit.jl/src/cg.jl:95\n"
     ]
    },
    {
     "name": "stderr",
     "output_type": "stream",
     "text": [
      "┌ Info: CG: initializing with f = -105.656093112943, ‖∇f‖ = 4.3787e-02\n",
      "└ @ OptimKit /home/maavdamm/OptimKit.jl/src/cg.jl:39\n"
     ]
    },
    {
     "name": "stderr",
     "output_type": "stream",
     "text": [
      "┌ Info: CG: converged after 1 iterations: f = -105.656130794697, ‖∇f‖ = 5.6962e-03\n",
      "└ @ OptimKit /home/maavdamm/OptimKit.jl/src/cg.jl:112\n"
     ]
    },
    {
     "name": "stderr",
     "output_type": "stream",
     "text": [
      "┌ Info: CG: iter   13: f = -105.656130794697, ‖∇f‖ = 1.0740e-01, α = 3.10e-02, β = 1.09e+00, nfg = 2\n",
      "└ @ OptimKit /home/maavdamm/OptimKit.jl/src/cg.jl:95\n"
     ]
    },
    {
     "name": "stderr",
     "output_type": "stream",
     "text": [
      "┌ Info: CG: initializing with f = -105.656466468376, ‖∇f‖ = 3.9508e-02\n",
      "└ @ OptimKit /home/maavdamm/OptimKit.jl/src/cg.jl:39\n"
     ]
    },
    {
     "name": "stderr",
     "output_type": "stream",
     "text": [
      "┌ Info: CG: converged after 1 iterations: f = -105.656517981739, ‖∇f‖ = 1.2246e-02\n",
      "└ @ OptimKit /home/maavdamm/OptimKit.jl/src/cg.jl:112\n"
     ]
    },
    {
     "name": "stderr",
     "output_type": "stream",
     "text": [
      "┌ Info: CG: iter   14: f = -105.656517981738, ‖∇f‖ = 1.1286e-01, α = 4.29e-02, β = 6.12e-01, nfg = 2\n",
      "└ @ OptimKit /home/maavdamm/OptimKit.jl/src/cg.jl:95\n"
     ]
    },
    {
     "name": "stderr",
     "output_type": "stream",
     "text": [
      "┌ Info: CG: initializing with f = -105.656825800762, ‖∇f‖ = 3.1257e-02\n",
      "└ @ OptimKit /home/maavdamm/OptimKit.jl/src/cg.jl:39\n"
     ]
    },
    {
     "name": "stderr",
     "output_type": "stream",
     "text": [
      "┌ Info: CG: converged after 1 iterations: f = -105.656878245692, ‖∇f‖ = 1.6369e-02\n",
      "└ @ OptimKit /home/maavdamm/OptimKit.jl/src/cg.jl:112\n"
     ]
    },
    {
     "name": "stderr",
     "output_type": "stream",
     "text": [
      "┌ Info: CG: iter   15: f = -105.656878245692, ‖∇f‖ = 1.0767e-01, α = 3.72e-02, β = 9.69e-01, nfg = 2\n",
      "└ @ OptimKit /home/maavdamm/OptimKit.jl/src/cg.jl:95\n"
     ]
    },
    {
     "name": "stderr",
     "output_type": "stream",
     "text": [
      "┌ Info: CG: initializing with f = -105.657192287759, ‖∇f‖ = 3.8272e-02\n",
      "└ @ OptimKit /home/maavdamm/OptimKit.jl/src/cg.jl:39\n"
     ]
    },
    {
     "name": "stderr",
     "output_type": "stream",
     "text": [
      "┌ Info: CG: converged after 1 iterations: f = -105.657228261324, ‖∇f‖ = 4.2910e-03\n",
      "└ @ OptimKit /home/maavdamm/OptimKit.jl/src/cg.jl:112\n"
     ]
    },
    {
     "name": "stderr",
     "output_type": "stream",
     "text": [
      "┌ Info: CG: iter   16: f = -105.657228261324, ‖∇f‖ = 1.1569e-01, α = 3.65e-02, β = 1.08e+00, nfg = 2\n",
      "└ @ OptimKit /home/maavdamm/OptimKit.jl/src/cg.jl:95\n"
     ]
    },
    {
     "name": "stderr",
     "output_type": "stream",
     "text": [
      "┌ Info: CG: initializing with f = -105.657565959157, ‖∇f‖ = 4.4845e-02\n",
      "└ @ OptimKit /home/maavdamm/OptimKit.jl/src/cg.jl:39\n"
     ]
    },
    {
     "name": "stderr",
     "output_type": "stream",
     "text": [
      "┌ Info: CG: converged after 1 iterations: f = -105.657614268804, ‖∇f‖ = 5.8993e-03\n",
      "└ @ OptimKit /home/maavdamm/OptimKit.jl/src/cg.jl:112\n"
     ]
    },
    {
     "name": "stderr",
     "output_type": "stream",
     "text": [
      "┌ Info: CG: iter   17: f = -105.657614268803, ‖∇f‖ = 1.1574e-01, α = 4.10e-02, β = 7.34e-01, nfg = 2\n",
      "└ @ OptimKit /home/maavdamm/OptimKit.jl/src/cg.jl:95\n"
     ]
    },
    {
     "name": "stderr",
     "output_type": "stream",
     "text": [
      "┌ Info: CG: initializing with f = -105.657990698264, ‖∇f‖ = 5.5884e-02\n",
      "└ @ OptimKit /home/maavdamm/OptimKit.jl/src/cg.jl:39\n"
     ]
    },
    {
     "name": "stderr",
     "output_type": "stream",
     "text": [
      "┌ Info: CG: converged after 1 iterations: f = -105.658080169907, ‖∇f‖ = 9.2586e-03\n",
      "└ @ OptimKit /home/maavdamm/OptimKit.jl/src/cg.jl:112\n"
     ]
    },
    {
     "name": "stderr",
     "output_type": "stream",
     "text": [
      "┌ Info: CG: iter   18: f = -105.658080169906, ‖∇f‖ = 1.2393e-01, α = 4.19e-02, β = 1.18e+00, nfg = 2\n",
      "└ @ OptimKit /home/maavdamm/OptimKit.jl/src/cg.jl:95\n"
     ]
    },
    {
     "name": "stderr",
     "output_type": "stream",
     "text": [
      "┌ Info: CG: initializing with f = -105.658503372712, ‖∇f‖ = 5.8320e-02\n",
      "└ @ OptimKit /home/maavdamm/OptimKit.jl/src/cg.jl:39\n"
     ]
    },
    {
     "name": "stderr",
     "output_type": "stream",
     "text": [
      "┌ Info: CG: converged after 1 iterations: f = -105.658576020667, ‖∇f‖ = 6.5632e-03\n",
      "└ @ OptimKit /home/maavdamm/OptimKit.jl/src/cg.jl:112\n"
     ]
    },
    {
     "name": "stderr",
     "output_type": "stream",
     "text": [
      "┌ Info: CG: iter   19: f = -105.658576020667, ‖∇f‖ = 1.3697e-01, α = 3.81e-02, β = 1.12e+00, nfg = 2\n",
      "└ @ OptimKit /home/maavdamm/OptimKit.jl/src/cg.jl:95\n"
     ]
    },
    {
     "name": "stderr",
     "output_type": "stream",
     "text": [
      "┌ Info: CG: initializing with f = -105.659050543511, ‖∇f‖ = 7.2344e-02\n",
      "└ @ OptimKit /home/maavdamm/OptimKit.jl/src/cg.jl:39\n"
     ]
    },
    {
     "name": "stderr",
     "output_type": "stream",
     "text": [
      "┌ Info: CG: converged after 1 iterations: f = -105.659194608272, ‖∇f‖ = 1.0139e-02\n",
      "└ @ OptimKit /home/maavdamm/OptimKit.jl/src/cg.jl:112\n"
     ]
    },
    {
     "name": "stderr",
     "output_type": "stream",
     "text": [
      "┌ Info: CG: iter   20: f = -105.659194608272, ‖∇f‖ = 1.3601e-01, α = 3.37e-02, β = 1.26e+00, nfg = 2\n",
      "└ @ OptimKit /home/maavdamm/OptimKit.jl/src/cg.jl:95\n"
     ]
    },
    {
     "name": "stderr",
     "output_type": "stream",
     "text": [
      "┌ Info: CG: initializing with f = -105.659684456357, ‖∇f‖ = 7.6255e-02\n",
      "└ @ OptimKit /home/maavdamm/OptimKit.jl/src/cg.jl:39\n"
     ]
    },
    {
     "name": "stderr",
     "output_type": "stream",
     "text": [
      "┌ Info: CG: converged after 1 iterations: f = -105.659815755718, ‖∇f‖ = 7.4338e-03\n",
      "└ @ OptimKit /home/maavdamm/OptimKit.jl/src/cg.jl:112\n"
     ]
    },
    {
     "name": "stderr",
     "output_type": "stream",
     "text": [
      "┌ Info: CG: iter   21: f = -105.659815755718, ‖∇f‖ = 1.5349e-01, α = 3.13e-02, β = 1.11e+00, nfg = 2\n",
      "└ @ OptimKit /home/maavdamm/OptimKit.jl/src/cg.jl:95\n"
     ]
    },
    {
     "name": "stderr",
     "output_type": "stream",
     "text": [
      "┌ Info: CG: initializing with f = -105.660390367828, ‖∇f‖ = 9.4552e-02\n",
      "└ @ OptimKit /home/maavdamm/OptimKit.jl/src/cg.jl:39\n"
     ]
    },
    {
     "name": "stderr",
     "output_type": "stream",
     "text": [
      "┌ Info: CG: converged after 1 iterations: f = -105.660634576687, ‖∇f‖ = 1.1493e-02\n",
      "└ @ OptimKit /home/maavdamm/OptimKit.jl/src/cg.jl:112\n"
     ]
    },
    {
     "name": "stderr",
     "output_type": "stream",
     "text": [
      "┌ Info: CG: iter   22: f = -105.660634576687, ‖∇f‖ = 1.5017e-01, α = 2.93e-02, β = 1.21e+00, nfg = 2\n",
      "└ @ OptimKit /home/maavdamm/OptimKit.jl/src/cg.jl:95\n"
     ]
    },
    {
     "name": "stderr",
     "output_type": "stream",
     "text": [
      "┌ Info: CG: initializing with f = -105.661183931113, ‖∇f‖ = 8.4794e-02\n",
      "└ @ OptimKit /home/maavdamm/OptimKit.jl/src/cg.jl:39\n"
     ]
    },
    {
     "name": "stderr",
     "output_type": "stream",
     "text": [
      "┌ Info: CG: converged after 1 iterations: f = -105.661358360262, ‖∇f‖ = 9.4635e-03\n",
      "└ @ OptimKit /home/maavdamm/OptimKit.jl/src/cg.jl:112\n"
     ]
    },
    {
     "name": "stderr",
     "output_type": "stream",
     "text": [
      "┌ Info: CG: iter   23: f = -105.661358360262, ‖∇f‖ = 1.4694e-01, α = 2.41e-02, β = 1.10e+00, nfg = 2\n",
      "└ @ OptimKit /home/maavdamm/OptimKit.jl/src/cg.jl:95\n"
     ]
    },
    {
     "name": "stderr",
     "output_type": "stream",
     "text": [
      "┌ Info: CG: initializing with f = -105.661930505616, ‖∇f‖ = 9.4120e-02\n",
      "└ @ OptimKit /home/maavdamm/OptimKit.jl/src/cg.jl:39\n"
     ]
    },
    {
     "name": "stderr",
     "output_type": "stream",
     "text": [
      "┌ Info: CG: converged after 1 iterations: f = -105.662203966357, ‖∇f‖ = 1.5552e-02\n",
      "└ @ OptimKit /home/maavdamm/OptimKit.jl/src/cg.jl:112\n"
     ]
    },
    {
     "name": "stderr",
     "output_type": "stream",
     "text": [
      "┌ Info: CG: iter   24: f = -105.662203966356, ‖∇f‖ = 1.5475e-01, α = 3.01e-02, β = 8.37e-01, nfg = 2\n",
      "└ @ OptimKit /home/maavdamm/OptimKit.jl/src/cg.jl:95\n"
     ]
    },
    {
     "name": "stderr",
     "output_type": "stream",
     "text": [
      "┌ Info: CG: initializing with f = -105.662745256771, ‖∇f‖ = 7.7866e-02\n",
      "└ @ OptimKit /home/maavdamm/OptimKit.jl/src/cg.jl:39\n"
     ]
    },
    {
     "name": "stderr",
     "output_type": "stream",
     "text": [
      "┌ Info: CG: converged after 1 iterations: f = -105.662848688501, ‖∇f‖ = 8.5263e-03\n",
      "└ @ OptimKit /home/maavdamm/OptimKit.jl/src/cg.jl:112\n"
     ]
    },
    {
     "name": "stderr",
     "output_type": "stream",
     "text": [
      "┌ Info: CG: iter   25: f = -105.662848688501, ‖∇f‖ = 1.5861e-01, α = 1.99e-02, β = 1.30e+00, nfg = 2\n",
      "└ @ OptimKit /home/maavdamm/OptimKit.jl/src/cg.jl:95\n"
     ]
    },
    {
     "name": "stderr",
     "output_type": "stream",
     "text": [
      "┌ Info: CG: initializing with f = -105.663546813828, ‖∇f‖ = 1.0197e-01\n",
      "└ @ OptimKit /home/maavdamm/OptimKit.jl/src/cg.jl:39\n"
     ]
    },
    {
     "name": "stderr",
     "output_type": "stream",
     "text": [
      "┌ Info: CG: converged after 1 iterations: f = -105.663861167032, ‖∇f‖ = 1.5849e-02\n",
      "└ @ OptimKit /home/maavdamm/OptimKit.jl/src/cg.jl:112\n"
     ]
    },
    {
     "name": "stderr",
     "output_type": "stream",
     "text": [
      "┌ Info: CG: iter   26: f = -105.663861167032, ‖∇f‖ = 1.3309e-01, α = 3.72e-02, β = 5.78e-01, nfg = 2\n",
      "└ @ OptimKit /home/maavdamm/OptimKit.jl/src/cg.jl:95\n"
     ]
    },
    {
     "name": "stderr",
     "output_type": "stream",
     "text": [
      "┌ Info: CG: initializing with f = -105.664298608861, ‖∇f‖ = 6.6167e-02\n",
      "└ @ OptimKit /home/maavdamm/OptimKit.jl/src/cg.jl:39\n"
     ]
    },
    {
     "name": "stderr",
     "output_type": "stream",
     "text": [
      "┌ Info: CG: converged after 1 iterations: f = -105.664475883591, ‖∇f‖ = 1.9062e-02\n",
      "└ @ OptimKit /home/maavdamm/OptimKit.jl/src/cg.jl:112\n"
     ]
    },
    {
     "name": "stderr",
     "output_type": "stream",
     "text": [
      "┌ Info: CG: iter   27: f = -105.664475883591, ‖∇f‖ = 1.4630e-01, α = 2.09e-02, β = 1.28e+00, nfg = 2\n",
      "└ @ OptimKit /home/maavdamm/OptimKit.jl/src/cg.jl:95\n"
     ]
    },
    {
     "name": "stderr",
     "output_type": "stream",
     "text": [
      "┌ Info: CG: initializing with f = -105.664982504564, ‖∇f‖ = 7.8474e-02\n",
      "└ @ OptimKit /home/maavdamm/OptimKit.jl/src/cg.jl:39\n"
     ]
    },
    {
     "name": "stderr",
     "output_type": "stream",
     "text": [
      "┌ Info: CG: converged after 1 iterations: f = -105.665155579340, ‖∇f‖ = 1.0077e-02\n",
      "└ @ OptimKit /home/maavdamm/OptimKit.jl/src/cg.jl:112\n"
     ]
    },
    {
     "name": "stderr",
     "output_type": "stream",
     "text": [
      "┌ Info: CG: iter   28: f = -105.665155579340, ‖∇f‖ = 1.4086e-01, α = 2.06e-02, β = 1.13e+00, nfg = 2\n",
      "└ @ OptimKit /home/maavdamm/OptimKit.jl/src/cg.jl:95\n"
     ]
    },
    {
     "name": "stderr",
     "output_type": "stream",
     "text": [
      "┌ Info: CG: initializing with f = -105.665666817125, ‖∇f‖ = 9.0530e-02\n",
      "└ @ OptimKit /home/maavdamm/OptimKit.jl/src/cg.jl:39\n"
     ]
    },
    {
     "name": "stderr",
     "output_type": "stream",
     "text": [
      "┌ Info: CG: converged after 1 iterations: f = -105.665892457004, ‖∇f‖ = 1.1747e-02\n",
      "└ @ OptimKit /home/maavdamm/OptimKit.jl/src/cg.jl:112\n"
     ]
    },
    {
     "name": "stderr",
     "output_type": "stream",
     "text": [
      "┌ Info: CG: iter   29: f = -105.665892457004, ‖∇f‖ = 1.2169e-01, α = 2.87e-02, β = 6.57e-01, nfg = 2\n",
      "└ @ OptimKit /home/maavdamm/OptimKit.jl/src/cg.jl:95\n"
     ]
    },
    {
     "name": "stderr",
     "output_type": "stream",
     "text": [
      "┌ Info: CG: initializing with f = -105.666257477030, ‖∇f‖ = 7.6226e-02\n",
      "└ @ OptimKit /home/maavdamm/OptimKit.jl/src/cg.jl:39\n"
     ]
    },
    {
     "name": "stderr",
     "output_type": "stream",
     "text": [
      "┌ Info: CG: converged after 1 iterations: f = -105.666386524265, ‖∇f‖ = 1.0599e-02\n",
      "└ @ OptimKit /home/maavdamm/OptimKit.jl/src/cg.jl:112\n"
     ]
    },
    {
     "name": "stderr",
     "output_type": "stream",
     "text": [
      "┌ Info: CG: iter   30: f = -105.666386524264, ‖∇f‖ = 1.2189e-01, α = 2.11e-02, β = 1.07e+00, nfg = 2\n",
      "└ @ OptimKit /home/maavdamm/OptimKit.jl/src/cg.jl:95\n"
     ]
    },
    {
     "name": "stderr",
     "output_type": "stream",
     "text": [
      "┌ Info: CG: initializing with f = -105.666745170292, ‖∇f‖ = 8.0489e-02\n",
      "└ @ OptimKit /home/maavdamm/OptimKit.jl/src/cg.jl:39\n"
     ]
    },
    {
     "name": "stderr",
     "output_type": "stream",
     "text": [
      "┌ Info: CG: converged after 1 iterations: f = -105.666949728713, ‖∇f‖ = 1.4646e-02\n",
      "└ @ OptimKit /home/maavdamm/OptimKit.jl/src/cg.jl:112\n"
     ]
    },
    {
     "name": "stderr",
     "output_type": "stream",
     "text": [
      "┌ Info: CG: iter   31: f = -105.666949728713, ‖∇f‖ = 1.0817e-01, α = 2.15e-02, β = 9.50e-01, nfg = 2\n",
      "└ @ OptimKit /home/maavdamm/OptimKit.jl/src/cg.jl:95\n"
     ]
    },
    {
     "name": "stderr",
     "output_type": "stream",
     "text": [
      "┌ Info: CG: initializing with f = -105.667227152153, ‖∇f‖ = 6.5677e-02\n",
      "└ @ OptimKit /home/maavdamm/OptimKit.jl/src/cg.jl:39\n"
     ]
    },
    {
     "name": "stderr",
     "output_type": "stream",
     "text": [
      "┌ Info: CG: converged after 1 iterations: f = -105.667314018861, ‖∇f‖ = 2.8921e-02\n",
      "└ @ OptimKit /home/maavdamm/OptimKit.jl/src/cg.jl:112\n"
     ]
    },
    {
     "name": "stderr",
     "output_type": "stream",
     "text": [
      "┌ Info: CG: iter   32: f = -105.667314018860, ‖∇f‖ = 1.0586e-01, α = 1.59e-02, β = 1.09e+00, nfg = 2\n",
      "└ @ OptimKit /home/maavdamm/OptimKit.jl/src/cg.jl:95\n"
     ]
    },
    {
     "name": "stderr",
     "output_type": "stream",
     "text": [
      "┌ Info: CG: initializing with f = -105.667564007230, ‖∇f‖ = 6.4095e-02\n",
      "└ @ OptimKit /home/maavdamm/OptimKit.jl/src/cg.jl:39\n"
     ]
    },
    {
     "name": "stderr",
     "output_type": "stream",
     "text": [
      "┌ Info: CG: converged after 1 iterations: f = -105.667657606548, ‖∇f‖ = 2.7692e-02\n",
      "└ @ OptimKit /home/maavdamm/OptimKit.jl/src/cg.jl:112\n"
     ]
    },
    {
     "name": "stderr",
     "output_type": "stream",
     "text": [
      "┌ Info: CG: iter   33: f = -105.667657606547, ‖∇f‖ = 9.8926e-02, α = 1.78e-02, β = 8.22e-01, nfg = 2\n",
      "└ @ OptimKit /home/maavdamm/OptimKit.jl/src/cg.jl:95\n"
     ]
    },
    {
     "name": "stderr",
     "output_type": "stream",
     "text": [
      "┌ Info: CG: initializing with f = -105.667863809156, ‖∇f‖ = 5.1532e-02\n",
      "└ @ OptimKit /home/maavdamm/OptimKit.jl/src/cg.jl:39\n"
     ]
    },
    {
     "name": "stderr",
     "output_type": "stream",
     "text": [
      "┌ Info: CG: converged after 1 iterations: f = -105.667922845209, ‖∇f‖ = 2.4067e-02\n",
      "└ @ OptimKit /home/maavdamm/OptimKit.jl/src/cg.jl:112\n"
     ]
    },
    {
     "name": "stderr",
     "output_type": "stream",
     "text": [
      "┌ Info: CG: iter   34: f = -105.667922845209, ‖∇f‖ = 9.5550e-02, α = 1.36e-02, β = 1.09e+00, nfg = 2\n",
      "└ @ OptimKit /home/maavdamm/OptimKit.jl/src/cg.jl:95\n"
     ]
    },
    {
     "name": "stderr",
     "output_type": "stream",
     "text": [
      "┌ Info: CG: initializing with f = -105.668134244878, ‖∇f‖ = 6.0078e-02\n",
      "└ @ OptimKit /home/maavdamm/OptimKit.jl/src/cg.jl:39\n"
     ]
    },
    {
     "name": "stderr",
     "output_type": "stream",
     "text": [
      "┌ Info: CG: converged after 1 iterations: f = -105.668211214890, ‖∇f‖ = 2.7080e-02\n",
      "└ @ OptimKit /home/maavdamm/OptimKit.jl/src/cg.jl:112\n"
     ]
    },
    {
     "name": "stderr",
     "output_type": "stream",
     "text": [
      "┌ Info: CG: iter   35: f = -105.668211214890, ‖∇f‖ = 8.4753e-02, α = 2.26e-02, β = 5.60e-01, nfg = 2\n",
      "└ @ OptimKit /home/maavdamm/OptimKit.jl/src/cg.jl:95\n"
     ]
    },
    {
     "name": "stderr",
     "output_type": "stream",
     "text": [
      "┌ Info: CG: initializing with f = -105.668368266626, ‖∇f‖ = 4.8816e-02\n",
      "└ @ OptimKit /home/maavdamm/OptimKit.jl/src/cg.jl:39\n"
     ]
    },
    {
     "name": "stderr",
     "output_type": "stream",
     "text": [
      "┌ Info: CG: converged after 1 iterations: f = -105.668422295777, ‖∇f‖ = 2.3720e-02\n",
      "└ @ OptimKit /home/maavdamm/OptimKit.jl/src/cg.jl:112\n"
     ]
    },
    {
     "name": "stderr",
     "output_type": "stream",
     "text": [
      "┌ Info: CG: iter   36: f = -105.668422295777, ‖∇f‖ = 8.3280e-02, α = 1.46e-02, β = 1.21e+00, nfg = 2\n",
      "└ @ OptimKit /home/maavdamm/OptimKit.jl/src/cg.jl:95\n"
     ]
    },
    {
     "name": "stderr",
     "output_type": "stream",
     "text": [
      "┌ Info: CG: initializing with f = -105.668574342975, ‖∇f‖ = 5.1474e-02\n",
      "└ @ OptimKit /home/maavdamm/OptimKit.jl/src/cg.jl:39\n"
     ]
    },
    {
     "name": "stderr",
     "output_type": "stream",
     "text": [
      "┌ Info: CG: converged after 1 iterations: f = -105.668630483178, ‖∇f‖ = 2.4663e-02\n",
      "└ @ OptimKit /home/maavdamm/OptimKit.jl/src/cg.jl:112\n"
     ]
    },
    {
     "name": "stderr",
     "output_type": "stream",
     "text": [
      "┌ Info: CG: iter   37: f = -105.668630483177, ‖∇f‖ = 7.3195e-02, α = 1.86e-02, β = 7.29e-01, nfg = 2\n",
      "└ @ OptimKit /home/maavdamm/OptimKit.jl/src/cg.jl:95\n"
     ]
    },
    {
     "name": "stderr",
     "output_type": "stream",
     "text": [
      "┌ Info: CG: initializing with f = -105.668756045423, ‖∇f‖ = 4.7618e-02\n",
      "└ @ OptimKit /home/maavdamm/OptimKit.jl/src/cg.jl:39\n"
     ]
    },
    {
     "name": "stderr",
     "output_type": "stream",
     "text": [
      "┌ Info: CG: converged after 1 iterations: f = -105.668805494379, ‖∇f‖ = 2.3925e-02\n",
      "└ @ OptimKit /home/maavdamm/OptimKit.jl/src/cg.jl:112\n"
     ]
    },
    {
     "name": "stderr",
     "output_type": "stream",
     "text": [
      "┌ Info: CG: iter   38: f = -105.668805494379, ‖∇f‖ = 6.9809e-02, α = 1.92e-02, β = 8.08e-01, nfg = 2\n",
      "└ @ OptimKit /home/maavdamm/OptimKit.jl/src/cg.jl:95\n"
     ]
    },
    {
     "name": "stderr",
     "output_type": "stream",
     "text": [
      "┌ Info: CG: initializing with f = -105.668911581945, ‖∇f‖ = 4.5850e-02\n",
      "└ @ OptimKit /home/maavdamm/OptimKit.jl/src/cg.jl:39\n"
     ]
    },
    {
     "name": "stderr",
     "output_type": "stream",
     "text": [
      "┌ Info: CG: converged after 1 iterations: f = -105.668956623038, ‖∇f‖ = 2.3545e-02\n",
      "└ @ OptimKit /home/maavdamm/OptimKit.jl/src/cg.jl:112\n"
     ]
    },
    {
     "name": "stderr",
     "output_type": "stream",
     "text": [
      "┌ Info: CG: iter   39: f = -105.668956623038, ‖∇f‖ = 7.2604e-02, α = 1.61e-02, β = 1.06e+00, nfg = 2\n",
      "└ @ OptimKit /home/maavdamm/OptimKit.jl/src/cg.jl:95\n"
     ]
    },
    {
     "name": "stderr",
     "output_type": "stream",
     "text": [
      "┌ Info: CG: initializing with f = -105.669067293147, ‖∇f‖ = 5.0025e-02\n",
      "└ @ OptimKit /home/maavdamm/OptimKit.jl/src/cg.jl:39\n"
     ]
    },
    {
     "name": "stderr",
     "output_type": "stream",
     "text": [
      "┌ Info: CG: converged after 1 iterations: f = -105.669118720418, ‖∇f‖ = 2.4501e-02\n",
      "└ @ OptimKit /home/maavdamm/OptimKit.jl/src/cg.jl:112\n"
     ]
    },
    {
     "name": "stderr",
     "output_type": "stream",
     "text": [
      "┌ Info: CG: iter   40: f = -105.669118720418, ‖∇f‖ = 7.0412e-02, α = 1.69e-02, β = 9.41e-01, nfg = 2\n",
      "└ @ OptimKit /home/maavdamm/OptimKit.jl/src/cg.jl:95\n"
     ]
    },
    {
     "name": "stderr",
     "output_type": "stream",
     "text": [
      "┌ Info: CG: initializing with f = -105.669222882069, ‖∇f‖ = 4.9644e-02\n",
      "└ @ OptimKit /home/maavdamm/OptimKit.jl/src/cg.jl:39\n"
     ]
    },
    {
     "name": "stderr",
     "output_type": "stream",
     "text": [
      "┌ Info: CG: converged after 1 iterations: f = -105.669273440581, ‖∇f‖ = 2.4543e-02\n",
      "└ @ OptimKit /home/maavdamm/OptimKit.jl/src/cg.jl:112\n"
     ]
    },
    {
     "name": "stderr",
     "output_type": "stream",
     "text": [
      "┌ Info: CG: iter   41: f = -105.669273440581, ‖∇f‖ = 7.1674e-02, α = 1.39e-02, β = 1.15e+00, nfg = 2\n",
      "└ @ OptimKit /home/maavdamm/OptimKit.jl/src/cg.jl:95\n"
     ]
    },
    {
     "name": "stderr",
     "output_type": "stream",
     "text": [
      "┌ Info: CG: initializing with f = -105.669376891477, ‖∇f‖ = 5.1006e-02\n",
      "└ @ OptimKit /home/maavdamm/OptimKit.jl/src/cg.jl:39\n"
     ]
    },
    {
     "name": "stderr",
     "output_type": "stream",
     "text": [
      "┌ Info: CG: converged after 1 iterations: f = -105.669429006547, ‖∇f‖ = 2.4786e-02\n",
      "└ @ OptimKit /home/maavdamm/OptimKit.jl/src/cg.jl:112\n"
     ]
    },
    {
     "name": "stderr",
     "output_type": "stream",
     "text": [
      "┌ Info: CG: iter   42: f = -105.669429006547, ‖∇f‖ = 7.2286e-02, α = 1.30e-02, β = 1.04e+00, nfg = 2\n",
      "└ @ OptimKit /home/maavdamm/OptimKit.jl/src/cg.jl:95\n"
     ]
    },
    {
     "name": "stderr",
     "output_type": "stream",
     "text": [
      "┌ Info: CG: initializing with f = -105.669536004272, ‖∇f‖ = 5.2066e-02\n",
      "└ @ OptimKit /home/maavdamm/OptimKit.jl/src/cg.jl:39\n"
     ]
    },
    {
     "name": "stderr",
     "output_type": "stream",
     "text": [
      "┌ Info: CG: converged after 1 iterations: f = -105.669589403287, ‖∇f‖ = 2.5024e-02\n",
      "└ @ OptimKit /home/maavdamm/OptimKit.jl/src/cg.jl:112\n"
     ]
    },
    {
     "name": "stderr",
     "output_type": "stream",
     "text": [
      "┌ Info: CG: iter   43: f = -105.669589403287, ‖∇f‖ = 6.7525e-02, α = 1.34e-02, β = 9.42e-01, nfg = 2\n",
      "└ @ OptimKit /home/maavdamm/OptimKit.jl/src/cg.jl:95\n"
     ]
    },
    {
     "name": "stderr",
     "output_type": "stream",
     "text": [
      "┌ Info: CG: initializing with f = -105.669688401375, ‖∇f‖ = 4.8968e-02\n",
      "└ @ OptimKit /home/maavdamm/OptimKit.jl/src/cg.jl:39\n"
     ]
    },
    {
     "name": "stderr",
     "output_type": "stream",
     "text": [
      "┌ Info: CG: converged after 1 iterations: f = -105.669736002407, ‖∇f‖ = 2.4608e-02\n",
      "└ @ OptimKit /home/maavdamm/OptimKit.jl/src/cg.jl:112\n"
     ]
    },
    {
     "name": "stderr",
     "output_type": "stream",
     "text": [
      "┌ Info: CG: iter   44: f = -105.669736002407, ‖∇f‖ = 6.4018e-02, α = 1.32e-02, β = 9.19e-01, nfg = 2\n",
      "└ @ OptimKit /home/maavdamm/OptimKit.jl/src/cg.jl:95\n"
     ]
    },
    {
     "name": "stderr",
     "output_type": "stream",
     "text": [
      "┌ Info: CG: initializing with f = -105.669824699684, ‖∇f‖ = 4.6597e-02\n",
      "└ @ OptimKit /home/maavdamm/OptimKit.jl/src/cg.jl:39\n"
     ]
    },
    {
     "name": "stderr",
     "output_type": "stream",
     "text": [
      "┌ Info: CG: converged after 1 iterations: f = -105.669867828609, ‖∇f‖ = 2.4344e-02\n",
      "└ @ OptimKit /home/maavdamm/OptimKit.jl/src/cg.jl:112\n"
     ]
    },
    {
     "name": "stderr",
     "output_type": "stream",
     "text": [
      "┌ Info: CG: iter   45: f = -105.669867828609, ‖∇f‖ = 6.3236e-02, α = 1.34e-02, β = 8.94e-01, nfg = 2\n",
      "└ @ OptimKit /home/maavdamm/OptimKit.jl/src/cg.jl:95\n"
     ]
    },
    {
     "name": "stderr",
     "output_type": "stream",
     "text": [
      "┌ Info: CG: initializing with f = -105.669953268555, ‖∇f‖ = 4.6413e-02\n",
      "└ @ OptimKit /home/maavdamm/OptimKit.jl/src/cg.jl:39\n"
     ]
    },
    {
     "name": "stderr",
     "output_type": "stream",
     "text": [
      "┌ Info: CG: converged after 1 iterations: f = -105.669995506600, ‖∇f‖ = 2.4486e-02\n",
      "└ @ OptimKit /home/maavdamm/OptimKit.jl/src/cg.jl:112\n"
     ]
    },
    {
     "name": "stderr",
     "output_type": "stream",
     "text": [
      "┌ Info: CG: iter   46: f = -105.669995506600, ‖∇f‖ = 6.0399e-02, α = 1.41e-02, β = 8.89e-01, nfg = 2\n",
      "└ @ OptimKit /home/maavdamm/OptimKit.jl/src/cg.jl:95\n"
     ]
    },
    {
     "name": "stderr",
     "output_type": "stream",
     "text": [
      "┌ Info: CG: initializing with f = -105.670075277085, ‖∇f‖ = 4.4631e-02\n",
      "└ @ OptimKit /home/maavdamm/OptimKit.jl/src/cg.jl:39\n"
     ]
    },
    {
     "name": "stderr",
     "output_type": "stream",
     "text": [
      "┌ Info: CG: converged after 1 iterations: f = -105.670114562475, ‖∇f‖ = 2.4602e-02\n",
      "└ @ OptimKit /home/maavdamm/OptimKit.jl/src/cg.jl:112\n"
     ]
    },
    {
     "name": "stderr",
     "output_type": "stream",
     "text": [
      "┌ Info: CG: iter   47: f = -105.670114562474, ‖∇f‖ = 5.8224e-02, α = 1.36e-02, β = 9.50e-01, nfg = 2\n",
      "└ @ OptimKit /home/maavdamm/OptimKit.jl/src/cg.jl:95\n"
     ]
    },
    {
     "name": "stderr",
     "output_type": "stream",
     "text": [
      "┌ Info: CG: initializing with f = -105.670186428302, ‖∇f‖ = 4.2193e-02\n",
      "└ @ OptimKit /home/maavdamm/OptimKit.jl/src/cg.jl:39\n"
     ]
    },
    {
     "name": "stderr",
     "output_type": "stream",
     "text": [
      "┌ Info: CG: converged after 1 iterations: f = -105.670222137901, ‖∇f‖ = 2.4752e-02\n",
      "└ @ OptimKit /home/maavdamm/OptimKit.jl/src/cg.jl:112\n"
     ]
    },
    {
     "name": "stderr",
     "output_type": "stream",
     "text": [
      "┌ Info: CG: iter   48: f = -105.670222137901, ‖∇f‖ = 5.8731e-02, α = 1.20e-02, β = 1.02e+00, nfg = 2\n",
      "└ @ OptimKit /home/maavdamm/OptimKit.jl/src/cg.jl:95\n"
     ]
    },
    {
     "name": "stderr",
     "output_type": "stream",
     "text": [
      "┌ Info: CG: initializing with f = -105.670291202979, ‖∇f‖ = 4.1518e-02\n",
      "└ @ OptimKit /home/maavdamm/OptimKit.jl/src/cg.jl:39\n"
     ]
    },
    {
     "name": "stderr",
     "output_type": "stream",
     "text": [
      "┌ Info: CG: converged after 1 iterations: f = -105.670325874259, ‖∇f‖ = 2.5125e-02\n",
      "└ @ OptimKit /home/maavdamm/OptimKit.jl/src/cg.jl:112\n"
     ]
    },
    {
     "name": "stderr",
     "output_type": "stream",
     "text": [
      "┌ Info: CG: iter   49: f = -105.670325874258, ‖∇f‖ = 5.8111e-02, α = 1.16e-02, β = 9.69e-01, nfg = 2\n",
      "└ @ OptimKit /home/maavdamm/OptimKit.jl/src/cg.jl:95\n"
     ]
    },
    {
     "name": "stderr",
     "output_type": "stream",
     "text": [
      "┌ Info: CG: initializing with f = -105.670393344690, ‖∇f‖ = 4.0868e-02\n",
      "└ @ OptimKit /home/maavdamm/OptimKit.jl/src/cg.jl:39\n"
     ]
    },
    {
     "name": "stderr",
     "output_type": "stream",
     "text": [
      "┌ Info: CG: converged after 1 iterations: f = -105.670427229564, ‖∇f‖ = 2.5618e-02\n",
      "└ @ OptimKit /home/maavdamm/OptimKit.jl/src/cg.jl:112\n"
     ]
    },
    {
     "name": "stderr",
     "output_type": "stream",
     "text": [
      "┌ Info: CG: iter   50: f = -105.670427229564, ‖∇f‖ = 5.6211e-02, α = 1.17e-02, β = 9.29e-01, nfg = 2\n",
      "└ @ OptimKit /home/maavdamm/OptimKit.jl/src/cg.jl:95\n"
     ]
    },
    {
     "name": "stderr",
     "output_type": "stream",
     "text": [
      "┌ Info: CG: initializing with f = -105.670490316076, ‖∇f‖ = 3.9396e-02\n",
      "└ @ OptimKit /home/maavdamm/OptimKit.jl/src/cg.jl:39\n"
     ]
    },
    {
     "name": "stderr",
     "output_type": "stream",
     "text": [
      "┌ Info: CG: converged after 1 iterations: f = -105.670522642556, ‖∇f‖ = 2.6207e-02\n",
      "└ @ OptimKit /home/maavdamm/OptimKit.jl/src/cg.jl:112\n"
     ]
    },
    {
     "name": "stderr",
     "output_type": "stream",
     "text": [
      "┌ Info: CG: iter   51: f = -105.670522642556, ‖∇f‖ = 5.6065e-02, α = 1.10e-02, β = 9.79e-01, nfg = 2\n",
      "└ @ OptimKit /home/maavdamm/OptimKit.jl/src/cg.jl:95\n"
     ]
    },
    {
     "name": "stderr",
     "output_type": "stream",
     "text": [
      "┌ Info: CG: initializing with f = -105.670582489690, ‖∇f‖ = 3.8586e-02\n",
      "└ @ OptimKit /home/maavdamm/OptimKit.jl/src/cg.jl:39\n"
     ]
    },
    {
     "name": "stderr",
     "output_type": "stream",
     "text": [
      "┌ Info: CG: converged after 1 iterations: f = -105.670614242317, ‖∇f‖ = 2.6980e-02\n",
      "└ @ OptimKit /home/maavdamm/OptimKit.jl/src/cg.jl:112\n"
     ]
    },
    {
     "name": "stderr",
     "output_type": "stream",
     "text": [
      "┌ Info: CG: iter   52: f = -105.670614242317, ‖∇f‖ = 5.6736e-02, α = 1.01e-02, β = 1.02e+00, nfg = 2\n",
      "└ @ OptimKit /home/maavdamm/OptimKit.jl/src/cg.jl:95\n"
     ]
    },
    {
     "name": "stderr",
     "output_type": "stream",
     "text": [
      "┌ Info: CG: initializing with f = -105.670673332783, ‖∇f‖ = 3.8386e-02\n",
      "└ @ OptimKit /home/maavdamm/OptimKit.jl/src/cg.jl:39\n"
     ]
    },
    {
     "name": "stderr",
     "output_type": "stream",
     "text": [
      "┌ Info: CG: converged after 1 iterations: f = -105.670705418971, ‖∇f‖ = 2.7978e-02\n",
      "└ @ OptimKit /home/maavdamm/OptimKit.jl/src/cg.jl:112\n"
     ]
    },
    {
     "name": "stderr",
     "output_type": "stream",
     "text": [
      "┌ Info: CG: iter   53: f = -105.670705418971, ‖∇f‖ = 5.5906e-02, α = 9.66e-03, β = 9.94e-01, nfg = 2\n",
      "└ @ OptimKit /home/maavdamm/OptimKit.jl/src/cg.jl:95\n"
     ]
    },
    {
     "name": "stderr",
     "output_type": "stream",
     "text": [
      "┌ Info: CG: initializing with f = -105.670762942279, ‖∇f‖ = 3.7500e-02\n",
      "└ @ OptimKit /home/maavdamm/OptimKit.jl/src/cg.jl:39\n"
     ]
    },
    {
     "name": "stderr",
     "output_type": "stream",
     "text": [
      "┌ Info: CG: converged after 1 iterations: f = -105.670794968511, ‖∇f‖ = 2.9339e-02\n",
      "└ @ OptimKit /home/maavdamm/OptimKit.jl/src/cg.jl:112\n"
     ]
    },
    {
     "name": "stderr",
     "output_type": "stream",
     "text": [
      "┌ Info: CG: iter   54: f = -105.670794968511, ‖∇f‖ = 5.4372e-02, α = 9.29e-03, β = 9.74e-01, nfg = 2\n",
      "└ @ OptimKit /home/maavdamm/OptimKit.jl/src/cg.jl:95\n"
     ]
    },
    {
     "name": "stderr",
     "output_type": "stream",
     "text": [
      "┌ Info: CG: initializing with f = -105.670848986450, ‖∇f‖ = 3.5823e-02\n",
      "└ @ OptimKit /home/maavdamm/OptimKit.jl/src/cg.jl:39\n"
     ]
    },
    {
     "name": "stderr",
     "output_type": "stream",
     "text": [
      "┌ Info: CG: converged after 1 iterations: f = -105.670880794298, ‖∇f‖ = 3.1379e-02\n",
      "└ @ OptimKit /home/maavdamm/OptimKit.jl/src/cg.jl:112\n"
     ]
    },
    {
     "name": "stderr",
     "output_type": "stream",
     "text": [
      "┌ Info: CG: iter   55: f = -105.670880794298, ‖∇f‖ = 5.4417e-02, α = 8.47e-03, β = 1.01e+00, nfg = 2\n",
      "└ @ OptimKit /home/maavdamm/OptimKit.jl/src/cg.jl:95\n"
     ]
    },
    {
     "name": "stderr",
     "output_type": "stream",
     "text": [
      "┌ Info: CG: initializing with f = -105.670931475709, ‖∇f‖ = 3.4020e-02\n",
      "└ @ OptimKit /home/maavdamm/OptimKit.jl/src/cg.jl:39\n"
     ]
    },
    {
     "name": "stderr",
     "output_type": "stream",
     "text": [
      "┌ Info: CG: converged after 1 iterations: f = -105.670964253737, ‖∇f‖ = 3.4643e-02\n",
      "└ @ OptimKit /home/maavdamm/OptimKit.jl/src/cg.jl:112\n"
     ]
    },
    {
     "name": "stderr",
     "output_type": "stream",
     "text": [
      "┌ Info: CG: iter   56: f = -105.670964253737, ‖∇f‖ = 5.6461e-02, α = 7.05e-03, β = 1.12e+00, nfg = 2\n",
      "└ @ OptimKit /home/maavdamm/OptimKit.jl/src/cg.jl:95\n"
     ]
    },
    {
     "name": "stderr",
     "output_type": "stream",
     "text": [
      "┌ Info: CG: initializing with f = -105.671012575001, ‖∇f‖ = 3.1940e-02\n",
      "└ @ OptimKit /home/maavdamm/OptimKit.jl/src/cg.jl:39\n"
     ]
    },
    {
     "name": "stderr",
     "output_type": "stream",
     "text": [
      "┌ Info: CG: converged after 1 iterations: f = -105.671049717721, ‖∇f‖ = 4.0991e-02\n",
      "└ @ OptimKit /home/maavdamm/OptimKit.jl/src/cg.jl:112\n"
     ]
    },
    {
     "name": "stderr",
     "output_type": "stream",
     "text": [
      "┌ Info: CG: iter   57: f = -105.671049717721, ‖∇f‖ = 6.0817e-02, α = 5.05e-03, β = 1.32e+00, nfg = 2\n",
      "└ @ OptimKit /home/maavdamm/OptimKit.jl/src/cg.jl:95\n"
     ]
    },
    {
     "name": "stderr",
     "output_type": "stream",
     "text": [
      "┌ Info: CG: initializing with f = -105.671094153521, ‖∇f‖ = 2.7491e-02\n",
      "└ @ OptimKit /home/maavdamm/OptimKit.jl/src/cg.jl:39\n"
     ]
    },
    {
     "name": "stderr",
     "output_type": "stream",
     "text": [
      "┌ Info: CG: iter    1: f = -105.671209024168, ‖∇f‖ = 9.0411e-02, α = 3.00e-01, β = 0.00e+00, nfg = 2\n",
      "└ @ OptimKit /home/maavdamm/OptimKit.jl/src/cg.jl:95\n"
     ]
    },
    {
     "name": "stderr",
     "output_type": "stream",
     "text": [
      "┌ Info: CG: iter    2: f = -106.456395063348, ‖∇f‖ = 6.5402e+00, α = 6.36e+00, β = 1.11e+01, nfg = 5\n",
      "└ @ OptimKit /home/maavdamm/OptimKit.jl/src/cg.jl:95\n"
     ]
    },
    {
     "name": "stderr",
     "output_type": "stream",
     "text": [
      "┌ Info: CG: iter    3: f = -106.482635903293, ‖∇f‖ = 7.0953e+00, α = 5.16e-02, β = 1.98e+01, nfg = 5\n",
      "└ @ OptimKit /home/maavdamm/OptimKit.jl/src/cg.jl:95\n"
     ]
    },
    {
     "name": "stderr",
     "output_type": "stream",
     "text": [
      "┌ Info: CG: iter    4: f = -107.129044194826, ‖∇f‖ = 3.5596e+00, α = 6.58e-01, β = 1.48e-01, nfg = 5\n",
      "└ @ OptimKit /home/maavdamm/OptimKit.jl/src/cg.jl:95\n"
     ]
    },
    {
     "name": "stderr",
     "output_type": "stream",
     "text": [
      "┌ Info: CG: iter    5: f = -107.293091444284, ‖∇f‖ = 2.2907e+00, α = 3.90e-01, β = -1.05e-01, nfg = 3\n",
      "└ @ OptimKit /home/maavdamm/OptimKit.jl/src/cg.jl:95\n"
     ]
    },
    {
     "name": "stderr",
     "output_type": "stream",
     "text": [
      "┌ Info: CG: iter    6: f = -107.312061323409, ‖∇f‖ = 1.2139e+00, α = 3.60e-01, β = 2.06e-01, nfg = 2\n",
      "└ @ OptimKit /home/maavdamm/OptimKit.jl/src/cg.jl:95\n",
      "┌ Warning: resorting to η\n",
      "└ @ OptimKit /home/maavdamm/OptimKit.jl/src/cg.jl:151\n"
     ]
    },
    {
     "name": "stderr",
     "output_type": "stream",
     "text": [
      "┌ Info: CG: iter    7: f = -107.312071904282, ‖∇f‖ = 1.1737e+00, α = 3.43e-02, β = -9.73e-03, nfg = 3\n",
      "└ @ OptimKit /home/maavdamm/OptimKit.jl/src/cg.jl:95\n"
     ]
    },
    {
     "name": "stderr",
     "output_type": "stream",
     "text": [
      "┌ Info: CG: iter    8: f = -107.312073243102, ‖∇f‖ = 1.1589e+00, α = 5.08e-03, β = 1.50e+00, nfg = 2\n",
      "└ @ OptimKit /home/maavdamm/OptimKit.jl/src/cg.jl:95\n"
     ]
    },
    {
     "name": "stderr",
     "output_type": "stream",
     "text": [
      "┌ Info: CG: iter    9: f = -107.312078642455, ‖∇f‖ = 1.1407e+00, α = 5.62e-03, β = 7.21e-01, nfg = 2\n",
      "└ @ OptimKit /home/maavdamm/OptimKit.jl/src/cg.jl:95\n"
     ]
    },
    {
     "name": "stderr",
     "output_type": "stream",
     "text": [
      "┌ Info: CG: iter   10: f = -107.312085047309, ‖∇f‖ = 1.1139e+00, α = 2.07e-03, β = 3.63e+00, nfg = 2\n",
      "└ @ OptimKit /home/maavdamm/OptimKit.jl/src/cg.jl:95\n"
     ]
    },
    {
     "name": "stderr",
     "output_type": "stream",
     "text": [
      "┌ Info: CG: iter   11: f = -107.312209874600, ‖∇f‖ = 9.9819e-01, α = 3.60e-02, β = 1.64e-01, nfg = 4\n",
      "└ @ OptimKit /home/maavdamm/OptimKit.jl/src/cg.jl:95\n"
     ]
    },
    {
     "name": "stderr",
     "output_type": "stream",
     "text": [
      "┌ Info: CG: iter   12: f = -107.312462481110, ‖∇f‖ = 7.9735e-01, α = 5.59e-02, β = 8.17e-01, nfg = 2\n",
      "└ @ OptimKit /home/maavdamm/OptimKit.jl/src/cg.jl:95\n"
     ]
    },
    {
     "name": "stderr",
     "output_type": "stream",
     "text": [
      "┌ Info: CG: iter   13: f = -107.313864878001, ‖∇f‖ = 3.4010e-01, α = 1.20e-01, β = 9.22e-01, nfg = 3\n",
      "└ @ OptimKit /home/maavdamm/OptimKit.jl/src/cg.jl:95\n"
     ]
    },
    {
     "name": "stderr",
     "output_type": "stream",
     "text": [
      "┌ Info: CG: iter   14: f = -107.315953008877, ‖∇f‖ = 5.9167e-01, α = 9.18e-03, β = 1.86e+01, nfg = 2\n",
      "└ @ OptimKit /home/maavdamm/OptimKit.jl/src/cg.jl:95\n",
      "┌ Warning: resorting to η\n",
      "└ @ OptimKit /home/maavdamm/OptimKit.jl/src/cg.jl:151\n"
     ]
    },
    {
     "name": "stderr",
     "output_type": "stream",
     "text": [
      "┌ Info: CG: iter   15: f = -107.369297705697, ‖∇f‖ = 6.1096e-01, α = 1.54e+00, β = -5.23e-05, nfg = 6\n",
      "└ @ OptimKit /home/maavdamm/OptimKit.jl/src/cg.jl:95\n"
     ]
    },
    {
     "name": "stderr",
     "output_type": "stream",
     "text": [
      "┌ Info: CG: iter   16: f = -107.372917168559, ‖∇f‖ = 5.6249e-01, α = 1.18e-02, β = 1.44e+00, nfg = 3\n",
      "└ @ OptimKit /home/maavdamm/OptimKit.jl/src/cg.jl:95\n"
     ]
    },
    {
     "name": "stderr",
     "output_type": "stream",
     "text": [
      "┌ Info: CG: iter   17: f = -107.391736239535, ‖∇f‖ = 9.3977e-01, α = 3.73e-02, β = 2.34e+00, nfg = 3\n",
      "└ @ OptimKit /home/maavdamm/OptimKit.jl/src/cg.jl:95\n"
     ]
    },
    {
     "name": "stderr",
     "output_type": "stream",
     "text": [
      "┌ Info: CG: iter   18: f = -107.519076000789, ‖∇f‖ = 1.0793e+00, α = 2.60e-01, β = 8.29e-01, nfg = 3\n",
      "└ @ OptimKit /home/maavdamm/OptimKit.jl/src/cg.jl:95\n"
     ]
    },
    {
     "name": "stderr",
     "output_type": "stream",
     "text": [
      "┌ Info: CG: iter   19: f = -107.684309682899, ‖∇f‖ = 9.9785e-01, α = 3.50e-01, β = 2.54e-01, nfg = 2\n",
      "└ @ OptimKit /home/maavdamm/OptimKit.jl/src/cg.jl:95\n",
      "┌ Warning: resorting to η\n",
      "└ @ OptimKit /home/maavdamm/OptimKit.jl/src/cg.jl:151\n"
     ]
    },
    {
     "name": "stderr",
     "output_type": "stream",
     "text": [
      "┌ Info: CG: iter   20: f = -107.745757719337, ‖∇f‖ = 1.7427e-01, α = 9.36e-01, β = -2.59e-02, nfg = 3\n",
      "└ @ OptimKit /home/maavdamm/OptimKit.jl/src/cg.jl:95\n"
     ]
    },
    {
     "name": "stderr",
     "output_type": "stream",
     "text": [
      "┌ Info: CG: iter   21: f = -107.749789566420, ‖∇f‖ = 1.5277e-01, α = 8.96e-02, β = 3.72e-01, nfg = 2\n",
      "└ @ OptimKit /home/maavdamm/OptimKit.jl/src/cg.jl:95\n",
      "┌ Warning: resorting to η\n",
      "└ @ OptimKit /home/maavdamm/OptimKit.jl/src/cg.jl:151\n"
     ]
    },
    {
     "name": "stderr",
     "output_type": "stream",
     "text": [
      "┌ Info: CG: iter   22: f = -107.755646489331, ‖∇f‖ = 8.1306e-02, α = 4.69e-01, β = -3.47e-03, nfg = 3\n",
      "└ @ OptimKit /home/maavdamm/OptimKit.jl/src/cg.jl:95\n"
     ]
    },
    {
     "name": "stderr",
     "output_type": "stream",
     "text": [
      "┌ Info: CG: iter   23: f = -107.755947511629, ‖∇f‖ = 9.2852e-02, α = 7.87e-02, β = 3.52e-01, nfg = 2\n",
      "└ @ OptimKit /home/maavdamm/OptimKit.jl/src/cg.jl:95\n"
     ]
    },
    {
     "name": "stderr",
     "output_type": "stream",
     "text": [
      "┌ Info: CG: iter   24: f = -107.756911582598, ‖∇f‖ = 8.5389e-02, α = 2.29e-01, β = 1.14e+00, nfg = 3\n",
      "└ @ OptimKit /home/maavdamm/OptimKit.jl/src/cg.jl:95\n"
     ]
    },
    {
     "name": "stderr",
     "output_type": "stream",
     "text": [
      "┌ Info: CG: converged after 25 iterations: f = -107.757143852571, ‖∇f‖ = 5.9956e-02\n",
      "└ @ OptimKit /home/maavdamm/OptimKit.jl/src/cg.jl:112\n"
     ]
    },
    {
     "name": "stderr",
     "output_type": "stream",
     "text": [
      "┌ Info: CG: iter   58: f = -107.757143852571, ‖∇f‖ = 1.2407e+00, α = 1.50e-03, β = 2.98e+00, nfg = 2\n",
      "└ @ OptimKit /home/maavdamm/OptimKit.jl/src/cg.jl:95\n"
     ]
    },
    {
     "name": "stderr",
     "output_type": "stream",
     "text": [
      "┌ Info: CG: initializing with f = -108.169546430936, ‖∇f‖ = 1.3297e+00\n",
      "└ @ OptimKit /home/maavdamm/OptimKit.jl/src/cg.jl:39\n"
     ]
    },
    {
     "name": "stderr",
     "output_type": "stream",
     "text": [
      "┌ Info: CG: converged after 1 iterations: f = -108.200059987012, ‖∇f‖ = 1.5886e-01\n",
      "└ @ OptimKit /home/maavdamm/OptimKit.jl/src/cg.jl:112\n"
     ]
    },
    {
     "name": "stderr",
     "output_type": "stream",
     "text": [
      "┌ Info: CG: iter   59: f = -108.200059987011, ‖∇f‖ = 1.5939e+00, α = 4.40e-01, β = 1.14e-02, nfg = 6\n",
      "└ @ OptimKit /home/maavdamm/OptimKit.jl/src/cg.jl:95\n"
     ]
    },
    {
     "name": "stderr",
     "output_type": "stream",
     "text": [
      "┌ Info: CG: initializing with f = -108.244637450979, ‖∇f‖ = 2.5028e-01\n",
      "└ @ OptimKit /home/maavdamm/OptimKit.jl/src/cg.jl:39\n"
     ]
    },
    {
     "name": "stderr",
     "output_type": "stream",
     "text": [
      "┌ Info: CG: converged after 1 iterations: f = -108.247853117040, ‖∇f‖ = 1.1424e-01\n",
      "└ @ OptimKit /home/maavdamm/OptimKit.jl/src/cg.jl:112\n"
     ]
    },
    {
     "name": "stderr",
     "output_type": "stream",
     "text": [
      "┌ Info: CG: iter   60: f = -108.247853117040, ‖∇f‖ = 1.1499e+00, α = 1.59e-02, β = 2.62e+00, nfg = 3\n",
      "└ @ OptimKit /home/maavdamm/OptimKit.jl/src/cg.jl:95\n"
     ]
    },
    {
     "name": "stderr",
     "output_type": "stream",
     "text": [
      "┌ Info: CG: initializing with f = -108.281049456559, ‖∇f‖ = 3.2488e-01\n",
      "└ @ OptimKit /home/maavdamm/OptimKit.jl/src/cg.jl:39\n"
     ]
    },
    {
     "name": "stderr",
     "output_type": "stream",
     "text": [
      "┌ Info: CG: converged after 1 iterations: f = -108.284108442350, ‖∇f‖ = 8.6138e-02\n",
      "└ @ OptimKit /home/maavdamm/OptimKit.jl/src/cg.jl:112\n"
     ]
    },
    {
     "name": "stderr",
     "output_type": "stream",
     "text": [
      "┌ Info: CG: iter   61: f = -108.284108442350, ‖∇f‖ = 6.3411e-01, α = 3.79e-02, β = 2.47e-01, nfg = 3\n",
      "└ @ OptimKit /home/maavdamm/OptimKit.jl/src/cg.jl:95\n"
     ]
    },
    {
     "name": "stderr",
     "output_type": "stream",
     "text": [
      "┌ Info: CG: initializing with f = -108.298919569069, ‖∇f‖ = 3.0362e-01\n",
      "└ @ OptimKit /home/maavdamm/OptimKit.jl/src/cg.jl:39\n"
     ]
    },
    {
     "name": "stderr",
     "output_type": "stream",
     "text": [
      "┌ Info: CG: converged after 1 iterations: f = -108.301701080202, ‖∇f‖ = 9.5211e-02\n",
      "└ @ OptimKit /home/maavdamm/OptimKit.jl/src/cg.jl:112\n"
     ]
    },
    {
     "name": "stderr",
     "output_type": "stream",
     "text": [
      "┌ Info: CG: iter   62: f = -108.301701080202, ‖∇f‖ = 5.6337e-01, α = 7.39e-02, β = 3.56e-01, nfg = 2\n",
      "└ @ OptimKit /home/maavdamm/OptimKit.jl/src/cg.jl:95\n"
     ]
    },
    {
     "name": "stderr",
     "output_type": "stream",
     "text": [
      "┌ Info: CG: initializing with f = -108.308868912235, ‖∇f‖ = 1.7110e-01\n",
      "└ @ OptimKit /home/maavdamm/OptimKit.jl/src/cg.jl:39\n"
     ]
    },
    {
     "name": "stderr",
     "output_type": "stream",
     "text": [
      "┌ Info: CG: converged after 1 iterations: f = -108.309285093515, ‖∇f‖ = 7.2226e-02\n",
      "└ @ OptimKit /home/maavdamm/OptimKit.jl/src/cg.jl:112\n"
     ]
    },
    {
     "name": "stderr",
     "output_type": "stream",
     "text": [
      "┌ Info: CG: iter   63: f = -108.309285093515, ‖∇f‖ = 4.3132e-01, α = 2.87e-02, β = 1.17e+00, nfg = 2\n",
      "└ @ OptimKit /home/maavdamm/OptimKit.jl/src/cg.jl:95\n"
     ]
    },
    {
     "name": "stderr",
     "output_type": "stream",
     "text": [
      "┌ Info: CG: initializing with f = -108.314647199197, ‖∇f‖ = 1.9834e-01\n",
      "└ @ OptimKit /home/maavdamm/OptimKit.jl/src/cg.jl:39\n"
     ]
    },
    {
     "name": "stderr",
     "output_type": "stream",
     "text": [
      "┌ Info: CG: converged after 1 iterations: f = -108.315200899784, ‖∇f‖ = 8.1218e-02\n",
      "└ @ OptimKit /home/maavdamm/OptimKit.jl/src/cg.jl:112\n"
     ]
    },
    {
     "name": "stderr",
     "output_type": "stream",
     "text": [
      "┌ Info: CG: iter   64: f = -108.315200899784, ‖∇f‖ = 4.0379e-01, α = 3.68e-02, β = 5.88e-01, nfg = 2\n",
      "└ @ OptimKit /home/maavdamm/OptimKit.jl/src/cg.jl:95\n"
     ]
    },
    {
     "name": "stderr",
     "output_type": "stream",
     "text": [
      "┌ Info: CG: initializing with f = -108.318932814498, ‖∇f‖ = 1.7171e-01\n",
      "└ @ OptimKit /home/maavdamm/OptimKit.jl/src/cg.jl:39\n"
     ]
    },
    {
     "name": "stderr",
     "output_type": "stream",
     "text": [
      "┌ Info: CG: converged after 1 iterations: f = -108.319355090397, ‖∇f‖ = 7.5111e-02\n",
      "└ @ OptimKit /home/maavdamm/OptimKit.jl/src/cg.jl:112\n"
     ]
    },
    {
     "name": "stderr",
     "output_type": "stream",
     "text": [
      "┌ Info: CG: iter   65: f = -108.319355090397, ‖∇f‖ = 3.1825e-01, α = 3.27e-02, β = 7.64e-01, nfg = 2\n",
      "└ @ OptimKit /home/maavdamm/OptimKit.jl/src/cg.jl:95\n"
     ]
    },
    {
     "name": "stderr",
     "output_type": "stream",
     "text": [
      "┌ Info: CG: initializing with f = -108.321878312426, ‖∇f‖ = 1.5490e-01\n",
      "└ @ OptimKit /home/maavdamm/OptimKit.jl/src/cg.jl:39\n"
     ]
    },
    {
     "name": "stderr",
     "output_type": "stream",
     "text": [
      "┌ Info: CG: converged after 1 iterations: f = -108.322229933847, ‖∇f‖ = 7.2718e-02\n",
      "└ @ OptimKit /home/maavdamm/OptimKit.jl/src/cg.jl:112\n"
     ]
    },
    {
     "name": "stderr",
     "output_type": "stream",
     "text": [
      "┌ Info: CG: iter   66: f = -108.322229933847, ‖∇f‖ = 2.6041e-01, α = 3.68e-02, β = 5.75e-01, nfg = 2\n",
      "└ @ OptimKit /home/maavdamm/OptimKit.jl/src/cg.jl:95\n"
     ]
    },
    {
     "name": "stderr",
     "output_type": "stream",
     "text": [
      "┌ Info: CG: initializing with f = -108.323966415502, ‖∇f‖ = 1.5139e-01\n",
      "└ @ OptimKit /home/maavdamm/OptimKit.jl/src/cg.jl:39\n"
     ]
    },
    {
     "name": "stderr",
     "output_type": "stream",
     "text": [
      "┌ Info: CG: converged after 1 iterations: f = -108.324307760909, ‖∇f‖ = 7.4459e-02\n",
      "└ @ OptimKit /home/maavdamm/OptimKit.jl/src/cg.jl:112\n"
     ]
    },
    {
     "name": "stderr",
     "output_type": "stream",
     "text": [
      "┌ Info: CG: iter   67: f = -108.324307760909, ‖∇f‖ = 2.4604e-01, α = 3.48e-02, β = 7.70e-01, nfg = 2\n",
      "└ @ OptimKit /home/maavdamm/OptimKit.jl/src/cg.jl:95\n"
     ]
    },
    {
     "name": "stderr",
     "output_type": "stream",
     "text": [
      "┌ Info: CG: initializing with f = -108.325758916950, ‖∇f‖ = 1.5167e-01\n",
      "└ @ OptimKit /home/maavdamm/OptimKit.jl/src/cg.jl:39\n"
     ]
    },
    {
     "name": "stderr",
     "output_type": "stream",
     "text": [
      "┌ Info: CG: converged after 1 iterations: f = -108.326106646523, ‖∇f‖ = 7.7146e-02\n",
      "└ @ OptimKit /home/maavdamm/OptimKit.jl/src/cg.jl:112\n"
     ]
    },
    {
     "name": "stderr",
     "output_type": "stream",
     "text": [
      "┌ Info: CG: iter   68: f = -108.326106646523, ‖∇f‖ = 2.4865e-01, α = 2.46e-02, β = 1.17e+00, nfg = 2\n",
      "└ @ OptimKit /home/maavdamm/OptimKit.jl/src/cg.jl:95\n"
     ]
    },
    {
     "name": "stderr",
     "output_type": "stream",
     "text": [
      "┌ Info: CG: initializing with f = -108.327537326949, ‖∇f‖ = 1.5871e-01\n",
      "└ @ OptimKit /home/maavdamm/OptimKit.jl/src/cg.jl:39\n"
     ]
    },
    {
     "name": "stderr",
     "output_type": "stream",
     "text": [
      "┌ Info: CG: converged after 1 iterations: f = -108.327920520059, ‖∇f‖ = 8.1592e-02\n",
      "└ @ OptimKit /home/maavdamm/OptimKit.jl/src/cg.jl:112\n"
     ]
    },
    {
     "name": "stderr",
     "output_type": "stream",
     "text": [
      "┌ Info: CG: iter   69: f = -108.327920520059, ‖∇f‖ = 2.2631e-01, α = 2.09e-02, β = 1.06e+00, nfg = 2\n",
      "└ @ OptimKit /home/maavdamm/OptimKit.jl/src/cg.jl:95\n"
     ]
    },
    {
     "name": "stderr",
     "output_type": "stream",
     "text": [
      "┌ Info: CG: initializing with f = -108.329109379962, ‖∇f‖ = 1.4420e-01\n",
      "└ @ OptimKit /home/maavdamm/OptimKit.jl/src/cg.jl:39\n"
     ]
    },
    {
     "name": "stderr",
     "output_type": "stream",
     "text": [
      "┌ Info: CG: converged after 1 iterations: f = -108.329440686230, ‖∇f‖ = 8.1538e-02\n",
      "└ @ OptimKit /home/maavdamm/OptimKit.jl/src/cg.jl:112\n"
     ]
    },
    {
     "name": "stderr",
     "output_type": "stream",
     "text": [
      "┌ Info: CG: iter   70: f = -108.329440686230, ‖∇f‖ = 2.1771e-01, α = 1.90e-02, β = 9.06e-01, nfg = 2\n",
      "└ @ OptimKit /home/maavdamm/OptimKit.jl/src/cg.jl:95\n"
     ]
    },
    {
     "name": "stderr",
     "output_type": "stream",
     "text": [
      "┌ Info: CG: initializing with f = -108.330488111122, ‖∇f‖ = 1.4637e-01\n",
      "└ @ OptimKit /home/maavdamm/OptimKit.jl/src/cg.jl:39\n"
     ]
    },
    {
     "name": "stderr",
     "output_type": "stream",
     "text": [
      "┌ Info: CG: converged after 1 iterations: f = -108.330835546078, ‖∇f‖ = 8.5400e-02\n",
      "└ @ OptimKit /home/maavdamm/OptimKit.jl/src/cg.jl:112\n"
     ]
    },
    {
     "name": "stderr",
     "output_type": "stream",
     "text": [
      "┌ Info: CG: iter   71: f = -108.330835546078, ‖∇f‖ = 2.2262e-01, α = 1.84e-02, β = 9.12e-01, nfg = 2\n",
      "└ @ OptimKit /home/maavdamm/OptimKit.jl/src/cg.jl:95\n"
     ]
    },
    {
     "name": "stderr",
     "output_type": "stream",
     "text": [
      "┌ Info: CG: initializing with f = -108.331864457877, ‖∇f‖ = 1.5097e-01\n",
      "└ @ OptimKit /home/maavdamm/OptimKit.jl/src/cg.jl:39\n"
     ]
    },
    {
     "name": "stderr",
     "output_type": "stream",
     "text": [
      "┌ Info: CG: converged after 1 iterations: f = -108.332239319735, ‖∇f‖ = 9.0061e-02\n",
      "└ @ OptimKit /home/maavdamm/OptimKit.jl/src/cg.jl:112\n"
     ]
    },
    {
     "name": "stderr",
     "output_type": "stream",
     "text": [
      "┌ Info: CG: iter   72: f = -108.332239319735, ‖∇f‖ = 2.2553e-01, α = 1.55e-02, β = 1.11e+00, nfg = 2\n",
      "└ @ OptimKit /home/maavdamm/OptimKit.jl/src/cg.jl:95\n"
     ]
    },
    {
     "name": "stderr",
     "output_type": "stream",
     "text": [
      "┌ Info: CG: initializing with f = -108.333255023723, ‖∇f‖ = 1.5303e-01\n",
      "└ @ OptimKit /home/maavdamm/OptimKit.jl/src/cg.jl:39\n"
     ]
    },
    {
     "name": "stderr",
     "output_type": "stream",
     "text": [
      "┌ Info: CG: converged after 1 iterations: f = -108.333649066010, ‖∇f‖ = 9.4653e-02\n",
      "└ @ OptimKit /home/maavdamm/OptimKit.jl/src/cg.jl:112\n"
     ]
    },
    {
     "name": "stderr",
     "output_type": "stream",
     "text": [
      "┌ Info: CG: iter   73: f = -108.333649066010, ‖∇f‖ = 2.2708e-01, α = 1.28e-02, β = 1.14e+00, nfg = 2\n",
      "└ @ OptimKit /home/maavdamm/OptimKit.jl/src/cg.jl:95\n"
     ]
    },
    {
     "name": "stderr",
     "output_type": "stream",
     "text": [
      "┌ Info: CG: initializing with f = -108.334635326131, ‖∇f‖ = 1.5351e-01\n",
      "└ @ OptimKit /home/maavdamm/OptimKit.jl/src/cg.jl:39\n"
     ]
    },
    {
     "name": "stderr",
     "output_type": "stream",
     "text": [
      "┌ Info: CG: converged after 1 iterations: f = -108.335043752394, ‖∇f‖ = 9.9352e-02\n",
      "└ @ OptimKit /home/maavdamm/OptimKit.jl/src/cg.jl:112\n"
     ]
    },
    {
     "name": "stderr",
     "output_type": "stream",
     "text": [
      "┌ Info: CG: iter   74: f = -108.335043752394, ‖∇f‖ = 2.3045e-01, α = 1.08e-02, β = 1.11e+00, nfg = 2\n",
      "└ @ OptimKit /home/maavdamm/OptimKit.jl/src/cg.jl:95\n"
     ]
    },
    {
     "name": "stderr",
     "output_type": "stream",
     "text": [
      "┌ Info: CG: initializing with f = -108.336013014595, ‖∇f‖ = 1.5446e-01\n",
      "└ @ OptimKit /home/maavdamm/OptimKit.jl/src/cg.jl:39\n"
     ]
    },
    {
     "name": "stderr",
     "output_type": "stream",
     "text": [
      "┌ Info: CG: converged after 1 iterations: f = -108.336439304490, ‖∇f‖ = 1.0446e-01\n",
      "└ @ OptimKit /home/maavdamm/OptimKit.jl/src/cg.jl:112\n"
     ]
    },
    {
     "name": "stderr",
     "output_type": "stream",
     "text": [
      "┌ Info: CG: iter   75: f = -108.336439304489, ‖∇f‖ = 2.3294e-01, α = 9.62e-03, β = 1.07e+00, nfg = 2\n",
      "└ @ OptimKit /home/maavdamm/OptimKit.jl/src/cg.jl:95\n"
     ]
    },
    {
     "name": "stderr",
     "output_type": "stream",
     "text": [
      "┌ Info: CG: initializing with f = -108.337402343089, ‖∇f‖ = 1.5465e-01\n",
      "└ @ OptimKit /home/maavdamm/OptimKit.jl/src/cg.jl:39\n"
     ]
    },
    {
     "name": "stderr",
     "output_type": "stream",
     "text": [
      "┌ Info: CG: converged after 1 iterations: f = -108.337845342434, ‖∇f‖ = 1.0984e-01\n",
      "└ @ OptimKit /home/maavdamm/OptimKit.jl/src/cg.jl:112\n"
     ]
    },
    {
     "name": "stderr",
     "output_type": "stream",
     "text": [
      "┌ Info: CG: iter   76: f = -108.337845342433, ‖∇f‖ = 2.3184e-01, α = 8.93e-03, β = 1.02e+00, nfg = 2\n",
      "└ @ OptimKit /home/maavdamm/OptimKit.jl/src/cg.jl:95\n"
     ]
    },
    {
     "name": "stderr",
     "output_type": "stream",
     "text": [
      "┌ Info: CG: initializing with f = -108.338790546345, ‖∇f‖ = 1.5289e-01\n",
      "└ @ OptimKit /home/maavdamm/OptimKit.jl/src/cg.jl:39\n"
     ]
    },
    {
     "name": "stderr",
     "output_type": "stream",
     "text": [
      "┌ Info: CG: converged after 1 iterations: f = -108.339244848950, ‖∇f‖ = 1.1544e-01\n",
      "└ @ OptimKit /home/maavdamm/OptimKit.jl/src/cg.jl:112\n"
     ]
    },
    {
     "name": "stderr",
     "output_type": "stream",
     "text": [
      "┌ Info: CG: iter   77: f = -108.339244848950, ‖∇f‖ = 2.3000e-01, α = 8.45e-03, β = 9.95e-01, nfg = 2\n",
      "└ @ OptimKit /home/maavdamm/OptimKit.jl/src/cg.jl:95\n"
     ]
    },
    {
     "name": "stderr",
     "output_type": "stream",
     "text": [
      "┌ Info: CG: initializing with f = -108.340157618451, ‖∇f‖ = 1.5017e-01\n",
      "└ @ OptimKit /home/maavdamm/OptimKit.jl/src/cg.jl:39\n"
     ]
    },
    {
     "name": "stderr",
     "output_type": "stream",
     "text": [
      "┌ Info: CG: converged after 1 iterations: f = -108.340622514852, ‖∇f‖ = 1.2149e-01\n",
      "└ @ OptimKit /home/maavdamm/OptimKit.jl/src/cg.jl:112\n"
     ]
    },
    {
     "name": "stderr",
     "output_type": "stream",
     "text": [
      "┌ Info: CG: iter   78: f = -108.340622514852, ‖∇f‖ = 2.3217e-01, α = 7.83e-03, β = 1.01e+00, nfg = 2\n",
      "└ @ OptimKit /home/maavdamm/OptimKit.jl/src/cg.jl:95\n"
     ]
    },
    {
     "name": "stderr",
     "output_type": "stream",
     "text": [
      "┌ Info: CG: initializing with f = -108.341511770779, ‖∇f‖ = 1.4863e-01\n",
      "└ @ OptimKit /home/maavdamm/OptimKit.jl/src/cg.jl:39\n"
     ]
    },
    {
     "name": "stderr",
     "output_type": "stream",
     "text": [
      "┌ Info: CG: converged after 1 iterations: f = -108.341994627470, ‖∇f‖ = 1.2805e-01\n",
      "└ @ OptimKit /home/maavdamm/OptimKit.jl/src/cg.jl:112\n"
     ]
    },
    {
     "name": "stderr",
     "output_type": "stream",
     "text": [
      "┌ Info: CG: iter   79: f = -108.341994627470, ‖∇f‖ = 2.3864e-01, α = 7.04e-03, β = 1.06e+00, nfg = 2\n",
      "└ @ OptimKit /home/maavdamm/OptimKit.jl/src/cg.jl:95\n"
     ]
    },
    {
     "name": "stderr",
     "output_type": "stream",
     "text": [
      "┌ Info: CG: initializing with f = -108.342880579933, ‖∇f‖ = 1.4855e-01\n",
      "└ @ OptimKit /home/maavdamm/OptimKit.jl/src/cg.jl:39\n"
     ]
    },
    {
     "name": "stderr",
     "output_type": "stream",
     "text": [
      "┌ Info: CG: converged after 1 iterations: f = -108.343389228148, ‖∇f‖ = 1.3497e-01\n",
      "└ @ OptimKit /home/maavdamm/OptimKit.jl/src/cg.jl:112\n"
     ]
    },
    {
     "name": "stderr",
     "output_type": "stream",
     "text": [
      "┌ Info: CG: iter   80: f = -108.343389228148, ‖∇f‖ = 2.4707e-01, α = 6.17e-03, β = 1.10e+00, nfg = 2\n",
      "└ @ OptimKit /home/maavdamm/OptimKit.jl/src/cg.jl:95\n"
     ]
    },
    {
     "name": "stderr",
     "output_type": "stream",
     "text": [
      "┌ Info: CG: initializing with f = -108.344286422964, ‖∇f‖ = 1.4907e-01\n",
      "└ @ OptimKit /home/maavdamm/OptimKit.jl/src/cg.jl:39\n"
     ]
    },
    {
     "name": "stderr",
     "output_type": "stream",
     "text": [
      "┌ Info: CG: converged after 1 iterations: f = -108.344825916653, ‖∇f‖ = 1.4222e-01\n",
      "└ @ OptimKit /home/maavdamm/OptimKit.jl/src/cg.jl:112\n"
     ]
    },
    {
     "name": "stderr",
     "output_type": "stream",
     "text": [
      "┌ Info: CG: iter   81: f = -108.344825916653, ‖∇f‖ = 2.5555e-01, α = 5.33e-03, β = 1.13e+00, nfg = 2\n",
      "└ @ OptimKit /home/maavdamm/OptimKit.jl/src/cg.jl:95\n"
     ]
    },
    {
     "name": "stderr",
     "output_type": "stream",
     "text": [
      "┌ Info: CG: initializing with f = -108.345738922253, ‖∇f‖ = 1.4934e-01\n",
      "└ @ OptimKit /home/maavdamm/OptimKit.jl/src/cg.jl:39\n"
     ]
    },
    {
     "name": "stderr",
     "output_type": "stream",
     "text": [
      "┌ Info: CG: converged after 1 iterations: f = -108.346312419716, ‖∇f‖ = 1.4997e-01\n",
      "└ @ OptimKit /home/maavdamm/OptimKit.jl/src/cg.jl:112\n"
     ]
    },
    {
     "name": "stderr",
     "output_type": "stream",
     "text": [
      "┌ Info: CG: iter   82: f = -108.346312419716, ‖∇f‖ = 2.6371e-01, α = 4.59e-03, β = 1.14e+00, nfg = 2\n",
      "└ @ OptimKit /home/maavdamm/OptimKit.jl/src/cg.jl:95\n"
     ]
    },
    {
     "name": "stderr",
     "output_type": "stream",
     "text": [
      "┌ Info: CG: initializing with f = -108.347237720859, ‖∇f‖ = 1.4874e-01\n",
      "└ @ OptimKit /home/maavdamm/OptimKit.jl/src/cg.jl:39\n"
     ]
    },
    {
     "name": "stderr",
     "output_type": "stream",
     "text": [
      "┌ Info: CG: converged after 1 iterations: f = -108.347848609392, ‖∇f‖ = 1.5858e-01\n",
      "└ @ OptimKit /home/maavdamm/OptimKit.jl/src/cg.jl:112\n"
     ]
    },
    {
     "name": "stderr",
     "output_type": "stream",
     "text": [
      "┌ Info: CG: iter   83: f = -108.347848609392, ‖∇f‖ = 2.7278e-01, α = 3.87e-03, β = 1.16e+00, nfg = 2\n",
      "└ @ OptimKit /home/maavdamm/OptimKit.jl/src/cg.jl:95\n"
     ]
    },
    {
     "name": "stderr",
     "output_type": "stream",
     "text": [
      "┌ Info: CG: initializing with f = -108.348777306957, ‖∇f‖ = 1.4675e-01\n",
      "└ @ OptimKit /home/maavdamm/OptimKit.jl/src/cg.jl:39\n"
     ]
    },
    {
     "name": "stderr",
     "output_type": "stream",
     "text": [
      "┌ Info: CG: converged after 1 iterations: f = -108.357960533662, ‖∇f‖ = 1.1542e-01\n",
      "└ @ OptimKit /home/maavdamm/OptimKit.jl/src/cg.jl:112\n"
     ]
    },
    {
     "name": "stderr",
     "output_type": "stream",
     "text": [
      "┌ Info: CG: iter   84: f = -108.357960533662, ‖∇f‖ = 2.9706e-01, α = 3.07e-03, β = 1.24e+00, nfg = 2\n",
      "└ @ OptimKit /home/maavdamm/OptimKit.jl/src/cg.jl:95\n"
     ]
    },
    {
     "name": "stderr",
     "output_type": "stream",
     "text": [
      "┌ Info: CG: initializing with f = -108.359361715782, ‖∇f‖ = 3.4335e-01\n",
      "└ @ OptimKit /home/maavdamm/OptimKit.jl/src/cg.jl:39\n"
     ]
    },
    {
     "name": "stderr",
     "output_type": "stream",
     "text": [
      "┌ Info: CG: iter    1: f = -108.392575995323, ‖∇f‖ = 2.6781e-01, α = 2.02e-01, β = 0.00e+00, nfg = 2\n",
      "└ @ OptimKit /home/maavdamm/OptimKit.jl/src/cg.jl:95\n"
     ]
    },
    {
     "name": "stderr",
     "output_type": "stream",
     "text": [
      "┌ Info: CG: converged after 2 iterations: f = -108.397363412223, ‖∇f‖ = 1.2409e-01\n",
      "└ @ OptimKit /home/maavdamm/OptimKit.jl/src/cg.jl:112\n"
     ]
    },
    {
     "name": "stderr",
     "output_type": "stream",
     "text": [
      "┌ Info: CG: iter   85: f = -108.397363412223, ‖∇f‖ = 3.1878e-01, α = 1.81e-02, β = 2.09e-01, nfg = 3\n",
      "└ @ OptimKit /home/maavdamm/OptimKit.jl/src/cg.jl:95\n"
     ]
    },
    {
     "name": "stderr",
     "output_type": "stream",
     "text": [
      "┌ Info: CG: initializing with f = -108.403908332048, ‖∇f‖ = 3.8662e-01\n",
      "└ @ OptimKit /home/maavdamm/OptimKit.jl/src/cg.jl:39\n"
     ]
    },
    {
     "name": "stderr",
     "output_type": "stream",
     "text": [
      "┌ Info: CG: converged after 1 iterations: f = -108.407315935328, ‖∇f‖ = 8.2362e-02\n",
      "└ @ OptimKit /home/maavdamm/OptimKit.jl/src/cg.jl:112\n"
     ]
    },
    {
     "name": "stderr",
     "output_type": "stream",
     "text": [
      "┌ Info: CG: iter   86: f = -108.407315935328, ‖∇f‖ = 3.5283e-01, α = 4.03e-02, β = 7.38e-01, nfg = 3\n",
      "└ @ OptimKit /home/maavdamm/OptimKit.jl/src/cg.jl:95\n"
     ]
    },
    {
     "name": "stderr",
     "output_type": "stream",
     "text": [
      "┌ Info: CG: initializing with f = -108.411695213646, ‖∇f‖ = 3.7180e-01\n",
      "└ @ OptimKit /home/maavdamm/OptimKit.jl/src/cg.jl:39\n"
     ]
    },
    {
     "name": "stderr",
     "output_type": "stream",
     "text": [
      "┌ Info: CG: converged after 1 iterations: f = -108.414840080023, ‖∇f‖ = 7.5304e-02\n",
      "└ @ OptimKit /home/maavdamm/OptimKit.jl/src/cg.jl:112\n"
     ]
    },
    {
     "name": "stderr",
     "output_type": "stream",
     "text": [
      "┌ Info: CG: iter   87: f = -108.414840080023, ‖∇f‖ = 4.3357e-01, α = 1.84e-02, β = 1.83e+00, nfg = 2\n",
      "└ @ OptimKit /home/maavdamm/OptimKit.jl/src/cg.jl:95\n"
     ]
    },
    {
     "name": "stderr",
     "output_type": "stream",
     "text": [
      "┌ Info: CG: initializing with f = -108.419769755697, ‖∇f‖ = 4.3357e-01\n",
      "└ @ OptimKit /home/maavdamm/OptimKit.jl/src/cg.jl:39\n"
     ]
    },
    {
     "name": "stderr",
     "output_type": "stream",
     "text": [
      "┌ Info: CG: converged after 1 iterations: f = -108.423249375878, ‖∇f‖ = 4.8674e-02\n",
      "└ @ OptimKit /home/maavdamm/OptimKit.jl/src/cg.jl:112\n"
     ]
    },
    {
     "name": "stderr",
     "output_type": "stream",
     "text": [
      "┌ Info: CG: iter   88: f = -108.423249375878, ‖∇f‖ = 4.3124e-01, α = 1.50e-02, β = 1.35e+00, nfg = 2\n",
      "└ @ OptimKit /home/maavdamm/OptimKit.jl/src/cg.jl:95\n"
     ]
    },
    {
     "name": "stderr",
     "output_type": "stream",
     "text": [
      "┌ Info: CG: initializing with f = -108.428797520354, ‖∇f‖ = 4.6961e-01\n",
      "└ @ OptimKit /home/maavdamm/OptimKit.jl/src/cg.jl:39\n"
     ]
    },
    {
     "name": "stderr",
     "output_type": "stream",
     "text": [
      "┌ Info: CG: converged after 1 iterations: f = -108.432702678353, ‖∇f‖ = 5.1679e-02\n",
      "└ @ OptimKit /home/maavdamm/OptimKit.jl/src/cg.jl:112\n"
     ]
    },
    {
     "name": "stderr",
     "output_type": "stream",
     "text": [
      "┌ Info: CG: iter   89: f = -108.432702678353, ‖∇f‖ = 3.4941e-01, α = 1.96e-02, β = 7.57e-01, nfg = 2\n",
      "└ @ OptimKit /home/maavdamm/OptimKit.jl/src/cg.jl:95\n"
     ]
    },
    {
     "name": "stderr",
     "output_type": "stream",
     "text": [
      "┌ Info: CG: initializing with f = -108.436710603326, ‖∇f‖ = 3.6661e-01\n",
      "└ @ OptimKit /home/maavdamm/OptimKit.jl/src/cg.jl:39\n"
     ]
    },
    {
     "name": "stderr",
     "output_type": "stream",
     "text": [
      "┌ Info: CG: converged after 1 iterations: f = -108.439511172407, ‖∇f‖ = 5.4947e-02\n",
      "└ @ OptimKit /home/maavdamm/OptimKit.jl/src/cg.jl:112\n"
     ]
    },
    {
     "name": "stderr",
     "output_type": "stream",
     "text": [
      "┌ Info: CG: iter   90: f = -108.439511172407, ‖∇f‖ = 3.4970e-01, α = 1.20e-02, β = 1.29e+00, nfg = 2\n",
      "└ @ OptimKit /home/maavdamm/OptimKit.jl/src/cg.jl:95\n"
     ]
    },
    {
     "name": "stderr",
     "output_type": "stream",
     "text": [
      "┌ Info: CG: initializing with f = -108.442823667661, ‖∇f‖ = 3.2674e-01\n",
      "└ @ OptimKit /home/maavdamm/OptimKit.jl/src/cg.jl:39\n"
     ]
    },
    {
     "name": "stderr",
     "output_type": "stream",
     "text": [
      "┌ Info: CG: converged after 1 iterations: f = -108.445049225953, ‖∇f‖ = 5.0128e-02\n",
      "└ @ OptimKit /home/maavdamm/OptimKit.jl/src/cg.jl:112\n"
     ]
    },
    {
     "name": "stderr",
     "output_type": "stream",
     "text": [
      "┌ Info: CG: iter   91: f = -108.445049225953, ‖∇f‖ = 3.7494e-01, α = 1.26e-02, β = 8.71e-01, nfg = 2\n",
      "└ @ OptimKit /home/maavdamm/OptimKit.jl/src/cg.jl:95\n"
     ]
    },
    {
     "name": "stderr",
     "output_type": "stream",
     "text": [
      "┌ Info: CG: initializing with f = -108.448395623098, ‖∇f‖ = 3.2864e-01\n",
      "└ @ OptimKit /home/maavdamm/OptimKit.jl/src/cg.jl:39\n"
     ]
    },
    {
     "name": "stderr",
     "output_type": "stream",
     "text": [
      "┌ Info: CG: converged after 1 iterations: f = -108.450583334451, ‖∇f‖ = 5.6593e-02\n",
      "└ @ OptimKit /home/maavdamm/OptimKit.jl/src/cg.jl:112\n"
     ]
    },
    {
     "name": "stderr",
     "output_type": "stream",
     "text": [
      "┌ Info: CG: iter   92: f = -108.450583334451, ‖∇f‖ = 3.5556e-01, α = 1.68e-02, β = 7.33e-01, nfg = 2\n",
      "└ @ OptimKit /home/maavdamm/OptimKit.jl/src/cg.jl:95\n"
     ]
    },
    {
     "name": "stderr",
     "output_type": "stream",
     "text": [
      "┌ Info: CG: initializing with f = -108.453501827584, ‖∇f‖ = 2.8644e-01\n",
      "└ @ OptimKit /home/maavdamm/OptimKit.jl/src/cg.jl:39\n"
     ]
    },
    {
     "name": "stderr",
     "output_type": "stream",
     "text": [
      "┌ Info: CG: converged after 1 iterations: f = -108.455264093488, ‖∇f‖ = 5.0499e-02\n",
      "└ @ OptimKit /home/maavdamm/OptimKit.jl/src/cg.jl:112\n"
     ]
    },
    {
     "name": "stderr",
     "output_type": "stream",
     "text": [
      "┌ Info: CG: iter   93: f = -108.455264093487, ‖∇f‖ = 3.2837e-01, α = 1.44e-02, β = 1.03e+00, nfg = 2\n",
      "└ @ OptimKit /home/maavdamm/OptimKit.jl/src/cg.jl:95\n"
     ]
    },
    {
     "name": "stderr",
     "output_type": "stream",
     "text": [
      "┌ Info: CG: initializing with f = -108.457836562452, ‖∇f‖ = 2.4369e-01\n",
      "└ @ OptimKit /home/maavdamm/OptimKit.jl/src/cg.jl:39\n"
     ]
    },
    {
     "name": "stderr",
     "output_type": "stream",
     "text": [
      "┌ Info: CG: converged after 1 iterations: f = -108.459252316447, ‖∇f‖ = 5.8383e-02\n",
      "└ @ OptimKit /home/maavdamm/OptimKit.jl/src/cg.jl:112\n"
     ]
    },
    {
     "name": "stderr",
     "output_type": "stream",
     "text": [
      "┌ Info: CG: iter   94: f = -108.459252316447, ‖∇f‖ = 2.5310e-01, α = 2.03e-02, β = 5.86e-01, nfg = 2\n",
      "└ @ OptimKit /home/maavdamm/OptimKit.jl/src/cg.jl:95\n"
     ]
    },
    {
     "name": "stderr",
     "output_type": "stream",
     "text": [
      "┌ Info: CG: initializing with f = -108.460803922226, ‖∇f‖ = 1.6120e-01\n",
      "└ @ OptimKit /home/maavdamm/OptimKit.jl/src/cg.jl:39\n"
     ]
    },
    {
     "name": "stderr",
     "output_type": "stream",
     "text": [
      "┌ Info: CG: converged after 1 iterations: f = -108.461174763421, ‖∇f‖ = 6.1442e-02\n",
      "└ @ OptimKit /home/maavdamm/OptimKit.jl/src/cg.jl:112\n"
     ]
    },
    {
     "name": "stderr",
     "output_type": "stream",
     "text": [
      "┌ Info: CG: iter   95: f = -108.461174763421, ‖∇f‖ = 2.5741e-01, α = 1.82e-02, β = 7.80e-01, nfg = 2\n",
      "└ @ OptimKit /home/maavdamm/OptimKit.jl/src/cg.jl:95\n"
     ]
    },
    {
     "name": "stderr",
     "output_type": "stream",
     "text": [
      "┌ Info: CG: initializing with f = -108.462590321206, ‖∇f‖ = 1.5995e-01\n",
      "└ @ OptimKit /home/maavdamm/OptimKit.jl/src/cg.jl:39\n"
     ]
    },
    {
     "name": "stderr",
     "output_type": "stream",
     "text": [
      "┌ Info: CG: converged after 1 iterations: f = -108.462959521184, ‖∇f‖ = 6.0978e-02\n",
      "└ @ OptimKit /home/maavdamm/OptimKit.jl/src/cg.jl:112\n"
     ]
    },
    {
     "name": "stderr",
     "output_type": "stream",
     "text": [
      "┌ Info: CG: iter   96: f = -108.462959521184, ‖∇f‖ = 2.5828e-01, α = 2.25e-02, β = 7.74e-01, nfg = 2\n",
      "└ @ OptimKit /home/maavdamm/OptimKit.jl/src/cg.jl:95\n"
     ]
    },
    {
     "name": "stderr",
     "output_type": "stream",
     "text": [
      "┌ Info: CG: initializing with f = -108.464381309119, ‖∇f‖ = 1.5234e-01\n",
      "└ @ OptimKit /home/maavdamm/OptimKit.jl/src/cg.jl:39\n"
     ]
    },
    {
     "name": "stderr",
     "output_type": "stream",
     "text": [
      "┌ Info: CG: converged after 1 iterations: f = -108.464719562365, ‖∇f‖ = 6.1314e-02\n",
      "└ @ OptimKit /home/maavdamm/OptimKit.jl/src/cg.jl:112\n"
     ]
    },
    {
     "name": "stderr",
     "output_type": "stream",
     "text": [
      "┌ Info: CG: iter   97: f = -108.464719562365, ‖∇f‖ = 2.1888e-01, α = 2.50e-02, β = 8.48e-01, nfg = 2\n",
      "└ @ OptimKit /home/maavdamm/OptimKit.jl/src/cg.jl:95\n"
     ]
    },
    {
     "name": "stderr",
     "output_type": "stream",
     "text": [
      "┌ Info: CG: initializing with f = -108.465748748322, ‖∇f‖ = 9.0310e-02\n",
      "└ @ OptimKit /home/maavdamm/OptimKit.jl/src/cg.jl:39\n"
     ]
    },
    {
     "name": "stderr",
     "output_type": "stream",
     "text": [
      "┌ Info: CG: converged after 1 iterations: f = -108.465882290513, ‖∇f‖ = 4.9733e-02\n",
      "└ @ OptimKit /home/maavdamm/OptimKit.jl/src/cg.jl:112\n"
     ]
    },
    {
     "name": "stderr",
     "output_type": "stream",
     "text": [
      "┌ Info: CG: iter   98: f = -108.465882290512, ‖∇f‖ = 1.7054e-01, α = 2.63e-02, β = 6.55e-01, nfg = 2\n",
      "└ @ OptimKit /home/maavdamm/OptimKit.jl/src/cg.jl:95\n"
     ]
    },
    {
     "name": "stderr",
     "output_type": "stream",
     "text": [
      "┌ Info: CG: initializing with f = -108.466567290173, ‖∇f‖ = 6.6441e-02\n",
      "└ @ OptimKit /home/maavdamm/OptimKit.jl/src/cg.jl:39\n"
     ]
    },
    {
     "name": "stderr",
     "output_type": "stream",
     "text": [
      "┌ Info: CG: converged after 1 iterations: f = -108.466652082583, ‖∇f‖ = 4.9886e-02\n",
      "└ @ OptimKit /home/maavdamm/OptimKit.jl/src/cg.jl:112\n"
     ]
    },
    {
     "name": "stderr",
     "output_type": "stream",
     "text": [
      "┌ Info: CG: iter   99: f = -108.466652082583, ‖∇f‖ = 1.5924e-01, α = 3.43e-02, β = 4.95e-01, nfg = 2\n",
      "└ @ OptimKit /home/maavdamm/OptimKit.jl/src/cg.jl:95\n"
     ]
    },
    {
     "name": "stderr",
     "output_type": "stream",
     "text": [
      "┌ Info: CG: initializing with f = -108.467178646358, ‖∇f‖ = 5.8351e-02\n",
      "└ @ OptimKit /home/maavdamm/OptimKit.jl/src/cg.jl:39\n"
     ]
    },
    {
     "name": "stderr",
     "output_type": "stream",
     "text": [
      "┌ Info: CG: converged after 1 iterations: f = -108.467251703534, ‖∇f‖ = 5.0659e-02\n",
      "└ @ OptimKit /home/maavdamm/OptimKit.jl/src/cg.jl:112\n"
     ]
    },
    {
     "name": "stderr",
     "output_type": "stream",
     "text": [
      "┌ Info: CG: iter  100: f = -108.467251703533, ‖∇f‖ = 1.3508e-01, α = 2.83e-02, β = 8.94e-01, nfg = 2\n",
      "└ @ OptimKit /home/maavdamm/OptimKit.jl/src/cg.jl:95\n"
     ]
    },
    {
     "name": "stderr",
     "output_type": "stream",
     "text": [
      "┌ Info: CG: initializing with f = -108.467655575151, ‖∇f‖ = 5.3124e-02\n",
      "└ @ OptimKit /home/maavdamm/OptimKit.jl/src/cg.jl:39\n"
     ]
    },
    {
     "name": "stderr",
     "output_type": "stream",
     "text": [
      "┌ Info: CG: converged after 1 iterations: f = -108.467720283983, ‖∇f‖ = 4.8992e-02\n",
      "└ @ OptimKit /home/maavdamm/OptimKit.jl/src/cg.jl:112\n"
     ]
    },
    {
     "name": "stderr",
     "output_type": "stream",
     "text": [
      "┌ Info: CG: iter  101: f = -108.467720283983, ‖∇f‖ = 1.3163e-01, α = 2.97e-02, β = 6.92e-01, nfg = 2\n",
      "└ @ OptimKit /home/maavdamm/OptimKit.jl/src/cg.jl:95\n"
     ]
    },
    {
     "name": "stderr",
     "output_type": "stream",
     "text": [
      "┌ Info: CG: initializing with f = -108.468093145278, ‖∇f‖ = 6.2787e-02\n",
      "└ @ OptimKit /home/maavdamm/OptimKit.jl/src/cg.jl:39\n"
     ]
    },
    {
     "name": "stderr",
     "output_type": "stream",
     "text": [
      "┌ Info: CG: converged after 1 iterations: f = -108.468166555418, ‖∇f‖ = 4.4923e-02\n",
      "└ @ OptimKit /home/maavdamm/OptimKit.jl/src/cg.jl:112\n"
     ]
    },
    {
     "name": "stderr",
     "output_type": "stream",
     "text": [
      "┌ Info: CG: iter  102: f = -108.468166555418, ‖∇f‖ = 1.2008e-01, α = 3.05e-02, β = 8.99e-01, nfg = 2\n",
      "└ @ OptimKit /home/maavdamm/OptimKit.jl/src/cg.jl:95\n"
     ]
    },
    {
     "name": "stderr",
     "output_type": "stream",
     "text": [
      "┌ Info: CG: initializing with f = -108.468488533285, ‖∇f‖ = 5.7026e-02\n",
      "└ @ OptimKit /home/maavdamm/OptimKit.jl/src/cg.jl:39\n"
     ]
    },
    {
     "name": "stderr",
     "output_type": "stream",
     "text": [
      "┌ Info: CG: converged after 1 iterations: f = -108.468550383188, ‖∇f‖ = 4.0659e-02\n",
      "└ @ OptimKit /home/maavdamm/OptimKit.jl/src/cg.jl:112\n"
     ]
    },
    {
     "name": "stderr",
     "output_type": "stream",
     "text": [
      "┌ Info: CG: iter  103: f = -108.468550383188, ‖∇f‖ = 1.1272e-01, α = 3.04e-02, β = 7.71e-01, nfg = 2\n",
      "└ @ OptimKit /home/maavdamm/OptimKit.jl/src/cg.jl:95\n"
     ]
    },
    {
     "name": "stderr",
     "output_type": "stream",
     "text": [
      "┌ Info: CG: initializing with f = -108.468819815991, ‖∇f‖ = 5.4281e-02\n",
      "└ @ OptimKit /home/maavdamm/OptimKit.jl/src/cg.jl:39\n"
     ]
    },
    {
     "name": "stderr",
     "output_type": "stream",
     "text": [
      "┌ Info: CG: converged after 1 iterations: f = -108.468874709727, ‖∇f‖ = 3.6618e-02\n",
      "└ @ OptimKit /home/maavdamm/OptimKit.jl/src/cg.jl:112\n"
     ]
    },
    {
     "name": "stderr",
     "output_type": "stream",
     "text": [
      "┌ Info: CG: iter  104: f = -108.468874709727, ‖∇f‖ = 1.0228e-01, α = 2.92e-02, β = 8.90e-01, nfg = 2\n",
      "└ @ OptimKit /home/maavdamm/OptimKit.jl/src/cg.jl:95\n"
     ]
    },
    {
     "name": "stderr",
     "output_type": "stream",
     "text": [
      "┌ Info: CG: initializing with f = -108.469104733464, ‖∇f‖ = 4.0728e-02\n",
      "└ @ OptimKit /home/maavdamm/OptimKit.jl/src/cg.jl:39\n"
     ]
    },
    {
     "name": "stderr",
     "output_type": "stream",
     "text": [
      "┌ Info: CG: converged after 1 iterations: f = -108.469141506589, ‖∇f‖ = 3.3367e-02\n",
      "└ @ OptimKit /home/maavdamm/OptimKit.jl/src/cg.jl:112\n"
     ]
    },
    {
     "name": "stderr",
     "output_type": "stream",
     "text": [
      "┌ Info: CG: iter  105: f = -108.469141506589, ‖∇f‖ = 8.9143e-02, α = 3.10e-02, β = 6.43e-01, nfg = 2\n",
      "└ @ OptimKit /home/maavdamm/OptimKit.jl/src/cg.jl:95\n"
     ]
    },
    {
     "name": "stderr",
     "output_type": "stream",
     "text": [
      "┌ Info: CG: initializing with f = -108.469297350670, ‖∇f‖ = 2.8874e-02\n",
      "└ @ OptimKit /home/maavdamm/OptimKit.jl/src/cg.jl:39\n"
     ]
    },
    {
     "name": "stderr",
     "output_type": "stream",
     "text": [
      "┌ Info: CG: converged after 1 iterations: f = -108.469326674047, ‖∇f‖ = 3.5361e-02\n",
      "└ @ OptimKit /home/maavdamm/OptimKit.jl/src/cg.jl:112\n"
     ]
    },
    {
     "name": "stderr",
     "output_type": "stream",
     "text": [
      "┌ Info: CG: iter  106: f = -108.469326674047, ‖∇f‖ = 7.9312e-02, α = 2.42e-02, β = 8.05e-01, nfg = 2\n",
      "└ @ OptimKit /home/maavdamm/OptimKit.jl/src/cg.jl:95\n"
     ]
    },
    {
     "name": "stderr",
     "output_type": "stream",
     "text": [
      "┌ Info: CG: initializing with f = -108.469452792932, ‖∇f‖ = 2.4486e-02\n",
      "└ @ OptimKit /home/maavdamm/OptimKit.jl/src/cg.jl:39\n"
     ]
    },
    {
     "name": "stderr",
     "output_type": "stream",
     "text": [
      "┌ Info: CG: converged after 1 iterations: f = -108.469482689673, ‖∇f‖ = 3.7811e-02\n",
      "└ @ OptimKit /home/maavdamm/OptimKit.jl/src/cg.jl:112\n"
     ]
    },
    {
     "name": "stderr",
     "output_type": "stream",
     "text": [
      "┌ Info: CG: iter  107: f = -108.469482689673, ‖∇f‖ = 7.0588e-02, α = 2.72e-02, β = 6.67e-01, nfg = 2\n",
      "└ @ OptimKit /home/maavdamm/OptimKit.jl/src/cg.jl:95\n"
     ]
    },
    {
     "name": "stderr",
     "output_type": "stream",
     "text": [
      "┌ Info: CG: initializing with f = -108.469582321723, ‖∇f‖ = 2.2423e-02\n",
      "└ @ OptimKit /home/maavdamm/OptimKit.jl/src/cg.jl:39\n"
     ]
    },
    {
     "name": "stderr",
     "output_type": "stream",
     "text": [
      "┌ Info: CG: converged after 1 iterations: f = -108.469611727939, ‖∇f‖ = 3.8499e-02\n",
      "└ @ OptimKit /home/maavdamm/OptimKit.jl/src/cg.jl:112\n"
     ]
    },
    {
     "name": "stderr",
     "output_type": "stream",
     "text": [
      "┌ Info: CG: iter  108: f = -108.469611727938, ‖∇f‖ = 6.1333e-02, α = 3.06e-02, β = 6.37e-01, nfg = 2\n",
      "└ @ OptimKit /home/maavdamm/OptimKit.jl/src/cg.jl:95\n"
     ]
    },
    {
     "name": "stderr",
     "output_type": "stream",
     "text": [
      "┌ Info: CG: initializing with f = -108.469687743505, ‖∇f‖ = 2.1546e-02\n",
      "└ @ OptimKit /home/maavdamm/OptimKit.jl/src/cg.jl:39\n"
     ]
    },
    {
     "name": "stderr",
     "output_type": "stream",
     "text": [
      "┌ Info: CG: converged after 1 iterations: f = -108.469714779027, ‖∇f‖ = 3.7029e-02\n",
      "└ @ OptimKit /home/maavdamm/OptimKit.jl/src/cg.jl:112\n"
     ]
    },
    {
     "name": "stderr",
     "output_type": "stream",
     "text": [
      "┌ Info: CG: iter  109: f = -108.469714779027, ‖∇f‖ = 6.0838e-02, α = 2.69e-02, β = 8.23e-01, nfg = 2\n",
      "└ @ OptimKit /home/maavdamm/OptimKit.jl/src/cg.jl:95\n"
     ]
    },
    {
     "name": "stderr",
     "output_type": "stream",
     "text": [
      "┌ Info: CG: initializing with f = -108.469783335269, ‖∇f‖ = 2.3473e-02\n",
      "└ @ OptimKit /home/maavdamm/OptimKit.jl/src/cg.jl:39\n"
     ]
    },
    {
     "name": "stderr",
     "output_type": "stream",
     "text": [
      "┌ Info: CG: converged after 1 iterations: f = -108.469804042282, ‖∇f‖ = 3.0684e-02\n",
      "└ @ OptimKit /home/maavdamm/OptimKit.jl/src/cg.jl:112\n"
     ]
    },
    {
     "name": "stderr",
     "output_type": "stream",
     "text": [
      "┌ Info: CG: iter  110: f = -108.469804042282, ‖∇f‖ = 5.4436e-02, α = 2.21e-02, β = 9.98e-01, nfg = 2\n",
      "└ @ OptimKit /home/maavdamm/OptimKit.jl/src/cg.jl:95\n"
     ]
    },
    {
     "name": "stderr",
     "output_type": "stream",
     "text": [
      "┌ Info: CG: initializing with f = -108.469866213207, ‖∇f‖ = 2.7581e-02\n",
      "└ @ OptimKit /home/maavdamm/OptimKit.jl/src/cg.jl:39\n"
     ]
    },
    {
     "name": "stderr",
     "output_type": "stream",
     "text": [
      "┌ Info: CG: converged after 1 iterations: f = -108.469886238847, ‖∇f‖ = 2.6378e-02\n",
      "└ @ OptimKit /home/maavdamm/OptimKit.jl/src/cg.jl:112\n"
     ]
    },
    {
     "name": "stderr",
     "output_type": "stream",
     "text": [
      "┌ Info: CG: iter  111: f = -108.469886238846, ‖∇f‖ = 4.5085e-02, α = 2.66e-02, β = 6.25e-01, nfg = 2\n",
      "└ @ OptimKit /home/maavdamm/OptimKit.jl/src/cg.jl:95\n"
     ]
    },
    {
     "name": "stderr",
     "output_type": "stream",
     "text": [
      "┌ Info: CG: initializing with f = -108.469927543979, ‖∇f‖ = 2.4838e-02\n",
      "└ @ OptimKit /home/maavdamm/OptimKit.jl/src/cg.jl:39\n"
     ]
    },
    {
     "name": "stderr",
     "output_type": "stream",
     "text": [
      "┌ Info: CG: converged after 1 iterations: f = -108.469947030298, ‖∇f‖ = 2.8467e-02\n",
      "└ @ OptimKit /home/maavdamm/OptimKit.jl/src/cg.jl:112\n"
     ]
    },
    {
     "name": "stderr",
     "output_type": "stream",
     "text": [
      "┌ Info: CG: iter  112: f = -108.469947030297, ‖∇f‖ = 4.0714e-02, α = 2.06e-02, β = 8.62e-01, nfg = 2\n",
      "└ @ OptimKit /home/maavdamm/OptimKit.jl/src/cg.jl:95\n"
     ]
    },
    {
     "name": "stderr",
     "output_type": "stream",
     "text": [
      "┌ Info: CG: initializing with f = -108.469977125188, ‖∇f‖ = 2.1038e-02\n",
      "└ @ OptimKit /home/maavdamm/OptimKit.jl/src/cg.jl:39\n"
     ]
    },
    {
     "name": "stderr",
     "output_type": "stream",
     "text": [
      "┌ Info: CG: converged after 1 iterations: f = -108.470000831739, ‖∇f‖ = 3.4425e-02\n",
      "└ @ OptimKit /home/maavdamm/OptimKit.jl/src/cg.jl:112\n"
     ]
    },
    {
     "name": "stderr",
     "output_type": "stream",
     "text": [
      "┌ Info: CG: iter  113: f = -108.470000831739, ‖∇f‖ = 4.4471e-02, α = 1.36e-02, β = 1.15e+00, nfg = 2\n",
      "└ @ OptimKit /home/maavdamm/OptimKit.jl/src/cg.jl:95\n"
     ]
    },
    {
     "name": "stderr",
     "output_type": "stream",
     "text": [
      "┌ Info: CG: initializing with f = -108.470027832876, ‖∇f‖ = 2.3316e-02\n",
      "└ @ OptimKit /home/maavdamm/OptimKit.jl/src/cg.jl:39\n"
     ]
    },
    {
     "name": "stderr",
     "output_type": "stream",
     "text": [
      "┌ Info: CG: converged after 1 iterations: f = -108.470047284270, ‖∇f‖ = 2.8791e-02\n",
      "└ @ OptimKit /home/maavdamm/OptimKit.jl/src/cg.jl:112\n"
     ]
    },
    {
     "name": "stderr",
     "output_type": "stream",
     "text": [
      "┌ Info: CG: iter  114: f = -108.470047284269, ‖∇f‖ = 4.8359e-02, α = 8.59e-03, β = 1.44e+00, nfg = 2\n",
      "└ @ OptimKit /home/maavdamm/OptimKit.jl/src/cg.jl:95\n"
     ]
    },
    {
     "name": "stderr",
     "output_type": "stream",
     "text": [
      "┌ Info: CG: initializing with f = -108.470095141687, ‖∇f‖ = 3.5164e-02\n",
      "└ @ OptimKit /home/maavdamm/OptimKit.jl/src/cg.jl:39\n"
     ]
    },
    {
     "name": "stderr",
     "output_type": "stream",
     "text": [
      "┌ Info: CG: converged after 1 iterations: f = -108.470120230680, ‖∇f‖ = 2.3096e-02\n",
      "└ @ OptimKit /home/maavdamm/OptimKit.jl/src/cg.jl:112\n"
     ]
    },
    {
     "name": "stderr",
     "output_type": "stream",
     "text": [
      "┌ Info: CG: iter  115: f = -108.470120230680, ‖∇f‖ = 2.8199e-02, α = 3.38e-02, β = 2.19e-01, nfg = 3\n",
      "└ @ OptimKit /home/maavdamm/OptimKit.jl/src/cg.jl:95\n"
     ]
    },
    {
     "name": "stderr",
     "output_type": "stream",
     "text": [
      "┌ Info: CG: initializing with f = -108.470138569768, ‖∇f‖ = 2.3000e-02\n",
      "└ @ OptimKit /home/maavdamm/OptimKit.jl/src/cg.jl:39\n"
     ]
    },
    {
     "name": "stderr",
     "output_type": "stream",
     "text": [
      "┌ Info: CG: converged after 1 iterations: f = -108.470158360484, ‖∇f‖ = 2.9332e-02\n",
      "└ @ OptimKit /home/maavdamm/OptimKit.jl/src/cg.jl:112\n"
     ]
    },
    {
     "name": "stderr",
     "output_type": "stream",
     "text": [
      "┌ Info: CG: iter  116: f = -108.470158360483, ‖∇f‖ = 3.4842e-02, α = 1.94e-02, β = 9.87e-01, nfg = 2\n",
      "└ @ OptimKit /home/maavdamm/OptimKit.jl/src/cg.jl:95\n"
     ]
    },
    {
     "name": "stderr",
     "output_type": "stream",
     "text": [
      "┌ Info: CG: initializing with f = -108.470176229274, ‖∇f‖ = 2.5013e-02\n",
      "└ @ OptimKit /home/maavdamm/OptimKit.jl/src/cg.jl:39\n"
     ]
    },
    {
     "name": "stderr",
     "output_type": "stream",
     "text": [
      "┌ Info: CG: converged after 1 iterations: f = -108.470195173750, ‖∇f‖ = 2.6836e-02\n",
      "└ @ OptimKit /home/maavdamm/OptimKit.jl/src/cg.jl:112\n"
     ]
    },
    {
     "name": "stderr",
     "output_type": "stream",
     "text": [
      "┌ Info: CG: iter  117: f = -108.470195173750, ‖∇f‖ = 3.9731e-02, α = 1.18e-02, β = 1.62e+00, nfg = 2\n",
      "└ @ OptimKit /home/maavdamm/OptimKit.jl/src/cg.jl:95\n"
     ]
    },
    {
     "name": "stderr",
     "output_type": "stream",
     "text": [
      "┌ Info: CG: initializing with f = -108.470228510790, ‖∇f‖ = 3.3260e-02\n",
      "└ @ OptimKit /home/maavdamm/OptimKit.jl/src/cg.jl:39\n"
     ]
    },
    {
     "name": "stderr",
     "output_type": "stream",
     "text": [
      "┌ Info: CG: converged after 1 iterations: f = -108.470251916599, ‖∇f‖ = 2.3600e-02\n",
      "└ @ OptimKit /home/maavdamm/OptimKit.jl/src/cg.jl:112\n"
     ]
    },
    {
     "name": "stderr",
     "output_type": "stream",
     "text": [
      "┌ Info: CG: iter  118: f = -108.470251916598, ‖∇f‖ = 2.7614e-02, α = 3.23e-02, β = 3.91e-01, nfg = 3\n",
      "└ @ OptimKit /home/maavdamm/OptimKit.jl/src/cg.jl:95\n"
     ]
    },
    {
     "name": "stderr",
     "output_type": "stream",
     "text": [
      "┌ Info: CG: initializing with f = -108.470267214639, ‖∇f‖ = 2.2351e-02\n",
      "└ @ OptimKit /home/maavdamm/OptimKit.jl/src/cg.jl:39\n"
     ]
    },
    {
     "name": "stderr",
     "output_type": "stream",
     "text": [
      "┌ Info: CG: converged after 1 iterations: f = -108.470287694306, ‖∇f‖ = 3.0447e-02\n",
      "└ @ OptimKit /home/maavdamm/OptimKit.jl/src/cg.jl:112\n"
     ]
    },
    {
     "name": "stderr",
     "output_type": "stream",
     "text": [
      "┌ Info: CG: iter  119: f = -108.470287694306, ‖∇f‖ = 3.0966e-02, α = 1.29e-02, β = 1.53e+00, nfg = 2\n",
      "└ @ OptimKit /home/maavdamm/OptimKit.jl/src/cg.jl:95\n"
     ]
    },
    {
     "name": "stderr",
     "output_type": "stream",
     "text": [
      "┌ Info: CG: initializing with f = -108.470301484779, ‖∇f‖ = 2.6606e-02\n",
      "└ @ OptimKit /home/maavdamm/OptimKit.jl/src/cg.jl:39\n"
     ]
    },
    {
     "name": "stderr",
     "output_type": "stream",
     "text": [
      "┌ Info: CG: converged after 1 iterations: f = -108.470320674525, ‖∇f‖ = 2.5888e-02\n",
      "└ @ OptimKit /home/maavdamm/OptimKit.jl/src/cg.jl:112\n"
     ]
    },
    {
     "name": "stderr",
     "output_type": "stream",
     "text": [
      "┌ Info: CG: iter  120: f = -108.470320674525, ‖∇f‖ = 3.3615e-02, α = 1.14e-02, β = 1.08e+00, nfg = 2\n",
      "└ @ OptimKit /home/maavdamm/OptimKit.jl/src/cg.jl:95\n"
     ]
    },
    {
     "name": "stderr",
     "output_type": "stream",
     "text": [
      "┌ Info: CG: initializing with f = -108.470345283509, ‖∇f‖ = 3.1170e-02\n",
      "└ @ OptimKit /home/maavdamm/OptimKit.jl/src/cg.jl:39\n"
     ]
    },
    {
     "name": "stderr",
     "output_type": "stream",
     "text": [
      "┌ Info: CG: converged after 1 iterations: f = -108.470367194135, ‖∇f‖ = 2.3805e-02\n",
      "└ @ OptimKit /home/maavdamm/OptimKit.jl/src/cg.jl:112\n"
     ]
    },
    {
     "name": "stderr",
     "output_type": "stream",
     "text": [
      "┌ Info: CG: iter  121: f = -108.470367194135, ‖∇f‖ = 2.5758e-02, α = 3.54e-02, β = 3.08e-01, nfg = 3\n",
      "└ @ OptimKit /home/maavdamm/OptimKit.jl/src/cg.jl:95\n"
     ]
    },
    {
     "name": "stderr",
     "output_type": "stream",
     "text": [
      "┌ Info: CG: initializing with f = -108.470379324640, ‖∇f‖ = 2.2024e-02\n",
      "└ @ OptimKit /home/maavdamm/OptimKit.jl/src/cg.jl:39\n"
     ]
    },
    {
     "name": "stderr",
     "output_type": "stream",
     "text": [
      "┌ Info: CG: converged after 1 iterations: f = -108.470400517150, ‖∇f‖ = 3.1621e-02\n",
      "└ @ OptimKit /home/maavdamm/OptimKit.jl/src/cg.jl:112\n"
     ]
    },
    {
     "name": "stderr",
     "output_type": "stream",
     "text": [
      "┌ Info: CG: iter  122: f = -108.470400517150, ‖∇f‖ = 3.1394e-02, α = 1.07e-02, β = 2.11e+00, nfg = 2\n",
      "└ @ OptimKit /home/maavdamm/OptimKit.jl/src/cg.jl:95\n"
     ]
    },
    {
     "name": "stderr",
     "output_type": "stream",
     "text": [
      "┌ Info: CG: initializing with f = -108.470414358952, ‖∇f‖ = 3.0136e-02\n",
      "└ @ OptimKit /home/maavdamm/OptimKit.jl/src/cg.jl:39\n"
     ]
    },
    {
     "name": "stderr",
     "output_type": "stream",
     "text": [
      "┌ Info: CG: converged after 1 iterations: f = -108.470435433238, ‖∇f‖ = 2.4415e-02\n",
      "└ @ OptimKit /home/maavdamm/OptimKit.jl/src/cg.jl:112\n"
     ]
    },
    {
     "name": "stderr",
     "output_type": "stream",
     "text": [
      "┌ Info: CG: iter  123: f = -108.470435433238, ‖∇f‖ = 3.2362e-02, α = 1.29e-02, β = 9.27e-01, nfg = 2\n",
      "└ @ OptimKit /home/maavdamm/OptimKit.jl/src/cg.jl:95\n"
     ]
    },
    {
     "name": "stderr",
     "output_type": "stream",
     "text": [
      "┌ Info: CG: initializing with f = -108.470454855950, ‖∇f‖ = 2.8881e-02\n",
      "└ @ OptimKit /home/maavdamm/OptimKit.jl/src/cg.jl:39\n"
     ]
    },
    {
     "name": "stderr",
     "output_type": "stream",
     "text": [
      "┌ Info: CG: converged after 1 iterations: f = -108.470475445088, ‖∇f‖ = 2.4989e-02\n",
      "└ @ OptimKit /home/maavdamm/OptimKit.jl/src/cg.jl:112\n"
     ]
    },
    {
     "name": "stderr",
     "output_type": "stream",
     "text": [
      "┌ Info: CG: iter  124: f = -108.470475445088, ‖∇f‖ = 2.7367e-02, α = 2.72e-02, β = 4.26e-01, nfg = 3\n",
      "└ @ OptimKit /home/maavdamm/OptimKit.jl/src/cg.jl:95\n"
     ]
    },
    {
     "name": "stderr",
     "output_type": "stream",
     "text": [
      "┌ Info: CG: initializing with f = -108.470485744135, ‖∇f‖ = 2.2026e-02\n",
      "└ @ OptimKit /home/maavdamm/OptimKit.jl/src/cg.jl:39\n"
     ]
    },
    {
     "name": "stderr",
     "output_type": "stream",
     "text": [
      "┌ Info: CG: converged after 1 iterations: f = -108.470507464964, ‖∇f‖ = 3.2467e-02\n",
      "└ @ OptimKit /home/maavdamm/OptimKit.jl/src/cg.jl:112\n"
     ]
    },
    {
     "name": "stderr",
     "output_type": "stream",
     "text": [
      "┌ Info: CG: iter  125: f = -108.470507464964, ‖∇f‖ = 3.4139e-02, α = 6.50e-03, β = 2.78e+00, nfg = 2\n",
      "└ @ OptimKit /home/maavdamm/OptimKit.jl/src/cg.jl:95\n"
     ]
    },
    {
     "name": "stderr",
     "output_type": "stream",
     "text": [
      "┌ Info: CG: initializing with f = -108.470525816701, ‖∇f‖ = 3.5380e-02\n",
      "└ @ OptimKit /home/maavdamm/OptimKit.jl/src/cg.jl:39\n"
     ]
    },
    {
     "name": "stderr",
     "output_type": "stream",
     "text": [
      "┌ Info: CG: converged after 1 iterations: f = -108.470551273048, ‖∇f‖ = 2.3551e-02\n",
      "└ @ OptimKit /home/maavdamm/OptimKit.jl/src/cg.jl:112\n"
     ]
    },
    {
     "name": "stderr",
     "output_type": "stream",
     "text": [
      "┌ Info: CG: iter  126: f = -108.470551273048, ‖∇f‖ = 2.8990e-02, α = 2.12e-02, β = 4.20e-01, nfg = 3\n",
      "└ @ OptimKit /home/maavdamm/OptimKit.jl/src/cg.jl:95\n"
     ]
    },
    {
     "name": "stderr",
     "output_type": "stream",
     "text": [
      "┌ Info: CG: initializing with f = -108.470564050607, ‖∇f‖ = 2.5527e-02\n",
      "└ @ OptimKit /home/maavdamm/OptimKit.jl/src/cg.jl:39\n"
     ]
    },
    {
     "name": "stderr",
     "output_type": "stream",
     "text": [
      "┌ Info: CG: converged after 1 iterations: f = -108.470583946234, ‖∇f‖ = 2.7310e-02\n",
      "└ @ OptimKit /home/maavdamm/OptimKit.jl/src/cg.jl:112\n"
     ]
    },
    {
     "name": "stderr",
     "output_type": "stream",
     "text": [
      "┌ Info: CG: iter  127: f = -108.470583946234, ‖∇f‖ = 2.8703e-02, α = 1.16e-02, β = 1.36e+00, nfg = 2\n",
      "└ @ OptimKit /home/maavdamm/OptimKit.jl/src/cg.jl:95\n"
     ]
    },
    {
     "name": "stderr",
     "output_type": "stream",
     "text": [
      "┌ Info: CG: initializing with f = -108.470593297444, ‖∇f‖ = 2.3795e-02\n",
      "└ @ OptimKit /home/maavdamm/OptimKit.jl/src/cg.jl:39\n"
     ]
    },
    {
     "name": "stderr",
     "output_type": "stream",
     "text": [
      "┌ Info: CG: converged after 1 iterations: f = -108.470613523084, ‖∇f‖ = 3.0139e-02\n",
      "└ @ OptimKit /home/maavdamm/OptimKit.jl/src/cg.jl:112\n"
     ]
    },
    {
     "name": "stderr",
     "output_type": "stream",
     "text": [
      "┌ Info: CG: iter  128: f = -108.470613523084, ‖∇f‖ = 3.2405e-02, α = 3.79e-03, β = 2.50e+00, nfg = 2\n",
      "└ @ OptimKit /home/maavdamm/OptimKit.jl/src/cg.jl:95\n"
     ]
    },
    {
     "name": "stderr",
     "output_type": "stream",
     "text": [
      "┌ Info: CG: initializing with f = -108.470630731772, ‖∇f‖ = 3.2929e-02\n",
      "└ @ OptimKit /home/maavdamm/OptimKit.jl/src/cg.jl:39\n"
     ]
    },
    {
     "name": "stderr",
     "output_type": "stream",
     "text": [
      "┌ Info: CG: converged after 1 iterations: f = -108.470654324335, ‖∇f‖ = 2.4202e-02\n",
      "└ @ OptimKit /home/maavdamm/OptimKit.jl/src/cg.jl:112\n"
     ]
    },
    {
     "name": "stderr",
     "output_type": "stream",
     "text": [
      "┌ Info: CG: iter  129: f = -108.470654324335, ‖∇f‖ = 2.2327e-02, α = 2.65e-02, β = 1.51e-01, nfg = 3\n",
      "└ @ OptimKit /home/maavdamm/OptimKit.jl/src/cg.jl:95\n"
     ]
    },
    {
     "name": "stderr",
     "output_type": "stream",
     "text": [
      "┌ Info: CG: initializing with f = -108.470661938539, ‖∇f‖ = 2.3749e-02\n",
      "└ @ OptimKit /home/maavdamm/OptimKit.jl/src/cg.jl:39\n"
     ]
    },
    {
     "name": "stderr",
     "output_type": "stream",
     "text": [
      "┌ Info: CG: converged after 1 iterations: f = -108.470682670040, ‖∇f‖ = 3.0489e-02\n",
      "└ @ OptimKit /home/maavdamm/OptimKit.jl/src/cg.jl:112\n"
     ]
    },
    {
     "name": "stderr",
     "output_type": "stream",
     "text": [
      "┌ Info: CG: iter  130: f = -108.470682670040, ‖∇f‖ = 2.6417e-02, α = 1.05e-02, β = 1.58e+00, nfg = 2\n",
      "└ @ OptimKit /home/maavdamm/OptimKit.jl/src/cg.jl:95\n"
     ]
    },
    {
     "name": "stderr",
     "output_type": "stream",
     "text": [
      "┌ Info: CG: initializing with f = -108.470690184347, ‖∇f‖ = 2.9092e-02\n",
      "└ @ OptimKit /home/maavdamm/OptimKit.jl/src/cg.jl:39\n"
     ]
    },
    {
     "name": "stderr",
     "output_type": "stream",
     "text": [
      "┌ Info: CG: converged after 1 iterations: f = -108.470711141475, ‖∇f‖ = 2.6321e-02\n",
      "└ @ OptimKit /home/maavdamm/OptimKit.jl/src/cg.jl:112\n"
     ]
    },
    {
     "name": "stderr",
     "output_type": "stream",
     "text": [
      "┌ Info: CG: iter  131: f = -108.470711141475, ‖∇f‖ = 2.6846e-02, α = 9.53e-03, β = 1.09e+00, nfg = 2\n",
      "└ @ OptimKit /home/maavdamm/OptimKit.jl/src/cg.jl:95\n"
     ]
    },
    {
     "name": "stderr",
     "output_type": "stream",
     "text": [
      "┌ Info: CG: initializing with f = -108.470721210494, ‖∇f‖ = 2.7058e-02\n",
      "└ @ OptimKit /home/maavdamm/OptimKit.jl/src/cg.jl:39\n"
     ]
    },
    {
     "name": "stderr",
     "output_type": "stream",
     "text": [
      "┌ Info: CG: iter    1: f = -108.470741593742, ‖∇f‖ = 2.7591e-02, α = 6.18e-02, β = 0.00e+00, nfg = 2\n",
      "└ @ OptimKit /home/maavdamm/OptimKit.jl/src/cg.jl:95\n"
     ]
    },
    {
     "name": "stderr",
     "output_type": "stream",
     "text": [
      "┌ Info: CG: iter    2: f = -108.471320638437, ‖∇f‖ = 1.8386e-01, α = 1.65e+00, β = 8.54e-01, nfg = 4\n",
      "└ @ OptimKit /home/maavdamm/OptimKit.jl/src/cg.jl:95\n"
     ]
    },
    {
     "name": "stderr",
     "output_type": "stream",
     "text": [
      "┌ Info: CG: iter    3: f = -108.481937733765, ‖∇f‖ = 5.4064e-01, α = 5.36e-01, β = 5.34e+01, nfg = 6\n",
      "└ @ OptimKit /home/maavdamm/OptimKit.jl/src/cg.jl:95\n",
      "┌ Warning: resorting to η\n",
      "└ @ OptimKit /home/maavdamm/OptimKit.jl/src/cg.jl:151\n"
     ]
    },
    {
     "name": "stderr",
     "output_type": "stream",
     "text": [
      "┌ Info: CG: iter    4: f = -108.502931996652, ‖∇f‖ = 5.0998e-02, α = 9.29e-01, β = -4.02e-03, nfg = 2\n",
      "└ @ OptimKit /home/maavdamm/OptimKit.jl/src/cg.jl:95\n"
     ]
    },
    {
     "name": "stderr",
     "output_type": "stream",
     "text": [
      "┌ Info: CG: iter    5: f = -108.505168841480, ‖∇f‖ = 4.6343e-02, α = 8.36e-01, β = 1.06e-01, nfg = 2\n",
      "└ @ OptimKit /home/maavdamm/OptimKit.jl/src/cg.jl:95\n"
     ]
    },
    {
     "name": "stderr",
     "output_type": "stream",
     "text": [
      "┌ Info: CG: converged after 6 iterations: f = -108.505431840257, ‖∇f‖ = 6.3923e-03\n",
      "└ @ OptimKit /home/maavdamm/OptimKit.jl/src/cg.jl:112\n"
     ]
    },
    {
     "name": "stderr",
     "output_type": "stream",
     "text": [
      "┌ Info: CG: iter  132: f = -108.505431840257, ‖∇f‖ = 5.8192e-02, α = 2.26e-02, β = 2.92e-01, nfg = 3\n",
      "└ @ OptimKit /home/maavdamm/OptimKit.jl/src/cg.jl:95\n"
     ]
    },
    {
     "name": "stderr",
     "output_type": "stream",
     "text": [
      "┌ Info: CG: initializing with f = -108.505457866807, ‖∇f‖ = 1.8273e-02\n",
      "└ @ OptimKit /home/maavdamm/OptimKit.jl/src/cg.jl:39\n"
     ]
    },
    {
     "name": "stderr",
     "output_type": "stream",
     "text": [
      "┌ Info: CG: converged after 1 iterations: f = -108.506547458127, ‖∇f‖ = 2.3304e-02\n",
      "└ @ OptimKit /home/maavdamm/OptimKit.jl/src/cg.jl:112\n"
     ]
    },
    {
     "name": "stderr",
     "output_type": "stream",
     "text": [
      "┌ Info: CG: iter  133: f = -108.506547458127, ‖∇f‖ = 5.3960e-02, α = 1.84e-02, β = 1.49e+00, nfg = 2\n",
      "└ @ OptimKit /home/maavdamm/OptimKit.jl/src/cg.jl:95\n"
     ]
    },
    {
     "name": "stderr",
     "output_type": "stream",
     "text": [
      "┌ Info: CG: initializing with f = -108.506576563226, ‖∇f‖ = 2.3213e-02\n",
      "└ @ OptimKit /home/maavdamm/OptimKit.jl/src/cg.jl:39\n"
     ]
    },
    {
     "name": "stderr",
     "output_type": "stream",
     "text": [
      "┌ Info: CG: converged after 1 iterations: f = -108.506601503338, ‖∇f‖ = 8.8896e-03\n",
      "└ @ OptimKit /home/maavdamm/OptimKit.jl/src/cg.jl:112\n"
     ]
    },
    {
     "name": "stderr",
     "output_type": "stream",
     "text": [
      "┌ Info: CG: iter  134: f = -108.506601503338, ‖∇f‖ = 3.5414e-02, α = 1.56e-02, β = 9.46e-01, nfg = 2\n",
      "└ @ OptimKit /home/maavdamm/OptimKit.jl/src/cg.jl:95\n"
     ]
    },
    {
     "name": "stderr",
     "output_type": "stream",
     "text": [
      "┌ Info: CG: initializing with f = -108.506621986348, ‖∇f‖ = 5.3893e-03\n",
      "└ @ OptimKit /home/maavdamm/OptimKit.jl/src/cg.jl:39\n"
     ]
    },
    {
     "name": "stderr",
     "output_type": "stream",
     "text": [
      "┌ Info: CG: converged after 1 iterations: f = -108.506622964065, ‖∇f‖ = 3.9127e-03\n",
      "└ @ OptimKit /home/maavdamm/OptimKit.jl/src/cg.jl:112\n"
     ]
    },
    {
     "name": "stderr",
     "output_type": "stream",
     "text": [
      "┌ Info: CG: iter  135: f = -108.506622964064, ‖∇f‖ = 2.7695e-02, α = 3.26e-02, β = 1.09e-01, nfg = 3\n",
      "└ @ OptimKit /home/maavdamm/OptimKit.jl/src/cg.jl:95\n"
     ]
    },
    {
     "name": "stderr",
     "output_type": "stream",
     "text": [
      "┌ Info: CG: initializing with f = -108.506638807260, ‖∇f‖ = 5.2360e-03\n",
      "└ @ OptimKit /home/maavdamm/OptimKit.jl/src/cg.jl:39\n"
     ]
    },
    {
     "name": "stderr",
     "output_type": "stream",
     "text": [
      "┌ Info: CG: converged after 1 iterations: f = -108.506639380057, ‖∇f‖ = 3.2718e-03\n",
      "└ @ OptimKit /home/maavdamm/OptimKit.jl/src/cg.jl:112\n"
     ]
    },
    {
     "name": "stderr",
     "output_type": "stream",
     "text": [
      "┌ Info: CG: iter  136: f = -108.506639380057, ‖∇f‖ = 2.2259e-02, α = 4.21e-02, β = 5.71e-01, nfg = 2\n",
      "└ @ OptimKit /home/maavdamm/OptimKit.jl/src/cg.jl:95\n"
     ]
    },
    {
     "name": "stderr",
     "output_type": "stream",
     "text": [
      "┌ Info: CG: initializing with f = -108.506655645134, ‖∇f‖ = 5.5036e-03\n",
      "└ @ OptimKit /home/maavdamm/OptimKit.jl/src/cg.jl:39\n"
     ]
    },
    {
     "name": "stderr",
     "output_type": "stream",
     "text": [
      "┌ Info: CG: converged after 1 iterations: f = -108.506656203852, ‖∇f‖ = 3.0514e-03\n",
      "└ @ OptimKit /home/maavdamm/OptimKit.jl/src/cg.jl:112\n"
     ]
    },
    {
     "name": "stderr",
     "output_type": "stream",
     "text": [
      "┌ Info: CG: iter  137: f = -108.506656203852, ‖∇f‖ = 1.9537e-02, α = 6.33e-02, β = 7.12e-01, nfg = 2\n",
      "└ @ OptimKit /home/maavdamm/OptimKit.jl/src/cg.jl:95\n"
     ]
    },
    {
     "name": "stderr",
     "output_type": "stream",
     "text": [
      "┌ Info: CG: initializing with f = -108.506664729337, ‖∇f‖ = 3.4727e-03\n",
      "└ @ OptimKit /home/maavdamm/OptimKit.jl/src/cg.jl:39\n"
     ]
    },
    {
     "name": "stderr",
     "output_type": "stream",
     "text": [
      "┌ Info: CG: converged after 1 iterations: f = -108.506665046990, ‖∇f‖ = 3.3257e-03\n",
      "└ @ OptimKit /home/maavdamm/OptimKit.jl/src/cg.jl:112\n"
     ]
    },
    {
     "name": "stderr",
     "output_type": "stream",
     "text": [
      "┌ Info: CG: iter  138: f = -108.506665046990, ‖∇f‖ = 1.7149e-02, α = 4.24e-02, β = 6.89e-01, nfg = 2\n",
      "└ @ OptimKit /home/maavdamm/OptimKit.jl/src/cg.jl:95\n"
     ]
    },
    {
     "name": "stderr",
     "output_type": "stream",
     "text": [
      "┌ Info: CG: initializing with f = -108.506671655091, ‖∇f‖ = 3.6076e-03\n",
      "└ @ OptimKit /home/maavdamm/OptimKit.jl/src/cg.jl:39\n"
     ]
    },
    {
     "name": "stderr",
     "output_type": "stream",
     "text": [
      "┌ Info: CG: converged after 1 iterations: f = -108.506671974291, ‖∇f‖ = 3.2613e-03\n",
      "└ @ OptimKit /home/maavdamm/OptimKit.jl/src/cg.jl:112\n"
     ]
    },
    {
     "name": "stderr",
     "output_type": "stream",
     "text": [
      "┌ Info: CG: iter  139: f = -108.506671974291, ‖∇f‖ = 1.4306e-02, α = 4.25e-02, β = 7.75e-01, nfg = 2\n",
      "└ @ OptimKit /home/maavdamm/OptimKit.jl/src/cg.jl:95\n"
     ]
    },
    {
     "name": "stderr",
     "output_type": "stream",
     "text": [
      "┌ Info: CG: initializing with f = -108.506676504320, ‖∇f‖ = 3.4643e-03\n",
      "└ @ OptimKit /home/maavdamm/OptimKit.jl/src/cg.jl:39\n"
     ]
    },
    {
     "name": "stderr",
     "output_type": "stream",
     "text": [
      "┌ Info: CG: converged after 1 iterations: f = -108.506676813510, ‖∇f‖ = 3.3090e-03\n",
      "└ @ OptimKit /home/maavdamm/OptimKit.jl/src/cg.jl:112\n"
     ]
    },
    {
     "name": "stderr",
     "output_type": "stream",
     "text": [
      "┌ Info: CG: iter  140: f = -108.506676813510, ‖∇f‖ = 1.0370e-02, α = 4.11e-02, β = 6.75e-01, nfg = 2\n",
      "└ @ OptimKit /home/maavdamm/OptimKit.jl/src/cg.jl:95\n"
     ]
    },
    {
     "name": "stderr",
     "output_type": "stream",
     "text": [
      "┌ Info: CG: initializing with f = -108.506679824159, ‖∇f‖ = 3.5180e-03\n",
      "└ @ OptimKit /home/maavdamm/OptimKit.jl/src/cg.jl:39\n"
     ]
    },
    {
     "name": "stderr",
     "output_type": "stream",
     "text": [
      "┌ Info: CG: converged after 1 iterations: f = -108.506680131054, ‖∇f‖ = 3.2544e-03\n",
      "└ @ OptimKit /home/maavdamm/OptimKit.jl/src/cg.jl:112\n"
     ]
    },
    {
     "name": "stderr",
     "output_type": "stream",
     "text": [
      "┌ Info: CG: iter  141: f = -108.506680131054, ‖∇f‖ = 1.0289e-02, α = 5.06e-02, β = 5.11e-01, nfg = 2\n",
      "└ @ OptimKit /home/maavdamm/OptimKit.jl/src/cg.jl:95\n"
     ]
    },
    {
     "name": "stderr",
     "output_type": "stream",
     "text": [
      "┌ Info: CG: initializing with f = -108.506682420418, ‖∇f‖ = 3.6382e-03\n",
      "└ @ OptimKit /home/maavdamm/OptimKit.jl/src/cg.jl:39\n"
     ]
    },
    {
     "name": "stderr",
     "output_type": "stream",
     "text": [
      "┌ Info: CG: converged after 1 iterations: f = -108.506682733564, ‖∇f‖ = 3.1837e-03\n",
      "└ @ OptimKit /home/maavdamm/OptimKit.jl/src/cg.jl:112\n"
     ]
    },
    {
     "name": "stderr",
     "output_type": "stream",
     "text": [
      "┌ Info: CG: iter  142: f = -108.506682733563, ‖∇f‖ = 8.6640e-03, α = 3.58e-02, β = 1.06e+00, nfg = 2\n",
      "└ @ OptimKit /home/maavdamm/OptimKit.jl/src/cg.jl:95\n"
     ]
    },
    {
     "name": "stderr",
     "output_type": "stream",
     "text": [
      "┌ Info: CG: initializing with f = -108.506684679094, ‖∇f‖ = 4.1710e-03\n",
      "└ @ OptimKit /home/maavdamm/OptimKit.jl/src/cg.jl:39\n"
     ]
    },
    {
     "name": "stderr",
     "output_type": "stream",
     "text": [
      "┌ Info: CG: converged after 1 iterations: f = -108.506685040784, ‖∇f‖ = 3.0434e-03\n",
      "└ @ OptimKit /home/maavdamm/OptimKit.jl/src/cg.jl:112\n"
     ]
    },
    {
     "name": "stderr",
     "output_type": "stream",
     "text": [
      "┌ Info: CG: iter  143: f = -108.506685040784, ‖∇f‖ = 8.2578e-03, α = 3.98e-02, β = 7.40e-01, nfg = 2\n",
      "└ @ OptimKit /home/maavdamm/OptimKit.jl/src/cg.jl:95\n"
     ]
    },
    {
     "name": "stderr",
     "output_type": "stream",
     "text": [
      "┌ Info: CG: initializing with f = -108.506686708434, ‖∇f‖ = 4.2142e-03\n",
      "└ @ OptimKit /home/maavdamm/OptimKit.jl/src/cg.jl:39\n"
     ]
    },
    {
     "name": "stderr",
     "output_type": "stream",
     "text": [
      "┌ Info: CG: converged after 1 iterations: f = -108.506687076243, ‖∇f‖ = 3.0152e-03\n",
      "└ @ OptimKit /home/maavdamm/OptimKit.jl/src/cg.jl:112\n"
     ]
    },
    {
     "name": "stderr",
     "output_type": "stream",
     "text": [
      "┌ Info: CG: iter  144: f = -108.506687076243, ‖∇f‖ = 8.3160e-03, α = 3.51e-02, β = 8.71e-01, nfg = 2\n",
      "└ @ OptimKit /home/maavdamm/OptimKit.jl/src/cg.jl:95\n"
     ]
    },
    {
     "name": "stderr",
     "output_type": "stream",
     "text": [
      "┌ Info: CG: initializing with f = -108.506688664543, ‖∇f‖ = 5.0384e-03\n",
      "└ @ OptimKit /home/maavdamm/OptimKit.jl/src/cg.jl:39\n"
     ]
    },
    {
     "name": "stderr",
     "output_type": "stream",
     "text": [
      "┌ Info: CG: converged after 1 iterations: f = -108.506689136275, ‖∇f‖ = 2.9542e-03\n",
      "└ @ OptimKit /home/maavdamm/OptimKit.jl/src/cg.jl:112\n"
     ]
    },
    {
     "name": "stderr",
     "output_type": "stream",
     "text": [
      "┌ Info: CG: iter  145: f = -108.506689136275, ‖∇f‖ = 9.0253e-03, α = 2.72e-02, β = 1.28e+00, nfg = 2\n",
      "└ @ OptimKit /home/maavdamm/OptimKit.jl/src/cg.jl:95\n"
     ]
    },
    {
     "name": "stderr",
     "output_type": "stream",
     "text": [
      "┌ Info: CG: initializing with f = -108.506690844376, ‖∇f‖ = 4.9486e-03\n",
      "└ @ OptimKit /home/maavdamm/OptimKit.jl/src/cg.jl:39\n"
     ]
    },
    {
     "name": "stderr",
     "output_type": "stream",
     "text": [
      "┌ Info: CG: converged after 1 iterations: f = -108.506691302282, ‖∇f‖ = 2.9615e-03\n",
      "└ @ OptimKit /home/maavdamm/OptimKit.jl/src/cg.jl:112\n"
     ]
    },
    {
     "name": "stderr",
     "output_type": "stream",
     "text": [
      "┌ Info: CG: iter  146: f = -108.506691302282, ‖∇f‖ = 7.2123e-03, α = 2.34e-02, β = 1.00e+00, nfg = 2\n",
      "└ @ OptimKit /home/maavdamm/OptimKit.jl/src/cg.jl:95\n"
     ]
    },
    {
     "name": "stderr",
     "output_type": "stream",
     "text": [
      "┌ Info: CG: initializing with f = -108.506692517714, ‖∇f‖ = 4.2367e-03\n",
      "└ @ OptimKit /home/maavdamm/OptimKit.jl/src/cg.jl:39\n"
     ]
    },
    {
     "name": "stderr",
     "output_type": "stream",
     "text": [
      "┌ Info: CG: converged after 1 iterations: f = -108.506692882591, ‖∇f‖ = 3.0326e-03\n",
      "└ @ OptimKit /home/maavdamm/OptimKit.jl/src/cg.jl:112\n"
     ]
    },
    {
     "name": "stderr",
     "output_type": "stream",
     "text": [
      "┌ Info: CG: iter  147: f = -108.506692882590, ‖∇f‖ = 7.6196e-03, α = 2.37e-02, β = 7.58e-01, nfg = 2\n",
      "└ @ OptimKit /home/maavdamm/OptimKit.jl/src/cg.jl:95\n"
     ]
    },
    {
     "name": "stderr",
     "output_type": "stream",
     "text": [
      "┌ Info: CG: initializing with f = -108.506694165050, ‖∇f‖ = 4.5671e-03\n",
      "└ @ OptimKit /home/maavdamm/OptimKit.jl/src/cg.jl:39\n"
     ]
    },
    {
     "name": "stderr",
     "output_type": "stream",
     "text": [
      "┌ Info: CG: converged after 1 iterations: f = -108.506694564479, ‖∇f‖ = 3.0253e-03\n",
      "└ @ OptimKit /home/maavdamm/OptimKit.jl/src/cg.jl:112\n"
     ]
    },
    {
     "name": "stderr",
     "output_type": "stream",
     "text": [
      "┌ Info: CG: iter  148: f = -108.506694564479, ‖∇f‖ = 7.0450e-03, α = 2.56e-02, β = 8.74e-01, nfg = 2\n",
      "└ @ OptimKit /home/maavdamm/OptimKit.jl/src/cg.jl:95\n"
     ]
    },
    {
     "name": "stderr",
     "output_type": "stream",
     "text": [
      "┌ Info: CG: initializing with f = -108.506695755266, ‖∇f‖ = 4.4695e-03\n",
      "└ @ OptimKit /home/maavdamm/OptimKit.jl/src/cg.jl:39\n"
     ]
    },
    {
     "name": "stderr",
     "output_type": "stream",
     "text": [
      "┌ Info: CG: converged after 1 iterations: f = -108.506696140061, ‖∇f‖ = 3.0521e-03\n",
      "└ @ OptimKit /home/maavdamm/OptimKit.jl/src/cg.jl:112\n"
     ]
    },
    {
     "name": "stderr",
     "output_type": "stream",
     "text": [
      "┌ Info: CG: iter  149: f = -108.506696140061, ‖∇f‖ = 6.8831e-03, α = 2.60e-02, β = 8.26e-01, nfg = 2\n",
      "└ @ OptimKit /home/maavdamm/OptimKit.jl/src/cg.jl:95\n"
     ]
    },
    {
     "name": "stderr",
     "output_type": "stream",
     "text": [
      "┌ Info: CG: initializing with f = -108.506697175852, ‖∇f‖ = 4.2219e-03\n",
      "└ @ OptimKit /home/maavdamm/OptimKit.jl/src/cg.jl:39\n"
     ]
    },
    {
     "name": "stderr",
     "output_type": "stream",
     "text": [
      "┌ Info: CG: converged after 1 iterations: f = -108.506697530871, ‖∇f‖ = 3.0813e-03\n",
      "└ @ OptimKit /home/maavdamm/OptimKit.jl/src/cg.jl:112\n"
     ]
    },
    {
     "name": "stderr",
     "output_type": "stream",
     "text": [
      "┌ Info: CG: iter  150: f = -108.506697530870, ‖∇f‖ = 6.4932e-03, α = 2.12e-02, β = 1.03e+00, nfg = 2\n",
      "└ @ OptimKit /home/maavdamm/OptimKit.jl/src/cg.jl:95\n"
     ]
    },
    {
     "name": "stderr",
     "output_type": "stream",
     "text": [
      "┌ Info: CG: initializing with f = -108.506698528690, ‖∇f‖ = 4.1582e-03\n",
      "└ @ OptimKit /home/maavdamm/OptimKit.jl/src/cg.jl:39\n"
     ]
    },
    {
     "name": "stderr",
     "output_type": "stream",
     "text": [
      "┌ Info: CG: converged after 1 iterations: f = -108.506698875743, ‖∇f‖ = 3.0876e-03\n",
      "└ @ OptimKit /home/maavdamm/OptimKit.jl/src/cg.jl:112\n"
     ]
    },
    {
     "name": "stderr",
     "output_type": "stream",
     "text": [
      "┌ Info: CG: iter  151: f = -108.506698875742, ‖∇f‖ = 6.3767e-03, α = 2.39e-02, β = 7.47e-01, nfg = 2\n",
      "└ @ OptimKit /home/maavdamm/OptimKit.jl/src/cg.jl:95\n"
     ]
    },
    {
     "name": "stderr",
     "output_type": "stream",
     "text": [
      "┌ Info: CG: initializing with f = -108.506699724203, ‖∇f‖ = 3.9874e-03\n",
      "└ @ OptimKit /home/maavdamm/OptimKit.jl/src/cg.jl:39\n"
     ]
    },
    {
     "name": "stderr",
     "output_type": "stream",
     "text": [
      "┌ Info: CG: converged after 1 iterations: f = -108.506700053259, ‖∇f‖ = 3.1011e-03\n",
      "└ @ OptimKit /home/maavdamm/OptimKit.jl/src/cg.jl:112\n"
     ]
    },
    {
     "name": "stderr",
     "output_type": "stream",
     "text": [
      "┌ Info: CG: iter  152: f = -108.506700053259, ‖∇f‖ = 6.8076e-03, α = 1.72e-02, β = 1.20e+00, nfg = 2\n",
      "└ @ OptimKit /home/maavdamm/OptimKit.jl/src/cg.jl:95\n"
     ]
    },
    {
     "name": "stderr",
     "output_type": "stream",
     "text": [
      "┌ Info: CG: initializing with f = -108.506701008759, ‖∇f‖ = 4.3778e-03\n",
      "└ @ OptimKit /home/maavdamm/OptimKit.jl/src/cg.jl:39\n"
     ]
    },
    {
     "name": "stderr",
     "output_type": "stream",
     "text": [
      "┌ Info: CG: converged after 1 iterations: f = -108.506701378711, ‖∇f‖ = 3.0430e-03\n",
      "└ @ OptimKit /home/maavdamm/OptimKit.jl/src/cg.jl:112\n"
     ]
    },
    {
     "name": "stderr",
     "output_type": "stream",
     "text": [
      "┌ Info: CG: iter  153: f = -108.506701378711, ‖∇f‖ = 6.1433e-03, α = 1.81e-02, β = 9.12e-01, nfg = 2\n",
      "└ @ OptimKit /home/maavdamm/OptimKit.jl/src/cg.jl:95\n"
     ]
    },
    {
     "name": "stderr",
     "output_type": "stream",
     "text": [
      "┌ Info: CG: initializing with f = -108.506702250687, ‖∇f‖ = 4.1430e-03\n",
      "└ @ OptimKit /home/maavdamm/OptimKit.jl/src/cg.jl:39\n"
     ]
    },
    {
     "name": "stderr",
     "output_type": "stream",
     "text": [
      "┌ Info: CG: converged after 1 iterations: f = -108.506702594419, ‖∇f‖ = 3.0483e-03\n",
      "└ @ OptimKit /home/maavdamm/OptimKit.jl/src/cg.jl:112\n"
     ]
    },
    {
     "name": "stderr",
     "output_type": "stream",
     "text": [
      "┌ Info: CG: iter  154: f = -108.506702594419, ‖∇f‖ = 6.1252e-03, α = 1.82e-02, β = 8.32e-01, nfg = 2\n",
      "└ @ OptimKit /home/maavdamm/OptimKit.jl/src/cg.jl:95\n"
     ]
    },
    {
     "name": "stderr",
     "output_type": "stream",
     "text": [
      "┌ Info: CG: initializing with f = -108.506703365280, ‖∇f‖ = 3.8317e-03\n",
      "└ @ OptimKit /home/maavdamm/OptimKit.jl/src/cg.jl:39\n"
     ]
    },
    {
     "name": "stderr",
     "output_type": "stream",
     "text": [
      "┌ Info: CG: converged after 1 iterations: f = -108.506703677493, ‖∇f‖ = 3.0777e-03\n",
      "└ @ OptimKit /home/maavdamm/OptimKit.jl/src/cg.jl:112\n"
     ]
    },
    {
     "name": "stderr",
     "output_type": "stream",
     "text": [
      "┌ Info: CG: iter  155: f = -108.506703677493, ‖∇f‖ = 6.4859e-03, α = 1.34e-02, β = 1.16e+00, nfg = 2\n",
      "└ @ OptimKit /home/maavdamm/OptimKit.jl/src/cg.jl:95\n"
     ]
    },
    {
     "name": "stderr",
     "output_type": "stream",
     "text": [
      "┌ Info: CG: initializing with f = -108.506704528338, ‖∇f‖ = 4.1538e-03\n",
      "└ @ OptimKit /home/maavdamm/OptimKit.jl/src/cg.jl:39\n"
     ]
    },
    {
     "name": "stderr",
     "output_type": "stream",
     "text": [
      "┌ Info: CG: converged after 1 iterations: f = -108.506704871738, ‖∇f‖ = 3.0038e-03\n",
      "└ @ OptimKit /home/maavdamm/OptimKit.jl/src/cg.jl:112\n"
     ]
    },
    {
     "name": "stderr",
     "output_type": "stream",
     "text": [
      "┌ Info: CG: iter  156: f = -108.506704871738, ‖∇f‖ = 6.3881e-03, α = 1.44e-02, β = 9.13e-01, nfg = 2\n",
      "└ @ OptimKit /home/maavdamm/OptimKit.jl/src/cg.jl:95\n"
     ]
    },
    {
     "name": "stderr",
     "output_type": "stream",
     "text": [
      "┌ Info: CG: initializing with f = -108.506705709944, ‖∇f‖ = 4.0380e-03\n",
      "└ @ OptimKit /home/maavdamm/OptimKit.jl/src/cg.jl:39\n"
     ]
    },
    {
     "name": "stderr",
     "output_type": "stream",
     "text": [
      "┌ Info: CG: converged after 1 iterations: f = -108.506706041184, ‖∇f‖ = 2.9991e-03\n",
      "└ @ OptimKit /home/maavdamm/OptimKit.jl/src/cg.jl:112\n"
     ]
    },
    {
     "name": "stderr",
     "output_type": "stream",
     "text": [
      "┌ Info: CG: iter  157: f = -108.506706041184, ‖∇f‖ = 6.5615e-03, α = 1.37e-02, β = 9.17e-01, nfg = 2\n",
      "└ @ OptimKit /home/maavdamm/OptimKit.jl/src/cg.jl:95\n"
     ]
    },
    {
     "name": "stderr",
     "output_type": "stream",
     "text": [
      "┌ Info: CG: initializing with f = -108.506706826779, ‖∇f‖ = 3.6772e-03\n",
      "└ @ OptimKit /home/maavdamm/OptimKit.jl/src/cg.jl:39\n"
     ]
    },
    {
     "name": "stderr",
     "output_type": "stream",
     "text": [
      "┌ Info: CG: converged after 1 iterations: f = -108.506707123914, ‖∇f‖ = 3.0529e-03\n",
      "└ @ OptimKit /home/maavdamm/OptimKit.jl/src/cg.jl:112\n"
     ]
    },
    {
     "name": "stderr",
     "output_type": "stream",
     "text": [
      "┌ Info: CG: iter  158: f = -108.506707123914, ‖∇f‖ = 6.8467e-03, α = 1.05e-02, β = 1.11e+00, nfg = 2\n",
      "└ @ OptimKit /home/maavdamm/OptimKit.jl/src/cg.jl:95\n"
     ]
    },
    {
     "name": "stderr",
     "output_type": "stream",
     "text": [
      "┌ Info: CG: initializing with f = -108.506707975945, ‖∇f‖ = 3.8901e-03\n",
      "└ @ OptimKit /home/maavdamm/OptimKit.jl/src/cg.jl:39\n"
     ]
    },
    {
     "name": "stderr",
     "output_type": "stream",
     "text": [
      "┌ Info: CG: converged after 1 iterations: f = -108.506708291763, ‖∇f‖ = 2.9840e-03\n",
      "└ @ OptimKit /home/maavdamm/OptimKit.jl/src/cg.jl:112\n"
     ]
    },
    {
     "name": "stderr",
     "output_type": "stream",
     "text": [
      "┌ Info: CG: iter  159: f = -108.506708291763, ‖∇f‖ = 6.5652e-03, α = 1.24e-02, β = 8.16e-01, nfg = 2\n",
      "└ @ OptimKit /home/maavdamm/OptimKit.jl/src/cg.jl:95\n"
     ]
    },
    {
     "name": "stderr",
     "output_type": "stream",
     "text": [
      "┌ Info: CG: initializing with f = -108.506709178506, ‖∇f‖ = 3.8279e-03\n",
      "└ @ OptimKit /home/maavdamm/OptimKit.jl/src/cg.jl:39\n"
     ]
    },
    {
     "name": "stderr",
     "output_type": "stream",
     "text": [
      "┌ Info: CG: converged after 1 iterations: f = -108.506709488362, ‖∇f‖ = 2.9823e-03\n",
      "└ @ OptimKit /home/maavdamm/OptimKit.jl/src/cg.jl:112\n"
     ]
    },
    {
     "name": "stderr",
     "output_type": "stream",
     "text": [
      "┌ Info: CG: iter  160: f = -108.506709488362, ‖∇f‖ = 5.9784e-03, α = 1.83e-02, β = 5.71e-01, nfg = 2\n",
      "└ @ OptimKit /home/maavdamm/OptimKit.jl/src/cg.jl:95\n"
     ]
    },
    {
     "name": "stderr",
     "output_type": "stream",
     "text": [
      "┌ Info: CG: initializing with f = -108.506710200718, ‖∇f‖ = 3.0246e-03\n",
      "└ @ OptimKit /home/maavdamm/OptimKit.jl/src/cg.jl:39\n"
     ]
    },
    {
     "name": "stderr",
     "output_type": "stream",
     "text": [
      "┌ Info: CG: converged after 1 iterations: f = -108.506710457489, ‖∇f‖ = 3.3323e-03\n",
      "└ @ OptimKit /home/maavdamm/OptimKit.jl/src/cg.jl:112\n"
     ]
    },
    {
     "name": "stderr",
     "output_type": "stream",
     "text": [
      "┌ Info: CG: iter  161: f = -108.506710457488, ‖∇f‖ = 5.6138e-03, α = 1.68e-02, β = 7.63e-01, nfg = 2\n",
      "└ @ OptimKit /home/maavdamm/OptimKit.jl/src/cg.jl:95\n"
     ]
    },
    {
     "name": "stderr",
     "output_type": "stream",
     "text": [
      "┌ Info: CG: initializing with f = -108.506711156249, ‖∇f‖ = 2.7056e-03\n",
      "└ @ OptimKit /home/maavdamm/OptimKit.jl/src/cg.jl:39\n"
     ]
    },
    {
     "name": "stderr",
     "output_type": "stream",
     "text": [
      "┌ Info: CG: converged after 1 iterations: f = -108.506711412369, ‖∇f‖ = 3.6754e-03\n",
      "└ @ OptimKit /home/maavdamm/OptimKit.jl/src/cg.jl:112\n"
     ]
    },
    {
     "name": "stderr",
     "output_type": "stream",
     "text": [
      "┌ Info: CG: iter  162: f = -108.506711412369, ‖∇f‖ = 4.8569e-03, α = 2.22e-02, β = 6.01e-01, nfg = 2\n",
      "└ @ OptimKit /home/maavdamm/OptimKit.jl/src/cg.jl:95\n"
     ]
    },
    {
     "name": "stderr",
     "output_type": "stream",
     "text": [
      "┌ Info: CG: initializing with f = -108.506711962679, ‖∇f‖ = 2.3091e-03\n",
      "└ @ OptimKit /home/maavdamm/OptimKit.jl/src/cg.jl:39\n"
     ]
    },
    {
     "name": "stderr",
     "output_type": "stream",
     "text": [
      "┌ Info: CG: converged after 1 iterations: f = -108.506712305836, ‖∇f‖ = 4.9196e-03\n",
      "└ @ OptimKit /home/maavdamm/OptimKit.jl/src/cg.jl:112\n"
     ]
    },
    {
     "name": "stderr",
     "output_type": "stream",
     "text": [
      "┌ Info: CG: iter  163: f = -108.506712305836, ‖∇f‖ = 5.2398e-03, α = 2.35e-02, β = 6.54e-01, nfg = 2\n",
      "└ @ OptimKit /home/maavdamm/OptimKit.jl/src/cg.jl:95\n"
     ]
    },
    {
     "name": "stderr",
     "output_type": "stream",
     "text": [
      "┌ Info: CG: initializing with f = -108.506712716081, ‖∇f‖ = 2.2868e-03\n",
      "└ @ OptimKit /home/maavdamm/OptimKit.jl/src/cg.jl:39\n"
     ]
    },
    {
     "name": "stderr",
     "output_type": "stream",
     "text": [
      "┌ Info: CG: converged after 1 iterations: f = -108.506713034706, ‖∇f‖ = 3.9746e-03\n",
      "└ @ OptimKit /home/maavdamm/OptimKit.jl/src/cg.jl:112\n"
     ]
    },
    {
     "name": "stderr",
     "output_type": "stream",
     "text": [
      "┌ Info: CG: iter  164: f = -108.506713034706, ‖∇f‖ = 5.5254e-03, α = 5.81e-03, β = 2.86e+00, nfg = 2\n",
      "└ @ OptimKit /home/maavdamm/OptimKit.jl/src/cg.jl:95\n"
     ]
    },
    {
     "name": "stderr",
     "output_type": "stream",
     "text": [
      "┌ Info: CG: initializing with f = -108.506713837956, ‖∇f‖ = 2.5158e-03\n",
      "└ @ OptimKit /home/maavdamm/OptimKit.jl/src/cg.jl:39\n"
     ]
    },
    {
     "name": "stderr",
     "output_type": "stream",
     "text": [
      "┌ Info: CG: converged after 1 iterations: f = -108.506714081671, ‖∇f‖ = 3.5010e-03\n",
      "└ @ OptimKit /home/maavdamm/OptimKit.jl/src/cg.jl:112\n"
     ]
    },
    {
     "name": "stderr",
     "output_type": "stream",
     "text": [
      "┌ Info: CG: iter  165: f = -108.506714081671, ‖∇f‖ = 5.3723e-03, α = 5.73e-02, β = 3.79e-02, nfg = 3\n",
      "└ @ OptimKit /home/maavdamm/OptimKit.jl/src/cg.jl:95\n"
     ]
    },
    {
     "name": "stderr",
     "output_type": "stream",
     "text": [
      "┌ Info: CG: initializing with f = -108.506714595896, ‖∇f‖ = 2.9692e-03\n",
      "└ @ OptimKit /home/maavdamm/OptimKit.jl/src/cg.jl:39\n"
     ]
    },
    {
     "name": "stderr",
     "output_type": "stream",
     "text": [
      "┌ Info: CG: converged after 1 iterations: f = -108.506714832184, ‖∇f‖ = 2.9114e-03\n",
      "└ @ OptimKit /home/maavdamm/OptimKit.jl/src/cg.jl:112\n"
     ]
    },
    {
     "name": "stderr",
     "output_type": "stream",
     "text": [
      "┌ Info: CG: iter  166: f = -108.506714832184, ‖∇f‖ = 4.6942e-03, α = 4.21e-02, β = 8.43e-01, nfg = 2\n",
      "└ @ OptimKit /home/maavdamm/OptimKit.jl/src/cg.jl:95\n"
     ]
    },
    {
     "name": "stderr",
     "output_type": "stream",
     "text": [
      "┌ Info: CG: initializing with f = -108.506715586961, ‖∇f‖ = 2.4552e-03\n",
      "└ @ OptimKit /home/maavdamm/OptimKit.jl/src/cg.jl:39\n"
     ]
    },
    {
     "name": "stderr",
     "output_type": "stream",
     "text": [
      "┌ Info: CG: converged after 1 iterations: f = -108.506715852766, ‖∇f‖ = 3.6941e-03\n",
      "└ @ OptimKit /home/maavdamm/OptimKit.jl/src/cg.jl:112\n"
     ]
    },
    {
     "name": "stderr",
     "output_type": "stream",
     "text": [
      "┌ Info: CG: iter  167: f = -108.506715852766, ‖∇f‖ = 4.7527e-03, α = 7.44e-02, β = 8.48e-01, nfg = 2\n",
      "└ @ OptimKit /home/maavdamm/OptimKit.jl/src/cg.jl:95\n"
     ]
    },
    {
     "name": "stderr",
     "output_type": "stream",
     "text": [
      "┌ Info: CG: initializing with f = -108.506716491905, ‖∇f‖ = 2.9573e-03\n",
      "└ @ OptimKit /home/maavdamm/OptimKit.jl/src/cg.jl:39\n"
     ]
    },
    {
     "name": "stderr",
     "output_type": "stream",
     "text": [
      "┌ Info: CG: converged after 1 iterations: f = -108.506716733469, ‖∇f‖ = 2.9657e-03\n",
      "└ @ OptimKit /home/maavdamm/OptimKit.jl/src/cg.jl:112\n"
     ]
    },
    {
     "name": "stderr",
     "output_type": "stream",
     "text": [
      "┌ Info: CG: iter  168: f = -108.506716733469, ‖∇f‖ = 5.5592e-03, α = 4.41e-02, β = 1.63e+00, nfg = 2\n",
      "└ @ OptimKit /home/maavdamm/OptimKit.jl/src/cg.jl:95\n"
     ]
    },
    {
     "name": "stderr",
     "output_type": "stream",
     "text": [
      "┌ Info: CG: initializing with f = -108.506717480423, ‖∇f‖ = 3.8729e-03\n",
      "└ @ OptimKit /home/maavdamm/OptimKit.jl/src/cg.jl:39\n"
     ]
    },
    {
     "name": "stderr",
     "output_type": "stream",
     "text": [
      "┌ Info: CG: converged after 1 iterations: f = -108.506717797627, ‖∇f‖ = 2.8225e-03\n",
      "└ @ OptimKit /home/maavdamm/OptimKit.jl/src/cg.jl:112\n"
     ]
    },
    {
     "name": "stderr",
     "output_type": "stream",
     "text": [
      "┌ Info: CG: iter  169: f = -108.506717797627, ‖∇f‖ = 5.1196e-03, α = 3.06e-02, β = 1.43e+00, nfg = 2\n",
      "└ @ OptimKit /home/maavdamm/OptimKit.jl/src/cg.jl:95\n"
     ]
    },
    {
     "name": "stderr",
     "output_type": "stream",
     "text": [
      "┌ Info: CG: initializing with f = -108.506718216302, ‖∇f‖ = 2.4894e-03\n",
      "└ @ OptimKit /home/maavdamm/OptimKit.jl/src/cg.jl:39\n"
     ]
    },
    {
     "name": "stderr",
     "output_type": "stream",
     "text": [
      "┌ Info: CG: converged after 1 iterations: f = -108.506718492145, ‖∇f‖ = 3.6094e-03\n",
      "└ @ OptimKit /home/maavdamm/OptimKit.jl/src/cg.jl:112\n"
     ]
    },
    {
     "name": "stderr",
     "output_type": "stream",
     "text": [
      "┌ Info: CG: iter  170: f = -108.506718492145, ‖∇f‖ = 5.6821e-03, α = 7.28e-03, β = 2.44e+00, nfg = 2\n",
      "└ @ OptimKit /home/maavdamm/OptimKit.jl/src/cg.jl:95\n"
     ]
    },
    {
     "name": "stderr",
     "output_type": "stream",
     "text": [
      "┌ Info: CG: initializing with f = -108.506718818664, ‖∇f‖ = 2.9810e-03\n",
      "└ @ OptimKit /home/maavdamm/OptimKit.jl/src/cg.jl:39\n"
     ]
    },
    {
     "name": "stderr",
     "output_type": "stream",
     "text": [
      "┌ Info: CG: converged after 1 iterations: f = -108.506719056218, ‖∇f‖ = 3.0984e-03\n",
      "└ @ OptimKit /home/maavdamm/OptimKit.jl/src/cg.jl:112\n"
     ]
    },
    {
     "name": "stderr",
     "output_type": "stream",
     "text": [
      "┌ Info: CG: iter  171: f = -108.506719056218, ‖∇f‖ = 6.1227e-03, α = 2.83e-03, β = 2.47e+00, nfg = 2\n",
      "└ @ OptimKit /home/maavdamm/OptimKit.jl/src/cg.jl:95\n"
     ]
    },
    {
     "name": "stderr",
     "output_type": "stream",
     "text": [
      "┌ Info: CG: initializing with f = -108.506719587321, ‖∇f‖ = 3.9773e-03\n",
      "└ @ OptimKit /home/maavdamm/OptimKit.jl/src/cg.jl:39\n"
     ]
    },
    {
     "name": "stderr",
     "output_type": "stream",
     "text": [
      "┌ Info: CG: converged after 1 iterations: f = -108.506719912017, ‖∇f‖ = 2.6775e-03\n",
      "└ @ OptimKit /home/maavdamm/OptimKit.jl/src/cg.jl:112\n"
     ]
    },
    {
     "name": "stderr",
     "output_type": "stream",
     "text": [
      "┌ Info: CG: iter  172: f = -108.506719912017, ‖∇f‖ = 4.6491e-03, α = 2.06e-02, β = 1.69e-01, nfg = 3\n",
      "└ @ OptimKit /home/maavdamm/OptimKit.jl/src/cg.jl:95\n"
     ]
    },
    {
     "name": "stderr",
     "output_type": "stream",
     "text": [
      "┌ Info: CG: initializing with f = -108.506720145531, ‖∇f‖ = 2.3995e-03\n",
      "└ @ OptimKit /home/maavdamm/OptimKit.jl/src/cg.jl:39\n"
     ]
    },
    {
     "name": "stderr",
     "output_type": "stream",
     "text": [
      "┌ Info: CG: converged after 1 iterations: f = -108.506720430189, ‖∇f‖ = 4.0303e-03\n",
      "└ @ OptimKit /home/maavdamm/OptimKit.jl/src/cg.jl:112\n"
     ]
    },
    {
     "name": "stderr",
     "output_type": "stream",
     "text": [
      "┌ Info: CG: iter  173: f = -108.506720430189, ‖∇f‖ = 5.2300e-03, α = 6.36e-03, β = 1.68e+00, nfg = 2\n",
      "└ @ OptimKit /home/maavdamm/OptimKit.jl/src/cg.jl:95\n"
     ]
    },
    {
     "name": "stderr",
     "output_type": "stream",
     "text": [
      "┌ Info: CG: initializing with f = -108.506720647694, ‖∇f‖ = 3.5200e-03\n",
      "└ @ OptimKit /home/maavdamm/OptimKit.jl/src/cg.jl:39\n"
     ]
    },
    {
     "name": "stderr",
     "output_type": "stream",
     "text": [
      "┌ Info: CG: converged after 1 iterations: f = -108.506720915282, ‖∇f‖ = 2.8135e-03\n",
      "└ @ OptimKit /home/maavdamm/OptimKit.jl/src/cg.jl:112\n"
     ]
    },
    {
     "name": "stderr",
     "output_type": "stream",
     "text": [
      "┌ Info: CG: iter  174: f = -108.506720915281, ‖∇f‖ = 5.3657e-03, α = 5.76e-03, β = 1.18e+00, nfg = 2\n",
      "└ @ OptimKit /home/maavdamm/OptimKit.jl/src/cg.jl:95\n"
     ]
    },
    {
     "name": "stderr",
     "output_type": "stream",
     "text": [
      "┌ Info: CG: initializing with f = -108.506721398330, ‖∇f‖ = 3.2885e-03\n",
      "└ @ OptimKit /home/maavdamm/OptimKit.jl/src/cg.jl:39\n"
     ]
    },
    {
     "name": "stderr",
     "output_type": "stream",
     "text": [
      "┌ Info: CG: converged after 1 iterations: f = -108.506721657797, ‖∇f‖ = 2.9428e-03\n",
      "└ @ OptimKit /home/maavdamm/OptimKit.jl/src/cg.jl:112\n"
     ]
    },
    {
     "name": "stderr",
     "output_type": "stream",
     "text": [
      "┌ Info: CG: iter  175: f = -108.506721657797, ‖∇f‖ = 4.1015e-03, α = 3.02e-02, β = 1.94e-01, nfg = 3\n",
      "└ @ OptimKit /home/maavdamm/OptimKit.jl/src/cg.jl:95\n"
     ]
    },
    {
     "name": "stderr",
     "output_type": "stream",
     "text": [
      "┌ Info: CG: initializing with f = -108.506721920606, ‖∇f‖ = 2.4492e-03\n",
      "└ @ OptimKit /home/maavdamm/OptimKit.jl/src/cg.jl:39\n"
     ]
    },
    {
     "name": "stderr",
     "output_type": "stream",
     "text": [
      "┌ Info: CG: converged after 1 iterations: f = -108.506722181414, ‖∇f‖ = 3.6261e-03\n",
      "└ @ OptimKit /home/maavdamm/OptimKit.jl/src/cg.jl:112\n"
     ]
    },
    {
     "name": "stderr",
     "output_type": "stream",
     "text": [
      "┌ Info: CG: iter  176: f = -108.506722181414, ‖∇f‖ = 5.1882e-03, α = 1.53e-02, β = 1.38e+00, nfg = 2\n",
      "└ @ OptimKit /home/maavdamm/OptimKit.jl/src/cg.jl:95\n"
     ]
    },
    {
     "name": "stderr",
     "output_type": "stream",
     "text": [
      "┌ Info: CG: initializing with f = -108.506722580228, ‖∇f‖ = 3.5733e-03\n",
      "└ @ OptimKit /home/maavdamm/OptimKit.jl/src/cg.jl:39\n"
     ]
    },
    {
     "name": "stderr",
     "output_type": "stream",
     "text": [
      "┌ Info: CG: converged after 1 iterations: f = -108.506722857660, ‖∇f‖ = 2.8368e-03\n",
      "└ @ OptimKit /home/maavdamm/OptimKit.jl/src/cg.jl:112\n"
     ]
    },
    {
     "name": "stderr",
     "output_type": "stream",
     "text": [
      "┌ Info: CG: iter  177: f = -108.506722857660, ‖∇f‖ = 4.7699e-03, α = 2.07e-02, β = 9.38e-01, nfg = 2\n",
      "└ @ OptimKit /home/maavdamm/OptimKit.jl/src/cg.jl:95\n"
     ]
    },
    {
     "name": "stderr",
     "output_type": "stream",
     "text": [
      "┌ Info: CG: initializing with f = -108.506723244836, ‖∇f‖ = 3.1873e-03\n",
      "└ @ OptimKit /home/maavdamm/OptimKit.jl/src/cg.jl:39\n"
     ]
    },
    {
     "name": "stderr",
     "output_type": "stream",
     "text": [
      "┌ Info: CG: converged after 1 iterations: f = -108.506723495363, ‖∇f‖ = 2.9069e-03\n",
      "└ @ OptimKit /home/maavdamm/OptimKit.jl/src/cg.jl:112\n"
     ]
    },
    {
     "name": "stderr",
     "output_type": "stream",
     "text": [
      "┌ Info: CG: iter  178: f = -108.506723495363, ‖∇f‖ = 4.6206e-03, α = 2.09e-02, β = 8.19e-01, nfg = 2\n",
      "└ @ OptimKit /home/maavdamm/OptimKit.jl/src/cg.jl:95\n"
     ]
    },
    {
     "name": "stderr",
     "output_type": "stream",
     "text": [
      "┌ Info: CG: initializing with f = -108.506723787570, ‖∇f‖ = 2.6534e-03\n",
      "└ @ OptimKit /home/maavdamm/OptimKit.jl/src/cg.jl:39\n"
     ]
    },
    {
     "name": "stderr",
     "output_type": "stream",
     "text": [
      "┌ Info: CG: converged after 1 iterations: f = -108.506724030059, ‖∇f‖ = 3.3767e-03\n",
      "└ @ OptimKit /home/maavdamm/OptimKit.jl/src/cg.jl:112\n"
     ]
    },
    {
     "name": "stderr",
     "output_type": "stream",
     "text": [
      "┌ Info: CG: iter  179: f = -108.506724030059, ‖∇f‖ = 5.1983e-03, α = 1.03e-02, β = 1.62e+00, nfg = 2\n",
      "└ @ OptimKit /home/maavdamm/OptimKit.jl/src/cg.jl:95\n"
     ]
    },
    {
     "name": "stderr",
     "output_type": "stream",
     "text": [
      "┌ Info: CG: initializing with f = -108.506724329882, ‖∇f‖ = 2.9988e-03\n",
      "└ @ OptimKit /home/maavdamm/OptimKit.jl/src/cg.jl:39\n"
     ]
    },
    {
     "name": "stderr",
     "output_type": "stream",
     "text": [
      "┌ Info: CG: converged after 1 iterations: f = -108.506724566916, ‖∇f‖ = 2.9622e-03\n",
      "└ @ OptimKit /home/maavdamm/OptimKit.jl/src/cg.jl:112\n"
     ]
    },
    {
     "name": "stderr",
     "output_type": "stream",
     "text": [
      "┌ Info: CG: iter  180: f = -108.506724566916, ‖∇f‖ = 5.1776e-03, α = 8.67e-03, β = 1.19e+00, nfg = 2\n",
      "└ @ OptimKit /home/maavdamm/OptimKit.jl/src/cg.jl:95\n"
     ]
    },
    {
     "name": "stderr",
     "output_type": "stream",
     "text": [
      "┌ Info: CG: initializing with f = -108.506724973404, ‖∇f‖ = 3.3575e-03\n",
      "└ @ OptimKit /home/maavdamm/OptimKit.jl/src/cg.jl:39\n"
     ]
    },
    {
     "name": "stderr",
     "output_type": "stream",
     "text": [
      "┌ Info: CG: converged after 1 iterations: f = -108.506725236833, ‖∇f‖ = 2.8160e-03\n",
      "└ @ OptimKit /home/maavdamm/OptimKit.jl/src/cg.jl:112\n"
     ]
    },
    {
     "name": "stderr",
     "output_type": "stream",
     "text": [
      "┌ Info: CG: iter  181: f = -108.506725236833, ‖∇f‖ = 4.5208e-03, α = 2.04e-02, β = 4.03e-01, nfg = 3\n",
      "└ @ OptimKit /home/maavdamm/OptimKit.jl/src/cg.jl:95\n"
     ]
    },
    {
     "name": "stderr",
     "output_type": "stream",
     "text": [
      "┌ Info: CG: initializing with f = -108.506725493154, ‖∇f‖ = 2.6315e-03\n",
      "└ @ OptimKit /home/maavdamm/OptimKit.jl/src/cg.jl:39\n"
     ]
    },
    {
     "name": "stderr",
     "output_type": "stream",
     "text": [
      "┌ Info: CG: converged after 1 iterations: f = -108.506725731747, ‖∇f‖ = 3.2996e-03\n",
      "└ @ OptimKit /home/maavdamm/OptimKit.jl/src/cg.jl:112\n"
     ]
    },
    {
     "name": "stderr",
     "output_type": "stream",
     "text": [
      "┌ Info: CG: iter  182: f = -108.506725731747, ‖∇f‖ = 5.2427e-03, α = 8.60e-03, β = 1.76e+00, nfg = 2\n",
      "└ @ OptimKit /home/maavdamm/OptimKit.jl/src/cg.jl:95\n"
     ]
    },
    {
     "name": "stderr",
     "output_type": "stream",
     "text": [
      "┌ Info: CG: initializing with f = -108.506726019759, ‖∇f‖ = 3.0304e-03\n",
      "└ @ OptimKit /home/maavdamm/OptimKit.jl/src/cg.jl:39\n"
     ]
    },
    {
     "name": "stderr",
     "output_type": "stream",
     "text": [
      "┌ Info: CG: converged after 1 iterations: f = -108.506726259611, ‖∇f‖ = 2.9525e-03\n",
      "└ @ OptimKit /home/maavdamm/OptimKit.jl/src/cg.jl:112\n"
     ]
    },
    {
     "name": "stderr",
     "output_type": "stream",
     "text": [
      "┌ Info: CG: iter  183: f = -108.506726259610, ‖∇f‖ = 5.4531e-03, α = 8.62e-03, β = 1.08e+00, nfg = 2\n",
      "└ @ OptimKit /home/maavdamm/OptimKit.jl/src/cg.jl:95\n"
     ]
    },
    {
     "name": "stderr",
     "output_type": "stream",
     "text": [
      "┌ Info: CG: initializing with f = -108.506726660759, ‖∇f‖ = 3.3200e-03\n",
      "└ @ OptimKit /home/maavdamm/OptimKit.jl/src/cg.jl:39\n"
     ]
    },
    {
     "name": "stderr",
     "output_type": "stream",
     "text": [
      "┌ Info: CG: converged after 1 iterations: f = -108.506726916246, ‖∇f‖ = 2.8309e-03\n",
      "└ @ OptimKit /home/maavdamm/OptimKit.jl/src/cg.jl:112\n"
     ]
    },
    {
     "name": "stderr",
     "output_type": "stream",
     "text": [
      "┌ Info: CG: iter  184: f = -108.506726916245, ‖∇f‖ = 4.0270e-03, α = 1.72e-02, β = 4.77e-01, nfg = 2\n",
      "└ @ OptimKit /home/maavdamm/OptimKit.jl/src/cg.jl:95\n"
     ]
    },
    {
     "name": "stderr",
     "output_type": "stream",
     "text": [
      "┌ Info: CG: initializing with f = -108.506727142556, ‖∇f‖ = 2.5615e-03\n",
      "└ @ OptimKit /home/maavdamm/OptimKit.jl/src/cg.jl:39\n"
     ]
    },
    {
     "name": "stderr",
     "output_type": "stream",
     "text": [
      "┌ Info: CG: converged after 1 iterations: f = -108.506727384220, ‖∇f‖ = 3.4208e-03\n",
      "└ @ OptimKit /home/maavdamm/OptimKit.jl/src/cg.jl:112\n"
     ]
    },
    {
     "name": "stderr",
     "output_type": "stream",
     "text": [
      "┌ Info: CG: iter  185: f = -108.506727384220, ‖∇f‖ = 4.6060e-03, α = 9.98e-03, β = 1.17e+00, nfg = 2\n",
      "└ @ OptimKit /home/maavdamm/OptimKit.jl/src/cg.jl:95\n"
     ]
    },
    {
     "name": "stderr",
     "output_type": "stream",
     "text": [
      "┌ Info: CG: initializing with f = -108.506727613319, ‖∇f‖ = 3.0538e-03\n",
      "└ @ OptimKit /home/maavdamm/OptimKit.jl/src/cg.jl:39\n"
     ]
    },
    {
     "name": "stderr",
     "output_type": "stream",
     "text": [
      "┌ Info: CG: converged after 1 iterations: f = -108.506727850005, ‖∇f‖ = 2.8355e-03\n",
      "└ @ OptimKit /home/maavdamm/OptimKit.jl/src/cg.jl:112\n"
     ]
    },
    {
     "name": "stderr",
     "output_type": "stream",
     "text": [
      "┌ Info: CG: iter  186: f = -108.506727850005, ‖∇f‖ = 5.0708e-03, α = 8.88e-03, β = 1.15e+00, nfg = 2\n",
      "└ @ OptimKit /home/maavdamm/OptimKit.jl/src/cg.jl:95\n"
     ]
    },
    {
     "name": "stderr",
     "output_type": "stream",
     "text": [
      "┌ Info: CG: initializing with f = -108.506728233739, ‖∇f‖ = 3.5527e-03\n",
      "└ @ OptimKit /home/maavdamm/OptimKit.jl/src/cg.jl:39\n"
     ]
    },
    {
     "name": "stderr",
     "output_type": "stream",
     "text": [
      "┌ Info: CG: converged after 1 iterations: f = -108.506728509312, ‖∇f‖ = 2.7037e-03\n",
      "└ @ OptimKit /home/maavdamm/OptimKit.jl/src/cg.jl:112\n"
     ]
    },
    {
     "name": "stderr",
     "output_type": "stream",
     "text": [
      "┌ Info: CG: iter  187: f = -108.506728509312, ‖∇f‖ = 3.8049e-03, α = 2.15e-02, β = 4.26e-01, nfg = 3\n",
      "└ @ OptimKit /home/maavdamm/OptimKit.jl/src/cg.jl:95\n"
     ]
    },
    {
     "name": "stderr",
     "output_type": "stream",
     "text": [
      "┌ Info: CG: initializing with f = -108.506728698927, ‖∇f‖ = 2.4165e-03\n",
      "└ @ OptimKit /home/maavdamm/OptimKit.jl/src/cg.jl:39\n"
     ]
    },
    {
     "name": "stderr",
     "output_type": "stream",
     "text": [
      "┌ Info: CG: converged after 1 iterations: f = -108.506728954368, ‖∇f‖ = 3.6030e-03\n",
      "└ @ OptimKit /home/maavdamm/OptimKit.jl/src/cg.jl:112\n"
     ]
    },
    {
     "name": "stderr",
     "output_type": "stream",
     "text": [
      "┌ Info: CG: iter  188: f = -108.506728954368, ‖∇f‖ = 4.6557e-03, α = 5.32e-03, β = 2.61e+00, nfg = 2\n",
      "└ @ OptimKit /home/maavdamm/OptimKit.jl/src/cg.jl:95\n"
     ]
    },
    {
     "name": "stderr",
     "output_type": "stream",
     "text": [
      "┌ Info: CG: initializing with f = -108.506729163098, ‖∇f‖ = 3.2270e-03\n",
      "└ @ OptimKit /home/maavdamm/OptimKit.jl/src/cg.jl:39\n"
     ]
    },
    {
     "name": "stderr",
     "output_type": "stream",
     "text": [
      "┌ Info: CG: converged after 1 iterations: f = -108.506729407430, ‖∇f‖ = 2.7849e-03\n",
      "└ @ OptimKit /home/maavdamm/OptimKit.jl/src/cg.jl:112\n"
     ]
    },
    {
     "name": "stderr",
     "output_type": "stream",
     "text": [
      "┌ Info: CG: iter  189: f = -108.506729407430, ‖∇f‖ = 5.4470e-03, α = 7.00e-03, β = 8.69e-01, nfg = 2\n",
      "└ @ OptimKit /home/maavdamm/OptimKit.jl/src/cg.jl:95\n"
     ]
    },
    {
     "name": "stderr",
     "output_type": "stream",
     "text": [
      "┌ Info: CG: initializing with f = -108.506729850628, ‖∇f‖ = 3.7786e-03\n",
      "└ @ OptimKit /home/maavdamm/OptimKit.jl/src/cg.jl:39\n"
     ]
    },
    {
     "name": "stderr",
     "output_type": "stream",
     "text": [
      "┌ Info: CG: converged after 1 iterations: f = -108.506730142835, ‖∇f‖ = 2.6958e-03\n",
      "└ @ OptimKit /home/maavdamm/OptimKit.jl/src/cg.jl:112\n"
     ]
    },
    {
     "name": "stderr",
     "output_type": "stream",
     "text": [
      "┌ Info: CG: iter  190: f = -108.506730142835, ‖∇f‖ = 3.7109e-03, α = 2.27e-02, β = 3.41e-01, nfg = 3\n",
      "└ @ OptimKit /home/maavdamm/OptimKit.jl/src/cg.jl:95\n"
     ]
    },
    {
     "name": "stderr",
     "output_type": "stream",
     "text": [
      "┌ Info: CG: initializing with f = -108.506730324923, ‖∇f‖ = 2.2704e-03\n",
      "└ @ OptimKit /home/maavdamm/OptimKit.jl/src/cg.jl:39\n"
     ]
    },
    {
     "name": "stderr",
     "output_type": "stream",
     "text": [
      "┌ Info: CG: converged after 1 iterations: f = -108.506730616869, ‖∇f‖ = 4.0823e-03\n",
      "└ @ OptimKit /home/maavdamm/OptimKit.jl/src/cg.jl:112\n"
     ]
    },
    {
     "name": "stderr",
     "output_type": "stream",
     "text": [
      "┌ Info: CG: iter  191: f = -108.506730616868, ‖∇f‖ = 4.4804e-03, α = 3.60e-03, β = 3.27e+00, nfg = 2\n",
      "└ @ OptimKit /home/maavdamm/OptimKit.jl/src/cg.jl:95\n"
     ]
    },
    {
     "name": "stderr",
     "output_type": "stream",
     "text": [
      "┌ Info: CG: initializing with f = -108.506730883341, ‖∇f‖ = 4.1651e-03\n",
      "└ @ OptimKit /home/maavdamm/OptimKit.jl/src/cg.jl:39\n"
     ]
    },
    {
     "name": "stderr",
     "output_type": "stream",
     "text": [
      "┌ Info: CG: converged after 1 iterations: f = -108.506731211749, ‖∇f‖ = 2.5605e-03\n",
      "└ @ OptimKit /home/maavdamm/OptimKit.jl/src/cg.jl:112\n"
     ]
    },
    {
     "name": "stderr",
     "output_type": "stream",
     "text": [
      "┌ Info: CG: iter  192: f = -108.506731211749, ‖∇f‖ = 4.9412e-03, α = 1.30e-02, β = 4.12e-01, nfg = 3\n",
      "└ @ OptimKit /home/maavdamm/OptimKit.jl/src/cg.jl:95\n"
     ]
    },
    {
     "name": "stderr",
     "output_type": "stream",
     "text": [
      "┌ Info: CG: initializing with f = -108.506731600615, ‖∇f‖ = 3.5727e-03\n",
      "└ @ OptimKit /home/maavdamm/OptimKit.jl/src/cg.jl:39\n"
     ]
    },
    {
     "name": "stderr",
     "output_type": "stream",
     "text": [
      "┌ Info: CG: converged after 1 iterations: f = -108.506731875806, ‖∇f‖ = 2.6716e-03\n",
      "└ @ OptimKit /home/maavdamm/OptimKit.jl/src/cg.jl:112\n"
     ]
    },
    {
     "name": "stderr",
     "output_type": "stream",
     "text": [
      "┌ Info: CG: iter  193: f = -108.506731875806, ‖∇f‖ = 3.5550e-03, α = 2.09e-02, β = 6.03e-01, nfg = 2\n",
      "└ @ OptimKit /home/maavdamm/OptimKit.jl/src/cg.jl:95\n"
     ]
    },
    {
     "name": "stderr",
     "output_type": "stream",
     "text": [
      "┌ Info: CG: initializing with f = -108.506732051026, ‖∇f‖ = 2.1800e-03\n",
      "└ @ OptimKit /home/maavdamm/OptimKit.jl/src/cg.jl:39\n"
     ]
    },
    {
     "name": "stderr",
     "output_type": "stream",
     "text": [
      "┌ Info: CG: iter    1: f = -108.506732388147, ‖∇f‖ = 4.3648e-03, α = 1.51e-01, β = 0.00e+00, nfg = 2\n",
      "└ @ OptimKit /home/maavdamm/OptimKit.jl/src/cg.jl:95\n"
     ]
    },
    {
     "name": "stderr",
     "output_type": "stream",
     "text": [
      "┌ Info: CG: iter    2: f = -108.506741908543, ‖∇f‖ = 1.4343e-02, α = 1.05e+00, β = 3.57e+00, nfg = 3\n",
      "└ @ OptimKit /home/maavdamm/OptimKit.jl/src/cg.jl:95\n"
     ]
    },
    {
     "name": "stderr",
     "output_type": "stream",
     "text": [
      "┌ Info: CG: iter    3: f = -108.506749144339, ‖∇f‖ = 2.4873e-02, α = 3.97e-02, β = 1.75e+01, nfg = 2\n",
      "└ @ OptimKit /home/maavdamm/OptimKit.jl/src/cg.jl:95\n",
      "┌ Warning: resorting to η\n",
      "└ @ OptimKit /home/maavdamm/OptimKit.jl/src/cg.jl:151\n"
     ]
    },
    {
     "name": "stderr",
     "output_type": "stream",
     "text": [
      "┌ Info: CG: converged after 4 iterations: f = -108.506773896628, ‖∇f‖ = 2.4353e-03\n",
      "└ @ OptimKit /home/maavdamm/OptimKit.jl/src/cg.jl:112\n"
     ]
    },
    {
     "name": "stderr",
     "output_type": "stream",
     "text": [
      "┌ Info: CG: iter  194: f = -108.506773896628, ‖∇f‖ = 4.8399e-03, α = 4.11e-03, β = 2.61e+00, nfg = 2\n",
      "└ @ OptimKit /home/maavdamm/OptimKit.jl/src/cg.jl:95\n"
     ]
    },
    {
     "name": "stderr",
     "output_type": "stream",
     "text": [
      "┌ Info: CG: initializing with f = -108.506774206301, ‖∇f‖ = 3.7364e-03\n",
      "└ @ OptimKit /home/maavdamm/OptimKit.jl/src/cg.jl:39\n"
     ]
    },
    {
     "name": "stderr",
     "output_type": "stream",
     "text": [
      "┌ Info: CG: converged after 1 iterations: f = -108.506774519438, ‖∇f‖ = 2.8435e-03\n",
      "└ @ OptimKit /home/maavdamm/OptimKit.jl/src/cg.jl:112\n"
     ]
    },
    {
     "name": "stderr",
     "output_type": "stream",
     "text": [
      "┌ Info: CG: iter  195: f = -108.506774519438, ‖∇f‖ = 4.4699e-03, α = 2.00e-02, β = 3.29e-01, nfg = 3\n",
      "└ @ OptimKit /home/maavdamm/OptimKit.jl/src/cg.jl:95\n"
     ]
    },
    {
     "name": "stderr",
     "output_type": "stream",
     "text": [
      "┌ Info: CG: initializing with f = -108.506774718571, ‖∇f‖ = 2.1658e-03\n",
      "└ @ OptimKit /home/maavdamm/OptimKit.jl/src/cg.jl:39\n"
     ]
    },
    {
     "name": "stderr",
     "output_type": "stream",
     "text": [
      "┌ Info: CG: iter    1: f = -108.506775201513, ‖∇f‖ = 5.0711e-03, α = 2.10e-01, β = 0.00e+00, nfg = 2\n",
      "└ @ OptimKit /home/maavdamm/OptimKit.jl/src/cg.jl:95\n"
     ]
    },
    {
     "name": "stderr",
     "output_type": "stream",
     "text": [
      "┌ Info: CG: iter    2: f = -108.506779832389, ‖∇f‖ = 5.7503e-03, α = 3.67e-01, β = 5.28e+00, nfg = 2\n",
      "└ @ OptimKit /home/maavdamm/OptimKit.jl/src/cg.jl:95\n"
     ]
    },
    {
     "name": "stderr",
     "output_type": "stream",
     "text": [
      "┌ Info: CG: iter    3: f = -108.506782384321, ‖∇f‖ = 6.6242e-03, α = 1.55e-01, β = 1.50e+00, nfg = 2\n",
      "└ @ OptimKit /home/maavdamm/OptimKit.jl/src/cg.jl:95\n"
     ]
    },
    {
     "name": "stderr",
     "output_type": "stream",
     "text": [
      "┌ Info: CG: iter    4: f = -108.506784954541, ‖∇f‖ = 9.2321e-03, α = 1.18e-01, β = 1.32e+00, nfg = 2\n",
      "└ @ OptimKit /home/maavdamm/OptimKit.jl/src/cg.jl:95\n"
     ]
    },
    {
     "name": "stderr",
     "output_type": "stream",
     "text": [
      "┌ Info: CG: iter    5: f = -108.506802557894, ‖∇f‖ = 2.1117e-02, α = 4.08e-01, β = 1.95e+00, nfg = 3\n",
      "└ @ OptimKit /home/maavdamm/OptimKit.jl/src/cg.jl:95\n"
     ]
    },
    {
     "name": "stderr",
     "output_type": "stream",
     "text": [
      "┌ Info: CG: iter    6: f = -108.506841785231, ‖∇f‖ = 4.6290e-02, α = 1.23e+00, β = 7.16e-01, nfg = 3\n",
      "└ @ OptimKit /home/maavdamm/OptimKit.jl/src/cg.jl:95\n"
     ]
    },
    {
     "name": "stderr",
     "output_type": "stream",
     "text": [
      "┌ Info: CG: iter    7: f = -108.506974885462, ‖∇f‖ = 2.3080e-02, α = 2.04e+00, β = 1.19e+00, nfg = 2\n",
      "└ @ OptimKit /home/maavdamm/OptimKit.jl/src/cg.jl:95\n"
     ]
    },
    {
     "name": "stderr",
     "output_type": "stream",
     "text": [
      "┌ Info: CG: iter    8: f = -108.507084787305, ‖∇f‖ = 3.5663e-02, α = 1.86e+00, β = 8.79e-01, nfg = 2\n",
      "└ @ OptimKit /home/maavdamm/OptimKit.jl/src/cg.jl:95\n"
     ]
    },
    {
     "name": "stderr",
     "output_type": "stream",
     "text": [
      "┌ Info: CG: iter    9: f = -108.507139645238, ‖∇f‖ = 1.1005e-02, α = 1.51e+00, β = 5.86e-01, nfg = 2\n",
      "└ @ OptimKit /home/maavdamm/OptimKit.jl/src/cg.jl:95\n"
     ]
    },
    {
     "name": "stderr",
     "output_type": "stream",
     "text": [
      "┌ Info: CG: iter   10: f = -108.507143220740, ‖∇f‖ = 9.7316e-03, α = 5.75e-02, β = 1.77e+00, nfg = 2\n",
      "└ @ OptimKit /home/maavdamm/OptimKit.jl/src/cg.jl:95\n"
     ]
    },
    {
     "name": "stderr",
     "output_type": "stream",
     "text": [
      "┌ Info: CG: iter   11: f = -108.507151244156, ‖∇f‖ = 1.1170e-02, α = 1.67e-01, β = 7.58e-01, nfg = 3\n",
      "└ @ OptimKit /home/maavdamm/OptimKit.jl/src/cg.jl:95\n"
     ]
    },
    {
     "name": "stderr",
     "output_type": "stream",
     "text": [
      "┌ Info: CG: iter   12: f = -108.507159253695, ‖∇f‖ = 1.5217e-02, α = 1.29e-01, β = 1.26e+00, nfg = 2\n",
      "└ @ OptimKit /home/maavdamm/OptimKit.jl/src/cg.jl:95\n"
     ]
    },
    {
     "name": "stderr",
     "output_type": "stream",
     "text": [
      "┌ Info: CG: iter   13: f = -108.507167031562, ‖∇f‖ = 2.0180e-02, α = 8.42e-01, β = 1.47e-01, nfg = 3\n",
      "└ @ OptimKit /home/maavdamm/OptimKit.jl/src/cg.jl:95\n"
     ]
    },
    {
     "name": "stderr",
     "output_type": "stream",
     "text": [
      "┌ Info: CG: iter   14: f = -108.507183617056, ‖∇f‖ = 1.0076e-02, α = 1.62e+00, β = 4.32e-01, nfg = 2\n",
      "└ @ OptimKit /home/maavdamm/OptimKit.jl/src/cg.jl:95\n"
     ]
    },
    {
     "name": "stderr",
     "output_type": "stream",
     "text": [
      "┌ Info: CG: iter   15: f = -108.507189404477, ‖∇f‖ = 7.8365e-03, α = 1.11e-01, β = 5.02e+00, nfg = 2\n",
      "└ @ OptimKit /home/maavdamm/OptimKit.jl/src/cg.jl:95\n"
     ]
    },
    {
     "name": "stderr",
     "output_type": "stream",
     "text": [
      "┌ Info: CG: iter   16: f = -108.507192141260, ‖∇f‖ = 6.5927e-03, α = 8.50e-02, β = 1.11e+00, nfg = 2\n",
      "└ @ OptimKit /home/maavdamm/OptimKit.jl/src/cg.jl:95\n"
     ]
    },
    {
     "name": "stderr",
     "output_type": "stream",
     "text": [
      "┌ Info: CG: iter   17: f = -108.507196252812, ‖∇f‖ = 1.2676e-02, α = 1.89e-01, β = 6.31e-01, nfg = 3\n",
      "└ @ OptimKit /home/maavdamm/OptimKit.jl/src/cg.jl:95\n"
     ]
    },
    {
     "name": "stderr",
     "output_type": "stream",
     "text": [
      "┌ Info: CG: iter   18: f = -108.507204872476, ‖∇f‖ = 9.9712e-03, α = 1.07e-01, β = 3.70e+00, nfg = 2\n",
      "└ @ OptimKit /home/maavdamm/OptimKit.jl/src/cg.jl:95\n"
     ]
    },
    {
     "name": "stderr",
     "output_type": "stream",
     "text": [
      "┌ Info: CG: iter   19: f = -108.507211231974, ‖∇f‖ = 1.4513e-02, α = 1.27e-01, β = 6.25e-01, nfg = 2\n",
      "└ @ OptimKit /home/maavdamm/OptimKit.jl/src/cg.jl:95\n"
     ]
    },
    {
     "name": "stderr",
     "output_type": "stream",
     "text": [
      "┌ Info: CG: iter   20: f = -108.507221044872, ‖∇f‖ = 2.9284e-02, α = 7.86e-01, β = 2.45e-01, nfg = 3\n",
      "└ @ OptimKit /home/maavdamm/OptimKit.jl/src/cg.jl:95\n"
     ]
    },
    {
     "name": "stderr",
     "output_type": "stream",
     "text": [
      "┌ Info: CG: iter   21: f = -108.507254821013, ‖∇f‖ = 1.1960e-02, α = 1.70e+00, β = 6.21e-01, nfg = 3\n",
      "└ @ OptimKit /home/maavdamm/OptimKit.jl/src/cg.jl:95\n"
     ]
    },
    {
     "name": "stderr",
     "output_type": "stream",
     "text": [
      "┌ Info: CG: iter   22: f = -108.507261544631, ‖∇f‖ = 1.1334e-02, α = 9.48e-02, β = 3.70e+00, nfg = 2\n",
      "└ @ OptimKit /home/maavdamm/OptimKit.jl/src/cg.jl:95\n"
     ]
    },
    {
     "name": "stderr",
     "output_type": "stream",
     "text": [
      "┌ Info: CG: iter   23: f = -108.507266724913, ‖∇f‖ = 1.0333e-02, α = 8.12e-02, β = 8.00e-01, nfg = 2\n",
      "└ @ OptimKit /home/maavdamm/OptimKit.jl/src/cg.jl:95\n"
     ]
    },
    {
     "name": "stderr",
     "output_type": "stream",
     "text": [
      "┌ Info: CG: iter   24: f = -108.507276343683, ‖∇f‖ = 1.1993e-02, α = 1.80e-01, β = 8.40e-01, nfg = 3\n",
      "└ @ OptimKit /home/maavdamm/OptimKit.jl/src/cg.jl:95\n"
     ]
    },
    {
     "name": "stderr",
     "output_type": "stream",
     "text": [
      "┌ Info: CG: iter   25: f = -108.507283101436, ‖∇f‖ = 8.4076e-03, α = 9.38e-02, β = 1.35e+00, nfg = 2\n",
      "└ @ OptimKit /home/maavdamm/OptimKit.jl/src/cg.jl:95\n"
     ]
    },
    {
     "name": "stderr",
     "output_type": "stream",
     "text": [
      "┌ Info: CG: iter   26: f = -108.507286106362, ‖∇f‖ = 9.3823e-03, α = 8.49e-02, β = 4.93e-01, nfg = 2\n",
      "└ @ OptimKit /home/maavdamm/OptimKit.jl/src/cg.jl:95\n"
     ]
    },
    {
     "name": "stderr",
     "output_type": "stream",
     "text": [
      "┌ Info: CG: iter   27: f = -108.507299030057, ‖∇f‖ = 9.0951e-03, α = 2.94e-01, β = 1.24e+00, nfg = 3\n",
      "└ @ OptimKit /home/maavdamm/OptimKit.jl/src/cg.jl:95\n"
     ]
    },
    {
     "name": "stderr",
     "output_type": "stream",
     "text": [
      "┌ Info: CG: iter   28: f = -108.507301500298, ‖∇f‖ = 7.4819e-03, α = 5.96e-02, β = 9.43e-01, nfg = 2\n",
      "└ @ OptimKit /home/maavdamm/OptimKit.jl/src/cg.jl:95\n"
     ]
    },
    {
     "name": "stderr",
     "output_type": "stream",
     "text": [
      "┌ Info: CG: iter   29: f = -108.507314974824, ‖∇f‖ = 1.4802e-02, α = 4.80e-01, β = 6.80e-01, nfg = 3\n",
      "└ @ OptimKit /home/maavdamm/OptimKit.jl/src/cg.jl:95\n"
     ]
    },
    {
     "name": "stderr",
     "output_type": "stream",
     "text": [
      "┌ Info: CG: iter   30: f = -108.507322667290, ‖∇f‖ = 1.0375e-02, α = 7.01e-02, β = 3.86e+00, nfg = 2\n",
      "└ @ OptimKit /home/maavdamm/OptimKit.jl/src/cg.jl:95\n"
     ]
    },
    {
     "name": "stderr",
     "output_type": "stream",
     "text": [
      "┌ Info: CG: iter   31: f = -108.507329373785, ‖∇f‖ = 1.4308e-02, α = 1.24e-01, β = 4.94e-01, nfg = 2\n",
      "└ @ OptimKit /home/maavdamm/OptimKit.jl/src/cg.jl:95\n"
     ]
    },
    {
     "name": "stderr",
     "output_type": "stream",
     "text": [
      "┌ Info: CG: iter   32: f = -108.507371072170, ‖∇f‖ = 2.1593e-02, α = 4.08e-01, β = 1.89e+00, nfg = 3\n",
      "└ @ OptimKit /home/maavdamm/OptimKit.jl/src/cg.jl:95\n"
     ]
    },
    {
     "name": "stderr",
     "output_type": "stream",
     "text": [
      "┌ Info: CG: iter   33: f = -108.507475549968, ‖∇f‖ = 4.0154e-02, α = 4.17e+00, β = 2.24e-01, nfg = 4\n",
      "└ @ OptimKit /home/maavdamm/OptimKit.jl/src/cg.jl:95\n"
     ]
    },
    {
     "name": "stderr",
     "output_type": "stream",
     "text": [
      "┌ Info: CG: iter   34: f = -108.507588460102, ‖∇f‖ = 4.6621e-02, α = 8.27e-01, β = 3.37e+00, nfg = 2\n",
      "└ @ OptimKit /home/maavdamm/OptimKit.jl/src/cg.jl:95\n"
     ]
    },
    {
     "name": "stderr",
     "output_type": "stream",
     "text": [
      "┌ Info: CG: iter   35: f = -108.507729469405, ‖∇f‖ = 5.4134e-02, α = 2.61e-01, β = 4.03e+00, nfg = 2\n",
      "└ @ OptimKit /home/maavdamm/OptimKit.jl/src/cg.jl:95\n"
     ]
    },
    {
     "name": "stderr",
     "output_type": "stream",
     "text": [
      "┌ Info: CG: iter   36: f = -108.507943780226, ‖∇f‖ = 7.4337e-02, α = 6.48e-01, β = 7.28e-01, nfg = 3\n",
      "└ @ OptimKit /home/maavdamm/OptimKit.jl/src/cg.jl:95\n"
     ]
    },
    {
     "name": "stderr",
     "output_type": "stream",
     "text": [
      "┌ Info: CG: iter   37: f = -108.508323850249, ‖∇f‖ = 1.1053e-01, α = 1.33e+00, β = 7.70e-01, nfg = 3\n",
      "└ @ OptimKit /home/maavdamm/OptimKit.jl/src/cg.jl:95\n"
     ]
    },
    {
     "name": "stderr",
     "output_type": "stream",
     "text": [
      "┌ Info: CG: iter   38: f = -108.509000734401, ‖∇f‖ = 7.1387e-02, α = 2.00e+00, β = 7.72e-01, nfg = 2\n",
      "└ @ OptimKit /home/maavdamm/OptimKit.jl/src/cg.jl:95\n"
     ]
    },
    {
     "name": "stderr",
     "output_type": "stream",
     "text": [
      "┌ Info: CG: iter   39: f = -108.509637145473, ‖∇f‖ = 7.4723e-02, α = 2.51e+00, β = 6.65e-01, nfg = 2\n",
      "└ @ OptimKit /home/maavdamm/OptimKit.jl/src/cg.jl:95\n"
     ]
    },
    {
     "name": "stderr",
     "output_type": "stream",
     "text": [
      "┌ Info: CG: iter   40: f = -108.510136144276, ‖∇f‖ = 5.2568e-02, α = 2.06e+00, β = 9.74e-01, nfg = 2\n",
      "└ @ OptimKit /home/maavdamm/OptimKit.jl/src/cg.jl:95\n"
     ]
    },
    {
     "name": "stderr",
     "output_type": "stream",
     "text": [
      "┌ Info: CG: iter   41: f = -108.510392996011, ‖∇f‖ = 5.5993e-02, α = 1.45e+00, β = 9.39e-01, nfg = 2\n",
      "└ @ OptimKit /home/maavdamm/OptimKit.jl/src/cg.jl:95\n"
     ]
    },
    {
     "name": "stderr",
     "output_type": "stream",
     "text": [
      "┌ Info: CG: iter   42: f = -108.510637875252, ‖∇f‖ = 5.4166e-02, α = 2.10e+00, β = 8.04e-01, nfg = 2\n",
      "└ @ OptimKit /home/maavdamm/OptimKit.jl/src/cg.jl:95\n"
     ]
    },
    {
     "name": "stderr",
     "output_type": "stream",
     "text": [
      "┌ Info: CG: iter   43: f = -108.510770953467, ‖∇f‖ = 2.3292e-02, α = 1.33e+00, β = 6.90e-01, nfg = 2\n",
      "└ @ OptimKit /home/maavdamm/OptimKit.jl/src/cg.jl:95\n"
     ]
    },
    {
     "name": "stderr",
     "output_type": "stream",
     "text": [
      "┌ Info: CG: iter   44: f = -108.510804220416, ‖∇f‖ = 1.7840e-02, α = 1.36e+00, β = 3.06e-01, nfg = 2\n",
      "└ @ OptimKit /home/maavdamm/OptimKit.jl/src/cg.jl:95\n"
     ]
    },
    {
     "name": "stderr",
     "output_type": "stream",
     "text": [
      "┌ Info: CG: iter   45: f = -108.510823307430, ‖∇f‖ = 1.2351e-02, α = 1.71e+00, β = 4.21e-01, nfg = 2\n",
      "└ @ OptimKit /home/maavdamm/OptimKit.jl/src/cg.jl:95\n"
     ]
    },
    {
     "name": "stderr",
     "output_type": "stream",
     "text": [
      "┌ Info: CG: iter   46: f = -108.510836436648, ‖∇f‖ = 1.2477e-02, α = 2.02e+00, β = 5.70e-01, nfg = 2\n",
      "└ @ OptimKit /home/maavdamm/OptimKit.jl/src/cg.jl:95\n"
     ]
    },
    {
     "name": "stderr",
     "output_type": "stream",
     "text": [
      "┌ Info: CG: iter   47: f = -108.510852849180, ‖∇f‖ = 1.4391e-02, α = 2.66e+00, β = 8.91e-01, nfg = 2\n",
      "└ @ OptimKit /home/maavdamm/OptimKit.jl/src/cg.jl:95\n"
     ]
    },
    {
     "name": "stderr",
     "output_type": "stream",
     "text": [
      "┌ Info: CG: iter   48: f = -108.510872487525, ‖∇f‖ = 1.4841e-02, α = 2.38e+00, β = 1.35e+00, nfg = 2\n",
      "└ @ OptimKit /home/maavdamm/OptimKit.jl/src/cg.jl:95\n"
     ]
    },
    {
     "name": "stderr",
     "output_type": "stream",
     "text": [
      "┌ Info: CG: iter   49: f = -108.510889161982, ‖∇f‖ = 1.3985e-02, α = 2.27e+00, β = 9.14e-01, nfg = 2\n",
      "└ @ OptimKit /home/maavdamm/OptimKit.jl/src/cg.jl:95\n"
     ]
    },
    {
     "name": "stderr",
     "output_type": "stream",
     "text": [
      "┌ Info: CG: iter   50: f = -108.510910143230, ‖∇f‖ = 1.7197e-02, α = 2.58e+00, β = 1.11e+00, nfg = 2\n",
      "└ @ OptimKit /home/maavdamm/OptimKit.jl/src/cg.jl:95\n"
     ]
    },
    {
     "name": "stderr",
     "output_type": "stream",
     "text": [
      "┌ Info: CG: iter   51: f = -108.510926084359, ‖∇f‖ = 1.1757e-02, α = 1.93e+00, β = 1.02e+00, nfg = 2\n",
      "└ @ OptimKit /home/maavdamm/OptimKit.jl/src/cg.jl:95\n"
     ]
    },
    {
     "name": "stderr",
     "output_type": "stream",
     "text": [
      "┌ Info: CG: iter   52: f = -108.510935088180, ‖∇f‖ = 8.9407e-03, α = 1.81e+00, β = 6.05e-01, nfg = 2\n",
      "└ @ OptimKit /home/maavdamm/OptimKit.jl/src/cg.jl:95\n"
     ]
    },
    {
     "name": "stderr",
     "output_type": "stream",
     "text": [
      "┌ Info: CG: iter   53: f = -108.510940398159, ‖∇f‖ = 7.6076e-03, α = 1.81e+00, β = 5.97e-01, nfg = 2\n",
      "└ @ OptimKit /home/maavdamm/OptimKit.jl/src/cg.jl:95\n"
     ]
    },
    {
     "name": "stderr",
     "output_type": "stream",
     "text": [
      "┌ Info: CG: iter   54: f = -108.510945761942, ‖∇f‖ = 8.2890e-03, α = 2.53e+00, β = 7.21e-01, nfg = 2\n",
      "└ @ OptimKit /home/maavdamm/OptimKit.jl/src/cg.jl:95\n"
     ]
    },
    {
     "name": "stderr",
     "output_type": "stream",
     "text": [
      "┌ Info: CG: iter   55: f = -108.510955215355, ‖∇f‖ = 1.3192e-02, α = 3.05e+00, β = 1.38e+00, nfg = 2\n",
      "└ @ OptimKit /home/maavdamm/OptimKit.jl/src/cg.jl:95\n"
     ]
    },
    {
     "name": "stderr",
     "output_type": "stream",
     "text": [
      "┌ Info: CG: iter   56: f = -108.510969684640, ‖∇f‖ = 1.2469e-02, α = 2.87e+00, β = 1.63e+00, nfg = 2\n",
      "└ @ OptimKit /home/maavdamm/OptimKit.jl/src/cg.jl:95\n"
     ]
    },
    {
     "name": "stderr",
     "output_type": "stream",
     "text": [
      "┌ Info: CG: iter   57: f = -108.510984197658, ‖∇f‖ = 1.3577e-02, α = 2.28e+00, β = 1.29e+00, nfg = 2\n",
      "└ @ OptimKit /home/maavdamm/OptimKit.jl/src/cg.jl:95\n"
     ]
    },
    {
     "name": "stderr",
     "output_type": "stream",
     "text": [
      "┌ Info: CG: iter   58: f = -108.510998159108, ‖∇f‖ = 1.2719e-02, α = 2.25e+00, β = 1.01e+00, nfg = 2\n",
      "└ @ OptimKit /home/maavdamm/OptimKit.jl/src/cg.jl:95\n"
     ]
    },
    {
     "name": "stderr",
     "output_type": "stream",
     "text": [
      "┌ Info: CG: iter   59: f = -108.511011768092, ‖∇f‖ = 1.2793e-02, α = 2.32e+00, β = 9.21e-01, nfg = 2\n",
      "└ @ OptimKit /home/maavdamm/OptimKit.jl/src/cg.jl:95\n"
     ]
    },
    {
     "name": "stderr",
     "output_type": "stream",
     "text": [
      "┌ Info: CG: iter   60: f = -108.511024769585, ‖∇f‖ = 1.2767e-02, α = 2.26e+00, β = 1.03e+00, nfg = 2\n",
      "└ @ OptimKit /home/maavdamm/OptimKit.jl/src/cg.jl:95\n"
     ]
    },
    {
     "name": "stderr",
     "output_type": "stream",
     "text": [
      "┌ Info: CG: iter   61: f = -108.511036092080, ‖∇f‖ = 1.0822e-02, α = 2.11e+00, β = 8.77e-01, nfg = 2\n",
      "└ @ OptimKit /home/maavdamm/OptimKit.jl/src/cg.jl:95\n"
     ]
    },
    {
     "name": "stderr",
     "output_type": "stream",
     "text": [
      "┌ Info: CG: iter   62: f = -108.511051058212, ‖∇f‖ = 1.6749e-02, α = 3.00e+00, β = 9.56e-01, nfg = 2\n",
      "└ @ OptimKit /home/maavdamm/OptimKit.jl/src/cg.jl:95\n"
     ]
    },
    {
     "name": "stderr",
     "output_type": "stream",
     "text": [
      "┌ Info: CG: iter   63: f = -108.511076153840, ‖∇f‖ = 1.7040e-02, α = 2.89e+00, β = 1.59e+00, nfg = 2\n",
      "└ @ OptimKit /home/maavdamm/OptimKit.jl/src/cg.jl:95\n"
     ]
    },
    {
     "name": "stderr",
     "output_type": "stream",
     "text": [
      "┌ Info: CG: iter   64: f = -108.511105055406, ‖∇f‖ = 2.0775e-02, α = 2.71e+00, β = 1.37e+00, nfg = 2\n",
      "└ @ OptimKit /home/maavdamm/OptimKit.jl/src/cg.jl:95\n"
     ]
    },
    {
     "name": "stderr",
     "output_type": "stream",
     "text": [
      "┌ Info: CG: iter   65: f = -108.511132396484, ‖∇f‖ = 1.4887e-02, α = 1.89e+00, β = 1.22e+00, nfg = 2\n",
      "└ @ OptimKit /home/maavdamm/OptimKit.jl/src/cg.jl:95\n"
     ]
    },
    {
     "name": "stderr",
     "output_type": "stream",
     "text": [
      "┌ Info: CG: iter   66: f = -108.511144923297, ‖∇f‖ = 1.0929e-02, α = 1.69e+00, β = 5.61e-01, nfg = 2\n",
      "└ @ OptimKit /home/maavdamm/OptimKit.jl/src/cg.jl:95\n"
     ]
    },
    {
     "name": "stderr",
     "output_type": "stream",
     "text": [
      "┌ Info: CG: iter   67: f = -108.511155674794, ‖∇f‖ = 1.1793e-02, α = 2.14e+00, β = 6.41e-01, nfg = 2\n",
      "└ @ OptimKit /home/maavdamm/OptimKit.jl/src/cg.jl:95\n"
     ]
    },
    {
     "name": "stderr",
     "output_type": "stream",
     "text": [
      "┌ Info: CG: iter   68: f = -108.511163898217, ‖∇f‖ = 8.2093e-03, α = 1.93e+00, β = 7.98e-01, nfg = 2\n",
      "└ @ OptimKit /home/maavdamm/OptimKit.jl/src/cg.jl:95\n"
     ]
    },
    {
     "name": "stderr",
     "output_type": "stream",
     "text": [
      "┌ Info: CG: iter   69: f = -108.511169620925, ‖∇f‖ = 8.0159e-03, α = 1.97e+00, β = 6.80e-01, nfg = 2\n",
      "└ @ OptimKit /home/maavdamm/OptimKit.jl/src/cg.jl:95\n"
     ]
    },
    {
     "name": "stderr",
     "output_type": "stream",
     "text": [
      "┌ Info: CG: iter   70: f = -108.511174816872, ‖∇f‖ = 8.1438e-03, α = 2.39e+00, β = 7.31e-01, nfg = 2\n",
      "└ @ OptimKit /home/maavdamm/OptimKit.jl/src/cg.jl:95\n"
     ]
    },
    {
     "name": "stderr",
     "output_type": "stream",
     "text": [
      "┌ Info: CG: iter   71: f = -108.511182243397, ‖∇f‖ = 1.0402e-02, α = 2.89e+00, β = 1.19e+00, nfg = 2\n",
      "└ @ OptimKit /home/maavdamm/OptimKit.jl/src/cg.jl:95\n"
     ]
    },
    {
     "name": "stderr",
     "output_type": "stream",
     "text": [
      "┌ Info: CG: iter   72: f = -108.511191553097, ‖∇f‖ = 1.0835e-02, α = 2.50e+00, β = 1.41e+00, nfg = 2\n",
      "└ @ OptimKit /home/maavdamm/OptimKit.jl/src/cg.jl:95\n"
     ]
    },
    {
     "name": "stderr",
     "output_type": "stream",
     "text": [
      "┌ Info: CG: iter   73: f = -108.511200287333, ‖∇f‖ = 9.1380e-03, α = 2.25e+00, β = 1.07e+00, nfg = 2\n",
      "└ @ OptimKit /home/maavdamm/OptimKit.jl/src/cg.jl:95\n"
     ]
    },
    {
     "name": "stderr",
     "output_type": "stream",
     "text": [
      "┌ Info: CG: iter   74: f = -108.511204725204, ‖∇f‖ = 5.7197e-03, α = 1.61e+00, β = 7.10e-01, nfg = 2\n",
      "└ @ OptimKit /home/maavdamm/OptimKit.jl/src/cg.jl:95\n"
     ]
    },
    {
     "name": "stderr",
     "output_type": "stream",
     "text": [
      "┌ Info: CG: iter   75: f = -108.511207020559, ‖∇f‖ = 4.7731e-03, α = 1.95e+00, β = 4.37e-01, nfg = 2\n",
      "└ @ OptimKit /home/maavdamm/OptimKit.jl/src/cg.jl:95\n"
     ]
    },
    {
     "name": "stderr",
     "output_type": "stream",
     "text": [
      "┌ Info: CG: iter   76: f = -108.511208806198, ‖∇f‖ = 4.3859e-03, α = 2.03e+00, β = 7.53e-01, nfg = 2\n",
      "└ @ OptimKit /home/maavdamm/OptimKit.jl/src/cg.jl:95\n"
     ]
    },
    {
     "name": "stderr",
     "output_type": "stream",
     "text": [
      "┌ Info: CG: converged after 77 iterations: f = -108.511210052625, ‖∇f‖ = 3.5287e-03\n",
      "└ @ OptimKit /home/maavdamm/OptimKit.jl/src/cg.jl:112\n"
     ]
    },
    {
     "name": "stderr",
     "output_type": "stream",
     "text": [
      "┌ Info: CG: iter  196: f = -108.511210052625, ‖∇f‖ = 3.0821e-01, α = 2.27e-03, β = 4.51e+00, nfg = 2\n",
      "└ @ OptimKit /home/maavdamm/OptimKit.jl/src/cg.jl:95\n"
     ]
    },
    {
     "name": "stderr",
     "output_type": "stream",
     "text": [
      "┌ Info: CG: initializing with f = -108.512653506685, ‖∇f‖ = 1.6324e-01\n",
      "└ @ OptimKit /home/maavdamm/OptimKit.jl/src/cg.jl:39\n"
     ]
    },
    {
     "name": "stderr",
     "output_type": "stream",
     "text": [
      "┌ Info: CG: converged after 1 iterations: f = -108.513371520495, ‖∇f‖ = 1.6537e-02\n",
      "└ @ OptimKit /home/maavdamm/OptimKit.jl/src/cg.jl:112\n"
     ]
    },
    {
     "name": "stderr",
     "output_type": "stream",
     "text": [
      "┌ Info: CG: iter  197: f = -108.513371520495, ‖∇f‖ = 2.8881e-01, α = 9.96e-02, β = 5.52e+00, nfg = 4\n",
      "└ @ OptimKit /home/maavdamm/OptimKit.jl/src/cg.jl:95\n"
     ]
    },
    {
     "name": "stderr",
     "output_type": "stream",
     "text": [
      "┌ Info: CG: initializing with f = -108.516534117237, ‖∇f‖ = 8.5852e-02\n",
      "└ @ OptimKit /home/maavdamm/OptimKit.jl/src/cg.jl:39\n"
     ]
    },
    {
     "name": "stderr",
     "output_type": "stream",
     "text": [
      "┌ Info: CG: converged after 1 iterations: f = -108.522938632001, ‖∇f‖ = 3.6772e-02\n",
      "└ @ OptimKit /home/maavdamm/OptimKit.jl/src/cg.jl:112\n"
     ]
    },
    {
     "name": "stderr",
     "output_type": "stream",
     "text": [
      "┌ Info: CG: iter  198: f = -108.522938632001, ‖∇f‖ = 2.5971e-01, α = 1.16e-01, β = 4.53e-01, nfg = 2\n",
      "└ @ OptimKit /home/maavdamm/OptimKit.jl/src/cg.jl:95\n"
     ]
    },
    {
     "name": "stderr",
     "output_type": "stream",
     "text": [
      "┌ Info: CG: initializing with f = -108.527236900682, ‖∇f‖ = 6.1710e-02\n",
      "└ @ OptimKit /home/maavdamm/OptimKit.jl/src/cg.jl:39\n"
     ]
    },
    {
     "name": "stderr",
     "output_type": "stream",
     "text": [
      "┌ Info: CG: converged after 1 iterations: f = -108.528273663332, ‖∇f‖ = 1.0364e-02\n",
      "└ @ OptimKit /home/maavdamm/OptimKit.jl/src/cg.jl:112\n"
     ]
    },
    {
     "name": "stderr",
     "output_type": "stream",
     "text": [
      "┌ Info: CG: iter  199: f = -108.528273663332, ‖∇f‖ = 2.4593e-01, α = 7.14e-02, β = 1.57e+00, nfg = 2\n",
      "└ @ OptimKit /home/maavdamm/OptimKit.jl/src/cg.jl:95\n"
     ]
    },
    {
     "name": "stderr",
     "output_type": "stream",
     "text": [
      "┌ Info: CG: initializing with f = -108.531490724976, ‖∇f‖ = 3.2469e-02\n",
      "└ @ OptimKit /home/maavdamm/OptimKit.jl/src/cg.jl:39\n"
     ]
    },
    {
     "name": "stderr",
     "output_type": "stream",
     "text": [
      "┌ Info: CG: converged after 1 iterations: f = -108.534059861870, ‖∇f‖ = 1.0437e-02\n",
      "└ @ OptimKit /home/maavdamm/OptimKit.jl/src/cg.jl:112\n"
     ]
    },
    {
     "name": "stdout",
     "output_type": "stream",
     "text": [
      "13801.746204 seconds (173.65 G allocations: 12.839 TiB, 12.19% gc time, 0.03% compilation time: 40% of which was recompilation)\n"
     ]
    },
    {
     "name": "stderr",
     "output_type": "stream",
     "text": [
      "┌ Warning: CG: not converged to requested tol: f = -108.534059861870, ‖∇f‖ = 2.5353e-01\n",
      "└ @ OptimKit /home/maavdamm/OptimKit.jl/src/cg.jl:115\n"
     ]
    }
   ],
   "source": [
    "# first some dmrg to ramp up the bond dimension\n",
    "mpo_opp = MPSKitExperimental.mpo_representation(nh)[1]; # will be made easier in future\n",
    "(st,env) = find_groundstate(st,mpo_opp,DMRG2(maxiter=1,trscheme=truncdim(100)),disk_environments(st,mpo_opp));\n",
    "\n",
    "# grassmannscf simultaneously converges the state and the oribtals\n",
    "@time (st,nh) = find_groundstate(st,nh,GrassmannSCF(maxiter=200));"
   ]
  },
  {
   "attachments": {},
   "cell_type": "markdown",
   "metadata": {},
   "source": [
    "In practice, one should probably start from a well informed initial guess, instead of using atomic orbitals. Nevertheless, as a proof of principle, it works."
   ]
  },
  {
   "cell_type": "code",
   "execution_count": null,
   "metadata": {},
   "outputs": [],
   "source": []
  }
 ],
 "metadata": {
  "kernelspec": {
   "display_name": "Julia 1.9.0",
   "language": "julia",
   "name": "julia-1.9"
  },
  "language_info": {
   "file_extension": ".jl",
   "mimetype": "application/julia",
   "name": "julia",
   "version": "1.9.0"
  },
  "orig_nbformat": 4
 },
 "nbformat": 4,
 "nbformat_minor": 2
}
