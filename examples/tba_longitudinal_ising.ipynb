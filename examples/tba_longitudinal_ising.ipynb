{
 "cells": [
  {
   "cell_type": "markdown",
   "metadata": {},
   "source": [
    "Apply the thermodynamic bethe ansatz to a non-integrable system - longitidunal ising. We calculate the S-matrix numerically, and then naively plug in the TBA equations, which will give us the energy density.\n",
    "\n",
    "If you're wondering how the S-matrix can be calculated, look at the Smatrix.ipynb notebook which discusses this in far more detail."
   ]
  },
  {
   "cell_type": "code",
   "execution_count": 1,
   "metadata": {},
   "outputs": [],
   "source": [
    "using Revise,MPSKit, TensorKit, MPSKitExperimental, MPSKitModels, Plots, KrylovKit"
   ]
  },
  {
   "cell_type": "code",
   "execution_count": 2,
   "metadata": {},
   "outputs": [
    {
     "name": "stderr",
     "output_type": "stream",
     "text": [
      "┌ Warning: VUMPS maximum iterations\n",
      "│   iter = 200\n",
      "│   ϵ = 8.725003400027059e-10\n",
      "│   λ = -1.0156870128527506 - 2.2938596166178737e-17im\n",
      "└ @ MPSKit /home/maarten/projects/MPSKit.jl/src/algorithms/groundstate/vumps.jl:94\n"
     ]
    }
   ],
   "source": [
    "longit = 0.5\n",
    "transvers = 2\n",
    "\n",
    "th = @mpoham sum(-S_xx(){i, i + 1} + transvers * S_z(){i}  + longit * S_x(){i} for i in vertices(InfiniteChain()))\n",
    "ts = InfiniteMPS(th.pspaces,[ℂ^8]);\n",
    "(ts,gs_env) = find_groundstate(ts,th,VUMPS(maxiter=200,verbose=false));"
   ]
  },
  {
   "cell_type": "code",
   "execution_count": 3,
   "metadata": {},
   "outputs": [
    {
     "name": "stderr",
     "output_type": "stream",
     "text": [
      "┌ Info: Found excitations for p = -3.141592653589793\n",
      "└ @ MPSKit /home/maarten/projects/MPSKit.jl/src/algorithms/excitation/quasiparticleexcitation.jl:96\n"
     ]
    },
    {
     "name": "stderr",
     "output_type": "stream",
     "text": [
      "┌ Info: Found excitations for p = -2.5132741228718345\n",
      "└ @ MPSKit /home/maarten/projects/MPSKit.jl/src/algorithms/excitation/quasiparticleexcitation.jl:96\n",
      "┌ Info: Found excitations for p = -1.8849555921538759\n",
      "└ @ MPSKit /home/maarten/projects/MPSKit.jl/src/algorithms/excitation/quasiparticleexcitation.jl:96\n"
     ]
    },
    {
     "name": "stderr",
     "output_type": "stream",
     "text": [
      "┌ Info: Found excitations for p = -1.2566370614359172\n",
      "└ @ MPSKit /home/maarten/projects/MPSKit.jl/src/algorithms/excitation/quasiparticleexcitation.jl:96\n"
     ]
    },
    {
     "name": "stderr",
     "output_type": "stream",
     "text": [
      "┌ Info: Found excitations for p = -0.6283185307179586\n",
      "└ @ MPSKit /home/maarten/projects/MPSKit.jl/src/algorithms/excitation/quasiparticleexcitation.jl:96\n",
      "┌ Info: Found excitations for p = 0.0\n",
      "└ @ MPSKit /home/maarten/projects/MPSKit.jl/src/algorithms/excitation/quasiparticleexcitation.jl:96\n"
     ]
    },
    {
     "name": "stderr",
     "output_type": "stream",
     "text": [
      "┌ Info: Found excitations for p = 0.6283185307179586\n",
      "└ @ MPSKit /home/maarten/projects/MPSKit.jl/src/algorithms/excitation/quasiparticleexcitation.jl:96\n",
      "┌ Info: Found excitations for p = 1.2566370614359172\n",
      "└ @ MPSKit /home/maarten/projects/MPSKit.jl/src/algorithms/excitation/quasiparticleexcitation.jl:96\n"
     ]
    },
    {
     "name": "stderr",
     "output_type": "stream",
     "text": [
      "┌ Info: Found excitations for p = 1.8849555921538759\n",
      "└ @ MPSKit /home/maarten/projects/MPSKit.jl/src/algorithms/excitation/quasiparticleexcitation.jl:96\n",
      "┌ Info: Found excitations for p = 2.5132741228718345\n",
      "└ @ MPSKit /home/maarten/projects/MPSKit.jl/src/algorithms/excitation/quasiparticleexcitation.jl:96\n"
     ]
    },
    {
     "name": "stderr",
     "output_type": "stream",
     "text": [
      "┌ Info: Found excitations for p = 3.141592653589793\n",
      "└ @ MPSKit /home/maarten/projects/MPSKit.jl/src/algorithms/excitation/quasiparticleexcitation.jl:96\n"
     ]
    }
   ],
   "source": [
    "# how does the dispersion relation look?\n",
    "kspace = LinRange(-pi,pi,11)\n",
    "(Es,Bs) = excitations(th,QuasiparticleAnsatz(),kspace,ts,sector = Trivial(),parallel=false);"
   ]
  },
  {
   "cell_type": "code",
   "execution_count": 4,
   "metadata": {},
   "outputs": [
    {
     "data": {
      "image/png": "[encoded data removed]",
      "image/svg+xml": [
       "<?xml version=\"1.0\" encoding=\"utf-8\"?>\n",
       "<svg xmlns=\"http://www.w3.org/2000/svg\" xmlns:xlink=\"http://www.w3.org/1999/xlink\" width=\"600\" height=\"400\" viewBox=\"0 0 2400 1600\">\n",
       "<defs>\n",
       "  <clipPath id=\"clip030\">\n",
       "    <rect x=\"0\" y=\"0\" width=\"2400\" height=\"1600\"/>\n",
       "  </clipPath>\n",
       "</defs>\n",
       "<path clip-path=\"url(#clip030)\" d=\"M0 1600 L2400 1600 L2400 0 L0 0  Z\" fill=\"#ffffff\" fill-rule=\"evenodd\" fill-opacity=\"1\"/>\n",
       "<defs>\n",
       "  <clipPath id=\"clip031\">\n",
       "    <rect x=\"480\" y=\"0\" width=\"1681\" height=\"1600\"/>\n",
       "  </clipPath>\n",
       "</defs>\n",
       "<path clip-path=\"url(#clip030)\" d=\"M156.251 1486.45 L2352.76 1486.45 L2352.76 47.2441 L156.251 47.2441  Z\" fill=\"#ffffff\" fill-rule=\"evenodd\" fill-opacity=\"1\"/>\n",
       "<defs>\n",
       "  <clipPath id=\"clip032\">\n",
       "    <rect x=\"156\" y=\"47\" width=\"2198\" height=\"1440\"/>\n",
       "  </clipPath>\n",
       "</defs>\n",
       "<polyline clip-path=\"url(#clip032)\" style=\"stroke:#000000; stroke-linecap:round; stroke-linejoin:round; stroke-width:2; stroke-opacity:0.1; fill:none\" points=\"265.113,1486.45 265.113,47.2441 \"/>\n",
       "<polyline clip-path=\"url(#clip032)\" style=\"stroke:#000000; stroke-linecap:round; stroke-linejoin:round; stroke-width:2; stroke-opacity:0.1; fill:none\" points=\"594.91,1486.45 594.91,47.2441 \"/>\n",
       "<polyline clip-path=\"url(#clip032)\" style=\"stroke:#000000; stroke-linecap:round; stroke-linejoin:round; stroke-width:2; stroke-opacity:0.1; fill:none\" points=\"924.707,1486.45 924.707,47.2441 \"/>\n",
       "<polyline clip-path=\"url(#clip032)\" style=\"stroke:#000000; stroke-linecap:round; stroke-linejoin:round; stroke-width:2; stroke-opacity:0.1; fill:none\" points=\"1254.5,1486.45 1254.5,47.2441 \"/>\n",
       "<polyline clip-path=\"url(#clip032)\" style=\"stroke:#000000; stroke-linecap:round; stroke-linejoin:round; stroke-width:2; stroke-opacity:0.1; fill:none\" points=\"1584.3,1486.45 1584.3,47.2441 \"/>\n",
       "<polyline clip-path=\"url(#clip032)\" style=\"stroke:#000000; stroke-linecap:round; stroke-linejoin:round; stroke-width:2; stroke-opacity:0.1; fill:none\" points=\"1914.1,1486.45 1914.1,47.2441 \"/>\n",
       "<polyline clip-path=\"url(#clip032)\" style=\"stroke:#000000; stroke-linecap:round; stroke-linejoin:round; stroke-width:2; stroke-opacity:0.1; fill:none\" points=\"2243.89,1486.45 2243.89,47.2441 \"/>\n",
       "<polyline clip-path=\"url(#clip030)\" style=\"stroke:#000000; stroke-linecap:round; stroke-linejoin:round; stroke-width:4; stroke-opacity:1; fill:none\" points=\"156.251,1486.45 2352.76,1486.45 \"/>\n",
       "<polyline clip-path=\"url(#clip030)\" style=\"stroke:#000000; stroke-linecap:round; stroke-linejoin:round; stroke-width:4; stroke-opacity:1; fill:none\" points=\"265.113,1486.45 265.113,1467.55 \"/>\n",
       "<polyline clip-path=\"url(#clip030)\" style=\"stroke:#000000; stroke-linecap:round; stroke-linejoin:round; stroke-width:4; stroke-opacity:1; fill:none\" points=\"594.91,1486.45 594.91,1467.55 \"/>\n",
       "<polyline clip-path=\"url(#clip030)\" style=\"stroke:#000000; stroke-linecap:round; stroke-linejoin:round; stroke-width:4; stroke-opacity:1; fill:none\" points=\"924.707,1486.45 924.707,1467.55 \"/>\n",
       "<polyline clip-path=\"url(#clip030)\" style=\"stroke:#000000; stroke-linecap:round; stroke-linejoin:round; stroke-width:4; stroke-opacity:1; fill:none\" points=\"1254.5,1486.45 1254.5,1467.55 \"/>\n",
       "<polyline clip-path=\"url(#clip030)\" style=\"stroke:#000000; stroke-linecap:round; stroke-linejoin:round; stroke-width:4; stroke-opacity:1; fill:none\" points=\"1584.3,1486.45 1584.3,1467.55 \"/>\n",
       "<polyline clip-path=\"url(#clip030)\" style=\"stroke:#000000; stroke-linecap:round; stroke-linejoin:round; stroke-width:4; stroke-opacity:1; fill:none\" points=\"1914.1,1486.45 1914.1,1467.55 \"/>\n",
       "<polyline clip-path=\"url(#clip030)\" style=\"stroke:#000000; stroke-linecap:round; stroke-linejoin:round; stroke-width:4; stroke-opacity:1; fill:none\" points=\"2243.89,1486.45 2243.89,1467.55 \"/>\n",
       "<path clip-path=\"url(#clip030)\" d=\"M234.581 1532.02 L264.257 1532.02 L264.257 1535.95 L234.581 1535.95 L234.581 1532.02 Z\" fill=\"#000000\" fill-rule=\"nonzero\" fill-opacity=\"1\" /><path clip-path=\"url(#clip030)\" d=\"M288.516 1530.21 Q291.872 1530.93 293.747 1533.2 Q295.645 1535.47 295.645 1538.8 Q295.645 1543.92 292.127 1546.72 Q288.608 1549.52 282.127 1549.52 Q279.951 1549.52 277.636 1549.08 Q275.344 1548.66 272.891 1547.81 L272.891 1543.29 Q274.835 1544.43 277.15 1545.01 Q279.465 1545.58 281.988 1545.58 Q286.386 1545.58 288.678 1543.85 Q290.993 1542.11 290.993 1538.8 Q290.993 1535.75 288.84 1534.03 Q286.71 1532.3 282.891 1532.3 L278.863 1532.3 L278.863 1528.45 L283.076 1528.45 Q286.525 1528.45 288.354 1527.09 Q290.182 1525.7 290.182 1523.11 Q290.182 1520.45 288.284 1519.03 Q286.409 1517.6 282.891 1517.6 Q280.969 1517.6 278.77 1518.01 Q276.571 1518.43 273.932 1519.31 L273.932 1515.14 Q276.594 1514.4 278.909 1514.03 Q281.247 1513.66 283.307 1513.66 Q288.631 1513.66 291.733 1516.09 Q294.835 1518.5 294.835 1522.62 Q294.835 1525.49 293.192 1527.48 Q291.548 1529.45 288.516 1530.21 Z\" fill=\"#000000\" fill-rule=\"nonzero\" fill-opacity=\"1\" /><path clip-path=\"url(#clip030)\" d=\"M564.852 1532.02 L594.528 1532.02 L594.528 1535.95 L564.852 1535.95 L564.852 1532.02 Z\" fill=\"#000000\" fill-rule=\"nonzero\" fill-opacity=\"1\" /><path clip-path=\"url(#clip030)\" d=\"M608.648 1544.91 L624.968 1544.91 L624.968 1548.85 L603.023 1548.85 L603.023 1544.91 Q605.685 1542.16 610.269 1537.53 Q614.875 1532.88 616.056 1531.53 Q618.301 1529.01 619.181 1527.27 Q620.083 1525.51 620.083 1523.82 Q620.083 1521.07 618.139 1519.33 Q616.218 1517.6 613.116 1517.6 Q610.917 1517.6 608.463 1518.36 Q606.032 1519.13 603.255 1520.68 L603.255 1515.95 Q606.079 1514.82 608.532 1514.24 Q610.986 1513.66 613.023 1513.66 Q618.394 1513.66 621.588 1516.35 Q624.782 1519.03 624.782 1523.52 Q624.782 1525.65 623.972 1527.57 Q623.185 1529.47 621.079 1532.07 Q620.5 1532.74 617.398 1535.95 Q614.296 1539.15 608.648 1544.91 Z\" fill=\"#000000\" fill-rule=\"nonzero\" fill-opacity=\"1\" /><path clip-path=\"url(#clip030)\" d=\"M894.464 1532.02 L924.14 1532.02 L924.14 1535.95 L894.464 1535.95 L894.464 1532.02 Z\" fill=\"#000000\" fill-rule=\"nonzero\" fill-opacity=\"1\" /><path clip-path=\"url(#clip030)\" d=\"M935.042 1544.91 L942.681 1544.91 L942.681 1518.55 L934.371 1520.21 L934.371 1515.95 L942.635 1514.29 L947.311 1514.29 L947.311 1544.91 L954.95 1544.91 L954.95 1548.85 L935.042 1548.85 L935.042 1544.91 Z\" fill=\"#000000\" fill-rule=\"nonzero\" fill-opacity=\"1\" /><path clip-path=\"url(#clip030)\" d=\"M1254.5 1517.37 Q1250.89 1517.37 1249.06 1520.93 Q1247.26 1524.47 1247.26 1531.6 Q1247.26 1538.71 1249.06 1542.27 Q1250.89 1545.82 1254.5 1545.82 Q1258.14 1545.82 1259.94 1542.27 Q1261.77 1538.71 1261.77 1531.6 Q1261.77 1524.47 1259.94 1520.93 Q1258.14 1517.37 1254.5 1517.37 M1254.5 1513.66 Q1260.31 1513.66 1263.37 1518.27 Q1266.45 1522.85 1266.45 1531.6 Q1266.45 1540.33 1263.37 1544.94 Q1260.31 1549.52 1254.5 1549.52 Q1248.69 1549.52 1245.61 1544.94 Q1242.56 1540.33 1242.56 1531.6 Q1242.56 1522.85 1245.61 1518.27 Q1248.69 1513.66 1254.5 1513.66 Z\" fill=\"#000000\" fill-rule=\"nonzero\" fill-opacity=\"1\" /><path clip-path=\"url(#clip030)\" d=\"M1574.68 1544.91 L1582.32 1544.91 L1582.32 1518.55 L1574.01 1520.21 L1574.01 1515.95 L1582.27 1514.29 L1586.95 1514.29 L1586.95 1544.91 L1594.59 1544.91 L1594.59 1548.85 L1574.68 1548.85 L1574.68 1544.91 Z\" fill=\"#000000\" fill-rule=\"nonzero\" fill-opacity=\"1\" /><path clip-path=\"url(#clip030)\" d=\"M1908.75 1544.91 L1925.07 1544.91 L1925.07 1548.85 L1903.12 1548.85 L1903.12 1544.91 Q1905.79 1542.16 1910.37 1537.53 Q1914.98 1532.88 1916.16 1531.53 Q1918.4 1529.01 1919.28 1527.27 Q1920.18 1525.51 1920.18 1523.82 Q1920.18 1521.07 1918.24 1519.33 Q1916.32 1517.6 1913.22 1517.6 Q1911.02 1517.6 1908.56 1518.36 Q1906.13 1519.13 1903.36 1520.68 L1903.36 1515.95 Q1906.18 1514.82 1908.63 1514.24 Q1911.09 1513.66 1913.12 1513.66 Q1918.5 1513.66 1921.69 1516.35 Q1924.88 1519.03 1924.88 1523.52 Q1924.88 1525.65 1924.07 1527.57 Q1923.29 1529.47 1921.18 1532.07 Q1920.6 1532.74 1917.5 1535.95 Q1914.4 1539.15 1908.75 1544.91 Z\" fill=\"#000000\" fill-rule=\"nonzero\" fill-opacity=\"1\" /><path clip-path=\"url(#clip030)\" d=\"M2248.14 1530.21 Q2251.5 1530.93 2253.37 1533.2 Q2255.27 1535.47 2255.27 1538.8 Q2255.27 1543.92 2251.75 1546.72 Q2248.23 1549.52 2241.75 1549.52 Q2239.58 1549.52 2237.26 1549.08 Q2234.97 1548.66 2232.52 1547.81 L2232.52 1543.29 Q2234.46 1544.43 2236.78 1545.01 Q2239.09 1545.58 2241.61 1545.58 Q2246.01 1545.58 2248.3 1543.85 Q2250.62 1542.11 2250.62 1538.8 Q2250.62 1535.75 2248.47 1534.03 Q2246.34 1532.3 2242.52 1532.3 L2238.49 1532.3 L2238.49 1528.45 L2242.7 1528.45 Q2246.15 1528.45 2247.98 1527.09 Q2249.81 1525.7 2249.81 1523.11 Q2249.81 1520.45 2247.91 1519.03 Q2246.04 1517.6 2242.52 1517.6 Q2240.6 1517.6 2238.4 1518.01 Q2236.2 1518.43 2233.56 1519.31 L2233.56 1515.14 Q2236.22 1514.4 2238.54 1514.03 Q2240.87 1513.66 2242.93 1513.66 Q2248.26 1513.66 2251.36 1516.09 Q2254.46 1518.5 2254.46 1522.62 Q2254.46 1525.49 2252.82 1527.48 Q2251.17 1529.45 2248.14 1530.21 Z\" fill=\"#000000\" fill-rule=\"nonzero\" fill-opacity=\"1\" /><polyline clip-path=\"url(#clip032)\" style=\"stroke:#000000; stroke-linecap:round; stroke-linejoin:round; stroke-width:2; stroke-opacity:0.1; fill:none\" points=\"156.251,1309.94 2352.76,1309.94 \"/>\n",
       "<polyline clip-path=\"url(#clip032)\" style=\"stroke:#000000; stroke-linecap:round; stroke-linejoin:round; stroke-width:2; stroke-opacity:0.1; fill:none\" points=\"156.251,1038.39 2352.76,1038.39 \"/>\n",
       "<polyline clip-path=\"url(#clip032)\" style=\"stroke:#000000; stroke-linecap:round; stroke-linejoin:round; stroke-width:2; stroke-opacity:0.1; fill:none\" points=\"156.251,766.846 2352.76,766.846 \"/>\n",
       "<polyline clip-path=\"url(#clip032)\" style=\"stroke:#000000; stroke-linecap:round; stroke-linejoin:round; stroke-width:2; stroke-opacity:0.1; fill:none\" points=\"156.251,495.298 2352.76,495.298 \"/>\n",
       "<polyline clip-path=\"url(#clip032)\" style=\"stroke:#000000; stroke-linecap:round; stroke-linejoin:round; stroke-width:2; stroke-opacity:0.1; fill:none\" points=\"156.251,223.75 2352.76,223.75 \"/>\n",
       "<polyline clip-path=\"url(#clip030)\" style=\"stroke:#000000; stroke-linecap:round; stroke-linejoin:round; stroke-width:4; stroke-opacity:1; fill:none\" points=\"156.251,1486.45 156.251,47.2441 \"/>\n",
       "<polyline clip-path=\"url(#clip030)\" style=\"stroke:#000000; stroke-linecap:round; stroke-linejoin:round; stroke-width:4; stroke-opacity:1; fill:none\" points=\"156.251,1309.94 175.149,1309.94 \"/>\n",
       "<polyline clip-path=\"url(#clip030)\" style=\"stroke:#000000; stroke-linecap:round; stroke-linejoin:round; stroke-width:4; stroke-opacity:1; fill:none\" points=\"156.251,1038.39 175.149,1038.39 \"/>\n",
       "<polyline clip-path=\"url(#clip030)\" style=\"stroke:#000000; stroke-linecap:round; stroke-linejoin:round; stroke-width:4; stroke-opacity:1; fill:none\" points=\"156.251,766.846 175.149,766.846 \"/>\n",
       "<polyline clip-path=\"url(#clip030)\" style=\"stroke:#000000; stroke-linecap:round; stroke-linejoin:round; stroke-width:4; stroke-opacity:1; fill:none\" points=\"156.251,495.298 175.149,495.298 \"/>\n",
       "<polyline clip-path=\"url(#clip030)\" style=\"stroke:#000000; stroke-linecap:round; stroke-linejoin:round; stroke-width:4; stroke-opacity:1; fill:none\" points=\"156.251,223.75 175.149,223.75 \"/>\n",
       "<path clip-path=\"url(#clip030)\" d=\"M53.7236 1323.29 L61.3624 1323.29 L61.3624 1296.92 L53.0523 1298.59 L53.0523 1294.33 L61.3161 1292.66 L65.992 1292.66 L65.992 1323.29 L73.6309 1323.29 L73.6309 1327.22 L53.7236 1327.22 L53.7236 1323.29 Z\" fill=\"#000000\" fill-rule=\"nonzero\" fill-opacity=\"1\" /><path clip-path=\"url(#clip030)\" d=\"M83.0753 1321.34 L87.9595 1321.34 L87.9595 1327.22 L83.0753 1327.22 L83.0753 1321.34 Z\" fill=\"#000000\" fill-rule=\"nonzero\" fill-opacity=\"1\" /><path clip-path=\"url(#clip030)\" d=\"M108.723 1308.08 Q105.575 1308.08 103.723 1310.23 Q101.895 1312.38 101.895 1316.13 Q101.895 1319.86 103.723 1322.04 Q105.575 1324.19 108.723 1324.19 Q111.871 1324.19 113.7 1322.04 Q115.552 1319.86 115.552 1316.13 Q115.552 1312.38 113.7 1310.23 Q111.871 1308.08 108.723 1308.08 M118.006 1293.43 L118.006 1297.68 Q116.246 1296.85 114.441 1296.41 Q112.658 1295.97 110.899 1295.97 Q106.27 1295.97 103.816 1299.1 Q101.385 1302.22 101.038 1308.54 Q102.404 1306.53 104.464 1305.46 Q106.524 1304.37 109.001 1304.37 Q114.209 1304.37 117.219 1307.55 Q120.251 1310.69 120.251 1316.13 Q120.251 1321.46 117.103 1324.68 Q113.955 1327.89 108.723 1327.89 Q102.728 1327.89 99.5567 1323.31 Q96.3854 1318.7 96.3854 1309.98 Q96.3854 1301.78 100.274 1296.92 Q104.163 1292.04 110.714 1292.04 Q112.473 1292.04 114.256 1292.38 Q116.061 1292.73 118.006 1293.43 Z\" fill=\"#000000\" fill-rule=\"nonzero\" fill-opacity=\"1\" /><path clip-path=\"url(#clip030)\" d=\"M53.9782 1051.74 L61.6171 1051.74 L61.6171 1025.37 L53.3069 1027.04 L53.3069 1022.78 L61.5708 1021.11 L66.2467 1021.11 L66.2467 1051.74 L73.8855 1051.74 L73.8855 1055.67 L53.9782 1055.67 L53.9782 1051.74 Z\" fill=\"#000000\" fill-rule=\"nonzero\" fill-opacity=\"1\" /><path clip-path=\"url(#clip030)\" d=\"M83.3299 1049.79 L88.2141 1049.79 L88.2141 1055.67 L83.3299 1055.67 L83.3299 1049.79 Z\" fill=\"#000000\" fill-rule=\"nonzero\" fill-opacity=\"1\" /><path clip-path=\"url(#clip030)\" d=\"M108.399 1039.26 Q105.066 1039.26 103.145 1041.04 Q101.246 1042.83 101.246 1045.95 Q101.246 1049.08 103.145 1050.86 Q105.066 1052.64 108.399 1052.64 Q111.733 1052.64 113.654 1050.86 Q115.575 1049.05 115.575 1045.95 Q115.575 1042.83 113.654 1041.04 Q111.756 1039.26 108.399 1039.26 M103.723 1037.27 Q100.714 1036.53 99.0243 1034.47 Q97.3576 1032.41 97.3576 1029.45 Q97.3576 1025.3 100.297 1022.9 Q103.26 1020.49 108.399 1020.49 Q113.561 1020.49 116.501 1022.9 Q119.441 1025.3 119.441 1029.45 Q119.441 1032.41 117.751 1034.47 Q116.084 1036.53 113.098 1037.27 Q116.478 1038.06 118.353 1040.35 Q120.251 1042.64 120.251 1045.95 Q120.251 1050.97 117.172 1053.66 Q114.117 1056.35 108.399 1056.35 Q102.682 1056.35 99.603 1053.66 Q96.5474 1050.97 96.5474 1045.95 Q96.5474 1042.64 98.4456 1040.35 Q100.344 1038.06 103.723 1037.27 M102.01 1029.89 Q102.01 1032.57 103.677 1034.08 Q105.367 1035.58 108.399 1035.58 Q111.408 1035.58 113.098 1034.08 Q114.811 1032.57 114.811 1029.89 Q114.811 1027.2 113.098 1025.7 Q111.408 1024.19 108.399 1024.19 Q105.367 1024.19 103.677 1025.7 Q102.01 1027.2 102.01 1029.89 Z\" fill=\"#000000\" fill-rule=\"nonzero\" fill-opacity=\"1\" /><path clip-path=\"url(#clip030)\" d=\"M57.1032 780.191 L73.4226 780.191 L73.4226 784.126 L51.4782 784.126 L51.4782 780.191 Q54.1403 777.436 58.7236 772.807 Q63.33 768.154 64.5106 766.811 Q66.7559 764.288 67.6356 762.552 Q68.5383 760.793 68.5383 759.103 Q68.5383 756.348 66.5939 754.612 Q64.6726 752.876 61.5708 752.876 Q59.3717 752.876 56.918 753.64 Q54.4875 754.404 51.7097 755.955 L51.7097 751.233 Q54.5338 750.098 56.9875 749.52 Q59.4412 748.941 61.4782 748.941 Q66.8485 748.941 70.0429 751.626 Q73.2374 754.311 73.2374 758.802 Q73.2374 760.932 72.4272 762.853 Q71.6402 764.751 69.5337 767.344 Q68.955 768.015 65.8532 771.233 Q62.7513 774.427 57.1032 780.191 Z\" fill=\"#000000\" fill-rule=\"nonzero\" fill-opacity=\"1\" /><path clip-path=\"url(#clip030)\" d=\"M83.2373 778.246 L88.1216 778.246 L88.1216 784.126 L83.2373 784.126 L83.2373 778.246 Z\" fill=\"#000000\" fill-rule=\"nonzero\" fill-opacity=\"1\" /><path clip-path=\"url(#clip030)\" d=\"M108.307 752.645 Q104.696 752.645 102.867 756.209 Q101.061 759.751 101.061 766.881 Q101.061 773.987 102.867 777.552 Q104.696 781.094 108.307 781.094 Q111.941 781.094 113.746 777.552 Q115.575 773.987 115.575 766.881 Q115.575 759.751 113.746 756.209 Q111.941 752.645 108.307 752.645 M108.307 748.941 Q114.117 748.941 117.172 753.547 Q120.251 758.131 120.251 766.881 Q120.251 775.608 117.172 780.214 Q114.117 784.797 108.307 784.797 Q102.496 784.797 99.4178 780.214 Q96.3623 775.608 96.3623 766.881 Q96.3623 758.131 99.4178 753.547 Q102.496 748.941 108.307 748.941 Z\" fill=\"#000000\" fill-rule=\"nonzero\" fill-opacity=\"1\" /><path clip-path=\"url(#clip030)\" d=\"M58.7004 508.643 L75.0198 508.643 L75.0198 512.578 L53.0754 512.578 L53.0754 508.643 Q55.7375 505.888 60.3208 501.259 Q64.9272 496.606 66.1078 495.263 Q68.3531 492.74 69.2328 491.004 Q70.1355 489.245 70.1355 487.555 Q70.1355 484.8 68.1911 483.064 Q66.2698 481.328 63.168 481.328 Q60.9689 481.328 58.5152 482.092 Q56.0847 482.856 53.3069 484.407 L53.3069 479.685 Q56.131 478.551 58.5847 477.972 Q61.0384 477.393 63.0754 477.393 Q68.4457 477.393 71.6402 480.078 Q74.8346 482.763 74.8346 487.254 Q74.8346 489.384 74.0244 491.305 Q73.2374 493.203 71.1309 495.796 Q70.5522 496.467 67.4504 499.685 Q64.3485 502.879 58.7004 508.643 Z\" fill=\"#000000\" fill-rule=\"nonzero\" fill-opacity=\"1\" /><path clip-path=\"url(#clip030)\" d=\"M84.8345 506.699 L89.7188 506.699 L89.7188 512.578 L84.8345 512.578 L84.8345 506.699 Z\" fill=\"#000000\" fill-rule=\"nonzero\" fill-opacity=\"1\" /><path clip-path=\"url(#clip030)\" d=\"M103.932 508.643 L120.251 508.643 L120.251 512.578 L98.3067 512.578 L98.3067 508.643 Q100.969 505.888 105.552 501.259 Q110.158 496.606 111.339 495.263 Q113.584 492.74 114.464 491.004 Q115.367 489.245 115.367 487.555 Q115.367 484.8 113.422 483.064 Q111.501 481.328 108.399 481.328 Q106.2 481.328 103.746 482.092 Q101.316 482.856 98.5382 484.407 L98.5382 479.685 Q101.362 478.551 103.816 477.972 Q106.27 477.393 108.307 477.393 Q113.677 477.393 116.871 480.078 Q120.066 482.763 120.066 487.254 Q120.066 489.384 119.256 491.305 Q118.469 493.203 116.362 495.796 Q115.783 496.467 112.682 499.685 Q109.58 502.879 103.932 508.643 Z\" fill=\"#000000\" fill-rule=\"nonzero\" fill-opacity=\"1\" /><path clip-path=\"url(#clip030)\" d=\"M56.6171 237.095 L72.9365 237.095 L72.9365 241.03 L50.9921 241.03 L50.9921 237.095 Q53.6541 234.34 58.2375 229.711 Q62.8439 225.058 64.0245 223.715 Q66.2698 221.192 67.1494 219.456 Q68.0522 217.697 68.0522 216.007 Q68.0522 213.253 66.1078 211.516 Q64.1865 209.78 61.0847 209.78 Q58.8856 209.78 56.4319 210.544 Q54.0014 211.308 51.2236 212.859 L51.2236 208.137 Q54.0477 207.003 56.5014 206.424 Q58.955 205.845 60.9921 205.845 Q66.3624 205.845 69.5568 208.53 Q72.7513 211.216 72.7513 215.706 Q72.7513 217.836 71.9411 219.757 Q71.1541 221.655 69.0476 224.248 Q68.4689 224.919 65.367 228.137 Q62.2652 231.331 56.6171 237.095 Z\" fill=\"#000000\" fill-rule=\"nonzero\" fill-opacity=\"1\" /><path clip-path=\"url(#clip030)\" d=\"M82.7512 235.151 L87.6354 235.151 L87.6354 241.03 L82.7512 241.03 L82.7512 235.151 Z\" fill=\"#000000\" fill-rule=\"nonzero\" fill-opacity=\"1\" /><path clip-path=\"url(#clip030)\" d=\"M110.668 210.544 L98.8622 228.993 L110.668 228.993 L110.668 210.544 M109.441 206.47 L115.32 206.47 L115.32 228.993 L120.251 228.993 L120.251 232.882 L115.32 232.882 L115.32 241.03 L110.668 241.03 L110.668 232.882 L95.066 232.882 L95.066 228.368 L109.441 206.47 Z\" fill=\"#000000\" fill-rule=\"nonzero\" fill-opacity=\"1\" /><circle clip-path=\"url(#clip032)\" cx=\"218.416\" cy=\"87.9763\" r=\"14.4\" fill=\"#009af9\" fill-rule=\"evenodd\" fill-opacity=\"1\" stroke=\"#000000\" stroke-opacity=\"1\" stroke-width=\"3.2\"/>\n",
       "<circle clip-path=\"url(#clip032)\" cx=\"425.634\" cy=\"193.333\" r=\"14.4\" fill=\"#009af9\" fill-rule=\"evenodd\" fill-opacity=\"1\" stroke=\"#000000\" stroke-opacity=\"1\" stroke-width=\"3.2\"/>\n",
       "<circle clip-path=\"url(#clip032)\" cx=\"632.851\" cy=\"486.66\" r=\"14.4\" fill=\"#009af9\" fill-rule=\"evenodd\" fill-opacity=\"1\" stroke=\"#000000\" stroke-opacity=\"1\" stroke-width=\"3.2\"/>\n",
       "<circle clip-path=\"url(#clip032)\" cx=\"840.069\" cy=\"894.783\" r=\"14.4\" fill=\"#009af9\" fill-rule=\"evenodd\" fill-opacity=\"1\" stroke=\"#000000\" stroke-opacity=\"1\" stroke-width=\"3.2\"/>\n",
       "<circle clip-path=\"url(#clip032)\" cx=\"1047.29\" cy=\"1279.62\" r=\"14.4\" fill=\"#009af9\" fill-rule=\"evenodd\" fill-opacity=\"1\" stroke=\"#000000\" stroke-opacity=\"1\" stroke-width=\"3.2\"/>\n",
       "<circle clip-path=\"url(#clip032)\" cx=\"1254.5\" cy=\"1445.72\" r=\"14.4\" fill=\"#009af9\" fill-rule=\"evenodd\" fill-opacity=\"1\" stroke=\"#000000\" stroke-opacity=\"1\" stroke-width=\"3.2\"/>\n",
       "<circle clip-path=\"url(#clip032)\" cx=\"1461.72\" cy=\"1279.62\" r=\"14.4\" fill=\"#009af9\" fill-rule=\"evenodd\" fill-opacity=\"1\" stroke=\"#000000\" stroke-opacity=\"1\" stroke-width=\"3.2\"/>\n",
       "<circle clip-path=\"url(#clip032)\" cx=\"1668.94\" cy=\"894.783\" r=\"14.4\" fill=\"#009af9\" fill-rule=\"evenodd\" fill-opacity=\"1\" stroke=\"#000000\" stroke-opacity=\"1\" stroke-width=\"3.2\"/>\n",
       "<circle clip-path=\"url(#clip032)\" cx=\"1876.16\" cy=\"486.66\" r=\"14.4\" fill=\"#009af9\" fill-rule=\"evenodd\" fill-opacity=\"1\" stroke=\"#000000\" stroke-opacity=\"1\" stroke-width=\"3.2\"/>\n",
       "<circle clip-path=\"url(#clip032)\" cx=\"2083.37\" cy=\"193.333\" r=\"14.4\" fill=\"#009af9\" fill-rule=\"evenodd\" fill-opacity=\"1\" stroke=\"#000000\" stroke-opacity=\"1\" stroke-width=\"3.2\"/>\n",
       "<circle clip-path=\"url(#clip032)\" cx=\"2290.59\" cy=\"87.9763\" r=\"14.4\" fill=\"#009af9\" fill-rule=\"evenodd\" fill-opacity=\"1\" stroke=\"#000000\" stroke-opacity=\"1\" stroke-width=\"3.2\"/>\n",
       "</svg>\n"
      ],
      "text/html": [
       "<?xml version=\"1.0\" encoding=\"utf-8\"?>\n",
       "<svg xmlns=\"http://www.w3.org/2000/svg\" xmlns:xlink=\"http://www.w3.org/1999/xlink\" width=\"600\" height=\"400\" viewBox=\"0 0 2400 1600\">\n",
       "<defs>\n",
       "  <clipPath id=\"clip080\">\n",
       "    <rect x=\"0\" y=\"0\" width=\"2400\" height=\"1600\"/>\n",
       "  </clipPath>\n",
       "</defs>\n",
       "<path clip-path=\"url(#clip080)\" d=\"M0 1600 L2400 1600 L2400 0 L0 0  Z\" fill=\"#ffffff\" fill-rule=\"evenodd\" fill-opacity=\"1\"/>\n",
       "<defs>\n",
       "  <clipPath id=\"clip081\">\n",
       "    <rect x=\"480\" y=\"0\" width=\"1681\" height=\"1600\"/>\n",
       "  </clipPath>\n",
       "</defs>\n",
       "<path clip-path=\"url(#clip080)\" d=\"M156.251 1486.45 L2352.76 1486.45 L2352.76 47.2441 L156.251 47.2441  Z\" fill=\"#ffffff\" fill-rule=\"evenodd\" fill-opacity=\"1\"/>\n",
       "<defs>\n",
       "  <clipPath id=\"clip082\">\n",
       "    <rect x=\"156\" y=\"47\" width=\"2198\" height=\"1440\"/>\n",
       "  </clipPath>\n",
       "</defs>\n",
       "<polyline clip-path=\"url(#clip082)\" style=\"stroke:#000000; stroke-linecap:round; stroke-linejoin:round; stroke-width:2; stroke-opacity:0.1; fill:none\" points=\"265.113,1486.45 265.113,47.2441 \"/>\n",
       "<polyline clip-path=\"url(#clip082)\" style=\"stroke:#000000; stroke-linecap:round; stroke-linejoin:round; stroke-width:2; stroke-opacity:0.1; fill:none\" points=\"594.91,1486.45 594.91,47.2441 \"/>\n",
       "<polyline clip-path=\"url(#clip082)\" style=\"stroke:#000000; stroke-linecap:round; stroke-linejoin:round; stroke-width:2; stroke-opacity:0.1; fill:none\" points=\"924.707,1486.45 924.707,47.2441 \"/>\n",
       "<polyline clip-path=\"url(#clip082)\" style=\"stroke:#000000; stroke-linecap:round; stroke-linejoin:round; stroke-width:2; stroke-opacity:0.1; fill:none\" points=\"1254.5,1486.45 1254.5,47.2441 \"/>\n",
       "<polyline clip-path=\"url(#clip082)\" style=\"stroke:#000000; stroke-linecap:round; stroke-linejoin:round; stroke-width:2; stroke-opacity:0.1; fill:none\" points=\"1584.3,1486.45 1584.3,47.2441 \"/>\n",
       "<polyline clip-path=\"url(#clip082)\" style=\"stroke:#000000; stroke-linecap:round; stroke-linejoin:round; stroke-width:2; stroke-opacity:0.1; fill:none\" points=\"1914.1,1486.45 1914.1,47.2441 \"/>\n",
       "<polyline clip-path=\"url(#clip082)\" style=\"stroke:#000000; stroke-linecap:round; stroke-linejoin:round; stroke-width:2; stroke-opacity:0.1; fill:none\" points=\"2243.89,1486.45 2243.89,47.2441 \"/>\n",
       "<polyline clip-path=\"url(#clip080)\" style=\"stroke:#000000; stroke-linecap:round; stroke-linejoin:round; stroke-width:4; stroke-opacity:1; fill:none\" points=\"156.251,1486.45 2352.76,1486.45 \"/>\n",
       "<polyline clip-path=\"url(#clip080)\" style=\"stroke:#000000; stroke-linecap:round; stroke-linejoin:round; stroke-width:4; stroke-opacity:1; fill:none\" points=\"265.113,1486.45 265.113,1467.55 \"/>\n",
       "<polyline clip-path=\"url(#clip080)\" style=\"stroke:#000000; stroke-linecap:round; stroke-linejoin:round; stroke-width:4; stroke-opacity:1; fill:none\" points=\"594.91,1486.45 594.91,1467.55 \"/>\n",
       "<polyline clip-path=\"url(#clip080)\" style=\"stroke:#000000; stroke-linecap:round; stroke-linejoin:round; stroke-width:4; stroke-opacity:1; fill:none\" points=\"924.707,1486.45 924.707,1467.55 \"/>\n",
       "<polyline clip-path=\"url(#clip080)\" style=\"stroke:#000000; stroke-linecap:round; stroke-linejoin:round; stroke-width:4; stroke-opacity:1; fill:none\" points=\"1254.5,1486.45 1254.5,1467.55 \"/>\n",
       "<polyline clip-path=\"url(#clip080)\" style=\"stroke:#000000; stroke-linecap:round; stroke-linejoin:round; stroke-width:4; stroke-opacity:1; fill:none\" points=\"1584.3,1486.45 1584.3,1467.55 \"/>\n",
       "<polyline clip-path=\"url(#clip080)\" style=\"stroke:#000000; stroke-linecap:round; stroke-linejoin:round; stroke-width:4; stroke-opacity:1; fill:none\" points=\"1914.1,1486.45 1914.1,1467.55 \"/>\n",
       "<polyline clip-path=\"url(#clip080)\" style=\"stroke:#000000; stroke-linecap:round; stroke-linejoin:round; stroke-width:4; stroke-opacity:1; fill:none\" points=\"2243.89,1486.45 2243.89,1467.55 \"/>\n",
       "<path clip-path=\"url(#clip080)\" d=\"M234.581 1532.02 L264.257 1532.02 L264.257 1535.95 L234.581 1535.95 L234.581 1532.02 Z\" fill=\"#000000\" fill-rule=\"nonzero\" fill-opacity=\"1\" /><path clip-path=\"url(#clip080)\" d=\"M288.516 1530.21 Q291.872 1530.93 293.747 1533.2 Q295.645 1535.47 295.645 1538.8 Q295.645 1543.92 292.127 1546.72 Q288.608 1549.52 282.127 1549.52 Q279.951 1549.52 277.636 1549.08 Q275.344 1548.66 272.891 1547.81 L272.891 1543.29 Q274.835 1544.43 277.15 1545.01 Q279.465 1545.58 281.988 1545.58 Q286.386 1545.58 288.678 1543.85 Q290.993 1542.11 290.993 1538.8 Q290.993 1535.75 288.84 1534.03 Q286.71 1532.3 282.891 1532.3 L278.863 1532.3 L278.863 1528.45 L283.076 1528.45 Q286.525 1528.45 288.354 1527.09 Q290.182 1525.7 290.182 1523.11 Q290.182 1520.45 288.284 1519.03 Q286.409 1517.6 282.891 1517.6 Q280.969 1517.6 278.77 1518.01 Q276.571 1518.43 273.932 1519.31 L273.932 1515.14 Q276.594 1514.4 278.909 1514.03 Q281.247 1513.66 283.307 1513.66 Q288.631 1513.66 291.733 1516.09 Q294.835 1518.5 294.835 1522.62 Q294.835 1525.49 293.192 1527.48 Q291.548 1529.45 288.516 1530.21 Z\" fill=\"#000000\" fill-rule=\"nonzero\" fill-opacity=\"1\" /><path clip-path=\"url(#clip080)\" d=\"M564.852 1532.02 L594.528 1532.02 L594.528 1535.95 L564.852 1535.95 L564.852 1532.02 Z\" fill=\"#000000\" fill-rule=\"nonzero\" fill-opacity=\"1\" /><path clip-path=\"url(#clip080)\" d=\"M608.648 1544.91 L624.968 1544.91 L624.968 1548.85 L603.023 1548.85 L603.023 1544.91 Q605.685 1542.16 610.269 1537.53 Q614.875 1532.88 616.056 1531.53 Q618.301 1529.01 619.181 1527.27 Q620.083 1525.51 620.083 1523.82 Q620.083 1521.07 618.139 1519.33 Q616.218 1517.6 613.116 1517.6 Q610.917 1517.6 608.463 1518.36 Q606.032 1519.13 603.255 1520.68 L603.255 1515.95 Q606.079 1514.82 608.532 1514.24 Q610.986 1513.66 613.023 1513.66 Q618.394 1513.66 621.588 1516.35 Q624.782 1519.03 624.782 1523.52 Q624.782 1525.65 623.972 1527.57 Q623.185 1529.47 621.079 1532.07 Q620.5 1532.74 617.398 1535.95 Q614.296 1539.15 608.648 1544.91 Z\" fill=\"#000000\" fill-rule=\"nonzero\" fill-opacity=\"1\" /><path clip-path=\"url(#clip080)\" d=\"M894.464 1532.02 L924.14 1532.02 L924.14 1535.95 L894.464 1535.95 L894.464 1532.02 Z\" fill=\"#000000\" fill-rule=\"nonzero\" fill-opacity=\"1\" /><path clip-path=\"url(#clip080)\" d=\"M935.042 1544.91 L942.681 1544.91 L942.681 1518.55 L934.371 1520.21 L934.371 1515.95 L942.635 1514.29 L947.311 1514.29 L947.311 1544.91 L954.95 1544.91 L954.95 1548.85 L935.042 1548.85 L935.042 1544.91 Z\" fill=\"#000000\" fill-rule=\"nonzero\" fill-opacity=\"1\" /><path clip-path=\"url(#clip080)\" d=\"M1254.5 1517.37 Q1250.89 1517.37 1249.06 1520.93 Q1247.26 1524.47 1247.26 1531.6 Q1247.26 1538.71 1249.06 1542.27 Q1250.89 1545.82 1254.5 1545.82 Q1258.14 1545.82 1259.94 1542.27 Q1261.77 1538.71 1261.77 1531.6 Q1261.77 1524.47 1259.94 1520.93 Q1258.14 1517.37 1254.5 1517.37 M1254.5 1513.66 Q1260.31 1513.66 1263.37 1518.27 Q1266.45 1522.85 1266.45 1531.6 Q1266.45 1540.33 1263.37 1544.94 Q1260.31 1549.52 1254.5 1549.52 Q1248.69 1549.52 1245.61 1544.94 Q1242.56 1540.33 1242.56 1531.6 Q1242.56 1522.85 1245.61 1518.27 Q1248.69 1513.66 1254.5 1513.66 Z\" fill=\"#000000\" fill-rule=\"nonzero\" fill-opacity=\"1\" /><path clip-path=\"url(#clip080)\" d=\"M1574.68 1544.91 L1582.32 1544.91 L1582.32 1518.55 L1574.01 1520.21 L1574.01 1515.95 L1582.27 1514.29 L1586.95 1514.29 L1586.95 1544.91 L1594.59 1544.91 L1594.59 1548.85 L1574.68 1548.85 L1574.68 1544.91 Z\" fill=\"#000000\" fill-rule=\"nonzero\" fill-opacity=\"1\" /><path clip-path=\"url(#clip080)\" d=\"M1908.75 1544.91 L1925.07 1544.91 L1925.07 1548.85 L1903.12 1548.85 L1903.12 1544.91 Q1905.79 1542.16 1910.37 1537.53 Q1914.98 1532.88 1916.16 1531.53 Q1918.4 1529.01 1919.28 1527.27 Q1920.18 1525.51 1920.18 1523.82 Q1920.18 1521.07 1918.24 1519.33 Q1916.32 1517.6 1913.22 1517.6 Q1911.02 1517.6 1908.56 1518.36 Q1906.13 1519.13 1903.36 1520.68 L1903.36 1515.95 Q1906.18 1514.82 1908.63 1514.24 Q1911.09 1513.66 1913.12 1513.66 Q1918.5 1513.66 1921.69 1516.35 Q1924.88 1519.03 1924.88 1523.52 Q1924.88 1525.65 1924.07 1527.57 Q1923.29 1529.47 1921.18 1532.07 Q1920.6 1532.74 1917.5 1535.95 Q1914.4 1539.15 1908.75 1544.91 Z\" fill=\"#000000\" fill-rule=\"nonzero\" fill-opacity=\"1\" /><path clip-path=\"url(#clip080)\" d=\"M2248.14 1530.21 Q2251.5 1530.93 2253.37 1533.2 Q2255.27 1535.47 2255.27 1538.8 Q2255.27 1543.92 2251.75 1546.72 Q2248.23 1549.52 2241.75 1549.52 Q2239.58 1549.52 2237.26 1549.08 Q2234.97 1548.66 2232.52 1547.81 L2232.52 1543.29 Q2234.46 1544.43 2236.78 1545.01 Q2239.09 1545.58 2241.61 1545.58 Q2246.01 1545.58 2248.3 1543.85 Q2250.62 1542.11 2250.62 1538.8 Q2250.62 1535.75 2248.47 1534.03 Q2246.34 1532.3 2242.52 1532.3 L2238.49 1532.3 L2238.49 1528.45 L2242.7 1528.45 Q2246.15 1528.45 2247.98 1527.09 Q2249.81 1525.7 2249.81 1523.11 Q2249.81 1520.45 2247.91 1519.03 Q2246.04 1517.6 2242.52 1517.6 Q2240.6 1517.6 2238.4 1518.01 Q2236.2 1518.43 2233.56 1519.31 L2233.56 1515.14 Q2236.22 1514.4 2238.54 1514.03 Q2240.87 1513.66 2242.93 1513.66 Q2248.26 1513.66 2251.36 1516.09 Q2254.46 1518.5 2254.46 1522.62 Q2254.46 1525.49 2252.82 1527.48 Q2251.17 1529.45 2248.14 1530.21 Z\" fill=\"#000000\" fill-rule=\"nonzero\" fill-opacity=\"1\" /><polyline clip-path=\"url(#clip082)\" style=\"stroke:#000000; stroke-linecap:round; stroke-linejoin:round; stroke-width:2; stroke-opacity:0.1; fill:none\" points=\"156.251,1309.94 2352.76,1309.94 \"/>\n",
       "<polyline clip-path=\"url(#clip082)\" style=\"stroke:#000000; stroke-linecap:round; stroke-linejoin:round; stroke-width:2; stroke-opacity:0.1; fill:none\" points=\"156.251,1038.39 2352.76,1038.39 \"/>\n",
       "<polyline clip-path=\"url(#clip082)\" style=\"stroke:#000000; stroke-linecap:round; stroke-linejoin:round; stroke-width:2; stroke-opacity:0.1; fill:none\" points=\"156.251,766.846 2352.76,766.846 \"/>\n",
       "<polyline clip-path=\"url(#clip082)\" style=\"stroke:#000000; stroke-linecap:round; stroke-linejoin:round; stroke-width:2; stroke-opacity:0.1; fill:none\" points=\"156.251,495.298 2352.76,495.298 \"/>\n",
       "<polyline clip-path=\"url(#clip082)\" style=\"stroke:#000000; stroke-linecap:round; stroke-linejoin:round; stroke-width:2; stroke-opacity:0.1; fill:none\" points=\"156.251,223.75 2352.76,223.75 \"/>\n",
       "<polyline clip-path=\"url(#clip080)\" style=\"stroke:#000000; stroke-linecap:round; stroke-linejoin:round; stroke-width:4; stroke-opacity:1; fill:none\" points=\"156.251,1486.45 156.251,47.2441 \"/>\n",
       "<polyline clip-path=\"url(#clip080)\" style=\"stroke:#000000; stroke-linecap:round; stroke-linejoin:round; stroke-width:4; stroke-opacity:1; fill:none\" points=\"156.251,1309.94 175.149,1309.94 \"/>\n",
       "<polyline clip-path=\"url(#clip080)\" style=\"stroke:#000000; stroke-linecap:round; stroke-linejoin:round; stroke-width:4; stroke-opacity:1; fill:none\" points=\"156.251,1038.39 175.149,1038.39 \"/>\n",
       "<polyline clip-path=\"url(#clip080)\" style=\"stroke:#000000; stroke-linecap:round; stroke-linejoin:round; stroke-width:4; stroke-opacity:1; fill:none\" points=\"156.251,766.846 175.149,766.846 \"/>\n",
       "<polyline clip-path=\"url(#clip080)\" style=\"stroke:#000000; stroke-linecap:round; stroke-linejoin:round; stroke-width:4; stroke-opacity:1; fill:none\" points=\"156.251,495.298 175.149,495.298 \"/>\n",
       "<polyline clip-path=\"url(#clip080)\" style=\"stroke:#000000; stroke-linecap:round; stroke-linejoin:round; stroke-width:4; stroke-opacity:1; fill:none\" points=\"156.251,223.75 175.149,223.75 \"/>\n",
       "<path clip-path=\"url(#clip080)\" d=\"M53.7236 1323.29 L61.3624 1323.29 L61.3624 1296.92 L53.0523 1298.59 L53.0523 1294.33 L61.3161 1292.66 L65.992 1292.66 L65.992 1323.29 L73.6309 1323.29 L73.6309 1327.22 L53.7236 1327.22 L53.7236 1323.29 Z\" fill=\"#000000\" fill-rule=\"nonzero\" fill-opacity=\"1\" /><path clip-path=\"url(#clip080)\" d=\"M83.0753 1321.34 L87.9595 1321.34 L87.9595 1327.22 L83.0753 1327.22 L83.0753 1321.34 Z\" fill=\"#000000\" fill-rule=\"nonzero\" fill-opacity=\"1\" /><path clip-path=\"url(#clip080)\" d=\"M108.723 1308.08 Q105.575 1308.08 103.723 1310.23 Q101.895 1312.38 101.895 1316.13 Q101.895 1319.86 103.723 1322.04 Q105.575 1324.19 108.723 1324.19 Q111.871 1324.19 113.7 1322.04 Q115.552 1319.86 115.552 1316.13 Q115.552 1312.38 113.7 1310.23 Q111.871 1308.08 108.723 1308.08 M118.006 1293.43 L118.006 1297.68 Q116.246 1296.85 114.441 1296.41 Q112.658 1295.97 110.899 1295.97 Q106.27 1295.97 103.816 1299.1 Q101.385 1302.22 101.038 1308.54 Q102.404 1306.53 104.464 1305.46 Q106.524 1304.37 109.001 1304.37 Q114.209 1304.37 117.219 1307.55 Q120.251 1310.69 120.251 1316.13 Q120.251 1321.46 117.103 1324.68 Q113.955 1327.89 108.723 1327.89 Q102.728 1327.89 99.5567 1323.31 Q96.3854 1318.7 96.3854 1309.98 Q96.3854 1301.78 100.274 1296.92 Q104.163 1292.04 110.714 1292.04 Q112.473 1292.04 114.256 1292.38 Q116.061 1292.73 118.006 1293.43 Z\" fill=\"#000000\" fill-rule=\"nonzero\" fill-opacity=\"1\" /><path clip-path=\"url(#clip080)\" d=\"M53.9782 1051.74 L61.6171 1051.74 L61.6171 1025.37 L53.3069 1027.04 L53.3069 1022.78 L61.5708 1021.11 L66.2467 1021.11 L66.2467 1051.74 L73.8855 1051.74 L73.8855 1055.67 L53.9782 1055.67 L53.9782 1051.74 Z\" fill=\"#000000\" fill-rule=\"nonzero\" fill-opacity=\"1\" /><path clip-path=\"url(#clip080)\" d=\"M83.3299 1049.79 L88.2141 1049.79 L88.2141 1055.67 L83.3299 1055.67 L83.3299 1049.79 Z\" fill=\"#000000\" fill-rule=\"nonzero\" fill-opacity=\"1\" /><path clip-path=\"url(#clip080)\" d=\"M108.399 1039.26 Q105.066 1039.26 103.145 1041.04 Q101.246 1042.83 101.246 1045.95 Q101.246 1049.08 103.145 1050.86 Q105.066 1052.64 108.399 1052.64 Q111.733 1052.64 113.654 1050.86 Q115.575 1049.05 115.575 1045.95 Q115.575 1042.83 113.654 1041.04 Q111.756 1039.26 108.399 1039.26 M103.723 1037.27 Q100.714 1036.53 99.0243 1034.47 Q97.3576 1032.41 97.3576 1029.45 Q97.3576 1025.3 100.297 1022.9 Q103.26 1020.49 108.399 1020.49 Q113.561 1020.49 116.501 1022.9 Q119.441 1025.3 119.441 1029.45 Q119.441 1032.41 117.751 1034.47 Q116.084 1036.53 113.098 1037.27 Q116.478 1038.06 118.353 1040.35 Q120.251 1042.64 120.251 1045.95 Q120.251 1050.97 117.172 1053.66 Q114.117 1056.35 108.399 1056.35 Q102.682 1056.35 99.603 1053.66 Q96.5474 1050.97 96.5474 1045.95 Q96.5474 1042.64 98.4456 1040.35 Q100.344 1038.06 103.723 1037.27 M102.01 1029.89 Q102.01 1032.57 103.677 1034.08 Q105.367 1035.58 108.399 1035.58 Q111.408 1035.58 113.098 1034.08 Q114.811 1032.57 114.811 1029.89 Q114.811 1027.2 113.098 1025.7 Q111.408 1024.19 108.399 1024.19 Q105.367 1024.19 103.677 1025.7 Q102.01 1027.2 102.01 1029.89 Z\" fill=\"#000000\" fill-rule=\"nonzero\" fill-opacity=\"1\" /><path clip-path=\"url(#clip080)\" d=\"M57.1032 780.191 L73.4226 780.191 L73.4226 784.126 L51.4782 784.126 L51.4782 780.191 Q54.1403 777.436 58.7236 772.807 Q63.33 768.154 64.5106 766.811 Q66.7559 764.288 67.6356 762.552 Q68.5383 760.793 68.5383 759.103 Q68.5383 756.348 66.5939 754.612 Q64.6726 752.876 61.5708 752.876 Q59.3717 752.876 56.918 753.64 Q54.4875 754.404 51.7097 755.955 L51.7097 751.233 Q54.5338 750.098 56.9875 749.52 Q59.4412 748.941 61.4782 748.941 Q66.8485 748.941 70.0429 751.626 Q73.2374 754.311 73.2374 758.802 Q73.2374 760.932 72.4272 762.853 Q71.6402 764.751 69.5337 767.344 Q68.955 768.015 65.8532 771.233 Q62.7513 774.427 57.1032 780.191 Z\" fill=\"#000000\" fill-rule=\"nonzero\" fill-opacity=\"1\" /><path clip-path=\"url(#clip080)\" d=\"M83.2373 778.246 L88.1216 778.246 L88.1216 784.126 L83.2373 784.126 L83.2373 778.246 Z\" fill=\"#000000\" fill-rule=\"nonzero\" fill-opacity=\"1\" /><path clip-path=\"url(#clip080)\" d=\"M108.307 752.645 Q104.696 752.645 102.867 756.209 Q101.061 759.751 101.061 766.881 Q101.061 773.987 102.867 777.552 Q104.696 781.094 108.307 781.094 Q111.941 781.094 113.746 777.552 Q115.575 773.987 115.575 766.881 Q115.575 759.751 113.746 756.209 Q111.941 752.645 108.307 752.645 M108.307 748.941 Q114.117 748.941 117.172 753.547 Q120.251 758.131 120.251 766.881 Q120.251 775.608 117.172 780.214 Q114.117 784.797 108.307 784.797 Q102.496 784.797 99.4178 780.214 Q96.3623 775.608 96.3623 766.881 Q96.3623 758.131 99.4178 753.547 Q102.496 748.941 108.307 748.941 Z\" fill=\"#000000\" fill-rule=\"nonzero\" fill-opacity=\"1\" /><path clip-path=\"url(#clip080)\" d=\"M58.7004 508.643 L75.0198 508.643 L75.0198 512.578 L53.0754 512.578 L53.0754 508.643 Q55.7375 505.888 60.3208 501.259 Q64.9272 496.606 66.1078 495.263 Q68.3531 492.74 69.2328 491.004 Q70.1355 489.245 70.1355 487.555 Q70.1355 484.8 68.1911 483.064 Q66.2698 481.328 63.168 481.328 Q60.9689 481.328 58.5152 482.092 Q56.0847 482.856 53.3069 484.407 L53.3069 479.685 Q56.131 478.551 58.5847 477.972 Q61.0384 477.393 63.0754 477.393 Q68.4457 477.393 71.6402 480.078 Q74.8346 482.763 74.8346 487.254 Q74.8346 489.384 74.0244 491.305 Q73.2374 493.203 71.1309 495.796 Q70.5522 496.467 67.4504 499.685 Q64.3485 502.879 58.7004 508.643 Z\" fill=\"#000000\" fill-rule=\"nonzero\" fill-opacity=\"1\" /><path clip-path=\"url(#clip080)\" d=\"M84.8345 506.699 L89.7188 506.699 L89.7188 512.578 L84.8345 512.578 L84.8345 506.699 Z\" fill=\"#000000\" fill-rule=\"nonzero\" fill-opacity=\"1\" /><path clip-path=\"url(#clip080)\" d=\"M103.932 508.643 L120.251 508.643 L120.251 512.578 L98.3067 512.578 L98.3067 508.643 Q100.969 505.888 105.552 501.259 Q110.158 496.606 111.339 495.263 Q113.584 492.74 114.464 491.004 Q115.367 489.245 115.367 487.555 Q115.367 484.8 113.422 483.064 Q111.501 481.328 108.399 481.328 Q106.2 481.328 103.746 482.092 Q101.316 482.856 98.5382 484.407 L98.5382 479.685 Q101.362 478.551 103.816 477.972 Q106.27 477.393 108.307 477.393 Q113.677 477.393 116.871 480.078 Q120.066 482.763 120.066 487.254 Q120.066 489.384 119.256 491.305 Q118.469 493.203 116.362 495.796 Q115.783 496.467 112.682 499.685 Q109.58 502.879 103.932 508.643 Z\" fill=\"#000000\" fill-rule=\"nonzero\" fill-opacity=\"1\" /><path clip-path=\"url(#clip080)\" d=\"M56.6171 237.095 L72.9365 237.095 L72.9365 241.03 L50.9921 241.03 L50.9921 237.095 Q53.6541 234.34 58.2375 229.711 Q62.8439 225.058 64.0245 223.715 Q66.2698 221.192 67.1494 219.456 Q68.0522 217.697 68.0522 216.007 Q68.0522 213.253 66.1078 211.516 Q64.1865 209.78 61.0847 209.78 Q58.8856 209.78 56.4319 210.544 Q54.0014 211.308 51.2236 212.859 L51.2236 208.137 Q54.0477 207.003 56.5014 206.424 Q58.955 205.845 60.9921 205.845 Q66.3624 205.845 69.5568 208.53 Q72.7513 211.216 72.7513 215.706 Q72.7513 217.836 71.9411 219.757 Q71.1541 221.655 69.0476 224.248 Q68.4689 224.919 65.367 228.137 Q62.2652 231.331 56.6171 237.095 Z\" fill=\"#000000\" fill-rule=\"nonzero\" fill-opacity=\"1\" /><path clip-path=\"url(#clip080)\" d=\"M82.7512 235.151 L87.6354 235.151 L87.6354 241.03 L82.7512 241.03 L82.7512 235.151 Z\" fill=\"#000000\" fill-rule=\"nonzero\" fill-opacity=\"1\" /><path clip-path=\"url(#clip080)\" d=\"M110.668 210.544 L98.8622 228.993 L110.668 228.993 L110.668 210.544 M109.441 206.47 L115.32 206.47 L115.32 228.993 L120.251 228.993 L120.251 232.882 L115.32 232.882 L115.32 241.03 L110.668 241.03 L110.668 232.882 L95.066 232.882 L95.066 228.368 L109.441 206.47 Z\" fill=\"#000000\" fill-rule=\"nonzero\" fill-opacity=\"1\" /><circle clip-path=\"url(#clip082)\" cx=\"218.416\" cy=\"87.9763\" r=\"14.4\" fill=\"#009af9\" fill-rule=\"evenodd\" fill-opacity=\"1\" stroke=\"#000000\" stroke-opacity=\"1\" stroke-width=\"3.2\"/>\n",
       "<circle clip-path=\"url(#clip082)\" cx=\"425.634\" cy=\"193.333\" r=\"14.4\" fill=\"#009af9\" fill-rule=\"evenodd\" fill-opacity=\"1\" stroke=\"#000000\" stroke-opacity=\"1\" stroke-width=\"3.2\"/>\n",
       "<circle clip-path=\"url(#clip082)\" cx=\"632.851\" cy=\"486.66\" r=\"14.4\" fill=\"#009af9\" fill-rule=\"evenodd\" fill-opacity=\"1\" stroke=\"#000000\" stroke-opacity=\"1\" stroke-width=\"3.2\"/>\n",
       "<circle clip-path=\"url(#clip082)\" cx=\"840.069\" cy=\"894.783\" r=\"14.4\" fill=\"#009af9\" fill-rule=\"evenodd\" fill-opacity=\"1\" stroke=\"#000000\" stroke-opacity=\"1\" stroke-width=\"3.2\"/>\n",
       "<circle clip-path=\"url(#clip082)\" cx=\"1047.29\" cy=\"1279.62\" r=\"14.4\" fill=\"#009af9\" fill-rule=\"evenodd\" fill-opacity=\"1\" stroke=\"#000000\" stroke-opacity=\"1\" stroke-width=\"3.2\"/>\n",
       "<circle clip-path=\"url(#clip082)\" cx=\"1254.5\" cy=\"1445.72\" r=\"14.4\" fill=\"#009af9\" fill-rule=\"evenodd\" fill-opacity=\"1\" stroke=\"#000000\" stroke-opacity=\"1\" stroke-width=\"3.2\"/>\n",
       "<circle clip-path=\"url(#clip082)\" cx=\"1461.72\" cy=\"1279.62\" r=\"14.4\" fill=\"#009af9\" fill-rule=\"evenodd\" fill-opacity=\"1\" stroke=\"#000000\" stroke-opacity=\"1\" stroke-width=\"3.2\"/>\n",
       "<circle clip-path=\"url(#clip082)\" cx=\"1668.94\" cy=\"894.783\" r=\"14.4\" fill=\"#009af9\" fill-rule=\"evenodd\" fill-opacity=\"1\" stroke=\"#000000\" stroke-opacity=\"1\" stroke-width=\"3.2\"/>\n",
       "<circle clip-path=\"url(#clip082)\" cx=\"1876.16\" cy=\"486.66\" r=\"14.4\" fill=\"#009af9\" fill-rule=\"evenodd\" fill-opacity=\"1\" stroke=\"#000000\" stroke-opacity=\"1\" stroke-width=\"3.2\"/>\n",
       "<circle clip-path=\"url(#clip082)\" cx=\"2083.37\" cy=\"193.333\" r=\"14.4\" fill=\"#009af9\" fill-rule=\"evenodd\" fill-opacity=\"1\" stroke=\"#000000\" stroke-opacity=\"1\" stroke-width=\"3.2\"/>\n",
       "<circle clip-path=\"url(#clip082)\" cx=\"2290.59\" cy=\"87.9763\" r=\"14.4\" fill=\"#009af9\" fill-rule=\"evenodd\" fill-opacity=\"1\" stroke=\"#000000\" stroke-opacity=\"1\" stroke-width=\"3.2\"/>\n",
       "</svg>\n"
      ]
     },
     "metadata": {},
     "output_type": "display_data"
    }
   ],
   "source": [
    "plot(kspace,real.(Es),legend=false,seriestype=:scatter)"
   ]
  },
  {
   "cell_type": "code",
   "execution_count": 5,
   "metadata": {},
   "outputs": [
    {
     "data": {
      "text/plain": [
       "scatter_workflow (generic function with 1 method)"
      ]
     },
     "metadata": {},
     "output_type": "display_data"
    }
   ],
   "source": [
    "function scatter_workflow(A_lg,B_lg,E; len = 10, windowchi = ℂ^10)\n",
    "    A_rg = convert(RightGaugedQP,A_lg);\n",
    "    B_rg = convert(RightGaugedQP,B_lg);\n",
    "\n",
    "    K1 = A_lg.momentum;\n",
    "    K2 = B_lg.momentum\n",
    "\n",
    "    BA_asymptotic = AssymptoticScatter(B_lg,A_rg);\n",
    "    AB_asymptotic = AssymptoticScatter(A_lg,B_rg);\n",
    "\n",
    "    BA_projected = LeftGaugedMW(rand,len,windowchi,ts,momentum = K1 + K2+0im,utilspace= MPSKit.utilleg(BA_asymptotic));    \n",
    "    AB_projected = LeftGaugedMW(rand,len,windowchi,ts,momentum = K1 + K2+0im,utilspace= MPSKit.utilleg(BA_projected));\n",
    "\n",
    "    begin\n",
    "        (AB_projected,_) = approximate(AB_projected,(th,AB_asymptotic),DMRG(tol=1e-12,maxiter=20,verbose=false));\n",
    "        (BA_projected,_) = approximate(BA_projected,(th,BA_asymptotic),DMRG(tol=1e-12,maxiter=20,verbose=false));\n",
    "    end;\n",
    "\n",
    "        \n",
    "    B = LeftGaugedMW(rand,1,windowchi,ts,momentum=K1+K2+0im,utilspace=MPSKit.utilleg(AB_projected));\n",
    "\n",
    "    S = -inv(partialdot(BA_projected,BA_projected))*partialdot(BA_projected,AB_projected)\n",
    "\n",
    "    envs = environments(B,(th,B),gs_env,gs_env);\n",
    "    row = 1\n",
    "    col = 1\n",
    "\n",
    "    y_1 = -projdown(row,col,AB_projected,B);\n",
    "    y_2 = -partialdot(BA_asymptotic,AB_projected);\n",
    "\n",
    "    x_1 = B.AC[row,col];\n",
    "    x_2 = S;\n",
    "\n",
    "    (sol,convhist) = linsolve(RecursiveVec((y_1,y_2)),RecursiveVec((x_1,x_2)),GMRES(tol=1e-9)) do x\n",
    "        (c_B,c_S) = x.vecs;\n",
    "        B.AC[row,col] = c_B;\n",
    "        envs = environments(B,(th,B),gs_env,gs_env);\n",
    "        \n",
    "        SBA_projected = lmul!(c_S,copy(BA_projected))\n",
    "\n",
    "        v_1 = MPSKit.ac_proj(row,col,B,envs)-E*c_B\n",
    "        v_1 += projdown(row,col,SBA_projected,B);\n",
    "        v_2 = partialdot(BA_projected,B)+partialdot(BA_asymptotic,SBA_projected);\n",
    "        RecursiveVec((v_1,v_2))\n",
    "    end\n",
    "\n",
    "    B.AC[row,col] = sol[1];\n",
    "    S = sol[2];\n",
    "    return tr(S)\n",
    "end"
   ]
  },
  {
   "cell_type": "code",
   "execution_count": 6,
   "metadata": {},
   "outputs": [
    {
     "name": "stderr",
     "output_type": "stream",
     "text": [
      "┌ Warning: dmrg failed to converge 1.2962170485605915e-7>1.0e-12\n",
      "└ @ MPSKitExperimental /home/maarten/projects/MPSKitExperimental.jl/src/momentumwindow/assymptotic.jl:295\n"
     ]
    },
    {
     "name": "stderr",
     "output_type": "stream",
     "text": [
      "┌ Warning: dmrg failed to converge 2.0901221645414535e-7>1.0e-12\n",
      "└ @ MPSKitExperimental /home/maarten/projects/MPSKitExperimental.jl/src/momentumwindow/assymptotic.jl:295\n"
     ]
    },
    {
     "name": "stderr",
     "output_type": "stream",
     "text": [
      "┌ Warning: dmrg failed to converge 1.014556081606987e-7>1.0e-12\n",
      "└ @ MPSKitExperimental /home/maarten/projects/MPSKitExperimental.jl/src/momentumwindow/assymptotic.jl:295\n"
     ]
    },
    {
     "name": "stderr",
     "output_type": "stream",
     "text": [
      "┌ Warning: dmrg failed to converge 3.799637251211996e-7>1.0e-12\n",
      "└ @ MPSKitExperimental /home/maarten/projects/MPSKitExperimental.jl/src/momentumwindow/assymptotic.jl:295\n"
     ]
    },
    {
     "name": "stderr",
     "output_type": "stream",
     "text": [
      "┌ Warning: dmrg failed to converge 4.789914600849737e-7>1.0e-12\n",
      "└ @ MPSKitExperimental /home/maarten/projects/MPSKitExperimental.jl/src/momentumwindow/assymptotic.jl:295\n"
     ]
    },
    {
     "name": "stderr",
     "output_type": "stream",
     "text": [
      "┌ Warning: dmrg failed to converge 4.22457752482974e-7>1.0e-12\n",
      "└ @ MPSKitExperimental /home/maarten/projects/MPSKitExperimental.jl/src/momentumwindow/assymptotic.jl:295\n"
     ]
    },
    {
     "name": "stderr",
     "output_type": "stream",
     "text": [
      "┌ Warning: dmrg failed to converge 1.222985686324219e-6>1.0e-12\n",
      "└ @ MPSKitExperimental /home/maarten/projects/MPSKitExperimental.jl/src/momentumwindow/assymptotic.jl:295\n"
     ]
    },
    {
     "name": "stderr",
     "output_type": "stream",
     "text": [
      "┌ Warning: dmrg failed to converge 3.9938710187471705e-7>1.0e-12\n",
      "└ @ MPSKitExperimental /home/maarten/projects/MPSKitExperimental.jl/src/momentumwindow/assymptotic.jl:295\n"
     ]
    },
    {
     "name": "stderr",
     "output_type": "stream",
     "text": [
      "┌ Warning: dmrg failed to converge 5.418347423457722e-7>1.0e-12\n",
      "└ @ MPSKitExperimental /home/maarten/projects/MPSKitExperimental.jl/src/momentumwindow/assymptotic.jl:295\n"
     ]
    },
    {
     "name": "stderr",
     "output_type": "stream",
     "text": [
      "┌ Warning: dmrg failed to converge 5.532437998321561e-7>1.0e-12\n",
      "└ @ MPSKitExperimental /home/maarten/projects/MPSKitExperimental.jl/src/momentumwindow/assymptotic.jl:295\n"
     ]
    },
    {
     "name": "stderr",
     "output_type": "stream",
     "text": [
      "┌ Warning: dmrg failed to converge 6.414660400731808e-7>1.0e-12\n",
      "└ @ MPSKitExperimental /home/maarten/projects/MPSKitExperimental.jl/src/momentumwindow/assymptotic.jl:295\n"
     ]
    },
    {
     "name": "stderr",
     "output_type": "stream",
     "text": [
      "┌ Warning: dmrg failed to converge 5.49499514416214e-7>1.0e-12\n",
      "└ @ MPSKitExperimental /home/maarten/projects/MPSKitExperimental.jl/src/momentumwindow/assymptotic.jl:295\n"
     ]
    },
    {
     "name": "stderr",
     "output_type": "stream",
     "text": [
      "┌ Warning: dmrg failed to converge 5.605864307781345e-7>1.0e-12\n",
      "└ @ MPSKitExperimental /home/maarten/projects/MPSKitExperimental.jl/src/momentumwindow/assymptotic.jl:295\n"
     ]
    },
    {
     "name": "stderr",
     "output_type": "stream",
     "text": [
      "┌ Warning: dmrg failed to converge 5.76597347728089e-7>1.0e-12\n",
      "└ @ MPSKitExperimental /home/maarten/projects/MPSKitExperimental.jl/src/momentumwindow/assymptotic.jl:295\n"
     ]
    },
    {
     "name": "stderr",
     "output_type": "stream",
     "text": [
      "┌ Warning: dmrg failed to converge 5.19158744920909e-7>1.0e-12\n",
      "└ @ MPSKitExperimental /home/maarten/projects/MPSKitExperimental.jl/src/momentumwindow/assymptotic.jl:295\n"
     ]
    },
    {
     "name": "stderr",
     "output_type": "stream",
     "text": [
      "┌ Warning: dmrg failed to converge 1.0066821967470587e-6>1.0e-12\n",
      "└ @ MPSKitExperimental /home/maarten/projects/MPSKitExperimental.jl/src/momentumwindow/assymptotic.jl:295\n"
     ]
    },
    {
     "name": "stderr",
     "output_type": "stream",
     "text": [
      "┌ Warning: dmrg failed to converge 3.6968470735668736e-7>1.0e-12\n",
      "└ @ MPSKitExperimental /home/maarten/projects/MPSKitExperimental.jl/src/momentumwindow/assymptotic.jl:295\n"
     ]
    },
    {
     "name": "stderr",
     "output_type": "stream",
     "text": [
      "┌ Warning: dmrg failed to converge 1.4056966383812938e-6>1.0e-12\n",
      "└ @ MPSKitExperimental /home/maarten/projects/MPSKitExperimental.jl/src/momentumwindow/assymptotic.jl:295\n"
     ]
    },
    {
     "name": "stderr",
     "output_type": "stream",
     "text": [
      "┌ Warning: dmrg failed to converge 3.1603455674409797e-7>1.0e-12\n",
      "└ @ MPSKitExperimental /home/maarten/projects/MPSKitExperimental.jl/src/momentumwindow/assymptotic.jl:295\n"
     ]
    },
    {
     "name": "stderr",
     "output_type": "stream",
     "text": [
      "┌ Warning: dmrg failed to converge 9.283752529248344e-8>1.0e-12\n",
      "└ @ MPSKitExperimental /home/maarten/projects/MPSKitExperimental.jl/src/momentumwindow/assymptotic.jl:295\n"
     ]
    },
    {
     "name": "stderr",
     "output_type": "stream",
     "text": [
      "┌ Warning: dmrg failed to converge 1.7211618955544138e-7>1.0e-12\n",
      "└ @ MPSKitExperimental /home/maarten/projects/MPSKitExperimental.jl/src/momentumwindow/assymptotic.jl:295\n"
     ]
    },
    {
     "name": "stderr",
     "output_type": "stream",
     "text": [
      "┌ Warning: dmrg failed to converge 3.39655008017086e-7>1.0e-12\n",
      "└ @ MPSKitExperimental /home/maarten/projects/MPSKitExperimental.jl/src/momentumwindow/assymptotic.jl:295\n"
     ]
    }
   ],
   "source": [
    "Ss = []\n",
    "for i in 1:11\n",
    "    push!(Ss,scatter_workflow(Bs[i],Bs[end-i+1],Es[i]+Es[end-i+1]))\n",
    "end"
   ]
  },
  {
   "cell_type": "code",
   "execution_count": 7,
   "metadata": {},
   "outputs": [
    {
     "data": {
      "image/png": "[encoded data removed]",
      "image/svg+xml": [
       "<?xml version=\"1.0\" encoding=\"utf-8\"?>\n",
       "<svg xmlns=\"http://www.w3.org/2000/svg\" xmlns:xlink=\"http://www.w3.org/1999/xlink\" width=\"600\" height=\"400\" viewBox=\"0 0 2400 1600\">\n",
       "<defs>\n",
       "  <clipPath id=\"clip120\">\n",
       "    <rect x=\"0\" y=\"0\" width=\"2400\" height=\"1600\"/>\n",
       "  </clipPath>\n",
       "</defs>\n",
       "<path clip-path=\"url(#clip120)\" d=\"M0 1600 L2400 1600 L2400 0 L0 0  Z\" fill=\"#ffffff\" fill-rule=\"evenodd\" fill-opacity=\"1\"/>\n",
       "<defs>\n",
       "  <clipPath id=\"clip121\">\n",
       "    <rect x=\"480\" y=\"0\" width=\"1681\" height=\"1600\"/>\n",
       "  </clipPath>\n",
       "</defs>\n",
       "<path clip-path=\"url(#clip120)\" d=\"M314.746 1486.45 L2352.76 1486.45 L2352.76 47.2441 L314.746 47.2441  Z\" fill=\"#ffffff\" fill-rule=\"evenodd\" fill-opacity=\"1\"/>\n",
       "<defs>\n",
       "  <clipPath id=\"clip122\">\n",
       "    <rect x=\"314\" y=\"47\" width=\"2039\" height=\"1440\"/>\n",
       "  </clipPath>\n",
       "</defs>\n",
       "<polyline clip-path=\"url(#clip122)\" style=\"stroke:#000000; stroke-linecap:round; stroke-linejoin:round; stroke-width:2; stroke-opacity:0.1; fill:none\" points=\"564.69,1486.45 564.69,47.2441 \"/>\n",
       "<polyline clip-path=\"url(#clip122)\" style=\"stroke:#000000; stroke-linecap:round; stroke-linejoin:round; stroke-width:2; stroke-opacity:0.1; fill:none\" points=\"949.22,1486.45 949.22,47.2441 \"/>\n",
       "<polyline clip-path=\"url(#clip122)\" style=\"stroke:#000000; stroke-linecap:round; stroke-linejoin:round; stroke-width:2; stroke-opacity:0.1; fill:none\" points=\"1333.75,1486.45 1333.75,47.2441 \"/>\n",
       "<polyline clip-path=\"url(#clip122)\" style=\"stroke:#000000; stroke-linecap:round; stroke-linejoin:round; stroke-width:2; stroke-opacity:0.1; fill:none\" points=\"1718.28,1486.45 1718.28,47.2441 \"/>\n",
       "<polyline clip-path=\"url(#clip122)\" style=\"stroke:#000000; stroke-linecap:round; stroke-linejoin:round; stroke-width:2; stroke-opacity:0.1; fill:none\" points=\"2102.81,1486.45 2102.81,47.2441 \"/>\n",
       "<polyline clip-path=\"url(#clip120)\" style=\"stroke:#000000; stroke-linecap:round; stroke-linejoin:round; stroke-width:4; stroke-opacity:1; fill:none\" points=\"314.746,1486.45 2352.76,1486.45 \"/>\n",
       "<polyline clip-path=\"url(#clip120)\" style=\"stroke:#000000; stroke-linecap:round; stroke-linejoin:round; stroke-width:4; stroke-opacity:1; fill:none\" points=\"564.69,1486.45 564.69,1467.55 \"/>\n",
       "<polyline clip-path=\"url(#clip120)\" style=\"stroke:#000000; stroke-linecap:round; stroke-linejoin:round; stroke-width:4; stroke-opacity:1; fill:none\" points=\"949.22,1486.45 949.22,1467.55 \"/>\n",
       "<polyline clip-path=\"url(#clip120)\" style=\"stroke:#000000; stroke-linecap:round; stroke-linejoin:round; stroke-width:4; stroke-opacity:1; fill:none\" points=\"1333.75,1486.45 1333.75,1467.55 \"/>\n",
       "<polyline clip-path=\"url(#clip120)\" style=\"stroke:#000000; stroke-linecap:round; stroke-linejoin:round; stroke-width:4; stroke-opacity:1; fill:none\" points=\"1718.28,1486.45 1718.28,1467.55 \"/>\n",
       "<polyline clip-path=\"url(#clip120)\" style=\"stroke:#000000; stroke-linecap:round; stroke-linejoin:round; stroke-width:4; stroke-opacity:1; fill:none\" points=\"2102.81,1486.45 2102.81,1467.55 \"/>\n",
       "<path clip-path=\"url(#clip120)\" d=\"M559.343 1544.91 L575.662 1544.91 L575.662 1548.85 L553.718 1548.85 L553.718 1544.91 Q556.38 1542.16 560.963 1537.53 Q565.57 1532.88 566.75 1531.53 Q568.996 1529.01 569.875 1527.27 Q570.778 1525.51 570.778 1523.82 Q570.778 1521.07 568.834 1519.33 Q566.912 1517.6 563.811 1517.6 Q561.612 1517.6 559.158 1518.36 Q556.727 1519.13 553.95 1520.68 L553.95 1515.95 Q556.774 1514.82 559.227 1514.24 Q561.681 1513.66 563.718 1513.66 Q569.088 1513.66 572.283 1516.35 Q575.477 1519.03 575.477 1523.52 Q575.477 1525.65 574.667 1527.57 Q573.88 1529.47 571.773 1532.07 Q571.195 1532.74 568.093 1535.95 Q564.991 1539.15 559.343 1544.91 Z\" fill=\"#000000\" fill-rule=\"nonzero\" fill-opacity=\"1\" /><path clip-path=\"url(#clip120)\" d=\"M952.23 1518.36 L940.424 1536.81 L952.23 1536.81 L952.23 1518.36 M951.003 1514.29 L956.882 1514.29 L956.882 1536.81 L961.813 1536.81 L961.813 1540.7 L956.882 1540.7 L956.882 1548.85 L952.23 1548.85 L952.23 1540.7 L936.628 1540.7 L936.628 1536.19 L951.003 1514.29 Z\" fill=\"#000000\" fill-rule=\"nonzero\" fill-opacity=\"1\" /><path clip-path=\"url(#clip120)\" d=\"M1334.16 1529.7 Q1331.01 1529.7 1329.16 1531.86 Q1327.33 1534.01 1327.33 1537.76 Q1327.33 1541.49 1329.16 1543.66 Q1331.01 1545.82 1334.16 1545.82 Q1337.3 1545.82 1339.13 1543.66 Q1340.98 1541.49 1340.98 1537.76 Q1340.98 1534.01 1339.13 1531.86 Q1337.3 1529.7 1334.16 1529.7 M1343.44 1515.05 L1343.44 1519.31 Q1341.68 1518.48 1339.87 1518.04 Q1338.09 1517.6 1336.33 1517.6 Q1331.7 1517.6 1329.25 1520.72 Q1326.82 1523.85 1326.47 1530.17 Q1327.84 1528.15 1329.9 1527.09 Q1331.96 1526 1334.43 1526 Q1339.64 1526 1342.65 1529.17 Q1345.68 1532.32 1345.68 1537.76 Q1345.68 1543.08 1342.54 1546.3 Q1339.39 1549.52 1334.16 1549.52 Q1328.16 1549.52 1324.99 1544.94 Q1321.82 1540.33 1321.82 1531.6 Q1321.82 1523.41 1325.71 1518.55 Q1329.6 1513.66 1336.15 1513.66 Q1337.91 1513.66 1339.69 1514.01 Q1341.49 1514.36 1343.44 1515.05 Z\" fill=\"#000000\" fill-rule=\"nonzero\" fill-opacity=\"1\" /><path clip-path=\"url(#clip120)\" d=\"M1718.28 1532.44 Q1714.95 1532.44 1713.03 1534.22 Q1711.13 1536 1711.13 1539.13 Q1711.13 1542.25 1713.03 1544.03 Q1714.95 1545.82 1718.28 1545.82 Q1721.61 1545.82 1723.54 1544.03 Q1725.46 1542.23 1725.46 1539.13 Q1725.46 1536 1723.54 1534.22 Q1721.64 1532.44 1718.28 1532.44 M1713.61 1530.45 Q1710.6 1529.7 1708.91 1527.64 Q1707.24 1525.58 1707.24 1522.62 Q1707.24 1518.48 1710.18 1516.07 Q1713.14 1513.66 1718.28 1513.66 Q1723.44 1513.66 1726.38 1516.07 Q1729.32 1518.48 1729.32 1522.62 Q1729.32 1525.58 1727.63 1527.64 Q1725.97 1529.7 1722.98 1530.45 Q1726.36 1531.23 1728.23 1533.52 Q1730.13 1535.82 1730.13 1539.13 Q1730.13 1544.15 1727.05 1546.83 Q1724 1549.52 1718.28 1549.52 Q1712.56 1549.52 1709.48 1546.83 Q1706.43 1544.15 1706.43 1539.13 Q1706.43 1535.82 1708.33 1533.52 Q1710.23 1531.23 1713.61 1530.45 M1711.89 1523.06 Q1711.89 1525.75 1713.56 1527.25 Q1715.25 1528.76 1718.28 1528.76 Q1721.29 1528.76 1722.98 1527.25 Q1724.69 1525.75 1724.69 1523.06 Q1724.69 1520.38 1722.98 1518.87 Q1721.29 1517.37 1718.28 1517.37 Q1715.25 1517.37 1713.56 1518.87 Q1711.89 1520.38 1711.89 1523.06 Z\" fill=\"#000000\" fill-rule=\"nonzero\" fill-opacity=\"1\" /><path clip-path=\"url(#clip120)\" d=\"M2077.5 1544.91 L2085.14 1544.91 L2085.14 1518.55 L2076.83 1520.21 L2076.83 1515.95 L2085.09 1514.29 L2089.77 1514.29 L2089.77 1544.91 L2097.41 1544.91 L2097.41 1548.85 L2077.5 1548.85 L2077.5 1544.91 Z\" fill=\"#000000\" fill-rule=\"nonzero\" fill-opacity=\"1\" /><path clip-path=\"url(#clip120)\" d=\"M2116.85 1517.37 Q2113.24 1517.37 2111.41 1520.93 Q2109.61 1524.47 2109.61 1531.6 Q2109.61 1538.71 2111.41 1542.27 Q2113.24 1545.82 2116.85 1545.82 Q2120.48 1545.82 2122.29 1542.27 Q2124.12 1538.71 2124.12 1531.6 Q2124.12 1524.47 2122.29 1520.93 Q2120.48 1517.37 2116.85 1517.37 M2116.85 1513.66 Q2122.66 1513.66 2125.72 1518.27 Q2128.79 1522.85 2128.79 1531.6 Q2128.79 1540.33 2125.72 1544.94 Q2122.66 1549.52 2116.85 1549.52 Q2111.04 1549.52 2107.96 1544.94 Q2104.91 1540.33 2104.91 1531.6 Q2104.91 1522.85 2107.96 1518.27 Q2111.04 1513.66 2116.85 1513.66 Z\" fill=\"#000000\" fill-rule=\"nonzero\" fill-opacity=\"1\" /><polyline clip-path=\"url(#clip122)\" style=\"stroke:#000000; stroke-linecap:round; stroke-linejoin:round; stroke-width:2; stroke-opacity:0.1; fill:none\" points=\"314.746,1338.53 2352.76,1338.53 \"/>\n",
       "<polyline clip-path=\"url(#clip122)\" style=\"stroke:#000000; stroke-linecap:round; stroke-linejoin:round; stroke-width:2; stroke-opacity:0.1; fill:none\" points=\"314.746,1073.43 2352.76,1073.43 \"/>\n",
       "<polyline clip-path=\"url(#clip122)\" style=\"stroke:#000000; stroke-linecap:round; stroke-linejoin:round; stroke-width:2; stroke-opacity:0.1; fill:none\" points=\"314.746,808.335 2352.76,808.335 \"/>\n",
       "<polyline clip-path=\"url(#clip122)\" style=\"stroke:#000000; stroke-linecap:round; stroke-linejoin:round; stroke-width:2; stroke-opacity:0.1; fill:none\" points=\"314.746,543.239 2352.76,543.239 \"/>\n",
       "<polyline clip-path=\"url(#clip122)\" style=\"stroke:#000000; stroke-linecap:round; stroke-linejoin:round; stroke-width:2; stroke-opacity:0.1; fill:none\" points=\"314.746,278.143 2352.76,278.143 \"/>\n",
       "<polyline clip-path=\"url(#clip120)\" style=\"stroke:#000000; stroke-linecap:round; stroke-linejoin:round; stroke-width:4; stroke-opacity:1; fill:none\" points=\"314.746,1486.45 314.746,47.2441 \"/>\n",
       "<polyline clip-path=\"url(#clip120)\" style=\"stroke:#000000; stroke-linecap:round; stroke-linejoin:round; stroke-width:4; stroke-opacity:1; fill:none\" points=\"314.746,1338.53 333.643,1338.53 \"/>\n",
       "<polyline clip-path=\"url(#clip120)\" style=\"stroke:#000000; stroke-linecap:round; stroke-linejoin:round; stroke-width:4; stroke-opacity:1; fill:none\" points=\"314.746,1073.43 333.643,1073.43 \"/>\n",
       "<polyline clip-path=\"url(#clip120)\" style=\"stroke:#000000; stroke-linecap:round; stroke-linejoin:round; stroke-width:4; stroke-opacity:1; fill:none\" points=\"314.746,808.335 333.643,808.335 \"/>\n",
       "<polyline clip-path=\"url(#clip120)\" style=\"stroke:#000000; stroke-linecap:round; stroke-linejoin:round; stroke-width:4; stroke-opacity:1; fill:none\" points=\"314.746,543.239 333.643,543.239 \"/>\n",
       "<polyline clip-path=\"url(#clip120)\" style=\"stroke:#000000; stroke-linecap:round; stroke-linejoin:round; stroke-width:4; stroke-opacity:1; fill:none\" points=\"314.746,278.143 333.643,278.143 \"/>\n",
       "<path clip-path=\"url(#clip120)\" d=\"M50.9921 1338.98 L80.6679 1338.98 L80.6679 1342.91 L50.9921 1342.91 L50.9921 1338.98 Z\" fill=\"#000000\" fill-rule=\"nonzero\" fill-opacity=\"1\" /><path clip-path=\"url(#clip120)\" d=\"M100.76 1324.33 Q97.1493 1324.33 95.3206 1327.89 Q93.515 1331.43 93.515 1338.56 Q93.515 1345.67 95.3206 1349.23 Q97.1493 1352.78 100.76 1352.78 Q104.395 1352.78 106.2 1349.23 Q108.029 1345.67 108.029 1338.56 Q108.029 1331.43 106.2 1327.89 Q104.395 1324.33 100.76 1324.33 M100.76 1320.62 Q106.571 1320.62 109.626 1325.23 Q112.705 1329.81 112.705 1338.56 Q112.705 1347.29 109.626 1351.9 Q106.571 1356.48 100.76 1356.48 Q94.9502 1356.48 91.8715 1351.9 Q88.816 1347.29 88.816 1338.56 Q88.816 1329.81 91.8715 1325.23 Q94.9502 1320.62 100.76 1320.62 Z\" fill=\"#000000\" fill-rule=\"nonzero\" fill-opacity=\"1\" /><path clip-path=\"url(#clip120)\" d=\"M120.922 1349.93 L125.807 1349.93 L125.807 1355.81 L120.922 1355.81 L120.922 1349.93 Z\" fill=\"#000000\" fill-rule=\"nonzero\" fill-opacity=\"1\" /><path clip-path=\"url(#clip120)\" d=\"M145.992 1324.33 Q142.381 1324.33 140.552 1327.89 Q138.746 1331.43 138.746 1338.56 Q138.746 1345.67 140.552 1349.23 Q142.381 1352.78 145.992 1352.78 Q149.626 1352.78 151.431 1349.23 Q153.26 1345.67 153.26 1338.56 Q153.26 1331.43 151.431 1327.89 Q149.626 1324.33 145.992 1324.33 M145.992 1320.62 Q151.802 1320.62 154.857 1325.23 Q157.936 1329.81 157.936 1338.56 Q157.936 1347.29 154.857 1351.9 Q151.802 1356.48 145.992 1356.48 Q140.181 1356.48 137.103 1351.9 Q134.047 1347.29 134.047 1338.56 Q134.047 1329.81 137.103 1325.23 Q140.181 1320.62 145.992 1320.62 Z\" fill=\"#000000\" fill-rule=\"nonzero\" fill-opacity=\"1\" /><path clip-path=\"url(#clip120)\" d=\"M176.153 1324.33 Q172.542 1324.33 170.714 1327.89 Q168.908 1331.43 168.908 1338.56 Q168.908 1345.67 170.714 1349.23 Q172.542 1352.78 176.153 1352.78 Q179.788 1352.78 181.593 1349.23 Q183.422 1345.67 183.422 1338.56 Q183.422 1331.43 181.593 1327.89 Q179.788 1324.33 176.153 1324.33 M176.153 1320.62 Q181.964 1320.62 185.019 1325.23 Q188.098 1329.81 188.098 1338.56 Q188.098 1347.29 185.019 1351.9 Q181.964 1356.48 176.153 1356.48 Q170.343 1356.48 167.265 1351.9 Q164.209 1347.29 164.209 1338.56 Q164.209 1329.81 167.265 1325.23 Q170.343 1320.62 176.153 1320.62 Z\" fill=\"#000000\" fill-rule=\"nonzero\" fill-opacity=\"1\" /><path clip-path=\"url(#clip120)\" d=\"M206.315 1324.33 Q202.704 1324.33 200.876 1327.89 Q199.07 1331.43 199.07 1338.56 Q199.07 1345.67 200.876 1349.23 Q202.704 1352.78 206.315 1352.78 Q209.95 1352.78 211.755 1349.23 Q213.584 1345.67 213.584 1338.56 Q213.584 1331.43 211.755 1327.89 Q209.95 1324.33 206.315 1324.33 M206.315 1320.62 Q212.126 1320.62 215.181 1325.23 Q218.26 1329.81 218.26 1338.56 Q218.26 1347.29 215.181 1351.9 Q212.126 1356.48 206.315 1356.48 Q200.505 1356.48 197.427 1351.9 Q194.371 1347.29 194.371 1338.56 Q194.371 1329.81 197.427 1325.23 Q200.505 1320.62 206.315 1320.62 Z\" fill=\"#000000\" fill-rule=\"nonzero\" fill-opacity=\"1\" /><path clip-path=\"url(#clip120)\" d=\"M236.477 1324.33 Q232.866 1324.33 231.037 1327.89 Q229.232 1331.43 229.232 1338.56 Q229.232 1345.67 231.037 1349.23 Q232.866 1352.78 236.477 1352.78 Q240.111 1352.78 241.917 1349.23 Q243.746 1345.67 243.746 1338.56 Q243.746 1331.43 241.917 1327.89 Q240.111 1324.33 236.477 1324.33 M236.477 1320.62 Q242.287 1320.62 245.343 1325.23 Q248.422 1329.81 248.422 1338.56 Q248.422 1347.29 245.343 1351.9 Q242.287 1356.48 236.477 1356.48 Q230.667 1356.48 227.588 1351.9 Q224.533 1347.29 224.533 1338.56 Q224.533 1329.81 227.588 1325.23 Q230.667 1320.62 236.477 1320.62 Z\" fill=\"#000000\" fill-rule=\"nonzero\" fill-opacity=\"1\" /><path clip-path=\"url(#clip120)\" d=\"M267.218 1336.66 Q264.07 1336.66 262.218 1338.82 Q260.389 1340.97 260.389 1344.72 Q260.389 1348.45 262.218 1350.62 Q264.07 1352.78 267.218 1352.78 Q270.366 1352.78 272.195 1350.62 Q274.046 1348.45 274.046 1344.72 Q274.046 1340.97 272.195 1338.82 Q270.366 1336.66 267.218 1336.66 M276.5 1322.01 L276.5 1326.27 Q274.741 1325.44 272.935 1325 Q271.153 1324.56 269.394 1324.56 Q264.764 1324.56 262.31 1327.68 Q259.88 1330.81 259.533 1337.13 Q260.898 1335.11 262.959 1334.05 Q265.019 1332.96 267.496 1332.96 Q272.704 1332.96 275.713 1336.13 Q278.746 1339.28 278.746 1344.72 Q278.746 1350.04 275.597 1353.26 Q272.449 1356.48 267.218 1356.48 Q261.222 1356.48 258.051 1351.9 Q254.88 1347.29 254.88 1338.56 Q254.88 1330.37 258.769 1325.51 Q262.658 1320.62 269.209 1320.62 Q270.968 1320.62 272.75 1320.97 Q274.556 1321.32 276.5 1322.01 Z\" fill=\"#000000\" fill-rule=\"nonzero\" fill-opacity=\"1\" /><path clip-path=\"url(#clip120)\" d=\"M51.8023 1073.88 L81.4781 1073.88 L81.4781 1077.82 L51.8023 1077.82 L51.8023 1073.88 Z\" fill=\"#000000\" fill-rule=\"nonzero\" fill-opacity=\"1\" /><path clip-path=\"url(#clip120)\" d=\"M101.571 1059.23 Q97.9595 1059.23 96.1308 1062.8 Q94.3252 1066.34 94.3252 1073.47 Q94.3252 1080.57 96.1308 1084.14 Q97.9595 1087.68 101.571 1087.68 Q105.205 1087.68 107.01 1084.14 Q108.839 1080.57 108.839 1073.47 Q108.839 1066.34 107.01 1062.8 Q105.205 1059.23 101.571 1059.23 M101.571 1055.53 Q107.381 1055.53 110.436 1060.13 Q113.515 1064.72 113.515 1073.47 Q113.515 1082.19 110.436 1086.8 Q107.381 1091.38 101.571 1091.38 Q95.7604 1091.38 92.6817 1086.8 Q89.6262 1082.19 89.6262 1073.47 Q89.6262 1064.72 92.6817 1060.13 Q95.7604 1055.53 101.571 1055.53 Z\" fill=\"#000000\" fill-rule=\"nonzero\" fill-opacity=\"1\" /><path clip-path=\"url(#clip120)\" d=\"M121.732 1084.83 L126.617 1084.83 L126.617 1090.71 L121.732 1090.71 L121.732 1084.83 Z\" fill=\"#000000\" fill-rule=\"nonzero\" fill-opacity=\"1\" /><path clip-path=\"url(#clip120)\" d=\"M146.802 1059.23 Q143.191 1059.23 141.362 1062.8 Q139.556 1066.34 139.556 1073.47 Q139.556 1080.57 141.362 1084.14 Q143.191 1087.68 146.802 1087.68 Q150.436 1087.68 152.242 1084.14 Q154.07 1080.57 154.07 1073.47 Q154.07 1066.34 152.242 1062.8 Q150.436 1059.23 146.802 1059.23 M146.802 1055.53 Q152.612 1055.53 155.667 1060.13 Q158.746 1064.72 158.746 1073.47 Q158.746 1082.19 155.667 1086.8 Q152.612 1091.38 146.802 1091.38 Q140.992 1091.38 137.913 1086.8 Q134.857 1082.19 134.857 1073.47 Q134.857 1064.72 137.913 1060.13 Q140.992 1055.53 146.802 1055.53 Z\" fill=\"#000000\" fill-rule=\"nonzero\" fill-opacity=\"1\" /><path clip-path=\"url(#clip120)\" d=\"M176.964 1059.23 Q173.353 1059.23 171.524 1062.8 Q169.718 1066.34 169.718 1073.47 Q169.718 1080.57 171.524 1084.14 Q173.353 1087.68 176.964 1087.68 Q180.598 1087.68 182.403 1084.14 Q184.232 1080.57 184.232 1073.47 Q184.232 1066.34 182.403 1062.8 Q180.598 1059.23 176.964 1059.23 M176.964 1055.53 Q182.774 1055.53 185.829 1060.13 Q188.908 1064.72 188.908 1073.47 Q188.908 1082.19 185.829 1086.8 Q182.774 1091.38 176.964 1091.38 Q171.154 1091.38 168.075 1086.8 Q165.019 1082.19 165.019 1073.47 Q165.019 1064.72 168.075 1060.13 Q171.154 1055.53 176.964 1055.53 Z\" fill=\"#000000\" fill-rule=\"nonzero\" fill-opacity=\"1\" /><path clip-path=\"url(#clip120)\" d=\"M207.126 1059.23 Q203.514 1059.23 201.686 1062.8 Q199.88 1066.34 199.88 1073.47 Q199.88 1080.57 201.686 1084.14 Q203.514 1087.68 207.126 1087.68 Q210.76 1087.68 212.565 1084.14 Q214.394 1080.57 214.394 1073.47 Q214.394 1066.34 212.565 1062.8 Q210.76 1059.23 207.126 1059.23 M207.126 1055.53 Q212.936 1055.53 215.991 1060.13 Q219.07 1064.72 219.07 1073.47 Q219.07 1082.19 215.991 1086.8 Q212.936 1091.38 207.126 1091.38 Q201.315 1091.38 198.237 1086.8 Q195.181 1082.19 195.181 1073.47 Q195.181 1064.72 198.237 1060.13 Q201.315 1055.53 207.126 1055.53 Z\" fill=\"#000000\" fill-rule=\"nonzero\" fill-opacity=\"1\" /><path clip-path=\"url(#clip120)\" d=\"M237.287 1059.23 Q233.676 1059.23 231.848 1062.8 Q230.042 1066.34 230.042 1073.47 Q230.042 1080.57 231.848 1084.14 Q233.676 1087.68 237.287 1087.68 Q240.922 1087.68 242.727 1084.14 Q244.556 1080.57 244.556 1073.47 Q244.556 1066.34 242.727 1062.8 Q240.922 1059.23 237.287 1059.23 M237.287 1055.53 Q243.098 1055.53 246.153 1060.13 Q249.232 1064.72 249.232 1073.47 Q249.232 1082.19 246.153 1086.8 Q243.098 1091.38 237.287 1091.38 Q231.477 1091.38 228.399 1086.8 Q225.343 1082.19 225.343 1073.47 Q225.343 1064.72 228.399 1060.13 Q231.477 1055.53 237.287 1055.53 Z\" fill=\"#000000\" fill-rule=\"nonzero\" fill-opacity=\"1\" /><path clip-path=\"url(#clip120)\" d=\"M271.616 1072.08 Q274.972 1072.8 276.847 1075.06 Q278.746 1077.33 278.746 1080.67 Q278.746 1085.78 275.227 1088.58 Q271.709 1091.38 265.227 1091.38 Q263.051 1091.38 260.736 1090.94 Q258.445 1090.53 255.991 1089.67 L255.991 1085.16 Q257.935 1086.29 260.25 1086.87 Q262.565 1087.45 265.088 1087.45 Q269.486 1087.45 271.778 1085.71 Q274.093 1083.98 274.093 1080.67 Q274.093 1077.61 271.94 1075.9 Q269.81 1074.16 265.991 1074.16 L261.963 1074.16 L261.963 1070.32 L266.176 1070.32 Q269.625 1070.32 271.454 1068.95 Q273.283 1067.56 273.283 1064.97 Q273.283 1062.31 271.384 1060.9 Q269.509 1059.46 265.991 1059.46 Q264.07 1059.46 261.871 1059.88 Q259.672 1060.3 257.033 1061.17 L257.033 1057.01 Q259.695 1056.27 262.01 1055.9 Q264.347 1055.53 266.408 1055.53 Q271.732 1055.53 274.834 1057.96 Q277.935 1060.36 277.935 1064.48 Q277.935 1067.36 276.292 1069.35 Q274.648 1071.31 271.616 1072.08 Z\" fill=\"#000000\" fill-rule=\"nonzero\" fill-opacity=\"1\" /><path clip-path=\"url(#clip120)\" d=\"M100.922 794.134 Q97.3113 794.134 95.4826 797.699 Q93.6771 801.241 93.6771 808.37 Q93.6771 815.477 95.4826 819.041 Q97.3113 822.583 100.922 822.583 Q104.557 822.583 106.362 819.041 Q108.191 815.477 108.191 808.37 Q108.191 801.241 106.362 797.699 Q104.557 794.134 100.922 794.134 M100.922 790.43 Q106.733 790.43 109.788 795.037 Q112.867 799.62 112.867 808.37 Q112.867 817.097 109.788 821.703 Q106.733 826.287 100.922 826.287 Q95.1123 826.287 92.0336 821.703 Q88.978 817.097 88.978 808.37 Q88.978 799.62 92.0336 795.037 Q95.1123 790.43 100.922 790.43 Z\" fill=\"#000000\" fill-rule=\"nonzero\" fill-opacity=\"1\" /><path clip-path=\"url(#clip120)\" d=\"M121.084 819.736 L125.969 819.736 L125.969 825.615 L121.084 825.615 L121.084 819.736 Z\" fill=\"#000000\" fill-rule=\"nonzero\" fill-opacity=\"1\" /><path clip-path=\"url(#clip120)\" d=\"M146.154 794.134 Q142.543 794.134 140.714 797.699 Q138.908 801.241 138.908 808.37 Q138.908 815.477 140.714 819.041 Q142.543 822.583 146.154 822.583 Q149.788 822.583 151.593 819.041 Q153.422 815.477 153.422 808.37 Q153.422 801.241 151.593 797.699 Q149.788 794.134 146.154 794.134 M146.154 790.43 Q151.964 790.43 155.019 795.037 Q158.098 799.62 158.098 808.37 Q158.098 817.097 155.019 821.703 Q151.964 826.287 146.154 826.287 Q140.343 826.287 137.265 821.703 Q134.209 817.097 134.209 808.37 Q134.209 799.62 137.265 795.037 Q140.343 790.43 146.154 790.43 Z\" fill=\"#000000\" fill-rule=\"nonzero\" fill-opacity=\"1\" /><path clip-path=\"url(#clip120)\" d=\"M176.316 794.134 Q172.704 794.134 170.876 797.699 Q169.07 801.241 169.07 808.37 Q169.07 815.477 170.876 819.041 Q172.704 822.583 176.316 822.583 Q179.95 822.583 181.755 819.041 Q183.584 815.477 183.584 808.37 Q183.584 801.241 181.755 797.699 Q179.95 794.134 176.316 794.134 M176.316 790.43 Q182.126 790.43 185.181 795.037 Q188.26 799.62 188.26 808.37 Q188.26 817.097 185.181 821.703 Q182.126 826.287 176.316 826.287 Q170.505 826.287 167.427 821.703 Q164.371 817.097 164.371 808.37 Q164.371 799.62 167.427 795.037 Q170.505 790.43 176.316 790.43 Z\" fill=\"#000000\" fill-rule=\"nonzero\" fill-opacity=\"1\" /><path clip-path=\"url(#clip120)\" d=\"M206.477 794.134 Q202.866 794.134 201.038 797.699 Q199.232 801.241 199.232 808.37 Q199.232 815.477 201.038 819.041 Q202.866 822.583 206.477 822.583 Q210.112 822.583 211.917 819.041 Q213.746 815.477 213.746 808.37 Q213.746 801.241 211.917 797.699 Q210.112 794.134 206.477 794.134 M206.477 790.43 Q212.288 790.43 215.343 795.037 Q218.422 799.62 218.422 808.37 Q218.422 817.097 215.343 821.703 Q212.288 826.287 206.477 826.287 Q200.667 826.287 197.589 821.703 Q194.533 817.097 194.533 808.37 Q194.533 799.62 197.589 795.037 Q200.667 790.43 206.477 790.43 Z\" fill=\"#000000\" fill-rule=\"nonzero\" fill-opacity=\"1\" /><path clip-path=\"url(#clip120)\" d=\"M236.639 794.134 Q233.028 794.134 231.199 797.699 Q229.394 801.241 229.394 808.37 Q229.394 815.477 231.199 819.041 Q233.028 822.583 236.639 822.583 Q240.274 822.583 242.079 819.041 Q243.908 815.477 243.908 808.37 Q243.908 801.241 242.079 797.699 Q240.274 794.134 236.639 794.134 M236.639 790.43 Q242.449 790.43 245.505 795.037 Q248.584 799.62 248.584 808.37 Q248.584 817.097 245.505 821.703 Q242.449 826.287 236.639 826.287 Q230.829 826.287 227.75 821.703 Q224.695 817.097 224.695 808.37 Q224.695 799.62 227.75 795.037 Q230.829 790.43 236.639 790.43 Z\" fill=\"#000000\" fill-rule=\"nonzero\" fill-opacity=\"1\" /><path clip-path=\"url(#clip120)\" d=\"M266.801 794.134 Q263.19 794.134 261.361 797.699 Q259.556 801.241 259.556 808.37 Q259.556 815.477 261.361 819.041 Q263.19 822.583 266.801 822.583 Q270.435 822.583 272.241 819.041 Q274.07 815.477 274.07 808.37 Q274.07 801.241 272.241 797.699 Q270.435 794.134 266.801 794.134 M266.801 790.43 Q272.611 790.43 275.667 795.037 Q278.746 799.62 278.746 808.37 Q278.746 817.097 275.667 821.703 Q272.611 826.287 266.801 826.287 Q260.991 826.287 257.912 821.703 Q254.857 817.097 254.857 808.37 Q254.857 799.62 257.912 795.037 Q260.991 790.43 266.801 790.43 Z\" fill=\"#000000\" fill-rule=\"nonzero\" fill-opacity=\"1\" /><path clip-path=\"url(#clip120)\" d=\"M101.571 529.038 Q97.9595 529.038 96.1308 532.603 Q94.3252 536.144 94.3252 543.274 Q94.3252 550.38 96.1308 553.945 Q97.9595 557.487 101.571 557.487 Q105.205 557.487 107.01 553.945 Q108.839 550.38 108.839 543.274 Q108.839 536.144 107.01 532.603 Q105.205 529.038 101.571 529.038 M101.571 525.334 Q107.381 525.334 110.436 529.941 Q113.515 534.524 113.515 543.274 Q113.515 552.001 110.436 556.607 Q107.381 561.19 101.571 561.19 Q95.7604 561.19 92.6817 556.607 Q89.6262 552.001 89.6262 543.274 Q89.6262 534.524 92.6817 529.941 Q95.7604 525.334 101.571 525.334 Z\" fill=\"#000000\" fill-rule=\"nonzero\" fill-opacity=\"1\" /><path clip-path=\"url(#clip120)\" d=\"M121.732 554.64 L126.617 554.64 L126.617 560.519 L121.732 560.519 L121.732 554.64 Z\" fill=\"#000000\" fill-rule=\"nonzero\" fill-opacity=\"1\" /><path clip-path=\"url(#clip120)\" d=\"M146.802 529.038 Q143.191 529.038 141.362 532.603 Q139.556 536.144 139.556 543.274 Q139.556 550.38 141.362 553.945 Q143.191 557.487 146.802 557.487 Q150.436 557.487 152.242 553.945 Q154.07 550.38 154.07 543.274 Q154.07 536.144 152.242 532.603 Q150.436 529.038 146.802 529.038 M146.802 525.334 Q152.612 525.334 155.667 529.941 Q158.746 534.524 158.746 543.274 Q158.746 552.001 155.667 556.607 Q152.612 561.19 146.802 561.19 Q140.992 561.19 137.913 556.607 Q134.857 552.001 134.857 543.274 Q134.857 534.524 137.913 529.941 Q140.992 525.334 146.802 525.334 Z\" fill=\"#000000\" fill-rule=\"nonzero\" fill-opacity=\"1\" /><path clip-path=\"url(#clip120)\" d=\"M176.964 529.038 Q173.353 529.038 171.524 532.603 Q169.718 536.144 169.718 543.274 Q169.718 550.38 171.524 553.945 Q173.353 557.487 176.964 557.487 Q180.598 557.487 182.403 553.945 Q184.232 550.38 184.232 543.274 Q184.232 536.144 182.403 532.603 Q180.598 529.038 176.964 529.038 M176.964 525.334 Q182.774 525.334 185.829 529.941 Q188.908 534.524 188.908 543.274 Q188.908 552.001 185.829 556.607 Q182.774 561.19 176.964 561.19 Q171.154 561.19 168.075 556.607 Q165.019 552.001 165.019 543.274 Q165.019 534.524 168.075 529.941 Q171.154 525.334 176.964 525.334 Z\" fill=\"#000000\" fill-rule=\"nonzero\" fill-opacity=\"1\" /><path clip-path=\"url(#clip120)\" d=\"M207.126 529.038 Q203.514 529.038 201.686 532.603 Q199.88 536.144 199.88 543.274 Q199.88 550.38 201.686 553.945 Q203.514 557.487 207.126 557.487 Q210.76 557.487 212.565 553.945 Q214.394 550.38 214.394 543.274 Q214.394 536.144 212.565 532.603 Q210.76 529.038 207.126 529.038 M207.126 525.334 Q212.936 525.334 215.991 529.941 Q219.07 534.524 219.07 543.274 Q219.07 552.001 215.991 556.607 Q212.936 561.19 207.126 561.19 Q201.315 561.19 198.237 556.607 Q195.181 552.001 195.181 543.274 Q195.181 534.524 198.237 529.941 Q201.315 525.334 207.126 525.334 Z\" fill=\"#000000\" fill-rule=\"nonzero\" fill-opacity=\"1\" /><path clip-path=\"url(#clip120)\" d=\"M237.287 529.038 Q233.676 529.038 231.848 532.603 Q230.042 536.144 230.042 543.274 Q230.042 550.38 231.848 553.945 Q233.676 557.487 237.287 557.487 Q240.922 557.487 242.727 553.945 Q244.556 550.38 244.556 543.274 Q244.556 536.144 242.727 532.603 Q240.922 529.038 237.287 529.038 M237.287 525.334 Q243.098 525.334 246.153 529.941 Q249.232 534.524 249.232 543.274 Q249.232 552.001 246.153 556.607 Q243.098 561.19 237.287 561.19 Q231.477 561.19 228.399 556.607 Q225.343 552.001 225.343 543.274 Q225.343 534.524 228.399 529.941 Q231.477 525.334 237.287 525.334 Z\" fill=\"#000000\" fill-rule=\"nonzero\" fill-opacity=\"1\" /><path clip-path=\"url(#clip120)\" d=\"M271.616 541.885 Q274.972 542.603 276.847 544.871 Q278.746 547.14 278.746 550.473 Q278.746 555.589 275.227 558.39 Q271.709 561.19 265.227 561.19 Q263.051 561.19 260.736 560.751 Q258.445 560.334 255.991 559.478 L255.991 554.964 Q257.935 556.098 260.25 556.677 Q262.565 557.255 265.088 557.255 Q269.486 557.255 271.778 555.519 Q274.093 553.783 274.093 550.473 Q274.093 547.417 271.94 545.704 Q269.81 543.968 265.991 543.968 L261.963 543.968 L261.963 540.126 L266.176 540.126 Q269.625 540.126 271.454 538.76 Q273.283 537.371 273.283 534.779 Q273.283 532.117 271.384 530.705 Q269.509 529.269 265.991 529.269 Q264.07 529.269 261.871 529.686 Q259.672 530.103 257.033 530.982 L257.033 526.816 Q259.695 526.075 262.01 525.705 Q264.347 525.334 266.408 525.334 Q271.732 525.334 274.834 527.765 Q277.935 530.172 277.935 534.292 Q277.935 537.163 276.292 539.154 Q274.648 541.121 271.616 541.885 Z\" fill=\"#000000\" fill-rule=\"nonzero\" fill-opacity=\"1\" /><path clip-path=\"url(#clip120)\" d=\"M100.76 263.942 Q97.1493 263.942 95.3206 267.506 Q93.515 271.048 93.515 278.178 Q93.515 285.284 95.3206 288.849 Q97.1493 292.39 100.76 292.39 Q104.395 292.39 106.2 288.849 Q108.029 285.284 108.029 278.178 Q108.029 271.048 106.2 267.506 Q104.395 263.942 100.76 263.942 M100.76 260.238 Q106.571 260.238 109.626 264.844 Q112.705 269.428 112.705 278.178 Q112.705 286.904 109.626 291.511 Q106.571 296.094 100.76 296.094 Q94.9502 296.094 91.8715 291.511 Q88.816 286.904 88.816 278.178 Q88.816 269.428 91.8715 264.844 Q94.9502 260.238 100.76 260.238 Z\" fill=\"#000000\" fill-rule=\"nonzero\" fill-opacity=\"1\" /><path clip-path=\"url(#clip120)\" d=\"M120.922 289.543 L125.807 289.543 L125.807 295.423 L120.922 295.423 L120.922 289.543 Z\" fill=\"#000000\" fill-rule=\"nonzero\" fill-opacity=\"1\" /><path clip-path=\"url(#clip120)\" d=\"M145.992 263.942 Q142.381 263.942 140.552 267.506 Q138.746 271.048 138.746 278.178 Q138.746 285.284 140.552 288.849 Q142.381 292.39 145.992 292.39 Q149.626 292.39 151.431 288.849 Q153.26 285.284 153.26 278.178 Q153.26 271.048 151.431 267.506 Q149.626 263.942 145.992 263.942 M145.992 260.238 Q151.802 260.238 154.857 264.844 Q157.936 269.428 157.936 278.178 Q157.936 286.904 154.857 291.511 Q151.802 296.094 145.992 296.094 Q140.181 296.094 137.103 291.511 Q134.047 286.904 134.047 278.178 Q134.047 269.428 137.103 264.844 Q140.181 260.238 145.992 260.238 Z\" fill=\"#000000\" fill-rule=\"nonzero\" fill-opacity=\"1\" /><path clip-path=\"url(#clip120)\" d=\"M176.153 263.942 Q172.542 263.942 170.714 267.506 Q168.908 271.048 168.908 278.178 Q168.908 285.284 170.714 288.849 Q172.542 292.39 176.153 292.39 Q179.788 292.39 181.593 288.849 Q183.422 285.284 183.422 278.178 Q183.422 271.048 181.593 267.506 Q179.788 263.942 176.153 263.942 M176.153 260.238 Q181.964 260.238 185.019 264.844 Q188.098 269.428 188.098 278.178 Q188.098 286.904 185.019 291.511 Q181.964 296.094 176.153 296.094 Q170.343 296.094 167.265 291.511 Q164.209 286.904 164.209 278.178 Q164.209 269.428 167.265 264.844 Q170.343 260.238 176.153 260.238 Z\" fill=\"#000000\" fill-rule=\"nonzero\" fill-opacity=\"1\" /><path clip-path=\"url(#clip120)\" d=\"M206.315 263.942 Q202.704 263.942 200.876 267.506 Q199.07 271.048 199.07 278.178 Q199.07 285.284 200.876 288.849 Q202.704 292.39 206.315 292.39 Q209.95 292.39 211.755 288.849 Q213.584 285.284 213.584 278.178 Q213.584 271.048 211.755 267.506 Q209.95 263.942 206.315 263.942 M206.315 260.238 Q212.126 260.238 215.181 264.844 Q218.26 269.428 218.26 278.178 Q218.26 286.904 215.181 291.511 Q212.126 296.094 206.315 296.094 Q200.505 296.094 197.427 291.511 Q194.371 286.904 194.371 278.178 Q194.371 269.428 197.427 264.844 Q200.505 260.238 206.315 260.238 Z\" fill=\"#000000\" fill-rule=\"nonzero\" fill-opacity=\"1\" /><path clip-path=\"url(#clip120)\" d=\"M236.477 263.942 Q232.866 263.942 231.037 267.506 Q229.232 271.048 229.232 278.178 Q229.232 285.284 231.037 288.849 Q232.866 292.39 236.477 292.39 Q240.111 292.39 241.917 288.849 Q243.746 285.284 243.746 278.178 Q243.746 271.048 241.917 267.506 Q240.111 263.942 236.477 263.942 M236.477 260.238 Q242.287 260.238 245.343 264.844 Q248.422 269.428 248.422 278.178 Q248.422 286.904 245.343 291.511 Q242.287 296.094 236.477 296.094 Q230.667 296.094 227.588 291.511 Q224.533 286.904 224.533 278.178 Q224.533 269.428 227.588 264.844 Q230.667 260.238 236.477 260.238 Z\" fill=\"#000000\" fill-rule=\"nonzero\" fill-opacity=\"1\" /><path clip-path=\"url(#clip120)\" d=\"M267.218 276.279 Q264.07 276.279 262.218 278.432 Q260.389 280.585 260.389 284.335 Q260.389 288.062 262.218 290.238 Q264.07 292.39 267.218 292.39 Q270.366 292.39 272.195 290.238 Q274.046 288.062 274.046 284.335 Q274.046 280.585 272.195 278.432 Q270.366 276.279 267.218 276.279 M276.5 261.627 L276.5 265.886 Q274.741 265.053 272.935 264.613 Q271.153 264.173 269.394 264.173 Q264.764 264.173 262.31 267.298 Q259.88 270.423 259.533 276.742 Q260.898 274.729 262.959 273.664 Q265.019 272.576 267.496 272.576 Q272.704 272.576 275.713 275.747 Q278.746 278.895 278.746 284.335 Q278.746 289.659 275.597 292.877 Q272.449 296.094 267.218 296.094 Q261.222 296.094 258.051 291.511 Q254.88 286.904 254.88 278.178 Q254.88 269.983 258.769 265.122 Q262.658 260.238 269.209 260.238 Q270.968 260.238 272.75 260.585 Q274.556 260.932 276.5 261.627 Z\" fill=\"#000000\" fill-rule=\"nonzero\" fill-opacity=\"1\" /><circle clip-path=\"url(#clip122)\" cx=\"372.425\" cy=\"808.627\" r=\"14.4\" fill=\"#009af9\" fill-rule=\"evenodd\" fill-opacity=\"1\" stroke=\"#000000\" stroke-opacity=\"1\" stroke-width=\"3.2\"/>\n",
       "<circle clip-path=\"url(#clip122)\" cx=\"564.69\" cy=\"756.045\" r=\"14.4\" fill=\"#009af9\" fill-rule=\"evenodd\" fill-opacity=\"1\" stroke=\"#000000\" stroke-opacity=\"1\" stroke-width=\"3.2\"/>\n",
       "<circle clip-path=\"url(#clip122)\" cx=\"756.955\" cy=\"1083.53\" r=\"14.4\" fill=\"#009af9\" fill-rule=\"evenodd\" fill-opacity=\"1\" stroke=\"#000000\" stroke-opacity=\"1\" stroke-width=\"3.2\"/>\n",
       "<circle clip-path=\"url(#clip122)\" cx=\"949.22\" cy=\"686.518\" r=\"14.4\" fill=\"#009af9\" fill-rule=\"evenodd\" fill-opacity=\"1\" stroke=\"#000000\" stroke-opacity=\"1\" stroke-width=\"3.2\"/>\n",
       "<circle clip-path=\"url(#clip122)\" cx=\"1141.49\" cy=\"1178.65\" r=\"14.4\" fill=\"#009af9\" fill-rule=\"evenodd\" fill-opacity=\"1\" stroke=\"#000000\" stroke-opacity=\"1\" stroke-width=\"3.2\"/>\n",
       "<circle clip-path=\"url(#clip122)\" cx=\"1333.75\" cy=\"808.561\" r=\"14.4\" fill=\"#009af9\" fill-rule=\"evenodd\" fill-opacity=\"1\" stroke=\"#000000\" stroke-opacity=\"1\" stroke-width=\"3.2\"/>\n",
       "<circle clip-path=\"url(#clip122)\" cx=\"1526.02\" cy=\"87.9763\" r=\"14.4\" fill=\"#009af9\" fill-rule=\"evenodd\" fill-opacity=\"1\" stroke=\"#000000\" stroke-opacity=\"1\" stroke-width=\"3.2\"/>\n",
       "<circle clip-path=\"url(#clip122)\" cx=\"1718.28\" cy=\"1445.72\" r=\"14.4\" fill=\"#009af9\" fill-rule=\"evenodd\" fill-opacity=\"1\" stroke=\"#000000\" stroke-opacity=\"1\" stroke-width=\"3.2\"/>\n",
       "<circle clip-path=\"url(#clip122)\" cx=\"1910.55\" cy=\"426.668\" r=\"14.4\" fill=\"#009af9\" fill-rule=\"evenodd\" fill-opacity=\"1\" stroke=\"#000000\" stroke-opacity=\"1\" stroke-width=\"3.2\"/>\n",
       "<circle clip-path=\"url(#clip122)\" cx=\"2102.81\" cy=\"1101.38\" r=\"14.4\" fill=\"#009af9\" fill-rule=\"evenodd\" fill-opacity=\"1\" stroke=\"#000000\" stroke-opacity=\"1\" stroke-width=\"3.2\"/>\n",
       "<circle clip-path=\"url(#clip122)\" cx=\"2295.08\" cy=\"808.655\" r=\"14.4\" fill=\"#009af9\" fill-rule=\"evenodd\" fill-opacity=\"1\" stroke=\"#000000\" stroke-opacity=\"1\" stroke-width=\"3.2\"/>\n",
       "<path clip-path=\"url(#clip120)\" d=\"M2028.59 198.898 L2284.82 198.898 L2284.82 95.2176 L2028.59 95.2176  Z\" fill=\"#ffffff\" fill-rule=\"evenodd\" fill-opacity=\"1\"/>\n",
       "<polyline clip-path=\"url(#clip120)\" style=\"stroke:#000000; stroke-linecap:round; stroke-linejoin:round; stroke-width:4; stroke-opacity:1; fill:none\" points=\"2028.59,198.898 2284.82,198.898 2284.82,95.2176 2028.59,95.2176 2028.59,198.898 \"/>\n",
       "<circle clip-path=\"url(#clip120)\" cx=\"2119.17\" cy=\"147.058\" r=\"20.48\" fill=\"#009af9\" fill-rule=\"evenodd\" fill-opacity=\"1\" stroke=\"#000000\" stroke-opacity=\"1\" stroke-width=\"4.55111\"/>\n",
       "<path clip-path=\"url(#clip120)\" d=\"M2223.59 166.745 Q2221.78 171.375 2220.07 172.787 Q2218.36 174.199 2215.49 174.199 L2212.09 174.199 L2212.09 170.634 L2214.59 170.634 Q2216.34 170.634 2217.32 169.8 Q2218.29 168.967 2219.47 165.865 L2220.23 163.921 L2209.75 138.412 L2214.26 138.412 L2222.36 158.689 L2230.46 138.412 L2234.98 138.412 L2223.59 166.745 Z\" fill=\"#000000\" fill-rule=\"nonzero\" fill-opacity=\"1\" /><path clip-path=\"url(#clip120)\" d=\"M2242.27 160.402 L2249.91 160.402 L2249.91 134.037 L2241.6 135.703 L2241.6 131.444 L2249.86 129.778 L2254.54 129.778 L2254.54 160.402 L2262.18 160.402 L2262.18 164.338 L2242.27 164.338 L2242.27 160.402 Z\" fill=\"#000000\" fill-rule=\"nonzero\" fill-opacity=\"1\" /></svg>\n"
      ],
      "text/html": [
       "<?xml version=\"1.0\" encoding=\"utf-8\"?>\n",
       "<svg xmlns=\"http://www.w3.org/2000/svg\" xmlns:xlink=\"http://www.w3.org/1999/xlink\" width=\"600\" height=\"400\" viewBox=\"0 0 2400 1600\">\n",
       "<defs>\n",
       "  <clipPath id=\"clip170\">\n",
       "    <rect x=\"0\" y=\"0\" width=\"2400\" height=\"1600\"/>\n",
       "  </clipPath>\n",
       "</defs>\n",
       "<path clip-path=\"url(#clip170)\" d=\"M0 1600 L2400 1600 L2400 0 L0 0  Z\" fill=\"#ffffff\" fill-rule=\"evenodd\" fill-opacity=\"1\"/>\n",
       "<defs>\n",
       "  <clipPath id=\"clip171\">\n",
       "    <rect x=\"480\" y=\"0\" width=\"1681\" height=\"1600\"/>\n",
       "  </clipPath>\n",
       "</defs>\n",
       "<path clip-path=\"url(#clip170)\" d=\"M314.746 1486.45 L2352.76 1486.45 L2352.76 47.2441 L314.746 47.2441  Z\" fill=\"#ffffff\" fill-rule=\"evenodd\" fill-opacity=\"1\"/>\n",
       "<defs>\n",
       "  <clipPath id=\"clip172\">\n",
       "    <rect x=\"314\" y=\"47\" width=\"2039\" height=\"1440\"/>\n",
       "  </clipPath>\n",
       "</defs>\n",
       "<polyline clip-path=\"url(#clip172)\" style=\"stroke:#000000; stroke-linecap:round; stroke-linejoin:round; stroke-width:2; stroke-opacity:0.1; fill:none\" points=\"564.69,1486.45 564.69,47.2441 \"/>\n",
       "<polyline clip-path=\"url(#clip172)\" style=\"stroke:#000000; stroke-linecap:round; stroke-linejoin:round; stroke-width:2; stroke-opacity:0.1; fill:none\" points=\"949.22,1486.45 949.22,47.2441 \"/>\n",
       "<polyline clip-path=\"url(#clip172)\" style=\"stroke:#000000; stroke-linecap:round; stroke-linejoin:round; stroke-width:2; stroke-opacity:0.1; fill:none\" points=\"1333.75,1486.45 1333.75,47.2441 \"/>\n",
       "<polyline clip-path=\"url(#clip172)\" style=\"stroke:#000000; stroke-linecap:round; stroke-linejoin:round; stroke-width:2; stroke-opacity:0.1; fill:none\" points=\"1718.28,1486.45 1718.28,47.2441 \"/>\n",
       "<polyline clip-path=\"url(#clip172)\" style=\"stroke:#000000; stroke-linecap:round; stroke-linejoin:round; stroke-width:2; stroke-opacity:0.1; fill:none\" points=\"2102.81,1486.45 2102.81,47.2441 \"/>\n",
       "<polyline clip-path=\"url(#clip170)\" style=\"stroke:#000000; stroke-linecap:round; stroke-linejoin:round; stroke-width:4; stroke-opacity:1; fill:none\" points=\"314.746,1486.45 2352.76,1486.45 \"/>\n",
       "<polyline clip-path=\"url(#clip170)\" style=\"stroke:#000000; stroke-linecap:round; stroke-linejoin:round; stroke-width:4; stroke-opacity:1; fill:none\" points=\"564.69,1486.45 564.69,1467.55 \"/>\n",
       "<polyline clip-path=\"url(#clip170)\" style=\"stroke:#000000; stroke-linecap:round; stroke-linejoin:round; stroke-width:4; stroke-opacity:1; fill:none\" points=\"949.22,1486.45 949.22,1467.55 \"/>\n",
       "<polyline clip-path=\"url(#clip170)\" style=\"stroke:#000000; stroke-linecap:round; stroke-linejoin:round; stroke-width:4; stroke-opacity:1; fill:none\" points=\"1333.75,1486.45 1333.75,1467.55 \"/>\n",
       "<polyline clip-path=\"url(#clip170)\" style=\"stroke:#000000; stroke-linecap:round; stroke-linejoin:round; stroke-width:4; stroke-opacity:1; fill:none\" points=\"1718.28,1486.45 1718.28,1467.55 \"/>\n",
       "<polyline clip-path=\"url(#clip170)\" style=\"stroke:#000000; stroke-linecap:round; stroke-linejoin:round; stroke-width:4; stroke-opacity:1; fill:none\" points=\"2102.81,1486.45 2102.81,1467.55 \"/>\n",
       "<path clip-path=\"url(#clip170)\" d=\"M559.343 1544.91 L575.662 1544.91 L575.662 1548.85 L553.718 1548.85 L553.718 1544.91 Q556.38 1542.16 560.963 1537.53 Q565.57 1532.88 566.75 1531.53 Q568.996 1529.01 569.875 1527.27 Q570.778 1525.51 570.778 1523.82 Q570.778 1521.07 568.834 1519.33 Q566.912 1517.6 563.811 1517.6 Q561.612 1517.6 559.158 1518.36 Q556.727 1519.13 553.95 1520.68 L553.95 1515.95 Q556.774 1514.82 559.227 1514.24 Q561.681 1513.66 563.718 1513.66 Q569.088 1513.66 572.283 1516.35 Q575.477 1519.03 575.477 1523.52 Q575.477 1525.65 574.667 1527.57 Q573.88 1529.47 571.773 1532.07 Q571.195 1532.74 568.093 1535.95 Q564.991 1539.15 559.343 1544.91 Z\" fill=\"#000000\" fill-rule=\"nonzero\" fill-opacity=\"1\" /><path clip-path=\"url(#clip170)\" d=\"M952.23 1518.36 L940.424 1536.81 L952.23 1536.81 L952.23 1518.36 M951.003 1514.29 L956.882 1514.29 L956.882 1536.81 L961.813 1536.81 L961.813 1540.7 L956.882 1540.7 L956.882 1548.85 L952.23 1548.85 L952.23 1540.7 L936.628 1540.7 L936.628 1536.19 L951.003 1514.29 Z\" fill=\"#000000\" fill-rule=\"nonzero\" fill-opacity=\"1\" /><path clip-path=\"url(#clip170)\" d=\"M1334.16 1529.7 Q1331.01 1529.7 1329.16 1531.86 Q1327.33 1534.01 1327.33 1537.76 Q1327.33 1541.49 1329.16 1543.66 Q1331.01 1545.82 1334.16 1545.82 Q1337.3 1545.82 1339.13 1543.66 Q1340.98 1541.49 1340.98 1537.76 Q1340.98 1534.01 1339.13 1531.86 Q1337.3 1529.7 1334.16 1529.7 M1343.44 1515.05 L1343.44 1519.31 Q1341.68 1518.48 1339.87 1518.04 Q1338.09 1517.6 1336.33 1517.6 Q1331.7 1517.6 1329.25 1520.72 Q1326.82 1523.85 1326.47 1530.17 Q1327.84 1528.15 1329.9 1527.09 Q1331.96 1526 1334.43 1526 Q1339.64 1526 1342.65 1529.17 Q1345.68 1532.32 1345.68 1537.76 Q1345.68 1543.08 1342.54 1546.3 Q1339.39 1549.52 1334.16 1549.52 Q1328.16 1549.52 1324.99 1544.94 Q1321.82 1540.33 1321.82 1531.6 Q1321.82 1523.41 1325.71 1518.55 Q1329.6 1513.66 1336.15 1513.66 Q1337.91 1513.66 1339.69 1514.01 Q1341.49 1514.36 1343.44 1515.05 Z\" fill=\"#000000\" fill-rule=\"nonzero\" fill-opacity=\"1\" /><path clip-path=\"url(#clip170)\" d=\"M1718.28 1532.44 Q1714.95 1532.44 1713.03 1534.22 Q1711.13 1536 1711.13 1539.13 Q1711.13 1542.25 1713.03 1544.03 Q1714.95 1545.82 1718.28 1545.82 Q1721.61 1545.82 1723.54 1544.03 Q1725.46 1542.23 1725.46 1539.13 Q1725.46 1536 1723.54 1534.22 Q1721.64 1532.44 1718.28 1532.44 M1713.61 1530.45 Q1710.6 1529.7 1708.91 1527.64 Q1707.24 1525.58 1707.24 1522.62 Q1707.24 1518.48 1710.18 1516.07 Q1713.14 1513.66 1718.28 1513.66 Q1723.44 1513.66 1726.38 1516.07 Q1729.32 1518.48 1729.32 1522.62 Q1729.32 1525.58 1727.63 1527.64 Q1725.97 1529.7 1722.98 1530.45 Q1726.36 1531.23 1728.23 1533.52 Q1730.13 1535.82 1730.13 1539.13 Q1730.13 1544.15 1727.05 1546.83 Q1724 1549.52 1718.28 1549.52 Q1712.56 1549.52 1709.48 1546.83 Q1706.43 1544.15 1706.43 1539.13 Q1706.43 1535.82 1708.33 1533.52 Q1710.23 1531.23 1713.61 1530.45 M1711.89 1523.06 Q1711.89 1525.75 1713.56 1527.25 Q1715.25 1528.76 1718.28 1528.76 Q1721.29 1528.76 1722.98 1527.25 Q1724.69 1525.75 1724.69 1523.06 Q1724.69 1520.38 1722.98 1518.87 Q1721.29 1517.37 1718.28 1517.37 Q1715.25 1517.37 1713.56 1518.87 Q1711.89 1520.38 1711.89 1523.06 Z\" fill=\"#000000\" fill-rule=\"nonzero\" fill-opacity=\"1\" /><path clip-path=\"url(#clip170)\" d=\"M2077.5 1544.91 L2085.14 1544.91 L2085.14 1518.55 L2076.83 1520.21 L2076.83 1515.95 L2085.09 1514.29 L2089.77 1514.29 L2089.77 1544.91 L2097.41 1544.91 L2097.41 1548.85 L2077.5 1548.85 L2077.5 1544.91 Z\" fill=\"#000000\" fill-rule=\"nonzero\" fill-opacity=\"1\" /><path clip-path=\"url(#clip170)\" d=\"M2116.85 1517.37 Q2113.24 1517.37 2111.41 1520.93 Q2109.61 1524.47 2109.61 1531.6 Q2109.61 1538.71 2111.41 1542.27 Q2113.24 1545.82 2116.85 1545.82 Q2120.48 1545.82 2122.29 1542.27 Q2124.12 1538.71 2124.12 1531.6 Q2124.12 1524.47 2122.29 1520.93 Q2120.48 1517.37 2116.85 1517.37 M2116.85 1513.66 Q2122.66 1513.66 2125.72 1518.27 Q2128.79 1522.85 2128.79 1531.6 Q2128.79 1540.33 2125.72 1544.94 Q2122.66 1549.52 2116.85 1549.52 Q2111.04 1549.52 2107.96 1544.94 Q2104.91 1540.33 2104.91 1531.6 Q2104.91 1522.85 2107.96 1518.27 Q2111.04 1513.66 2116.85 1513.66 Z\" fill=\"#000000\" fill-rule=\"nonzero\" fill-opacity=\"1\" /><polyline clip-path=\"url(#clip172)\" style=\"stroke:#000000; stroke-linecap:round; stroke-linejoin:round; stroke-width:2; stroke-opacity:0.1; fill:none\" points=\"314.746,1338.53 2352.76,1338.53 \"/>\n",
       "<polyline clip-path=\"url(#clip172)\" style=\"stroke:#000000; stroke-linecap:round; stroke-linejoin:round; stroke-width:2; stroke-opacity:0.1; fill:none\" points=\"314.746,1073.43 2352.76,1073.43 \"/>\n",
       "<polyline clip-path=\"url(#clip172)\" style=\"stroke:#000000; stroke-linecap:round; stroke-linejoin:round; stroke-width:2; stroke-opacity:0.1; fill:none\" points=\"314.746,808.335 2352.76,808.335 \"/>\n",
       "<polyline clip-path=\"url(#clip172)\" style=\"stroke:#000000; stroke-linecap:round; stroke-linejoin:round; stroke-width:2; stroke-opacity:0.1; fill:none\" points=\"314.746,543.239 2352.76,543.239 \"/>\n",
       "<polyline clip-path=\"url(#clip172)\" style=\"stroke:#000000; stroke-linecap:round; stroke-linejoin:round; stroke-width:2; stroke-opacity:0.1; fill:none\" points=\"314.746,278.143 2352.76,278.143 \"/>\n",
       "<polyline clip-path=\"url(#clip170)\" style=\"stroke:#000000; stroke-linecap:round; stroke-linejoin:round; stroke-width:4; stroke-opacity:1; fill:none\" points=\"314.746,1486.45 314.746,47.2441 \"/>\n",
       "<polyline clip-path=\"url(#clip170)\" style=\"stroke:#000000; stroke-linecap:round; stroke-linejoin:round; stroke-width:4; stroke-opacity:1; fill:none\" points=\"314.746,1338.53 333.643,1338.53 \"/>\n",
       "<polyline clip-path=\"url(#clip170)\" style=\"stroke:#000000; stroke-linecap:round; stroke-linejoin:round; stroke-width:4; stroke-opacity:1; fill:none\" points=\"314.746,1073.43 333.643,1073.43 \"/>\n",
       "<polyline clip-path=\"url(#clip170)\" style=\"stroke:#000000; stroke-linecap:round; stroke-linejoin:round; stroke-width:4; stroke-opacity:1; fill:none\" points=\"314.746,808.335 333.643,808.335 \"/>\n",
       "<polyline clip-path=\"url(#clip170)\" style=\"stroke:#000000; stroke-linecap:round; stroke-linejoin:round; stroke-width:4; stroke-opacity:1; fill:none\" points=\"314.746,543.239 333.643,543.239 \"/>\n",
       "<polyline clip-path=\"url(#clip170)\" style=\"stroke:#000000; stroke-linecap:round; stroke-linejoin:round; stroke-width:4; stroke-opacity:1; fill:none\" points=\"314.746,278.143 333.643,278.143 \"/>\n",
       "<path clip-path=\"url(#clip170)\" d=\"M50.9921 1338.98 L80.6679 1338.98 L80.6679 1342.91 L50.9921 1342.91 L50.9921 1338.98 Z\" fill=\"#000000\" fill-rule=\"nonzero\" fill-opacity=\"1\" /><path clip-path=\"url(#clip170)\" d=\"M100.76 1324.33 Q97.1493 1324.33 95.3206 1327.89 Q93.515 1331.43 93.515 1338.56 Q93.515 1345.67 95.3206 1349.23 Q97.1493 1352.78 100.76 1352.78 Q104.395 1352.78 106.2 1349.23 Q108.029 1345.67 108.029 1338.56 Q108.029 1331.43 106.2 1327.89 Q104.395 1324.33 100.76 1324.33 M100.76 1320.62 Q106.571 1320.62 109.626 1325.23 Q112.705 1329.81 112.705 1338.56 Q112.705 1347.29 109.626 1351.9 Q106.571 1356.48 100.76 1356.48 Q94.9502 1356.48 91.8715 1351.9 Q88.816 1347.29 88.816 1338.56 Q88.816 1329.81 91.8715 1325.23 Q94.9502 1320.62 100.76 1320.62 Z\" fill=\"#000000\" fill-rule=\"nonzero\" fill-opacity=\"1\" /><path clip-path=\"url(#clip170)\" d=\"M120.922 1349.93 L125.807 1349.93 L125.807 1355.81 L120.922 1355.81 L120.922 1349.93 Z\" fill=\"#000000\" fill-rule=\"nonzero\" fill-opacity=\"1\" /><path clip-path=\"url(#clip170)\" d=\"M145.992 1324.33 Q142.381 1324.33 140.552 1327.89 Q138.746 1331.43 138.746 1338.56 Q138.746 1345.67 140.552 1349.23 Q142.381 1352.78 145.992 1352.78 Q149.626 1352.78 151.431 1349.23 Q153.26 1345.67 153.26 1338.56 Q153.26 1331.43 151.431 1327.89 Q149.626 1324.33 145.992 1324.33 M145.992 1320.62 Q151.802 1320.62 154.857 1325.23 Q157.936 1329.81 157.936 1338.56 Q157.936 1347.29 154.857 1351.9 Q151.802 1356.48 145.992 1356.48 Q140.181 1356.48 137.103 1351.9 Q134.047 1347.29 134.047 1338.56 Q134.047 1329.81 137.103 1325.23 Q140.181 1320.62 145.992 1320.62 Z\" fill=\"#000000\" fill-rule=\"nonzero\" fill-opacity=\"1\" /><path clip-path=\"url(#clip170)\" d=\"M176.153 1324.33 Q172.542 1324.33 170.714 1327.89 Q168.908 1331.43 168.908 1338.56 Q168.908 1345.67 170.714 1349.23 Q172.542 1352.78 176.153 1352.78 Q179.788 1352.78 181.593 1349.23 Q183.422 1345.67 183.422 1338.56 Q183.422 1331.43 181.593 1327.89 Q179.788 1324.33 176.153 1324.33 M176.153 1320.62 Q181.964 1320.62 185.019 1325.23 Q188.098 1329.81 188.098 1338.56 Q188.098 1347.29 185.019 1351.9 Q181.964 1356.48 176.153 1356.48 Q170.343 1356.48 167.265 1351.9 Q164.209 1347.29 164.209 1338.56 Q164.209 1329.81 167.265 1325.23 Q170.343 1320.62 176.153 1320.62 Z\" fill=\"#000000\" fill-rule=\"nonzero\" fill-opacity=\"1\" /><path clip-path=\"url(#clip170)\" d=\"M206.315 1324.33 Q202.704 1324.33 200.876 1327.89 Q199.07 1331.43 199.07 1338.56 Q199.07 1345.67 200.876 1349.23 Q202.704 1352.78 206.315 1352.78 Q209.95 1352.78 211.755 1349.23 Q213.584 1345.67 213.584 1338.56 Q213.584 1331.43 211.755 1327.89 Q209.95 1324.33 206.315 1324.33 M206.315 1320.62 Q212.126 1320.62 215.181 1325.23 Q218.26 1329.81 218.26 1338.56 Q218.26 1347.29 215.181 1351.9 Q212.126 1356.48 206.315 1356.48 Q200.505 1356.48 197.427 1351.9 Q194.371 1347.29 194.371 1338.56 Q194.371 1329.81 197.427 1325.23 Q200.505 1320.62 206.315 1320.62 Z\" fill=\"#000000\" fill-rule=\"nonzero\" fill-opacity=\"1\" /><path clip-path=\"url(#clip170)\" d=\"M236.477 1324.33 Q232.866 1324.33 231.037 1327.89 Q229.232 1331.43 229.232 1338.56 Q229.232 1345.67 231.037 1349.23 Q232.866 1352.78 236.477 1352.78 Q240.111 1352.78 241.917 1349.23 Q243.746 1345.67 243.746 1338.56 Q243.746 1331.43 241.917 1327.89 Q240.111 1324.33 236.477 1324.33 M236.477 1320.62 Q242.287 1320.62 245.343 1325.23 Q248.422 1329.81 248.422 1338.56 Q248.422 1347.29 245.343 1351.9 Q242.287 1356.48 236.477 1356.48 Q230.667 1356.48 227.588 1351.9 Q224.533 1347.29 224.533 1338.56 Q224.533 1329.81 227.588 1325.23 Q230.667 1320.62 236.477 1320.62 Z\" fill=\"#000000\" fill-rule=\"nonzero\" fill-opacity=\"1\" /><path clip-path=\"url(#clip170)\" d=\"M267.218 1336.66 Q264.07 1336.66 262.218 1338.82 Q260.389 1340.97 260.389 1344.72 Q260.389 1348.45 262.218 1350.62 Q264.07 1352.78 267.218 1352.78 Q270.366 1352.78 272.195 1350.62 Q274.046 1348.45 274.046 1344.72 Q274.046 1340.97 272.195 1338.82 Q270.366 1336.66 267.218 1336.66 M276.5 1322.01 L276.5 1326.27 Q274.741 1325.44 272.935 1325 Q271.153 1324.56 269.394 1324.56 Q264.764 1324.56 262.31 1327.68 Q259.88 1330.81 259.533 1337.13 Q260.898 1335.11 262.959 1334.05 Q265.019 1332.96 267.496 1332.96 Q272.704 1332.96 275.713 1336.13 Q278.746 1339.28 278.746 1344.72 Q278.746 1350.04 275.597 1353.26 Q272.449 1356.48 267.218 1356.48 Q261.222 1356.48 258.051 1351.9 Q254.88 1347.29 254.88 1338.56 Q254.88 1330.37 258.769 1325.51 Q262.658 1320.62 269.209 1320.62 Q270.968 1320.62 272.75 1320.97 Q274.556 1321.32 276.5 1322.01 Z\" fill=\"#000000\" fill-rule=\"nonzero\" fill-opacity=\"1\" /><path clip-path=\"url(#clip170)\" d=\"M51.8023 1073.88 L81.4781 1073.88 L81.4781 1077.82 L51.8023 1077.82 L51.8023 1073.88 Z\" fill=\"#000000\" fill-rule=\"nonzero\" fill-opacity=\"1\" /><path clip-path=\"url(#clip170)\" d=\"M101.571 1059.23 Q97.9595 1059.23 96.1308 1062.8 Q94.3252 1066.34 94.3252 1073.47 Q94.3252 1080.57 96.1308 1084.14 Q97.9595 1087.68 101.571 1087.68 Q105.205 1087.68 107.01 1084.14 Q108.839 1080.57 108.839 1073.47 Q108.839 1066.34 107.01 1062.8 Q105.205 1059.23 101.571 1059.23 M101.571 1055.53 Q107.381 1055.53 110.436 1060.13 Q113.515 1064.72 113.515 1073.47 Q113.515 1082.19 110.436 1086.8 Q107.381 1091.38 101.571 1091.38 Q95.7604 1091.38 92.6817 1086.8 Q89.6262 1082.19 89.6262 1073.47 Q89.6262 1064.72 92.6817 1060.13 Q95.7604 1055.53 101.571 1055.53 Z\" fill=\"#000000\" fill-rule=\"nonzero\" fill-opacity=\"1\" /><path clip-path=\"url(#clip170)\" d=\"M121.732 1084.83 L126.617 1084.83 L126.617 1090.71 L121.732 1090.71 L121.732 1084.83 Z\" fill=\"#000000\" fill-rule=\"nonzero\" fill-opacity=\"1\" /><path clip-path=\"url(#clip170)\" d=\"M146.802 1059.23 Q143.191 1059.23 141.362 1062.8 Q139.556 1066.34 139.556 1073.47 Q139.556 1080.57 141.362 1084.14 Q143.191 1087.68 146.802 1087.68 Q150.436 1087.68 152.242 1084.14 Q154.07 1080.57 154.07 1073.47 Q154.07 1066.34 152.242 1062.8 Q150.436 1059.23 146.802 1059.23 M146.802 1055.53 Q152.612 1055.53 155.667 1060.13 Q158.746 1064.72 158.746 1073.47 Q158.746 1082.19 155.667 1086.8 Q152.612 1091.38 146.802 1091.38 Q140.992 1091.38 137.913 1086.8 Q134.857 1082.19 134.857 1073.47 Q134.857 1064.72 137.913 1060.13 Q140.992 1055.53 146.802 1055.53 Z\" fill=\"#000000\" fill-rule=\"nonzero\" fill-opacity=\"1\" /><path clip-path=\"url(#clip170)\" d=\"M176.964 1059.23 Q173.353 1059.23 171.524 1062.8 Q169.718 1066.34 169.718 1073.47 Q169.718 1080.57 171.524 1084.14 Q173.353 1087.68 176.964 1087.68 Q180.598 1087.68 182.403 1084.14 Q184.232 1080.57 184.232 1073.47 Q184.232 1066.34 182.403 1062.8 Q180.598 1059.23 176.964 1059.23 M176.964 1055.53 Q182.774 1055.53 185.829 1060.13 Q188.908 1064.72 188.908 1073.47 Q188.908 1082.19 185.829 1086.8 Q182.774 1091.38 176.964 1091.38 Q171.154 1091.38 168.075 1086.8 Q165.019 1082.19 165.019 1073.47 Q165.019 1064.72 168.075 1060.13 Q171.154 1055.53 176.964 1055.53 Z\" fill=\"#000000\" fill-rule=\"nonzero\" fill-opacity=\"1\" /><path clip-path=\"url(#clip170)\" d=\"M207.126 1059.23 Q203.514 1059.23 201.686 1062.8 Q199.88 1066.34 199.88 1073.47 Q199.88 1080.57 201.686 1084.14 Q203.514 1087.68 207.126 1087.68 Q210.76 1087.68 212.565 1084.14 Q214.394 1080.57 214.394 1073.47 Q214.394 1066.34 212.565 1062.8 Q210.76 1059.23 207.126 1059.23 M207.126 1055.53 Q212.936 1055.53 215.991 1060.13 Q219.07 1064.72 219.07 1073.47 Q219.07 1082.19 215.991 1086.8 Q212.936 1091.38 207.126 1091.38 Q201.315 1091.38 198.237 1086.8 Q195.181 1082.19 195.181 1073.47 Q195.181 1064.72 198.237 1060.13 Q201.315 1055.53 207.126 1055.53 Z\" fill=\"#000000\" fill-rule=\"nonzero\" fill-opacity=\"1\" /><path clip-path=\"url(#clip170)\" d=\"M237.287 1059.23 Q233.676 1059.23 231.848 1062.8 Q230.042 1066.34 230.042 1073.47 Q230.042 1080.57 231.848 1084.14 Q233.676 1087.68 237.287 1087.68 Q240.922 1087.68 242.727 1084.14 Q244.556 1080.57 244.556 1073.47 Q244.556 1066.34 242.727 1062.8 Q240.922 1059.23 237.287 1059.23 M237.287 1055.53 Q243.098 1055.53 246.153 1060.13 Q249.232 1064.72 249.232 1073.47 Q249.232 1082.19 246.153 1086.8 Q243.098 1091.38 237.287 1091.38 Q231.477 1091.38 228.399 1086.8 Q225.343 1082.19 225.343 1073.47 Q225.343 1064.72 228.399 1060.13 Q231.477 1055.53 237.287 1055.53 Z\" fill=\"#000000\" fill-rule=\"nonzero\" fill-opacity=\"1\" /><path clip-path=\"url(#clip170)\" d=\"M271.616 1072.08 Q274.972 1072.8 276.847 1075.06 Q278.746 1077.33 278.746 1080.67 Q278.746 1085.78 275.227 1088.58 Q271.709 1091.38 265.227 1091.38 Q263.051 1091.38 260.736 1090.94 Q258.445 1090.53 255.991 1089.67 L255.991 1085.16 Q257.935 1086.29 260.25 1086.87 Q262.565 1087.45 265.088 1087.45 Q269.486 1087.45 271.778 1085.71 Q274.093 1083.98 274.093 1080.67 Q274.093 1077.61 271.94 1075.9 Q269.81 1074.16 265.991 1074.16 L261.963 1074.16 L261.963 1070.32 L266.176 1070.32 Q269.625 1070.32 271.454 1068.95 Q273.283 1067.56 273.283 1064.97 Q273.283 1062.31 271.384 1060.9 Q269.509 1059.46 265.991 1059.46 Q264.07 1059.46 261.871 1059.88 Q259.672 1060.3 257.033 1061.17 L257.033 1057.01 Q259.695 1056.27 262.01 1055.9 Q264.347 1055.53 266.408 1055.53 Q271.732 1055.53 274.834 1057.96 Q277.935 1060.36 277.935 1064.48 Q277.935 1067.36 276.292 1069.35 Q274.648 1071.31 271.616 1072.08 Z\" fill=\"#000000\" fill-rule=\"nonzero\" fill-opacity=\"1\" /><path clip-path=\"url(#clip170)\" d=\"M100.922 794.134 Q97.3113 794.134 95.4826 797.699 Q93.6771 801.241 93.6771 808.37 Q93.6771 815.477 95.4826 819.041 Q97.3113 822.583 100.922 822.583 Q104.557 822.583 106.362 819.041 Q108.191 815.477 108.191 808.37 Q108.191 801.241 106.362 797.699 Q104.557 794.134 100.922 794.134 M100.922 790.43 Q106.733 790.43 109.788 795.037 Q112.867 799.62 112.867 808.37 Q112.867 817.097 109.788 821.703 Q106.733 826.287 100.922 826.287 Q95.1123 826.287 92.0336 821.703 Q88.978 817.097 88.978 808.37 Q88.978 799.62 92.0336 795.037 Q95.1123 790.43 100.922 790.43 Z\" fill=\"#000000\" fill-rule=\"nonzero\" fill-opacity=\"1\" /><path clip-path=\"url(#clip170)\" d=\"M121.084 819.736 L125.969 819.736 L125.969 825.615 L121.084 825.615 L121.084 819.736 Z\" fill=\"#000000\" fill-rule=\"nonzero\" fill-opacity=\"1\" /><path clip-path=\"url(#clip170)\" d=\"M146.154 794.134 Q142.543 794.134 140.714 797.699 Q138.908 801.241 138.908 808.37 Q138.908 815.477 140.714 819.041 Q142.543 822.583 146.154 822.583 Q149.788 822.583 151.593 819.041 Q153.422 815.477 153.422 808.37 Q153.422 801.241 151.593 797.699 Q149.788 794.134 146.154 794.134 M146.154 790.43 Q151.964 790.43 155.019 795.037 Q158.098 799.62 158.098 808.37 Q158.098 817.097 155.019 821.703 Q151.964 826.287 146.154 826.287 Q140.343 826.287 137.265 821.703 Q134.209 817.097 134.209 808.37 Q134.209 799.62 137.265 795.037 Q140.343 790.43 146.154 790.43 Z\" fill=\"#000000\" fill-rule=\"nonzero\" fill-opacity=\"1\" /><path clip-path=\"url(#clip170)\" d=\"M176.316 794.134 Q172.704 794.134 170.876 797.699 Q169.07 801.241 169.07 808.37 Q169.07 815.477 170.876 819.041 Q172.704 822.583 176.316 822.583 Q179.95 822.583 181.755 819.041 Q183.584 815.477 183.584 808.37 Q183.584 801.241 181.755 797.699 Q179.95 794.134 176.316 794.134 M176.316 790.43 Q182.126 790.43 185.181 795.037 Q188.26 799.62 188.26 808.37 Q188.26 817.097 185.181 821.703 Q182.126 826.287 176.316 826.287 Q170.505 826.287 167.427 821.703 Q164.371 817.097 164.371 808.37 Q164.371 799.62 167.427 795.037 Q170.505 790.43 176.316 790.43 Z\" fill=\"#000000\" fill-rule=\"nonzero\" fill-opacity=\"1\" /><path clip-path=\"url(#clip170)\" d=\"M206.477 794.134 Q202.866 794.134 201.038 797.699 Q199.232 801.241 199.232 808.37 Q199.232 815.477 201.038 819.041 Q202.866 822.583 206.477 822.583 Q210.112 822.583 211.917 819.041 Q213.746 815.477 213.746 808.37 Q213.746 801.241 211.917 797.699 Q210.112 794.134 206.477 794.134 M206.477 790.43 Q212.288 790.43 215.343 795.037 Q218.422 799.62 218.422 808.37 Q218.422 817.097 215.343 821.703 Q212.288 826.287 206.477 826.287 Q200.667 826.287 197.589 821.703 Q194.533 817.097 194.533 808.37 Q194.533 799.62 197.589 795.037 Q200.667 790.43 206.477 790.43 Z\" fill=\"#000000\" fill-rule=\"nonzero\" fill-opacity=\"1\" /><path clip-path=\"url(#clip170)\" d=\"M236.639 794.134 Q233.028 794.134 231.199 797.699 Q229.394 801.241 229.394 808.37 Q229.394 815.477 231.199 819.041 Q233.028 822.583 236.639 822.583 Q240.274 822.583 242.079 819.041 Q243.908 815.477 243.908 808.37 Q243.908 801.241 242.079 797.699 Q240.274 794.134 236.639 794.134 M236.639 790.43 Q242.449 790.43 245.505 795.037 Q248.584 799.62 248.584 808.37 Q248.584 817.097 245.505 821.703 Q242.449 826.287 236.639 826.287 Q230.829 826.287 227.75 821.703 Q224.695 817.097 224.695 808.37 Q224.695 799.62 227.75 795.037 Q230.829 790.43 236.639 790.43 Z\" fill=\"#000000\" fill-rule=\"nonzero\" fill-opacity=\"1\" /><path clip-path=\"url(#clip170)\" d=\"M266.801 794.134 Q263.19 794.134 261.361 797.699 Q259.556 801.241 259.556 808.37 Q259.556 815.477 261.361 819.041 Q263.19 822.583 266.801 822.583 Q270.435 822.583 272.241 819.041 Q274.07 815.477 274.07 808.37 Q274.07 801.241 272.241 797.699 Q270.435 794.134 266.801 794.134 M266.801 790.43 Q272.611 790.43 275.667 795.037 Q278.746 799.62 278.746 808.37 Q278.746 817.097 275.667 821.703 Q272.611 826.287 266.801 826.287 Q260.991 826.287 257.912 821.703 Q254.857 817.097 254.857 808.37 Q254.857 799.62 257.912 795.037 Q260.991 790.43 266.801 790.43 Z\" fill=\"#000000\" fill-rule=\"nonzero\" fill-opacity=\"1\" /><path clip-path=\"url(#clip170)\" d=\"M101.571 529.038 Q97.9595 529.038 96.1308 532.603 Q94.3252 536.144 94.3252 543.274 Q94.3252 550.38 96.1308 553.945 Q97.9595 557.487 101.571 557.487 Q105.205 557.487 107.01 553.945 Q108.839 550.38 108.839 543.274 Q108.839 536.144 107.01 532.603 Q105.205 529.038 101.571 529.038 M101.571 525.334 Q107.381 525.334 110.436 529.941 Q113.515 534.524 113.515 543.274 Q113.515 552.001 110.436 556.607 Q107.381 561.19 101.571 561.19 Q95.7604 561.19 92.6817 556.607 Q89.6262 552.001 89.6262 543.274 Q89.6262 534.524 92.6817 529.941 Q95.7604 525.334 101.571 525.334 Z\" fill=\"#000000\" fill-rule=\"nonzero\" fill-opacity=\"1\" /><path clip-path=\"url(#clip170)\" d=\"M121.732 554.64 L126.617 554.64 L126.617 560.519 L121.732 560.519 L121.732 554.64 Z\" fill=\"#000000\" fill-rule=\"nonzero\" fill-opacity=\"1\" /><path clip-path=\"url(#clip170)\" d=\"M146.802 529.038 Q143.191 529.038 141.362 532.603 Q139.556 536.144 139.556 543.274 Q139.556 550.38 141.362 553.945 Q143.191 557.487 146.802 557.487 Q150.436 557.487 152.242 553.945 Q154.07 550.38 154.07 543.274 Q154.07 536.144 152.242 532.603 Q150.436 529.038 146.802 529.038 M146.802 525.334 Q152.612 525.334 155.667 529.941 Q158.746 534.524 158.746 543.274 Q158.746 552.001 155.667 556.607 Q152.612 561.19 146.802 561.19 Q140.992 561.19 137.913 556.607 Q134.857 552.001 134.857 543.274 Q134.857 534.524 137.913 529.941 Q140.992 525.334 146.802 525.334 Z\" fill=\"#000000\" fill-rule=\"nonzero\" fill-opacity=\"1\" /><path clip-path=\"url(#clip170)\" d=\"M176.964 529.038 Q173.353 529.038 171.524 532.603 Q169.718 536.144 169.718 543.274 Q169.718 550.38 171.524 553.945 Q173.353 557.487 176.964 557.487 Q180.598 557.487 182.403 553.945 Q184.232 550.38 184.232 543.274 Q184.232 536.144 182.403 532.603 Q180.598 529.038 176.964 529.038 M176.964 525.334 Q182.774 525.334 185.829 529.941 Q188.908 534.524 188.908 543.274 Q188.908 552.001 185.829 556.607 Q182.774 561.19 176.964 561.19 Q171.154 561.19 168.075 556.607 Q165.019 552.001 165.019 543.274 Q165.019 534.524 168.075 529.941 Q171.154 525.334 176.964 525.334 Z\" fill=\"#000000\" fill-rule=\"nonzero\" fill-opacity=\"1\" /><path clip-path=\"url(#clip170)\" d=\"M207.126 529.038 Q203.514 529.038 201.686 532.603 Q199.88 536.144 199.88 543.274 Q199.88 550.38 201.686 553.945 Q203.514 557.487 207.126 557.487 Q210.76 557.487 212.565 553.945 Q214.394 550.38 214.394 543.274 Q214.394 536.144 212.565 532.603 Q210.76 529.038 207.126 529.038 M207.126 525.334 Q212.936 525.334 215.991 529.941 Q219.07 534.524 219.07 543.274 Q219.07 552.001 215.991 556.607 Q212.936 561.19 207.126 561.19 Q201.315 561.19 198.237 556.607 Q195.181 552.001 195.181 543.274 Q195.181 534.524 198.237 529.941 Q201.315 525.334 207.126 525.334 Z\" fill=\"#000000\" fill-rule=\"nonzero\" fill-opacity=\"1\" /><path clip-path=\"url(#clip170)\" d=\"M237.287 529.038 Q233.676 529.038 231.848 532.603 Q230.042 536.144 230.042 543.274 Q230.042 550.38 231.848 553.945 Q233.676 557.487 237.287 557.487 Q240.922 557.487 242.727 553.945 Q244.556 550.38 244.556 543.274 Q244.556 536.144 242.727 532.603 Q240.922 529.038 237.287 529.038 M237.287 525.334 Q243.098 525.334 246.153 529.941 Q249.232 534.524 249.232 543.274 Q249.232 552.001 246.153 556.607 Q243.098 561.19 237.287 561.19 Q231.477 561.19 228.399 556.607 Q225.343 552.001 225.343 543.274 Q225.343 534.524 228.399 529.941 Q231.477 525.334 237.287 525.334 Z\" fill=\"#000000\" fill-rule=\"nonzero\" fill-opacity=\"1\" /><path clip-path=\"url(#clip170)\" d=\"M271.616 541.885 Q274.972 542.603 276.847 544.871 Q278.746 547.14 278.746 550.473 Q278.746 555.589 275.227 558.39 Q271.709 561.19 265.227 561.19 Q263.051 561.19 260.736 560.751 Q258.445 560.334 255.991 559.478 L255.991 554.964 Q257.935 556.098 260.25 556.677 Q262.565 557.255 265.088 557.255 Q269.486 557.255 271.778 555.519 Q274.093 553.783 274.093 550.473 Q274.093 547.417 271.94 545.704 Q269.81 543.968 265.991 543.968 L261.963 543.968 L261.963 540.126 L266.176 540.126 Q269.625 540.126 271.454 538.76 Q273.283 537.371 273.283 534.779 Q273.283 532.117 271.384 530.705 Q269.509 529.269 265.991 529.269 Q264.07 529.269 261.871 529.686 Q259.672 530.103 257.033 530.982 L257.033 526.816 Q259.695 526.075 262.01 525.705 Q264.347 525.334 266.408 525.334 Q271.732 525.334 274.834 527.765 Q277.935 530.172 277.935 534.292 Q277.935 537.163 276.292 539.154 Q274.648 541.121 271.616 541.885 Z\" fill=\"#000000\" fill-rule=\"nonzero\" fill-opacity=\"1\" /><path clip-path=\"url(#clip170)\" d=\"M100.76 263.942 Q97.1493 263.942 95.3206 267.506 Q93.515 271.048 93.515 278.178 Q93.515 285.284 95.3206 288.849 Q97.1493 292.39 100.76 292.39 Q104.395 292.39 106.2 288.849 Q108.029 285.284 108.029 278.178 Q108.029 271.048 106.2 267.506 Q104.395 263.942 100.76 263.942 M100.76 260.238 Q106.571 260.238 109.626 264.844 Q112.705 269.428 112.705 278.178 Q112.705 286.904 109.626 291.511 Q106.571 296.094 100.76 296.094 Q94.9502 296.094 91.8715 291.511 Q88.816 286.904 88.816 278.178 Q88.816 269.428 91.8715 264.844 Q94.9502 260.238 100.76 260.238 Z\" fill=\"#000000\" fill-rule=\"nonzero\" fill-opacity=\"1\" /><path clip-path=\"url(#clip170)\" d=\"M120.922 289.543 L125.807 289.543 L125.807 295.423 L120.922 295.423 L120.922 289.543 Z\" fill=\"#000000\" fill-rule=\"nonzero\" fill-opacity=\"1\" /><path clip-path=\"url(#clip170)\" d=\"M145.992 263.942 Q142.381 263.942 140.552 267.506 Q138.746 271.048 138.746 278.178 Q138.746 285.284 140.552 288.849 Q142.381 292.39 145.992 292.39 Q149.626 292.39 151.431 288.849 Q153.26 285.284 153.26 278.178 Q153.26 271.048 151.431 267.506 Q149.626 263.942 145.992 263.942 M145.992 260.238 Q151.802 260.238 154.857 264.844 Q157.936 269.428 157.936 278.178 Q157.936 286.904 154.857 291.511 Q151.802 296.094 145.992 296.094 Q140.181 296.094 137.103 291.511 Q134.047 286.904 134.047 278.178 Q134.047 269.428 137.103 264.844 Q140.181 260.238 145.992 260.238 Z\" fill=\"#000000\" fill-rule=\"nonzero\" fill-opacity=\"1\" /><path clip-path=\"url(#clip170)\" d=\"M176.153 263.942 Q172.542 263.942 170.714 267.506 Q168.908 271.048 168.908 278.178 Q168.908 285.284 170.714 288.849 Q172.542 292.39 176.153 292.39 Q179.788 292.39 181.593 288.849 Q183.422 285.284 183.422 278.178 Q183.422 271.048 181.593 267.506 Q179.788 263.942 176.153 263.942 M176.153 260.238 Q181.964 260.238 185.019 264.844 Q188.098 269.428 188.098 278.178 Q188.098 286.904 185.019 291.511 Q181.964 296.094 176.153 296.094 Q170.343 296.094 167.265 291.511 Q164.209 286.904 164.209 278.178 Q164.209 269.428 167.265 264.844 Q170.343 260.238 176.153 260.238 Z\" fill=\"#000000\" fill-rule=\"nonzero\" fill-opacity=\"1\" /><path clip-path=\"url(#clip170)\" d=\"M206.315 263.942 Q202.704 263.942 200.876 267.506 Q199.07 271.048 199.07 278.178 Q199.07 285.284 200.876 288.849 Q202.704 292.39 206.315 292.39 Q209.95 292.39 211.755 288.849 Q213.584 285.284 213.584 278.178 Q213.584 271.048 211.755 267.506 Q209.95 263.942 206.315 263.942 M206.315 260.238 Q212.126 260.238 215.181 264.844 Q218.26 269.428 218.26 278.178 Q218.26 286.904 215.181 291.511 Q212.126 296.094 206.315 296.094 Q200.505 296.094 197.427 291.511 Q194.371 286.904 194.371 278.178 Q194.371 269.428 197.427 264.844 Q200.505 260.238 206.315 260.238 Z\" fill=\"#000000\" fill-rule=\"nonzero\" fill-opacity=\"1\" /><path clip-path=\"url(#clip170)\" d=\"M236.477 263.942 Q232.866 263.942 231.037 267.506 Q229.232 271.048 229.232 278.178 Q229.232 285.284 231.037 288.849 Q232.866 292.39 236.477 292.39 Q240.111 292.39 241.917 288.849 Q243.746 285.284 243.746 278.178 Q243.746 271.048 241.917 267.506 Q240.111 263.942 236.477 263.942 M236.477 260.238 Q242.287 260.238 245.343 264.844 Q248.422 269.428 248.422 278.178 Q248.422 286.904 245.343 291.511 Q242.287 296.094 236.477 296.094 Q230.667 296.094 227.588 291.511 Q224.533 286.904 224.533 278.178 Q224.533 269.428 227.588 264.844 Q230.667 260.238 236.477 260.238 Z\" fill=\"#000000\" fill-rule=\"nonzero\" fill-opacity=\"1\" /><path clip-path=\"url(#clip170)\" d=\"M267.218 276.279 Q264.07 276.279 262.218 278.432 Q260.389 280.585 260.389 284.335 Q260.389 288.062 262.218 290.238 Q264.07 292.39 267.218 292.39 Q270.366 292.39 272.195 290.238 Q274.046 288.062 274.046 284.335 Q274.046 280.585 272.195 278.432 Q270.366 276.279 267.218 276.279 M276.5 261.627 L276.5 265.886 Q274.741 265.053 272.935 264.613 Q271.153 264.173 269.394 264.173 Q264.764 264.173 262.31 267.298 Q259.88 270.423 259.533 276.742 Q260.898 274.729 262.959 273.664 Q265.019 272.576 267.496 272.576 Q272.704 272.576 275.713 275.747 Q278.746 278.895 278.746 284.335 Q278.746 289.659 275.597 292.877 Q272.449 296.094 267.218 296.094 Q261.222 296.094 258.051 291.511 Q254.88 286.904 254.88 278.178 Q254.88 269.983 258.769 265.122 Q262.658 260.238 269.209 260.238 Q270.968 260.238 272.75 260.585 Q274.556 260.932 276.5 261.627 Z\" fill=\"#000000\" fill-rule=\"nonzero\" fill-opacity=\"1\" /><circle clip-path=\"url(#clip172)\" cx=\"372.425\" cy=\"808.627\" r=\"14.4\" fill=\"#009af9\" fill-rule=\"evenodd\" fill-opacity=\"1\" stroke=\"#000000\" stroke-opacity=\"1\" stroke-width=\"3.2\"/>\n",
       "<circle clip-path=\"url(#clip172)\" cx=\"564.69\" cy=\"756.045\" r=\"14.4\" fill=\"#009af9\" fill-rule=\"evenodd\" fill-opacity=\"1\" stroke=\"#000000\" stroke-opacity=\"1\" stroke-width=\"3.2\"/>\n",
       "<circle clip-path=\"url(#clip172)\" cx=\"756.955\" cy=\"1083.53\" r=\"14.4\" fill=\"#009af9\" fill-rule=\"evenodd\" fill-opacity=\"1\" stroke=\"#000000\" stroke-opacity=\"1\" stroke-width=\"3.2\"/>\n",
       "<circle clip-path=\"url(#clip172)\" cx=\"949.22\" cy=\"686.518\" r=\"14.4\" fill=\"#009af9\" fill-rule=\"evenodd\" fill-opacity=\"1\" stroke=\"#000000\" stroke-opacity=\"1\" stroke-width=\"3.2\"/>\n",
       "<circle clip-path=\"url(#clip172)\" cx=\"1141.49\" cy=\"1178.65\" r=\"14.4\" fill=\"#009af9\" fill-rule=\"evenodd\" fill-opacity=\"1\" stroke=\"#000000\" stroke-opacity=\"1\" stroke-width=\"3.2\"/>\n",
       "<circle clip-path=\"url(#clip172)\" cx=\"1333.75\" cy=\"808.561\" r=\"14.4\" fill=\"#009af9\" fill-rule=\"evenodd\" fill-opacity=\"1\" stroke=\"#000000\" stroke-opacity=\"1\" stroke-width=\"3.2\"/>\n",
       "<circle clip-path=\"url(#clip172)\" cx=\"1526.02\" cy=\"87.9763\" r=\"14.4\" fill=\"#009af9\" fill-rule=\"evenodd\" fill-opacity=\"1\" stroke=\"#000000\" stroke-opacity=\"1\" stroke-width=\"3.2\"/>\n",
       "<circle clip-path=\"url(#clip172)\" cx=\"1718.28\" cy=\"1445.72\" r=\"14.4\" fill=\"#009af9\" fill-rule=\"evenodd\" fill-opacity=\"1\" stroke=\"#000000\" stroke-opacity=\"1\" stroke-width=\"3.2\"/>\n",
       "<circle clip-path=\"url(#clip172)\" cx=\"1910.55\" cy=\"426.668\" r=\"14.4\" fill=\"#009af9\" fill-rule=\"evenodd\" fill-opacity=\"1\" stroke=\"#000000\" stroke-opacity=\"1\" stroke-width=\"3.2\"/>\n",
       "<circle clip-path=\"url(#clip172)\" cx=\"2102.81\" cy=\"1101.38\" r=\"14.4\" fill=\"#009af9\" fill-rule=\"evenodd\" fill-opacity=\"1\" stroke=\"#000000\" stroke-opacity=\"1\" stroke-width=\"3.2\"/>\n",
       "<circle clip-path=\"url(#clip172)\" cx=\"2295.08\" cy=\"808.655\" r=\"14.4\" fill=\"#009af9\" fill-rule=\"evenodd\" fill-opacity=\"1\" stroke=\"#000000\" stroke-opacity=\"1\" stroke-width=\"3.2\"/>\n",
       "<path clip-path=\"url(#clip170)\" d=\"M2028.59 198.898 L2284.82 198.898 L2284.82 95.2176 L2028.59 95.2176  Z\" fill=\"#ffffff\" fill-rule=\"evenodd\" fill-opacity=\"1\"/>\n",
       "<polyline clip-path=\"url(#clip170)\" style=\"stroke:#000000; stroke-linecap:round; stroke-linejoin:round; stroke-width:4; stroke-opacity:1; fill:none\" points=\"2028.59,198.898 2284.82,198.898 2284.82,95.2176 2028.59,95.2176 2028.59,198.898 \"/>\n",
       "<circle clip-path=\"url(#clip170)\" cx=\"2119.17\" cy=\"147.058\" r=\"20.48\" fill=\"#009af9\" fill-rule=\"evenodd\" fill-opacity=\"1\" stroke=\"#000000\" stroke-opacity=\"1\" stroke-width=\"4.55111\"/>\n",
       "<path clip-path=\"url(#clip170)\" d=\"M2223.59 166.745 Q2221.78 171.375 2220.07 172.787 Q2218.36 174.199 2215.49 174.199 L2212.09 174.199 L2212.09 170.634 L2214.59 170.634 Q2216.34 170.634 2217.32 169.8 Q2218.29 168.967 2219.47 165.865 L2220.23 163.921 L2209.75 138.412 L2214.26 138.412 L2222.36 158.689 L2230.46 138.412 L2234.98 138.412 L2223.59 166.745 Z\" fill=\"#000000\" fill-rule=\"nonzero\" fill-opacity=\"1\" /><path clip-path=\"url(#clip170)\" d=\"M2242.27 160.402 L2249.91 160.402 L2249.91 134.037 L2241.6 135.703 L2241.6 131.444 L2249.86 129.778 L2254.54 129.778 L2254.54 160.402 L2262.18 160.402 L2262.18 164.338 L2242.27 164.338 L2242.27 160.402 Z\" fill=\"#000000\" fill-rule=\"nonzero\" fill-opacity=\"1\" /></svg>\n"
      ]
     },
     "metadata": {},
     "output_type": "display_data"
    }
   ],
   "source": [
    "plot(angle.(-Ss),seriestype=:scatter)"
   ]
  },
  {
   "cell_type": "code",
   "execution_count": 8,
   "metadata": {},
   "outputs": [
    {
     "name": "stderr",
     "output_type": "stream",
     "text": [
      "┌ Warning: dmrg failed to converge 1.5937014936889798e-7>1.0e-12\n",
      "└ @ MPSKitExperimental /home/maarten/projects/MPSKitExperimental.jl/src/momentumwindow/assymptotic.jl:295\n"
     ]
    },
    {
     "name": "stderr",
     "output_type": "stream",
     "text": [
      "┌ Warning: dmrg failed to converge 2.2746514422128333e-7>1.0e-12\n",
      "└ @ MPSKitExperimental /home/maarten/projects/MPSKitExperimental.jl/src/momentumwindow/assymptotic.jl:295\n"
     ]
    },
    {
     "name": "stderr",
     "output_type": "stream",
     "text": [
      "┌ Warning: dmrg failed to converge 2.0227314737596954e-9>1.0e-12\n",
      "└ @ MPSKitExperimental /home/maarten/projects/MPSKitExperimental.jl/src/momentumwindow/assymptotic.jl:295\n"
     ]
    },
    {
     "name": "stderr",
     "output_type": "stream",
     "text": [
      "┌ Warning: dmrg failed to converge 5.595499127372208e-10>1.0e-12\n",
      "└ @ MPSKitExperimental /home/maarten/projects/MPSKitExperimental.jl/src/momentumwindow/assymptotic.jl:295\n"
     ]
    },
    {
     "name": "stderr",
     "output_type": "stream",
     "text": [
      "┌ Warning: dmrg failed to converge 4.28550697939759e-8>1.0e-12\n",
      "└ @ MPSKitExperimental /home/maarten/projects/MPSKitExperimental.jl/src/momentumwindow/assymptotic.jl:295\n"
     ]
    },
    {
     "name": "stderr",
     "output_type": "stream",
     "text": [
      "┌ Warning: dmrg failed to converge 5.392511417436825e-9>1.0e-12\n",
      "└ @ MPSKitExperimental /home/maarten/projects/MPSKitExperimental.jl/src/momentumwindow/assymptotic.jl:295\n"
     ]
    },
    {
     "name": "stderr",
     "output_type": "stream",
     "text": [
      "┌ Warning: dmrg failed to converge 4.277230232641394e-8>1.0e-12\n",
      "└ @ MPSKitExperimental /home/maarten/projects/MPSKitExperimental.jl/src/momentumwindow/assymptotic.jl:295\n"
     ]
    },
    {
     "name": "stderr",
     "output_type": "stream",
     "text": [
      "┌ Warning: dmrg failed to converge 2.8681195423407328e-9>1.0e-12\n",
      "└ @ MPSKitExperimental /home/maarten/projects/MPSKitExperimental.jl/src/momentumwindow/assymptotic.jl:295\n"
     ]
    },
    {
     "name": "stderr",
     "output_type": "stream",
     "text": [
      "┌ Warning: dmrg failed to converge 6.850743005968486e-12>1.0e-12\n",
      "└ @ MPSKitExperimental /home/maarten/projects/MPSKitExperimental.jl/src/momentumwindow/assymptotic.jl:295\n"
     ]
    },
    {
     "name": "stderr",
     "output_type": "stream",
     "text": [
      "┌ Warning: dmrg failed to converge 2.326288536228515e-7>1.0e-12\n",
      "└ @ MPSKitExperimental /home/maarten/projects/MPSKitExperimental.jl/src/momentumwindow/assymptotic.jl:295\n"
     ]
    },
    {
     "name": "stderr",
     "output_type": "stream",
     "text": [
      "┌ Warning: dmrg failed to converge 6.257335962080088e-12>1.0e-12\n",
      "└ @ MPSKitExperimental /home/maarten/projects/MPSKitExperimental.jl/src/momentumwindow/assymptotic.jl:295\n"
     ]
    },
    {
     "name": "stderr",
     "output_type": "stream",
     "text": [
      "┌ Warning: dmrg failed to converge 4.5678676198301295e-12>1.0e-12\n",
      "└ @ MPSKitExperimental /home/maarten/projects/MPSKitExperimental.jl/src/momentumwindow/assymptotic.jl:295\n"
     ]
    },
    {
     "name": "stderr",
     "output_type": "stream",
     "text": [
      "┌ Warning: dmrg failed to converge 6.45088001439112e-12>1.0e-12\n",
      "└ @ MPSKitExperimental /home/maarten/projects/MPSKitExperimental.jl/src/momentumwindow/assymptotic.jl:295\n"
     ]
    },
    {
     "name": "stderr",
     "output_type": "stream",
     "text": [
      "┌ Warning: dmrg failed to converge 1.4427340319604376e-11>1.0e-12\n",
      "└ @ MPSKitExperimental /home/maarten/projects/MPSKitExperimental.jl/src/momentumwindow/assymptotic.jl:295\n"
     ]
    },
    {
     "name": "stderr",
     "output_type": "stream",
     "text": [
      "┌ Warning: dmrg failed to converge 2.979653563950683e-12>1.0e-12\n",
      "└ @ MPSKitExperimental /home/maarten/projects/MPSKitExperimental.jl/src/momentumwindow/assymptotic.jl:295\n"
     ]
    },
    {
     "name": "stderr",
     "output_type": "stream",
     "text": [
      "┌ Warning: dmrg failed to converge 6.953563260848693e-7>1.0e-12\n",
      "└ @ MPSKitExperimental /home/maarten/projects/MPSKitExperimental.jl/src/momentumwindow/assymptotic.jl:295\n"
     ]
    },
    {
     "name": "stderr",
     "output_type": "stream",
     "text": [
      "┌ Warning: dmrg failed to converge 2.3633486557386833e-7>1.0e-12\n",
      "└ @ MPSKitExperimental /home/maarten/projects/MPSKitExperimental.jl/src/momentumwindow/assymptotic.jl:295\n"
     ]
    },
    {
     "name": "stderr",
     "output_type": "stream",
     "text": [
      "┌ Warning: dmrg failed to converge 2.0880816936139868e-7>1.0e-12\n",
      "└ @ MPSKitExperimental /home/maarten/projects/MPSKitExperimental.jl/src/momentumwindow/assymptotic.jl:295\n"
     ]
    },
    {
     "name": "stderr",
     "output_type": "stream",
     "text": [
      "┌ Warning: dmrg failed to converge 1.9147917698769703e-7>1.0e-12\n",
      "└ @ MPSKitExperimental /home/maarten/projects/MPSKitExperimental.jl/src/momentumwindow/assymptotic.jl:295\n"
     ]
    },
    {
     "name": "stderr",
     "output_type": "stream",
     "text": [
      "┌ Warning: dmrg failed to converge 2.724446702693092e-8>1.0e-12\n",
      "└ @ MPSKitExperimental /home/maarten/projects/MPSKitExperimental.jl/src/momentumwindow/assymptotic.jl:295\n"
     ]
    },
    {
     "name": "stderr",
     "output_type": "stream",
     "text": [
      "┌ Warning: dmrg failed to converge 1.516354419960373e-8>1.0e-12\n",
      "└ @ MPSKitExperimental /home/maarten/projects/MPSKitExperimental.jl/src/momentumwindow/assymptotic.jl:295\n"
     ]
    },
    {
     "name": "stderr",
     "output_type": "stream",
     "text": [
      "┌ Warning: dmrg failed to converge 1.0691229824786865e-6>1.0e-12\n",
      "└ @ MPSKitExperimental /home/maarten/projects/MPSKitExperimental.jl/src/momentumwindow/assymptotic.jl:295\n"
     ]
    },
    {
     "name": "stderr",
     "output_type": "stream",
     "text": [
      "┌ Warning: dmrg failed to converge 2.124647091257031e-7>1.0e-12\n",
      "└ @ MPSKitExperimental /home/maarten/projects/MPSKitExperimental.jl/src/momentumwindow/assymptotic.jl:295\n"
     ]
    },
    {
     "name": "stderr",
     "output_type": "stream",
     "text": [
      "┌ Warning: dmrg failed to converge 1.5635429009624843e-9>1.0e-12\n",
      "└ @ MPSKitExperimental /home/maarten/projects/MPSKitExperimental.jl/src/momentumwindow/assymptotic.jl:295\n"
     ]
    },
    {
     "name": "stderr",
     "output_type": "stream",
     "text": [
      "┌ Warning: dmrg failed to converge 1.3232906650492847e-9>1.0e-12\n",
      "└ @ MPSKitExperimental /home/maarten/projects/MPSKitExperimental.jl/src/momentumwindow/assymptotic.jl:295\n"
     ]
    },
    {
     "name": "stderr",
     "output_type": "stream",
     "text": [
      "┌ Warning: dmrg failed to converge 1.7890315838573611e-12>1.0e-12\n",
      "└ @ MPSKitExperimental /home/maarten/projects/MPSKitExperimental.jl/src/momentumwindow/assymptotic.jl:295\n"
     ]
    },
    {
     "name": "stderr",
     "output_type": "stream",
     "text": [
      "┌ Warning: dmrg failed to converge 1.1153711956780799e-12>1.0e-12\n",
      "└ @ MPSKitExperimental /home/maarten/projects/MPSKitExperimental.jl/src/momentumwindow/assymptotic.jl:295\n"
     ]
    },
    {
     "name": "stderr",
     "output_type": "stream",
     "text": [
      "┌ Warning: dmrg failed to converge 3.2552447103039482e-12>1.0e-12\n",
      "└ @ MPSKitExperimental /home/maarten/projects/MPSKitExperimental.jl/src/momentumwindow/assymptotic.jl:295\n"
     ]
    },
    {
     "name": "stderr",
     "output_type": "stream",
     "text": [
      "┌ Warning: dmrg failed to converge 1.0542490442944553e-11>1.0e-12\n",
      "└ @ MPSKitExperimental /home/maarten/projects/MPSKitExperimental.jl/src/momentumwindow/assymptotic.jl:295\n"
     ]
    },
    {
     "name": "stderr",
     "output_type": "stream",
     "text": [
      "┌ Warning: dmrg failed to converge 3.613866385867789e-8>1.0e-12\n",
      "└ @ MPSKitExperimental /home/maarten/projects/MPSKitExperimental.jl/src/momentumwindow/assymptotic.jl:295\n"
     ]
    },
    {
     "name": "stderr",
     "output_type": "stream",
     "text": [
      "┌ Warning: dmrg failed to converge 3.5914881835725063e-7>1.0e-12\n",
      "└ @ MPSKitExperimental /home/maarten/projects/MPSKitExperimental.jl/src/momentumwindow/assymptotic.jl:295\n"
     ]
    },
    {
     "name": "stderr",
     "output_type": "stream",
     "text": [
      "┌ Warning: dmrg failed to converge 4.5909513758823445e-8>1.0e-12\n",
      "└ @ MPSKitExperimental /home/maarten/projects/MPSKitExperimental.jl/src/momentumwindow/assymptotic.jl:295\n"
     ]
    },
    {
     "name": "stderr",
     "output_type": "stream",
     "text": [
      "┌ Warning: dmrg failed to converge 6.10440355406927e-8>1.0e-12\n",
      "└ @ MPSKitExperimental /home/maarten/projects/MPSKitExperimental.jl/src/momentumwindow/assymptotic.jl:295\n"
     ]
    },
    {
     "name": "stderr",
     "output_type": "stream",
     "text": [
      "┌ Warning: dmrg failed to converge 3.636667692990597e-7>1.0e-12\n",
      "└ @ MPSKitExperimental /home/maarten/projects/MPSKitExperimental.jl/src/momentumwindow/assymptotic.jl:295\n"
     ]
    },
    {
     "name": "stderr",
     "output_type": "stream",
     "text": [
      "┌ Warning: dmrg failed to converge 1.4714538098433497e-9>1.0e-12\n",
      "└ @ MPSKitExperimental /home/maarten/projects/MPSKitExperimental.jl/src/momentumwindow/assymptotic.jl:295\n"
     ]
    },
    {
     "name": "stderr",
     "output_type": "stream",
     "text": [
      "┌ Warning: dmrg failed to converge 1.659396280727471e-9>1.0e-12\n",
      "└ @ MPSKitExperimental /home/maarten/projects/MPSKitExperimental.jl/src/momentumwindow/assymptotic.jl:295\n"
     ]
    },
    {
     "name": "stderr",
     "output_type": "stream",
     "text": [
      "┌ Warning: dmrg failed to converge 1.35584774556187e-11>1.0e-12\n",
      "└ @ MPSKitExperimental /home/maarten/projects/MPSKitExperimental.jl/src/momentumwindow/assymptotic.jl:295\n"
     ]
    },
    {
     "name": "stderr",
     "output_type": "stream",
     "text": [
      "┌ Warning: dmrg failed to converge 1.3794043301949992e-11>1.0e-12\n",
      "└ @ MPSKitExperimental /home/maarten/projects/MPSKitExperimental.jl/src/momentumwindow/assymptotic.jl:295\n"
     ]
    },
    {
     "name": "stderr",
     "output_type": "stream",
     "text": [
      "┌ Warning: dmrg failed to converge 5.707004313893402e-11>1.0e-12\n",
      "└ @ MPSKitExperimental /home/maarten/projects/MPSKitExperimental.jl/src/momentumwindow/assymptotic.jl:295\n"
     ]
    },
    {
     "name": "stderr",
     "output_type": "stream",
     "text": [
      "┌ Warning: dmrg failed to converge 1.0614928236747564e-11>1.0e-12\n",
      "└ @ MPSKitExperimental /home/maarten/projects/MPSKitExperimental.jl/src/momentumwindow/assymptotic.jl:295\n"
     ]
    },
    {
     "name": "stderr",
     "output_type": "stream",
     "text": [
      "┌ Warning: dmrg failed to converge 2.683955066724904e-12>1.0e-12\n",
      "└ @ MPSKitExperimental /home/maarten/projects/MPSKitExperimental.jl/src/momentumwindow/assymptotic.jl:295\n"
     ]
    },
    {
     "name": "stderr",
     "output_type": "stream",
     "text": [
      "┌ Warning: dmrg failed to converge 4.039508139313265e-10>1.0e-12\n",
      "└ @ MPSKitExperimental /home/maarten/projects/MPSKitExperimental.jl/src/momentumwindow/assymptotic.jl:295\n"
     ]
    },
    {
     "name": "stderr",
     "output_type": "stream",
     "text": [
      "┌ Warning: dmrg failed to converge 4.4759663738190134e-8>1.0e-12\n",
      "└ @ MPSKitExperimental /home/maarten/projects/MPSKitExperimental.jl/src/momentumwindow/assymptotic.jl:295\n"
     ]
    },
    {
     "name": "stderr",
     "output_type": "stream",
     "text": [
      "┌ Warning: dmrg failed to converge 6.522590981929298e-8>1.0e-12\n",
      "└ @ MPSKitExperimental /home/maarten/projects/MPSKitExperimental.jl/src/momentumwindow/assymptotic.jl:295\n"
     ]
    },
    {
     "name": "stderr",
     "output_type": "stream",
     "text": [
      "┌ Warning: dmrg failed to converge 2.5047345635697503e-7>1.0e-12\n",
      "└ @ MPSKitExperimental /home/maarten/projects/MPSKitExperimental.jl/src/momentumwindow/assymptotic.jl:295\n"
     ]
    },
    {
     "name": "stderr",
     "output_type": "stream",
     "text": [
      "┌ Warning: dmrg failed to converge 4.81590404946329e-7>1.0e-12\n",
      "└ @ MPSKitExperimental /home/maarten/projects/MPSKitExperimental.jl/src/momentumwindow/assymptotic.jl:295\n"
     ]
    },
    {
     "name": "stderr",
     "output_type": "stream",
     "text": [
      "┌ Warning: dmrg failed to converge 4.2793304213368294e-7>1.0e-12\n",
      "└ @ MPSKitExperimental /home/maarten/projects/MPSKitExperimental.jl/src/momentumwindow/assymptotic.jl:295\n"
     ]
    },
    {
     "name": "stderr",
     "output_type": "stream",
     "text": [
      "┌ Warning: dmrg failed to converge 3.1518313499211237e-9>1.0e-12\n",
      "└ @ MPSKitExperimental /home/maarten/projects/MPSKitExperimental.jl/src/momentumwindow/assymptotic.jl:295\n"
     ]
    },
    {
     "name": "stderr",
     "output_type": "stream",
     "text": [
      "┌ Warning: dmrg failed to converge 8.705938265147154e-9>1.0e-12\n",
      "└ @ MPSKitExperimental /home/maarten/projects/MPSKitExperimental.jl/src/momentumwindow/assymptotic.jl:295\n"
     ]
    },
    {
     "name": "stderr",
     "output_type": "stream",
     "text": [
      "┌ Warning: dmrg failed to converge 5.04579611034727e-9>1.0e-12\n",
      "└ @ MPSKitExperimental /home/maarten/projects/MPSKitExperimental.jl/src/momentumwindow/assymptotic.jl:295\n"
     ]
    },
    {
     "name": "stderr",
     "output_type": "stream",
     "text": [
      "┌ Warning: dmrg failed to converge 5.9588908952636974e-8>1.0e-12\n",
      "└ @ MPSKitExperimental /home/maarten/projects/MPSKitExperimental.jl/src/momentumwindow/assymptotic.jl:295\n"
     ]
    },
    {
     "name": "stderr",
     "output_type": "stream",
     "text": [
      "┌ Warning: dmrg failed to converge 3.061711851294413e-8>1.0e-12\n",
      "└ @ MPSKitExperimental /home/maarten/projects/MPSKitExperimental.jl/src/momentumwindow/assymptotic.jl:295\n"
     ]
    },
    {
     "name": "stderr",
     "output_type": "stream",
     "text": [
      "┌ Warning: dmrg failed to converge 3.914051365311003e-8>1.0e-12\n",
      "└ @ MPSKitExperimental /home/maarten/projects/MPSKitExperimental.jl/src/momentumwindow/assymptotic.jl:295\n"
     ]
    },
    {
     "name": "stderr",
     "output_type": "stream",
     "text": [
      "┌ Warning: dmrg failed to converge 2.0842855207254954e-12>1.0e-12\n",
      "└ @ MPSKitExperimental /home/maarten/projects/MPSKitExperimental.jl/src/momentumwindow/assymptotic.jl:295\n"
     ]
    },
    {
     "name": "stderr",
     "output_type": "stream",
     "text": [
      "┌ Warning: dmrg failed to converge 4.821554870866382e-9>1.0e-12\n",
      "└ @ MPSKitExperimental /home/maarten/projects/MPSKitExperimental.jl/src/momentumwindow/assymptotic.jl:295\n"
     ]
    },
    {
     "name": "stderr",
     "output_type": "stream",
     "text": [
      "┌ Warning: dmrg failed to converge 9.267407543875872e-9>1.0e-12\n",
      "└ @ MPSKitExperimental /home/maarten/projects/MPSKitExperimental.jl/src/momentumwindow/assymptotic.jl:295\n"
     ]
    },
    {
     "name": "stderr",
     "output_type": "stream",
     "text": [
      "┌ Warning: dmrg failed to converge 1.2342681779270859e-6>1.0e-12\n",
      "└ @ MPSKitExperimental /home/maarten/projects/MPSKitExperimental.jl/src/momentumwindow/assymptotic.jl:295\n"
     ]
    },
    {
     "name": "stderr",
     "output_type": "stream",
     "text": [
      "┌ Warning: dmrg failed to converge 4.886467230178461e-7>1.0e-12\n",
      "└ @ MPSKitExperimental /home/maarten/projects/MPSKitExperimental.jl/src/momentumwindow/assymptotic.jl:295\n"
     ]
    },
    {
     "name": "stderr",
     "output_type": "stream",
     "text": [
      "┌ Warning: dmrg failed to converge 6.929992913797554e-9>1.0e-12\n",
      "└ @ MPSKitExperimental /home/maarten/projects/MPSKitExperimental.jl/src/momentumwindow/assymptotic.jl:295\n"
     ]
    },
    {
     "name": "stderr",
     "output_type": "stream",
     "text": [
      "┌ Warning: dmrg failed to converge 2.8320722114596196e-8>1.0e-12\n",
      "└ @ MPSKitExperimental /home/maarten/projects/MPSKitExperimental.jl/src/momentumwindow/assymptotic.jl:295\n"
     ]
    },
    {
     "name": "stderr",
     "output_type": "stream",
     "text": [
      "┌ Warning: dmrg failed to converge 5.32696005530891e-9>1.0e-12\n",
      "└ @ MPSKitExperimental /home/maarten/projects/MPSKitExperimental.jl/src/momentumwindow/assymptotic.jl:295\n"
     ]
    },
    {
     "name": "stderr",
     "output_type": "stream",
     "text": [
      "┌ Warning: dmrg failed to converge 3.922813317124436e-8>1.0e-12\n",
      "└ @ MPSKitExperimental /home/maarten/projects/MPSKitExperimental.jl/src/momentumwindow/assymptotic.jl:295\n"
     ]
    },
    {
     "name": "stderr",
     "output_type": "stream",
     "text": [
      "┌ Warning: dmrg failed to converge 4.84527834062692e-9>1.0e-12\n",
      "└ @ MPSKitExperimental /home/maarten/projects/MPSKitExperimental.jl/src/momentumwindow/assymptotic.jl:295\n"
     ]
    },
    {
     "name": "stderr",
     "output_type": "stream",
     "text": [
      "┌ Warning: dmrg failed to converge 1.4633273319160584e-7>1.0e-12\n",
      "└ @ MPSKitExperimental /home/maarten/projects/MPSKitExperimental.jl/src/momentumwindow/assymptotic.jl:295\n"
     ]
    },
    {
     "name": "stderr",
     "output_type": "stream",
     "text": [
      "┌ Warning: dmrg failed to converge 1.3092776384139369e-9>1.0e-12\n",
      "└ @ MPSKitExperimental /home/maarten/projects/MPSKitExperimental.jl/src/momentumwindow/assymptotic.jl:295\n"
     ]
    },
    {
     "name": "stderr",
     "output_type": "stream",
     "text": [
      "┌ Warning: dmrg failed to converge 1.986780881166227e-9>1.0e-12\n",
      "└ @ MPSKitExperimental /home/maarten/projects/MPSKitExperimental.jl/src/momentumwindow/assymptotic.jl:295\n"
     ]
    },
    {
     "name": "stderr",
     "output_type": "stream",
     "text": [
      "┌ Warning: dmrg failed to converge 5.384957987670217e-7>1.0e-12\n",
      "└ @ MPSKitExperimental /home/maarten/projects/MPSKitExperimental.jl/src/momentumwindow/assymptotic.jl:295\n"
     ]
    },
    {
     "name": "stderr",
     "output_type": "stream",
     "text": [
      "┌ Warning: dmrg failed to converge 5.023840034450646e-7>1.0e-12\n",
      "└ @ MPSKitExperimental /home/maarten/projects/MPSKitExperimental.jl/src/momentumwindow/assymptotic.jl:295\n"
     ]
    },
    {
     "name": "stderr",
     "output_type": "stream",
     "text": [
      "┌ Warning: dmrg failed to converge 2.4974288966713434e-8>1.0e-12\n",
      "└ @ MPSKitExperimental /home/maarten/projects/MPSKitExperimental.jl/src/momentumwindow/assymptotic.jl:295\n"
     ]
    },
    {
     "name": "stderr",
     "output_type": "stream",
     "text": [
      "┌ Warning: dmrg failed to converge 2.920538502788282e-8>1.0e-12\n",
      "└ @ MPSKitExperimental /home/maarten/projects/MPSKitExperimental.jl/src/momentumwindow/assymptotic.jl:295\n"
     ]
    },
    {
     "name": "stderr",
     "output_type": "stream",
     "text": [
      "┌ Warning: dmrg failed to converge 2.0309858530011037e-8>1.0e-12\n",
      "└ @ MPSKitExperimental /home/maarten/projects/MPSKitExperimental.jl/src/momentumwindow/assymptotic.jl:295\n"
     ]
    },
    {
     "name": "stderr",
     "output_type": "stream",
     "text": [
      "┌ Warning: dmrg failed to converge 3.5384713134409956e-9>1.0e-12\n",
      "└ @ MPSKitExperimental /home/maarten/projects/MPSKitExperimental.jl/src/momentumwindow/assymptotic.jl:295\n"
     ]
    },
    {
     "name": "stderr",
     "output_type": "stream",
     "text": [
      "┌ Warning: dmrg failed to converge 1.2796280976606121e-9>1.0e-12\n",
      "└ @ MPSKitExperimental /home/maarten/projects/MPSKitExperimental.jl/src/momentumwindow/assymptotic.jl:295\n"
     ]
    },
    {
     "name": "stderr",
     "output_type": "stream",
     "text": [
      "┌ Warning: dmrg failed to converge 1.2250219811186712e-8>1.0e-12\n",
      "└ @ MPSKitExperimental /home/maarten/projects/MPSKitExperimental.jl/src/momentumwindow/assymptotic.jl:295\n"
     ]
    },
    {
     "name": "stderr",
     "output_type": "stream",
     "text": [
      "┌ Warning: dmrg failed to converge 1.1958374768822722e-7>1.0e-12\n",
      "└ @ MPSKitExperimental /home/maarten/projects/MPSKitExperimental.jl/src/momentumwindow/assymptotic.jl:295\n"
     ]
    },
    {
     "name": "stderr",
     "output_type": "stream",
     "text": [
      "┌ Warning: dmrg failed to converge 5.2718179193634195e-11>1.0e-12\n",
      "└ @ MPSKitExperimental /home/maarten/projects/MPSKitExperimental.jl/src/momentumwindow/assymptotic.jl:295\n"
     ]
    },
    {
     "name": "stderr",
     "output_type": "stream",
     "text": [
      "┌ Warning: dmrg failed to converge 5.282982278099725e-7>1.0e-12\n",
      "└ @ MPSKitExperimental /home/maarten/projects/MPSKitExperimental.jl/src/momentumwindow/assymptotic.jl:295\n"
     ]
    },
    {
     "name": "stderr",
     "output_type": "stream",
     "text": [
      "┌ Warning: dmrg failed to converge 5.21112368275316e-7>1.0e-12\n",
      "└ @ MPSKitExperimental /home/maarten/projects/MPSKitExperimental.jl/src/momentumwindow/assymptotic.jl:295\n"
     ]
    },
    {
     "name": "stderr",
     "output_type": "stream",
     "text": [
      "┌ Warning: dmrg failed to converge 8.492166351625217e-8>1.0e-12\n",
      "└ @ MPSKitExperimental /home/maarten/projects/MPSKitExperimental.jl/src/momentumwindow/assymptotic.jl:295\n"
     ]
    },
    {
     "name": "stderr",
     "output_type": "stream",
     "text": [
      "┌ Warning: dmrg failed to converge 3.424281318937309e-8>1.0e-12\n",
      "└ @ MPSKitExperimental /home/maarten/projects/MPSKitExperimental.jl/src/momentumwindow/assymptotic.jl:295\n"
     ]
    },
    {
     "name": "stderr",
     "output_type": "stream",
     "text": [
      "┌ Warning: dmrg failed to converge 4.016789427459775e-8>1.0e-12\n",
      "└ @ MPSKitExperimental /home/maarten/projects/MPSKitExperimental.jl/src/momentumwindow/assymptotic.jl:295\n"
     ]
    },
    {
     "name": "stderr",
     "output_type": "stream",
     "text": [
      "┌ Warning: dmrg failed to converge 5.571161323245412e-9>1.0e-12\n",
      "└ @ MPSKitExperimental /home/maarten/projects/MPSKitExperimental.jl/src/momentumwindow/assymptotic.jl:295\n"
     ]
    },
    {
     "name": "stderr",
     "output_type": "stream",
     "text": [
      "┌ Warning: dmrg failed to converge 1.2166597597338675e-8>1.0e-12\n",
      "└ @ MPSKitExperimental /home/maarten/projects/MPSKitExperimental.jl/src/momentumwindow/assymptotic.jl:295\n"
     ]
    },
    {
     "name": "stderr",
     "output_type": "stream",
     "text": [
      "┌ Warning: dmrg failed to converge 1.1370846076995317e-9>1.0e-12\n",
      "└ @ MPSKitExperimental /home/maarten/projects/MPSKitExperimental.jl/src/momentumwindow/assymptotic.jl:295\n"
     ]
    },
    {
     "name": "stderr",
     "output_type": "stream",
     "text": [
      "┌ Warning: dmrg failed to converge 3.7064941665912165e-7>1.0e-12\n",
      "└ @ MPSKitExperimental /home/maarten/projects/MPSKitExperimental.jl/src/momentumwindow/assymptotic.jl:295\n"
     ]
    },
    {
     "name": "stderr",
     "output_type": "stream",
     "text": [
      "┌ Warning: dmrg failed to converge 1.7744852051998452e-12>1.0e-12\n",
      "└ @ MPSKitExperimental /home/maarten/projects/MPSKitExperimental.jl/src/momentumwindow/assymptotic.jl:295\n"
     ]
    },
    {
     "name": "stderr",
     "output_type": "stream",
     "text": [
      "┌ Warning: dmrg failed to converge 1.913870055112401e-12>1.0e-12\n",
      "└ @ MPSKitExperimental /home/maarten/projects/MPSKitExperimental.jl/src/momentumwindow/assymptotic.jl:295\n"
     ]
    },
    {
     "name": "stderr",
     "output_type": "stream",
     "text": [
      "┌ Warning: dmrg failed to converge 4.7145796357282393e-8>1.0e-12\n",
      "└ @ MPSKitExperimental /home/maarten/projects/MPSKitExperimental.jl/src/momentumwindow/assymptotic.jl:295\n"
     ]
    },
    {
     "name": "stderr",
     "output_type": "stream",
     "text": [
      "┌ Warning: dmrg failed to converge 1.905606430169376e-8>1.0e-12\n",
      "└ @ MPSKitExperimental /home/maarten/projects/MPSKitExperimental.jl/src/momentumwindow/assymptotic.jl:295\n"
     ]
    },
    {
     "name": "stderr",
     "output_type": "stream",
     "text": [
      "┌ Warning: dmrg failed to converge 2.675140345295402e-7>1.0e-12\n",
      "└ @ MPSKitExperimental /home/maarten/projects/MPSKitExperimental.jl/src/momentumwindow/assymptotic.jl:295\n"
     ]
    },
    {
     "name": "stderr",
     "output_type": "stream",
     "text": [
      "┌ Warning: dmrg failed to converge 6.578902482461174e-9>1.0e-12\n",
      "└ @ MPSKitExperimental /home/maarten/projects/MPSKitExperimental.jl/src/momentumwindow/assymptotic.jl:295\n"
     ]
    }
   ],
   "source": [
    "tKs = fill(0.0,length(Bs),length(Bs))\n",
    "dKs = fill(0.0,length(Bs),length(Bs))\n",
    "tEs = fill(0.0,length(Bs),length(Bs))\n",
    "Ss = fill(0.0+0im,length(Bs),length(Bs))\n",
    "\n",
    "for i in 1:length(Bs), j in i:length(Bs)\n",
    "    cur_S = scatter_workflow(Bs[i],Bs[j],Es[i]+Es[j])\n",
    "    tEs[i,j] = real(Es[i]+Es[j])\n",
    "    tEs[j,i] = real(Es[i]+Es[j])\n",
    "    tKs[i,j] = Bs[i].momentum+Bs[j].momentum\n",
    "    tKs[j,i] = Bs[i].momentum+Bs[j].momentum\n",
    "    dKs[i,j] = Bs[i].momentum-Bs[j].momentum\n",
    "    dKs[j,i] = Bs[j].momentum-Bs[i].momentum\n",
    "    Ss[i,j] = cur_S\n",
    "    Ss[j,i] = 1/cur_S\n",
    "end"
   ]
  },
  {
   "cell_type": "code",
   "execution_count": null,
   "metadata": {},
   "outputs": [],
   "source": [
    "[tEs[1,11],tEs[2,10],tEs[3,9],tEs[4,8],tEs[5,7],tEs[6,6],tEs[7,5],tEs[8,4],tEs[9,3],tEs[10,2],tEs[11,1]]\n",
    "plot(angle.([Ss[1,11],Ss[2,10],Ss[3,9],Ss[4,8],Ss[5,7],Ss[6,6],Ss[7,5],Ss[8,4],Ss[9,3],Ss[10,2],Ss[11,1]]))"
   ]
  },
  {
   "cell_type": "code",
   "execution_count": null,
   "metadata": {},
   "outputs": [],
   "source": [
    "minimum(real.(Es))"
   ]
  },
  {
   "cell_type": "code",
   "execution_count": 61,
   "metadata": {},
   "outputs": [],
   "source": []
  },
  {
   "cell_type": "code",
   "execution_count": 62,
   "metadata": {},
   "outputs": [],
   "source": []
  },
  {
   "cell_type": "code",
   "execution_count": null,
   "metadata": {},
   "outputs": [],
   "source": []
  }
 ],
 "metadata": {
  "kernelspec": {
   "display_name": "Julia 1.9.4",
   "language": "julia",
   "name": "julia-1.9"
  },
  "language_info": {
   "file_extension": ".jl",
   "mimetype": "application/julia",
   "name": "julia",
   "version": "1.9.4"
  }
 },
 "nbformat": 4,
 "nbformat_minor": 2
}
