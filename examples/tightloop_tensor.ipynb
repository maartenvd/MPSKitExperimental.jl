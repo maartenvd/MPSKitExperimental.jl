{
 "cells": [
  {
   "cell_type": "markdown",
   "metadata": {},
   "source": [
    "Rough sketch of a proposal\n",
    "\n",
    "- probably wrong for conjugate\n",
    "- only optimized allocations and contract! (tensoradd! and tensortrace! were not modified)\n",
    "- probably fails for non-symmetric tensormaps"
   ]
  },
  {
   "cell_type": "code",
   "execution_count": 1,
   "metadata": {},
   "outputs": [],
   "source": [
    "using Revise, TensorKit, TensorOperations, BenchmarkTools, Strided, TupleTools, AllocationKit, MPSKitExperimental"
   ]
  },
  {
   "cell_type": "code",
   "execution_count": 2,
   "metadata": {},
   "outputs": [
    {
     "data": {
      "text/plain": [
       "1"
      ]
     },
     "metadata": {},
     "output_type": "display_data"
    }
   ],
   "source": [
    "import LinearAlgebra\n",
    "LinearAlgebra.BLAS.set_num_threads(1)\n",
    "Strided.set_num_threads(1)"
   ]
  },
  {
   "cell_type": "code",
   "execution_count": 3,
   "metadata": {},
   "outputs": [
    {
     "data": {
      "text/plain": [
       "8"
      ]
     },
     "metadata": {},
     "output_type": "display_data"
    }
   ],
   "source": [
    "using Base.Threads\n",
    "nthreads()"
   ]
  },
  {
   "cell_type": "markdown",
   "metadata": {},
   "source": [
    "# practical benchmarks"
   ]
  },
  {
   "cell_type": "code",
   "execution_count": 4,
   "metadata": {},
   "outputs": [
    {
     "name": "stdout",
     "output_type": "stream",
     "text": [
      "(ex.head, ex.args) = (:call, Any[:(TensorOperations.promote_contract), :(TensorOperations.scalartype(le)), :(TensorOperations.scalartype(x))])\n",
      "(ex.head, ex.args) = (:call, Any[:(TensorOperations.promote_contract), :(TensorOperations.scalartype(var\"####y_A#292_A#293\")), :(TensorOperations.scalartype(O))])\n",
      "(ex.head, ex.args) = (:call, Any[:(TensorOperations.tensorfree!), Symbol(\"####y_A#292_A#293\")])\n",
      "(ex.head, ex.args) = (:call, Any[:(TensorOperations.promote_contract), :(TensorOperations.scalartype(var\"##y_A#292\")), :(TensorOperations.scalartype(re))])\n",
      "(ex.head, ex.args) = (:call, Any[:(TensorOperations.tensorfree!), Symbol(\"##y_A#292\")])\n",
      "(ex.head, ex.args) = (:call, Any[:(TensorOperations.promote_contract), :(TensorOperations.scalartype(le)), :(TensorOperations.scalartype(x))])\n",
      "(ex.head, ex.args) = (:call, Any[:(TensorOperations.promote_contract), :(TensorOperations.scalartype(var\"####y_A#310_A#311\")), :(TensorOperations.scalartype(O))])\n",
      "(ex.head, ex.args) = (:call, Any[:(TensorOperations.tensorfree!), Symbol(\"####y_A#310_A#311\"), TensorOperations.Backend{:malloc}()])\n",
      "(ex.head, ex.args) = (:call, Any[:(TensorOperations.promote_contract), :(TensorOperations.scalartype(var\"##y_A#310\")), :(TensorOperations.scalartype(re))])\n",
      "(ex.head, ex.args) = (:call, Any[:(TensorOperations.tensorfree!), Symbol(\"##y_A#310\"), TensorOperations.Backend{:malloc}()])\n"
     ]
    }
   ],
   "source": [
    "@tightloop_tensor ac_eff y[-1 -2;-3] := le[-1 2;1]*O[2 -2;3 4]*x[1 3;5]*re[5 4;-3]\n",
    "@tightloop_tensor ac_eff_malloc allocator=malloc y[-1 -2;-3] := le[-1 2;1]*O[2 -2;3 4]*x[1 3;5]*re[5 4;-3]"
   ]
  },
  {
   "cell_type": "code",
   "execution_count": null,
   "metadata": {},
   "outputs": [],
   "source": []
  },
  {
   "cell_type": "code",
   "execution_count": 7,
   "metadata": {},
   "outputs": [
    {
     "name": "stdout",
     "output_type": "stream",
     "text": [
      "(ex.head, ex.args) = (:tuple, Any[Symbol(\"##354\"), Symbol(\"##355\")])\n",
      "(ex.head, ex.args) = (:tuple, Any[:(numout(le)), :(numin(le))])\n",
      "(ex.head, ex.args) = (:||, Any[:(numout(le) == 2 && (TensorKit.numin)(le) == 1), :(throw(TensorOperations.IndexError(\"incorrect number of input-output indices: (2, 1) instead of \" * string((var\"##354\", var\"##355\")) * \" for le.\")))])\n",
      "(ex.head, ex.args) = (:tuple, Any[Symbol(\"##356\"), Symbol(\"##357\")])\n",
      "(ex.head, ex.args) = (:tuple, Any[:(numout(O)), :(numin(O))])\n",
      "(ex.head, ex.args) = (:||, Any[:(numout(O) == 2 && (TensorKit.numin)(O) == 2), :(throw(TensorOperations.IndexError(\"incorrect number of input-output indices: (2, 2) instead of \" * string((var\"##356\", var\"##357\")) * \" for O.\")))])\n",
      "(ex.head, ex.args) = (:tuple, Any[Symbol(\"##358\"), Symbol(\"##359\")])\n",
      "(ex.head, ex.args) = (:tuple, Any[:(numout(x)), :(numin(x))])\n",
      "(ex.head, ex.args) = (:||, Any[:(numout(x) == 2 && (TensorKit.numin)(x) == 1), :(throw(TensorOperations.IndexError(\"incorrect number of input-output indices: (2, 1) instead of \" * string((var\"##358\", var\"##359\")) * \" for x.\")))])\n",
      "(ex.head, ex.args) = (:tuple, Any[Symbol(\"##360\"), Symbol(\"##361\")])\n",
      "(ex.head, ex.args) = (:tuple, Any[:(numout(re)), :(numin(re))])\n",
      "(ex.head, ex.args) = (:||, Any[:(numout(re) == 2 && (TensorKit.numin)(re) == 1), :(throw(TensorOperations.IndexError(\"incorrect number of input-output indices: (2, 1) instead of \" * string((var\"##360\", var\"##361\")) * \" for re.\")))])\n",
      "(ex.head, ex.args) = (:call, Any[:(TensorOperations.promote_contract), :(TensorOperations.scalartype(le)), :(TensorOperations.scalartype(x))])\n",
      "(ex.head, ex.args) = (:call, Any[:(TensorOperations.promote_contract), :(TensorOperations.scalartype(var\"##362\")), :(TensorOperations.scalartype(O))])\n",
      "(ex.head, ex.args) = (:call, Any[:(TensorOperations.tensorfree!), Symbol(\"##362\")])\n",
      "(ex.head, ex.args) = (:call, Any[:(TensorOperations.promote_contract), :(TensorOperations.scalartype(var\"##363\")), :(TensorOperations.scalartype(re))])\n",
      "(ex.head, ex.args) = (:call, Any[:(TensorOperations.tensorfree!), Symbol(\"##363\")])\n"
     ]
    }
   ],
   "source": [
    "@tightloop_planar tac_eff y[-1 -2;-3] := le[-1 2;1]*O[2 -2;3 4]*x[1 3;5]*re[5 4;-3]"
   ]
  },
  {
   "cell_type": "code",
   "execution_count": 39,
   "metadata": {},
   "outputs": [],
   "source": [
    "@planar y[-1 -2;-3] := t_le[-1 2;1]*t_o[2 -2;3 4]*t_ac[1 3;5]*t_re[5 4;-3];"
   ]
  },
  {
   "cell_type": "code",
   "execution_count": 33,
   "metadata": {},
   "outputs": [],
   "source": [
    "virtspace = Rep[SU₂](i => 20 for i in 0:10);\n",
    "ospace = Rep[SU₂](0 => 5,1 => 2);\n",
    "pspace = Rep[SU₂](1 => 1);\n",
    "\n",
    "t_le = TensorMap(rand,ComplexF64,virtspace*ospace',virtspace);\n",
    "t_re = TensorMap(rand,ComplexF64,virtspace*ospace,virtspace);\n",
    "t_ac = TensorMap(rand,ComplexF64,virtspace*pspace,virtspace);\n",
    "t_o = TensorMap(rand,ComplexF64,ospace*pspace,pspace*ospace);\n",
    "\n",
    "factory = tac_eff(le = (typeof(t_le),space(t_le)),re = (typeof(t_re),space(t_re)),O = (typeof(t_o),space(t_o)),x = (typeof(t_ac),space(t_ac)));"
   ]
  },
  {
   "cell_type": "code",
   "execution_count": 41,
   "metadata": {},
   "outputs": [
    {
     "data": {
      "text/plain": [
       "1.1559567890249869e-9"
      ]
     },
     "metadata": {},
     "output_type": "display_data"
    }
   ],
   "source": [
    "norm(factory(le = t_le, re=t_re, x = t_ac, O = t_o)-y)"
   ]
  },
  {
   "cell_type": "code",
   "execution_count": 35,
   "metadata": {},
   "outputs": [],
   "source": [
    "virtspace = Rep[SU₂](i => 20 for i in 0:10);\n",
    "ospace = Rep[SU₂](0 => 5,1 => 2);\n",
    "pspace = Rep[SU₂](1 => 1);\n",
    "\n",
    "t_le = TensorMap(rand,ComplexF64,virtspace*ospace',virtspace);\n",
    "t_re = TensorMap(rand,ComplexF64,virtspace*ospace,virtspace);\n",
    "t_ac = TensorMap(rand,ComplexF64,virtspace*pspace,virtspace);\n",
    "t_o = TensorMap(rand,ComplexF64,ospace*pspace,pspace*ospace);\n",
    "\n",
    "factory = ac_eff(le = (typeof(t_le),space(t_le)),re = (typeof(t_re),space(t_re)),O = (typeof(t_o),space(t_o)),x = (typeof(t_ac),space(t_ac)));\n",
    "factory_malloc = ac_eff_malloc(le = (typeof(t_le),space(t_le)),re = (typeof(t_re),space(t_re)),O = (typeof(t_o),space(t_o)),x = (typeof(t_ac),space(t_ac)));"
   ]
  },
  {
   "cell_type": "code",
   "execution_count": 36,
   "metadata": {},
   "outputs": [],
   "source": [
    "factory(le = t_le, re=t_re, x = t_ac, O = t_o);"
   ]
  },
  {
   "cell_type": "code",
   "execution_count": 37,
   "metadata": {},
   "outputs": [
    {
     "data": {
      "text/plain": [
       "BenchmarkTools.Trial: 2114 samples with 1 evaluation.\n",
       " Range \u001b[90m(\u001b[39m\u001b[36m\u001b[1mmin\u001b[22m\u001b[39m … \u001b[35mmax\u001b[39m\u001b[90m):  \u001b[39m\u001b[36m\u001b[1m1.973 ms\u001b[22m\u001b[39m … \u001b[35m  8.399 ms\u001b[39m  \u001b[90m┊\u001b[39m GC \u001b[90m(\u001b[39mmin … max\u001b[90m): \u001b[39m0.00% … 61.57%\n",
       " Time  \u001b[90m(\u001b[39m\u001b[34m\u001b[1mmedian\u001b[22m\u001b[39m\u001b[90m):     \u001b[39m\u001b[34m\u001b[1m2.245 ms               \u001b[22m\u001b[39m\u001b[90m┊\u001b[39m GC \u001b[90m(\u001b[39mmedian\u001b[90m):    \u001b[39m0.00%\n",
       " Time  \u001b[90m(\u001b[39m\u001b[32m\u001b[1mmean\u001b[22m\u001b[39m ± \u001b[32mσ\u001b[39m\u001b[90m):   \u001b[39m\u001b[32m\u001b[1m2.338 ms\u001b[22m\u001b[39m ± \u001b[32m594.143 μs\u001b[39m  \u001b[90m┊\u001b[39m GC \u001b[90m(\u001b[39mmean ± σ\u001b[90m):  \u001b[39m2.17% ±  6.42%\n",
       "\n",
       "  \u001b[39m▁\u001b[39m█\u001b[39m▅\u001b[34m▃\u001b[39m\u001b[32m▄\u001b[39m\u001b[39m \u001b[39m \u001b[39m \u001b[39m \u001b[39m \u001b[39m \u001b[39m \u001b[39m \u001b[39m \u001b[39m \u001b[39m \u001b[39m \u001b[39m \u001b[39m \u001b[39m \u001b[39m \u001b[39m \u001b[39m \u001b[39m \u001b[39m \u001b[39m \u001b[39m \u001b[39m \u001b[39m \u001b[39m \u001b[39m \u001b[39m \u001b[39m \u001b[39m \u001b[39m \u001b[39m \u001b[39m \u001b[39m \u001b[39m \u001b[39m \u001b[39m \u001b[39m \u001b[39m \u001b[39m \u001b[39m \u001b[39m \u001b[39m \u001b[39m \u001b[39m \u001b[39m \u001b[39m \u001b[39m \u001b[39m \u001b[39m \u001b[39m \u001b[39m \u001b[39m \u001b[39m \u001b[39m \u001b[39m \u001b[39m \n",
       "  \u001b[39m█\u001b[39m█\u001b[39m█\u001b[34m█\u001b[39m\u001b[32m█\u001b[39m\u001b[39m█\u001b[39m▆\u001b[39m▄\u001b[39m▃\u001b[39m▂\u001b[39m▃\u001b[39m▂\u001b[39m▂\u001b[39m▂\u001b[39m▂\u001b[39m▂\u001b[39m▂\u001b[39m▂\u001b[39m▂\u001b[39m▁\u001b[39m▂\u001b[39m▁\u001b[39m▂\u001b[39m▁\u001b[39m▂\u001b[39m▁\u001b[39m▁\u001b[39m▁\u001b[39m▁\u001b[39m▁\u001b[39m▁\u001b[39m▁\u001b[39m▁\u001b[39m▁\u001b[39m▁\u001b[39m▁\u001b[39m▁\u001b[39m▁\u001b[39m▁\u001b[39m▁\u001b[39m▁\u001b[39m▁\u001b[39m▁\u001b[39m▁\u001b[39m▁\u001b[39m▁\u001b[39m▁\u001b[39m▁\u001b[39m▁\u001b[39m▁\u001b[39m▁\u001b[39m▁\u001b[39m▁\u001b[39m▁\u001b[39m▁\u001b[39m▁\u001b[39m▁\u001b[39m▁\u001b[39m▂\u001b[39m \u001b[39m▃\n",
       "  1.97 ms\u001b[90m         Histogram: frequency by time\u001b[39m        7.12 ms \u001b[0m\u001b[1m<\u001b[22m\n",
       "\n",
       " Memory estimate\u001b[90m: \u001b[39m\u001b[33m476.48 KiB\u001b[39m, allocs estimate\u001b[90m: \u001b[39m\u001b[33m3429\u001b[39m."
      ]
     },
     "metadata": {},
     "output_type": "display_data"
    }
   ],
   "source": [
    "@benchmark $factory_malloc(le = $t_le, re=$t_re, x = $t_ac, O = $t_o)"
   ]
  },
  {
   "cell_type": "code",
   "execution_count": 38,
   "metadata": {},
   "outputs": [
    {
     "data": {
      "text/plain": [
       "BenchmarkTools.Trial: 1358 samples with 1 evaluation.\n",
       " Range \u001b[90m(\u001b[39m\u001b[36m\u001b[1mmin\u001b[22m\u001b[39m … \u001b[35mmax\u001b[39m\u001b[90m):  \u001b[39m\u001b[36m\u001b[1m2.566 ms\u001b[22m\u001b[39m … \u001b[35m9.936 ms\u001b[39m  \u001b[90m┊\u001b[39m GC \u001b[90m(\u001b[39mmin … max\u001b[90m): \u001b[39m 0.00% … 47.18%\n",
       " Time  \u001b[90m(\u001b[39m\u001b[34m\u001b[1mmedian\u001b[22m\u001b[39m\u001b[90m):     \u001b[39m\u001b[34m\u001b[1m2.870 ms             \u001b[22m\u001b[39m\u001b[90m┊\u001b[39m GC \u001b[90m(\u001b[39mmedian\u001b[90m):    \u001b[39m 0.00%\n",
       " Time  \u001b[90m(\u001b[39m\u001b[32m\u001b[1mmean\u001b[22m\u001b[39m ± \u001b[32mσ\u001b[39m\u001b[90m):   \u001b[39m\u001b[32m\u001b[1m3.646 ms\u001b[22m\u001b[39m ± \u001b[32m1.562 ms\u001b[39m  \u001b[90m┊\u001b[39m GC \u001b[90m(\u001b[39mmean ± σ\u001b[90m):  \u001b[39m17.96% ± 19.90%\n",
       "\n",
       "  \u001b[39m▅\u001b[39m█\u001b[39m█\u001b[34m▇\u001b[39m\u001b[39m▆\u001b[39m▄\u001b[39m▂\u001b[39m▂\u001b[39m▂\u001b[39m▁\u001b[39m \u001b[39m \u001b[32m \u001b[39m\u001b[39m \u001b[39m \u001b[39m \u001b[39m \u001b[39m \u001b[39m \u001b[39m \u001b[39m \u001b[39m \u001b[39m \u001b[39m \u001b[39m \u001b[39m \u001b[39m \u001b[39m \u001b[39m \u001b[39m \u001b[39m \u001b[39m \u001b[39m \u001b[39m \u001b[39m \u001b[39m \u001b[39m \u001b[39m \u001b[39m \u001b[39m \u001b[39m▂\u001b[39m▂\u001b[39m▂\u001b[39m▃\u001b[39m▃\u001b[39m▁\u001b[39m▂\u001b[39m \u001b[39m \u001b[39m \u001b[39m \u001b[39m \u001b[39m \u001b[39m \u001b[39m \u001b[39m \u001b[39m \u001b[39m \u001b[39m▁\n",
       "  \u001b[39m█\u001b[39m█\u001b[39m█\u001b[34m█\u001b[39m\u001b[39m█\u001b[39m█\u001b[39m█\u001b[39m█\u001b[39m█\u001b[39m█\u001b[39m█\u001b[39m█\u001b[32m▆\u001b[39m\u001b[39m▇\u001b[39m▇\u001b[39m▄\u001b[39m▅\u001b[39m▆\u001b[39m▇\u001b[39m▄\u001b[39m▁\u001b[39m▅\u001b[39m▁\u001b[39m▁\u001b[39m▁\u001b[39m▅\u001b[39m▁\u001b[39m▁\u001b[39m▁\u001b[39m▁\u001b[39m▄\u001b[39m▁\u001b[39m▁\u001b[39m▁\u001b[39m▁\u001b[39m▁\u001b[39m▁\u001b[39m▁\u001b[39m▅\u001b[39m▇\u001b[39m█\u001b[39m█\u001b[39m█\u001b[39m█\u001b[39m█\u001b[39m█\u001b[39m█\u001b[39m█\u001b[39m█\u001b[39m█\u001b[39m▇\u001b[39m█\u001b[39m▇\u001b[39m▅\u001b[39m▅\u001b[39m▅\u001b[39m▅\u001b[39m \u001b[39m█\n",
       "  2.57 ms\u001b[90m     \u001b[39m\u001b[90mHistogram: \u001b[39m\u001b[90m\u001b[1mlog(\u001b[22m\u001b[39m\u001b[90mfrequency\u001b[39m\u001b[90m\u001b[1m)\u001b[22m\u001b[39m\u001b[90m by time\u001b[39m     7.72 ms \u001b[0m\u001b[1m<\u001b[22m\n",
       "\n",
       " Memory estimate\u001b[90m: \u001b[39m\u001b[33m8.56 MiB\u001b[39m, allocs estimate\u001b[90m: \u001b[39m\u001b[33m3422\u001b[39m."
      ]
     },
     "metadata": {},
     "output_type": "display_data"
    }
   ],
   "source": [
    "@benchmark $factory(le = $t_le, re=$t_re, x = $t_ac, O = $t_o)"
   ]
  },
  {
   "cell_type": "code",
   "execution_count": 14,
   "metadata": {},
   "outputs": [
    {
     "data": {
      "text/plain": [
       "BenchmarkTools.Trial: 1015 samples with 1 evaluation.\n",
       " Range \u001b[90m(\u001b[39m\u001b[36m\u001b[1mmin\u001b[22m\u001b[39m … \u001b[35mmax\u001b[39m\u001b[90m):  \u001b[39m\u001b[36m\u001b[1m3.356 ms\u001b[22m\u001b[39m … \u001b[35m9.390 ms\u001b[39m  \u001b[90m┊\u001b[39m GC \u001b[90m(\u001b[39mmin … max\u001b[90m): \u001b[39m 0.00% … 35.75%\n",
       " Time  \u001b[90m(\u001b[39m\u001b[34m\u001b[1mmedian\u001b[22m\u001b[39m\u001b[90m):     \u001b[39m\u001b[34m\u001b[1m3.894 ms             \u001b[22m\u001b[39m\u001b[90m┊\u001b[39m GC \u001b[90m(\u001b[39mmedian\u001b[90m):    \u001b[39m 0.00%\n",
       " Time  \u001b[90m(\u001b[39m\u001b[32m\u001b[1mmean\u001b[22m\u001b[39m ± \u001b[32mσ\u001b[39m\u001b[90m):   \u001b[39m\u001b[32m\u001b[1m4.891 ms\u001b[22m\u001b[39m ± \u001b[32m1.691 ms\u001b[39m  \u001b[90m┊\u001b[39m GC \u001b[90m(\u001b[39mmean ± σ\u001b[90m):  \u001b[39m18.21% ± 18.93%\n",
       "\n",
       "  \u001b[39m \u001b[39m▃\u001b[39m█\u001b[39m▆\u001b[39m▅\u001b[39m▃\u001b[34m▂\u001b[39m\u001b[39m \u001b[39m \u001b[39m \u001b[39m \u001b[39m \u001b[39m \u001b[39m \u001b[39m \u001b[39m \u001b[39m \u001b[39m \u001b[32m \u001b[39m\u001b[39m \u001b[39m \u001b[39m \u001b[39m \u001b[39m \u001b[39m \u001b[39m \u001b[39m \u001b[39m \u001b[39m \u001b[39m \u001b[39m \u001b[39m \u001b[39m \u001b[39m \u001b[39m \u001b[39m \u001b[39m \u001b[39m \u001b[39m \u001b[39m \u001b[39m \u001b[39m \u001b[39m \u001b[39m \u001b[39m \u001b[39m \u001b[39m \u001b[39m \u001b[39m \u001b[39m \u001b[39m \u001b[39m \u001b[39m \u001b[39m \u001b[39m \u001b[39m \u001b[39m \u001b[39m \u001b[39m \n",
       "  \u001b[39m▆\u001b[39m█\u001b[39m█\u001b[39m█\u001b[39m█\u001b[39m█\u001b[34m█\u001b[39m\u001b[39m▆\u001b[39m▅\u001b[39m▃\u001b[39m▃\u001b[39m▃\u001b[39m▃\u001b[39m▄\u001b[39m▃\u001b[39m▃\u001b[39m▃\u001b[39m▃\u001b[32m▃\u001b[39m\u001b[39m▃\u001b[39m▃\u001b[39m▂\u001b[39m▂\u001b[39m▁\u001b[39m▁\u001b[39m▂\u001b[39m▁\u001b[39m▁\u001b[39m▁\u001b[39m▁\u001b[39m▂\u001b[39m▁\u001b[39m▁\u001b[39m▁\u001b[39m▁\u001b[39m▁\u001b[39m▁\u001b[39m▁\u001b[39m▂\u001b[39m▃\u001b[39m▂\u001b[39m▃\u001b[39m▃\u001b[39m▅\u001b[39m▄\u001b[39m▆\u001b[39m▆\u001b[39m▆\u001b[39m▆\u001b[39m▄\u001b[39m▄\u001b[39m▅\u001b[39m▃\u001b[39m▃\u001b[39m▃\u001b[39m▂\u001b[39m▃\u001b[39m \u001b[39m▃\n",
       "  3.36 ms\u001b[90m        Histogram: frequency by time\u001b[39m       8.25 ms \u001b[0m\u001b[1m<\u001b[22m\n",
       "\n",
       " Memory estimate\u001b[90m: \u001b[39m\u001b[33m12.65 MiB\u001b[39m, allocs estimate\u001b[90m: \u001b[39m\u001b[33m5093\u001b[39m."
      ]
     },
     "metadata": {},
     "output_type": "display_data"
    }
   ],
   "source": [
    "@benchmark $factory(le = $t_le, re=$t_re, x = $t_ac, O = $t_o)"
   ]
  },
  {
   "cell_type": "code",
   "execution_count": null,
   "metadata": {},
   "outputs": [],
   "source": [
    "function slowcontract(;le=nothing,re=nothing,x=nothing,O=nothing)\n",
    "    @tensor y[-1 -2;-3] := le[-1 2;1]*O[2 -2;3 4]*x[1 3;5]*re[5 4;-3]\n",
    "end\n",
    "@benchmark slowcontract(le = $t_le, re=$t_re, x = $t_ac, O = $t_o)"
   ]
  },
  {
   "cell_type": "code",
   "execution_count": null,
   "metadata": {},
   "outputs": [],
   "source": [
    "norm(slowcontract(le = t_le, re=t_re, x = t_ac, O = t_o)- factory(le = t_le, re=t_re, x = t_ac, O = t_o))"
   ]
  },
  {
   "cell_type": "code",
   "execution_count": null,
   "metadata": {},
   "outputs": [],
   "source": [
    "virtspace = Rep[SU₂×U₁×ℤ₂]((i,j,b) => 10 for i in 0:5,j in -3:3,b in 0:1);\n",
    "ospace = Rep[SU₂×U₁×ℤ₂]((i,j,b) => 2 for i in 0:1,j in -1:1,b in 0:1);\n",
    "pspace = Rep[SU₂×U₁×ℤ₂]((i,j,b) => 1 for i in 1:1,j in 0:0,b in 0:0);\n",
    "\n",
    "t_le = TensorMap(rand,ComplexF64,virtspace*ospace',virtspace);\n",
    "t_re = TensorMap(rand,ComplexF64,virtspace*ospace,virtspace);\n",
    "t_ac = TensorMap(rand,ComplexF64,virtspace*pspace,virtspace);\n",
    "t_o = TensorMap(rand,ComplexF64,ospace*pspace,pspace*ospace);\n",
    "\n",
    "factory = ac_eff(le = (typeof(t_le),space(t_le)),re = (typeof(t_re),space(t_re)),O = (typeof(t_o),space(t_o)),x = (typeof(t_ac),space(t_ac)))"
   ]
  },
  {
   "cell_type": "code",
   "execution_count": null,
   "metadata": {},
   "outputs": [],
   "source": [
    "@benchmark $factory(le = $t_le, re=$t_re, x = $t_ac, O = $t_o)"
   ]
  },
  {
   "cell_type": "code",
   "execution_count": null,
   "metadata": {},
   "outputs": [],
   "source": [
    "@benchmark slowcontract(le = $t_le, re=$t_re, x = $t_ac, O = $t_o)"
   ]
  },
  {
   "cell_type": "code",
   "execution_count": null,
   "metadata": {},
   "outputs": [],
   "source": [
    "norm(slowcontract(le = t_le, re=t_re, x = t_ac, O = t_o)- factory(le = t_le, re=t_re, x = t_ac, O = t_o))"
   ]
  },
  {
   "cell_type": "markdown",
   "metadata": {},
   "source": [
    "# multithreaded benchmark\n",
    "\n",
    "gc becomes a severe bottleneck with many julia threads"
   ]
  },
  {
   "cell_type": "code",
   "execution_count": null,
   "metadata": {},
   "outputs": [],
   "source": [
    "virtspace = Rep[SU₂](0=>50, 1=> 30, 2=> 20, 3=>10, 4=> 5);\n",
    "ospace = Rep[SU₂](0=>2, 1 => 2);\n",
    "pspace = Rep[SU₂](1 => 1);\n"
   ]
  },
  {
   "cell_type": "code",
   "execution_count": null,
   "metadata": {},
   "outputs": [],
   "source": [
    "numblocks = 1;\n",
    "const leftenvs = [TensorMap(rand,ComplexF64,virtspace*ospace',virtspace) for i in 1:numblocks];\n",
    "const rightenvs = [TensorMap(rand,ComplexF64,virtspace*ospace,virtspace) for i in 1:numblocks];\n",
    "const mpos = [TensorMap(rand,ComplexF64,ospace*pspace,pspace*ospace) for i in 1:numblocks];\n",
    "\n",
    "ac = TensorMap(rand,ComplexF64,virtspace*pspace,virtspace);"
   ]
  },
  {
   "cell_type": "code",
   "execution_count": null,
   "metadata": {},
   "outputs": [],
   "source": [
    "using FLoops\n",
    "\n",
    "t_le = leftenvs[1]\n",
    "t_re = rightenvs[1]\n",
    "t_o = mpos[1]\n",
    "\n",
    "const fast_factory = ac_eff_malloc(le = (typeof(t_le),space(t_le)),re = (typeof(t_re),space(t_re)),O = (typeof(t_o),space(t_o)),x = (typeof(ac),space(ac)))\n",
    "\n",
    "function fastfun(x)\n",
    "    @floop for (l,m,r) in zip(leftenvs,mpos,rightenvs)\n",
    "        y = fast_factory(le = l,re = r, O = m, x = x)\n",
    "        @reduce s += y\n",
    "    end\n",
    "    s\n",
    "end\n",
    "\n",
    "function slowfun(x)\n",
    "    @floop for (le,O,re) in zip(leftenvs,mpos,rightenvs)\n",
    "        @tensor y[-1 -2;-3] := le[-1 2;1]*O[2 -2;3 4]*x[1 3;5]*re[5 4;-3]\n",
    "        @reduce s += y\n",
    "    end\n",
    "    s\n",
    "end"
   ]
  },
  {
   "cell_type": "code",
   "execution_count": null,
   "metadata": {},
   "outputs": [],
   "source": [
    "@benchmark fastfun(ac)"
   ]
  },
  {
   "cell_type": "code",
   "execution_count": null,
   "metadata": {},
   "outputs": [],
   "source": [
    "@benchmark slowfun(ac)"
   ]
  },
  {
   "cell_type": "code",
   "execution_count": null,
   "metadata": {},
   "outputs": [],
   "source": [
    "using Profile\n",
    "Profile.clear()\n",
    "@profile fast_factory(le = t_le,re = t_re, O = t_o, x = ac)"
   ]
  },
  {
   "cell_type": "code",
   "execution_count": null,
   "metadata": {},
   "outputs": [],
   "source": [
    "using ProfileVega\n",
    "ProfileVega.view()"
   ]
  },
  {
   "cell_type": "code",
   "execution_count": null,
   "metadata": {},
   "outputs": [],
   "source": []
  }
 ],
 "metadata": {
  "kernelspec": {
   "display_name": "Julia 1.9.4",
   "language": "julia",
   "name": "julia-1.9"
  },
  "language_info": {
   "file_extension": ".jl",
   "mimetype": "application/julia",
   "name": "julia",
   "version": "1.9.4"
  }
 },
 "nbformat": 4,
 "nbformat_minor": 2
}
