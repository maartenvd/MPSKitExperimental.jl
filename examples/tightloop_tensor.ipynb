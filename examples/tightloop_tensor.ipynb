{
 "cells": [
  {
   "cell_type": "markdown",
   "metadata": {},
   "source": [
    "Rough sketch of a proposal"
   ]
  },
  {
   "cell_type": "code",
   "execution_count": 1,
   "metadata": {},
   "outputs": [],
   "source": [
    "using TensorKit, TensorOperations, BenchmarkTools, Strided "
   ]
  },
  {
   "cell_type": "code",
   "execution_count": 2,
   "metadata": {},
   "outputs": [
    {
     "data": {
      "text/plain": [
       "1"
      ]
     },
     "metadata": {},
     "output_type": "display_data"
    }
   ],
   "source": [
    "using LinearAlgebra\n",
    "BLAS.set_num_threads(1)\n",
    "Strided.set_num_threads(1)"
   ]
  },
  {
   "cell_type": "code",
   "execution_count": 3,
   "metadata": {},
   "outputs": [
    {
     "data": {
      "text/plain": [
       "1"
      ]
     },
     "metadata": {},
     "output_type": "display_data"
    }
   ],
   "source": [
    "using Base.Threads\n",
    "nthreads()"
   ]
  },
  {
   "cell_type": "code",
   "execution_count": 4,
   "metadata": {},
   "outputs": [],
   "source": [
    "# I didn't want to parse the generated @tensor code again, so I want to simply run the tensor contraction code and record which contractions/additions/... are being done.\n",
    "# For this, I used a \"symbolictensormap\" that keeps track of its structure and type\n",
    "\n",
    "struct SymbolicTensorMap{A,B}\n",
    "    structure::B\n",
    "    SymbolicTensorMap(a,b) = new{a,typeof(b)}(b)\n",
    "end\n",
    "ttype(d::SymbolicTensorMap{A,B}) where {A,B} = A\n",
    "\n",
    "TensorOperations.scalartype(a::SymbolicTensorMap) = TensorOperations.scalartype(ttype(a))"
   ]
  },
  {
   "cell_type": "code",
   "execution_count": 5,
   "metadata": {},
   "outputs": [
    {
     "data": {
      "text/plain": [
       "fast_init (generic function with 1 method)"
      ]
     },
     "metadata": {},
     "output_type": "display_data"
    }
   ],
   "source": [
    "function fast_init(codom::ProductSpace{S,N₁},\n",
    "    dom::ProductSpace{S,N₂},A) where {S<:IndexSpace,N₁,N₂}\n",
    "\n",
    "    I = sectortype(S)\n",
    "    if I == Trivial\n",
    "        d1 = dim(codom)\n",
    "        d2 = dim(dom)\n",
    "\n",
    "        return function init_trivial()\n",
    "            data = initializer(undef,(d1, d2))\n",
    "            return TensorMap{S,N₁,N₂,Trivial,A,Nothing,Nothing}(data, codom, dom)\n",
    "        end\n",
    "    end\n",
    "    blocksectoriterator = blocksectors(codom ← dom)\n",
    "    rowr, rowdims = TensorKit._buildblockstructure(codom, blocksectoriterator)\n",
    "    colr, coldims = TensorKit._buildblockstructure(dom, blocksectoriterator)\n",
    "    \n",
    "    \n",
    "    F₁ = TensorKit.fusiontreetype(I, N₁)\n",
    "    F₂ = TensorKit.fusiontreetype(I, N₂)\n",
    "   \n",
    "    ds = TensorKit.SectorDict{I,A}\n",
    "    function init_sym()\n",
    "        if !isreal(I)\n",
    "            data = TensorKit.SectorDict(c => complex(A(undef,(rowdims[c], coldims[c])))\n",
    "                            for c in blocksectoriterator)\n",
    "        else\n",
    "            data = TensorKit.SectorDict(c => A(undef,(rowdims[c], coldims[c])) for c in blocksectoriterator)\n",
    "        end\n",
    "        return TensorMap{S,N₁,N₂,I,ds,F₁,F₂}(data, codom, dom, rowr, colr)\n",
    "    end\n",
    "\n",
    "end"
   ]
  },
  {
   "cell_type": "code",
   "execution_count": 6,
   "metadata": {},
   "outputs": [
    {
     "data": {
      "text/plain": [
       "split_execution (generic function with 2 methods)"
      ]
     },
     "metadata": {},
     "output_type": "display_data"
    }
   ],
   "source": [
    "# I go through the generated @tensor code once, and generate two sets of code. One which takes in symbolictensormaps and will be run in the constructor of the struct, one which will be run while actually applying the struct and executing the contraction\n",
    "\n",
    "function subsplit(ex)\n",
    "    a = Any[ex.head]\n",
    "    b = Any[ex.head]\n",
    "    c = []\n",
    "    for (sa,sb,sc) in split_execution.(ex.args)\n",
    "        append!(c,sc)\n",
    "        push!(a,sa)\n",
    "        push!(b,sb)\n",
    "    end\n",
    "    return (Expr(a...),Expr(b...),c)\n",
    "end\n",
    "\n",
    "function split_execution(ex::Expr)\n",
    "    splitmap = Dict(GlobalRef(TensorOperations,:tensorcontract!) => (create_mediated_tensorcontract!,mediated_tensorcontract!),\n",
    "                    GlobalRef(TensorOperations,:tensoralloc_contract) => (create_mediated_tensoralloc_contract,mediated_tensoralloc_contract),\n",
    "                    GlobalRef(TensorOperations,:tensoradd!) => (create_mediated_tensoradd!,mediated_tensoradd!),\n",
    "                    GlobalRef(TensorOperations,:tensoralloc_add) => (create_mediated_tensoralloc_add,mediated_tensoralloc_add),\n",
    "                    GlobalRef(TensorOperations,:tensortrace!) => (create_mediated_tensortrace!,mediated_tensortrace!),)\n",
    "\n",
    "    if ex.head == :(=) && length(ex.args) == 2\n",
    "        if ex.args[2] isa Expr && ex.args[2].head == :call\n",
    "            t = ex.args[2].args[1]\n",
    "\n",
    "            if t in keys(splitmap)\n",
    "                (mapped_1,mapped_2) = splitmap[t]\n",
    "                nvar = gensym()\n",
    "                a = quote\n",
    "                    ($(ex.args[1]),$(nvar)) = $(mapped_1)($(ex.args[2].args[2:end]...))\n",
    "                end\n",
    "                b = quote\n",
    "                    $(ex.args[1]) = $(mapped_2)($(nvar),$(ex.args[2].args[2:end]...))\n",
    "                end\n",
    "                return (a,b,[nvar])\n",
    "            end\n",
    "        end\n",
    "\n",
    "        return subsplit(ex)\n",
    "    elseif ex.head in (:block,)\n",
    "        subsplit(ex)\n",
    "    elseif ex isa Expr\n",
    "        @show ex.head, ex.args\n",
    "        return (ex,ex,[])\n",
    "    end\n",
    "end\n",
    "split_execution(ex::Symbol) = (ex,ex,[])"
   ]
  },
  {
   "cell_type": "code",
   "execution_count": 7,
   "metadata": {},
   "outputs": [
    {
     "data": {
      "text/plain": [
       "execute_permute_table! (generic function with 2 methods)"
      ]
     },
     "metadata": {},
     "output_type": "display_data"
    }
   ],
   "source": [
    "function generate_permute_table(elt,sp_src,sp_dst, p1::IndexTuple{N₁},p2::IndexTuple{N₂}) where {N₁,N₂}\n",
    "    \n",
    "    blocksectoriterator_src = blocksectors(sp_src);\n",
    "    rowr_src, rowdims = TensorKit._buildblockstructure(codomain(sp_src), blocksectoriterator_src)\n",
    "    colr_src, coldims = TensorKit._buildblockstructure(domain(sp_src), blocksectoriterator_src)\n",
    "\n",
    "    blocksectoriterator_dst = blocksectors(sp_dst);\n",
    "    rowr_dst, rowdims = TensorKit._buildblockstructure(codomain(sp_dst), blocksectoriterator_dst)\n",
    "    colr_dst, coldims = TensorKit._buildblockstructure(domain(sp_dst), blocksectoriterator_dst)\n",
    "\n",
    "    ftreemap = (f1, f2)->permute(f1, f2, p1, p2);\n",
    "    I = eltype(rowr_src.keys);\n",
    "\n",
    "    N = length(p1)+length(p2);\n",
    "    table = Tuple{elt,Int,UnitRange{Int},UnitRange{Int},NTuple{N,Int},Int,UnitRange{Int},UnitRange{Int},NTuple{N,Int}}[];\n",
    "    for (i_src,(s_src,f1_list_src)) in enumerate(rowr_src)\n",
    "        f2_list_src = colr_src[s_src];\n",
    "\n",
    "        for (f1_src,r_src) in f1_list_src, (f2_src,c_src) in f2_list_src\n",
    "            d_src = (dims(codomain(sp_src), f1_src.uncoupled)..., dims(domain(sp_src), f2_src.uncoupled)...)\n",
    "            for ((f1_dst,f2_dst),α) in ftreemap(f1_src,f2_src)\n",
    "                \n",
    "                d_dst = (dims(codomain(sp_dst), f1_dst.uncoupled)..., dims(domain(sp_dst), f2_dst.uncoupled)...)\n",
    "\n",
    "                s_dst = f1_dst.coupled;\n",
    "                \n",
    "                i_dst = searchsortedfirst(rowr_dst.keys,s_dst);\n",
    "\n",
    "                r_dst = rowr_dst.values[i_dst][f1_dst];\n",
    "                c_dst = colr_dst.values[i_dst][f2_dst];\n",
    "\n",
    "\n",
    "                push!(table,(α,i_src,r_src,c_src,d_src,i_dst,r_dst,c_dst,d_dst));\n",
    "            end\n",
    "        end\n",
    "    end\n",
    "\n",
    "    (table,p1,p2)\n",
    "end\n",
    "\n",
    "function execute_permute_table!(t_dst,t_src,bulk,beta=false)\n",
    "    (table,p1,p2) = bulk\n",
    "    rmul!(t_dst,beta);\n",
    "\n",
    "    @inbounds for (α,s_src,r_src,c_src,d_src,s_dst,r_dst,c_dst,d_dst) in table\n",
    "\n",
    "        view_dst = sreshape(StridedView(t_dst.data.values[s_dst])[r_dst,c_dst],d_dst)\n",
    "        view_src = sreshape(StridedView(t_src.data.values[s_src])[r_src,c_src],d_src);\n",
    "        \n",
    "        #TensorOperations.tensoradd!(view_dst,(p1,p2),view_src,:N,α,true)\n",
    "        axpy!(α,permutedims(view_src,(p1...,p2...)), view_dst);\n",
    "    end\n",
    "\n",
    "    t_dst\n",
    "end"
   ]
  },
  {
   "cell_type": "code",
   "execution_count": 8,
   "metadata": {},
   "outputs": [
    {
     "data": {
      "text/plain": [
       "mediated_tensoralloc_contract (generic function with 2 methods)"
      ]
     },
     "metadata": {},
     "output_type": "display_data"
    }
   ],
   "source": [
    "# placeholder code. I'm not yet using the mediators to speed up the code, but you could use these mediators to calculate the rowr/colr once and then reuse them in the mediated calls.\n",
    "function create_mediated_tensorcontract!(C::SymbolicTensorMap, pC, A::SymbolicTensorMap, pA, conjA, B::SymbolicTensorMap, pB, conjB, α=1, β=0 , backend=nothing)\n",
    "    S = spacetype(A.structure)\n",
    "    if !(BraidingStyle(sectortype(S)) isa SymmetricBraiding)\n",
    "        throw(SectorMismatch(\"only tensors with symmetric braiding rules can be contracted; try `@planar` instead\"))\n",
    "    end\n",
    "    #=\n",
    "    copyA = false\n",
    "    if BraidingStyle(sectortype(S)) isa Fermionic\n",
    "        for i in cindA\n",
    "            if !isdual(space(A, i))\n",
    "                copyA = true\n",
    "            end\n",
    "        end\n",
    "    end\n",
    "    =#\n",
    "\n",
    "    #A′ = permute(A, (oindA, cindA); copy=copyA)\n",
    "    sp_dst_A =  ProductSpace{S,length(pA[1])}(map(n -> A.structure[n], pA[1])) ← ProductSpace{S,length(pA[2])}(map(n -> dual(A.structure[n]), pA[2]))\n",
    "    fast_init_A = fast_init(codomain(sp_dst_A),domain(sp_dst_A),storagetype(ttype(A)))\n",
    "    tbl_A = generate_permute_table(scalartype(ttype(A)),A.structure,sp_dst_A,pA[1],pA[2])\n",
    "\n",
    "    #B′ = permute(B, (cindB, oindB))\n",
    "    sp_dst_B =  ProductSpace{S,length(pB[1])}(map(n -> B.structure[n], pB[1])) ← ProductSpace{S,length(pB[2])}(map(n -> dual(B.structure[n]), pB[2]))\n",
    "    fast_init_B = fast_init(codomain(sp_dst_B),domain(sp_dst_B),storagetype(ttype(B)))\n",
    "    tbl_B = generate_permute_table(scalartype(ttype(B)),B.structure,sp_dst_B,pB[1],pB[2])\n",
    "    \n",
    "    #=\n",
    "    if BraidingStyle(sectortype(S)) isa Fermionic\n",
    "        for i in domainind(A′)\n",
    "            if !isdual(space(A′, i))\n",
    "                A′ = twist!(A′, i)\n",
    "            end\n",
    "        end\n",
    "    end\n",
    "    =#\n",
    "    #=\n",
    "    ipC = TupleTools.invperm((pC[1]..., pC[2]...))\n",
    "    oindAinC = TupleTools.getindices(ipC, ntuple(n -> n, N₁))\n",
    "    oindBinC = TupleTools.getindices(ipC, ntuple(n -> n + N₁, N₂))\n",
    "    if has_shared_permute(C, (oindAinC, oindBinC))\n",
    "        C′ = permute(C, (oindAinC, oindBinC))\n",
    "        mul!(C′, A′, B′, α, β)\n",
    "    else\n",
    "        C′ = A′ * B′\n",
    "        add_permute!(C, C′, (p₁, p₂), α, β)\n",
    "    end\n",
    "    return C\n",
    "    =#\n",
    "    fast_init_C′ = fast_init(codomain(sp_dst_A),domain(sp_dst_B),storagetype(ttype(C)));\n",
    "    tbl_C′ = generate_permute_table(scalartype(ttype(C)),codomain(sp_dst_A)←domain(sp_dst_B),C.structure,pC[1],pC[2])\n",
    "\n",
    "    (C,(fast_init_A,tbl_A,fast_init_B,tbl_B,fast_init_C′,tbl_C′))\n",
    "end\n",
    "\n",
    "function mediated_tensorcontract!(mediator,C, pC, A, pA, conjA, B, pB, conjB, α=1, β=0 , backend=nothing)\n",
    "    (fast_init_A,tbl_A,fast_init_B,tbl_B,fast_init_C′,tbl_C′) = mediator\n",
    "\n",
    "    Ap = fast_init_A()\n",
    "    execute_permute_table!(Ap,A,tbl_A)\n",
    "\n",
    "    Bp = fast_init_B()\n",
    "    execute_permute_table!(Bp,B,tbl_B)\n",
    "\n",
    "    C′ = mul!(fast_init_C′(),Ap,Bp,α)\n",
    "    execute_permute_table!(C,C′,tbl_C′,β)\n",
    "    \n",
    "    C    \n",
    "end\n",
    "\n",
    "function create_mediated_tensoralloc_contract(TC, pC::Index2Tuple{N₁,N₂}, A::SymbolicTensorMap, pA, conjA, B::SymbolicTensorMap, pB, conjB, istemp=false, backend::TensorOperations.Backend...)  where {N₁,N₂}\n",
    "    spaces1 = [TensorOperations.flag2op(conjA)(A.structure[p]) for p in pA[1]]\n",
    "    spaces2 = [TensorOperations.flag2op(conjB)(B.structure[p]) for p in pB[2]]\n",
    "    spaces = (spaces1..., spaces2...)\n",
    "\n",
    "    S = spacetype(ttype(A))\n",
    "    cod = ProductSpace{S,N₁}(getindex.(Ref(spaces), pC[1]))\n",
    "    dom = ProductSpace{S,N₂}(dual.(getindex.(Ref(spaces), pC[2])))\n",
    "    stortype = TensorKit.similarstoragetype(ttype(A),TC)\n",
    "    C = SymbolicTensorMap(tensormaptype(S,N₁, N₂, stortype),dom → cod)\n",
    "\n",
    "    (C,fast_init(cod,dom,stortype)) \n",
    "end\n",
    "\n",
    "function mediated_tensoralloc_contract(mediator,TC, pC::Index2Tuple{N₁,N₂}, A, pA, conjA, B, pB, conjB, istemp=false, backend::TensorOperations.Backend...)  where {N₁,N₂}\n",
    "    mediator()\n",
    "end"
   ]
  },
  {
   "cell_type": "code",
   "execution_count": 9,
   "metadata": {},
   "outputs": [
    {
     "data": {
      "text/plain": [
       "mediated_tensoralloc_add (generic function with 2 methods)"
      ]
     },
     "metadata": {},
     "output_type": "display_data"
    }
   ],
   "source": [
    "function create_mediated_tensoradd!(C, pC, A, conjA, α=1, β=1 , backend=nothing)\n",
    "    (C,Nothing)\n",
    "end\n",
    "\n",
    "function mediated_tensoradd!(mediator,args...)\n",
    "    TensorOperations.tensoradd!(args...)\n",
    "end\n",
    "\n",
    "function create_mediated_tensoralloc_add(TC, pC::Index2Tuple{N₁,N₂}, A::SymbolicTensorMap, conjA, istemp=false, backend::TensorOperations.Backend...)  where {N₁,N₂}\n",
    "    spaces1 = [TensorOperations.flag2op(conjA)(A.structure[p]) for p in pC[1]]\n",
    "    spaces2 = [TensorOperations.flag2op(conjA)(A.structure[p]) for p in pC[2]]\n",
    "    spaces = (spaces1..., spaces2...)\n",
    "\n",
    "    S = spacetype(ttype(A))\n",
    "    cod = ProductSpace{S,N₁}(getindex.(Ref(spaces), pC[1]))\n",
    "    dom = ProductSpace{S,N₂}(dual.(getindex.(Ref(spaces), pC[2])))\n",
    "    stortype = TensorKit.similarstoragetype(ttype(A),TC)\n",
    "    C = SymbolicTensorMap(tensormaptype(S,N₁, N₂, stortype),dom → cod)\n",
    "\n",
    "    (C,fast_init(cod,dom,stortype))\n",
    "end\n",
    "\n",
    "function mediated_tensoralloc_add(mediator,TC, pC::Index2Tuple{N₁,N₂}, A, conjA, istemp=false, backend::TensorOperations.Backend...)  where {N₁,N₂}\n",
    "    mediator()\n",
    "end"
   ]
  },
  {
   "cell_type": "code",
   "execution_count": 10,
   "metadata": {},
   "outputs": [
    {
     "data": {
      "text/plain": [
       "mediated_tensortrace! (generic function with 1 method)"
      ]
     },
     "metadata": {},
     "output_type": "display_data"
    }
   ],
   "source": [
    "function create_mediated_tensortrace!(C, pC, A, pA, conjA, α=1, β=0 , backend=nothing)\n",
    "    (C,Nothing)\n",
    "end\n",
    "\n",
    "function mediated_tensortrace!(mediator,args...)\n",
    "    TensorOperations.tensortrace!(args...)\n",
    "end"
   ]
  },
  {
   "cell_type": "code",
   "execution_count": 11,
   "metadata": {},
   "outputs": [
    {
     "data": {
      "text/plain": [
       "@tightloop_tensor (macro with 1 method)"
      ]
     },
     "metadata": {},
     "output_type": "display_data"
    }
   ],
   "source": [
    "macro tightloop_tensor(name,args::Vararg{Expr})\n",
    "    isempty(args) && throw(ArgumentError(\"No arguments passed to `@tensor`\"))\n",
    "    \n",
    "    if length(args) == 1\n",
    "        parser = TensorOperations.defaultparser\n",
    "    else\n",
    "        tensorexpr = args[end]\n",
    "        kwargs = parse_tensor_kwargs(args[1:(end - 1)])\n",
    "        parser = tensorparser(tensorexpr, kwargs...)\n",
    "    end\n",
    "    \n",
    "    parsed = parser(args[end])\n",
    "    \n",
    "    (a,b,c) = split_execution(parsed)\n",
    "    c_types = [gensym() for t in c]\n",
    "    declaration = quote end\n",
    "    for (c_v,c_t) in zip(c,c_types)\n",
    "        declaration = quote\n",
    "            $(declaration)\n",
    "            $(c_v)::$(c_t)\n",
    "        end\n",
    "    end\n",
    "\n",
    "    input_symbols =  TensorOperations.getinputtensorobjects(args[end])\n",
    "    output_symbols =  TensorOperations.getoutputtensorobjects(args[end])\n",
    "    \n",
    "    arg_symbols = [input_symbols...,output_symbols...];\n",
    "    kwarg_expr = Expr(:parameters,[Expr(:kw,s,nothing) for s in arg_symbols]...)\n",
    "    abstract_eval_call = Expr(:parameters,[Expr(:kw,s,Expr(:call,:SymbolicTensorMap,Expr(:call,:getindex,s,1),Expr(:call,:getindex,s,2))) for s in arg_symbols]...)\n",
    "\n",
    "    instantiated_struct_name = gensym()\n",
    "    access_inner_fields = quote end\n",
    "    for c_v in c\n",
    "        access_inner_fields = quote\n",
    "            $access_inner_fields\n",
    "            $(c_v) = $(instantiated_struct_name).$(c_v)\n",
    "        end\n",
    "    end\n",
    "\n",
    "    return esc(quote\n",
    "        struct $(name){$(c_types...)}\n",
    "            $(declaration)\n",
    "            function $(name)($(kwarg_expr))\n",
    "                tup = abstract_eval($(abstract_eval_call))\n",
    "                new{typeof.(tup)...}(tup...)\n",
    "            end\n",
    "            \n",
    "            function abstract_eval($(kwarg_expr))\n",
    "                $(a)\n",
    "                return tuple($(c...))\n",
    "            end\n",
    "            function ($(instantiated_struct_name)::$name)($(kwarg_expr))\n",
    "                $(access_inner_fields)\n",
    "                $(b)\n",
    "            end\n",
    "        end\n",
    "    end)\n",
    "end"
   ]
  },
  {
   "cell_type": "code",
   "execution_count": 12,
   "metadata": {},
   "outputs": [
    {
     "name": "stdout",
     "output_type": "stream",
     "text": [
      "(ex.head, ex.args) = (:call, Any[:(TensorOperations.promote_contract), :(TensorOperations.scalartype(le)), :(TensorOperations.scalartype(x))])\n",
      "(ex.head, ex.args) = "
     ]
    },
    {
     "name": "stdout",
     "output_type": "stream",
     "text": [
      "(:call, Any[:(TensorOperations.promote_contract), :(TensorOperations.scalartype(var\"####y_A#292_A#293\")), :(TensorOperations.scalartype(O))])\n",
      "(ex.head, ex.args) = (:call, Any[:(TensorOperations.tensorfree!), Symbol(\"####y_A#292_A#293\")])\n",
      "(ex.head, ex.args) = (:call, Any[:(TensorOperations.promote_contract), :(TensorOperations.scalartype(var\"##y_A#292\")), :(TensorOperations.scalartype(re))])\n",
      "(ex.head, ex.args) = (:call, Any[:(TensorOperations.tensorfree!), Symbol(\"##y_A#292\")])\n"
     ]
    }
   ],
   "source": [
    "@tightloop_tensor ac_eff y[-1 -2;-3] := le[-1 2;1]*O[2 -2;3 4]*x[1 3;5]*re[5 4;-3]"
   ]
  },
  {
   "cell_type": "code",
   "execution_count": 22,
   "metadata": {},
   "outputs": [
    {
     "data": {
      "text/plain": [
       "ac_eff{var\"#init_sym#14\"{2, 2, GradedSpace{SU2Irrep, TensorKit.SortedVectorDict{SU2Irrep, Int64}}, ProductSpace{GradedSpace{SU2Irrep, TensorKit.SortedVectorDict{SU2Irrep, Int64}}, 2}, ProductSpace{GradedSpace{SU2Irrep, TensorKit.SortedVectorDict{SU2Irrep, Int64}}, 2}, DataType, DataType, DataType, DataType, TensorKit.SortedVectorDict{SU2Irrep, Int64}, TensorKit.SortedVectorDict{SU2Irrep, Dict{FusionTree{SU2Irrep, 2, 0, 1, Nothing}, UnitRange{Int64}}}, TensorKit.SortedVectorDict{SU2Irrep, Int64}, TensorKit.SortedVectorDict{SU2Irrep, Dict{FusionTree{SU2Irrep, 2, 0, 1, Nothing}, UnitRange{Int64}}}, Vector{SU2Irrep}, DataType}, Tuple{var\"#init_sym#14\"{2, 1, GradedSpace{SU2Irrep, TensorKit.SortedVectorDict{SU2Irrep, Int64}}, ProductSpace{GradedSpace{SU2Irrep, TensorKit.SortedVectorDict{SU2Irrep, Int64}}, 2}, ProductSpace{GradedSpace{SU2Irrep, TensorKit.SortedVectorDict{SU2Irrep, Int64}}, 1}, DataType, DataType, DataType, DataType, TensorKit.SortedVectorDict{SU2Irrep, Int64}, TensorKit.SortedVectorDict{SU2Irrep, Dict{FusionTree{SU2Irrep, 1, 0, 0, Nothing}, UnitRange{Int64}}}, TensorKit.SortedVectorDict{SU2Irrep, Int64}, TensorKit.SortedVectorDict{SU2Irrep, Dict{FusionTree{SU2Irrep, 2, 0, 1, Nothing}, UnitRange{Int64}}}, Vector{SU2Irrep}, DataType}, Tuple{Vector{Tuple{ComplexF64, Int64, UnitRange{Int64}, UnitRange{Int64}, Tuple{Int64, Int64, Int64}, Int64, UnitRange{Int64}, UnitRange{Int64}, Tuple{Int64, Int64, Int64}}}, Tuple{Int64, Int64}, Tuple{Int64}}, var\"#init_sym#14\"{1, 2, GradedSpace{SU2Irrep, TensorKit.SortedVectorDict{SU2Irrep, Int64}}, ProductSpace{GradedSpace{SU2Irrep, TensorKit.SortedVectorDict{SU2Irrep, Int64}}, 1}, ProductSpace{GradedSpace{SU2Irrep, TensorKit.SortedVectorDict{SU2Irrep, Int64}}, 2}, DataType, DataType, DataType, DataType, TensorKit.SortedVectorDict{SU2Irrep, Int64}, TensorKit.SortedVectorDict{SU2Irrep, Dict{FusionTree{SU2Irrep, 2, 0, 1, Nothing}, UnitRange{Int64}}}, TensorKit.SortedVectorDict{SU2Irrep, Int64}, TensorKit.SortedVectorDict{SU2Irrep, Dict{FusionTree{SU2Irrep, 1, 0, 0, Nothing}, UnitRange{Int64}}}, Vector{SU2Irrep}, DataType}, Tuple{Vector{Tuple{ComplexF64, Int64, UnitRange{Int64}, UnitRange{Int64}, Tuple{Int64, Int64, Int64}, Int64, UnitRange{Int64}, UnitRange{Int64}, Tuple{Int64, Int64, Int64}}}, Tuple{Int64}, Tuple{Int64, Int64}}, var\"#init_sym#14\"{2, 2, GradedSpace{SU2Irrep, TensorKit.SortedVectorDict{SU2Irrep, Int64}}, ProductSpace{GradedSpace{SU2Irrep, TensorKit.SortedVectorDict{SU2Irrep, Int64}}, 2}, ProductSpace{GradedSpace{SU2Irrep, TensorKit.SortedVectorDict{SU2Irrep, Int64}}, 2}, DataType, DataType, DataType, DataType, TensorKit.SortedVectorDict{SU2Irrep, Int64}, TensorKit.SortedVectorDict{SU2Irrep, Dict{FusionTree{SU2Irrep, 2, 0, 1, Nothing}, UnitRange{Int64}}}, TensorKit.SortedVectorDict{SU2Irrep, Int64}, TensorKit.SortedVectorDict{SU2Irrep, Dict{FusionTree{SU2Irrep, 2, 0, 1, Nothing}, UnitRange{Int64}}}, Vector{SU2Irrep}, DataType}, Tuple{Vector{Tuple{ComplexF64, Int64, UnitRange{Int64}, UnitRange{Int64}, NTuple{4, Int64}, Int64, UnitRange{Int64}, UnitRange{Int64}, NTuple{4, Int64}}}, Tuple{Int64, Int64}, Tuple{Int64, Int64}}}, var\"#init_sym#14\"{2, 2, GradedSpace{SU2Irrep, TensorKit.SortedVectorDict{SU2Irrep, Int64}}, ProductSpace{GradedSpace{SU2Irrep, TensorKit.SortedVectorDict{SU2Irrep, Int64}}, 2}, ProductSpace{GradedSpace{SU2Irrep, TensorKit.SortedVectorDict{SU2Irrep, Int64}}, 2}, DataType, DataType, DataType, DataType, TensorKit.SortedVectorDict{SU2Irrep, Int64}, TensorKit.SortedVectorDict{SU2Irrep, Dict{FusionTree{SU2Irrep, 2, 0, 1, Nothing}, UnitRange{Int64}}}, TensorKit.SortedVectorDict{SU2Irrep, Int64}, TensorKit.SortedVectorDict{SU2Irrep, Dict{FusionTree{SU2Irrep, 2, 0, 1, Nothing}, UnitRange{Int64}}}, Vector{SU2Irrep}, DataType}, Tuple{var\"#init_sym#14\"{2, 2, GradedSpace{SU2Irrep, TensorKit.SortedVectorDict{SU2Irrep, Int64}}, ProductSpace{GradedSpace{SU2Irrep, TensorKit.SortedVectorDict{SU2Irrep, Int64}}, 2}, ProductSpace{GradedSpace{SU2Irrep, TensorKit.SortedVectorDict{SU2Irrep, Int64}}, 2}, DataType, DataType, DataType, DataType, TensorKit.SortedVectorDict{SU2Irrep, Int64}, TensorKit.SortedVectorDict{SU2Irrep, Dict{FusionTree{SU2Irrep, 2, 0, 1, Nothing}, UnitRange{Int64}}}, TensorKit.SortedVectorDict{SU2Irrep, Int64}, TensorKit.SortedVectorDict{SU2Irrep, Dict{FusionTree{SU2Irrep, 2, 0, 1, Nothing}, UnitRange{Int64}}}, Vector{SU2Irrep}, DataType}, Tuple{Vector{Tuple{ComplexF64, Int64, UnitRange{Int64}, UnitRange{Int64}, NTuple{4, Int64}, Int64, UnitRange{Int64}, UnitRange{Int64}, NTuple{4, Int64}}}, Tuple{Int64, Int64}, Tuple{Int64, Int64}}, var\"#init_sym#14\"{2, 2, GradedSpace{SU2Irrep, TensorKit.SortedVectorDict{SU2Irrep, Int64}}, ProductSpace{GradedSpace{SU2Irrep, TensorKit.SortedVectorDict{SU2Irrep, Int64}}, 2}, ProductSpace{GradedSpace{SU2Irrep, TensorKit.SortedVectorDict{SU2Irrep, Int64}}, 2}, DataType, DataType, DataType, DataType, TensorKit.SortedVectorDict{SU2Irrep, Int64}, TensorKit.SortedVectorDict{SU2Irrep, Dict{FusionTree{SU2Irrep, 2, 0, 1, Nothing}, UnitRange{Int64}}}, TensorKit.SortedVectorDict{SU2Irrep, Int64}, TensorKit.SortedVectorDict{SU2Irrep, Dict{FusionTree{SU2Irrep, 2, 0, 1, Nothing}, UnitRange{Int64}}}, Vector{SU2Irrep}, DataType}, Tuple{Vector{Tuple{ComplexF64, Int64, UnitRange{Int64}, UnitRange{Int64}, NTuple{4, Int64}, Int64, UnitRange{Int64}, UnitRange{Int64}, NTuple{4, Int64}}}, Tuple{Int64, Int64}, Tuple{Int64, Int64}}, var\"#init_sym#14\"{2, 2, GradedSpace{SU2Irrep, TensorKit.SortedVectorDict{SU2Irrep, Int64}}, ProductSpace{GradedSpace{SU2Irrep, TensorKit.SortedVectorDict{SU2Irrep, Int64}}, 2}, ProductSpace{GradedSpace{SU2Irrep, TensorKit.SortedVectorDict{SU2Irrep, Int64}}, 2}, DataType, DataType, DataType, DataType, TensorKit.SortedVectorDict{SU2Irrep, Int64}, TensorKit.SortedVectorDict{SU2Irrep, Dict{FusionTree{SU2Irrep, 2, 0, 1, Nothing}, UnitRange{Int64}}}, TensorKit.SortedVectorDict{SU2Irrep, Int64}, TensorKit.SortedVectorDict{SU2Irrep, Dict{FusionTree{SU2Irrep, 2, 0, 1, Nothing}, UnitRange{Int64}}}, Vector{SU2Irrep}, DataType}, Tuple{Vector{Tuple{ComplexF64, Int64, UnitRange{Int64}, UnitRange{Int64}, NTuple{4, Int64}, Int64, UnitRange{Int64}, UnitRange{Int64}, NTuple{4, Int64}}}, Tuple{Int64, Int64}, Tuple{Int64, Int64}}}, var\"#init_sym#14\"{2, 1, GradedSpace{SU2Irrep, TensorKit.SortedVectorDict{SU2Irrep, Int64}}, ProductSpace{GradedSpace{SU2Irrep, TensorKit.SortedVectorDict{SU2Irrep, Int64}}, 2}, ProductSpace{GradedSpace{SU2Irrep, TensorKit.SortedVectorDict{SU2Irrep, Int64}}, 1}, DataType, DataType, DataType, DataType, TensorKit.SortedVectorDict{SU2Irrep, Int64}, TensorKit.SortedVectorDict{SU2Irrep, Dict{FusionTree{SU2Irrep, 1, 0, 0, Nothing}, UnitRange{Int64}}}, TensorKit.SortedVectorDict{SU2Irrep, Int64}, TensorKit.SortedVectorDict{SU2Irrep, Dict{FusionTree{SU2Irrep, 2, 0, 1, Nothing}, UnitRange{Int64}}}, Vector{SU2Irrep}, DataType}, Tuple{var\"#init_sym#14\"{2, 2, GradedSpace{SU2Irrep, TensorKit.SortedVectorDict{SU2Irrep, Int64}}, ProductSpace{GradedSpace{SU2Irrep, TensorKit.SortedVectorDict{SU2Irrep, Int64}}, 2}, ProductSpace{GradedSpace{SU2Irrep, TensorKit.SortedVectorDict{SU2Irrep, Int64}}, 2}, DataType, DataType, DataType, DataType, TensorKit.SortedVectorDict{SU2Irrep, Int64}, TensorKit.SortedVectorDict{SU2Irrep, Dict{FusionTree{SU2Irrep, 2, 0, 1, Nothing}, UnitRange{Int64}}}, TensorKit.SortedVectorDict{SU2Irrep, Int64}, TensorKit.SortedVectorDict{SU2Irrep, Dict{FusionTree{SU2Irrep, 2, 0, 1, Nothing}, UnitRange{Int64}}}, Vector{SU2Irrep}, DataType}, Tuple{Vector{Tuple{ComplexF64, Int64, UnitRange{Int64}, UnitRange{Int64}, NTuple{4, Int64}, Int64, UnitRange{Int64}, UnitRange{Int64}, NTuple{4, Int64}}}, Tuple{Int64, Int64}, Tuple{Int64, Int64}}, var\"#init_sym#14\"{2, 1, GradedSpace{SU2Irrep, TensorKit.SortedVectorDict{SU2Irrep, Int64}}, ProductSpace{GradedSpace{SU2Irrep, TensorKit.SortedVectorDict{SU2Irrep, Int64}}, 2}, ProductSpace{GradedSpace{SU2Irrep, TensorKit.SortedVectorDict{SU2Irrep, Int64}}, 1}, DataType, DataType, DataType, DataType, TensorKit.SortedVectorDict{SU2Irrep, Int64}, TensorKit.SortedVectorDict{SU2Irrep, Dict{FusionTree{SU2Irrep, 1, 0, 0, Nothing}, UnitRange{Int64}}}, TensorKit.SortedVectorDict{SU2Irrep, Int64}, TensorKit.SortedVectorDict{SU2Irrep, Dict{FusionTree{SU2Irrep, 2, 0, 1, Nothing}, UnitRange{Int64}}}, Vector{SU2Irrep}, DataType}, Tuple{Vector{Tuple{ComplexF64, Int64, UnitRange{Int64}, UnitRange{Int64}, Tuple{Int64, Int64, Int64}, Int64, UnitRange{Int64}, UnitRange{Int64}, Tuple{Int64, Int64, Int64}}}, Tuple{Int64, Int64}, Tuple{Int64}}, var\"#init_sym#14\"{2, 1, GradedSpace{SU2Irrep, TensorKit.SortedVectorDict{SU2Irrep, Int64}}, ProductSpace{GradedSpace{SU2Irrep, TensorKit.SortedVectorDict{SU2Irrep, Int64}}, 2}, ProductSpace{GradedSpace{SU2Irrep, TensorKit.SortedVectorDict{SU2Irrep, Int64}}, 1}, DataType, DataType, DataType, DataType, TensorKit.SortedVectorDict{SU2Irrep, Int64}, TensorKit.SortedVectorDict{SU2Irrep, Dict{FusionTree{SU2Irrep, 1, 0, 0, Nothing}, UnitRange{Int64}}}, TensorKit.SortedVectorDict{SU2Irrep, Int64}, TensorKit.SortedVectorDict{SU2Irrep, Dict{FusionTree{SU2Irrep, 2, 0, 1, Nothing}, UnitRange{Int64}}}, Vector{SU2Irrep}, DataType}, Tuple{Vector{Tuple{ComplexF64, Int64, UnitRange{Int64}, UnitRange{Int64}, Tuple{Int64, Int64, Int64}, Int64, UnitRange{Int64}, UnitRange{Int64}, Tuple{Int64, Int64, Int64}}}, Tuple{Int64, Int64}, Tuple{Int64}}}}(var\"#init_sym#14\"{2, 2, GradedSpace{SU2Irrep, TensorKit.SortedVectorDict{SU2Irrep, Int64}}, ProductSpace{GradedSpace{SU2Irrep, TensorKit.SortedVectorDict{SU2Irrep, Int64}}, 2}, ProductSpace{GradedSpace{SU2Irrep, TensorKit.SortedVectorDict{SU2Irrep, Int64}}, 2}, DataType, DataType, DataType, DataType, TensorKit.SortedVectorDict{SU2Irrep, Int64}, TensorKit.SortedVectorDict{SU2Irrep, Dict{FusionTree{SU2Irrep, 2, 0, 1, Nothing}, UnitRange{Int64}}}, TensorKit.SortedVectorDict{SU2Irrep, Int64}, TensorKit.SortedVectorDict{SU2Irrep, Dict{FusionTree{SU2Irrep, 2, 0, 1, Nothing}, UnitRange{Int64}}}, Vector{SU2Irrep}, DataType}((Rep[SU₂](0=>20, 1=>20, 2=>20, 3=>20, 4=>20, 5=>20, 6=>20, 7=>20, 8=>20, 9=>20, 10=>20) ⊗ Rep[SU₂](0=>20, 1=>20, 2=>20, 3=>20, 4=>20, 5=>20, 6=>20, 7=>20, 8=>20, 9=>20, 10=>20)'), (Rep[SU₂](0=>5, 1=>2) ⊗ Rep[SU₂](1=>1)'), Matrix{ComplexF64}, TensorKit.SortedVectorDict{SU2Irrep, Matrix{ComplexF64}}, FusionTree{SU2Irrep, 2, 0, 1, Nothing}, FusionTree{SU2Irrep, 2, 0, 1, Nothing}, TensorKit.SortedVectorDict{SU2Irrep, Int64}(0 => 2, 1 => 7, 2 => 2), TensorKit.SortedVectorDict{SU2Irrep, Dict{FusionTree{SU2Irrep, 2, 0, 1, Nothing}, UnitRange{Int64}}}(0 => Dict(FusionTree{Irrep[SU₂]}((1, 1), 0, (false, true), ()) => 1:2), 1 => Dict(FusionTree{Irrep[SU₂]}((0, 1), 1, (false, true), ()) => 1:5, FusionTree{Irrep[SU₂]}((1, 1), 1, (false, true), ()) => 6:7), 2 => Dict(FusionTree{Irrep[SU₂]}((1, 1), 2, (false, true), ()) => 1:2)), TensorKit.SortedVectorDict{SU2Irrep, Int64}(0 => 4400, 1 => 12000, 2 => 18400), TensorKit.SortedVectorDict{SU2Irrep, Dict{FusionTree{SU2Irrep, 2, 0, 1, Nothing}, UnitRange{Int64}}}(0 => Dict(FusionTree{Irrep[SU₂]}((9, 9), 0, (false, true), ()) => 3601:4000, FusionTree{Irrep[SU₂]}((3, 3), 0, (false, true), ()) => 1201:1600, FusionTree{Irrep[SU₂]}((0, 0), 0, (false, true), ()) => 1:400, FusionTree{Irrep[SU₂]}((7, 7), 0, (false, true), ()) => 2801:3200, FusionTree{Irrep[SU₂]}((10, 10), 0, (false, true), ()) => 4001:4400, FusionTree{Irrep[SU₂]}((1, 1), 0, (false, true), ()) => 401:800, FusionTree{Irrep[SU₂]}((2, 2), 0, (false, true), ()) => 801:1200, FusionTree{Irrep[SU₂]}((5, 5), 0, (false, true), ()) => 2001:2400, FusionTree{Irrep[SU₂]}((6, 6), 0, (false, true), ()) => 2401:2800, FusionTree{Irrep[SU₂]}((8, 8), 0, (false, true), ()) => 3201:3600…), 1 => Dict(FusionTree{Irrep[SU₂]}((6, 7), 1, (false, true), ()) => 7601:8000, FusionTree{Irrep[SU₂]}((10, 10), 1, (false, true), ()) => 11601:12000, FusionTree{Irrep[SU₂]}((10, 9), 1, (false, true), ()) => 10801:11200, FusionTree{Irrep[SU₂]}((2, 3), 1, (false, true), ()) => 2801:3200, FusionTree{Irrep[SU₂]}((2, 1), 1, (false, true), ()) => 1201:1600, FusionTree{Irrep[SU₂]}((3, 4), 1, (false, true), ()) => 4001:4400, FusionTree{Irrep[SU₂]}((1, 1), 1, (false, true), ()) => 801:1200, FusionTree{Irrep[SU₂]}((5, 6), 1, (false, true), ()) => 6401:6800, FusionTree{Irrep[SU₂]}((2, 2), 1, (false, true), ()) => 2001:2400, FusionTree{Irrep[SU₂]}((1, 2), 1, (false, true), ()) => 1601:2000…), 2 => Dict(FusionTree{Irrep[SU₂]}((9, 9), 2, (false, true), ()) => 16401:16800, FusionTree{Irrep[SU₂]}((3, 1), 2, (false, true), ()) => 1201:1600, FusionTree{Irrep[SU₂]}((7, 7), 2, (false, true), ()) => 12401:12800, FusionTree{Irrep[SU₂]}((10, 8), 2, (false, true), ()) => 15201:15600, FusionTree{Irrep[SU₂]}((8, 7), 2, (false, true), ()) => 12801:13200, FusionTree{Irrep[SU₂]}((5, 3), 2, (false, true), ()) => 5201:5600, FusionTree{Irrep[SU₂]}((2, 1), 2, (false, true), ()) => 801:1200, FusionTree{Irrep[SU₂]}((1, 2), 2, (false, true), ()) => 2001:2400, FusionTree{Irrep[SU₂]}((5, 5), 2, (false, true), ()) => 8401:8800, FusionTree{Irrep[SU₂]}((9, 10), 2, (false, true), ()) => 17601:18000…)), SU2Irrep[1, 0, 2], SU2Irrep), (var\"#init_sym#14\"{2, 1, GradedSpace{SU2Irrep, TensorKit.SortedVectorDict{SU2Irrep, Int64}}, ProductSpace{GradedSpace{SU2Irrep, TensorKit.SortedVectorDict{SU2Irrep, Int64}}, 2}, ProductSpace{GradedSpace{SU2Irrep, TensorKit.SortedVectorDict{SU2Irrep, Int64}}, 1}, DataType, DataType, DataType, DataType, TensorKit.SortedVectorDict{SU2Irrep, Int64}, TensorKit.SortedVectorDict{SU2Irrep, Dict{FusionTree{SU2Irrep, 1, 0, 0, Nothing}, UnitRange{Int64}}}, TensorKit.SortedVectorDict{SU2Irrep, Int64}, TensorKit.SortedVectorDict{SU2Irrep, Dict{FusionTree{SU2Irrep, 2, 0, 1, Nothing}, UnitRange{Int64}}}, Vector{SU2Irrep}, DataType}((Rep[SU₂](0=>20, 1=>20, 2=>20, 3=>20, 4=>20, 5=>20, 6=>20, 7=>20, 8=>20, 9=>20, 10=>20) ⊗ Rep[SU₂](0=>5, 1=>2)'), ProductSpace(Rep[SU₂](0=>20, 1=>20, 2=>20, 3=>20, 4=>20, 5=>20, 6=>20, 7=>20, 8=>20, 9=>20, 10=>20)), Matrix{ComplexF64}, TensorKit.SortedVectorDict{SU2Irrep, Matrix{ComplexF64}}, FusionTree{SU2Irrep, 1, 0, 0, Nothing}, FusionTree{SU2Irrep, 2, 0, 1, Nothing}, TensorKit.SortedVectorDict{SU2Irrep, Int64}(0 => 20, 1 => 20, 2 => 20, 3 => 20, 4 => 20, 5 => 20, 6 => 20, 7 => 20, 8 => 20, 9 => 20…), TensorKit.SortedVectorDict{SU2Irrep, Dict{FusionTree{SU2Irrep, 1, 0, 0, Nothing}, UnitRange{Int64}}}(0 => Dict(FusionTree{Irrep[SU₂]}((0,), 0, (false,), ()) => 1:20), 1 => Dict(FusionTree{Irrep[SU₂]}((1,), 1, (false,), ()) => 1:20), 2 => Dict(FusionTree{Irrep[SU₂]}((2,), 2, (false,), ()) => 1:20), 3 => Dict(FusionTree{Irrep[SU₂]}((3,), 3, (false,), ()) => 1:20), 4 => Dict(FusionTree{Irrep[SU₂]}((4,), 4, (false,), ()) => 1:20), 5 => Dict(FusionTree{Irrep[SU₂]}((5,), 5, (false,), ()) => 1:20), 6 => Dict(FusionTree{Irrep[SU₂]}((6,), 6, (false,), ()) => 1:20), 7 => Dict(FusionTree{Irrep[SU₂]}((7,), 7, (false,), ()) => 1:20), 8 => Dict(FusionTree{Irrep[SU₂]}((8,), 8, (false,), ()) => 1:20), 9 => Dict(FusionTree{Irrep[SU₂]}((9,), 9, (false,), ()) => 1:20)…), TensorKit.SortedVectorDict{SU2Irrep, Int64}(0 => 140, 1 => 220, 2 => 220, 3 => 220, 4 => 220, 5 => 220, 6 => 220, 7 => 220, 8 => 220, 9 => 220…), TensorKit.SortedVectorDict{SU2Irrep, Dict{FusionTree{SU2Irrep, 2, 0, 1, Nothing}, UnitRange{Int64}}}(0 => Dict(FusionTree{Irrep[SU₂]}((0, 0), 0, (false, true), ()) => 1:100, FusionTree{Irrep[SU₂]}((1, 1), 0, (false, true), ()) => 101:140), 1 => Dict(FusionTree{Irrep[SU₂]}((0, 1), 1, (false, true), ()) => 101:140, FusionTree{Irrep[SU₂]}((2, 1), 1, (false, true), ()) => 181:220, FusionTree{Irrep[SU₂]}((1, 1), 1, (false, true), ()) => 141:180, FusionTree{Irrep[SU₂]}((1, 0), 1, (false, true), ()) => 1:100), 2 => Dict(FusionTree{Irrep[SU₂]}((3, 1), 2, (false, true), ()) => 181:220, FusionTree{Irrep[SU₂]}((2, 1), 2, (false, true), ()) => 141:180, FusionTree{Irrep[SU₂]}((2, 0), 2, (false, true), ()) => 1:100, FusionTree{Irrep[SU₂]}((1, 1), 2, (false, true), ()) => 101:140), 3 => Dict(FusionTree{Irrep[SU₂]}((3, 1), 3, (false, true), ()) => 141:180, FusionTree{Irrep[SU₂]}((3, 0), 3, (false, true), ()) => 1:100, FusionTree{Irrep[SU₂]}((2, 1), 3, (false, true), ()) => 101:140, FusionTree{Irrep[SU₂]}((4, 1), 3, (false, true), ()) => 181:220), 4 => Dict(FusionTree{Irrep[SU₂]}((4, 1), 4, (false, true), ()) => 141:180, FusionTree{Irrep[SU₂]}((4, 0), 4, (false, true), ()) => 1:100, FusionTree{Irrep[SU₂]}((5, 1), 4, (false, true), ()) => 181:220, FusionTree{Irrep[SU₂]}((3, 1), 4, (false, true), ()) => 101:140), 5 => Dict(FusionTree{Irrep[SU₂]}((5, 1), 5, (false, true), ()) => 141:180, FusionTree{Irrep[SU₂]}((5, 0), 5, (false, true), ()) => 1:100, FusionTree{Irrep[SU₂]}((4, 1), 5, (false, true), ()) => 101:140, FusionTree{Irrep[SU₂]}((6, 1), 5, (false, true), ()) => 181:220), 6 => Dict(FusionTree{Irrep[SU₂]}((6, 1), 6, (false, true), ()) => 141:180, FusionTree{Irrep[SU₂]}((6, 0), 6, (false, true), ()) => 1:100, FusionTree{Irrep[SU₂]}((7, 1), 6, (false, true), ()) => 181:220, FusionTree{Irrep[SU₂]}((5, 1), 6, (false, true), ()) => 101:140), 7 => Dict(FusionTree{Irrep[SU₂]}((7, 0), 7, (false, true), ()) => 1:100, FusionTree{Irrep[SU₂]}((8, 1), 7, (false, true), ()) => 181:220, FusionTree{Irrep[SU₂]}((6, 1), 7, (false, true), ()) => 101:140, FusionTree{Irrep[SU₂]}((7, 1), 7, (false, true), ()) => 141:180), 8 => Dict(FusionTree{Irrep[SU₂]}((8, 0), 8, (false, true), ()) => 1:100, FusionTree{Irrep[SU₂]}((7, 1), 8, (false, true), ()) => 101:140, FusionTree{Irrep[SU₂]}((9, 1), 8, (false, true), ()) => 181:220, FusionTree{Irrep[SU₂]}((8, 1), 8, (false, true), ()) => 141:180), 9 => Dict(FusionTree{Irrep[SU₂]}((9, 1), 9, (false, true), ()) => 141:180, FusionTree{Irrep[SU₂]}((9, 0), 9, (false, true), ()) => 1:100, FusionTree{Irrep[SU₂]}((8, 1), 9, (false, true), ()) => 101:140, FusionTree{Irrep[SU₂]}((10, 1), 9, (false, true), ()) => 181:220)…), SU2Irrep[0, 1, 2, 3, 4, 5, 6, 7, 8, 9, 10], SU2Irrep), (Tuple{ComplexF64, Int64, UnitRange{Int64}, UnitRange{Int64}, Tuple{Int64, Int64, Int64}, Int64, UnitRange{Int64}, UnitRange{Int64}, Tuple{Int64, Int64, Int64}}[(1.0 + 0.0im, 1, 1:100, 1:20, (20, 5, 20), 1, 1:100, 1:20, (20, 5, 20)), (1.0 + 0.0im, 1, 101:140, 1:20, (20, 2, 20), 1, 101:140, 1:20, (20, 2, 20)), (0.9999999999999998 + 0.0im, 2, 101:140, 1:20, (20, 2, 20), 2, 101:140, 1:20, (20, 2, 20)), (0.9999999999999998 + 0.0im, 2, 181:220, 1:20, (20, 2, 20), 2, 181:220, 1:20, (20, 2, 20)), (0.9999999999999998 + 0.0im, 2, 141:180, 1:20, (20, 2, 20), 2, 141:180, 1:20, (20, 2, 20)), (0.9999999999999998 + 0.0im, 2, 1:100, 1:20, (20, 5, 20), 2, 1:100, 1:20, (20, 5, 20)), (1.0000000000000002 + 0.0im, 3, 181:220, 1:20, (20, 2, 20), 3, 181:220, 1:20, (20, 2, 20)), (1.0000000000000002 + 0.0im, 3, 141:180, 1:20, (20, 2, 20), 3, 141:180, 1:20, (20, 2, 20)), (1.0000000000000002 + 0.0im, 3, 1:100, 1:20, (20, 5, 20), 3, 1:100, 1:20, (20, 5, 20)), (1.0000000000000002 + 0.0im, 3, 101:140, 1:20, (20, 2, 20), 3, 101:140, 1:20, (20, 2, 20))  …  (1.0 + 0.0im, 9, 101:140, 1:20, (20, 2, 20), 9, 101:140, 1:20, (20, 2, 20)), (1.0 + 0.0im, 9, 181:220, 1:20, (20, 2, 20), 9, 181:220, 1:20, (20, 2, 20)), (1.0 + 0.0im, 9, 141:180, 1:20, (20, 2, 20), 9, 141:180, 1:20, (20, 2, 20)), (1.0000000000000004 + 0.0im, 10, 141:180, 1:20, (20, 2, 20), 10, 141:180, 1:20, (20, 2, 20)), (1.0000000000000004 + 0.0im, 10, 1:100, 1:20, (20, 5, 20), 10, 1:100, 1:20, (20, 5, 20)), (1.0000000000000004 + 0.0im, 10, 101:140, 1:20, (20, 2, 20), 10, 101:140, 1:20, (20, 2, 20)), (1.0000000000000004 + 0.0im, 10, 181:220, 1:20, (20, 2, 20), 10, 181:220, 1:20, (20, 2, 20)), (0.9999999999999998 + 0.0im, 11, 101:140, 1:20, (20, 2, 20), 11, 101:140, 1:20, (20, 2, 20)), (0.9999999999999998 + 0.0im, 11, 141:180, 1:20, (20, 2, 20), 11, 141:180, 1:20, (20, 2, 20)), (0.9999999999999998 + 0.0im, 11, 1:100, 1:20, (20, 5, 20), 11, 1:100, 1:20, (20, 5, 20))], (1, 2), (3,)), var\"#init_sym#14\"{1, 2, GradedSpace{SU2Irrep, TensorKit.SortedVectorDict{SU2Irrep, Int64}}, ProductSpace{GradedSpace{SU2Irrep, TensorKit.SortedVectorDict{SU2Irrep, Int64}}, 1}, ProductSpace{GradedSpace{SU2Irrep, TensorKit.SortedVectorDict{SU2Irrep, Int64}}, 2}, DataType, DataType, DataType, DataType, TensorKit.SortedVectorDict{SU2Irrep, Int64}, TensorKit.SortedVectorDict{SU2Irrep, Dict{FusionTree{SU2Irrep, 2, 0, 1, Nothing}, UnitRange{Int64}}}, TensorKit.SortedVectorDict{SU2Irrep, Int64}, TensorKit.SortedVectorDict{SU2Irrep, Dict{FusionTree{SU2Irrep, 1, 0, 0, Nothing}, UnitRange{Int64}}}, Vector{SU2Irrep}, DataType}(ProductSpace(Rep[SU₂](0=>20, 1=>20, 2=>20, 3=>20, 4=>20, 5=>20, 6=>20, 7=>20, 8=>20, 9=>20, 10=>20)), (Rep[SU₂](1=>1)' ⊗ Rep[SU₂](0=>20, 1=>20, 2=>20, 3=>20, 4=>20, 5=>20, 6=>20, 7=>20, 8=>20, 9=>20, 10=>20)), Matrix{ComplexF64}, TensorKit.SortedVectorDict{SU2Irrep, Matrix{ComplexF64}}, FusionTree{SU2Irrep, 2, 0, 1, Nothing}, FusionTree{SU2Irrep, 1, 0, 0, Nothing}, TensorKit.SortedVectorDict{SU2Irrep, Int64}(0 => 20, 1 => 60, 2 => 60, 3 => 60, 4 => 60, 5 => 60, 6 => 60, 7 => 60, 8 => 60, 9 => 60…), TensorKit.SortedVectorDict{SU2Irrep, Dict{FusionTree{SU2Irrep, 2, 0, 1, Nothing}, UnitRange{Int64}}}(0 => Dict(FusionTree{Irrep[SU₂]}((1, 1), 0, (true, false), ()) => 1:20), 1 => Dict(FusionTree{Irrep[SU₂]}((1, 1), 1, (true, false), ()) => 21:40, FusionTree{Irrep[SU₂]}((1, 0), 1, (true, false), ()) => 1:20, FusionTree{Irrep[SU₂]}((1, 2), 1, (true, false), ()) => 41:60), 2 => Dict(FusionTree{Irrep[SU₂]}((1, 3), 2, (true, false), ()) => 41:60, FusionTree{Irrep[SU₂]}((1, 1), 2, (true, false), ()) => 1:20, FusionTree{Irrep[SU₂]}((1, 2), 2, (true, false), ()) => 21:40), 3 => Dict(FusionTree{Irrep[SU₂]}((1, 3), 3, (true, false), ()) => 21:40, FusionTree{Irrep[SU₂]}((1, 4), 3, (true, false), ()) => 41:60, FusionTree{Irrep[SU₂]}((1, 2), 3, (true, false), ()) => 1:20), 4 => Dict(FusionTree{Irrep[SU₂]}((1, 3), 4, (true, false), ()) => 1:20, FusionTree{Irrep[SU₂]}((1, 5), 4, (true, false), ()) => 41:60, FusionTree{Irrep[SU₂]}((1, 4), 4, (true, false), ()) => 21:40), 5 => Dict(FusionTree{Irrep[SU₂]}((1, 5), 5, (true, false), ()) => 21:40, FusionTree{Irrep[SU₂]}((1, 4), 5, (true, false), ()) => 1:20, FusionTree{Irrep[SU₂]}((1, 6), 5, (true, false), ()) => 41:60), 6 => Dict(FusionTree{Irrep[SU₂]}((1, 5), 6, (true, false), ()) => 1:20, FusionTree{Irrep[SU₂]}((1, 6), 6, (true, false), ()) => 21:40, FusionTree{Irrep[SU₂]}((1, 7), 6, (true, false), ()) => 41:60), 7 => Dict(FusionTree{Irrep[SU₂]}((1, 6), 7, (true, false), ()) => 1:20, FusionTree{Irrep[SU₂]}((1, 7), 7, (true, false), ()) => 21:40, FusionTree{Irrep[SU₂]}((1, 8), 7, (true, false), ()) => 41:60), 8 => Dict(FusionTree{Irrep[SU₂]}((1, 8), 8, (true, false), ()) => 21:40, FusionTree{Irrep[SU₂]}((1, 7), 8, (true, false), ()) => 1:20, FusionTree{Irrep[SU₂]}((1, 9), 8, (true, false), ()) => 41:60), 9 => Dict(FusionTree{Irrep[SU₂]}((1, 10), 9, (true, false), ()) => 41:60, FusionTree{Irrep[SU₂]}((1, 9), 9, (true, false), ()) => 21:40, FusionTree{Irrep[SU₂]}((1, 8), 9, (true, false), ()) => 1:20)…), TensorKit.SortedVectorDict{SU2Irrep, Int64}(0 => 20, 1 => 20, 2 => 20, 3 => 20, 4 => 20, 5 => 20, 6 => 20, 7 => 20, 8 => 20, 9 => 20…), TensorKit.SortedVectorDict{SU2Irrep, Dict{FusionTree{SU2Irrep, 1, 0, 0, Nothing}, UnitRange{Int64}}}(0 => Dict(FusionTree{Irrep[SU₂]}((0,), 0, (false,), ()) => 1:20), 1 => Dict(FusionTree{Irrep[SU₂]}((1,), 1, (false,), ()) => 1:20), 2 => Dict(FusionTree{Irrep[SU₂]}((2,), 2, (false,), ()) => 1:20), 3 => Dict(FusionTree{Irrep[SU₂]}((3,), 3, (false,), ()) => 1:20), 4 => Dict(FusionTree{Irrep[SU₂]}((4,), 4, (false,), ()) => 1:20), 5 => Dict(FusionTree{Irrep[SU₂]}((5,), 5, (false,), ()) => 1:20), 6 => Dict(FusionTree{Irrep[SU₂]}((6,), 6, (false,), ()) => 1:20), 7 => Dict(FusionTree{Irrep[SU₂]}((7,), 7, (false,), ()) => 1:20), 8 => Dict(FusionTree{Irrep[SU₂]}((8,), 8, (false,), ()) => 1:20), 9 => Dict(FusionTree{Irrep[SU₂]}((9,), 9, (false,), ()) => 1:20)…), SU2Irrep[0, 1, 2, 3, 4, 5, 6, 7, 8, 9, 10], SU2Irrep), (Tuple{ComplexF64, Int64, UnitRange{Int64}, UnitRange{Int64}, Tuple{Int64, Int64, Int64}, Int64, UnitRange{Int64}, UnitRange{Int64}, Tuple{Int64, Int64, Int64}}[(0.5773502691896256 + 0.0im, 1, 1:20, 1:20, (20, 1, 20), 2, 1:20, 1:20, (20, 1, 20)), (0.774596669241483 + 0.0im, 2, 41:60, 1:20, (20, 1, 20), 3, 1:20, 1:20, (20, 1, 20)), (0.9999999999999993 + 0.0im, 2, 21:40, 1:20, (20, 1, 20), 2, 1:20, 21:40, (20, 1, 20)), (1.732050807568876 + 0.0im, 2, 1:20, 1:20, (20, 1, 20), 1, 1:20, 1:20, (20, 1, 20)), (0.8451542547285165 + 0.0im, 3, 41:60, 1:20, (20, 1, 20), 4, 1:20, 1:20, (20, 1, 20)), (1.0 + 0.0im, 3, 21:40, 1:20, (20, 1, 20), 3, 1:20, 21:40, (20, 1, 20)), (1.2909944487358054 + 0.0im, 3, 1:20, 1:20, (20, 1, 20), 2, 1:20, 41:60, (20, 1, 20)), (1.0 + 0.0im, 4, 21:40, 1:20, (20, 1, 20), 4, 1:20, 21:40, (20, 1, 20)), (1.1832159566199232 + 0.0im, 4, 1:20, 1:20, (20, 1, 20), 3, 1:20, 41:60, (20, 1, 20)), (0.8819171036881964 + 0.0im, 4, 41:60, 1:20, (20, 1, 20), 5, 1:20, 1:20, (20, 1, 20))  …  (1.074172311059149 + 0.0im, 8, 1:20, 1:20, (20, 1, 20), 7, 1:20, 41:60, (20, 1, 20)), (0.9999999999999997 + 0.0im, 8, 21:40, 1:20, (20, 1, 20), 8, 1:20, 21:40, (20, 1, 20)), (1.064581294844754 + 0.0im, 9, 1:20, 1:20, (20, 1, 20), 8, 1:20, 41:60, (20, 1, 20)), (0.9459053029269171 + 0.0im, 9, 41:60, 1:20, (20, 1, 20), 10, 1:20, 1:20, (20, 1, 20)), (0.9999999999999997 + 0.0im, 9, 21:40, 1:20, (20, 1, 20), 9, 1:20, 21:40, (20, 1, 20)), (1.0000000000000002 + 0.0im, 10, 21:40, 1:20, (20, 1, 20), 10, 1:20, 21:40, (20, 1, 20)), (1.0571882797418493 + 0.0im, 10, 1:20, 1:20, (20, 1, 20), 9, 1:20, 41:60, (20, 1, 20)), (0.9511897312113423 + 0.0im, 10, 41:60, 1:20, (20, 1, 20), 11, 1:20, 1:20, (20, 1, 20)), (0.9999999999999994 + 0.0im, 11, 21:40, 1:20, (20, 1, 20), 11, 1:20, 21:40, (20, 1, 20)), (1.0513149660756933 + 0.0im, 11, 1:20, 1:20, (20, 1, 20), 10, 1:20, 41:60, (20, 1, 20))], (1,), (2, 3)), var\"#init_sym#14\"{2, 2, GradedSpace{SU2Irrep, TensorKit.SortedVectorDict{SU2Irrep, Int64}}, ProductSpace{GradedSpace{SU2Irrep, TensorKit.SortedVectorDict{SU2Irrep, Int64}}, 2}, ProductSpace{GradedSpace{SU2Irrep, TensorKit.SortedVectorDict{SU2Irrep, Int64}}, 2}, DataType, DataType, DataType, DataType, TensorKit.SortedVectorDict{SU2Irrep, Int64}, TensorKit.SortedVectorDict{SU2Irrep, Dict{FusionTree{SU2Irrep, 2, 0, 1, Nothing}, UnitRange{Int64}}}, TensorKit.SortedVectorDict{SU2Irrep, Int64}, TensorKit.SortedVectorDict{SU2Irrep, Dict{FusionTree{SU2Irrep, 2, 0, 1, Nothing}, UnitRange{Int64}}}, Vector{SU2Irrep}, DataType}((Rep[SU₂](0=>20, 1=>20, 2=>20, 3=>20, 4=>20, 5=>20, 6=>20, 7=>20, 8=>20, 9=>20, 10=>20) ⊗ Rep[SU₂](0=>5, 1=>2)'), (Rep[SU₂](1=>1)' ⊗ Rep[SU₂](0=>20, 1=>20, 2=>20, 3=>20, 4=>20, 5=>20, 6=>20, 7=>20, 8=>20, 9=>20, 10=>20)), Matrix{ComplexF64}, TensorKit.SortedVectorDict{SU2Irrep, Matrix{ComplexF64}}, FusionTree{SU2Irrep, 2, 0, 1, Nothing}, FusionTree{SU2Irrep, 2, 0, 1, Nothing}, TensorKit.SortedVectorDict{SU2Irrep, Int64}(0 => 20, 1 => 60, 2 => 60, 3 => 60, 4 => 60, 5 => 60, 6 => 60, 7 => 60, 8 => 60, 9 => 60…), TensorKit.SortedVectorDict{SU2Irrep, Dict{FusionTree{SU2Irrep, 2, 0, 1, Nothing}, UnitRange{Int64}}}(0 => Dict(FusionTree{Irrep[SU₂]}((1, 1), 0, (true, false), ()) => 1:20), 1 => Dict(FusionTree{Irrep[SU₂]}((1, 1), 1, (true, false), ()) => 21:40, FusionTree{Irrep[SU₂]}((1, 0), 1, (true, false), ()) => 1:20, FusionTree{Irrep[SU₂]}((1, 2), 1, (true, false), ()) => 41:60), 2 => Dict(FusionTree{Irrep[SU₂]}((1, 3), 2, (true, false), ()) => 41:60, FusionTree{Irrep[SU₂]}((1, 1), 2, (true, false), ()) => 1:20, FusionTree{Irrep[SU₂]}((1, 2), 2, (true, false), ()) => 21:40), 3 => Dict(FusionTree{Irrep[SU₂]}((1, 3), 3, (true, false), ()) => 21:40, FusionTree{Irrep[SU₂]}((1, 4), 3, (true, false), ()) => 41:60, FusionTree{Irrep[SU₂]}((1, 2), 3, (true, false), ()) => 1:20), 4 => Dict(FusionTree{Irrep[SU₂]}((1, 3), 4, (true, false), ()) => 1:20, FusionTree{Irrep[SU₂]}((1, 5), 4, (true, false), ()) => 41:60, FusionTree{Irrep[SU₂]}((1, 4), 4, (true, false), ()) => 21:40), 5 => Dict(FusionTree{Irrep[SU₂]}((1, 5), 5, (true, false), ()) => 21:40, FusionTree{Irrep[SU₂]}((1, 4), 5, (true, false), ()) => 1:20, FusionTree{Irrep[SU₂]}((1, 6), 5, (true, false), ()) => 41:60), 6 => Dict(FusionTree{Irrep[SU₂]}((1, 5), 6, (true, false), ()) => 1:20, FusionTree{Irrep[SU₂]}((1, 6), 6, (true, false), ()) => 21:40, FusionTree{Irrep[SU₂]}((1, 7), 6, (true, false), ()) => 41:60), 7 => Dict(FusionTree{Irrep[SU₂]}((1, 6), 7, (true, false), ()) => 1:20, FusionTree{Irrep[SU₂]}((1, 7), 7, (true, false), ()) => 21:40, FusionTree{Irrep[SU₂]}((1, 8), 7, (true, false), ()) => 41:60), 8 => Dict(FusionTree{Irrep[SU₂]}((1, 8), 8, (true, false), ()) => 21:40, FusionTree{Irrep[SU₂]}((1, 7), 8, (true, false), ()) => 1:20, FusionTree{Irrep[SU₂]}((1, 9), 8, (true, false), ()) => 41:60), 9 => Dict(FusionTree{Irrep[SU₂]}((1, 10), 9, (true, false), ()) => 41:60, FusionTree{Irrep[SU₂]}((1, 9), 9, (true, false), ()) => 21:40, FusionTree{Irrep[SU₂]}((1, 8), 9, (true, false), ()) => 1:20)…), TensorKit.SortedVectorDict{SU2Irrep, Int64}(0 => 140, 1 => 220, 2 => 220, 3 => 220, 4 => 220, 5 => 220, 6 => 220, 7 => 220, 8 => 220, 9 => 220…), TensorKit.SortedVectorDict{SU2Irrep, Dict{FusionTree{SU2Irrep, 2, 0, 1, Nothing}, UnitRange{Int64}}}(0 => Dict(FusionTree{Irrep[SU₂]}((0, 0), 0, (false, true), ()) => 1:100, FusionTree{Irrep[SU₂]}((1, 1), 0, (false, true), ()) => 101:140), 1 => Dict(FusionTree{Irrep[SU₂]}((0, 1), 1, (false, true), ()) => 101:140, FusionTree{Irrep[SU₂]}((2, 1), 1, (false, true), ()) => 181:220, FusionTree{Irrep[SU₂]}((1, 1), 1, (false, true), ()) => 141:180, FusionTree{Irrep[SU₂]}((1, 0), 1, (false, true), ()) => 1:100), 2 => Dict(FusionTree{Irrep[SU₂]}((3, 1), 2, (false, true), ()) => 181:220, FusionTree{Irrep[SU₂]}((2, 1), 2, (false, true), ()) => 141:180, FusionTree{Irrep[SU₂]}((2, 0), 2, (false, true), ()) => 1:100, FusionTree{Irrep[SU₂]}((1, 1), 2, (false, true), ()) => 101:140), 3 => Dict(FusionTree{Irrep[SU₂]}((3, 1), 3, (false, true), ()) => 141:180, FusionTree{Irrep[SU₂]}((3, 0), 3, (false, true), ()) => 1:100, FusionTree{Irrep[SU₂]}((2, 1), 3, (false, true), ()) => 101:140, FusionTree{Irrep[SU₂]}((4, 1), 3, (false, true), ()) => 181:220), 4 => Dict(FusionTree{Irrep[SU₂]}((4, 1), 4, (false, true), ()) => 141:180, FusionTree{Irrep[SU₂]}((4, 0), 4, (false, true), ()) => 1:100, FusionTree{Irrep[SU₂]}((5, 1), 4, (false, true), ()) => 181:220, FusionTree{Irrep[SU₂]}((3, 1), 4, (false, true), ()) => 101:140), 5 => Dict(FusionTree{Irrep[SU₂]}((5, 1), 5, (false, true), ()) => 141:180, FusionTree{Irrep[SU₂]}((5, 0), 5, (false, true), ()) => 1:100, FusionTree{Irrep[SU₂]}((4, 1), 5, (false, true), ()) => 101:140, FusionTree{Irrep[SU₂]}((6, 1), 5, (false, true), ()) => 181:220), 6 => Dict(FusionTree{Irrep[SU₂]}((6, 1), 6, (false, true), ()) => 141:180, FusionTree{Irrep[SU₂]}((6, 0), 6, (false, true), ()) => 1:100, FusionTree{Irrep[SU₂]}((7, 1), 6, (false, true), ()) => 181:220, FusionTree{Irrep[SU₂]}((5, 1), 6, (false, true), ()) => 101:140), 7 => Dict(FusionTree{Irrep[SU₂]}((7, 0), 7, (false, true), ()) => 1:100, FusionTree{Irrep[SU₂]}((8, 1), 7, (false, true), ()) => 181:220, FusionTree{Irrep[SU₂]}((6, 1), 7, (false, true), ()) => 101:140, FusionTree{Irrep[SU₂]}((7, 1), 7, (false, true), ()) => 141:180), 8 => Dict(FusionTree{Irrep[SU₂]}((8, 0), 8, (false, true), ()) => 1:100, FusionTree{Irrep[SU₂]}((7, 1), 8, (false, true), ()) => 101:140, FusionTree{Irrep[SU₂]}((9, 1), 8, (false, true), ()) => 181:220, FusionTree{Irrep[SU₂]}((8, 1), 8, (false, true), ()) => 141:180), 9 => Dict(FusionTree{Irrep[SU₂]}((9, 1), 9, (false, true), ()) => 141:180, FusionTree{Irrep[SU₂]}((9, 0), 9, (false, true), ()) => 1:100, FusionTree{Irrep[SU₂]}((8, 1), 9, (false, true), ()) => 101:140, FusionTree{Irrep[SU₂]}((10, 1), 9, (false, true), ()) => 181:220)…), SU2Irrep[1, 0, 2, 3, 4, 5, 6, 7, 8, 9, 10, 11], SU2Irrep), (Tuple{ComplexF64, Int64, UnitRange{Int64}, UnitRange{Int64}, NTuple{4, Int64}, Int64, UnitRange{Int64}, UnitRange{Int64}, NTuple{4, Int64}}[(0.5773502691896256 + 0.0im, 1, 1:100, 1:20, (20, 5, 1, 20), 2, 401:800, 1:5, (20, 20, 5, 1)), (0.3333333333333331 + 0.0im, 1, 101:140, 1:20, (20, 2, 1, 20), 2, 801:1200, 6:7, (20, 20, 2, 1)), (0.3333333333333332 + 0.0im, 1, 101:140, 1:20, (20, 2, 1, 20), 3, 401:800, 1:2, (20, 20, 2, 1)), (0.33333333333333315 + 0.0im, 1, 101:140, 1:20, (20, 2, 1, 20), 1, 401:800, 1:2, (20, 20, 2, 1)), (0.999999999999999 + 0.0im, 2, 101:140, 21:40, (20, 2, 1, 20), 2, 401:800, 6:7, (20, 20, 2, 1)), (1.7320508075688759 + 0.0im, 2, 101:140, 1:20, (20, 2, 1, 20), 1, 1:400, 1:2, (20, 20, 2, 1)), (0.7745966692414828 + 0.0im, 2, 101:140, 41:60, (20, 2, 1, 20), 3, 1601:2000, 1:2, (20, 20, 2, 1)), (-0.6708203932499365 + 0.0im, 2, 181:220, 21:40, (20, 2, 1, 20), 3, 801:1200, 1:2, (20, 20, 2, 1)), (-0.4999999999999995 + 0.0im, 2, 181:220, 21:40, (20, 2, 1, 20), 2, 1201:1600, 6:7, (20, 20, 2, 1)), (0.7745966692414828 + 0.0im, 2, 181:220, 1:20, (20, 2, 1, 20), 3, 1:400, 1:2, (20, 20, 2, 1))  …  (-2.645751311064588 + 0.0im, 11, 141:180, 21:40, (20, 2, 1, 20), 1, 4001:4400, 1:2, (20, 20, 2, 1)), (-0.17837651700316876 + 0.0im, 11, 141:180, 21:40, (20, 2, 1, 20), 2, 11601:12000, 6:7, (20, 20, 2, 1)), (1.6676057960168782 + 0.0im, 11, 141:180, 21:40, (20, 2, 1, 20), 3, 18001:18400, 1:2, (20, 20, 2, 1)), (-1.374772708486751 + 0.0im, 11, 141:180, 1:20, (20, 2, 1, 20), 3, 16801:17200, 1:2, (20, 20, 2, 1)), (1.9621416870348571 + 0.0im, 11, 141:180, 1:20, (20, 2, 1, 20), 2, 10801:11200, 6:7, (20, 20, 2, 1)), (-2.6457513110645894 + 0.0im, 11, 1:100, 21:40, (20, 5, 1, 20), 2, 11601:12000, 1:5, (20, 20, 5, 1)), (2.64575131106459 + 0.0im, 11, 1:100, 1:20, (20, 5, 1, 20), 2, 10801:11200, 1:5, (20, 20, 5, 1)), (2.8977276264040728 + 0.0im, 12, 1:40, 1:20, (20, 2, 1, 20), 1, 4001:4400, 1:2, (20, 20, 2, 1)), (-1.9536475671775628 + 0.0im, 12, 1:40, 1:20, (20, 2, 1, 20), 2, 11601:12000, 6:7, (20, 20, 2, 1)), (0.7940979981032754 + 0.0im, 12, 1:40, 1:20, (20, 2, 1, 20), 3, 18001:18400, 1:2, (20, 20, 2, 1))], (1, 4), (2, 3))), var\"#init_sym#14\"{2, 2, GradedSpace{SU2Irrep, TensorKit.SortedVectorDict{SU2Irrep, Int64}}, ProductSpace{GradedSpace{SU2Irrep, TensorKit.SortedVectorDict{SU2Irrep, Int64}}, 2}, ProductSpace{GradedSpace{SU2Irrep, TensorKit.SortedVectorDict{SU2Irrep, Int64}}, 2}, DataType, DataType, DataType, DataType, TensorKit.SortedVectorDict{SU2Irrep, Int64}, TensorKit.SortedVectorDict{SU2Irrep, Dict{FusionTree{SU2Irrep, 2, 0, 1, Nothing}, UnitRange{Int64}}}, TensorKit.SortedVectorDict{SU2Irrep, Int64}, TensorKit.SortedVectorDict{SU2Irrep, Dict{FusionTree{SU2Irrep, 2, 0, 1, Nothing}, UnitRange{Int64}}}, Vector{SU2Irrep}, DataType}((Rep[SU₂](0=>20, 1=>20, 2=>20, 3=>20, 4=>20, 5=>20, 6=>20, 7=>20, 8=>20, 9=>20, 10=>20) ⊗ Rep[SU₂](1=>1)), (Rep[SU₂](0=>20, 1=>20, 2=>20, 3=>20, 4=>20, 5=>20, 6=>20, 7=>20, 8=>20, 9=>20, 10=>20) ⊗ Rep[SU₂](0=>5, 1=>2)), Matrix{ComplexF64}, TensorKit.SortedVectorDict{SU2Irrep, Matrix{ComplexF64}}, FusionTree{SU2Irrep, 2, 0, 1, Nothing}, FusionTree{SU2Irrep, 2, 0, 1, Nothing}, TensorKit.SortedVectorDict{SU2Irrep, Int64}(0 => 140, 1 => 220, 2 => 220, 3 => 220, 4 => 220, 5 => 220, 6 => 220, 7 => 220, 8 => 220, 9 => 220…), TensorKit.SortedVectorDict{SU2Irrep, Dict{FusionTree{SU2Irrep, 2, 0, 1, Nothing}, UnitRange{Int64}}}(0 => Dict(FusionTree{Irrep[SU₂]}((0, 0), 0, (false, false), ()) => 1:100, FusionTree{Irrep[SU₂]}((1, 1), 0, (false, false), ()) => 101:140), 1 => Dict(FusionTree{Irrep[SU₂]}((2, 1), 1, (false, false), ()) => 181:220, FusionTree{Irrep[SU₂]}((1, 1), 1, (false, false), ()) => 141:180, FusionTree{Irrep[SU₂]}((1, 0), 1, (false, false), ()) => 1:100, FusionTree{Irrep[SU₂]}((0, 1), 1, (false, false), ()) => 101:140), 2 => Dict(FusionTree{Irrep[SU₂]}((3, 1), 2, (false, false), ()) => 181:220, FusionTree{Irrep[SU₂]}((2, 1), 2, (false, false), ()) => 141:180, FusionTree{Irrep[SU₂]}((2, 0), 2, (false, false), ()) => 1:100, FusionTree{Irrep[SU₂]}((1, 1), 2, (false, false), ()) => 101:140), 3 => Dict(FusionTree{Irrep[SU₂]}((3, 1), 3, (false, false), ()) => 141:180, FusionTree{Irrep[SU₂]}((3, 0), 3, (false, false), ()) => 1:100, FusionTree{Irrep[SU₂]}((2, 1), 3, (false, false), ()) => 101:140, FusionTree{Irrep[SU₂]}((4, 1), 3, (false, false), ()) => 181:220), 4 => Dict(FusionTree{Irrep[SU₂]}((5, 1), 4, (false, false), ()) => 181:220, FusionTree{Irrep[SU₂]}((3, 1), 4, (false, false), ()) => 101:140, FusionTree{Irrep[SU₂]}((4, 1), 4, (false, false), ()) => 141:180, FusionTree{Irrep[SU₂]}((4, 0), 4, (false, false), ()) => 1:100), 5 => Dict(FusionTree{Irrep[SU₂]}((5, 0), 5, (false, false), ()) => 1:100, FusionTree{Irrep[SU₂]}((4, 1), 5, (false, false), ()) => 101:140, FusionTree{Irrep[SU₂]}((6, 1), 5, (false, false), ()) => 181:220, FusionTree{Irrep[SU₂]}((5, 1), 5, (false, false), ()) => 141:180), 6 => Dict(FusionTree{Irrep[SU₂]}((5, 1), 6, (false, false), ()) => 101:140, FusionTree{Irrep[SU₂]}((6, 1), 6, (false, false), ()) => 141:180, FusionTree{Irrep[SU₂]}((6, 0), 6, (false, false), ()) => 1:100, FusionTree{Irrep[SU₂]}((7, 1), 6, (false, false), ()) => 181:220), 7 => Dict(FusionTree{Irrep[SU₂]}((8, 1), 7, (false, false), ()) => 181:220, FusionTree{Irrep[SU₂]}((6, 1), 7, (false, false), ()) => 101:140, FusionTree{Irrep[SU₂]}((7, 1), 7, (false, false), ()) => 141:180, FusionTree{Irrep[SU₂]}((7, 0), 7, (false, false), ()) => 1:100), 8 => Dict(FusionTree{Irrep[SU₂]}((7, 1), 8, (false, false), ()) => 101:140, FusionTree{Irrep[SU₂]}((9, 1), 8, (false, false), ()) => 181:220, FusionTree{Irrep[SU₂]}((8, 1), 8, (false, false), ()) => 141:180, FusionTree{Irrep[SU₂]}((8, 0), 8, (false, false), ()) => 1:100), 9 => Dict(FusionTree{Irrep[SU₂]}((9, 1), 9, (false, false), ()) => 141:180, FusionTree{Irrep[SU₂]}((9, 0), 9, (false, false), ()) => 1:100, FusionTree{Irrep[SU₂]}((8, 1), 9, (false, false), ()) => 101:140, FusionTree{Irrep[SU₂]}((10, 1), 9, (false, false), ()) => 181:220)…), TensorKit.SortedVectorDict{SU2Irrep, Int64}(0 => 20, 1 => 60, 2 => 60, 3 => 60, 4 => 60, 5 => 60, 6 => 60, 7 => 60, 8 => 60, 9 => 60…), TensorKit.SortedVectorDict{SU2Irrep, Dict{FusionTree{SU2Irrep, 2, 0, 1, Nothing}, UnitRange{Int64}}}(0 => Dict(FusionTree{Irrep[SU₂]}((1, 1), 0, (false, false), ()) => 1:20), 1 => Dict(FusionTree{Irrep[SU₂]}((2, 1), 1, (false, false), ()) => 41:60, FusionTree{Irrep[SU₂]}((1, 1), 1, (false, false), ()) => 21:40, FusionTree{Irrep[SU₂]}((0, 1), 1, (false, false), ()) => 1:20), 2 => Dict(FusionTree{Irrep[SU₂]}((3, 1), 2, (false, false), ()) => 41:60, FusionTree{Irrep[SU₂]}((2, 1), 2, (false, false), ()) => 21:40, FusionTree{Irrep[SU₂]}((1, 1), 2, (false, false), ()) => 1:20), 3 => Dict(FusionTree{Irrep[SU₂]}((3, 1), 3, (false, false), ()) => 21:40, FusionTree{Irrep[SU₂]}((2, 1), 3, (false, false), ()) => 1:20, FusionTree{Irrep[SU₂]}((4, 1), 3, (false, false), ()) => 41:60), 4 => Dict(FusionTree{Irrep[SU₂]}((5, 1), 4, (false, false), ()) => 41:60, FusionTree{Irrep[SU₂]}((3, 1), 4, (false, false), ()) => 1:20, FusionTree{Irrep[SU₂]}((4, 1), 4, (false, false), ()) => 21:40), 5 => Dict(FusionTree{Irrep[SU₂]}((4, 1), 5, (false, false), ()) => 1:20, FusionTree{Irrep[SU₂]}((6, 1), 5, (false, false), ()) => 41:60, FusionTree{Irrep[SU₂]}((5, 1), 5, (false, false), ()) => 21:40), 6 => Dict(FusionTree{Irrep[SU₂]}((5, 1), 6, (false, false), ()) => 1:20, FusionTree{Irrep[SU₂]}((6, 1), 6, (false, false), ()) => 21:40, FusionTree{Irrep[SU₂]}((7, 1), 6, (false, false), ()) => 41:60), 7 => Dict(FusionTree{Irrep[SU₂]}((8, 1), 7, (false, false), ()) => 41:60, FusionTree{Irrep[SU₂]}((6, 1), 7, (false, false), ()) => 1:20, FusionTree{Irrep[SU₂]}((7, 1), 7, (false, false), ()) => 21:40), 8 => Dict(FusionTree{Irrep[SU₂]}((7, 1), 8, (false, false), ()) => 1:20, FusionTree{Irrep[SU₂]}((9, 1), 8, (false, false), ()) => 41:60, FusionTree{Irrep[SU₂]}((8, 1), 8, (false, false), ()) => 21:40), 9 => Dict(FusionTree{Irrep[SU₂]}((9, 1), 9, (false, false), ()) => 21:40, FusionTree{Irrep[SU₂]}((8, 1), 9, (false, false), ()) => 1:20, FusionTree{Irrep[SU₂]}((10, 1), 9, (false, false), ()) => 41:60)…), SU2Irrep[0, 1, 2, 3, 4, 5, 6, 7, 8, 9, 10, 11], SU2Irrep), (var\"#init_sym#14\"{2, 2, GradedSpace{SU2Irrep, TensorKit.SortedVectorDict{SU2Irrep, Int64}}, ProductSpace{GradedSpace{SU2Irrep, TensorKit.SortedVectorDict{SU2Irrep, Int64}}, 2}, ProductSpace{GradedSpace{SU2Irrep, TensorKit.SortedVectorDict{SU2Irrep, Int64}}, 2}, DataType, DataType, DataType, DataType, TensorKit.SortedVectorDict{SU2Irrep, Int64}, TensorKit.SortedVectorDict{SU2Irrep, Dict{FusionTree{SU2Irrep, 2, 0, 1, Nothing}, UnitRange{Int64}}}, TensorKit.SortedVectorDict{SU2Irrep, Int64}, TensorKit.SortedVectorDict{SU2Irrep, Dict{FusionTree{SU2Irrep, 2, 0, 1, Nothing}, UnitRange{Int64}}}, Vector{SU2Irrep}, DataType}((Rep[SU₂](0=>20, 1=>20, 2=>20, 3=>20, 4=>20, 5=>20, 6=>20, 7=>20, 8=>20, 9=>20, 10=>20) ⊗ Rep[SU₂](0=>20, 1=>20, 2=>20, 3=>20, 4=>20, 5=>20, 6=>20, 7=>20, 8=>20, 9=>20, 10=>20)'), (Rep[SU₂](0=>5, 1=>2) ⊗ Rep[SU₂](1=>1)'), Matrix{ComplexF64}, TensorKit.SortedVectorDict{SU2Irrep, Matrix{ComplexF64}}, FusionTree{SU2Irrep, 2, 0, 1, Nothing}, FusionTree{SU2Irrep, 2, 0, 1, Nothing}, TensorKit.SortedVectorDict{SU2Irrep, Int64}(0 => 2, 1 => 7, 2 => 2), TensorKit.SortedVectorDict{SU2Irrep, Dict{FusionTree{SU2Irrep, 2, 0, 1, Nothing}, UnitRange{Int64}}}(0 => Dict(FusionTree{Irrep[SU₂]}((1, 1), 0, (false, true), ()) => 1:2), 1 => Dict(FusionTree{Irrep[SU₂]}((0, 1), 1, (false, true), ()) => 1:5, FusionTree{Irrep[SU₂]}((1, 1), 1, (false, true), ()) => 6:7), 2 => Dict(FusionTree{Irrep[SU₂]}((1, 1), 2, (false, true), ()) => 1:2)), TensorKit.SortedVectorDict{SU2Irrep, Int64}(0 => 4400, 1 => 12000, 2 => 18400), TensorKit.SortedVectorDict{SU2Irrep, Dict{FusionTree{SU2Irrep, 2, 0, 1, Nothing}, UnitRange{Int64}}}(0 => Dict(FusionTree{Irrep[SU₂]}((9, 9), 0, (false, true), ()) => 3601:4000, FusionTree{Irrep[SU₂]}((3, 3), 0, (false, true), ()) => 1201:1600, FusionTree{Irrep[SU₂]}((0, 0), 0, (false, true), ()) => 1:400, FusionTree{Irrep[SU₂]}((7, 7), 0, (false, true), ()) => 2801:3200, FusionTree{Irrep[SU₂]}((10, 10), 0, (false, true), ()) => 4001:4400, FusionTree{Irrep[SU₂]}((1, 1), 0, (false, true), ()) => 401:800, FusionTree{Irrep[SU₂]}((2, 2), 0, (false, true), ()) => 801:1200, FusionTree{Irrep[SU₂]}((5, 5), 0, (false, true), ()) => 2001:2400, FusionTree{Irrep[SU₂]}((6, 6), 0, (false, true), ()) => 2401:2800, FusionTree{Irrep[SU₂]}((8, 8), 0, (false, true), ()) => 3201:3600…), 1 => Dict(FusionTree{Irrep[SU₂]}((6, 7), 1, (false, true), ()) => 7601:8000, FusionTree{Irrep[SU₂]}((10, 10), 1, (false, true), ()) => 11601:12000, FusionTree{Irrep[SU₂]}((10, 9), 1, (false, true), ()) => 10801:11200, FusionTree{Irrep[SU₂]}((2, 3), 1, (false, true), ()) => 2801:3200, FusionTree{Irrep[SU₂]}((2, 1), 1, (false, true), ()) => 1201:1600, FusionTree{Irrep[SU₂]}((3, 4), 1, (false, true), ()) => 4001:4400, FusionTree{Irrep[SU₂]}((1, 1), 1, (false, true), ()) => 801:1200, FusionTree{Irrep[SU₂]}((5, 6), 1, (false, true), ()) => 6401:6800, FusionTree{Irrep[SU₂]}((2, 2), 1, (false, true), ()) => 2001:2400, FusionTree{Irrep[SU₂]}((1, 2), 1, (false, true), ()) => 1601:2000…), 2 => Dict(FusionTree{Irrep[SU₂]}((9, 9), 2, (false, true), ()) => 16401:16800, FusionTree{Irrep[SU₂]}((3, 1), 2, (false, true), ()) => 1201:1600, FusionTree{Irrep[SU₂]}((7, 7), 2, (false, true), ()) => 12401:12800, FusionTree{Irrep[SU₂]}((10, 8), 2, (false, true), ()) => 15201:15600, FusionTree{Irrep[SU₂]}((8, 7), 2, (false, true), ()) => 12801:13200, FusionTree{Irrep[SU₂]}((5, 3), 2, (false, true), ()) => 5201:5600, FusionTree{Irrep[SU₂]}((2, 1), 2, (false, true), ()) => 801:1200, FusionTree{Irrep[SU₂]}((1, 2), 2, (false, true), ()) => 2001:2400, FusionTree{Irrep[SU₂]}((5, 5), 2, (false, true), ()) => 8401:8800, FusionTree{Irrep[SU₂]}((9, 10), 2, (false, true), ()) => 17601:18000…)), SU2Irrep[1, 0, 2], SU2Irrep), (Tuple{ComplexF64, Int64, UnitRange{Int64}, UnitRange{Int64}, NTuple{4, Int64}, Int64, UnitRange{Int64}, UnitRange{Int64}, NTuple{4, Int64}}[(0.9999999999999996 + 0.0im, 1, 3601:4000, 1:2, (20, 20, 2, 1), 1, 3601:4000, 1:2, (20, 20, 2, 1)), (0.9999999999999996 + 0.0im, 1, 1201:1600, 1:2, (20, 20, 2, 1), 1, 1201:1600, 1:2, (20, 20, 2, 1)), (0.9999999999999996 + 0.0im, 1, 1:400, 1:2, (20, 20, 2, 1), 1, 1:400, 1:2, (20, 20, 2, 1)), (0.9999999999999996 + 0.0im, 1, 2801:3200, 1:2, (20, 20, 2, 1), 1, 2801:3200, 1:2, (20, 20, 2, 1)), (0.9999999999999996 + 0.0im, 1, 4001:4400, 1:2, (20, 20, 2, 1), 1, 4001:4400, 1:2, (20, 20, 2, 1)), (0.9999999999999996 + 0.0im, 1, 401:800, 1:2, (20, 20, 2, 1), 1, 401:800, 1:2, (20, 20, 2, 1)), (0.9999999999999996 + 0.0im, 1, 801:1200, 1:2, (20, 20, 2, 1), 1, 801:1200, 1:2, (20, 20, 2, 1)), (0.9999999999999996 + 0.0im, 1, 2001:2400, 1:2, (20, 20, 2, 1), 1, 2001:2400, 1:2, (20, 20, 2, 1)), (0.9999999999999996 + 0.0im, 1, 2401:2800, 1:2, (20, 20, 2, 1), 1, 2401:2800, 1:2, (20, 20, 2, 1)), (0.9999999999999996 + 0.0im, 1, 3201:3600, 1:2, (20, 20, 2, 1), 1, 3201:3600, 1:2, (20, 20, 2, 1))  …  (0.9999999999999997 + 0.0im, 3, 4401:4800, 1:2, (20, 20, 2, 1), 3, 4401:4800, 1:2, (20, 20, 2, 1)), (0.9999999999999997 + 0.0im, 3, 18001:18400, 1:2, (20, 20, 2, 1), 3, 18001:18400, 1:2, (20, 20, 2, 1)), (0.9999999999999997 + 0.0im, 3, 4001:4400, 1:2, (20, 20, 2, 1), 3, 4001:4400, 1:2, (20, 20, 2, 1)), (0.9999999999999997 + 0.0im, 3, 7601:8000, 1:2, (20, 20, 2, 1), 3, 7601:8000, 1:2, (20, 20, 2, 1)), (0.9999999999999997 + 0.0im, 3, 10001:10400, 1:2, (20, 20, 2, 1), 3, 10001:10400, 1:2, (20, 20, 2, 1)), (0.9999999999999997 + 0.0im, 3, 4801:5200, 1:2, (20, 20, 2, 1), 3, 4801:5200, 1:2, (20, 20, 2, 1)), (0.9999999999999997 + 0.0im, 3, 14001:14400, 1:2, (20, 20, 2, 1), 3, 14001:14400, 1:2, (20, 20, 2, 1)), (0.9999999999999997 + 0.0im, 3, 10401:10800, 1:2, (20, 20, 2, 1), 3, 10401:10800, 1:2, (20, 20, 2, 1)), (0.9999999999999997 + 0.0im, 3, 14401:14800, 1:2, (20, 20, 2, 1), 3, 14401:14800, 1:2, (20, 20, 2, 1)), (0.9999999999999997 + 0.0im, 3, 8001:8400, 1:2, (20, 20, 2, 1), 3, 8001:8400, 1:2, (20, 20, 2, 1))], (1, 2), (3, 4)), var\"#init_sym#14\"{2, 2, GradedSpace{SU2Irrep, TensorKit.SortedVectorDict{SU2Irrep, Int64}}, ProductSpace{GradedSpace{SU2Irrep, TensorKit.SortedVectorDict{SU2Irrep, Int64}}, 2}, ProductSpace{GradedSpace{SU2Irrep, TensorKit.SortedVectorDict{SU2Irrep, Int64}}, 2}, DataType, DataType, DataType, DataType, TensorKit.SortedVectorDict{SU2Irrep, Int64}, TensorKit.SortedVectorDict{SU2Irrep, Dict{FusionTree{SU2Irrep, 2, 0, 1, Nothing}, UnitRange{Int64}}}, TensorKit.SortedVectorDict{SU2Irrep, Int64}, TensorKit.SortedVectorDict{SU2Irrep, Dict{FusionTree{SU2Irrep, 2, 0, 1, Nothing}, UnitRange{Int64}}}, Vector{SU2Irrep}, DataType}((Rep[SU₂](0=>5, 1=>2) ⊗ Rep[SU₂](1=>1)'), (Rep[SU₂](1=>1)' ⊗ Rep[SU₂](0=>5, 1=>2)), Matrix{ComplexF64}, TensorKit.SortedVectorDict{SU2Irrep, Matrix{ComplexF64}}, FusionTree{SU2Irrep, 2, 0, 1, Nothing}, FusionTree{SU2Irrep, 2, 0, 1, Nothing}, TensorKit.SortedVectorDict{SU2Irrep, Int64}(0 => 2, 1 => 7, 2 => 2), TensorKit.SortedVectorDict{SU2Irrep, Dict{FusionTree{SU2Irrep, 2, 0, 1, Nothing}, UnitRange{Int64}}}(0 => Dict(FusionTree{Irrep[SU₂]}((1, 1), 0, (true, false), ()) => 1:2), 1 => Dict(FusionTree{Irrep[SU₂]}((1, 1), 1, (true, false), ()) => 6:7, FusionTree{Irrep[SU₂]}((1, 0), 1, (true, false), ()) => 1:5), 2 => Dict(FusionTree{Irrep[SU₂]}((1, 1), 2, (true, false), ()) => 1:2)), TensorKit.SortedVectorDict{SU2Irrep, Int64}(0 => 2, 1 => 7, 2 => 2), TensorKit.SortedVectorDict{SU2Irrep, Dict{FusionTree{SU2Irrep, 2, 0, 1, Nothing}, UnitRange{Int64}}}(0 => Dict(FusionTree{Irrep[SU₂]}((1, 1), 0, (false, true), ()) => 1:2), 1 => Dict(FusionTree{Irrep[SU₂]}((0, 1), 1, (false, true), ()) => 1:5, FusionTree{Irrep[SU₂]}((1, 1), 1, (false, true), ()) => 6:7), 2 => Dict(FusionTree{Irrep[SU₂]}((1, 1), 2, (false, true), ()) => 1:2)), SU2Irrep[1, 0, 2], SU2Irrep), (Tuple{ComplexF64, Int64, UnitRange{Int64}, UnitRange{Int64}, NTuple{4, Int64}, Int64, UnitRange{Int64}, UnitRange{Int64}, NTuple{4, Int64}}[(0.3333333333333331 + 0.0im, 1, 1:2, 1:2, (2, 1, 1, 2), 1, 1:2, 1:2, (2, 1, 1, 2)), (0.33333333333333304 + 0.0im, 1, 1:2, 1:2, (2, 1, 1, 2), 2, 6:7, 6:7, (2, 1, 1, 2)), (0.33333333333333315 + 0.0im, 1, 1:2, 1:2, (2, 1, 1, 2), 3, 1:2, 1:2, (2, 1, 1, 2)), (0.999999999999999 + 0.0im, 2, 6:7, 6:7, (2, 1, 1, 2), 1, 1:2, 1:2, (2, 1, 1, 2)), (0.4999999999999994 + 0.0im, 2, 6:7, 6:7, (2, 1, 1, 2), 2, 6:7, 6:7, (2, 1, 1, 2)), (-0.49999999999999956 + 0.0im, 2, 6:7, 6:7, (2, 1, 1, 2), 3, 1:2, 1:2, (2, 1, 1, 2)), (-0.9999999999999992 + 0.0im, 2, 6:7, 1:5, (2, 1, 1, 5), 2, 6:7, 1:5, (2, 1, 1, 5)), (-0.9999999999999988 + 0.0im, 2, 1:5, 6:7, (5, 1, 1, 2), 2, 1:5, 6:7, (5, 1, 1, 2)), (0.9999999999999992 + 0.0im, 2, 1:5, 1:5, (5, 1, 1, 5), 2, 1:5, 1:5, (5, 1, 1, 5)), (1.6666666666666654 + 0.0im, 3, 1:2, 1:2, (2, 1, 1, 2), 1, 1:2, 1:2, (2, 1, 1, 2)), (-0.8333333333333327 + 0.0im, 3, 1:2, 1:2, (2, 1, 1, 2), 2, 6:7, 6:7, (2, 1, 1, 2)), (0.1666666666666666 + 0.0im, 3, 1:2, 1:2, (2, 1, 1, 2), 3, 1:2, 1:2, (2, 1, 1, 2))], (1, 3), (2, 4)), var\"#init_sym#14\"{2, 2, GradedSpace{SU2Irrep, TensorKit.SortedVectorDict{SU2Irrep, Int64}}, ProductSpace{GradedSpace{SU2Irrep, TensorKit.SortedVectorDict{SU2Irrep, Int64}}, 2}, ProductSpace{GradedSpace{SU2Irrep, TensorKit.SortedVectorDict{SU2Irrep, Int64}}, 2}, DataType, DataType, DataType, DataType, TensorKit.SortedVectorDict{SU2Irrep, Int64}, TensorKit.SortedVectorDict{SU2Irrep, Dict{FusionTree{SU2Irrep, 2, 0, 1, Nothing}, UnitRange{Int64}}}, TensorKit.SortedVectorDict{SU2Irrep, Int64}, TensorKit.SortedVectorDict{SU2Irrep, Dict{FusionTree{SU2Irrep, 2, 0, 1, Nothing}, UnitRange{Int64}}}, Vector{SU2Irrep}, DataType}((Rep[SU₂](0=>20, 1=>20, 2=>20, 3=>20, 4=>20, 5=>20, 6=>20, 7=>20, 8=>20, 9=>20, 10=>20) ⊗ Rep[SU₂](0=>20, 1=>20, 2=>20, 3=>20, 4=>20, 5=>20, 6=>20, 7=>20, 8=>20, 9=>20, 10=>20)'), (Rep[SU₂](1=>1)' ⊗ Rep[SU₂](0=>5, 1=>2)), Matrix{ComplexF64}, TensorKit.SortedVectorDict{SU2Irrep, Matrix{ComplexF64}}, FusionTree{SU2Irrep, 2, 0, 1, Nothing}, FusionTree{SU2Irrep, 2, 0, 1, Nothing}, TensorKit.SortedVectorDict{SU2Irrep, Int64}(0 => 2, 1 => 7, 2 => 2), TensorKit.SortedVectorDict{SU2Irrep, Dict{FusionTree{SU2Irrep, 2, 0, 1, Nothing}, UnitRange{Int64}}}(0 => Dict(FusionTree{Irrep[SU₂]}((1, 1), 0, (true, false), ()) => 1:2), 1 => Dict(FusionTree{Irrep[SU₂]}((1, 1), 1, (true, false), ()) => 6:7, FusionTree{Irrep[SU₂]}((1, 0), 1, (true, false), ()) => 1:5), 2 => Dict(FusionTree{Irrep[SU₂]}((1, 1), 2, (true, false), ()) => 1:2)), TensorKit.SortedVectorDict{SU2Irrep, Int64}(0 => 4400, 1 => 12000, 2 => 18400), TensorKit.SortedVectorDict{SU2Irrep, Dict{FusionTree{SU2Irrep, 2, 0, 1, Nothing}, UnitRange{Int64}}}(0 => Dict(FusionTree{Irrep[SU₂]}((9, 9), 0, (false, true), ()) => 3601:4000, FusionTree{Irrep[SU₂]}((3, 3), 0, (false, true), ()) => 1201:1600, FusionTree{Irrep[SU₂]}((0, 0), 0, (false, true), ()) => 1:400, FusionTree{Irrep[SU₂]}((7, 7), 0, (false, true), ()) => 2801:3200, FusionTree{Irrep[SU₂]}((10, 10), 0, (false, true), ()) => 4001:4400, FusionTree{Irrep[SU₂]}((1, 1), 0, (false, true), ()) => 401:800, FusionTree{Irrep[SU₂]}((2, 2), 0, (false, true), ()) => 801:1200, FusionTree{Irrep[SU₂]}((5, 5), 0, (false, true), ()) => 2001:2400, FusionTree{Irrep[SU₂]}((6, 6), 0, (false, true), ()) => 2401:2800, FusionTree{Irrep[SU₂]}((8, 8), 0, (false, true), ()) => 3201:3600…), 1 => Dict(FusionTree{Irrep[SU₂]}((6, 7), 1, (false, true), ()) => 7601:8000, FusionTree{Irrep[SU₂]}((10, 10), 1, (false, true), ()) => 11601:12000, FusionTree{Irrep[SU₂]}((10, 9), 1, (false, true), ()) => 10801:11200, FusionTree{Irrep[SU₂]}((2, 3), 1, (false, true), ()) => 2801:3200, FusionTree{Irrep[SU₂]}((2, 1), 1, (false, true), ()) => 1201:1600, FusionTree{Irrep[SU₂]}((3, 4), 1, (false, true), ()) => 4001:4400, FusionTree{Irrep[SU₂]}((1, 1), 1, (false, true), ()) => 801:1200, FusionTree{Irrep[SU₂]}((5, 6), 1, (false, true), ()) => 6401:6800, FusionTree{Irrep[SU₂]}((2, 2), 1, (false, true), ()) => 2001:2400, FusionTree{Irrep[SU₂]}((1, 2), 1, (false, true), ()) => 1601:2000…), 2 => Dict(FusionTree{Irrep[SU₂]}((9, 9), 2, (false, true), ()) => 16401:16800, FusionTree{Irrep[SU₂]}((3, 1), 2, (false, true), ()) => 1201:1600, FusionTree{Irrep[SU₂]}((7, 7), 2, (false, true), ()) => 12401:12800, FusionTree{Irrep[SU₂]}((10, 8), 2, (false, true), ()) => 15201:15600, FusionTree{Irrep[SU₂]}((8, 7), 2, (false, true), ()) => 12801:13200, FusionTree{Irrep[SU₂]}((5, 3), 2, (false, true), ()) => 5201:5600, FusionTree{Irrep[SU₂]}((2, 1), 2, (false, true), ()) => 801:1200, FusionTree{Irrep[SU₂]}((1, 2), 2, (false, true), ()) => 2001:2400, FusionTree{Irrep[SU₂]}((5, 5), 2, (false, true), ()) => 8401:8800, FusionTree{Irrep[SU₂]}((9, 10), 2, (false, true), ()) => 17601:18000…)), SU2Irrep[1, 0, 2], SU2Irrep), (Tuple{ComplexF64, Int64, UnitRange{Int64}, UnitRange{Int64}, NTuple{4, Int64}, Int64, UnitRange{Int64}, UnitRange{Int64}, NTuple{4, Int64}}[(0.13245323570650436 + 0.0im, 1, 3601:4000, 1:2, (20, 20, 1, 2), 10, 21:40, 141:180, (20, 1, 20, 2)), (0.1324532357065043 + 0.0im, 1, 3601:4000, 1:2, (20, 20, 1, 2), 11, 1:20, 101:140, (20, 1, 20, 2)), (0.13245323570650433 + 0.0im, 1, 3601:4000, 1:2, (20, 20, 1, 2), 9, 41:60, 181:220, (20, 1, 20, 2)), (0.21821789023599217 + 0.0im, 1, 1201:1600, 1:2, (20, 20, 1, 2), 5, 1:20, 101:140, (20, 1, 20, 2)), (0.2182178902359922 + 0.0im, 1, 1201:1600, 1:2, (20, 20, 1, 2), 4, 21:40, 141:180, (20, 1, 20, 2)), (0.2182178902359922 + 0.0im, 1, 1201:1600, 1:2, (20, 20, 1, 2), 3, 41:60, 181:220, (20, 1, 20, 2)), (0.5773502691896255 + 0.0im, 1, 1:400, 1:2, (20, 20, 1, 2), 2, 1:20, 101:140, (20, 1, 20, 2)), (0.14907119849998582 + 0.0im, 1, 2801:3200, 1:2, (20, 20, 1, 2), 9, 1:20, 101:140, (20, 1, 20, 2)), (0.14907119849998582 + 0.0im, 1, 2801:3200, 1:2, (20, 20, 1, 2), 8, 21:40, 141:180, (20, 1, 20, 2)), (0.14907119849998582 + 0.0im, 1, 2801:3200, 1:2, (20, 20, 1, 2), 7, 41:60, 181:220, (20, 1, 20, 2))  …  (0.35871502698971947 + 0.0im, 3, 14001:14400, 1:2, (20, 20, 1, 2), 9, 1:20, 141:180, (20, 1, 20, 2)), (-0.4330127018922189 + 0.0im, 3, 14001:14400, 1:2, (20, 20, 1, 2), 8, 21:40, 181:220, (20, 1, 20, 2)), (0.3193451925132925 + 0.0im, 3, 10401:10800, 1:2, (20, 20, 1, 2), 6, 41:60, 181:220, (20, 1, 20, 2)), (0.20073126386549814 + 0.0im, 3, 10401:10800, 1:2, (20, 20, 1, 2), 8, 1:20, 101:140, (20, 1, 20, 2)), (-0.5018281596637452 + 0.0im, 3, 10401:10800, 1:2, (20, 20, 1, 2), 7, 21:40, 141:180, (20, 1, 20, 2)), (0.264297069935462 + 0.0im, 3, 14401:14800, 1:2, (20, 20, 1, 2), 8, 41:60, 181:220, (20, 1, 20, 2)), (-0.4404951165591033 + 0.0im, 3, 14401:14800, 1:2, (20, 20, 1, 2), 9, 21:40, 141:180, (20, 1, 20, 2)), (0.18547162802488565 + 0.0im, 3, 14401:14800, 1:2, (20, 20, 1, 2), 10, 1:20, 101:140, (20, 1, 20, 2)), (-0.5773502691896254 + 0.0im, 3, 8001:8400, 1:2, (20, 20, 1, 2), 5, 21:40, 181:220, (20, 1, 20, 2)), (0.42640143271122083 + 0.0im, 3, 8001:8400, 1:2, (20, 20, 1, 2), 6, 1:20, 141:180, (20, 1, 20, 2))], (1, 3), (2, 4))), var\"#init_sym#14\"{2, 1, GradedSpace{SU2Irrep, TensorKit.SortedVectorDict{SU2Irrep, Int64}}, ProductSpace{GradedSpace{SU2Irrep, TensorKit.SortedVectorDict{SU2Irrep, Int64}}, 2}, ProductSpace{GradedSpace{SU2Irrep, TensorKit.SortedVectorDict{SU2Irrep, Int64}}, 1}, DataType, DataType, DataType, DataType, TensorKit.SortedVectorDict{SU2Irrep, Int64}, TensorKit.SortedVectorDict{SU2Irrep, Dict{FusionTree{SU2Irrep, 1, 0, 0, Nothing}, UnitRange{Int64}}}, TensorKit.SortedVectorDict{SU2Irrep, Int64}, TensorKit.SortedVectorDict{SU2Irrep, Dict{FusionTree{SU2Irrep, 2, 0, 1, Nothing}, UnitRange{Int64}}}, Vector{SU2Irrep}, DataType}((Rep[SU₂](0=>20, 1=>20, 2=>20, 3=>20, 4=>20, 5=>20, 6=>20, 7=>20, 8=>20, 9=>20, 10=>20) ⊗ Rep[SU₂](1=>1)), ProductSpace(Rep[SU₂](0=>20, 1=>20, 2=>20, 3=>20, 4=>20, 5=>20, 6=>20, 7=>20, 8=>20, 9=>20, 10=>20)), Matrix{ComplexF64}, TensorKit.SortedVectorDict{SU2Irrep, Matrix{ComplexF64}}, FusionTree{SU2Irrep, 1, 0, 0, Nothing}, FusionTree{SU2Irrep, 2, 0, 1, Nothing}, TensorKit.SortedVectorDict{SU2Irrep, Int64}(0 => 20, 1 => 20, 2 => 20, 3 => 20, 4 => 20, 5 => 20, 6 => 20, 7 => 20, 8 => 20, 9 => 20…), TensorKit.SortedVectorDict{SU2Irrep, Dict{FusionTree{SU2Irrep, 1, 0, 0, Nothing}, UnitRange{Int64}}}(0 => Dict(FusionTree{Irrep[SU₂]}((0,), 0, (false,), ()) => 1:20), 1 => Dict(FusionTree{Irrep[SU₂]}((1,), 1, (false,), ()) => 1:20), 2 => Dict(FusionTree{Irrep[SU₂]}((2,), 2, (false,), ()) => 1:20), 3 => Dict(FusionTree{Irrep[SU₂]}((3,), 3, (false,), ()) => 1:20), 4 => Dict(FusionTree{Irrep[SU₂]}((4,), 4, (false,), ()) => 1:20), 5 => Dict(FusionTree{Irrep[SU₂]}((5,), 5, (false,), ()) => 1:20), 6 => Dict(FusionTree{Irrep[SU₂]}((6,), 6, (false,), ()) => 1:20), 7 => Dict(FusionTree{Irrep[SU₂]}((7,), 7, (false,), ()) => 1:20), 8 => Dict(FusionTree{Irrep[SU₂]}((8,), 8, (false,), ()) => 1:20), 9 => Dict(FusionTree{Irrep[SU₂]}((9,), 9, (false,), ()) => 1:20)…), TensorKit.SortedVectorDict{SU2Irrep, Int64}(0 => 20, 1 => 60, 2 => 60, 3 => 60, 4 => 60, 5 => 60, 6 => 60, 7 => 60, 8 => 60, 9 => 60…), TensorKit.SortedVectorDict{SU2Irrep, Dict{FusionTree{SU2Irrep, 2, 0, 1, Nothing}, UnitRange{Int64}}}(0 => Dict(FusionTree{Irrep[SU₂]}((1, 1), 0, (false, false), ()) => 1:20), 1 => Dict(FusionTree{Irrep[SU₂]}((2, 1), 1, (false, false), ()) => 41:60, FusionTree{Irrep[SU₂]}((1, 1), 1, (false, false), ()) => 21:40, FusionTree{Irrep[SU₂]}((0, 1), 1, (false, false), ()) => 1:20), 2 => Dict(FusionTree{Irrep[SU₂]}((3, 1), 2, (false, false), ()) => 41:60, FusionTree{Irrep[SU₂]}((2, 1), 2, (false, false), ()) => 21:40, FusionTree{Irrep[SU₂]}((1, 1), 2, (false, false), ()) => 1:20), 3 => Dict(FusionTree{Irrep[SU₂]}((3, 1), 3, (false, false), ()) => 21:40, FusionTree{Irrep[SU₂]}((2, 1), 3, (false, false), ()) => 1:20, FusionTree{Irrep[SU₂]}((4, 1), 3, (false, false), ()) => 41:60), 4 => Dict(FusionTree{Irrep[SU₂]}((5, 1), 4, (false, false), ()) => 41:60, FusionTree{Irrep[SU₂]}((3, 1), 4, (false, false), ()) => 1:20, FusionTree{Irrep[SU₂]}((4, 1), 4, (false, false), ()) => 21:40), 5 => Dict(FusionTree{Irrep[SU₂]}((4, 1), 5, (false, false), ()) => 1:20, FusionTree{Irrep[SU₂]}((6, 1), 5, (false, false), ()) => 41:60, FusionTree{Irrep[SU₂]}((5, 1), 5, (false, false), ()) => 21:40), 6 => Dict(FusionTree{Irrep[SU₂]}((5, 1), 6, (false, false), ()) => 1:20, FusionTree{Irrep[SU₂]}((6, 1), 6, (false, false), ()) => 21:40, FusionTree{Irrep[SU₂]}((7, 1), 6, (false, false), ()) => 41:60), 7 => Dict(FusionTree{Irrep[SU₂]}((8, 1), 7, (false, false), ()) => 41:60, FusionTree{Irrep[SU₂]}((6, 1), 7, (false, false), ()) => 1:20, FusionTree{Irrep[SU₂]}((7, 1), 7, (false, false), ()) => 21:40), 8 => Dict(FusionTree{Irrep[SU₂]}((7, 1), 8, (false, false), ()) => 1:20, FusionTree{Irrep[SU₂]}((9, 1), 8, (false, false), ()) => 41:60, FusionTree{Irrep[SU₂]}((8, 1), 8, (false, false), ()) => 21:40), 9 => Dict(FusionTree{Irrep[SU₂]}((9, 1), 9, (false, false), ()) => 21:40, FusionTree{Irrep[SU₂]}((8, 1), 9, (false, false), ()) => 1:20, FusionTree{Irrep[SU₂]}((10, 1), 9, (false, false), ()) => 41:60)…), SU2Irrep[0, 1, 2, 3, 4, 5, 6, 7, 8, 9, 10], SU2Irrep), (var\"#init_sym#14\"{2, 2, GradedSpace{SU2Irrep, TensorKit.SortedVectorDict{SU2Irrep, Int64}}, ProductSpace{GradedSpace{SU2Irrep, TensorKit.SortedVectorDict{SU2Irrep, Int64}}, 2}, ProductSpace{GradedSpace{SU2Irrep, TensorKit.SortedVectorDict{SU2Irrep, Int64}}, 2}, DataType, DataType, DataType, DataType, TensorKit.SortedVectorDict{SU2Irrep, Int64}, TensorKit.SortedVectorDict{SU2Irrep, Dict{FusionTree{SU2Irrep, 2, 0, 1, Nothing}, UnitRange{Int64}}}, TensorKit.SortedVectorDict{SU2Irrep, Int64}, TensorKit.SortedVectorDict{SU2Irrep, Dict{FusionTree{SU2Irrep, 2, 0, 1, Nothing}, UnitRange{Int64}}}, Vector{SU2Irrep}, DataType}((Rep[SU₂](0=>20, 1=>20, 2=>20, 3=>20, 4=>20, 5=>20, 6=>20, 7=>20, 8=>20, 9=>20, 10=>20) ⊗ Rep[SU₂](1=>1)), (Rep[SU₂](0=>20, 1=>20, 2=>20, 3=>20, 4=>20, 5=>20, 6=>20, 7=>20, 8=>20, 9=>20, 10=>20) ⊗ Rep[SU₂](0=>5, 1=>2)), Matrix{ComplexF64}, TensorKit.SortedVectorDict{SU2Irrep, Matrix{ComplexF64}}, FusionTree{SU2Irrep, 2, 0, 1, Nothing}, FusionTree{SU2Irrep, 2, 0, 1, Nothing}, TensorKit.SortedVectorDict{SU2Irrep, Int64}(0 => 140, 1 => 220, 2 => 220, 3 => 220, 4 => 220, 5 => 220, 6 => 220, 7 => 220, 8 => 220, 9 => 220…), TensorKit.SortedVectorDict{SU2Irrep, Dict{FusionTree{SU2Irrep, 2, 0, 1, Nothing}, UnitRange{Int64}}}(0 => Dict(FusionTree{Irrep[SU₂]}((0, 0), 0, (false, false), ()) => 1:100, FusionTree{Irrep[SU₂]}((1, 1), 0, (false, false), ()) => 101:140), 1 => Dict(FusionTree{Irrep[SU₂]}((2, 1), 1, (false, false), ()) => 181:220, FusionTree{Irrep[SU₂]}((1, 1), 1, (false, false), ()) => 141:180, FusionTree{Irrep[SU₂]}((1, 0), 1, (false, false), ()) => 1:100, FusionTree{Irrep[SU₂]}((0, 1), 1, (false, false), ()) => 101:140), 2 => Dict(FusionTree{Irrep[SU₂]}((3, 1), 2, (false, false), ()) => 181:220, FusionTree{Irrep[SU₂]}((2, 1), 2, (false, false), ()) => 141:180, FusionTree{Irrep[SU₂]}((2, 0), 2, (false, false), ()) => 1:100, FusionTree{Irrep[SU₂]}((1, 1), 2, (false, false), ()) => 101:140), 3 => Dict(FusionTree{Irrep[SU₂]}((3, 1), 3, (false, false), ()) => 141:180, FusionTree{Irrep[SU₂]}((3, 0), 3, (false, false), ()) => 1:100, FusionTree{Irrep[SU₂]}((2, 1), 3, (false, false), ()) => 101:140, FusionTree{Irrep[SU₂]}((4, 1), 3, (false, false), ()) => 181:220), 4 => Dict(FusionTree{Irrep[SU₂]}((5, 1), 4, (false, false), ()) => 181:220, FusionTree{Irrep[SU₂]}((3, 1), 4, (false, false), ()) => 101:140, FusionTree{Irrep[SU₂]}((4, 1), 4, (false, false), ()) => 141:180, FusionTree{Irrep[SU₂]}((4, 0), 4, (false, false), ()) => 1:100), 5 => Dict(FusionTree{Irrep[SU₂]}((5, 0), 5, (false, false), ()) => 1:100, FusionTree{Irrep[SU₂]}((4, 1), 5, (false, false), ()) => 101:140, FusionTree{Irrep[SU₂]}((6, 1), 5, (false, false), ()) => 181:220, FusionTree{Irrep[SU₂]}((5, 1), 5, (false, false), ()) => 141:180), 6 => Dict(FusionTree{Irrep[SU₂]}((5, 1), 6, (false, false), ()) => 101:140, FusionTree{Irrep[SU₂]}((6, 1), 6, (false, false), ()) => 141:180, FusionTree{Irrep[SU₂]}((6, 0), 6, (false, false), ()) => 1:100, FusionTree{Irrep[SU₂]}((7, 1), 6, (false, false), ()) => 181:220), 7 => Dict(FusionTree{Irrep[SU₂]}((8, 1), 7, (false, false), ()) => 181:220, FusionTree{Irrep[SU₂]}((6, 1), 7, (false, false), ()) => 101:140, FusionTree{Irrep[SU₂]}((7, 1), 7, (false, false), ()) => 141:180, FusionTree{Irrep[SU₂]}((7, 0), 7, (false, false), ()) => 1:100), 8 => Dict(FusionTree{Irrep[SU₂]}((7, 1), 8, (false, false), ()) => 101:140, FusionTree{Irrep[SU₂]}((9, 1), 8, (false, false), ()) => 181:220, FusionTree{Irrep[SU₂]}((8, 1), 8, (false, false), ()) => 141:180, FusionTree{Irrep[SU₂]}((8, 0), 8, (false, false), ()) => 1:100), 9 => Dict(FusionTree{Irrep[SU₂]}((9, 1), 9, (false, false), ()) => 141:180, FusionTree{Irrep[SU₂]}((9, 0), 9, (false, false), ()) => 1:100, FusionTree{Irrep[SU₂]}((8, 1), 9, (false, false), ()) => 101:140, FusionTree{Irrep[SU₂]}((10, 1), 9, (false, false), ()) => 181:220)…), TensorKit.SortedVectorDict{SU2Irrep, Int64}(0 => 20, 1 => 60, 2 => 60, 3 => 60, 4 => 60, 5 => 60, 6 => 60, 7 => 60, 8 => 60, 9 => 60…), TensorKit.SortedVectorDict{SU2Irrep, Dict{FusionTree{SU2Irrep, 2, 0, 1, Nothing}, UnitRange{Int64}}}(0 => Dict(FusionTree{Irrep[SU₂]}((1, 1), 0, (false, false), ()) => 1:20), 1 => Dict(FusionTree{Irrep[SU₂]}((2, 1), 1, (false, false), ()) => 41:60, FusionTree{Irrep[SU₂]}((1, 1), 1, (false, false), ()) => 21:40, FusionTree{Irrep[SU₂]}((0, 1), 1, (false, false), ()) => 1:20), 2 => Dict(FusionTree{Irrep[SU₂]}((3, 1), 2, (false, false), ()) => 41:60, FusionTree{Irrep[SU₂]}((2, 1), 2, (false, false), ()) => 21:40, FusionTree{Irrep[SU₂]}((1, 1), 2, (false, false), ()) => 1:20), 3 => Dict(FusionTree{Irrep[SU₂]}((3, 1), 3, (false, false), ()) => 21:40, FusionTree{Irrep[SU₂]}((2, 1), 3, (false, false), ()) => 1:20, FusionTree{Irrep[SU₂]}((4, 1), 3, (false, false), ()) => 41:60), 4 => Dict(FusionTree{Irrep[SU₂]}((5, 1), 4, (false, false), ()) => 41:60, FusionTree{Irrep[SU₂]}((3, 1), 4, (false, false), ()) => 1:20, FusionTree{Irrep[SU₂]}((4, 1), 4, (false, false), ()) => 21:40), 5 => Dict(FusionTree{Irrep[SU₂]}((4, 1), 5, (false, false), ()) => 1:20, FusionTree{Irrep[SU₂]}((6, 1), 5, (false, false), ()) => 41:60, FusionTree{Irrep[SU₂]}((5, 1), 5, (false, false), ()) => 21:40), 6 => Dict(FusionTree{Irrep[SU₂]}((5, 1), 6, (false, false), ()) => 1:20, FusionTree{Irrep[SU₂]}((6, 1), 6, (false, false), ()) => 21:40, FusionTree{Irrep[SU₂]}((7, 1), 6, (false, false), ()) => 41:60), 7 => Dict(FusionTree{Irrep[SU₂]}((8, 1), 7, (false, false), ()) => 41:60, FusionTree{Irrep[SU₂]}((6, 1), 7, (false, false), ()) => 1:20, FusionTree{Irrep[SU₂]}((7, 1), 7, (false, false), ()) => 21:40), 8 => Dict(FusionTree{Irrep[SU₂]}((7, 1), 8, (false, false), ()) => 1:20, FusionTree{Irrep[SU₂]}((9, 1), 8, (false, false), ()) => 41:60, FusionTree{Irrep[SU₂]}((8, 1), 8, (false, false), ()) => 21:40), 9 => Dict(FusionTree{Irrep[SU₂]}((9, 1), 9, (false, false), ()) => 21:40, FusionTree{Irrep[SU₂]}((8, 1), 9, (false, false), ()) => 1:20, FusionTree{Irrep[SU₂]}((10, 1), 9, (false, false), ()) => 41:60)…), SU2Irrep[0, 1, 2, 3, 4, 5, 6, 7, 8, 9, 10, 11], SU2Irrep), (Tuple{ComplexF64, Int64, UnitRange{Int64}, UnitRange{Int64}, NTuple{4, Int64}, Int64, UnitRange{Int64}, UnitRange{Int64}, NTuple{4, Int64}}[(1.0 + 0.0im, 1, 1:20, 1:100, (20, 1, 20, 5), 1, 1:20, 1:100, (20, 1, 20, 5)), (0.9999999999999996 + 0.0im, 1, 1:20, 101:140, (20, 1, 20, 2), 1, 1:20, 101:140, (20, 1, 20, 2)), (1.0 + 0.0im, 2, 41:60, 181:220, (20, 1, 20, 2), 2, 41:60, 181:220, (20, 1, 20, 2)), (0.9999999999999994 + 0.0im, 2, 41:60, 141:180, (20, 1, 20, 2), 2, 41:60, 141:180, (20, 1, 20, 2)), (0.9999999999999994 + 0.0im, 2, 41:60, 1:100, (20, 1, 20, 5), 2, 41:60, 1:100, (20, 1, 20, 5)), (0.9999999999999998 + 0.0im, 2, 41:60, 101:140, (20, 1, 20, 2), 2, 41:60, 101:140, (20, 1, 20, 2)), (1.0 + 0.0im, 2, 21:40, 181:220, (20, 1, 20, 2), 2, 21:40, 181:220, (20, 1, 20, 2)), (0.9999999999999994 + 0.0im, 2, 21:40, 141:180, (20, 1, 20, 2), 2, 21:40, 141:180, (20, 1, 20, 2)), (0.9999999999999994 + 0.0im, 2, 21:40, 1:100, (20, 1, 20, 5), 2, 21:40, 1:100, (20, 1, 20, 5)), (0.9999999999999998 + 0.0im, 2, 21:40, 101:140, (20, 1, 20, 2), 2, 21:40, 101:140, (20, 1, 20, 2))  …  (1.0000000000000009 + 0.0im, 10, 41:60, 1:100, (20, 1, 20, 5), 10, 41:60, 1:100, (20, 1, 20, 5)), (0.9999999999999998 + 0.0im, 10, 41:60, 101:140, (20, 1, 20, 2), 10, 41:60, 101:140, (20, 1, 20, 2)), (0.9999999999999992 + 0.0im, 10, 41:60, 181:220, (20, 1, 20, 2), 10, 41:60, 181:220, (20, 1, 20, 2)), (0.999999999999999 + 0.0im, 11, 21:40, 141:180, (20, 1, 20, 2), 11, 21:40, 141:180, (20, 1, 20, 2)), (0.9999999999999994 + 0.0im, 11, 21:40, 1:100, (20, 1, 20, 5), 11, 21:40, 1:100, (20, 1, 20, 5)), (0.9999999999999999 + 0.0im, 11, 21:40, 101:140, (20, 1, 20, 2), 11, 21:40, 101:140, (20, 1, 20, 2)), (0.999999999999999 + 0.0im, 11, 1:20, 141:180, (20, 1, 20, 2), 11, 1:20, 141:180, (20, 1, 20, 2)), (0.9999999999999994 + 0.0im, 11, 1:20, 1:100, (20, 1, 20, 5), 11, 1:20, 1:100, (20, 1, 20, 5)), (0.9999999999999999 + 0.0im, 11, 1:20, 101:140, (20, 1, 20, 2), 11, 1:20, 101:140, (20, 1, 20, 2)), (0.9999999999999993 + 0.0im, 12, 1:20, 1:40, (20, 1, 20, 2), 12, 1:20, 1:40, (20, 1, 20, 2))], (1, 2), (3, 4)), var\"#init_sym#14\"{2, 1, GradedSpace{SU2Irrep, TensorKit.SortedVectorDict{SU2Irrep, Int64}}, ProductSpace{GradedSpace{SU2Irrep, TensorKit.SortedVectorDict{SU2Irrep, Int64}}, 2}, ProductSpace{GradedSpace{SU2Irrep, TensorKit.SortedVectorDict{SU2Irrep, Int64}}, 1}, DataType, DataType, DataType, DataType, TensorKit.SortedVectorDict{SU2Irrep, Int64}, TensorKit.SortedVectorDict{SU2Irrep, Dict{FusionTree{SU2Irrep, 1, 0, 0, Nothing}, UnitRange{Int64}}}, TensorKit.SortedVectorDict{SU2Irrep, Int64}, TensorKit.SortedVectorDict{SU2Irrep, Dict{FusionTree{SU2Irrep, 2, 0, 1, Nothing}, UnitRange{Int64}}}, Vector{SU2Irrep}, DataType}((Rep[SU₂](0=>20, 1=>20, 2=>20, 3=>20, 4=>20, 5=>20, 6=>20, 7=>20, 8=>20, 9=>20, 10=>20) ⊗ Rep[SU₂](0=>5, 1=>2)), ProductSpace(Rep[SU₂](0=>20, 1=>20, 2=>20, 3=>20, 4=>20, 5=>20, 6=>20, 7=>20, 8=>20, 9=>20, 10=>20)), Matrix{ComplexF64}, TensorKit.SortedVectorDict{SU2Irrep, Matrix{ComplexF64}}, FusionTree{SU2Irrep, 1, 0, 0, Nothing}, FusionTree{SU2Irrep, 2, 0, 1, Nothing}, TensorKit.SortedVectorDict{SU2Irrep, Int64}(0 => 20, 1 => 20, 2 => 20, 3 => 20, 4 => 20, 5 => 20, 6 => 20, 7 => 20, 8 => 20, 9 => 20…), TensorKit.SortedVectorDict{SU2Irrep, Dict{FusionTree{SU2Irrep, 1, 0, 0, Nothing}, UnitRange{Int64}}}(0 => Dict(FusionTree{Irrep[SU₂]}((0,), 0, (false,), ()) => 1:20), 1 => Dict(FusionTree{Irrep[SU₂]}((1,), 1, (false,), ()) => 1:20), 2 => Dict(FusionTree{Irrep[SU₂]}((2,), 2, (false,), ()) => 1:20), 3 => Dict(FusionTree{Irrep[SU₂]}((3,), 3, (false,), ()) => 1:20), 4 => Dict(FusionTree{Irrep[SU₂]}((4,), 4, (false,), ()) => 1:20), 5 => Dict(FusionTree{Irrep[SU₂]}((5,), 5, (false,), ()) => 1:20), 6 => Dict(FusionTree{Irrep[SU₂]}((6,), 6, (false,), ()) => 1:20), 7 => Dict(FusionTree{Irrep[SU₂]}((7,), 7, (false,), ()) => 1:20), 8 => Dict(FusionTree{Irrep[SU₂]}((8,), 8, (false,), ()) => 1:20), 9 => Dict(FusionTree{Irrep[SU₂]}((9,), 9, (false,), ()) => 1:20)…), TensorKit.SortedVectorDict{SU2Irrep, Int64}(0 => 140, 1 => 220, 2 => 220, 3 => 220, 4 => 220, 5 => 220, 6 => 220, 7 => 220, 8 => 220, 9 => 220…), TensorKit.SortedVectorDict{SU2Irrep, Dict{FusionTree{SU2Irrep, 2, 0, 1, Nothing}, UnitRange{Int64}}}(0 => Dict(FusionTree{Irrep[SU₂]}((0, 0), 0, (false, false), ()) => 1:100, FusionTree{Irrep[SU₂]}((1, 1), 0, (false, false), ()) => 101:140), 1 => Dict(FusionTree{Irrep[SU₂]}((2, 1), 1, (false, false), ()) => 181:220, FusionTree{Irrep[SU₂]}((1, 1), 1, (false, false), ()) => 141:180, FusionTree{Irrep[SU₂]}((1, 0), 1, (false, false), ()) => 1:100, FusionTree{Irrep[SU₂]}((0, 1), 1, (false, false), ()) => 101:140), 2 => Dict(FusionTree{Irrep[SU₂]}((3, 1), 2, (false, false), ()) => 181:220, FusionTree{Irrep[SU₂]}((2, 1), 2, (false, false), ()) => 141:180, FusionTree{Irrep[SU₂]}((2, 0), 2, (false, false), ()) => 1:100, FusionTree{Irrep[SU₂]}((1, 1), 2, (false, false), ()) => 101:140), 3 => Dict(FusionTree{Irrep[SU₂]}((3, 1), 3, (false, false), ()) => 141:180, FusionTree{Irrep[SU₂]}((3, 0), 3, (false, false), ()) => 1:100, FusionTree{Irrep[SU₂]}((2, 1), 3, (false, false), ()) => 101:140, FusionTree{Irrep[SU₂]}((4, 1), 3, (false, false), ()) => 181:220), 4 => Dict(FusionTree{Irrep[SU₂]}((5, 1), 4, (false, false), ()) => 181:220, FusionTree{Irrep[SU₂]}((3, 1), 4, (false, false), ()) => 101:140, FusionTree{Irrep[SU₂]}((4, 1), 4, (false, false), ()) => 141:180, FusionTree{Irrep[SU₂]}((4, 0), 4, (false, false), ()) => 1:100), 5 => Dict(FusionTree{Irrep[SU₂]}((5, 0), 5, (false, false), ()) => 1:100, FusionTree{Irrep[SU₂]}((4, 1), 5, (false, false), ()) => 101:140, FusionTree{Irrep[SU₂]}((6, 1), 5, (false, false), ()) => 181:220, FusionTree{Irrep[SU₂]}((5, 1), 5, (false, false), ()) => 141:180), 6 => Dict(FusionTree{Irrep[SU₂]}((5, 1), 6, (false, false), ()) => 101:140, FusionTree{Irrep[SU₂]}((6, 1), 6, (false, false), ()) => 141:180, FusionTree{Irrep[SU₂]}((6, 0), 6, (false, false), ()) => 1:100, FusionTree{Irrep[SU₂]}((7, 1), 6, (false, false), ()) => 181:220), 7 => Dict(FusionTree{Irrep[SU₂]}((8, 1), 7, (false, false), ()) => 181:220, FusionTree{Irrep[SU₂]}((6, 1), 7, (false, false), ()) => 101:140, FusionTree{Irrep[SU₂]}((7, 1), 7, (false, false), ()) => 141:180, FusionTree{Irrep[SU₂]}((7, 0), 7, (false, false), ()) => 1:100), 8 => Dict(FusionTree{Irrep[SU₂]}((7, 1), 8, (false, false), ()) => 101:140, FusionTree{Irrep[SU₂]}((9, 1), 8, (false, false), ()) => 181:220, FusionTree{Irrep[SU₂]}((8, 1), 8, (false, false), ()) => 141:180, FusionTree{Irrep[SU₂]}((8, 0), 8, (false, false), ()) => 1:100), 9 => Dict(FusionTree{Irrep[SU₂]}((9, 1), 9, (false, false), ()) => 141:180, FusionTree{Irrep[SU₂]}((9, 0), 9, (false, false), ()) => 1:100, FusionTree{Irrep[SU₂]}((8, 1), 9, (false, false), ()) => 101:140, FusionTree{Irrep[SU₂]}((10, 1), 9, (false, false), ()) => 181:220)…), SU2Irrep[0, 1, 2, 3, 4, 5, 6, 7, 8, 9, 10], SU2Irrep), (Tuple{ComplexF64, Int64, UnitRange{Int64}, UnitRange{Int64}, Tuple{Int64, Int64, Int64}, Int64, UnitRange{Int64}, UnitRange{Int64}, Tuple{Int64, Int64, Int64}}[(1.0 + 0.0im, 1, 1:100, 1:20, (20, 5, 20), 1, 1:100, 1:20, (20, 5, 20)), (1.0 + 0.0im, 1, 101:140, 1:20, (20, 2, 20), 1, 101:140, 1:20, (20, 2, 20)), (0.9999999999999998 + 0.0im, 2, 181:220, 1:20, (20, 2, 20), 2, 181:220, 1:20, (20, 2, 20)), (0.9999999999999998 + 0.0im, 2, 141:180, 1:20, (20, 2, 20), 2, 141:180, 1:20, (20, 2, 20)), (0.9999999999999998 + 0.0im, 2, 1:100, 1:20, (20, 5, 20), 2, 1:100, 1:20, (20, 5, 20)), (0.9999999999999998 + 0.0im, 2, 101:140, 1:20, (20, 2, 20), 2, 101:140, 1:20, (20, 2, 20)), (1.0000000000000002 + 0.0im, 3, 181:220, 1:20, (20, 2, 20), 3, 181:220, 1:20, (20, 2, 20)), (1.0000000000000002 + 0.0im, 3, 141:180, 1:20, (20, 2, 20), 3, 141:180, 1:20, (20, 2, 20)), (1.0000000000000002 + 0.0im, 3, 1:100, 1:20, (20, 5, 20), 3, 1:100, 1:20, (20, 5, 20)), (1.0000000000000002 + 0.0im, 3, 101:140, 1:20, (20, 2, 20), 3, 101:140, 1:20, (20, 2, 20))  …  (1.0 + 0.0im, 9, 181:220, 1:20, (20, 2, 20), 9, 181:220, 1:20, (20, 2, 20)), (1.0 + 0.0im, 9, 141:180, 1:20, (20, 2, 20), 9, 141:180, 1:20, (20, 2, 20)), (1.0 + 0.0im, 9, 1:100, 1:20, (20, 5, 20), 9, 1:100, 1:20, (20, 5, 20)), (1.0000000000000004 + 0.0im, 10, 141:180, 1:20, (20, 2, 20), 10, 141:180, 1:20, (20, 2, 20)), (1.0000000000000004 + 0.0im, 10, 1:100, 1:20, (20, 5, 20), 10, 1:100, 1:20, (20, 5, 20)), (1.0000000000000004 + 0.0im, 10, 101:140, 1:20, (20, 2, 20), 10, 101:140, 1:20, (20, 2, 20)), (1.0000000000000004 + 0.0im, 10, 181:220, 1:20, (20, 2, 20), 10, 181:220, 1:20, (20, 2, 20)), (0.9999999999999998 + 0.0im, 11, 141:180, 1:20, (20, 2, 20), 11, 141:180, 1:20, (20, 2, 20)), (0.9999999999999998 + 0.0im, 11, 1:100, 1:20, (20, 5, 20), 11, 1:100, 1:20, (20, 5, 20)), (0.9999999999999998 + 0.0im, 11, 101:140, 1:20, (20, 2, 20), 11, 101:140, 1:20, (20, 2, 20))], (1, 2), (3,)), var\"#init_sym#14\"{2, 1, GradedSpace{SU2Irrep, TensorKit.SortedVectorDict{SU2Irrep, Int64}}, ProductSpace{GradedSpace{SU2Irrep, TensorKit.SortedVectorDict{SU2Irrep, Int64}}, 2}, ProductSpace{GradedSpace{SU2Irrep, TensorKit.SortedVectorDict{SU2Irrep, Int64}}, 1}, DataType, DataType, DataType, DataType, TensorKit.SortedVectorDict{SU2Irrep, Int64}, TensorKit.SortedVectorDict{SU2Irrep, Dict{FusionTree{SU2Irrep, 1, 0, 0, Nothing}, UnitRange{Int64}}}, TensorKit.SortedVectorDict{SU2Irrep, Int64}, TensorKit.SortedVectorDict{SU2Irrep, Dict{FusionTree{SU2Irrep, 2, 0, 1, Nothing}, UnitRange{Int64}}}, Vector{SU2Irrep}, DataType}((Rep[SU₂](0=>20, 1=>20, 2=>20, 3=>20, 4=>20, 5=>20, 6=>20, 7=>20, 8=>20, 9=>20, 10=>20) ⊗ Rep[SU₂](1=>1)), ProductSpace(Rep[SU₂](0=>20, 1=>20, 2=>20, 3=>20, 4=>20, 5=>20, 6=>20, 7=>20, 8=>20, 9=>20, 10=>20)), Matrix{ComplexF64}, TensorKit.SortedVectorDict{SU2Irrep, Matrix{ComplexF64}}, FusionTree{SU2Irrep, 1, 0, 0, Nothing}, FusionTree{SU2Irrep, 2, 0, 1, Nothing}, TensorKit.SortedVectorDict{SU2Irrep, Int64}(0 => 20, 1 => 20, 2 => 20, 3 => 20, 4 => 20, 5 => 20, 6 => 20, 7 => 20, 8 => 20, 9 => 20…), TensorKit.SortedVectorDict{SU2Irrep, Dict{FusionTree{SU2Irrep, 1, 0, 0, Nothing}, UnitRange{Int64}}}(0 => Dict(FusionTree{Irrep[SU₂]}((0,), 0, (false,), ()) => 1:20), 1 => Dict(FusionTree{Irrep[SU₂]}((1,), 1, (false,), ()) => 1:20), 2 => Dict(FusionTree{Irrep[SU₂]}((2,), 2, (false,), ()) => 1:20), 3 => Dict(FusionTree{Irrep[SU₂]}((3,), 3, (false,), ()) => 1:20), 4 => Dict(FusionTree{Irrep[SU₂]}((4,), 4, (false,), ()) => 1:20), 5 => Dict(FusionTree{Irrep[SU₂]}((5,), 5, (false,), ()) => 1:20), 6 => Dict(FusionTree{Irrep[SU₂]}((6,), 6, (false,), ()) => 1:20), 7 => Dict(FusionTree{Irrep[SU₂]}((7,), 7, (false,), ()) => 1:20), 8 => Dict(FusionTree{Irrep[SU₂]}((8,), 8, (false,), ()) => 1:20), 9 => Dict(FusionTree{Irrep[SU₂]}((9,), 9, (false,), ()) => 1:20)…), TensorKit.SortedVectorDict{SU2Irrep, Int64}(0 => 20, 1 => 60, 2 => 60, 3 => 60, 4 => 60, 5 => 60, 6 => 60, 7 => 60, 8 => 60, 9 => 60…), TensorKit.SortedVectorDict{SU2Irrep, Dict{FusionTree{SU2Irrep, 2, 0, 1, Nothing}, UnitRange{Int64}}}(0 => Dict(FusionTree{Irrep[SU₂]}((1, 1), 0, (false, false), ()) => 1:20), 1 => Dict(FusionTree{Irrep[SU₂]}((2, 1), 1, (false, false), ()) => 41:60, FusionTree{Irrep[SU₂]}((1, 1), 1, (false, false), ()) => 21:40, FusionTree{Irrep[SU₂]}((0, 1), 1, (false, false), ()) => 1:20), 2 => Dict(FusionTree{Irrep[SU₂]}((3, 1), 2, (false, false), ()) => 41:60, FusionTree{Irrep[SU₂]}((2, 1), 2, (false, false), ()) => 21:40, FusionTree{Irrep[SU₂]}((1, 1), 2, (false, false), ()) => 1:20), 3 => Dict(FusionTree{Irrep[SU₂]}((3, 1), 3, (false, false), ()) => 21:40, FusionTree{Irrep[SU₂]}((2, 1), 3, (false, false), ()) => 1:20, FusionTree{Irrep[SU₂]}((4, 1), 3, (false, false), ()) => 41:60), 4 => Dict(FusionTree{Irrep[SU₂]}((5, 1), 4, (false, false), ()) => 41:60, FusionTree{Irrep[SU₂]}((3, 1), 4, (false, false), ()) => 1:20, FusionTree{Irrep[SU₂]}((4, 1), 4, (false, false), ()) => 21:40), 5 => Dict(FusionTree{Irrep[SU₂]}((4, 1), 5, (false, false), ()) => 1:20, FusionTree{Irrep[SU₂]}((6, 1), 5, (false, false), ()) => 41:60, FusionTree{Irrep[SU₂]}((5, 1), 5, (false, false), ()) => 21:40), 6 => Dict(FusionTree{Irrep[SU₂]}((5, 1), 6, (false, false), ()) => 1:20, FusionTree{Irrep[SU₂]}((6, 1), 6, (false, false), ()) => 21:40, FusionTree{Irrep[SU₂]}((7, 1), 6, (false, false), ()) => 41:60), 7 => Dict(FusionTree{Irrep[SU₂]}((8, 1), 7, (false, false), ()) => 41:60, FusionTree{Irrep[SU₂]}((6, 1), 7, (false, false), ()) => 1:20, FusionTree{Irrep[SU₂]}((7, 1), 7, (false, false), ()) => 21:40), 8 => Dict(FusionTree{Irrep[SU₂]}((7, 1), 8, (false, false), ()) => 1:20, FusionTree{Irrep[SU₂]}((9, 1), 8, (false, false), ()) => 41:60, FusionTree{Irrep[SU₂]}((8, 1), 8, (false, false), ()) => 21:40), 9 => Dict(FusionTree{Irrep[SU₂]}((9, 1), 9, (false, false), ()) => 21:40, FusionTree{Irrep[SU₂]}((8, 1), 9, (false, false), ()) => 1:20, FusionTree{Irrep[SU₂]}((10, 1), 9, (false, false), ()) => 41:60)…), SU2Irrep[0, 1, 2, 3, 4, 5, 6, 7, 8, 9, 10], SU2Irrep), (Tuple{ComplexF64, Int64, UnitRange{Int64}, UnitRange{Int64}, Tuple{Int64, Int64, Int64}, Int64, UnitRange{Int64}, UnitRange{Int64}, Tuple{Int64, Int64, Int64}}[(1.0 + 0.0im, 1, 1:20, 1:20, (20, 1, 20), 1, 1:20, 1:20, (20, 1, 20)), (0.9999999999999998 + 0.0im, 2, 41:60, 1:20, (20, 1, 20), 2, 41:60, 1:20, (20, 1, 20)), (0.9999999999999998 + 0.0im, 2, 21:40, 1:20, (20, 1, 20), 2, 21:40, 1:20, (20, 1, 20)), (0.9999999999999998 + 0.0im, 2, 1:20, 1:20, (20, 1, 20), 2, 1:20, 1:20, (20, 1, 20)), (1.0000000000000002 + 0.0im, 3, 41:60, 1:20, (20, 1, 20), 3, 41:60, 1:20, (20, 1, 20)), (1.0000000000000002 + 0.0im, 3, 21:40, 1:20, (20, 1, 20), 3, 21:40, 1:20, (20, 1, 20)), (1.0000000000000002 + 0.0im, 3, 1:20, 1:20, (20, 1, 20), 3, 1:20, 1:20, (20, 1, 20)), (1.0 + 0.0im, 4, 21:40, 1:20, (20, 1, 20), 4, 21:40, 1:20, (20, 1, 20)), (1.0 + 0.0im, 4, 1:20, 1:20, (20, 1, 20), 4, 1:20, 1:20, (20, 1, 20)), (1.0 + 0.0im, 4, 41:60, 1:20, (20, 1, 20), 4, 41:60, 1:20, (20, 1, 20))  …  (0.9999999999999997 + 0.0im, 8, 1:20, 1:20, (20, 1, 20), 8, 1:20, 1:20, (20, 1, 20)), (0.9999999999999997 + 0.0im, 8, 21:40, 1:20, (20, 1, 20), 8, 21:40, 1:20, (20, 1, 20)), (1.0 + 0.0im, 9, 1:20, 1:20, (20, 1, 20), 9, 1:20, 1:20, (20, 1, 20)), (1.0 + 0.0im, 9, 41:60, 1:20, (20, 1, 20), 9, 41:60, 1:20, (20, 1, 20)), (1.0 + 0.0im, 9, 21:40, 1:20, (20, 1, 20), 9, 21:40, 1:20, (20, 1, 20)), (1.0000000000000004 + 0.0im, 10, 21:40, 1:20, (20, 1, 20), 10, 21:40, 1:20, (20, 1, 20)), (1.0000000000000004 + 0.0im, 10, 1:20, 1:20, (20, 1, 20), 10, 1:20, 1:20, (20, 1, 20)), (1.0000000000000004 + 0.0im, 10, 41:60, 1:20, (20, 1, 20), 10, 41:60, 1:20, (20, 1, 20)), (0.9999999999999998 + 0.0im, 11, 21:40, 1:20, (20, 1, 20), 11, 21:40, 1:20, (20, 1, 20)), (0.9999999999999998 + 0.0im, 11, 1:20, 1:20, (20, 1, 20), 11, 1:20, 1:20, (20, 1, 20))], (1, 2), (3,))))"
      ]
     },
     "metadata": {},
     "output_type": "display_data"
    }
   ],
   "source": [
    "virtspace = Rep[SU₂](i => 20 for i in 0:10);\n",
    "ospace = Rep[SU₂](0 => 5,1 => 2);\n",
    "pspace = Rep[SU₂](1 => 1);\n",
    "\n",
    "t_le = TensorMap(rand,ComplexF64,virtspace*ospace',virtspace);\n",
    "t_re = TensorMap(rand,ComplexF64,virtspace*ospace,virtspace);\n",
    "t_ac = TensorMap(rand,ComplexF64,virtspace*pspace,virtspace);\n",
    "t_o = TensorMap(rand,ComplexF64,ospace*pspace,pspace*ospace);\n",
    "\n",
    "factory = ac_eff(le = (typeof(t_le),space(t_le)),re = (typeof(t_re),space(t_re)),O = (typeof(t_o),space(t_o)),x = (typeof(t_ac),space(t_ac)))"
   ]
  },
  {
   "cell_type": "code",
   "execution_count": 23,
   "metadata": {},
   "outputs": [
    {
     "data": {
      "text/plain": [
       "BenchmarkTools.Trial: 810 samples with 1 evaluation.\n",
       " Range \u001b[90m(\u001b[39m\u001b[36m\u001b[1mmin\u001b[22m\u001b[39m … \u001b[35mmax\u001b[39m\u001b[90m):  \u001b[39m\u001b[36m\u001b[1m4.278 ms\u001b[22m\u001b[39m … \u001b[35m11.995 ms\u001b[39m  \u001b[90m┊\u001b[39m GC \u001b[90m(\u001b[39mmin … max\u001b[90m): \u001b[39m 0.00% … 40.24%\n",
       " Time  \u001b[90m(\u001b[39m\u001b[34m\u001b[1mmedian\u001b[22m\u001b[39m\u001b[90m):     \u001b[39m\u001b[34m\u001b[1m5.061 ms              \u001b[22m\u001b[39m\u001b[90m┊\u001b[39m GC \u001b[90m(\u001b[39mmedian\u001b[90m):    \u001b[39m 0.00%\n",
       " Time  \u001b[90m(\u001b[39m\u001b[32m\u001b[1mmean\u001b[22m\u001b[39m ± \u001b[32mσ\u001b[39m\u001b[90m):   \u001b[39m\u001b[32m\u001b[1m6.152 ms\u001b[22m\u001b[39m ± \u001b[32m 1.883 ms\u001b[39m  \u001b[90m┊\u001b[39m GC \u001b[90m(\u001b[39mmean ± σ\u001b[90m):  \u001b[39m17.61% ± 18.17%\n",
       "\n",
       "  \u001b[39m \u001b[39m▁\u001b[39m▅\u001b[39m█\u001b[39m▄\u001b[39m▁\u001b[39m \u001b[34m \u001b[39m\u001b[39m \u001b[39m \u001b[39m \u001b[39m \u001b[39m \u001b[39m \u001b[39m \u001b[39m \u001b[39m \u001b[32m \u001b[39m\u001b[39m \u001b[39m \u001b[39m \u001b[39m \u001b[39m \u001b[39m \u001b[39m \u001b[39m \u001b[39m \u001b[39m \u001b[39m \u001b[39m \u001b[39m \u001b[39m \u001b[39m \u001b[39m \u001b[39m \u001b[39m \u001b[39m \u001b[39m \u001b[39m \u001b[39m \u001b[39m \u001b[39m \u001b[39m \u001b[39m \u001b[39m \u001b[39m \u001b[39m \u001b[39m \u001b[39m \u001b[39m \u001b[39m \u001b[39m \u001b[39m \u001b[39m \u001b[39m \u001b[39m \u001b[39m \u001b[39m \u001b[39m \u001b[39m \n",
       "  \u001b[39m▅\u001b[39m█\u001b[39m█\u001b[39m█\u001b[39m█\u001b[39m█\u001b[39m▇\u001b[34m▇\u001b[39m\u001b[39m▅\u001b[39m▄\u001b[39m▄\u001b[39m▃\u001b[39m▃\u001b[39m▂\u001b[39m▃\u001b[39m▃\u001b[39m▃\u001b[32m▂\u001b[39m\u001b[39m▂\u001b[39m▂\u001b[39m▁\u001b[39m▂\u001b[39m▂\u001b[39m▁\u001b[39m▂\u001b[39m▂\u001b[39m▂\u001b[39m▂\u001b[39m▃\u001b[39m▃\u001b[39m▂\u001b[39m▄\u001b[39m▄\u001b[39m▅\u001b[39m▅\u001b[39m▆\u001b[39m▅\u001b[39m▄\u001b[39m▅\u001b[39m▃\u001b[39m▄\u001b[39m▃\u001b[39m▃\u001b[39m▂\u001b[39m▃\u001b[39m▂\u001b[39m▂\u001b[39m▃\u001b[39m▃\u001b[39m▂\u001b[39m▃\u001b[39m▃\u001b[39m▂\u001b[39m▃\u001b[39m▂\u001b[39m▂\u001b[39m▂\u001b[39m▂\u001b[39m \u001b[39m▃\n",
       "  4.28 ms\u001b[90m        Histogram: frequency by time\u001b[39m        10.7 ms \u001b[0m\u001b[1m<\u001b[22m\n",
       "\n",
       " Memory estimate\u001b[90m: \u001b[39m\u001b[33m14.31 MiB\u001b[39m, allocs estimate\u001b[90m: \u001b[39m\u001b[33m6302\u001b[39m."
      ]
     },
     "metadata": {},
     "output_type": "display_data"
    }
   ],
   "source": [
    "@benchmark $factory(le = $t_le, re=$t_re, x = $t_ac, O = $t_o)"
   ]
  },
  {
   "cell_type": "code",
   "execution_count": 24,
   "metadata": {},
   "outputs": [
    {
     "data": {
      "text/plain": [
       "BenchmarkTools.Trial: 968 samples with 1 evaluation.\n",
       " Range \u001b[90m(\u001b[39m\u001b[36m\u001b[1mmin\u001b[22m\u001b[39m … \u001b[35mmax\u001b[39m\u001b[90m):  \u001b[39m\u001b[36m\u001b[1m3.686 ms\u001b[22m\u001b[39m … \u001b[35m10.163 ms\u001b[39m  \u001b[90m┊\u001b[39m GC \u001b[90m(\u001b[39mmin … max\u001b[90m): \u001b[39m 0.00% … 45.21%\n",
       " Time  \u001b[90m(\u001b[39m\u001b[34m\u001b[1mmedian\u001b[22m\u001b[39m\u001b[90m):     \u001b[39m\u001b[34m\u001b[1m4.338 ms              \u001b[22m\u001b[39m\u001b[90m┊\u001b[39m GC \u001b[90m(\u001b[39mmedian\u001b[90m):    \u001b[39m 0.00%\n",
       " Time  \u001b[90m(\u001b[39m\u001b[32m\u001b[1mmean\u001b[22m\u001b[39m ± \u001b[32mσ\u001b[39m\u001b[90m):   \u001b[39m\u001b[32m\u001b[1m5.141 ms\u001b[22m\u001b[39m ± \u001b[32m 1.662 ms\u001b[39m  \u001b[90m┊\u001b[39m GC \u001b[90m(\u001b[39mmean ± σ\u001b[90m):  \u001b[39m14.41% ± 17.48%\n",
       "\n",
       "  \u001b[39m \u001b[39m \u001b[39m▁\u001b[39m▆\u001b[39m█\u001b[39m▆\u001b[39m▃\u001b[34m▁\u001b[39m\u001b[39m \u001b[39m \u001b[39m \u001b[39m \u001b[39m \u001b[39m \u001b[39m \u001b[32m \u001b[39m\u001b[39m \u001b[39m \u001b[39m \u001b[39m \u001b[39m \u001b[39m \u001b[39m \u001b[39m \u001b[39m \u001b[39m \u001b[39m \u001b[39m \u001b[39m \u001b[39m \u001b[39m \u001b[39m \u001b[39m \u001b[39m \u001b[39m \u001b[39m \u001b[39m \u001b[39m \u001b[39m \u001b[39m \u001b[39m \u001b[39m \u001b[39m \u001b[39m \u001b[39m \u001b[39m \u001b[39m \u001b[39m \u001b[39m \u001b[39m \u001b[39m \u001b[39m \u001b[39m \u001b[39m \u001b[39m \u001b[39m \u001b[39m \u001b[39m \u001b[39m \u001b[39m \n",
       "  \u001b[39m▂\u001b[39m▅\u001b[39m█\u001b[39m█\u001b[39m█\u001b[39m█\u001b[39m█\u001b[34m█\u001b[39m\u001b[39m▇\u001b[39m▇\u001b[39m▆\u001b[39m▅\u001b[39m▄\u001b[39m▄\u001b[39m▃\u001b[32m▂\u001b[39m\u001b[39m▃\u001b[39m▁\u001b[39m▂\u001b[39m▂\u001b[39m▁\u001b[39m▁\u001b[39m▁\u001b[39m▁\u001b[39m▂\u001b[39m▁\u001b[39m▁\u001b[39m▁\u001b[39m▁\u001b[39m▁\u001b[39m▁\u001b[39m▁\u001b[39m▁\u001b[39m▁\u001b[39m▁\u001b[39m▁\u001b[39m▁\u001b[39m▂\u001b[39m▂\u001b[39m▂\u001b[39m▃\u001b[39m▃\u001b[39m▃\u001b[39m▄\u001b[39m▃\u001b[39m▅\u001b[39m▄\u001b[39m▄\u001b[39m▄\u001b[39m▃\u001b[39m▃\u001b[39m▃\u001b[39m▃\u001b[39m▃\u001b[39m▃\u001b[39m▂\u001b[39m▃\u001b[39m▂\u001b[39m \u001b[39m▃\n",
       "  3.69 ms\u001b[90m        Histogram: frequency by time\u001b[39m        9.25 ms \u001b[0m\u001b[1m<\u001b[22m\n",
       "\n",
       " Memory estimate\u001b[90m: \u001b[39m\u001b[33m9.21 MiB\u001b[39m, allocs estimate\u001b[90m: \u001b[39m\u001b[33m12143\u001b[39m."
      ]
     },
     "metadata": {},
     "output_type": "display_data"
    }
   ],
   "source": [
    "function slowcontract(;le=nothing,re=nothing,x=nothing,O=nothing)\n",
    "    @tensor y[-1 -2;-3] := le[-1 2;1]*O[2 -2;3 4]*x[1 3;5]*re[5 4;-3]\n",
    "end\n",
    "@benchmark slowcontract(le = $t_le, re=$t_re, x = $t_ac, O = $t_o)"
   ]
  },
  {
   "cell_type": "code",
   "execution_count": 16,
   "metadata": {},
   "outputs": [
    {
     "data": {
      "text/plain": [
       "8.189336637915264e-11"
      ]
     },
     "metadata": {},
     "output_type": "display_data"
    }
   ],
   "source": [
    "norm(slowcontract(le = t_le, re=t_re, x = t_ac, O = t_o)- factory(le = t_le, re=t_re, x = t_ac, O = t_o)) # bit worrying"
   ]
  },
  {
   "cell_type": "code",
   "execution_count": null,
   "metadata": {},
   "outputs": [],
   "source": []
  }
 ],
 "metadata": {
  "kernelspec": {
   "display_name": "Julia 1.9.4",
   "language": "julia",
   "name": "julia-1.9"
  },
  "language_info": {
   "file_extension": ".jl",
   "mimetype": "application/julia",
   "name": "julia",
   "version": "1.9.4"
  }
 },
 "nbformat": 4,
 "nbformat_minor": 2
}
