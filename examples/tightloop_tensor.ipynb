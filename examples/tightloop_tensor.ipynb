{
 "cells": [
  {
   "cell_type": "markdown",
   "metadata": {},
   "source": [
    "Rough sketch of a proposal"
   ]
  },
  {
   "cell_type": "code",
   "execution_count": 1,
   "metadata": {},
   "outputs": [],
   "source": [
    "using TensorKit, TensorOperations"
   ]
  },
  {
   "cell_type": "code",
   "execution_count": 2,
   "metadata": {},
   "outputs": [],
   "source": [
    "# I didn't want to parse the generated @tensor code again, so I want to simply run the tensor contraction code and record which contractions/additions/... are being done.\n",
    "# For this, I used a \"symbolictensormap\" that keeps track of its structure and type\n",
    "\n",
    "struct SymbolicTensorMap{A,B}\n",
    "    structure::B\n",
    "    SymbolicTensorMap(a,b) = new{a,typeof(b)}(b)\n",
    "end\n",
    "ttype(d::SymbolicTensorMap{A,B}) where {A,B} = A\n",
    "\n",
    "TensorOperations.scalartype(a::SymbolicTensorMap) = TensorOperations.scalartype(ttype(a))"
   ]
  },
  {
   "cell_type": "code",
   "execution_count": 3,
   "metadata": {},
   "outputs": [
    {
     "data": {
      "text/plain": [
       "split_execution (generic function with 2 methods)"
      ]
     },
     "metadata": {},
     "output_type": "display_data"
    }
   ],
   "source": [
    "# I go through the generated @tensor code once, and generate two sets of code. One which takes in symbolictensormaps and will be run in the constructor of the struct, one which will be run while actually applying the struct and executing the contraction\n",
    "\n",
    "function subsplit(ex)\n",
    "    a = Any[ex.head]\n",
    "    b = Any[ex.head]\n",
    "    c = []\n",
    "    for (sa,sb,sc) in split_execution.(ex.args)\n",
    "        append!(c,sc)\n",
    "        push!(a,sa)\n",
    "        push!(b,sb)\n",
    "    end\n",
    "    return (Expr(a...),Expr(b...),c)\n",
    "end\n",
    "\n",
    "function split_execution(ex::Expr)\n",
    "    splitmap = Dict(GlobalRef(TensorOperations,:tensorcontract!) => (create_mediated_tensorcontract!,mediated_tensorcontract!),\n",
    "                    GlobalRef(TensorOperations,:tensoralloc_contract) => (create_mediated_tensoralloc_contract,mediated_tensoralloc_contract),)\n",
    "\n",
    "    if ex.head == :(=) && length(ex.args) == 2\n",
    "        if ex.args[2] isa Expr && ex.args[2].head == :call\n",
    "            t = ex.args[2].args[1]\n",
    "\n",
    "            if t in keys(splitmap)\n",
    "                (mapped_1,mapped_2) = splitmap[t]\n",
    "                nvar = gensym()\n",
    "                a = quote\n",
    "                    ($(ex.args[1]),$(nvar)) = $(mapped_1)($(ex.args[2].args[2:end]...))\n",
    "                end\n",
    "                b = quote\n",
    "                    $(ex.args[1]) = $(mapped_2)($(nvar),$(ex.args[2].args[2:end]...))\n",
    "                end\n",
    "                return (a,b,[nvar])\n",
    "            end\n",
    "        end\n",
    "\n",
    "        return subsplit(ex)\n",
    "    elseif ex.head in (:block,)\n",
    "        subsplit(ex)\n",
    "    elseif ex isa Expr\n",
    "        @show ex.head, ex.args\n",
    "        return (ex,ex,[])\n",
    "    end\n",
    "end\n",
    "split_execution(ex::Symbol) = (ex,ex,[])"
   ]
  },
  {
   "cell_type": "code",
   "execution_count": 4,
   "metadata": {},
   "outputs": [
    {
     "data": {
      "text/plain": [
       "mediated_tensoralloc_contract (generic function with 1 method)"
      ]
     },
     "metadata": {},
     "output_type": "display_data"
    }
   ],
   "source": [
    "# placeholder code. I'm not yet using the mediators to speed up the code, but you could use these mediators to calculate the rowr/colr once and then reuse them in the mediated calls.\n",
    "\n",
    "function create_mediated_tensorcontract!(C::SymbolicTensorMap, pC, A::SymbolicTensorMap, pA, conjA, B::SymbolicTensorMap, pB, conjB, α=1, β=0 , backend=nothing)\n",
    "    (C,Nothing)\n",
    "end\n",
    "\n",
    "function mediated_tensorcontract!(mediator,args...)\n",
    "    TensorOperations.tensorcontract!(args...)\n",
    "end\n",
    "\n",
    "function create_mediated_tensoralloc_contract(TC, pC::Index2Tuple{N₁,N₂}, A::SymbolicTensorMap, pA, conjA, B::SymbolicTensorMap, pB, conjB, istemp=false, backend::TensorOperations.Backend...)  where {N₁,N₂}\n",
    "    spaces1 = [TensorOperations.flag2op(conjA)(A.structure[p]) for p in pA[1]]\n",
    "    spaces2 = [TensorOperations.flag2op(conjB)(B.structure[p]) for p in pB[2]]\n",
    "    spaces = (spaces1..., spaces2...)\n",
    "\n",
    "    S = spacetype(ttype(A))\n",
    "    cod = ProductSpace{S,N₁}(getindex.(Ref(spaces), pC[1]))\n",
    "    dom = ProductSpace{S,N₂}(dual.(getindex.(Ref(spaces), pC[2])))\n",
    "\n",
    "    C = SymbolicTensorMap(tensormaptype(S,N₁, N₂, TensorKit.similarstoragetype(ttype(A),TC)),dom → cod)\n",
    "\n",
    "    (C,Nothing)\n",
    "end\n",
    "\n",
    "function mediated_tensoralloc_contract(mediator,args...)\n",
    "    TensorOperations.tensoralloc_contract(args...)\n",
    "end"
   ]
  },
  {
   "cell_type": "code",
   "execution_count": 11,
   "metadata": {},
   "outputs": [
    {
     "data": {
      "text/plain": [
       "@tightloop_tensor (macro with 1 method)"
      ]
     },
     "metadata": {},
     "output_type": "display_data"
    }
   ],
   "source": [
    "macro tightloop_tensor(name,args::Vararg{Expr})\n",
    "    isempty(args) && throw(ArgumentError(\"No arguments passed to `@tensor`\"))\n",
    "    \n",
    "    if length(args) == 1\n",
    "        parser = TensorOperations.defaultparser\n",
    "    else\n",
    "        tensorexpr = args[end]\n",
    "        kwargs = parse_tensor_kwargs(args[1:(end - 1)])\n",
    "        parser = tensorparser(tensorexpr, kwargs...)\n",
    "    end\n",
    "    \n",
    "    parsed = parser(args[end])\n",
    "    \n",
    "    (a,b,c) = split_execution(parsed)\n",
    "    c_types = [gensym() for t in c]\n",
    "    declaration = quote end\n",
    "    for (c_v,c_t) in zip(c,c_types)\n",
    "        declaration = quote\n",
    "            $(declaration)\n",
    "            $(c_v)::$(c_t)\n",
    "        end\n",
    "    end\n",
    "\n",
    "    input_symbols =  TensorOperations.getinputtensorobjects(args[end])\n",
    "    output_symbols =  TensorOperations.getoutputtensorobjects(args[end])\n",
    "    \n",
    "    arg_symbols = [input_symbols...,output_symbols...];\n",
    "    kwarg_expr = Expr(:parameters,[Expr(:kw,s,nothing) for s in arg_symbols]...)\n",
    "    abstract_eval_call = Expr(:parameters,[Expr(:kw,s,Expr(:call,:SymbolicTensorMap,Expr(:call,:getindex,s,1),Expr(:call,:getindex,s,2))) for s in arg_symbols]...)\n",
    "\n",
    "    instantiated_struct_name = gensym()\n",
    "    access_inner_fields = quote end\n",
    "    for c_v in c\n",
    "        access_inner_fields = quote\n",
    "            $access_inner_fields\n",
    "            $(c_v) = $(instantiated_struct_name).$(c_v)\n",
    "        end\n",
    "    end\n",
    "\n",
    "    return esc(quote\n",
    "        struct $(name){$(c_types...)}\n",
    "            $(declaration)\n",
    "            function $(name)($(kwarg_expr))\n",
    "                tup = abstract_eval($(abstract_eval_call))\n",
    "                new{typeof.(tup)...}(tup...)\n",
    "            end\n",
    "            \n",
    "            function abstract_eval($(kwarg_expr))\n",
    "                $(a)\n",
    "                return tuple($(c...))\n",
    "            end\n",
    "            function ($(instantiated_struct_name)::$name)($(kwarg_expr))\n",
    "                $(access_inner_fields)\n",
    "                $(b)\n",
    "            end\n",
    "        end\n",
    "    end)\n",
    "end"
   ]
  },
  {
   "cell_type": "code",
   "execution_count": 9,
   "metadata": {},
   "outputs": [
    {
     "name": "stdout",
     "output_type": "stream",
     "text": [
      "(ex.head, ex.args) = (:call, Any[:(TensorOperations.promote_contract), :(TensorOperations.scalartype(b)), :(TensorOperations.scalartype(c))])\n"
     ]
    },
    {
     "data": {
      "text/plain": [
       "quote\n",
       "    \u001b[90m#= /home/maarten/projects/MPSKitExperimental.jl/examples/tightloop_tensor.ipynb:41 =#\u001b[39m\n",
       "    struct west{var\"##307\", var\"##308\"}\n",
       "        \u001b[90m#= /home/maarten/projects/MPSKitExperimental.jl/examples/tightloop_tensor.ipynb:42 =#\u001b[39m\n",
       "        begin\n",
       "            \u001b[90m#= /home/maarten/projects/MPSKitExperimental.jl/examples/tightloop_tensor.ipynb:19 =#\u001b[39m\n",
       "            begin\n",
       "                \u001b[90m#= /home/maarten/projects/MPSKitExperimental.jl/examples/tightloop_tensor.ipynb:19 =#\u001b[39m\n",
       "                begin\n",
       "                    \u001b[90m#= /home/maarten/projects/MPSKitExperimental.jl/examples/tightloop_tensor.ipynb:16 =#\u001b[39m\n",
       "                end\n",
       "                \u001b[90m#= /home/maarten/projects/MPSKitExperimental.jl/examples/tightloop_tensor.ipynb:20 =#\u001b[39m\n",
       "                var\"##305\"::var\"##307\"\n",
       "            end\n",
       "            \u001b[90m#= /home/maarten/projects/MPSKitExperimental.jl/examples/tightloop_tensor.ipynb:20 =#\u001b[39m\n",
       "            var\"##306\"::var\"##308\"\n",
       "        end\n",
       "        \u001b[90m#= /home/maarten/projects/MPSKitExperimental.jl/examples/tightloop_tensor.ipynb:43 =#\u001b[39m\n",
       "        function west(; b = nothing, c = nothing)\n",
       "            \u001b[90m#= /home/maarten/projects/MPSKitExperimental.jl/examples/tightloop_tensor.ipynb:43 =#\u001b[39m\n",
       "            \u001b[90m#= /home/maarten/projects/MPSKitExperimental.jl/examples/tightloop_tensor.ipynb:44 =#\u001b[39m\n",
       "            tup = abstract_eval(; b = SymbolicTensorMap(getindex(b, 1), getindex(b, 2)), c = SymbolicTensorMap(getindex(c, 1), getindex(c, 2)))\n",
       "            \u001b[90m#= /home/maarten/projects/MPSKitExperimental.jl/examples/tightloop_tensor.ipynb:45 =#\u001b[39m\n",
       "            new{typeof.(tup)}(tup)\n",
       "        end\n",
       "        \u001b[90m#= /home/maarten/projects/MPSKitExperimental.jl/examples/tightloop_tensor.ipynb:48 =#\u001b[39m\n",
       "        function abstract_eval(; b = nothing, c = nothing)\n",
       "            \u001b[90m#= /home/maarten/projects/MPSKitExperimental.jl/examples/tightloop_tensor.ipynb:48 =#\u001b[39m\n",
       "            \u001b[90m#= /home/maarten/projects/MPSKitExperimental.jl/examples/tightloop_tensor.ipynb:49 =#\u001b[39m\n",
       "            begin\n",
       "                var\"##T_a#304\" = TensorOperations.promote_contract(TensorOperations.scalartype(b), TensorOperations.scalartype(c))\n",
       "                begin\n",
       "                    \u001b[90m#= /home/maarten/projects/MPSKitExperimental.jl/examples/tightloop_tensor.ipynb:27 =#\u001b[39m\n",
       "                    (a, var\"##305\") = (create_mediated_tensoralloc_contract)(var\"##T_a#304\", ((1,), (2,)), b, ((1,), (2,)), :N, c, ((1,), (2,)), :N, false)\n",
       "                end\n",
       "                begin\n",
       "                    \u001b[90m#= /home/maarten/projects/MPSKitExperimental.jl/examples/tightloop_tensor.ipynb:27 =#\u001b[39m\n",
       "                    (a, var\"##306\") = (create_mediated_tensorcontract!)(a, ((1,), (2,)), b, ((1,), (2,)), :N, c, ((1,), (2,)), :N, VectorInterface.One(), VectorInterface.Zero())\n",
       "                end\n",
       "            end\n",
       "            \u001b[90m#= /home/maarten/projects/MPSKitExperimental.jl/examples/tightloop_tensor.ipynb:50 =#\u001b[39m\n",
       "            return tuple(var\"##305\", var\"##306\")\n",
       "        end\n",
       "        \u001b[90m#= /home/maarten/projects/MPSKitExperimental.jl/examples/tightloop_tensor.ipynb:52 =#\u001b[39m\n",
       "        function (var\"##309\"::west)(; b = nothing, c = nothing)\n",
       "            \u001b[90m#= /home/maarten/projects/MPSKitExperimental.jl/examples/tightloop_tensor.ipynb:52 =#\u001b[39m\n",
       "            \u001b[90m#= /home/maarten/projects/MPSKitExperimental.jl/examples/tightloop_tensor.ipynb:53 =#\u001b[39m\n",
       "            begin\n",
       "                \u001b[90m#= /home/maarten/projects/MPSKitExperimental.jl/examples/tightloop_tensor.ipynb:35 =#\u001b[39m\n",
       "                begin\n",
       "                    \u001b[90m#= /home/maarten/projects/MPSKitExperimental.jl/examples/tightloop_tensor.ipynb:35 =#\u001b[39m\n",
       "                    begin\n",
       "                        \u001b[90m#= /home/maarten/projects/MPSKitExperimental.jl/examples/tightloop_tensor.ipynb:32 =#\u001b[39m\n",
       "                    end\n",
       "                    \u001b[90m#= /home/maarten/projects/MPSKitExperimental.jl/examples/tightloop_tensor.ipynb:36 =#\u001b[39m\n",
       "                    var\"##305\" = (var\"##309\").var\"##305\"\n",
       "                end\n",
       "                \u001b[90m#= /home/maarten/projects/MPSKitExperimental.jl/examples/tightloop_tensor.ipynb:36 =#\u001b[39m\n",
       "                var\"##306\" = (var\"##309\").var\"##306\"\n",
       "            end\n",
       "            \u001b[90m#= /home/maarten/projects/MPSKitExperimental.jl/examples/tightloop_tensor.ipynb:54 =#\u001b[39m\n",
       "            begin\n",
       "                var\"##T_a#304\" = TensorOperations.promote_contract(TensorOperations.scalartype(b), TensorOperations.scalartype(c))\n",
       "                begin\n",
       "                    \u001b[90m#= /home/maarten/projects/MPSKitExperimental.jl/examples/tightloop_tensor.ipynb:30 =#\u001b[39m\n",
       "                    a = (mediated_tensoralloc_contract)(var\"##305\", var\"##T_a#304\", ((1,), (2,)), b, ((1,), (2,)), :N, c, ((1,), (2,)), :N, false)\n",
       "                end\n",
       "                begin\n",
       "                    \u001b[90m#= /home/maarten/projects/MPSKitExperimental.jl/examples/tightloop_tensor.ipynb:30 =#\u001b[39m\n",
       "                    a = (mediated_tensorcontract!)(var\"##306\", a, ((1,), (2,)), b, ((1,), (2,)), :N, c, ((1,), (2,)), :N, VectorInterface.One(), VectorInterface.Zero())\n",
       "                end\n",
       "            end\n",
       "        end\n",
       "    end\n",
       "end"
      ]
     },
     "metadata": {},
     "output_type": "display_data"
    }
   ],
   "source": [
    "@macroexpand @tightloop_tensor west a[-1;-2] := b[-1;1]*c[1;-2]"
   ]
  },
  {
   "cell_type": "code",
   "execution_count": 12,
   "metadata": {},
   "outputs": [
    {
     "name": "stdout",
     "output_type": "stream",
     "text": [
      "(ex.head, ex.args) = (:call, Any[:(TensorOperations.promote_contract), :(TensorOperations.scalartype(b)), :(TensorOperations.scalartype(c))])\n"
     ]
    },
    {
     "data": {
      "text/plain": [
       "5×5 Matrix{Float64}:\n",
       " 0.678895  1.4084    1.76689  1.3367    1.13481\n",
       " 0.705189  1.66558   1.60041  1.54012   1.17329\n",
       " 0.647733  0.915739  1.00998  1.03513   0.768398\n",
       " 0.604854  0.5956    1.13134  0.703446  0.611395\n",
       " 0.682581  1.14462   1.80783  1.1488    1.04654"
      ]
     },
     "metadata": {},
     "output_type": "display_data"
    }
   ],
   "source": [
    "@tightloop_tensor best a[-1;-2] := b[-1;1]*c[1;-2]\n",
    "\n",
    "t_1 = TensorMap(rand,ComplexF64,ℂ^5,ℂ^2)\n",
    "t_2 = TensorMap(rand,Float64,ℂ^2,ℂ^3)\n",
    "\n",
    "factory = best(b = (typeof(t_1),space(t_1)),c = (typeof(t_2),space(t_2)))\n",
    "factory(b=rand(5,5),c=rand(5,5))"
   ]
  },
  {
   "cell_type": "code",
   "execution_count": 14,
   "metadata": {},
   "outputs": [
    {
     "data": {
      "text/plain": [
       "best{DataType, DataType}(Nothing, Nothing)"
      ]
     },
     "metadata": {},
     "output_type": "display_data"
    }
   ],
   "source": [
    "factory"
   ]
  },
  {
   "cell_type": "code",
   "execution_count": null,
   "metadata": {},
   "outputs": [],
   "source": []
  }
 ],
 "metadata": {
  "kernelspec": {
   "display_name": "Julia 1.9.4",
   "language": "julia",
   "name": "julia-1.9"
  },
  "language_info": {
   "file_extension": ".jl",
   "mimetype": "application/julia",
   "name": "julia",
   "version": "1.9.4"
  }
 },
 "nbformat": 4,
 "nbformat_minor": 2
}
