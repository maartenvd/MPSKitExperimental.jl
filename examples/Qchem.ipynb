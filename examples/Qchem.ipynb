{
 "cells": [
  {
   "attachments": {},
   "cell_type": "markdown",
   "metadata": {},
   "source": [
    "Basic demonstration of the quantum chemistry code I have written. It seems to be fairly quick, but uses quite a bit of ram. One trick which I certainly did not exploit is that some parts of the environments are simply the harmitian conjugate of other parts, and the environments can therefore be compressed further (and should be twice as cheap to calculate)."
   ]
  },
  {
   "cell_type": "code",
   "execution_count": 1,
   "metadata": {},
   "outputs": [
    {
     "name": "stdout",
     "output_type": "stream",
     "text": [
      "(ex.head, ex.args) = (:||, Any[:(numout(v) == 2 && numin(v) == 1), :(throw(TensorOperations.IndexError(\"Incorrect number of input-output indices for v: (2, 1) instead of ($((numout(v), numin(v)))).\")))])\n",
      "(ex.head, ex.args) = (:||, Any[:(numout(A) == 2 && numin(A) == 1), :(throw(TensorOperations.IndexError(\"Incorrect number of input-output indices for A: (2, 1) instead of ($((numout(A), numin(A)))).\")))])\n",
      "(ex.head, ex.args) = (:||, Any[:(numout(O) == 2 && numin(O) == 2), :(throw(TensorOperations.IndexError(\"Incorrect number of input-output indices for O: (2, 2) instead of ($((numout(O), numin(O)))).\")))])\n",
      "(ex.head, ex.args) = (:||, Any[:(numout(Ab) == 2 && numin(Ab) == 1), :(throw(TensorOperations.IndexError(\"Incorrect number of input-output indices for Ab: (2, 1) instead of ($((numout(Ab), numin(Ab)))).\")))])\n",
      "(ex.head, ex.args) = (:call, Any[:(TensorOperations.promote_contract), :(TensorOperations.scalartype(v)), :(TensorOperations.scalartype(A))])\n",
      "(ex.head, ex.args) = (:call, Any[:(TensorOperations.promote_contract), :(TensorOperations.scalartype(var\"##942\")), :(TensorOperations.scalartype(O))])\n",
      "(ex.head, ex.args) = (:call, Any[:(TensorOperations.tensorfree!), Symbol(\"##942\")])\n",
      "(ex.head, ex.args) = (:call, Any[:(TensorOperations.promote_contract), :(TensorOperations.scalartype(Ab)), :(TensorOperations.scalartype(var\"##943\"))])\n",
      "(ex.head, ex.args) = (:call, Any[:(TensorOperations.tensorfree!), Symbol(\"##943\")])\n",
      "(ex.head, ex.args) = (:call, Any[:(TensorOperations.scalartype), Symbol(\"##944\")])\n",
      "(ex.head, ex.args) = (:call, Any[:(TensorOperations.tensorfree!), Symbol(\"##944\")])\n"
     ]
    }
   ],
   "source": [
    "using Revise,LinearAlgebra, MPSKit, TensorKit, MPSKitExperimental\n",
    "\n",
    "LinearAlgebra.BLAS.set_num_threads(1);\n",
    "#TensorKit.TO.disable_cache();\n",
    "TensorKit.Strided.disable_threads();\n"
   ]
  },
  {
   "attachments": {},
   "cell_type": "markdown",
   "metadata": {},
   "source": [
    "FCIDUMP is a well known (though badly documented) format to store the electronic integrals. I have written an experimental parser to load in such files:"
   ]
  },
  {
   "cell_type": "code",
   "execution_count": 2,
   "metadata": {},
   "outputs": [
    {
     "data": {
      "text/plain": [
       "([1.1486574428316065 + 0.0im 0.09862429942213358 + 0.0im … 0.0 + 0.0im 0.0 + 0.0im; 0.09862429942213358 + 0.0im 0.01772802215378584 + 0.0im … 0.0 + 0.0im 0.0 + 0.0im; … ; 0.0 + 0.0im 0.0 + 0.0im … 0.009036810489967113 + 0.0im 0.003653054088686124 + 0.0im; 0.0 + 0.0im 0.0 + 0.0im … 0.003653054088686124 + 0.0im 0.0017533811663050644 + 0.0im;;; 0.09862429942213358 + 0.0im 0.413306086967678 + 0.0im … 0.0 + 0.0im 0.0 + 0.0im; 0.01772802215378584 + 0.0im -0.002611637416218654 + 0.0im … 0.0 + 0.0im 0.0 + 0.0im; … ; 0.0 + 0.0im 0.0 + 0.0im … -0.00533684879644213 + 0.0im 0.002227779206976413 + 0.0im; 0.0 + 0.0im 0.0 + 0.0im … -0.001273700295269154 + 0.0im -0.0005596210416448279 + 0.0im;;; 0.03622757258934596 + 0.0im -0.0470908045818145 + 0.0im … 0.0 + 0.0im 0.0 + 0.0im; 0.0013749347300627281 + 0.0im 0.004411244674669814 + 0.0im … 0.0 + 0.0im 0.0 + 0.0im; … ; 0.0 + 0.0im 0.0 + 0.0im … -2.8000517192292658e-5 + 0.0im -0.006213347982843338 + 0.0im; 0.0 + 0.0im 0.0 + 0.0im … -0.000871798277289064 + 0.0im -0.0028996020803520152 + 0.0im;;; … ;;; 0.0 + 0.0im 0.0 + 0.0im … 0.11823289968652598 + 0.0im 0.007110087180342859 + 0.0im; 0.0 + 0.0im 0.0 + 0.0im … 0.0015984167527151832 + 0.0im 0.004436803448700936 + 0.0im; … ; 0.007429641064572234 + 0.0im -0.008985417484777656 + 0.0im … 0.0 + 0.0im 0.0 + 0.0im; 0.002995585258289709 + 0.0im -0.0024011508569076845 + 0.0im … 0.0 + 0.0im 0.0 + 0.0im;;; 0.0 + 0.0im 0.0 + 0.0im … 0.2952309447448744 + 0.0im 0.017625679477056167 + 0.0im; 0.0 + 0.0im 0.0 + 0.0im … 0.001904643441773133 + 0.0im 0.003078725471470265 + 0.0im; … ; 0.009036810489967113 + 0.0im -0.00533684879644213 + 0.0im … 0.0 + 0.0im 0.0 + 0.0im; 0.003653054088686124 + 0.0im -0.001273700295269154 + 0.0im … 0.0 + 0.0im 0.0 + 0.0im;;; 0.0 + 0.0im 0.0 + 0.0im … 0.017625679477056167 + 0.0im 0.31974400588840324 + 0.0im; 0.0 + 0.0im 0.0 + 0.0im … 0.003078725471470265 + 0.0im 3.447114004316771e-5 + 0.0im; … ; 0.003653054088686124 + 0.0im 0.002227779206976413 + 0.0im … 0.0 + 0.0im 0.0 + 0.0im; 0.0017533811663050644 + 0.0im -0.0005596210416448279 + 0.0im … 0.0 + 0.0im 0.0 + 0.0im;;;; 0.09862429942213358 + 0.0im 0.01772802215378584 + 0.0im … 0.0 + 0.0im 0.0 + 0.0im; 0.413306086967678 + 0.0im -0.002611637416218654 + 0.0im … 0.0 + 0.0im 0.0 + 0.0im; … ; 0.0 + 0.0im 0.0 + 0.0im … -0.00533684879644213 + 0.0im -0.001273700295269154 + 0.0im; 0.0 + 0.0im 0.0 + 0.0im … 0.002227779206976413 + 0.0im -0.0005596210416448279 + 0.0im;;; 0.01772802215378584 + 0.0im -0.002611637416218654 + 0.0im … 0.0 + 0.0im 0.0 + 0.0im; -0.002611637416218654 + 0.0im 0.40253420029612275 + 0.0im … 0.0 + 0.0im 0.0 + 0.0im; … ; 0.0 + 0.0im 0.0 + 0.0im … 0.013604839072926775 + 0.0im -0.011265598028669322 + 0.0im; 0.0 + 0.0im 0.0 + 0.0im … -0.011265598028669322 + 0.0im 0.02596551745971597 + 0.0im;;; 0.0013749347300627281 + 0.0im 0.004411244674669814 + 0.0im … 0.0 + 0.0im 0.0 + 0.0im; 0.015080828332119805 + 0.0im -0.07054856961069314 + 0.0im … 0.0 + 0.0im 0.0 + 0.0im; … ; 0.0 + 0.0im 0.0 + 0.0im … -0.0016862933362399972 + 0.0im 0.009688071252275483 + 0.0im; 0.0 + 0.0im 0.0 + 0.0im … 0.006843754711607716 + 0.0im -0.006360978982923815 + 0.0im;;; … ;;; 0.0 + 0.0im 0.0 + 0.0im … 0.0015984167527151832 + 0.0im 0.004436803448700936 + 0.0im; 0.0 + 0.0im 0.0 + 0.0im … 0.07832414575596727 + 0.0im -0.039796982070851354 + 0.0im; … ; -0.0048211274907020525 + 0.0im 0.018897906856376406 + 0.0im … 0.0 + 0.0im 0.0 + 0.0im; 0.0021329128184735756 + 0.0im -0.025565454268660658 + 0.0im … 0.0 + 0.0im 0.0 + 0.0im;;; 0.0 + 0.0im 0.0 + 0.0im … 0.001904643441773133 + 0.0im 0.003078725471470265 + 0.0im; 0.0 + 0.0im 0.0 + 0.0im … 0.2536744585700245 + 0.0im -0.012390235043225532 + 0.0im; … ; -0.00533684879644213 + 0.0im 0.013604839072926775 + 0.0im … 0.0 + 0.0im 0.0 + 0.0im; 0.002227779206976413 + 0.0im -0.011265598028669322 + 0.0im … 0.0 + 0.0im 0.0 + 0.0im;;; 0.0 + 0.0im 0.0 + 0.0im … 0.003078725471470265 + 0.0im 3.447114004316771e-5 + 0.0im; 0.0 + 0.0im 0.0 + 0.0im … -0.012390235043225532 + 0.0im 0.3058300084466437 + 0.0im; … ; -0.001273700295269154 + 0.0im -0.011265598028669322 + 0.0im … 0.0 + 0.0im 0.0 + 0.0im; -0.0005596210416448279 + 0.0im 0.02596551745971597 + 0.0im … 0.0 + 0.0im 0.0 + 0.0im;;;; 0.03622757258934596 + 0.0im 0.0013749347300627281 + 0.0im … 0.0 + 0.0im 0.0 + 0.0im; -0.0470908045818145 + 0.0im 0.004411244674669814 + 0.0im … 0.0 + 0.0im 0.0 + 0.0im; … ; 0.0 + 0.0im 0.0 + 0.0im … -2.8000517192292658e-5 + 0.0im -0.000871798277289064 + 0.0im; 0.0 + 0.0im 0.0 + 0.0im … -0.006213347982843338 + 0.0im -0.0028996020803520152 + 0.0im;;; 0.0013749347300627281 + 0.0im 0.015080828332119805 + 0.0im … 0.0 + 0.0im 0.0 + 0.0im; 0.004411244674669814 + 0.0im -0.07054856961069314 + 0.0im … 0.0 + 0.0im 0.0 + 0.0im; … ; 0.0 + 0.0im 0.0 + 0.0im … -0.0016862933362399972 + 0.0im 0.006843754711607716 + 0.0im; 0.0 + 0.0im 0.0 + 0.0im … 0.009688071252275483 + 0.0im -0.006360978982923815 + 0.0im;;; 0.008829961129120732 + 0.0im -0.008129370559739921 + 0.0im … 0.0 + 0.0im 0.0 + 0.0im; -0.008129370559739921 + 0.0im 0.03369284017444219 + 0.0im … 0.0 + 0.0im 0.0 + 0.0im; … ; 0.0 + 0.0im 0.0 + 0.0im … 0.005819165256664762 + 0.0im -0.0030246159734991012 + 0.0im; 0.0 + 0.0im 0.0 + 0.0im … -0.0030246159734991012 + 0.0im 0.030197773673398903 + 0.0im;;; … ;;; 0.0 + 0.0im 0.0 + 0.0im … 0.0033987698438485833 + 0.0im -0.005524378571073606 + 0.0im; 0.0 + 0.0im 0.0 + 0.0im … -0.017801813254214382 + 0.0im 0.02274278197612939 + 0.0im; … ; 2.533313192966499e-5 + 0.0im -0.008254357656541244 + 0.0im … 0.0 + 0.0im 0.0 + 0.0im; -0.005779208478156345 + 0.0im 0.0275347243651755 + 0.0im … 0.0 + 0.0im 0.0 + 0.0im;;; 0.0 + 0.0im 0.0 + 0.0im … 0.004168514918881364 + 0.0im -0.0025812047025260297 + 0.0im; 0.0 + 0.0im 0.0 + 0.0im … -0.020728497841211894 + 0.0im 0.00875019497001345 + 0.0im; … ; -2.8000517192292658e-5 + 0.0im -0.0016862933362399972 + 0.0im … 0.0 + 0.0im 0.0 + 0.0im; -0.006213347982843338 + 0.0im 0.009688071252275483 + 0.0im … 0.0 + 0.0im 0.0 + 0.0im;;; 0.0 + 0.0im 0.0 + 0.0im … -0.0025812047025260297 + 0.0im 0.0018429008807879738 + 0.0im; 0.0 + 0.0im 0.0 + 0.0im … 0.00875019497001345 + 0.0im -0.02529271738938673 + 0.0im; … ; -0.000871798277289064 + 0.0im 0.006843754711607716 + 0.0im … 0.0 + 0.0im 0.0 + 0.0im; -0.0028996020803520152 + 0.0im -0.006360978982923815 + 0.0im … 0.0 + 0.0im 0.0 + 0.0im;;;; … ;;;; 0.0 + 0.0im 0.0 + 0.0im … 0.007429641064572234 + 0.0im 0.002995585258289709 + 0.0im; 0.0 + 0.0im 0.0 + 0.0im … -0.008985417484777656 + 0.0im -0.0024011508569076845 + 0.0im; … ; 0.11823289968652598 + 0.0im 0.0015984167527151832 + 0.0im … 0.0 + 0.0im 0.0 + 0.0im; 0.007110087180342859 + 0.0im 0.004436803448700936 + 0.0im … 0.0 + 0.0im 0.0 + 0.0im;;; 0.0 + 0.0im 0.0 + 0.0im … -0.0048211274907020525 + 0.0im 0.0021329128184735756 + 0.0im; 0.0 + 0.0im 0.0 + 0.0im … 0.018897906856376406 + 0.0im -0.025565454268660658 + 0.0im; … ; 0.0015984167527151832 + 0.0im 0.07832414575596727 + 0.0im … 0.0 + 0.0im 0.0 + 0.0im; 0.004436803448700936 + 0.0im -0.039796982070851354 + 0.0im … 0.0 + 0.0im 0.0 + 0.0im;;; 0.0 + 0.0im 0.0 + 0.0im … 2.533313192966499e-5 + 0.0im -0.005779208478156345 + 0.0im; 0.0 + 0.0im 0.0 + 0.0im … -0.008254357656541244 + 0.0im 0.0275347243651755 + 0.0im; … ; 0.0033987698438485833 + 0.0im -0.017801813254214382 + 0.0im … 0.0 + 0.0im 0.0 + 0.0im; -0.005524378571073606 + 0.0im 0.02274278197612939 + 0.0im … 0.0 + 0.0im 0.0 + 0.0im;;; … ;;; 0.006145275890014281 + 0.0im -0.0083423511281127 + 0.0im … 0.0 + 0.0im 0.0 + 0.0im; -0.0083423511281127 + 0.0im 0.049456947530219224 + 0.0im … 0.0 + 0.0im 0.0 + 0.0im; … ; 0.0 + 0.0im 0.0 + 0.0im … 0.03804292458112956 + 0.0im -0.003638961488979935 + 0.0im; 0.0 + 0.0im 0.0 + 0.0im … -0.003638961488979935 + 0.0im 0.03323013970407337 + 0.0im;;; 0.007429641064572234 + 0.0im -0.0048211274907020525 + 0.0im … 0.0 + 0.0im 0.0 + 0.0im; -0.008985417484777656 + 0.0im 0.018897906856376406 + 0.0im … 0.0 + 0.0im 0.0 + 0.0im; … ; 0.0 + 0.0im 0.0 + 0.0im … 0.036303638615962516 + 0.0im -0.00017364522888651916 + 0.0im; 0.0 + 0.0im 0.0 + 0.0im … -0.009297555136863908 + 0.0im 0.009739624579902415 + 0.0im;;; 0.002995585258289709 + 0.0im 0.0021329128184735756 + 0.0im … 0.0 + 0.0im 0.0 + 0.0im; -0.0024011508569076845 + 0.0im -0.025565454268660658 + 0.0im … 0.0 + 0.0im 0.0 + 0.0im; … ; 0.0 + 0.0im 0.0 + 0.0im … -0.00017364522888651916 + 0.0im 0.052767256708585855 + 0.0im; 0.0 + 0.0im 0.0 + 0.0im … 0.009739624579902415 + 0.0im -0.011283421188428011 + 0.0im;;;; 0.0 + 0.0im 0.0 + 0.0im … 0.009036810489967113 + 0.0im 0.003653054088686124 + 0.0im; 0.0 + 0.0im 0.0 + 0.0im … -0.00533684879644213 + 0.0im -0.001273700295269154 + 0.0im; … ; 0.2952309447448744 + 0.0im 0.001904643441773133 + 0.0im … 0.0 + 0.0im 0.0 + 0.0im; 0.017625679477056167 + 0.0im 0.003078725471470265 + 0.0im … 0.0 + 0.0im 0.0 + 0.0im;;; 0.0 + 0.0im 0.0 + 0.0im … -0.00533684879644213 + 0.0im 0.002227779206976413 + 0.0im; 0.0 + 0.0im 0.0 + 0.0im … 0.013604839072926775 + 0.0im -0.011265598028669322 + 0.0im; … ; 0.001904643441773133 + 0.0im 0.2536744585700245 + 0.0im … 0.0 + 0.0im 0.0 + 0.0im; 0.003078725471470265 + 0.0im -0.012390235043225532 + 0.0im … 0.0 + 0.0im 0.0 + 0.0im;;; 0.0 + 0.0im 0.0 + 0.0im … -2.8000517192292658e-5 + 0.0im -0.006213347982843338 + 0.0im; 0.0 + 0.0im 0.0 + 0.0im … -0.0016862933362399972 + 0.0im 0.009688071252275483 + 0.0im; … ; 0.004168514918881364 + 0.0im -0.020728497841211894 + 0.0im … 0.0 + 0.0im 0.0 + 0.0im; -0.0025812047025260297 + 0.0im 0.00875019497001345 + 0.0im … 0.0 + 0.0im 0.0 + 0.0im;;; … ;;; 0.007429641064572234 + 0.0im -0.008985417484777656 + 0.0im … 0.0 + 0.0im 0.0 + 0.0im; -0.0048211274907020525 + 0.0im 0.018897906856376406 + 0.0im … 0.0 + 0.0im 0.0 + 0.0im; … ; 0.0 + 0.0im 0.0 + 0.0im … 0.036303638615962516 + 0.0im -0.009297555136863908 + 0.0im; 0.0 + 0.0im 0.0 + 0.0im … -0.00017364522888651916 + 0.0im 0.009739624579902415 + 0.0im;;; 0.009036810489967113 + 0.0im -0.00533684879644213 + 0.0im … 0.0 + 0.0im 0.0 + 0.0im; -0.00533684879644213 + 0.0im 0.013604839072926775 + 0.0im … 0.0 + 0.0im 0.0 + 0.0im; … ; 0.0 + 0.0im 0.0 + 0.0im … 0.21082104253554174 + 0.0im 0.0017072133343284674 + 0.0im; 0.0 + 0.0im 0.0 + 0.0im … 0.0017072133343284674 + 0.0im 0.007554716305022965 + 0.0im;;; 0.003653054088686124 + 0.0im 0.002227779206976413 + 0.0im … 0.0 + 0.0im 0.0 + 0.0im; -0.001273700295269154 + 0.0im -0.011265598028669322 + 0.0im … 0.0 + 0.0im 0.0 + 0.0im; … ; 0.0 + 0.0im 0.0 + 0.0im … 0.0017072133343284674 + 0.0im 0.2271102804123492 + 0.0im; 0.0 + 0.0im 0.0 + 0.0im … 0.007554716305022965 + 0.0im -0.003751888008563742 + 0.0im;;;; 0.0 + 0.0im 0.0 + 0.0im … 0.003653054088686124 + 0.0im 0.0017533811663050644 + 0.0im; 0.0 + 0.0im 0.0 + 0.0im … 0.002227779206976413 + 0.0im -0.0005596210416448279 + 0.0im; … ; 0.017625679477056167 + 0.0im 0.003078725471470265 + 0.0im … 0.0 + 0.0im 0.0 + 0.0im; 0.31974400588840324 + 0.0im 3.447114004316771e-5 + 0.0im … 0.0 + 0.0im 0.0 + 0.0im;;; 0.0 + 0.0im 0.0 + 0.0im … -0.001273700295269154 + 0.0im -0.0005596210416448279 + 0.0im; 0.0 + 0.0im 0.0 + 0.0im … -0.011265598028669322 + 0.0im 0.02596551745971597 + 0.0im; … ; 0.003078725471470265 + 0.0im -0.012390235043225532 + 0.0im … 0.0 + 0.0im 0.0 + 0.0im; 3.447114004316771e-5 + 0.0im 0.3058300084466437 + 0.0im … 0.0 + 0.0im 0.0 + 0.0im;;; 0.0 + 0.0im 0.0 + 0.0im … -0.000871798277289064 + 0.0im -0.0028996020803520152 + 0.0im; 0.0 + 0.0im 0.0 + 0.0im … 0.006843754711607716 + 0.0im -0.006360978982923815 + 0.0im; … ; -0.0025812047025260297 + 0.0im 0.00875019497001345 + 0.0im … 0.0 + 0.0im 0.0 + 0.0im; 0.0018429008807879738 + 0.0im -0.02529271738938673 + 0.0im … 0.0 + 0.0im 0.0 + 0.0im;;; … ;;; 0.002995585258289709 + 0.0im -0.0024011508569076845 + 0.0im … 0.0 + 0.0im 0.0 + 0.0im; 0.0021329128184735756 + 0.0im -0.025565454268660658 + 0.0im … 0.0 + 0.0im 0.0 + 0.0im; … ; 0.0 + 0.0im 0.0 + 0.0im … -0.00017364522888651916 + 0.0im 0.009739624579902415 + 0.0im; 0.0 + 0.0im 0.0 + 0.0im … 0.052767256708585855 + 0.0im -0.011283421188428011 + 0.0im;;; 0.003653054088686124 + 0.0im -0.001273700295269154 + 0.0im … 0.0 + 0.0im 0.0 + 0.0im; 0.002227779206976413 + 0.0im -0.011265598028669322 + 0.0im … 0.0 + 0.0im 0.0 + 0.0im; … ; 0.0 + 0.0im 0.0 + 0.0im … 0.0017072133343284674 + 0.0im 0.007554716305022965 + 0.0im; 0.0 + 0.0im 0.0 + 0.0im … 0.2271102804123492 + 0.0im -0.003751888008563742 + 0.0im;;; 0.0017533811663050644 + 0.0im -0.0005596210416448279 + 0.0im … 0.0 + 0.0im 0.0 + 0.0im; -0.0005596210416448279 + 0.0im 0.02596551745971597 + 0.0im … 0.0 + 0.0im 0.0 + 0.0im; … ; 0.0 + 0.0im 0.0 + 0.0im … 0.007554716305022965 + 0.0im -0.003751888008563742 + 0.0im; 0.0 + 0.0im 0.0 + 0.0im … -0.003751888008563742 + 0.0im 0.29199539199947283 + 0.0im], ComplexF64[-27.733176444512683 - 0.0im -0.4686488184060581 - 0.0im … 0.0 + 0.0im 0.0 + 0.0im; -0.4686488184060581 + 0.0im -9.833930119462243 - 0.0im … 0.0 + 0.0im 0.0 + 0.0im; … ; 0.0 + 0.0im 0.0 + 0.0im … -5.845592154416902 - 0.0im -0.1297714623150883 - 0.0im; 0.0 + 0.0im 0.0 + 0.0im … -0.1297714623150883 + 0.0im -5.921370858032323 - 0.0im], 23.135033050047216 + 0.0im, 28, 14, 0)"
      ]
     },
     "metadata": {},
     "output_type": "display_data"
    }
   ],
   "source": [
    "(ERI,K,E0,NORB,NELEC,MS2) = parse_fcidump(\"N2.CCPVDZ.FCIDUMP\")"
   ]
  },
  {
   "attachments": {},
   "cell_type": "markdown",
   "metadata": {},
   "source": [
    "ERI is the Electronic Repulsion Integral, K is the two-body term, E0 is an energy shift, NORB is the number of orbitals (mps length), NELEC is the number of electrons and MS2 is the total spin.\n",
    "\n",
    "fcidump files can contain orbital symmetries, but I ignore these."
   ]
  },
  {
   "cell_type": "code",
   "execution_count": 3,
   "metadata": {},
   "outputs": [],
   "source": [
    "(ham,_) = fused_quantum_chemistry_hamiltonian(E0,K,ERI,Float64);"
   ]
  },
  {
   "attachments": {},
   "cell_type": "markdown",
   "metadata": {},
   "source": [
    "The second return value contains some metadata which can be ignored. Instantiate the state:"
   ]
  },
  {
   "cell_type": "code",
   "execution_count": 4,
   "metadata": {},
   "outputs": [],
   "source": [
    "psp = Vect[(Irrep[U₁]⊠Irrep[SU₂] ⊠ FermionParity)]((0,0,0)=>1, (1,1//2,1)=>1, (2,0,0)=>1);\n",
    "left = Vect[(Irrep[U₁]⊠Irrep[SU₂] ⊠ FermionParity)]((-NELEC,MS2//2,mod(-NELEC,2))=>1);\n",
    "right = oneunit(left);\n",
    "\n",
    "virtual = Vect[(Irrep[U₁]⊠Irrep[SU₂] ⊠ FermionParity)]((i,s,b)=>1 for i in -NELEC:0, s in 0:1//2:(MS2//2+1), b in (0,1));\n",
    "\n",
    "st = FiniteMPS(rand,Float64,NORB,psp,virtual;left,right);"
   ]
  },
  {
   "attachments": {},
   "cell_type": "markdown",
   "metadata": {},
   "source": [
    "We also need to instantiate the environments, because MPSKit will otherwise call the default environment constructor which keeps everything in ram (I think I even disabled that constructor). To create an environment that lives on disk, we can use:"
   ]
  },
  {
   "cell_type": "code",
   "execution_count": 5,
   "metadata": {},
   "outputs": [],
   "source": [
    "envs = disk_environments(st,ham);"
   ]
  },
  {
   "attachments": {},
   "cell_type": "markdown",
   "metadata": {},
   "source": [
    "Let's call DMRG!"
   ]
  },
  {
   "cell_type": "code",
   "execution_count": 8,
   "metadata": {},
   "outputs": [],
   "source": [
    "@time (st,envs) = find_groundstate(st,ham, DMRG2(trscheme=truncdim(100), verbose = true, maxiter=3),envs);"
   ]
  },
  {
   "cell_type": "code",
   "execution_count": 6,
   "metadata": {},
   "outputs": [
    {
     "name": "stderr",
     "output_type": "stream",
     "text": [
      "┌ Info: DMRG2 iteration:\n",
      "│   iter = 1\n",
      "│   ϵ = 0.9999999994239843\n",
      "│   λ = -109.10798776824517\n",
      "│   Δt = 144.880029555\n",
      "└ @ MPSKit /home/maarten/projects/MPSKit.jl/src/algorithms/groundstate/dmrg.jl:119\n",
      "┌ Info: DMRG2 iteration:\n",
      "│   iter = 2\n",
      "│   ϵ = 0.0029276584349371415\n",
      "│   λ = -109.23611889333257\n",
      "│   Δt = 36.778272979\n",
      "└ @ MPSKit /home/maarten/projects/MPSKit.jl/src/algorithms/groundstate/dmrg.jl:119\n",
      "┌ Info: DMRG2 iteration:\n",
      "│   iter = 3\n",
      "│   ϵ = 0.0004006089262981183\n",
      "│   λ = -109.24516655944437\n",
      "│   Δt = 32.987991949\n",
      "└ @ MPSKit /home/maarten/projects/MPSKit.jl/src/algorithms/groundstate/dmrg.jl:119\n",
      "┌ Warning: DMRG2 maximum iterations\n",
      "│   iter = 3\n",
      "│   ϵ = 0.0004006089262981183\n",
      "│   λ = -109.24516655944437\n",
      "└ @ MPSKit /home/maarten/projects/MPSKit.jl/src/algorithms/groundstate/dmrg.jl:123\n",
      "┌ Info: DMRG2 summary:\n",
      "│   ϵ = 0.0004006089262981183\n",
      "│   λ = -109.24516655944437\n",
      "│   Δt = 219.983143374\n",
      "└ @ MPSKit /home/maarten/projects/MPSKit.jl/src/algorithms/groundstate/dmrg.jl:127\n"
     ]
    },
    {
     "name": "stdout",
     "output_type": "stream",
     "text": [
      "231.667762 seconds (4.47 G allocations: 208.782 GiB, 18.50% gc time, 96.89% compilation time)\n"
     ]
    }
   ],
   "source": [
    "@time (st,envs) = find_groundstate(st,ham, DMRG2(trscheme=truncdim(100), verbose = true, maxiter=3),envs);"
   ]
  },
  {
   "cell_type": "code",
   "execution_count": 10,
   "metadata": {},
   "outputs": [],
   "source": [
    "#@time (st,envs) = find_groundstate(st,ham,DMRG(maxiter=3),envs);"
   ]
  },
  {
   "cell_type": "code",
   "execution_count": 8,
   "metadata": {},
   "outputs": [
    {
     "name": "stdout",
     "output_type": "stream",
     "text": [
      "(ex.head, ex.args) = (:tuple, Any[Symbol(\"##2793\"), Symbol(\"##2794\")])\n",
      "(ex.head, ex.args) = (:tuple, Any[:(numout(v)), :(numin(v))])\n",
      "(ex.head, ex.args) = (:||, Any[:(numout(v) == 2 && (TensorKit.numin)(v) == 1), :(throw(TensorOperations.IndexError(\"incorrect number of input-output indices: (2, 1) instead of \" * string((var\"##2793\", var\"##2794\")) * \" for v.\")))])\n",
      "(ex.head, ex.args) = (:tuple, Any[Symbol(\"##2795\"), Symbol(\"##2796\")])\n",
      "(ex.head, ex.args) = (:tuple, Any[:(numout(A)), :(numin(A))])\n",
      "(ex.head, ex.args) = (:||, Any[:(numout(A) == 2 && (TensorKit.numin)(A) == 1), :(throw(TensorOperations.IndexError(\"incorrect number of input-output indices: (2, 1) instead of \" * string((var\"##2795\", var\"##2796\")) * \" for A.\")))])\n",
      "(ex.head, ex.args) = (:tuple, Any[Symbol(\"##2797\"), Symbol(\"##2798\")])\n",
      "(ex.head, ex.args) = (:tuple, Any[:(numout(O)), :(numin(O))])\n",
      "(ex.head, ex.args) = (:||, Any[:(numout(O) == 2 && (TensorKit.numin)(O) == 2), :(throw(TensorOperations.IndexError(\"incorrect number of input-output indices: (2, 2) instead of \" * string((var\"##2797\", var\"##2798\")) * \" for O.\")))])\n",
      "(ex.head, ex.args) = (:tuple, Any[Symbol(\"##2799\"), Symbol(\"##2800\")])\n",
      "(ex.head, ex.args) = (:tuple, Any[:(numout(Ab)), :(numin(Ab))])\n",
      "(ex.head, ex.args) = (:||, Any[:(numout(Ab) == 2 && (TensorKit.numin)(Ab) == 1), :(throw(TensorOperations.IndexError(\"incorrect number of input-output indices: (2, 1) instead of \" * string((var\"##2799\", var\"##2800\")) * \" for Ab.\")))])\n",
      "(ex.head, ex.args) = (:call, Any[:(TensorOperations.promote_contract), :(TensorOperations.scalartype(v)), :(TensorOperations.scalartype(A))])\n",
      "(ex.head, ex.args) = (:call, Any[:(TensorOperations.promote_contract), :(TensorOperations.scalartype(var\"##2801\")), :(TensorOperations.scalartype(O))])\n",
      "(ex.head, ex.args) = (:call, Any[:(TensorOperations.tensorfree!), Symbol(\"##2801\")])\n",
      "(ex.head, ex.args) = (:call, Any[:(TensorOperations.promote_contract), :(TensorOperations.scalartype(Ab)), :(TensorOperations.scalartype(var\"##2802\"))])\n",
      "(ex.head, ex.args) = (:call, Any[:(TensorOperations.tensorfree!), Symbol(\"##2802\")])\n",
      "(ex.head, ex.args) = (:call, Any[:(TensorOperations.scalartype), Symbol(\"##2803\")])\n",
      "(ex.head, ex.args) = (:call, Any[:(TensorOperations.tensorfree!), Symbol(\"##2803\")])\n"
     ]
    },
    {
     "name": "stderr",
     "output_type": "stream",
     "text": [
      "┌ Error: Failed to revise /home/maarten/projects/MPSKitExperimental.jl/src/quantumchemistry/fused_env.jl\n",
      "│   exception = Revise.ReviseEvalException(\"/home/maarten/projects/MPSKitExperimental.jl/src/tightloop/tightloop.jl:214\", ErrorException(\"invalid redefinition of constant left_trans\"), Any[(top-level scope at tightloop.jl:214, 1)])\n",
      "└ @ Revise /home/maarten/.julia/packages/Revise/sCmwS/src/packagedef.jl:722\n"
     ]
    }
   ],
   "source": [
    "Revise.retry()"
   ]
  },
  {
   "cell_type": "code",
   "execution_count": null,
   "metadata": {},
   "outputs": [],
   "source": []
  }
 ],
 "metadata": {
  "kernelspec": {
   "display_name": "Julia 1.9.4",
   "language": "julia",
   "name": "julia-1.9"
  },
  "language_info": {
   "file_extension": ".jl",
   "mimetype": "application/julia",
   "name": "julia",
   "version": "1.9.4"
  },
  "orig_nbformat": 4
 },
 "nbformat": 4,
 "nbformat_minor": 2
}
