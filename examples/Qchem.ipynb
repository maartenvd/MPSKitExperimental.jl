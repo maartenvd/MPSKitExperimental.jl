{
 "cells": [
  {
   "attachments": {},
   "cell_type": "markdown",
   "metadata": {},
   "source": [
    "Basic demonstration of the quantum chemistry code I have written. It seems to be fairly quick, but uses quite a bit of ram. One trick which I certainly did not exploit is that some parts of the environments are simply the harmitian conjugate of other parts, and the environments can therefore be compressed further (and should be twice as cheap to calculate)."
   ]
  },
  {
   "cell_type": "code",
   "execution_count": 1,
   "metadata": {},
   "outputs": [],
   "source": [
    "using Revise,LinearAlgebra, MPSKit, TensorKit, MPSKitExperimental\n",
    "\n",
    "LinearAlgebra.BLAS.set_num_threads(1);\n",
    "#TensorKit.TO.disable_cache();\n",
    "TensorKit.Strided.disable_threads();\n"
   ]
  },
  {
   "attachments": {},
   "cell_type": "markdown",
   "metadata": {},
   "source": [
    "FCIDUMP is a well known (though badly documented) format to store the electronic integrals. I have written an experimental parser to load in such files:"
   ]
  },
  {
   "cell_type": "code",
   "execution_count": null,
   "metadata": {},
   "outputs": [],
   "source": [
    "(ERI,K,E0,NORB,NELEC,MS2) = parse_fcidump(\"N2.CCPVDZ.FCIDUMP\")"
   ]
  },
  {
   "attachments": {},
   "cell_type": "markdown",
   "metadata": {},
   "source": [
    "ERI is the Electronic Repulsion Integral, K is the two-body term, E0 is an energy shift, NORB is the number of orbitals (mps length), NELEC is the number of electrons and MS2 is the total spin.\n",
    "\n",
    "fcidump files can contain orbital symmetries, but I ignore these."
   ]
  },
  {
   "cell_type": "code",
   "execution_count": null,
   "metadata": {},
   "outputs": [],
   "source": [
    "(ham,_) = fused_quantum_chemistry_hamiltonian(E0,K,ERI);"
   ]
  },
  {
   "attachments": {},
   "cell_type": "markdown",
   "metadata": {},
   "source": [
    "The second return value contains some metadata which can be ignored. Instantiate the state:"
   ]
  },
  {
   "cell_type": "code",
   "execution_count": null,
   "metadata": {},
   "outputs": [],
   "source": [
    "psp = Vect[(Irrep[U₁]⊠Irrep[SU₂] ⊠ FermionParity)]((0,0,0)=>1, (1,1//2,1)=>1, (2,0,0)=>1);\n",
    "\n",
    "left = Vect[(Irrep[U₁]⊠Irrep[SU₂] ⊠ FermionParity)]((-NELEC,MS2//2,mod1(-NELEC,2))=>1);\n",
    "right = oneunit(left);\n",
    "\n",
    "virtual = Vect[(Irrep[U₁]⊠Irrep[SU₂] ⊠ FermionParity)]((i,s,b)=>1 for i in -NELEC:0, s in 0:1//2:(MS2//2+1), b in (0,1));\n",
    "\n",
    "st = FiniteMPS(rand,Float64,NORB,psp,virtual;left,right);"
   ]
  },
  {
   "attachments": {},
   "cell_type": "markdown",
   "metadata": {},
   "source": [
    "We also need to instantiate the environments, because MPSKit will otherwise call the default environment constructor which keeps everything in ram (I think I even disabled that constructor). To create an environment that lives on disk, we can use:"
   ]
  },
  {
   "cell_type": "code",
   "execution_count": 7,
   "metadata": {},
   "outputs": [],
   "source": [
    "envs = disk_environments(st,ham);"
   ]
  },
  {
   "attachments": {},
   "cell_type": "markdown",
   "metadata": {},
   "source": [
    "Let's call DMRG!"
   ]
  },
  {
   "cell_type": "code",
   "execution_count": 8,
   "metadata": {},
   "outputs": [
    {
     "ename": "TaskFailedException",
     "evalue": "TaskFailedException\n\n    nested task error: TaskFailedException\n    Stacktrace:\n     [1] wait\n       @ ./task.jl:349 [inlined]\n     [2] fetch\n       @ ./task.jl:369 [inlined]\n     [3] (::MPSKitExperimental.var\"#181#197\"{Dict{Any, MPSKitExperimental.TransposeFact{MPSKitExperimental.DelayedFact{GradedSpace{TensorKit.ProductSector{Tuple{U1Irrep, SU2Irrep, Fermion{TensorKit._fermionparity, Z2Irrep}}}, TensorKit.SortedVectorDict{TensorKit.ProductSector{Tuple{U1Irrep, SU2Irrep, Fermion{TensorKit._fermionparity, Z2Irrep}}}, Int64}}, 3, 2, FusionTree{TensorKit.ProductSector{Tuple{U1Irrep, SU2Irrep, Fermion{TensorKit._fermionparity, Z2Irrep}}}, 3, 1, 2, Nothing}, FusionTree{TensorKit.ProductSector{Tuple{U1Irrep, SU2Irrep, Fermion{TensorKit._fermionparity, Z2Irrep}}}, 2, 0, 1, Nothing}, TensorKit.ProductSector{Tuple{U1Irrep, SU2Irrep, Fermion{TensorKit._fermionparity, Z2Irrep}}}, DataType, TensorMap{GradedSpace{TensorKit.ProductSector{Tuple{U1Irrep, SU2Irrep, Fermion{TensorKit._fermionparity, Z2Irrep}}}, TensorKit.SortedVectorDict{TensorKit.ProductSector{Tuple{U1Irrep, SU2Irrep, Fermion{TensorKit._fermionparity, Z2Irrep}}}, Int64}}, 3, 2, TensorKit.ProductSector{Tuple{U1Irrep, SU2Irrep, Fermion{TensorKit._fermionparity, Z2Irrep}}}, TensorKit.SortedVectorDict{TensorKit.ProductSector{Tuple{U1Irrep, SU2Irrep, Fermion{TensorKit._fermionparity, Z2Irrep}}}, Matrix{ComplexF64}}, FusionTree{TensorKit.ProductSector{Tuple{U1Irrep, SU2Irrep, Fermion{TensorKit._fermionparity, Z2Irrep}}}, 3, 1, 2, Nothing}, FusionTree{TensorKit.ProductSector{Tuple{U1Irrep, SU2Irrep, Fermion{TensorKit._fermionparity, Z2Irrep}}}, 2, 0, 1, Nothing}}}, 5, ComplexF64}}, Task})()\n       @ MPSKitExperimental ./threadingconstructs.jl:373\n    \n        nested task error: InterruptException:",
     "output_type": "error",
     "traceback": [
      "TaskFailedException\n",
      "\n",
      "    nested task error: TaskFailedException\n",
      "    Stacktrace:\n",
      "     [1] wait\n",
      "       @ ./task.jl:349 [inlined]\n",
      "     [2] fetch\n",
      "       @ ./task.jl:369 [inlined]\n",
      "     [3] (::MPSKitExperimental.var\"#181#197\"{Dict{Any, MPSKitExperimental.TransposeFact{MPSKitExperimental.DelayedFact{GradedSpace{TensorKit.ProductSector{Tuple{U1Irrep, SU2Irrep, Fermion{TensorKit._fermionparity, Z2Irrep}}}, TensorKit.SortedVectorDict{TensorKit.ProductSector{Tuple{U1Irrep, SU2Irrep, Fermion{TensorKit._fermionparity, Z2Irrep}}}, Int64}}, 3, 2, FusionTree{TensorKit.ProductSector{Tuple{U1Irrep, SU2Irrep, Fermion{TensorKit._fermionparity, Z2Irrep}}}, 3, 1, 2, Nothing}, FusionTree{TensorKit.ProductSector{Tuple{U1Irrep, SU2Irrep, Fermion{TensorKit._fermionparity, Z2Irrep}}}, 2, 0, 1, Nothing}, TensorKit.ProductSector{Tuple{U1Irrep, SU2Irrep, Fermion{TensorKit._fermionparity, Z2Irrep}}}, DataType, TensorMap{GradedSpace{TensorKit.ProductSector{Tuple{U1Irrep, SU2Irrep, Fermion{TensorKit._fermionparity, Z2Irrep}}}, TensorKit.SortedVectorDict{TensorKit.ProductSector{Tuple{U1Irrep, SU2Irrep, Fermion{TensorKit._fermionparity, Z2Irrep}}}, Int64}}, 3, 2, TensorKit.ProductSector{Tuple{U1Irrep, SU2Irrep, Fermion{TensorKit._fermionparity, Z2Irrep}}}, TensorKit.SortedVectorDict{TensorKit.ProductSector{Tuple{U1Irrep, SU2Irrep, Fermion{TensorKit._fermionparity, Z2Irrep}}}, Matrix{ComplexF64}}, FusionTree{TensorKit.ProductSector{Tuple{U1Irrep, SU2Irrep, Fermion{TensorKit._fermionparity, Z2Irrep}}}, 3, 1, 2, Nothing}, FusionTree{TensorKit.ProductSector{Tuple{U1Irrep, SU2Irrep, Fermion{TensorKit._fermionparity, Z2Irrep}}}, 2, 0, 1, Nothing}}}, 5, ComplexF64}}, Task})()\n",
      "       @ MPSKitExperimental ./threadingconstructs.jl:373\n",
      "    \n",
      "        nested task error: InterruptException:\n",
      "\n",
      "Stacktrace:\n",
      " [1] wait\n",
      "   @ ./task.jl:349 [inlined]\n",
      " [2] fetch(t::Task)\n",
      "   @ Base ./task.jl:369\n",
      " [3] ∂∂AC2(pos::Int64, mps::FiniteMPS{TensorMap{GradedSpace{TensorKit.ProductSector{Tuple{U1Irrep, SU2Irrep, Fermion{TensorKit._fermionparity, Z2Irrep}}}, TensorKit.SortedVectorDict{TensorKit.ProductSector{Tuple{U1Irrep, SU2Irrep, Fermion{TensorKit._fermionparity, Z2Irrep}}}, Int64}}, 2, 1, TensorKit.ProductSector{Tuple{U1Irrep, SU2Irrep, Fermion{TensorKit._fermionparity, Z2Irrep}}}, TensorKit.SortedVectorDict{TensorKit.ProductSector{Tuple{U1Irrep, SU2Irrep, Fermion{TensorKit._fermionparity, Z2Irrep}}}, Matrix{ComplexF64}}, FusionTree{TensorKit.ProductSector{Tuple{U1Irrep, SU2Irrep, Fermion{TensorKit._fermionparity, Z2Irrep}}}, 2, 0, 1, Nothing}, FusionTree{TensorKit.ProductSector{Tuple{U1Irrep, SU2Irrep, Fermion{TensorKit._fermionparity, Z2Irrep}}}, 1, 0, 0, Nothing}}, TensorMap{GradedSpace{TensorKit.ProductSector{Tuple{U1Irrep, SU2Irrep, Fermion{TensorKit._fermionparity, Z2Irrep}}}, TensorKit.SortedVectorDict{TensorKit.ProductSector{Tuple{U1Irrep, SU2Irrep, Fermion{TensorKit._fermionparity, Z2Irrep}}}, Int64}}, 1, 1, TensorKit.ProductSector{Tuple{U1Irrep, SU2Irrep, Fermion{TensorKit._fermionparity, Z2Irrep}}}, TensorKit.SortedVectorDict{TensorKit.ProductSector{Tuple{U1Irrep, SU2Irrep, Fermion{TensorKit._fermionparity, Z2Irrep}}}, Matrix{ComplexF64}}, FusionTree{TensorKit.ProductSector{Tuple{U1Irrep, SU2Irrep, Fermion{TensorKit._fermionparity, Z2Irrep}}}, 1, 0, 0, Nothing}, FusionTree{TensorKit.ProductSector{Tuple{U1Irrep, SU2Irrep, Fermion{TensorKit._fermionparity, Z2Irrep}}}, 1, 0, 0, Nothing}}}, ham::MPSKitExperimental.FusedMPOHamiltonian{ComplexF64, TensorMap{GradedSpace{TensorKit.ProductSector{Tuple{U1Irrep, SU2Irrep, Fermion{TensorKit._fermionparity, Z2Irrep}}}, TensorKit.SortedVectorDict{TensorKit.ProductSector{Tuple{U1Irrep, SU2Irrep, Fermion{TensorKit._fermionparity, Z2Irrep}}}, Int64}}, 2, 2, TensorKit.ProductSector{Tuple{U1Irrep, SU2Irrep, Fermion{TensorKit._fermionparity, Z2Irrep}}}, TensorKit.SortedVectorDict{TensorKit.ProductSector{Tuple{U1Irrep, SU2Irrep, Fermion{TensorKit._fermionparity, Z2Irrep}}}, Matrix{ComplexF64}}, FusionTree{TensorKit.ProductSector{Tuple{U1Irrep, SU2Irrep, Fermion{TensorKit._fermionparity, Z2Irrep}}}, 2, 0, 1, Nothing}, FusionTree{TensorKit.ProductSector{Tuple{U1Irrep, SU2Irrep, Fermion{TensorKit._fermionparity, Z2Irrep}}}, 2, 0, 1, Nothing}}, GradedSpace{TensorKit.ProductSector{Tuple{U1Irrep, SU2Irrep, Fermion{TensorKit._fermionparity, Z2Irrep}}}, TensorKit.SortedVectorDict{TensorKit.ProductSector{Tuple{U1Irrep, SU2Irrep, Fermion{TensorKit._fermionparity, Z2Irrep}}}, Int64}}}, cache::MPSKitExperimental.ManualDiskBackedEnvs{MPSKitExperimental.FusedMPOHamiltonian{ComplexF64, TensorMap{GradedSpace{TensorKit.ProductSector{Tuple{U1Irrep, SU2Irrep, Fermion{TensorKit._fermionparity, Z2Irrep}}}, TensorKit.SortedVectorDict{TensorKit.ProductSector{Tuple{U1Irrep, SU2Irrep, Fermion{TensorKit._fermionparity, Z2Irrep}}}, Int64}}, 2, 2, TensorKit.ProductSector{Tuple{U1Irrep, SU2Irrep, Fermion{TensorKit._fermionparity, Z2Irrep}}}, TensorKit.SortedVectorDict{TensorKit.ProductSector{Tuple{U1Irrep, SU2Irrep, Fermion{TensorKit._fermionparity, Z2Irrep}}}, Matrix{ComplexF64}}, FusionTree{TensorKit.ProductSector{Tuple{U1Irrep, SU2Irrep, Fermion{TensorKit._fermionparity, Z2Irrep}}}, 2, 0, 1, Nothing}, FusionTree{TensorKit.ProductSector{Tuple{U1Irrep, SU2Irrep, Fermion{TensorKit._fermionparity, Z2Irrep}}}, 2, 0, 1, Nothing}}, GradedSpace{TensorKit.ProductSector{Tuple{U1Irrep, SU2Irrep, Fermion{TensorKit._fermionparity, Z2Irrep}}}, TensorKit.SortedVectorDict{TensorKit.ProductSector{Tuple{U1Irrep, SU2Irrep, Fermion{TensorKit._fermionparity, Z2Irrep}}}, Int64}}}, TensorMap{GradedSpace{TensorKit.ProductSector{Tuple{U1Irrep, SU2Irrep, Fermion{TensorKit._fermionparity, Z2Irrep}}}, TensorKit.SortedVectorDict{TensorKit.ProductSector{Tuple{U1Irrep, SU2Irrep, Fermion{TensorKit._fermionparity, Z2Irrep}}}, Int64}}, 2, 1, TensorKit.ProductSector{Tuple{U1Irrep, SU2Irrep, Fermion{TensorKit._fermionparity, Z2Irrep}}}, TensorKit.SortedVectorDict{TensorKit.ProductSector{Tuple{U1Irrep, SU2Irrep, Fermion{TensorKit._fermionparity, Z2Irrep}}}, Matrix{ComplexF64}}, FusionTree{TensorKit.ProductSector{Tuple{U1Irrep, SU2Irrep, Fermion{TensorKit._fermionparity, Z2Irrep}}}, 2, 0, 1, Nothing}, FusionTree{TensorKit.ProductSector{Tuple{U1Irrep, SU2Irrep, Fermion{TensorKit._fermionparity, Z2Irrep}}}, 1, 0, 0, Nothing}}})\n",
      "   @ MPSKitExperimental ~/MPSKitExperimental.jl/src/quantumchemistry/fused_deriv.jl:255\n",
      " [4] find_groundstate!(Ψ::FiniteMPS{TensorMap{GradedSpace{TensorKit.ProductSector{Tuple{U1Irrep, SU2Irrep, Fermion{TensorKit._fermionparity, Z2Irrep}}}, TensorKit.SortedVectorDict{TensorKit.ProductSector{Tuple{U1Irrep, SU2Irrep, Fermion{TensorKit._fermionparity, Z2Irrep}}}, Int64}}, 2, 1, TensorKit.ProductSector{Tuple{U1Irrep, SU2Irrep, Fermion{TensorKit._fermionparity, Z2Irrep}}}, TensorKit.SortedVectorDict{TensorKit.ProductSector{Tuple{U1Irrep, SU2Irrep, Fermion{TensorKit._fermionparity, Z2Irrep}}}, Matrix{ComplexF64}}, FusionTree{TensorKit.ProductSector{Tuple{U1Irrep, SU2Irrep, Fermion{TensorKit._fermionparity, Z2Irrep}}}, 2, 0, 1, Nothing}, FusionTree{TensorKit.ProductSector{Tuple{U1Irrep, SU2Irrep, Fermion{TensorKit._fermionparity, Z2Irrep}}}, 1, 0, 0, Nothing}}, TensorMap{GradedSpace{TensorKit.ProductSector{Tuple{U1Irrep, SU2Irrep, Fermion{TensorKit._fermionparity, Z2Irrep}}}, TensorKit.SortedVectorDict{TensorKit.ProductSector{Tuple{U1Irrep, SU2Irrep, Fermion{TensorKit._fermionparity, Z2Irrep}}}, Int64}}, 1, 1, TensorKit.ProductSector{Tuple{U1Irrep, SU2Irrep, Fermion{TensorKit._fermionparity, Z2Irrep}}}, TensorKit.SortedVectorDict{TensorKit.ProductSector{Tuple{U1Irrep, SU2Irrep, Fermion{TensorKit._fermionparity, Z2Irrep}}}, Matrix{ComplexF64}}, FusionTree{TensorKit.ProductSector{Tuple{U1Irrep, SU2Irrep, Fermion{TensorKit._fermionparity, Z2Irrep}}}, 1, 0, 0, Nothing}, FusionTree{TensorKit.ProductSector{Tuple{U1Irrep, SU2Irrep, Fermion{TensorKit._fermionparity, Z2Irrep}}}, 1, 0, 0, Nothing}}}, H::MPSKitExperimental.FusedMPOHamiltonian{ComplexF64, TensorMap{GradedSpace{TensorKit.ProductSector{Tuple{U1Irrep, SU2Irrep, Fermion{TensorKit._fermionparity, Z2Irrep}}}, TensorKit.SortedVectorDict{TensorKit.ProductSector{Tuple{U1Irrep, SU2Irrep, Fermion{TensorKit._fermionparity, Z2Irrep}}}, Int64}}, 2, 2, TensorKit.ProductSector{Tuple{U1Irrep, SU2Irrep, Fermion{TensorKit._fermionparity, Z2Irrep}}}, TensorKit.SortedVectorDict{TensorKit.ProductSector{Tuple{U1Irrep, SU2Irrep, Fermion{TensorKit._fermionparity, Z2Irrep}}}, Matrix{ComplexF64}}, FusionTree{TensorKit.ProductSector{Tuple{U1Irrep, SU2Irrep, Fermion{TensorKit._fermionparity, Z2Irrep}}}, 2, 0, 1, Nothing}, FusionTree{TensorKit.ProductSector{Tuple{U1Irrep, SU2Irrep, Fermion{TensorKit._fermionparity, Z2Irrep}}}, 2, 0, 1, Nothing}}, GradedSpace{TensorKit.ProductSector{Tuple{U1Irrep, SU2Irrep, Fermion{TensorKit._fermionparity, Z2Irrep}}}, TensorKit.SortedVectorDict{TensorKit.ProductSector{Tuple{U1Irrep, SU2Irrep, Fermion{TensorKit._fermionparity, Z2Irrep}}}, Int64}}}, alg::DMRG2{KrylovKit.Arnoldi{KrylovKit.ModifiedGramSchmidt2, Float64}, typeof(MPSKit.Defaults._finalize)}, envs::MPSKitExperimental.ManualDiskBackedEnvs{MPSKitExperimental.FusedMPOHamiltonian{ComplexF64, TensorMap{GradedSpace{TensorKit.ProductSector{Tuple{U1Irrep, SU2Irrep, Fermion{TensorKit._fermionparity, Z2Irrep}}}, TensorKit.SortedVectorDict{TensorKit.ProductSector{Tuple{U1Irrep, SU2Irrep, Fermion{TensorKit._fermionparity, Z2Irrep}}}, Int64}}, 2, 2, TensorKit.ProductSector{Tuple{U1Irrep, SU2Irrep, Fermion{TensorKit._fermionparity, Z2Irrep}}}, TensorKit.SortedVectorDict{TensorKit.ProductSector{Tuple{U1Irrep, SU2Irrep, Fermion{TensorKit._fermionparity, Z2Irrep}}}, Matrix{ComplexF64}}, FusionTree{TensorKit.ProductSector{Tuple{U1Irrep, SU2Irrep, Fermion{TensorKit._fermionparity, Z2Irrep}}}, 2, 0, 1, Nothing}, FusionTree{TensorKit.ProductSector{Tuple{U1Irrep, SU2Irrep, Fermion{TensorKit._fermionparity, Z2Irrep}}}, 2, 0, 1, Nothing}}, GradedSpace{TensorKit.ProductSector{Tuple{U1Irrep, SU2Irrep, Fermion{TensorKit._fermionparity, Z2Irrep}}}, TensorKit.SortedVectorDict{TensorKit.ProductSector{Tuple{U1Irrep, SU2Irrep, Fermion{TensorKit._fermionparity, Z2Irrep}}}, Int64}}}, TensorMap{GradedSpace{TensorKit.ProductSector{Tuple{U1Irrep, SU2Irrep, Fermion{TensorKit._fermionparity, Z2Irrep}}}, TensorKit.SortedVectorDict{TensorKit.ProductSector{Tuple{U1Irrep, SU2Irrep, Fermion{TensorKit._fermionparity, Z2Irrep}}}, Int64}}, 2, 1, TensorKit.ProductSector{Tuple{U1Irrep, SU2Irrep, Fermion{TensorKit._fermionparity, Z2Irrep}}}, TensorKit.SortedVectorDict{TensorKit.ProductSector{Tuple{U1Irrep, SU2Irrep, Fermion{TensorKit._fermionparity, Z2Irrep}}}, Matrix{ComplexF64}}, FusionTree{TensorKit.ProductSector{Tuple{U1Irrep, SU2Irrep, Fermion{TensorKit._fermionparity, Z2Irrep}}}, 2, 0, 1, Nothing}, FusionTree{TensorKit.ProductSector{Tuple{U1Irrep, SU2Irrep, Fermion{TensorKit._fermionparity, Z2Irrep}}}, 1, 0, 0, Nothing}}})\n",
      "   @ MPSKit ~/.julia/packages/MPSKit/BToBw/src/algorithms/groundstate/dmrg.jl:85\n",
      " [5] find_groundstate(Ψ::FiniteMPS{TensorMap{GradedSpace{TensorKit.ProductSector{Tuple{U1Irrep, SU2Irrep, Fermion{TensorKit._fermionparity, Z2Irrep}}}, TensorKit.SortedVectorDict{TensorKit.ProductSector{Tuple{U1Irrep, SU2Irrep, Fermion{TensorKit._fermionparity, Z2Irrep}}}, Int64}}, 2, 1, TensorKit.ProductSector{Tuple{U1Irrep, SU2Irrep, Fermion{TensorKit._fermionparity, Z2Irrep}}}, TensorKit.SortedVectorDict{TensorKit.ProductSector{Tuple{U1Irrep, SU2Irrep, Fermion{TensorKit._fermionparity, Z2Irrep}}}, Matrix{ComplexF64}}, FusionTree{TensorKit.ProductSector{Tuple{U1Irrep, SU2Irrep, Fermion{TensorKit._fermionparity, Z2Irrep}}}, 2, 0, 1, Nothing}, FusionTree{TensorKit.ProductSector{Tuple{U1Irrep, SU2Irrep, Fermion{TensorKit._fermionparity, Z2Irrep}}}, 1, 0, 0, Nothing}}, TensorMap{GradedSpace{TensorKit.ProductSector{Tuple{U1Irrep, SU2Irrep, Fermion{TensorKit._fermionparity, Z2Irrep}}}, TensorKit.SortedVectorDict{TensorKit.ProductSector{Tuple{U1Irrep, SU2Irrep, Fermion{TensorKit._fermionparity, Z2Irrep}}}, Int64}}, 1, 1, TensorKit.ProductSector{Tuple{U1Irrep, SU2Irrep, Fermion{TensorKit._fermionparity, Z2Irrep}}}, TensorKit.SortedVectorDict{TensorKit.ProductSector{Tuple{U1Irrep, SU2Irrep, Fermion{TensorKit._fermionparity, Z2Irrep}}}, Matrix{ComplexF64}}, FusionTree{TensorKit.ProductSector{Tuple{U1Irrep, SU2Irrep, Fermion{TensorKit._fermionparity, Z2Irrep}}}, 1, 0, 0, Nothing}, FusionTree{TensorKit.ProductSector{Tuple{U1Irrep, SU2Irrep, Fermion{TensorKit._fermionparity, Z2Irrep}}}, 1, 0, 0, Nothing}}}, H::MPSKitExperimental.FusedMPOHamiltonian{ComplexF64, TensorMap{GradedSpace{TensorKit.ProductSector{Tuple{U1Irrep, SU2Irrep, Fermion{TensorKit._fermionparity, Z2Irrep}}}, TensorKit.SortedVectorDict{TensorKit.ProductSector{Tuple{U1Irrep, SU2Irrep, Fermion{TensorKit._fermionparity, Z2Irrep}}}, Int64}}, 2, 2, TensorKit.ProductSector{Tuple{U1Irrep, SU2Irrep, Fermion{TensorKit._fermionparity, Z2Irrep}}}, TensorKit.SortedVectorDict{TensorKit.ProductSector{Tuple{U1Irrep, SU2Irrep, Fermion{TensorKit._fermionparity, Z2Irrep}}}, Matrix{ComplexF64}}, FusionTree{TensorKit.ProductSector{Tuple{U1Irrep, SU2Irrep, Fermion{TensorKit._fermionparity, Z2Irrep}}}, 2, 0, 1, Nothing}, FusionTree{TensorKit.ProductSector{Tuple{U1Irrep, SU2Irrep, Fermion{TensorKit._fermionparity, Z2Irrep}}}, 2, 0, 1, Nothing}}, GradedSpace{TensorKit.ProductSector{Tuple{U1Irrep, SU2Irrep, Fermion{TensorKit._fermionparity, Z2Irrep}}}, TensorKit.SortedVectorDict{TensorKit.ProductSector{Tuple{U1Irrep, SU2Irrep, Fermion{TensorKit._fermionparity, Z2Irrep}}}, Int64}}}, alg::DMRG2{KrylovKit.Arnoldi{KrylovKit.ModifiedGramSchmidt2, Float64}, typeof(MPSKit.Defaults._finalize)}, envs::MPSKitExperimental.ManualDiskBackedEnvs{MPSKitExperimental.FusedMPOHamiltonian{ComplexF64, TensorMap{GradedSpace{TensorKit.ProductSector{Tuple{U1Irrep, SU2Irrep, Fermion{TensorKit._fermionparity, Z2Irrep}}}, TensorKit.SortedVectorDict{TensorKit.ProductSector{Tuple{U1Irrep, SU2Irrep, Fermion{TensorKit._fermionparity, Z2Irrep}}}, Int64}}, 2, 2, TensorKit.ProductSector{Tuple{U1Irrep, SU2Irrep, Fermion{TensorKit._fermionparity, Z2Irrep}}}, TensorKit.SortedVectorDict{TensorKit.ProductSector{Tuple{U1Irrep, SU2Irrep, Fermion{TensorKit._fermionparity, Z2Irrep}}}, Matrix{ComplexF64}}, FusionTree{TensorKit.ProductSector{Tuple{U1Irrep, SU2Irrep, Fermion{TensorKit._fermionparity, Z2Irrep}}}, 2, 0, 1, Nothing}, FusionTree{TensorKit.ProductSector{Tuple{U1Irrep, SU2Irrep, Fermion{TensorKit._fermionparity, Z2Irrep}}}, 2, 0, 1, Nothing}}, GradedSpace{TensorKit.ProductSector{Tuple{U1Irrep, SU2Irrep, Fermion{TensorKit._fermionparity, Z2Irrep}}}, TensorKit.SortedVectorDict{TensorKit.ProductSector{Tuple{U1Irrep, SU2Irrep, Fermion{TensorKit._fermionparity, Z2Irrep}}}, Int64}}}, TensorMap{GradedSpace{TensorKit.ProductSector{Tuple{U1Irrep, SU2Irrep, Fermion{TensorKit._fermionparity, Z2Irrep}}}, TensorKit.SortedVectorDict{TensorKit.ProductSector{Tuple{U1Irrep, SU2Irrep, Fermion{TensorKit._fermionparity, Z2Irrep}}}, Int64}}, 2, 1, TensorKit.ProductSector{Tuple{U1Irrep, SU2Irrep, Fermion{TensorKit._fermionparity, Z2Irrep}}}, TensorKit.SortedVectorDict{TensorKit.ProductSector{Tuple{U1Irrep, SU2Irrep, Fermion{TensorKit._fermionparity, Z2Irrep}}}, Matrix{ComplexF64}}, FusionTree{TensorKit.ProductSector{Tuple{U1Irrep, SU2Irrep, Fermion{TensorKit._fermionparity, Z2Irrep}}}, 2, 0, 1, Nothing}, FusionTree{TensorKit.ProductSector{Tuple{U1Irrep, SU2Irrep, Fermion{TensorKit._fermionparity, Z2Irrep}}}, 1, 0, 0, Nothing}}})\n",
      "   @ MPSKit ~/.julia/packages/MPSKit/BToBw/src/algorithms/groundstate/dmrg.jl:123\n",
      " [6] top-level scope\n",
      "   @ ./timing.jl:273 [inlined]\n",
      " [7] top-level scope\n",
      "   @ ~/MPSKitExperimental.jl/examples/Qchem.ipynb:0"
     ]
    }
   ],
   "source": [
    "@time (st,envs) = find_groundstate(st,ham, DMRG2(trscheme=truncdim(100), verbose = true, maxiter=3),envs);"
   ]
  },
  {
   "cell_type": "code",
   "execution_count": 9,
   "metadata": {},
   "outputs": [
    {
     "name": "stderr",
     "output_type": "stream",
     "text": [
      "┌ Info: Iteraton 0 error 0.5819303111535928\n",
      "└ @ MPSKit /home/maavdamm/.julia/packages/MPSKit/BToBw/src/algorithms/groundstate/dmrg.jl:38\n"
     ]
    },
    {
     "name": "stderr",
     "output_type": "stream",
     "text": [
      "┌ Info: Iteraton 1 error 0.5194024243133698\n",
      "└ @ MPSKit /home/maavdamm/.julia/packages/MPSKit/BToBw/src/algorithms/groundstate/dmrg.jl:38\n"
     ]
    },
    {
     "name": "stderr",
     "output_type": "stream",
     "text": [
      "┌ Info: Iteraton 2 error 0.06443825400381015\n",
      "└ @ MPSKit /home/maavdamm/.julia/packages/MPSKit/BToBw/src/algorithms/groundstate/dmrg.jl:38\n"
     ]
    },
    {
     "name": "stderr",
     "output_type": "stream",
     "text": [
      "┌ Info: Iteraton 3 error 0.09377250205710787\n",
      "└ @ MPSKit /home/maavdamm/.julia/packages/MPSKit/BToBw/src/algorithms/groundstate/dmrg.jl:38\n"
     ]
    },
    {
     "name": "stderr",
     "output_type": "stream",
     "text": [
      "┌ Info: Iteraton 4 error 0.023494130421758606\n",
      "└ @ MPSKit /home/maavdamm/.julia/packages/MPSKit/BToBw/src/algorithms/groundstate/dmrg.jl:38\n"
     ]
    },
    {
     "name": "stderr",
     "output_type": "stream",
     "text": [
      "┌ Info: Iteraton 5 error 0.0037644639943764974\n",
      "└ @ MPSKit /home/maavdamm/.julia/packages/MPSKit/BToBw/src/algorithms/groundstate/dmrg.jl:38\n"
     ]
    },
    {
     "name": "stderr",
     "output_type": "stream",
     "text": [
      "┌ Info: Iteraton 6 error 0.0019786392267967714\n",
      "└ @ MPSKit /home/maavdamm/.julia/packages/MPSKit/BToBw/src/algorithms/groundstate/dmrg.jl:38\n"
     ]
    },
    {
     "name": "stderr",
     "output_type": "stream",
     "text": [
      "┌ Info: Iteraton 7 error 0.0017790198608768912\n",
      "└ @ MPSKit /home/maavdamm/.julia/packages/MPSKit/BToBw/src/algorithms/groundstate/dmrg.jl:38\n"
     ]
    },
    {
     "name": "stderr",
     "output_type": "stream",
     "text": [
      "┌ Info: Iteraton 8 error 0.0016247949601598227\n",
      "└ @ MPSKit /home/maavdamm/.julia/packages/MPSKit/BToBw/src/algorithms/groundstate/dmrg.jl:38\n"
     ]
    },
    {
     "name": "stderr",
     "output_type": "stream",
     "text": [
      "┌ Info: Iteraton 9 error 0.0014536191788839163\n",
      "└ @ MPSKit /home/maavdamm/.julia/packages/MPSKit/BToBw/src/algorithms/groundstate/dmrg.jl:38\n"
     ]
    },
    {
     "name": "stderr",
     "output_type": "stream",
     "text": [
      "┌ Info: Iteraton 10 error 0.001260374134438901\n",
      "└ @ MPSKit /home/maavdamm/.julia/packages/MPSKit/BToBw/src/algorithms/groundstate/dmrg.jl:38\n"
     ]
    },
    {
     "name": "stderr",
     "output_type": "stream",
     "text": [
      "┌ Info: Iteraton 11 error 0.001219420622258612\n",
      "└ @ MPSKit /home/maavdamm/.julia/packages/MPSKit/BToBw/src/algorithms/groundstate/dmrg.jl:38\n"
     ]
    },
    {
     "name": "stderr",
     "output_type": "stream",
     "text": [
      "┌ Info: Iteraton 12 error 0.0013935423476809754\n",
      "└ @ MPSKit /home/maavdamm/.julia/packages/MPSKit/BToBw/src/algorithms/groundstate/dmrg.jl:38\n"
     ]
    },
    {
     "name": "stderr",
     "output_type": "stream",
     "text": [
      "┌ Info: Iteraton 13 error 0.0015454757548081244\n",
      "└ @ MPSKit /home/maavdamm/.julia/packages/MPSKit/BToBw/src/algorithms/groundstate/dmrg.jl:38\n"
     ]
    },
    {
     "name": "stderr",
     "output_type": "stream",
     "text": [
      "┌ Info: Iteraton 14 error 0.00257960861068152\n",
      "└ @ MPSKit /home/maavdamm/.julia/packages/MPSKit/BToBw/src/algorithms/groundstate/dmrg.jl:38\n"
     ]
    },
    {
     "name": "stderr",
     "output_type": "stream",
     "text": [
      "┌ Info: Iteraton 15 error 0.006955644244684094\n",
      "└ @ MPSKit /home/maavdamm/.julia/packages/MPSKit/BToBw/src/algorithms/groundstate/dmrg.jl:38\n"
     ]
    },
    {
     "name": "stderr",
     "output_type": "stream",
     "text": [
      "┌ Info: Iteraton 16 error 0.016310188802811147\n",
      "└ @ MPSKit /home/maavdamm/.julia/packages/MPSKit/BToBw/src/algorithms/groundstate/dmrg.jl:38\n"
     ]
    },
    {
     "name": "stderr",
     "output_type": "stream",
     "text": [
      "┌ Info: Iteraton 17 error 0.01397546196980476\n",
      "└ @ MPSKit /home/maavdamm/.julia/packages/MPSKit/BToBw/src/algorithms/groundstate/dmrg.jl:38\n"
     ]
    },
    {
     "name": "stderr",
     "output_type": "stream",
     "text": [
      "┌ Info: Iteraton 18 error 0.005506463788887903\n",
      "└ @ MPSKit /home/maavdamm/.julia/packages/MPSKit/BToBw/src/algorithms/groundstate/dmrg.jl:38\n"
     ]
    },
    {
     "name": "stderr",
     "output_type": "stream",
     "text": [
      "┌ Info: Iteraton 19 error 0.0037091985838818104\n",
      "└ @ MPSKit /home/maavdamm/.julia/packages/MPSKit/BToBw/src/algorithms/groundstate/dmrg.jl:38\n"
     ]
    },
    {
     "name": "stderr",
     "output_type": "stream",
     "text": [
      "┌ Info: Iteraton 20 error 0.0023483458161080426\n",
      "└ @ MPSKit /home/maavdamm/.julia/packages/MPSKit/BToBw/src/algorithms/groundstate/dmrg.jl:38\n"
     ]
    },
    {
     "name": "stderr",
     "output_type": "stream",
     "text": [
      "┌ Info: Iteraton 21 error 0.0013833128306238638\n",
      "└ @ MPSKit /home/maavdamm/.julia/packages/MPSKit/BToBw/src/algorithms/groundstate/dmrg.jl:38\n"
     ]
    },
    {
     "name": "stderr",
     "output_type": "stream",
     "text": [
      "┌ Info: Iteraton 22 error 0.00082392158291883\n",
      "└ @ MPSKit /home/maavdamm/.julia/packages/MPSKit/BToBw/src/algorithms/groundstate/dmrg.jl:38\n"
     ]
    },
    {
     "name": "stderr",
     "output_type": "stream",
     "text": [
      "┌ Info: Iteraton 23 error 0.0007686076547961106\n",
      "└ @ MPSKit /home/maavdamm/.julia/packages/MPSKit/BToBw/src/algorithms/groundstate/dmrg.jl:38\n"
     ]
    },
    {
     "name": "stderr",
     "output_type": "stream",
     "text": [
      "┌ Info: Iteraton 24 error 0.0007542401017896067\n",
      "└ @ MPSKit /home/maavdamm/.julia/packages/MPSKit/BToBw/src/algorithms/groundstate/dmrg.jl:38\n"
     ]
    },
    {
     "name": "stderr",
     "output_type": "stream",
     "text": [
      "┌ Info: Iteraton 25 error 0.0007382379133939062\n",
      "└ @ MPSKit /home/maavdamm/.julia/packages/MPSKit/BToBw/src/algorithms/groundstate/dmrg.jl:38\n"
     ]
    }
   ],
   "source": [
    "find_groundstate(st,ham,DMRG(),envs)"
   ]
  },
  {
   "cell_type": "code",
   "execution_count": 18,
   "metadata": {},
   "outputs": [],
   "source": [
    "Revise.retry()"
   ]
  },
  {
   "cell_type": "code",
   "execution_count": null,
   "metadata": {},
   "outputs": [],
   "source": []
  }
 ],
 "metadata": {
  "kernelspec": {
   "display_name": "Julia 1.9.0",
   "language": "julia",
   "name": "julia-1.9"
  },
  "language_info": {
   "file_extension": ".jl",
   "mimetype": "application/julia",
   "name": "julia",
   "version": "1.9.0"
  },
  "orig_nbformat": 4
 },
 "nbformat": 4,
 "nbformat_minor": 2
}
