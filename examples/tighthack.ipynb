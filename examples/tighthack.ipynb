{
 "cells": [
  {
   "cell_type": "markdown",
   "metadata": {},
   "source": [
    "There is a very hacky way to overwrite some MPSKit methods with even hackier tightloop code. We can use this to explore the impact of the kind of caching that tightloop does in practical MPSKit code, without having to build an extensive fork.\n",
    "\n",
    "I see a large speedup in some cases, but the tightloop mechanism is extremely tedious to use in practice. How close can we get with more extensive caching in TensorKit?"
   ]
  },
  {
   "cell_type": "code",
   "execution_count": 1,
   "metadata": {},
   "outputs": [],
   "source": [
    "using Revise, CodeTracking, MPSKit, MPSKitExperimental, TensorKit, TensorOperations,MPSKitModels"
   ]
  },
  {
   "cell_type": "code",
   "execution_count": 2,
   "metadata": {},
   "outputs": [
    {
     "data": {
      "text/plain": [
       "disable_highjack (generic function with 1 method)"
      ]
     },
     "metadata": {},
     "output_type": "display_data"
    }
   ],
   "source": [
    "# this might break if I start to tighthack kwdef functions? If not, this could be a fun package\n",
    "\n",
    "detourtable = Any[]\n",
    "for detour in methods(MPSKitExperimental.tighthack)\n",
    "    orig = which(Tuple{detour.sig.parameters[2:end]...})\n",
    "    orig_expr = definition(orig)\n",
    "    push!(detourtable,(detour,orig,orig_expr))\n",
    "end\n",
    "\n",
    "function enable_highjack()\n",
    "    \n",
    "    tsymb = GlobalRef(MPSKitExperimental,:tighthack)\n",
    "\n",
    "    for (detour,orig,orig_expr) in detourtable\n",
    "        \n",
    "        orsigparams = orig.sig.parameters\n",
    "\n",
    "        pars = [gensym() for v in orsigparams]\n",
    "        fdeff = Expr(:call,[Expr(:(::),a,b) for (a,b) in zip(pars,orsigparams)]...)\n",
    "        body = Expr(:call,tsymb,pars...)\n",
    "        MPSKit.eval(Expr(:function,fdeff,body))\n",
    "    end\n",
    "end\n",
    "\n",
    "function disable_highjack()\n",
    "    \n",
    "    for (detour,orig,orig_expr) in detourtable\n",
    "        MPSKit.eval(orig_expr)\n",
    "    end\n",
    "end"
   ]
  },
  {
   "cell_type": "markdown",
   "metadata": {},
   "source": [
    "# DMRG"
   ]
  },
  {
   "cell_type": "code",
   "execution_count": 10,
   "metadata": {},
   "outputs": [],
   "source": [
    "fmps_len = 20;\n",
    "middle_site = Int(round(fmps_len/2))\n",
    "\n",
    "ts = FiniteMPS(rand,ComplexF64,fmps_len,Rep[SU₂](1=>1),Rep[SU₂](i => 20 for i in 0:20));\n",
    "th_orig = heisenberg_XXX(SU2Irrep);"
   ]
  },
  {
   "cell_type": "code",
   "execution_count": 13,
   "metadata": {},
   "outputs": [
    {
     "name": "stderr",
     "output_type": "stream",
     "text": [
      "┌ Info: DMRG init:\tobj = +1.130573269071e+01\terr = 1.2015e-01\n",
      "└ @ MPSKit /home/maarten/.julia/packages/MPSKit/nqYoZ/src/algorithms/groundstate/dmrg.jl:34\n",
      "┌ Info: DMRG   1:\tobj = -2.683997864950e+01\terr = 1.0291725359e-03\ttime = 7.22 sec\n",
      "└ @ MPSKit /home/maarten/.julia/packages/MPSKit/nqYoZ/src/algorithms/groundstate/dmrg.jl:56\n",
      "┌ Info: DMRG   2:\tobj = -2.683997865017e+01\terr = 5.3663440204e-07\ttime = 1.91 sec\n",
      "└ @ MPSKit /home/maarten/.julia/packages/MPSKit/nqYoZ/src/algorithms/groundstate/dmrg.jl:56\n",
      "┌ Info: DMRG   3:\tobj = -2.683997865017e+01\terr = 7.4542765139e-08\ttime = 3.31 sec\n",
      "└ @ MPSKit /home/maarten/.julia/packages/MPSKit/nqYoZ/src/algorithms/groundstate/dmrg.jl:56\n",
      "┌ Info: DMRG   4:\tobj = -2.683997865017e+01\terr = 2.1688012451e-08\ttime = 2.82 sec\n",
      "└ @ MPSKit /home/maarten/.julia/packages/MPSKit/nqYoZ/src/algorithms/groundstate/dmrg.jl:56\n",
      "┌ Info: DMRG   5:\tobj = -2.683997865017e+01\terr = 7.1748517293e-09\ttime = 2.77 sec\n",
      "└ @ MPSKit /home/maarten/.julia/packages/MPSKit/nqYoZ/src/algorithms/groundstate/dmrg.jl:56\n",
      "┌ Info: DMRG   6:\tobj = -2.683997865017e+01\terr = 3.9568692580e-09\ttime = 2.29 sec\n",
      "└ @ MPSKit /home/maarten/.julia/packages/MPSKit/nqYoZ/src/algorithms/groundstate/dmrg.jl:56\n",
      "┌ Info: DMRG   7:\tobj = -2.683997865017e+01\terr = 2.1113130687e-09\ttime = 2.17 sec\n",
      "└ @ MPSKit /home/maarten/.julia/packages/MPSKit/nqYoZ/src/algorithms/groundstate/dmrg.jl:56\n",
      "┌ Info: DMRG   8:\tobj = -2.683997865017e+01\terr = 1.7380833617e-09\ttime = 2.38 sec\n",
      "└ @ MPSKit /home/maarten/.julia/packages/MPSKit/nqYoZ/src/algorithms/groundstate/dmrg.jl:56\n",
      "┌ Info: DMRG   9:\tobj = -2.683997865017e+01\terr = 1.3659118717e-09\ttime = 1.90 sec\n",
      "└ @ MPSKit /home/maarten/.julia/packages/MPSKit/nqYoZ/src/algorithms/groundstate/dmrg.jl:56\n"
     ]
    },
    {
     "name": "stdout",
     "output_type": "stream",
     "text": [
      " 29.015868 seconds (77.35 M allocations: 13.537 GiB, 4.82% gc time, 0.44% compilation time: 100% of which was recompilation)\n"
     ]
    },
    {
     "name": "stderr",
     "output_type": "stream",
     "text": [
      "┌ Warning: DMRG cancel 10:\tobj = -2.683997865017e+01\terr = 1.0426042975e-09\ttime = 28.45 sec\n",
      "└ @ MPSKit /home/maarten/.julia/packages/MPSKit/nqYoZ/src/algorithms/groundstate/dmrg.jl:54\n"
     ]
    }
   ],
   "source": [
    "disable_highjack()\n",
    "find_groundstate(ts,th_orig,DMRG(maxiter=10,verbosity=false));\n",
    "@time find_groundstate(ts,th_orig,DMRG(maxiter=10));"
   ]
  },
  {
   "cell_type": "code",
   "execution_count": 14,
   "metadata": {},
   "outputs": [
    {
     "name": "stderr",
     "output_type": "stream",
     "text": [
      "┌ Info: DMRG init:\tobj = +1.130573269071e+01\terr = 1.2015e-01\n",
      "└ @ MPSKit /home/maarten/.julia/packages/MPSKit/nqYoZ/src/algorithms/groundstate/dmrg.jl:34\n",
      "┌ Info: DMRG   1:\tobj = -2.683997864950e+01\terr = 1.0291725305e-03\ttime = 3.35 sec\n",
      "└ @ MPSKit /home/maarten/.julia/packages/MPSKit/nqYoZ/src/algorithms/groundstate/dmrg.jl:56\n",
      "┌ Info: DMRG   2:\tobj = -2.683997865017e+01\terr = 5.3663440634e-07\ttime = 1.51 sec\n",
      "└ @ MPSKit /home/maarten/.julia/packages/MPSKit/nqYoZ/src/algorithms/groundstate/dmrg.jl:56\n",
      "┌ Info: DMRG   3:\tobj = -2.683997865017e+01\terr = 7.4542765255e-08\ttime = 2.05 sec\n",
      "└ @ MPSKit /home/maarten/.julia/packages/MPSKit/nqYoZ/src/algorithms/groundstate/dmrg.jl:56\n",
      "┌ Info: DMRG   4:\tobj = -2.683997865017e+01\terr = 2.1688012636e-08\ttime = 2.01 sec\n",
      "└ @ MPSKit /home/maarten/.julia/packages/MPSKit/nqYoZ/src/algorithms/groundstate/dmrg.jl:56\n",
      "┌ Info: DMRG   5:\tobj = -2.683997865017e+01\terr = 7.1748517119e-09\ttime = 1.85 sec\n",
      "└ @ MPSKit /home/maarten/.julia/packages/MPSKit/nqYoZ/src/algorithms/groundstate/dmrg.jl:56\n",
      "┌ Info: DMRG   6:\tobj = -2.683997865017e+01\terr = 3.9568692449e-09\ttime = 1.72 sec\n",
      "└ @ MPSKit /home/maarten/.julia/packages/MPSKit/nqYoZ/src/algorithms/groundstate/dmrg.jl:56\n",
      "┌ Info: DMRG   7:\tobj = -2.683997865017e+01\terr = 2.1113133341e-09\ttime = 2.01 sec\n",
      "└ @ MPSKit /home/maarten/.julia/packages/MPSKit/nqYoZ/src/algorithms/groundstate/dmrg.jl:56\n",
      "┌ Info: DMRG   8:\tobj = -2.683997865017e+01\terr = 1.7380837429e-09\ttime = 1.76 sec\n",
      "└ @ MPSKit /home/maarten/.julia/packages/MPSKit/nqYoZ/src/algorithms/groundstate/dmrg.jl:56\n",
      "┌ Info: DMRG   9:\tobj = -2.683997865017e+01\terr = 1.3659104255e-09\ttime = 1.81 sec\n",
      "└ @ MPSKit /home/maarten/.julia/packages/MPSKit/nqYoZ/src/algorithms/groundstate/dmrg.jl:56\n"
     ]
    },
    {
     "name": "stdout",
     "output_type": "stream",
     "text": [
      " 20.774627 seconds (49.43 M allocations: 11.131 GiB, 5.12% gc time, 0.62% compilation time: 100% of which was recompilation)\n"
     ]
    },
    {
     "name": "stderr",
     "output_type": "stream",
     "text": [
      "┌ Warning: DMRG cancel 10:\tobj = -2.683997865017e+01\terr = 1.0426048562e-09\ttime = 20.09 sec\n",
      "└ @ MPSKit /home/maarten/.julia/packages/MPSKit/nqYoZ/src/algorithms/groundstate/dmrg.jl:54\n"
     ]
    }
   ],
   "source": [
    "enable_highjack()\n",
    "find_groundstate(ts,th_orig,DMRG(maxiter=10,verbosity=false));\n",
    "@time find_groundstate(ts,th_orig,DMRG(maxiter=10));"
   ]
  },
  {
   "cell_type": "markdown",
   "metadata": {},
   "source": [
    "# VUMPS"
   ]
  },
  {
   "cell_type": "code",
   "execution_count": 3,
   "metadata": {},
   "outputs": [],
   "source": [
    "ts = InfiniteMPS(rand,ComplexF64,[Rep[SU₂](1=>1)],[Rep[SU₂](i => 20 for i in 0:10)]);\n",
    "th_orig = heisenberg_XXX(SU2Irrep);"
   ]
  },
  {
   "cell_type": "code",
   "execution_count": 9,
   "metadata": {},
   "outputs": [
    {
     "name": "stderr",
     "output_type": "stream",
     "text": [
      "┌ Info: VUMPS init:\tobj = +8.454997089671e-01\terr = 2.8952e-01\n",
      "└ @ MPSKit /home/maarten/.julia/packages/MPSKit/nqYoZ/src/algorithms/groundstate/vumps.jl:36\n",
      "┌ Info: VUMPS   1:\tobj = -3.547799826658e-01\terr = 1.1617452974e-01\ttime = 1.21 sec\n",
      "└ @ MPSKit /home/maarten/.julia/packages/MPSKit/nqYoZ/src/algorithms/groundstate/vumps.jl:69\n",
      "┌ Info: VUMPS   2:\tobj = -3.984967800976e-01\terr = 3.7320844819e-01\ttime = 1.75 sec\n",
      "└ @ MPSKit /home/maarten/.julia/packages/MPSKit/nqYoZ/src/algorithms/groundstate/vumps.jl:69\n",
      "┌ Info: VUMPS   3:\tobj = -1.141964884437e+00\terr = 2.3090571709e-01\ttime = 1.58 sec\n",
      "└ @ MPSKit /home/maarten/.julia/packages/MPSKit/nqYoZ/src/algorithms/groundstate/vumps.jl:69\n",
      "┌ Info: VUMPS   4:\tobj = -8.257956504802e-01\terr = 3.1400739517e-01\ttime = 2.38 sec\n",
      "└ @ MPSKit /home/maarten/.julia/packages/MPSKit/nqYoZ/src/algorithms/groundstate/vumps.jl:69\n",
      "┌ Info: VUMPS   5:\tobj = -1.105247485743e+00\terr = 2.6477626629e-01\ttime = 2.89 sec\n",
      "└ @ MPSKit /home/maarten/.julia/packages/MPSKit/nqYoZ/src/algorithms/groundstate/vumps.jl:69\n",
      "┌ Info: VUMPS   6:\tobj = -1.360710175940e+00\terr = 9.4991621237e-02\ttime = 1.98 sec\n",
      "└ @ MPSKit /home/maarten/.julia/packages/MPSKit/nqYoZ/src/algorithms/groundstate/vumps.jl:69\n",
      "┌ Info: VUMPS   7:\tobj = -1.401160429456e+00\terr = 8.9861390317e-03\ttime = 2.32 sec\n",
      "└ @ MPSKit /home/maarten/.julia/packages/MPSKit/nqYoZ/src/algorithms/groundstate/vumps.jl:69\n",
      "┌ Info: VUMPS   8:\tobj = -1.401483936686e+00\terr = 1.4612121336e-04\ttime = 2.09 sec\n",
      "└ @ MPSKit /home/maarten/.julia/packages/MPSKit/nqYoZ/src/algorithms/groundstate/vumps.jl:69\n",
      "┌ Info: VUMPS   9:\tobj = -1.401484037077e+00\terr = 2.2465800624e-05\ttime = 1.94 sec\n",
      "└ @ MPSKit /home/maarten/.julia/packages/MPSKit/nqYoZ/src/algorithms/groundstate/vumps.jl:69\n"
     ]
    },
    {
     "name": "stdout",
     "output_type": "stream",
     "text": [
      " 20.047041 seconds (76.84 M allocations: 15.389 GiB, 8.17% gc time, 0.03% compilation time)\n"
     ]
    },
    {
     "name": "stderr",
     "output_type": "stream",
     "text": [
      "┌ Warning: VUMPS cancel 10:\tobj = -1.401484038671e+00\terr = 1.0670130366e-05\ttime = 19.89 sec\n",
      "└ @ MPSKit /home/maarten/.julia/packages/MPSKit/nqYoZ/src/algorithms/groundstate/vumps.jl:67\n"
     ]
    }
   ],
   "source": [
    "disable_highjack()\n",
    "find_groundstate(ts,th_orig,VUMPS(maxiter=10,verbosity=0));\n",
    "@time find_groundstate(ts,th_orig,VUMPS(maxiter=10));"
   ]
  },
  {
   "cell_type": "code",
   "execution_count": 8,
   "metadata": {},
   "outputs": [
    {
     "name": "stderr",
     "output_type": "stream",
     "text": [
      "┌ Info: VUMPS init:\tobj = +8.454997089671e-01\terr = 2.8952e-01\n",
      "└ @ MPSKit /home/maarten/.julia/packages/MPSKit/nqYoZ/src/algorithms/groundstate/vumps.jl:36\n",
      "┌ Info: VUMPS   1:\tobj = -3.547799837176e-01\terr = 1.1617451192e-01\ttime = 0.68 sec\n",
      "└ @ MPSKit /home/maarten/.julia/packages/MPSKit/nqYoZ/src/algorithms/groundstate/vumps.jl:69\n",
      "┌ Info: VUMPS   2:\tobj = -3.985211623992e-01\terr = 3.7320784435e-01\ttime = 0.94 sec\n",
      "└ @ MPSKit /home/maarten/.julia/packages/MPSKit/nqYoZ/src/algorithms/groundstate/vumps.jl:69\n",
      "┌ Info: VUMPS   3:\tobj = -1.133996351875e+00\terr = 2.3237648081e-01\ttime = 0.90 sec\n",
      "└ @ MPSKit /home/maarten/.julia/packages/MPSKit/nqYoZ/src/algorithms/groundstate/vumps.jl:69\n",
      "┌ Info: VUMPS   4:\tobj = -8.025421989952e-01\terr = 3.1933281492e-01\ttime = 1.33 sec\n",
      "└ @ MPSKit /home/maarten/.julia/packages/MPSKit/nqYoZ/src/algorithms/groundstate/vumps.jl:69\n",
      "┌ Info: VUMPS   5:\tobj = -7.671177726974e-01\terr = 3.0447630261e-01\ttime = 1.56 sec\n",
      "└ @ MPSKit /home/maarten/.julia/packages/MPSKit/nqYoZ/src/algorithms/groundstate/vumps.jl:69\n",
      "┌ Info: VUMPS   6:\tobj = -1.070220545284e+00\terr = 2.3601127336e-01\ttime = 0.96 sec\n",
      "└ @ MPSKit /home/maarten/.julia/packages/MPSKit/nqYoZ/src/algorithms/groundstate/vumps.jl:69\n",
      "┌ Info: VUMPS   7:\tobj = -1.129159913217e+00\terr = 2.5518186180e-01\ttime = 1.22 sec\n",
      "└ @ MPSKit /home/maarten/.julia/packages/MPSKit/nqYoZ/src/algorithms/groundstate/vumps.jl:69\n",
      "┌ Info: VUMPS   8:\tobj = -1.297368749827e+00\terr = 1.5301163802e-01\ttime = 1.15 sec\n",
      "└ @ MPSKit /home/maarten/.julia/packages/MPSKit/nqYoZ/src/algorithms/groundstate/vumps.jl:69\n",
      "┌ Info: VUMPS   9:\tobj = -1.397145746373e+00\terr = 3.3718239710e-02\ttime = 1.16 sec\n",
      "└ @ MPSKit /home/maarten/.julia/packages/MPSKit/nqYoZ/src/algorithms/groundstate/vumps.jl:69\n"
     ]
    },
    {
     "name": "stdout",
     "output_type": "stream",
     "text": [
      " 10.954443 seconds (7.42 M allocations: 8.422 GiB, 3.27% gc time, 0.04% compilation time)\n"
     ]
    },
    {
     "name": "stderr",
     "output_type": "stream",
     "text": [
      "┌ Warning: VUMPS cancel 10:\tobj = -1.401480627914e+00\terr = 8.6733924876e-04\ttime = 10.87 sec\n",
      "└ @ MPSKit /home/maarten/.julia/packages/MPSKit/nqYoZ/src/algorithms/groundstate/vumps.jl:67\n"
     ]
    }
   ],
   "source": [
    "enable_highjack()\n",
    "find_groundstate(ts,th_orig,VUMPS(maxiter=10,verbosity=0));\n",
    "@time find_groundstate(ts,th_orig,VUMPS(maxiter=10));"
   ]
  },
  {
   "cell_type": "code",
   "execution_count": null,
   "metadata": {},
   "outputs": [],
   "source": []
  }
 ],
 "metadata": {
  "kernelspec": {
   "display_name": "Julia 1.10.4",
   "language": "julia",
   "name": "julia-1.10"
  },
  "language_info": {
   "file_extension": ".jl",
   "mimetype": "application/julia",
   "name": "julia",
   "version": "1.10.4"
  }
 },
 "nbformat": 4,
 "nbformat_minor": 2
}
