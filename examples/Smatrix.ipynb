{
 "cells": [
  {
   "attachments": {},
   "cell_type": "markdown",
   "metadata": {},
   "source": [
    "# Stationary scatterstates\n",
    "\n",
    "In this notebook I will demonstrate how one can find the stationary scatterstate in a spin-1 heisenberg model. This should work for generic systems, as long as the excitations are topologically trivial."
   ]
  },
  {
   "cell_type": "code",
   "execution_count": 1,
   "metadata": {},
   "outputs": [],
   "source": [
    "using Revise,MPSKit, TensorKit, MPSKitExperimental, MPSKitModels, KrylovKit"
   ]
  },
  {
   "attachments": {},
   "cell_type": "markdown",
   "metadata": {},
   "source": [
    "## Step 1\n",
    "\n",
    "always the same - we find the groundstate."
   ]
  },
  {
   "cell_type": "code",
   "execution_count": 2,
   "metadata": {},
   "outputs": [],
   "source": [
    "th = heisenberg_XXX(SU2Irrep);\n",
    "ts = InfiniteMPS(th.pspaces,[Rep[SU₂](1//2=>20,3//2=>10,5//2=>5)]);\n",
    "(ts,gs_env) = find_groundstate(ts,th,VUMPS(maxiter=200,verbose=false));"
   ]
  },
  {
   "attachments": {},
   "cell_type": "markdown",
   "metadata": {},
   "source": [
    "## Step 2\n",
    "\n",
    "Step 2 is to find the assymptotically free part of the scatterstate. This determines the total energy of the scatterstate, as the sum of the energies of the free particles."
   ]
  },
  {
   "cell_type": "code",
   "execution_count": 3,
   "metadata": {},
   "outputs": [],
   "source": [
    "K = 0.0; # total momentum\n",
    "dK = 0.3; # relative momentum\n",
    "\n",
    "K1 = (-pi + K/2 + dK/2);\n",
    "K2 = (pi + K/2 -dK/2);\n",
    "(E1,A) = excitations(th,QuasiparticleAnsatz(),K1,ts,sector = SU2Irrep(1));\n",
    "(E2,B) = excitations(th,QuasiparticleAnsatz(),K2,ts,sector = SU2Irrep(1));\n",
    "E = E1[1]+E2[1];"
   ]
  },
  {
   "attachments": {},
   "cell_type": "markdown",
   "metadata": {},
   "source": [
    "A and B contain the left-gauged quasiparticles, and we can use this to make the two assymptotic parts of the scatterstate:"
   ]
  },
  {
   "cell_type": "code",
   "execution_count": 4,
   "metadata": {},
   "outputs": [],
   "source": [
    "A_lg = A[1];\n",
    "B_lg = B[1];\n",
    "\n",
    "A_rg = convert(RightGaugedQP,A_lg);\n",
    "B_rg = convert(RightGaugedQP,B_lg);\n",
    "\n",
    "\n",
    "BA_asymptotic = AssymptoticScatter(B_lg,A_rg);\n",
    "AB_asymptotic = AssymptoticScatter(A_lg,B_rg);"
   ]
  },
  {
   "attachments": {},
   "cell_type": "markdown",
   "metadata": {},
   "source": [
    "# Step 3\n",
    "\n",
    "From step 3 onwards we will start to make use of momentum windows. The idea is that (H-E) acting on an assymptotic scatterstate should always be of the form of a momentum window. That will later on allow us to simplify some terms in our costfunction.\n",
    "\n",
    "Step 3 itself is to find the window for which | window > = (H-E) | assymptotic > holds. This will only be approximate, and depending on the size and bond dimension of the window we can approximate this to a better degree."
   ]
  },
  {
   "cell_type": "code",
   "execution_count": 6,
   "metadata": {},
   "outputs": [
    {
     "name": "stderr",
     "output_type": "stream",
     "text": [
      "┌ Info: dmrg iter 0 error 85.31556538452868\n",
      "└ @ MPSKitExperimental /home/maarten/projects/MPSKitExperimental.jl/src/momentumwindow/assymptotic.jl:289\n"
     ]
    },
    {
     "name": "stderr",
     "output_type": "stream",
     "text": [
      "┌ Info: dmrg iter 1 error 0.040185063558800554\n",
      "└ @ MPSKitExperimental /home/maarten/projects/MPSKitExperimental.jl/src/momentumwindow/assymptotic.jl:289\n"
     ]
    },
    {
     "name": "stderr",
     "output_type": "stream",
     "text": [
      "┌ Info: dmrg iter 2 error 0.003301447675325622\n",
      "└ @ MPSKitExperimental /home/maarten/projects/MPSKitExperimental.jl/src/momentumwindow/assymptotic.jl:289\n"
     ]
    },
    {
     "name": "stderr",
     "output_type": "stream",
     "text": [
      "┌ Info: dmrg iter 3 error 0.0016669503020225087\n",
      "└ @ MPSKitExperimental /home/maarten/projects/MPSKitExperimental.jl/src/momentumwindow/assymptotic.jl:289\n"
     ]
    },
    {
     "name": "stderr",
     "output_type": "stream",
     "text": [
      "┌ Info: dmrg iter 4 error 0.0011430849047240957\n",
      "└ @ MPSKitExperimental /home/maarten/projects/MPSKitExperimental.jl/src/momentumwindow/assymptotic.jl:289\n"
     ]
    },
    {
     "name": "stderr",
     "output_type": "stream",
     "text": [
      "┌ Info: dmrg iter 5 error 0.000773749062694316\n",
      "└ @ MPSKitExperimental /home/maarten/projects/MPSKitExperimental.jl/src/momentumwindow/assymptotic.jl:289\n"
     ]
    },
    {
     "name": "stderr",
     "output_type": "stream",
     "text": [
      "┌ Info: dmrg iter 6 error 0.000500808165339545\n",
      "└ @ MPSKitExperimental /home/maarten/projects/MPSKitExperimental.jl/src/momentumwindow/assymptotic.jl:289\n"
     ]
    },
    {
     "name": "stderr",
     "output_type": "stream",
     "text": [
      "┌ Info: dmrg iter 7 error 0.0003187977858262839\n",
      "└ @ MPSKitExperimental /home/maarten/projects/MPSKitExperimental.jl/src/momentumwindow/assymptotic.jl:289\n"
     ]
    },
    {
     "name": "stderr",
     "output_type": "stream",
     "text": [
      "┌ Info: dmrg iter 8 error 0.00020505825994005352\n",
      "└ @ MPSKitExperimental /home/maarten/projects/MPSKitExperimental.jl/src/momentumwindow/assymptotic.jl:289\n"
     ]
    },
    {
     "name": "stderr",
     "output_type": "stream",
     "text": [
      "┌ Info: dmrg iter 9 error 0.00016846299141555187\n",
      "└ @ MPSKitExperimental /home/maarten/projects/MPSKitExperimental.jl/src/momentumwindow/assymptotic.jl:289\n"
     ]
    },
    {
     "name": "stderr",
     "output_type": "stream",
     "text": [
      "┌ Info: dmrg iter 10 error 0.00014347729832340692\n",
      "└ @ MPSKitExperimental /home/maarten/projects/MPSKitExperimental.jl/src/momentumwindow/assymptotic.jl:289\n"
     ]
    },
    {
     "name": "stderr",
     "output_type": "stream",
     "text": [
      "┌ Info: dmrg iter 11 error 0.00012173981529363887\n",
      "└ @ MPSKitExperimental /home/maarten/projects/MPSKitExperimental.jl/src/momentumwindow/assymptotic.jl:289\n"
     ]
    },
    {
     "name": "stderr",
     "output_type": "stream",
     "text": [
      "┌ Info: dmrg iter 12 error 0.00010295118347342823\n",
      "└ @ MPSKitExperimental /home/maarten/projects/MPSKitExperimental.jl/src/momentumwindow/assymptotic.jl:289\n"
     ]
    },
    {
     "name": "stderr",
     "output_type": "stream",
     "text": [
      "┌ Info: dmrg iter 13 error 8.682904077677977e-5\n",
      "└ @ MPSKitExperimental /home/maarten/projects/MPSKitExperimental.jl/src/momentumwindow/assymptotic.jl:289\n"
     ]
    },
    {
     "name": "stderr",
     "output_type": "stream",
     "text": [
      "┌ Info: dmrg iter 14 error 7.308342966864655e-5\n",
      "└ @ MPSKitExperimental /home/maarten/projects/MPSKitExperimental.jl/src/momentumwindow/assymptotic.jl:289\n"
     ]
    },
    {
     "name": "stderr",
     "output_type": "stream",
     "text": [
      "┌ Info: dmrg iter 15 error 6.142392745141279e-5\n",
      "└ @ MPSKitExperimental /home/maarten/projects/MPSKitExperimental.jl/src/momentumwindow/assymptotic.jl:289\n"
     ]
    },
    {
     "name": "stderr",
     "output_type": "stream",
     "text": [
      "┌ Info: dmrg iter 16 error 5.1572251236618044e-5\n",
      "└ @ MPSKitExperimental /home/maarten/projects/MPSKitExperimental.jl/src/momentumwindow/assymptotic.jl:289\n"
     ]
    },
    {
     "name": "stderr",
     "output_type": "stream",
     "text": [
      "┌ Info: dmrg iter 17 error 4.327179275066728e-5\n",
      "└ @ MPSKitExperimental /home/maarten/projects/MPSKitExperimental.jl/src/momentumwindow/assymptotic.jl:289\n"
     ]
    },
    {
     "name": "stderr",
     "output_type": "stream",
     "text": [
      "┌ Info: dmrg iter 18 error 3.62926529924851e-5\n",
      "└ @ MPSKitExperimental /home/maarten/projects/MPSKitExperimental.jl/src/momentumwindow/assymptotic.jl:289\n"
     ]
    },
    {
     "name": "stderr",
     "output_type": "stream",
     "text": [
      "┌ Info: dmrg iter 19 error 3.043306428902576e-5\n",
      "└ @ MPSKitExperimental /home/maarten/projects/MPSKitExperimental.jl/src/momentumwindow/assymptotic.jl:289\n",
      "┌ Warning: dmrg failed to converge 3.043306428902576e-5>1.0e-12\n",
      "└ @ MPSKitExperimental /home/maarten/projects/MPSKitExperimental.jl/src/momentumwindow/assymptotic.jl:295\n"
     ]
    },
    {
     "name": "stderr",
     "output_type": "stream",
     "text": [
      "┌ Info: dmrg iter 0 error 81.13601400322783\n",
      "└ @ MPSKitExperimental /home/maarten/projects/MPSKitExperimental.jl/src/momentumwindow/assymptotic.jl:289\n"
     ]
    },
    {
     "name": "stderr",
     "output_type": "stream",
     "text": [
      "┌ Info: dmrg iter 1 error 0.040963867196234176\n",
      "└ @ MPSKitExperimental /home/maarten/projects/MPSKitExperimental.jl/src/momentumwindow/assymptotic.jl:289\n"
     ]
    },
    {
     "name": "stderr",
     "output_type": "stream",
     "text": [
      "┌ Info: dmrg iter 2 error 0.0028532453149544604\n",
      "└ @ MPSKitExperimental /home/maarten/projects/MPSKitExperimental.jl/src/momentumwindow/assymptotic.jl:289\n"
     ]
    },
    {
     "name": "stderr",
     "output_type": "stream",
     "text": [
      "┌ Info: dmrg iter 3 error 0.001351601214746755\n",
      "└ @ MPSKitExperimental /home/maarten/projects/MPSKitExperimental.jl/src/momentumwindow/assymptotic.jl:289\n"
     ]
    },
    {
     "name": "stderr",
     "output_type": "stream",
     "text": [
      "┌ Info: dmrg iter 4 error 0.0008833243870448911\n",
      "└ @ MPSKitExperimental /home/maarten/projects/MPSKitExperimental.jl/src/momentumwindow/assymptotic.jl:289\n"
     ]
    },
    {
     "name": "stderr",
     "output_type": "stream",
     "text": [
      "┌ Info: dmrg iter 5 error 0.0005792809203668528\n",
      "└ @ MPSKitExperimental /home/maarten/projects/MPSKitExperimental.jl/src/momentumwindow/assymptotic.jl:289\n"
     ]
    },
    {
     "name": "stderr",
     "output_type": "stream",
     "text": [
      "┌ Info: dmrg iter 6 error 0.000417069394558662\n",
      "└ @ MPSKitExperimental /home/maarten/projects/MPSKitExperimental.jl/src/momentumwindow/assymptotic.jl:289\n"
     ]
    },
    {
     "name": "stderr",
     "output_type": "stream",
     "text": [
      "┌ Info: dmrg iter 7 error 0.0003624445769832982\n",
      "└ @ MPSKitExperimental /home/maarten/projects/MPSKitExperimental.jl/src/momentumwindow/assymptotic.jl:289\n"
     ]
    },
    {
     "name": "stderr",
     "output_type": "stream",
     "text": [
      "┌ Info: dmrg iter 8 error 0.0003048054432866828\n",
      "└ @ MPSKitExperimental /home/maarten/projects/MPSKitExperimental.jl/src/momentumwindow/assymptotic.jl:289\n"
     ]
    },
    {
     "name": "stderr",
     "output_type": "stream",
     "text": [
      "┌ Info: dmrg iter 9 error 0.00025265568041993254\n",
      "└ @ MPSKitExperimental /home/maarten/projects/MPSKitExperimental.jl/src/momentumwindow/assymptotic.jl:289\n"
     ]
    },
    {
     "name": "stderr",
     "output_type": "stream",
     "text": [
      "┌ Info: dmrg iter 10 error 0.00020899331339005277\n",
      "└ @ MPSKitExperimental /home/maarten/projects/MPSKitExperimental.jl/src/momentumwindow/assymptotic.jl:289\n"
     ]
    },
    {
     "name": "stderr",
     "output_type": "stream",
     "text": [
      "┌ Info: dmrg iter 11 error 0.00017335443218454116\n",
      "└ @ MPSKitExperimental /home/maarten/projects/MPSKitExperimental.jl/src/momentumwindow/assymptotic.jl:289\n"
     ]
    },
    {
     "name": "stderr",
     "output_type": "stream",
     "text": [
      "┌ Info: dmrg iter 12 error 0.00014426649866963411\n",
      "└ @ MPSKitExperimental /home/maarten/projects/MPSKitExperimental.jl/src/momentumwindow/assymptotic.jl:289\n"
     ]
    },
    {
     "name": "stderr",
     "output_type": "stream",
     "text": [
      "┌ Info: dmrg iter 13 error 0.00012034218069021029\n",
      "└ @ MPSKitExperimental /home/maarten/projects/MPSKitExperimental.jl/src/momentumwindow/assymptotic.jl:289\n"
     ]
    },
    {
     "name": "stderr",
     "output_type": "stream",
     "text": [
      "┌ Info: dmrg iter 14 error 0.0001005191802785521\n",
      "└ @ MPSKitExperimental /home/maarten/projects/MPSKitExperimental.jl/src/momentumwindow/assymptotic.jl:289\n"
     ]
    },
    {
     "name": "stderr",
     "output_type": "stream",
     "text": [
      "┌ Info: dmrg iter 15 error 8.401382895422423e-5\n",
      "└ @ MPSKitExperimental /home/maarten/projects/MPSKitExperimental.jl/src/momentumwindow/assymptotic.jl:289\n"
     ]
    },
    {
     "name": "stderr",
     "output_type": "stream",
     "text": [
      "┌ Info: dmrg iter 16 error 7.023425325310239e-5\n",
      "└ @ MPSKitExperimental /home/maarten/projects/MPSKitExperimental.jl/src/momentumwindow/assymptotic.jl:289\n"
     ]
    },
    {
     "name": "stderr",
     "output_type": "stream",
     "text": [
      "┌ Info: dmrg iter 17 error 5.871629727898857e-5\n",
      "└ @ MPSKitExperimental /home/maarten/projects/MPSKitExperimental.jl/src/momentumwindow/assymptotic.jl:289\n"
     ]
    },
    {
     "name": "stderr",
     "output_type": "stream",
     "text": [
      "┌ Info: dmrg iter 18 error 4.9084593275224927e-5\n",
      "└ @ MPSKitExperimental /home/maarten/projects/MPSKitExperimental.jl/src/momentumwindow/assymptotic.jl:289\n"
     ]
    },
    {
     "name": "stderr",
     "output_type": "stream",
     "text": [
      "┌ Info: dmrg iter 19 error 4.10297118104067e-5\n",
      "└ @ MPSKitExperimental /home/maarten/projects/MPSKitExperimental.jl/src/momentumwindow/assymptotic.jl:289\n",
      "┌ Warning: dmrg failed to converge 4.10297118104067e-5>1.0e-12\n",
      "└ @ MPSKitExperimental /home/maarten/projects/MPSKitExperimental.jl/src/momentumwindow/assymptotic.jl:295\n"
     ]
    }
   ],
   "source": [
    "len = 20; # size of the momentumwindow\n",
    "windowchi = Rep[SU₂](1//2=>30,3//2=>20,5//2=>10,7//2=>5,9//2=>2,11//2=>1); # bond dimension of the momentumwindow\n",
    "\n",
    "BA_projected = LeftGaugedMW(rand,len,windowchi,ts,momentum = K1 + K2+0im,utilspace= MPSKit.utilleg(BA_asymptotic));    \n",
    "AB_projected = LeftGaugedMW(rand,len,windowchi,ts,momentum = K1 + K2+0im,utilspace= MPSKit.utilleg(BA_projected));\n",
    "\n",
    "begin\n",
    "    (AB_projected,_) = approximate(AB_projected,(th,AB_asymptotic),DMRG(tol=1e-12,maxiter=20,verbose=true));\n",
    "    (BA_projected,_) = approximate(BA_projected,(th,BA_asymptotic),DMRG(tol=1e-12,maxiter=20,verbose=true));\n",
    "end;"
   ]
  },
  {
   "attachments": {},
   "cell_type": "markdown",
   "metadata": {},
   "source": [
    "## Step 4 \n",
    "\n",
    "In the last step we will attempt to solve\n",
    "\n",
    "(H-E) [ | window > + | AB_assymptotic > + S | BA_assymptotic > ] = 0\n",
    "\n",
    "using the windows from step 3, we can simplify this to\n",
    "\n",
    "(H - E) | window > + | AB_projected > + S | BA_projected > = 0\n",
    "\n",
    "This is reminiscent of a correction vector problem, and it seems that these can be solved by finding:\n",
    "\n",
    "P = projector on the tangent space of window\n",
    "\n",
    "P (H - E) | window > + P | AB_projected > + P S | BA_projected > = 0\n",
    "\n",
    "< BA_projected | (H - E) | window > + < BA_projected | AB_projected > + < BA_projected | S | BA_projected > = 0\n",
    "\n",
    "The last equation is interesting, as | BA_projected > is equal to (H-E) | BA_assymptotic>. It seems natural to remove this (H-E) factor, and the final set of equations are then numerically easier to solve!\n",
    "\n",
    "=> < BA_assymptotic | (H - E) | window > + < BA_assymptotic | AB_projected > + < BA_assymptotic | S | BA_projected > = 0\n",
    "\n",
    "You can do this using for example a sweeping scheme :"
   ]
  },
  {
   "cell_type": "code",
   "execution_count": 7,
   "metadata": {},
   "outputs": [
    {
     "name": "stdout",
     "output_type": "stream",
     "text": [
      "(norm(S - x_2), norm(B.AC[row, col] - x_1)) = (1.632772098222669, 8.47109847540111)\n",
      "(convhist.converged, convhist.normres) = (1, 9.609325193027973e-10)\n"
     ]
    },
    {
     "name": "stdout",
     "output_type": "stream",
     "text": [
      "S = TensorMap(Rep[SU₂](0=>1, 1=>1, 2=>1) ← Rep[SU₂](0=>1, 1=>1, 2=>1)):\n",
      "* Data for fusiontree FusionTree{Irrep[SU₂]}((0,), 0, (false,), ()) ← FusionTree{Irrep[SU₂]}((0,), 0, (false,), ()):\n",
      " -0.8660484276734622 + 0.49488856210683807im\n",
      "* Data for fusiontree FusionTree{Irrep[SU₂]}((1,), 1, (false,), ()) ← FusionTree{Irrep[SU₂]}((1,), 1, (false,), ()):\n",
      " -0.45084852924939817 - 0.8931813653215079im\n",
      "* Data for fusiontree FusionTree{Irrep[SU₂]}((2,), 2, (false,), ()) ← FusionTree{Irrep[SU₂]}((2,), 2, (false,), ()):\n",
      " -0.8476840111580839 - 0.5303904536388452im\n",
      "\n"
     ]
    },
    {
     "name": "stdout",
     "output_type": "stream",
     "text": [
      "(norm(S - x_2), norm(B.AC[row, col] - x_1)) = (0.0, 0.0)\n",
      "(convhist.converged, convhist.normres) = (1, 9.609325193027973e-10)\n",
      "S = TensorMap(Rep[SU₂](0=>1, 1=>1, 2=>1) ← Rep[SU₂](0=>1, 1=>1, 2=>1)):\n",
      "* Data for fusiontree FusionTree{Irrep[SU₂]}((0,), 0, (false,), ()) ← FusionTree{Irrep[SU₂]}((0,), 0, (false,), ()):\n",
      " -0.8660484276734622 + 0.49488856210683807im\n",
      "* Data for fusiontree FusionTree{Irrep[SU₂]}((1,), 1, (false,), ()) ← FusionTree{Irrep[SU₂]}((1,), 1, (false,), ()):\n",
      " -0.45084852924939817 - 0.8931813653215079im\n",
      "* Data for fusiontree FusionTree{Irrep[SU₂]}((2,), 2, (false,), ()) ← FusionTree{Irrep[SU₂]}((2,), 2, (false,), ()):\n",
      " -0.8476840111580839 - 0.5303904536388452im\n",
      "\n"
     ]
    },
    {
     "name": "stdout",
     "output_type": "stream",
     "text": [
      "(norm(S - x_2), norm(B.AC[row, col] - x_1)) = (0.0, 0.0)\n",
      "(convhist.converged, convhist.normres) = (1, 9.609325193027973e-10)\n",
      "S = TensorMap(Rep[SU₂](0=>1, 1=>1, 2=>1) ← Rep[SU₂](0=>1, 1=>1, 2=>1)):\n",
      "* Data for fusiontree FusionTree{Irrep[SU₂]}((0,), 0, (false,), ()) ← FusionTree{Irrep[SU₂]}((0,), 0, (false,), ()):\n",
      " -0.8660484276734622 + 0.49488856210683807im\n",
      "* Data for fusiontree FusionTree{Irrep[SU₂]}((1,), 1, (false,), ()) ← FusionTree{Irrep[SU₂]}((1,), 1, (false,), ()):\n",
      " -0.45084852924939817 - 0.8931813653215079im\n",
      "* Data for fusiontree FusionTree{Irrep[SU₂]}((2,), 2, (false,), ()) ← FusionTree{Irrep[SU₂]}((2,), 2, (false,), ()):\n",
      " -0.8476840111580839 - 0.5303904536388452im\n",
      "\n"
     ]
    },
    {
     "name": "stdout",
     "output_type": "stream",
     "text": [
      "(norm(S - x_2), norm(B.AC[row, col] - x_1)) = (0.0, 0.0)\n",
      "(convhist.converged, convhist.normres) = (1, 9.609325193027973e-10)\n",
      "S = TensorMap(Rep[SU₂](0=>1, 1=>1, 2=>1) ← Rep[SU₂](0=>1, 1=>1, 2=>1)):\n",
      "* Data for fusiontree FusionTree{Irrep[SU₂]}((0,), 0, (false,), ()) ← FusionTree{Irrep[SU₂]}((0,), 0, (false,), ()):\n",
      " -0.8660484276734622 + 0.49488856210683807im\n",
      "* Data for fusiontree FusionTree{Irrep[SU₂]}((1,), 1, (false,), ()) ← FusionTree{Irrep[SU₂]}((1,), 1, (false,), ()):\n",
      " -0.45084852924939817 - 0.8931813653215079im\n",
      "* Data for fusiontree FusionTree{Irrep[SU₂]}((2,), 2, (false,), ()) ← FusionTree{Irrep[SU₂]}((2,), 2, (false,), ()):\n",
      " -0.8476840111580839 - 0.5303904536388452im\n",
      "\n"
     ]
    },
    {
     "name": "stdout",
     "output_type": "stream",
     "text": [
      "(norm(S - x_2), norm(B.AC[row, col] - x_1)) = (0.0, 0.0)\n",
      "(convhist.converged, convhist.normres) = (1, 9.609325193027973e-10)\n",
      "S = TensorMap(Rep[SU₂](0=>1, 1=>1, 2=>1) ← Rep[SU₂](0=>1, 1=>1, 2=>1)):\n",
      "* Data for fusiontree FusionTree{Irrep[SU₂]}((0,), 0, (false,), ()) ← FusionTree{Irrep[SU₂]}((0,), 0, (false,), ()):\n",
      " -0.8660484276734622 + 0.49488856210683807im\n",
      "* Data for fusiontree FusionTree{Irrep[SU₂]}((1,), 1, (false,), ()) ← FusionTree{Irrep[SU₂]}((1,), 1, (false,), ()):\n",
      " -0.45084852924939817 - 0.8931813653215079im\n",
      "* Data for fusiontree FusionTree{Irrep[SU₂]}((2,), 2, (false,), ()) ← FusionTree{Irrep[SU₂]}((2,), 2, (false,), ()):\n",
      " -0.8476840111580839 - 0.5303904536388452im\n",
      "\n"
     ]
    }
   ],
   "source": [
    "\n",
    "# you can tune both the bond dimension and the length of this window independently, but it doesn't appear to matter that much\n",
    "B = LeftGaugedMW(rand,1,windowchi,ts,momentum=K1+K2+0im,utilspace=MPSKit.utilleg(AB_projected));\n",
    "\n",
    "# some initial guess, which is always completely wrong\n",
    "S = -inv(partialdot(BA_projected,BA_projected))*partialdot(BA_projected,AB_projected)\n",
    "\n",
    "# environments for < B | H | B >\n",
    "envs = environments(B,(th,B),gs_env,gs_env);\n",
    "\n",
    "for topit = 1:5 # in principle you need to sweep until converged\n",
    "    for row in 1:size(B.AC,1),col in 1:size(B.AC,2)\n",
    "        y_1 = -projdown(row,col,AB_projected,B);\n",
    "        y_2 = -partialdot(BA_asymptotic,AB_projected);\n",
    "\n",
    "        x_1 = B.AC[row,col];\n",
    "        x_2 = S;\n",
    "\n",
    "        (sol,convhist) = linsolve(RecursiveVec((y_1,y_2)),RecursiveVec((x_1,x_2)),GMRES(tol=1e-9)) do x\n",
    "            (c_B,c_S) = x.vecs;\n",
    "            B.AC[row,col] = c_B;\n",
    "            envs = environments(B,(th,B),gs_env,gs_env);\n",
    "            \n",
    "            SBA_projected = lmul!(c_S,copy(BA_projected))\n",
    "\n",
    "            v_1 = MPSKit.ac_proj(row,col,B,envs)-E*c_B+projdown(row,col,SBA_projected,B);\n",
    "            v_2 = partialdot(BA_projected,B)+partialdot(BA_asymptotic,SBA_projected);\n",
    "            RecursiveVec((v_1,v_2))\n",
    "        end\n",
    "        \n",
    "        B.AC[row,col] = sol[1];\n",
    "        S = sol[2];\n",
    "\n",
    "        @show norm(S-x_2),norm(B.AC[row,col]-x_1) # convergence metrics\n",
    "        @show convhist.converged,convhist.normres\n",
    "\n",
    "        @show S\n",
    "        flush(stdout)\n",
    "    end;\n",
    "end"
   ]
  },
  {
   "attachments": {},
   "cell_type": "markdown",
   "metadata": {},
   "source": [
    "## What now?\n",
    "\n",
    "We obtain the S matrix, but the code also seems to work for complex momenta! We can use the same code to calculate dynamical structure factors. \n",
    "\n",
    "There doesn't seem to be an inherent obstacle in going to a regime where multiple two-particle states can contribute to the scatterprocess, maybe that could be interesting?\n",
    "\n",
    "The same approach should work for quasiparticle scattering on an impurity in the spin chain, and it should be far easier to implement."
   ]
  }
 ],
 "metadata": {
  "kernelspec": {
   "display_name": "Julia 1.9.4",
   "language": "julia",
   "name": "julia-1.9"
  },
  "language_info": {
   "file_extension": ".jl",
   "mimetype": "application/julia",
   "name": "julia",
   "version": "1.9.4"
  },
  "orig_nbformat": 4
 },
 "nbformat": 4,
 "nbformat_minor": 2
}
