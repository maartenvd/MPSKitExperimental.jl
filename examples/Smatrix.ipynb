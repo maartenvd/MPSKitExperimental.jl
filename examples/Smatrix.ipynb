{
 "cells": [
  {
   "attachments": {},
   "cell_type": "markdown",
   "metadata": {},
   "source": [
    "# Stationary scatterstates\n",
    "\n",
    "In this notebook I will demonstrate how one can find the stationary scatterstate in a spin-1 heisenberg model. This should work for generic systems, as long as the excitations are topologically trivial."
   ]
  },
  {
   "cell_type": "code",
   "execution_count": 8,
   "metadata": {},
   "outputs": [],
   "source": [
    "using MPSKit, TensorKit, MPSKitExperimental, MPSKitModels, KrylovKit\n",
    "\n",
    "TensorKit.TO.disable_cache()"
   ]
  },
  {
   "attachments": {},
   "cell_type": "markdown",
   "metadata": {},
   "source": [
    "## Step 1\n",
    "\n",
    "always the same - we find the groundstate."
   ]
  },
  {
   "cell_type": "code",
   "execution_count": 2,
   "metadata": {},
   "outputs": [
    {
     "name": "stderr",
     "output_type": "stream",
     "text": [
      "┌ Info: vumps @iteration 1 galerkin = 0.2053171817634374\n",
      "└ @ MPSKit /home/maavdamm/.julia/packages/MPSKit/BToBw/src/algorithms/groundstate/vumps.jl:66\n"
     ]
    },
    {
     "name": "stderr",
     "output_type": "stream",
     "text": [
      "┌ Info: vumps @iteration 2 galerkin = 0.00583832928731001\n",
      "└ @ MPSKit /home/maavdamm/.julia/packages/MPSKit/BToBw/src/algorithms/groundstate/vumps.jl:66\n"
     ]
    },
    {
     "name": "stderr",
     "output_type": "stream",
     "text": [
      "┌ Info: vumps @iteration 3 galerkin = 0.00035062007824575216\n",
      "└ @ MPSKit /home/maavdamm/.julia/packages/MPSKit/BToBw/src/algorithms/groundstate/vumps.jl:66\n"
     ]
    },
    {
     "name": "stderr",
     "output_type": "stream",
     "text": [
      "┌ Info: vumps @iteration 4 galerkin = 5.5400601041364484e-5\n",
      "└ @ MPSKit /home/maavdamm/.julia/packages/MPSKit/BToBw/src/algorithms/groundstate/vumps.jl:66\n"
     ]
    },
    {
     "name": "stderr",
     "output_type": "stream",
     "text": [
      "┌ Info: vumps @iteration 5 galerkin = 1.7074216482220628e-5\n",
      "└ @ MPSKit /home/maavdamm/.julia/packages/MPSKit/BToBw/src/algorithms/groundstate/vumps.jl:66\n"
     ]
    },
    {
     "name": "stderr",
     "output_type": "stream",
     "text": [
      "┌ Info: vumps @iteration 6 galerkin = 5.934494129387357e-6\n",
      "└ @ MPSKit /home/maavdamm/.julia/packages/MPSKit/BToBw/src/algorithms/groundstate/vumps.jl:66\n"
     ]
    },
    {
     "name": "stderr",
     "output_type": "stream",
     "text": [
      "┌ Info: vumps @iteration 7 galerkin = 2.3734013803233895e-6\n",
      "└ @ MPSKit /home/maavdamm/.julia/packages/MPSKit/BToBw/src/algorithms/groundstate/vumps.jl:66\n"
     ]
    },
    {
     "name": "stderr",
     "output_type": "stream",
     "text": [
      "┌ Info: vumps @iteration 8 galerkin = 1.0619280733703936e-6\n",
      "└ @ MPSKit /home/maavdamm/.julia/packages/MPSKit/BToBw/src/algorithms/groundstate/vumps.jl:66\n",
      "┌ Info: vumps @iteration 9 galerkin = 5.347260692236369e-7\n",
      "└ @ MPSKit /home/maavdamm/.julia/packages/MPSKit/BToBw/src/algorithms/groundstate/vumps.jl:66\n"
     ]
    },
    {
     "name": "stderr",
     "output_type": "stream",
     "text": [
      "┌ Info: vumps @iteration 10 galerkin = 2.813003325555638e-7\n",
      "└ @ MPSKit /home/maavdamm/.julia/packages/MPSKit/BToBw/src/algorithms/groundstate/vumps.jl:66\n"
     ]
    },
    {
     "name": "stderr",
     "output_type": "stream",
     "text": [
      "┌ Info: vumps @iteration 11 galerkin = 1.5419928559225371e-7\n",
      "└ @ MPSKit /home/maavdamm/.julia/packages/MPSKit/BToBw/src/algorithms/groundstate/vumps.jl:66\n",
      "┌ Info: vumps @iteration 12 galerkin = 8.462759451942149e-8\n",
      "└ @ MPSKit /home/maavdamm/.julia/packages/MPSKit/BToBw/src/algorithms/groundstate/vumps.jl:66\n"
     ]
    },
    {
     "name": "stderr",
     "output_type": "stream",
     "text": [
      "┌ Info: vumps @iteration 13 galerkin = 4.709689442339341e-8\n",
      "└ @ MPSKit /home/maavdamm/.julia/packages/MPSKit/BToBw/src/algorithms/groundstate/vumps.jl:66\n"
     ]
    },
    {
     "name": "stderr",
     "output_type": "stream",
     "text": [
      "┌ Info: vumps @iteration 14 galerkin = 2.6075534021045773e-8\n",
      "└ @ MPSKit /home/maavdamm/.julia/packages/MPSKit/BToBw/src/algorithms/groundstate/vumps.jl:66\n"
     ]
    },
    {
     "name": "stderr",
     "output_type": "stream",
     "text": [
      "┌ Info: vumps @iteration 15 galerkin = 1.4545255543838568e-8\n",
      "└ @ MPSKit /home/maavdamm/.julia/packages/MPSKit/BToBw/src/algorithms/groundstate/vumps.jl:66\n"
     ]
    },
    {
     "name": "stderr",
     "output_type": "stream",
     "text": [
      "┌ Info: vumps @iteration 16 galerkin = 8.07568158944412e-9\n",
      "└ @ MPSKit /home/maavdamm/.julia/packages/MPSKit/BToBw/src/algorithms/groundstate/vumps.jl:66\n",
      "┌ Info: vumps @iteration 17 galerkin = 4.5073037856266395e-9\n",
      "└ @ MPSKit /home/maavdamm/.julia/packages/MPSKit/BToBw/src/algorithms/groundstate/vumps.jl:66\n"
     ]
    },
    {
     "name": "stderr",
     "output_type": "stream",
     "text": [
      "┌ Info: vumps @iteration 18 galerkin = 2.506537521234539e-9\n",
      "└ @ MPSKit /home/maavdamm/.julia/packages/MPSKit/BToBw/src/algorithms/groundstate/vumps.jl:66\n"
     ]
    },
    {
     "name": "stderr",
     "output_type": "stream",
     "text": [
      "┌ Info: vumps @iteration 19 galerkin = 1.3995425910821525e-9\n",
      "└ @ MPSKit /home/maavdamm/.julia/packages/MPSKit/BToBw/src/algorithms/groundstate/vumps.jl:66\n"
     ]
    },
    {
     "name": "stderr",
     "output_type": "stream",
     "text": [
      "┌ Info: vumps @iteration 20 galerkin = 7.792456220277719e-10\n",
      "└ @ MPSKit /home/maavdamm/.julia/packages/MPSKit/BToBw/src/algorithms/groundstate/vumps.jl:66\n"
     ]
    },
    {
     "name": "stderr",
     "output_type": "stream",
     "text": [
      "┌ Info: vumps @iteration 21 galerkin = 4.35270927678688e-10\n",
      "└ @ MPSKit /home/maavdamm/.julia/packages/MPSKit/BToBw/src/algorithms/groundstate/vumps.jl:66\n",
      "┌ Info: vumps @iteration 22 galerkin = 2.425946897662774e-10\n",
      "└ @ MPSKit /home/maavdamm/.julia/packages/MPSKit/BToBw/src/algorithms/groundstate/vumps.jl:66\n"
     ]
    },
    {
     "name": "stderr",
     "output_type": "stream",
     "text": [
      "┌ Info: vumps @iteration 23 galerkin = 1.355614368698236e-10\n",
      "└ @ MPSKit /home/maavdamm/.julia/packages/MPSKit/BToBw/src/algorithms/groundstate/vumps.jl:66\n"
     ]
    },
    {
     "name": "stderr",
     "output_type": "stream",
     "text": [
      "┌ Info: vumps @iteration 24 galerkin = 7.561718417671772e-11\n",
      "└ @ MPSKit /home/maavdamm/.julia/packages/MPSKit/BToBw/src/algorithms/groundstate/vumps.jl:66\n"
     ]
    },
    {
     "name": "stderr",
     "output_type": "stream",
     "text": [
      "┌ Info: vumps @iteration 25 galerkin = 4.22698822473552e-11\n",
      "└ @ MPSKit /home/maavdamm/.julia/packages/MPSKit/BToBw/src/algorithms/groundstate/vumps.jl:66\n"
     ]
    },
    {
     "name": "stderr",
     "output_type": "stream",
     "text": [
      "┌ Info: vumps @iteration 26 galerkin = 2.3595709085007545e-11\n",
      "└ @ MPSKit /home/maavdamm/.julia/packages/MPSKit/BToBw/src/algorithms/groundstate/vumps.jl:66\n",
      "┌ Info: vumps @iteration 27 galerkin = 1.3193000418595851e-11\n",
      "└ @ MPSKit /home/maavdamm/.julia/packages/MPSKit/BToBw/src/algorithms/groundstate/vumps.jl:66\n"
     ]
    },
    {
     "name": "stderr",
     "output_type": "stream",
     "text": [
      "┌ Info: vumps @iteration 28 galerkin = 7.368608782515537e-12\n",
      "└ @ MPSKit /home/maavdamm/.julia/packages/MPSKit/BToBw/src/algorithms/groundstate/vumps.jl:66\n"
     ]
    },
    {
     "name": "stderr",
     "output_type": "stream",
     "text": [
      "┌ Info: vumps @iteration 29 galerkin = 4.123654077022341e-12\n",
      "└ @ MPSKit /home/maavdamm/.julia/packages/MPSKit/BToBw/src/algorithms/groundstate/vumps.jl:66\n"
     ]
    },
    {
     "name": "stderr",
     "output_type": "stream",
     "text": [
      "┌ Info: vumps @iteration 30 galerkin = 2.345712058877466e-12\n",
      "└ @ MPSKit /home/maavdamm/.julia/packages/MPSKit/BToBw/src/algorithms/groundstate/vumps.jl:66\n",
      "┌ Info: vumps @iteration 31 galerkin = 1.2914273814420313e-12\n",
      "└ @ MPSKit /home/maavdamm/.julia/packages/MPSKit/BToBw/src/algorithms/groundstate/vumps.jl:66\n"
     ]
    },
    {
     "name": "stderr",
     "output_type": "stream",
     "text": [
      "┌ Info: vumps @iteration 32 galerkin = 7.236937609006489e-13\n",
      "└ @ MPSKit /home/maavdamm/.julia/packages/MPSKit/BToBw/src/algorithms/groundstate/vumps.jl:66\n"
     ]
    }
   ],
   "source": [
    "th = su2_xxx_ham(spin=1);\n",
    "ts = InfiniteMPS(th.pspaces,[Rep[SU₂](1//2=>20,3//2=>10,5//2=>5)]);\n",
    "(ts,gs_env) = find_groundstate(ts,th,VUMPS(maxiter=200));"
   ]
  },
  {
   "attachments": {},
   "cell_type": "markdown",
   "metadata": {},
   "source": [
    "## Step 2\n",
    "\n",
    "Step 2 is to find the assymptotically free part of the scatterstate. This determines the total energy of the scatterstate, as the sum of the energies of the free particles."
   ]
  },
  {
   "cell_type": "code",
   "execution_count": 3,
   "metadata": {},
   "outputs": [],
   "source": [
    "K = 0.0; # total momentum\n",
    "dK = 0.3; # relative momentum\n",
    "\n",
    "K1 = (-pi + K/2 + dK/2);\n",
    "K2 = (pi + K/2 -dK/2);\n",
    "(E1,A) = excitations(th,QuasiparticleAnsatz(),K1,ts,sector = SU₂(1));\n",
    "(E2,B) = excitations(th,QuasiparticleAnsatz(),K2,ts,sector = SU₂(1));\n",
    "E = E1[1]+E2[1];"
   ]
  },
  {
   "attachments": {},
   "cell_type": "markdown",
   "metadata": {},
   "source": [
    "A and B contain the left-gauged quasiparticles, and we can use this to make the two assymptotic parts of the scatterstate:"
   ]
  },
  {
   "cell_type": "code",
   "execution_count": 4,
   "metadata": {},
   "outputs": [],
   "source": [
    "A_lg = A[1];\n",
    "B_lg = B[1];\n",
    "\n",
    "A_rg = convert(RightGaugedQP,A_lg);\n",
    "B_rg = convert(RightGaugedQP,B_lg);\n",
    "\n",
    "\n",
    "BA_asymptotic = AssymptoticScatter(B_lg,A_rg);\n",
    "AB_asymptotic = AssymptoticScatter(A_lg,B_rg);"
   ]
  },
  {
   "attachments": {},
   "cell_type": "markdown",
   "metadata": {},
   "source": [
    "# Step 3\n",
    "\n",
    "From step 3 onwards we will start to make use of momentum windows. The idea is that (H-E) acting on an assymptotic scatterstate should always be of the form of a momentum window. That will later on allow us to simplify some terms in our costfunction.\n",
    "\n",
    "Step 3 itself is to find the window for which | window > = (H-E) | assymptotic > holds. This will only be approximate, and depending on the size and bond dimension of the window we can approximate this to a better degree."
   ]
  },
  {
   "cell_type": "code",
   "execution_count": 5,
   "metadata": {},
   "outputs": [
    {
     "name": "stderr",
     "output_type": "stream",
     "text": [
      "┌ Info: dmrg iter 0 error 84.0823815138656\n",
      "└ @ MPSKitExperimental /home/maavdamm/MPSKitExperimental.jl/src/momentumwindow/assymptotic.jl:289\n"
     ]
    },
    {
     "name": "stderr",
     "output_type": "stream",
     "text": [
      "┌ Info: dmrg iter 1 error 0.039919690638224495\n",
      "└ @ MPSKitExperimental /home/maavdamm/MPSKitExperimental.jl/src/momentumwindow/assymptotic.jl:289\n"
     ]
    },
    {
     "name": "stderr",
     "output_type": "stream",
     "text": [
      "┌ Info: dmrg iter 2 error 0.0035006677045032815\n",
      "└ @ MPSKitExperimental /home/maavdamm/MPSKitExperimental.jl/src/momentumwindow/assymptotic.jl:289\n"
     ]
    },
    {
     "name": "stderr",
     "output_type": "stream",
     "text": [
      "┌ Info: dmrg iter 3 error 0.0015791011773117407\n",
      "└ @ MPSKitExperimental /home/maavdamm/MPSKitExperimental.jl/src/momentumwindow/assymptotic.jl:289\n"
     ]
    },
    {
     "name": "stderr",
     "output_type": "stream",
     "text": [
      "┌ Info: dmrg iter 4 error 0.0011632617764074666\n",
      "└ @ MPSKitExperimental /home/maavdamm/MPSKitExperimental.jl/src/momentumwindow/assymptotic.jl:289\n"
     ]
    },
    {
     "name": "stderr",
     "output_type": "stream",
     "text": [
      "┌ Info: dmrg iter 5 error 0.0010729024058184402\n",
      "└ @ MPSKitExperimental /home/maavdamm/MPSKitExperimental.jl/src/momentumwindow/assymptotic.jl:289\n"
     ]
    },
    {
     "name": "stderr",
     "output_type": "stream",
     "text": [
      "┌ Info: dmrg iter 6 error 0.0009658709082010172\n",
      "└ @ MPSKitExperimental /home/maavdamm/MPSKitExperimental.jl/src/momentumwindow/assymptotic.jl:289\n"
     ]
    },
    {
     "name": "stderr",
     "output_type": "stream",
     "text": [
      "┌ Info: dmrg iter 7 error 0.0007754762215520184\n",
      "└ @ MPSKitExperimental /home/maavdamm/MPSKitExperimental.jl/src/momentumwindow/assymptotic.jl:289\n"
     ]
    },
    {
     "name": "stderr",
     "output_type": "stream",
     "text": [
      "┌ Info: dmrg iter 8 error 0.000585484990288609\n",
      "└ @ MPSKitExperimental /home/maavdamm/MPSKitExperimental.jl/src/momentumwindow/assymptotic.jl:289\n"
     ]
    },
    {
     "name": "stderr",
     "output_type": "stream",
     "text": [
      "┌ Info: dmrg iter 9 error 0.00044572998768020673\n",
      "└ @ MPSKitExperimental /home/maavdamm/MPSKitExperimental.jl/src/momentumwindow/assymptotic.jl:289\n"
     ]
    },
    {
     "name": "stderr",
     "output_type": "stream",
     "text": [
      "┌ Info: dmrg iter 10 error 0.0003518327928878754\n",
      "└ @ MPSKitExperimental /home/maavdamm/MPSKitExperimental.jl/src/momentumwindow/assymptotic.jl:289\n"
     ]
    },
    {
     "name": "stderr",
     "output_type": "stream",
     "text": [
      "┌ Info: dmrg iter 11 error 0.00028585797022201155\n",
      "└ @ MPSKitExperimental /home/maavdamm/MPSKitExperimental.jl/src/momentumwindow/assymptotic.jl:289\n"
     ]
    },
    {
     "name": "stderr",
     "output_type": "stream",
     "text": [
      "┌ Info: dmrg iter 12 error 0.00023527780679936323\n",
      "└ @ MPSKitExperimental /home/maavdamm/MPSKitExperimental.jl/src/momentumwindow/assymptotic.jl:289\n"
     ]
    },
    {
     "name": "stderr",
     "output_type": "stream",
     "text": [
      "┌ Info: dmrg iter 13 error 0.00019406650114587882\n",
      "└ @ MPSKitExperimental /home/maavdamm/MPSKitExperimental.jl/src/momentumwindow/assymptotic.jl:289\n"
     ]
    },
    {
     "name": "stderr",
     "output_type": "stream",
     "text": [
      "┌ Info: dmrg iter 14 error 0.0001596772916363505\n",
      "└ @ MPSKitExperimental /home/maavdamm/MPSKitExperimental.jl/src/momentumwindow/assymptotic.jl:289\n"
     ]
    },
    {
     "name": "stderr",
     "output_type": "stream",
     "text": [
      "┌ Info: dmrg iter 15 error 0.00013090802451292866\n",
      "└ @ MPSKitExperimental /home/maavdamm/MPSKitExperimental.jl/src/momentumwindow/assymptotic.jl:289\n"
     ]
    },
    {
     "name": "stderr",
     "output_type": "stream",
     "text": [
      "┌ Info: dmrg iter 16 error 0.00010697014269426976\n",
      "└ @ MPSKitExperimental /home/maavdamm/MPSKitExperimental.jl/src/momentumwindow/assymptotic.jl:289\n"
     ]
    },
    {
     "name": "stderr",
     "output_type": "stream",
     "text": [
      "┌ Info: dmrg iter 17 error 8.718830431330327e-5\n",
      "└ @ MPSKitExperimental /home/maavdamm/MPSKitExperimental.jl/src/momentumwindow/assymptotic.jl:289\n"
     ]
    },
    {
     "name": "stderr",
     "output_type": "stream",
     "text": [
      "┌ Info: dmrg iter 18 error 7.093790386292366e-5\n",
      "└ @ MPSKitExperimental /home/maavdamm/MPSKitExperimental.jl/src/momentumwindow/assymptotic.jl:289\n"
     ]
    },
    {
     "name": "stderr",
     "output_type": "stream",
     "text": [
      "┌ Info: dmrg iter 19 error 5.764858180067412e-5\n",
      "└ @ MPSKitExperimental /home/maavdamm/MPSKitExperimental.jl/src/momentumwindow/assymptotic.jl:289\n",
      "┌ Warning: dmrg failed to converge 5.764858180067412e-5>1.0e-12\n",
      "└ @ MPSKitExperimental /home/maavdamm/MPSKitExperimental.jl/src/momentumwindow/assymptotic.jl:295\n"
     ]
    },
    {
     "name": "stderr",
     "output_type": "stream",
     "text": [
      "┌ Info: dmrg iter 0 error 95.99381304260352\n",
      "└ @ MPSKitExperimental /home/maavdamm/MPSKitExperimental.jl/src/momentumwindow/assymptotic.jl:289\n"
     ]
    },
    {
     "name": "stderr",
     "output_type": "stream",
     "text": [
      "┌ Info: dmrg iter 1 error 0.03872784968711627\n",
      "└ @ MPSKitExperimental /home/maavdamm/MPSKitExperimental.jl/src/momentumwindow/assymptotic.jl:289\n"
     ]
    },
    {
     "name": "stderr",
     "output_type": "stream",
     "text": [
      "┌ Info: dmrg iter 2 error 0.0027128878458766953\n",
      "└ @ MPSKitExperimental /home/maavdamm/MPSKitExperimental.jl/src/momentumwindow/assymptotic.jl:289\n"
     ]
    },
    {
     "name": "stderr",
     "output_type": "stream",
     "text": [
      "┌ Info: dmrg iter 3 error 0.0013034065009896606\n",
      "└ @ MPSKitExperimental /home/maavdamm/MPSKitExperimental.jl/src/momentumwindow/assymptotic.jl:289\n"
     ]
    },
    {
     "name": "stderr",
     "output_type": "stream",
     "text": [
      "┌ Info: dmrg iter 4 error 0.0009387547426721637\n",
      "└ @ MPSKitExperimental /home/maavdamm/MPSKitExperimental.jl/src/momentumwindow/assymptotic.jl:289\n"
     ]
    },
    {
     "name": "stderr",
     "output_type": "stream",
     "text": [
      "┌ Info: dmrg iter 5 error 0.0007053478370171242\n",
      "└ @ MPSKitExperimental /home/maavdamm/MPSKitExperimental.jl/src/momentumwindow/assymptotic.jl:289\n"
     ]
    },
    {
     "name": "stderr",
     "output_type": "stream",
     "text": [
      "┌ Info: dmrg iter 6 error 0.0004940110603623595\n",
      "└ @ MPSKitExperimental /home/maavdamm/MPSKitExperimental.jl/src/momentumwindow/assymptotic.jl:289\n"
     ]
    },
    {
     "name": "stderr",
     "output_type": "stream",
     "text": [
      "┌ Info: dmrg iter 7 error 0.00033125496192021336\n",
      "└ @ MPSKitExperimental /home/maavdamm/MPSKitExperimental.jl/src/momentumwindow/assymptotic.jl:289\n"
     ]
    },
    {
     "name": "stderr",
     "output_type": "stream",
     "text": [
      "┌ Info: dmrg iter 8 error 0.0002196979589417947\n",
      "└ @ MPSKitExperimental /home/maavdamm/MPSKitExperimental.jl/src/momentumwindow/assymptotic.jl:289\n"
     ]
    },
    {
     "name": "stderr",
     "output_type": "stream",
     "text": [
      "┌ Info: dmrg iter 9 error 0.0001576776392902757\n",
      "└ @ MPSKitExperimental /home/maavdamm/MPSKitExperimental.jl/src/momentumwindow/assymptotic.jl:289\n"
     ]
    },
    {
     "name": "stderr",
     "output_type": "stream",
     "text": [
      "┌ Info: dmrg iter 10 error 0.00013234183533059307\n",
      "└ @ MPSKitExperimental /home/maavdamm/MPSKitExperimental.jl/src/momentumwindow/assymptotic.jl:289\n"
     ]
    },
    {
     "name": "stderr",
     "output_type": "stream",
     "text": [
      "┌ Info: dmrg iter 11 error 0.00011081390313332122\n",
      "└ @ MPSKitExperimental /home/maavdamm/MPSKitExperimental.jl/src/momentumwindow/assymptotic.jl:289\n"
     ]
    },
    {
     "name": "stderr",
     "output_type": "stream",
     "text": [
      "┌ Info: dmrg iter 12 error 9.263709463915388e-5\n",
      "└ @ MPSKitExperimental /home/maavdamm/MPSKitExperimental.jl/src/momentumwindow/assymptotic.jl:289\n"
     ]
    },
    {
     "name": "stderr",
     "output_type": "stream",
     "text": [
      "┌ Info: dmrg iter 13 error 7.736832125021878e-5\n",
      "└ @ MPSKitExperimental /home/maavdamm/MPSKitExperimental.jl/src/momentumwindow/assymptotic.jl:289\n"
     ]
    },
    {
     "name": "stderr",
     "output_type": "stream",
     "text": [
      "┌ Info: dmrg iter 14 error 6.458768297864426e-5\n",
      "└ @ MPSKitExperimental /home/maavdamm/MPSKitExperimental.jl/src/momentumwindow/assymptotic.jl:289\n"
     ]
    },
    {
     "name": "stderr",
     "output_type": "stream",
     "text": [
      "┌ Info: dmrg iter 15 error 5.3913099837847235e-5\n",
      "└ @ MPSKitExperimental /home/maavdamm/MPSKitExperimental.jl/src/momentumwindow/assymptotic.jl:289\n"
     ]
    },
    {
     "name": "stderr",
     "output_type": "stream",
     "text": [
      "┌ Info: dmrg iter 16 error 4.500828798539441e-5\n",
      "└ @ MPSKitExperimental /home/maavdamm/MPSKitExperimental.jl/src/momentumwindow/assymptotic.jl:289\n"
     ]
    },
    {
     "name": "stderr",
     "output_type": "stream",
     "text": [
      "┌ Info: dmrg iter 17 error 3.758404610680551e-5\n",
      "└ @ MPSKitExperimental /home/maavdamm/MPSKitExperimental.jl/src/momentumwindow/assymptotic.jl:289\n"
     ]
    },
    {
     "name": "stderr",
     "output_type": "stream",
     "text": [
      "┌ Info: dmrg iter 18 error 3.139533950416247e-5\n",
      "└ @ MPSKitExperimental /home/maavdamm/MPSKitExperimental.jl/src/momentumwindow/assymptotic.jl:289\n"
     ]
    },
    {
     "name": "stderr",
     "output_type": "stream",
     "text": [
      "┌ Info: dmrg iter 19 error 2.7542740487058652e-5\n",
      "└ @ MPSKitExperimental /home/maavdamm/MPSKitExperimental.jl/src/momentumwindow/assymptotic.jl:289\n",
      "┌ Warning: dmrg failed to converge 2.7542740487058652e-5>1.0e-12\n",
      "└ @ MPSKitExperimental /home/maavdamm/MPSKitExperimental.jl/src/momentumwindow/assymptotic.jl:295\n"
     ]
    }
   ],
   "source": [
    "len = 20; # size of the momentumwindow\n",
    "windowchi = Rep[SU₂](1//2=>30,3//2=>20,5//2=>10,7//2=>5,9//2=>2,11//2=>1); # bond dimension of the momentumwindow\n",
    "\n",
    "BA_projected = LeftGaugedMW(rand,len,windowchi,ts,momentum = K1 + K2+0im,utilspace= MPSKit.utilleg(BA_asymptotic));    \n",
    "AB_projected = LeftGaugedMW(rand,len,windowchi,ts,momentum = K1 + K2+0im,utilspace= MPSKit.utilleg(BA_projected));\n",
    "\n",
    "begin\n",
    "    (AB_projected,_) = approximate(AB_projected,(th,AB_asymptotic),DMRG(tol=1e-12,maxiter=20,verbose=true));\n",
    "    (BA_projected,_) = approximate(BA_projected,(th,BA_asymptotic),DMRG(tol=1e-12,maxiter=20,verbose=true));\n",
    "end;"
   ]
  },
  {
   "attachments": {},
   "cell_type": "markdown",
   "metadata": {},
   "source": [
    "## Step 4 \n",
    "\n",
    "In the last step we will attempt to solve\n",
    "\n",
    "(H-E) [ | window > + | AB_assymptotic > + S | BA_assymptotic > ] = 0\n",
    "\n",
    "using the windows from step 3, we can simplify this to\n",
    "\n",
    "(H - E) | window > + | AB_projected > + S | BA_projected > = 0\n",
    "\n",
    "This is reminiscent of a correction vector problem, and it seems that these can be solved by finding:\n",
    "\n",
    "P = projector on the tangent space of window\n",
    "\n",
    "P (H - E) | window > + P | AB_projected > + P S | BA_projected > = 0\n",
    "\n",
    "< BA_projected | (H - E) | window > + < BA_projected | AB_projected > + < BA_projected | S | BA_projected > = 0\n",
    "\n",
    "The last equation is interesting, as | BA_projected > is equal to (H-E) | BA_assymptotic>. It seems natural to remove this (H-E) factor, and the final set of equations are then numerically easier to solve!\n",
    "\n",
    "=> < BA_assymptotic | (H - E) | window > + < BA_assymptotic | AB_projected > + < BA_assymptotic | S | BA_projected > = 0\n",
    "\n",
    "You can do this using for example a sweeping scheme :"
   ]
  },
  {
   "cell_type": "code",
   "execution_count": 9,
   "metadata": {},
   "outputs": [
    {
     "name": "stdout",
     "output_type": "stream",
     "text": [
      "(norm(S - x_2), norm(B.AC[row, col] - x_1)) = (1.6328197572079317, 8.468590959472674)\n",
      "(convhist.converged, convhist.normres) = (1, 8.723593988708745e-10)\n"
     ]
    },
    {
     "name": "stdout",
     "output_type": "stream",
     "text": [
      "S = TensorMap(ProductSpace(Rep[SU₂](0=>1, 1=>1, 2=>1)) ← ProductSpace(Rep[SU₂](0=>1, 1=>1, 2=>1))):\n",
      "* Data for fusiontree FusionTree{Irrep[SU₂]}((0,), 0, (false,), ()) ← FusionTree{Irrep[SU₂]}((0,), 0, (false,), ()):\n",
      " -0.8660829535953016 + 0.49492387473123933im\n",
      "* Data for fusiontree FusionTree{Irrep[SU₂]}((1,), 1, (false,), ()) ← FusionTree{Irrep[SU₂]}((1,), 1, (false,), ()):\n",
      " -0.4508138417414476 - 0.8931694664043229im\n",
      "* Data for fusiontree FusionTree{Irrep[SU₂]}((2,), 2, (false,), ()) ← FusionTree{Irrep[SU₂]}((2,), 2, (false,), ()):\n",
      " -0.8476888196226493 - 0.5303745577289161im\n",
      "\n"
     ]
    },
    {
     "name": "stdout",
     "output_type": "stream",
     "text": [
      "(norm(S - x_2), norm(B.AC[row, col] - x_1)) = (0.0, 0.0)\n",
      "(convhist.converged, convhist.normres) = (1, 8.723593988708745e-10)\n",
      "S = TensorMap(ProductSpace(Rep[SU₂](0=>1, 1=>1, 2=>1)) ← ProductSpace(Rep[SU₂](0=>1, 1=>1, 2=>1))):\n",
      "* Data for fusiontree FusionTree{Irrep[SU₂]}((0,), 0, (false,), ()) ← FusionTree{Irrep[SU₂]}((0,), 0, (false,), ()):\n",
      " -0.8660829535953016 + 0.49492387473123933im\n",
      "* Data for fusiontree FusionTree{Irrep[SU₂]}((1,), 1, (false,), ()) ← FusionTree{Irrep[SU₂]}((1,), 1, (false,), ()):\n",
      " -0.4508138417414476 - 0.8931694664043229im\n",
      "* Data for fusiontree FusionTree{Irrep[SU₂]}((2,), 2, (false,), ()) ← FusionTree{Irrep[SU₂]}((2,), 2, (false,), ()):\n",
      " -0.8476888196226493 - 0.5303745577289161im\n",
      "\n"
     ]
    },
    {
     "name": "stdout",
     "output_type": "stream",
     "text": [
      "(norm(S - x_2), norm(B.AC[row, col] - x_1)) = (0.0, 0.0)\n",
      "(convhist.converged, convhist.normres) = (1, 8.723593988708745e-10)\n",
      "S = TensorMap(ProductSpace(Rep[SU₂](0=>1, 1=>1, 2=>1)) ← ProductSpace(Rep[SU₂](0=>1, 1=>1, 2=>1))):\n",
      "* Data for fusiontree FusionTree{Irrep[SU₂]}((0,), 0, (false,), ()) ← FusionTree{Irrep[SU₂]}((0,), 0, (false,), ()):\n",
      " -0.8660829535953016 + 0.49492387473123933im\n",
      "* Data for fusiontree FusionTree{Irrep[SU₂]}((1,), 1, (false,), ()) ← FusionTree{Irrep[SU₂]}((1,), 1, (false,), ()):\n",
      " -0.4508138417414476 - 0.8931694664043229im\n",
      "* Data for fusiontree FusionTree{Irrep[SU₂]}((2,), 2, (false,), ()) ← FusionTree{Irrep[SU₂]}((2,), 2, (false,), ()):\n",
      " -0.8476888196226493 - 0.5303745577289161im\n",
      "\n"
     ]
    },
    {
     "name": "stdout",
     "output_type": "stream",
     "text": [
      "(norm(S - x_2), norm(B.AC[row, col] - x_1)) = (0.0, 0.0)\n",
      "(convhist.converged, convhist.normres) = (1, 8.723593988708745e-10)\n",
      "S = TensorMap(ProductSpace(Rep[SU₂](0=>1, 1=>1, 2=>1)) ← ProductSpace(Rep[SU₂](0=>1, 1=>1, 2=>1))):\n",
      "* Data for fusiontree FusionTree{Irrep[SU₂]}((0,), 0, (false,), ()) ← FusionTree{Irrep[SU₂]}((0,), 0, (false,), ()):\n",
      " -0.8660829535953016 + 0.49492387473123933im\n",
      "* Data for fusiontree FusionTree{Irrep[SU₂]}((1,), 1, (false,), ()) ← FusionTree{Irrep[SU₂]}((1,), 1, (false,), ()):\n",
      " -0.4508138417414476 - 0.8931694664043229im\n",
      "* Data for fusiontree FusionTree{Irrep[SU₂]}((2,), 2, (false,), ()) ← FusionTree{Irrep[SU₂]}((2,), 2, (false,), ()):\n",
      " -0.8476888196226493 - 0.5303745577289161im\n",
      "\n"
     ]
    },
    {
     "name": "stdout",
     "output_type": "stream",
     "text": [
      "(norm(S - x_2), norm(B.AC[row, col] - x_1)) = (0.0, 0.0)\n",
      "(convhist.converged, convhist.normres) = (1, 8.723593988708745e-10)\n",
      "S = TensorMap(ProductSpace(Rep[SU₂](0=>1, 1=>1, 2=>1)) ← ProductSpace(Rep[SU₂](0=>1, 1=>1, 2=>1))):\n",
      "* Data for fusiontree FusionTree{Irrep[SU₂]}((0,), 0, (false,), ()) ← FusionTree{Irrep[SU₂]}((0,), 0, (false,), ()):\n",
      " -0.8660829535953016 + 0.49492387473123933im\n",
      "* Data for fusiontree FusionTree{Irrep[SU₂]}((1,), 1, (false,), ()) ← FusionTree{Irrep[SU₂]}((1,), 1, (false,), ()):\n",
      " -0.4508138417414476 - 0.8931694664043229im\n",
      "* Data for fusiontree FusionTree{Irrep[SU₂]}((2,), 2, (false,), ()) ← FusionTree{Irrep[SU₂]}((2,), 2, (false,), ()):\n",
      " -0.8476888196226493 - 0.5303745577289161im\n",
      "\n"
     ]
    }
   ],
   "source": [
    "\n",
    "# you can tune both the bond dimension and the length of this window independently, but it doesn't appear to matter that much\n",
    "B = LeftGaugedMW(rand,1,windowchi,ts,momentum=K1+K2+0im,utilspace=MPSKit.utilleg(AB_projected));\n",
    "\n",
    "# some initial guess, which is always completely wrong\n",
    "S = -inv(partialdot(BA_projected,BA_projected))*partialdot(BA_projected,AB_projected)\n",
    "\n",
    "# environments for < B | H | B >\n",
    "envs = environments(B,(th,B),gs_env,gs_env);\n",
    "\n",
    "for topit = 1:5 # in principle you need to sweep until converged\n",
    "    for row in 1:size(B.AC,1),col in 1:size(B.AC,2)\n",
    "        y_1 = -projdown(row,col,AB_projected,B);\n",
    "        y_2 = -partialdot(BA_asymptotic,AB_projected);\n",
    "\n",
    "        x_1 = B.AC[row,col];\n",
    "        x_2 = S;\n",
    "\n",
    "        (sol,convhist) = linsolve(RecursiveVec((y_1,y_2)),RecursiveVec((x_1,x_2)),GMRES(tol=1e-9)) do x\n",
    "            (c_B,c_S) = x.vecs;\n",
    "            B.AC[row,col] = c_B;\n",
    "            envs = environments(B,(th,B),gs_env,gs_env);\n",
    "            \n",
    "            SBA_projected = lmul!(c_S,copy(BA_projected))\n",
    "\n",
    "            v_1 = MPSKit.ac_proj(row,col,B,envs)-E*c_B+projdown(row,col,SBA_projected,B);\n",
    "            v_2 = partialdot(BA_projected,B)+partialdot(BA_asymptotic,SBA_projected);\n",
    "            RecursiveVec((v_1,v_2))\n",
    "        end\n",
    "        \n",
    "        B.AC[row,col] = sol[1];\n",
    "        S = sol[2];\n",
    "\n",
    "        @show norm(S-x_2),norm(B.AC[row,col]-x_1) # convergence metrics\n",
    "        @show convhist.converged,convhist.normres\n",
    "\n",
    "        @show S\n",
    "        flush(stdout)\n",
    "    end;\n",
    "end"
   ]
  },
  {
   "attachments": {},
   "cell_type": "markdown",
   "metadata": {},
   "source": [
    "## What now?\n",
    "\n",
    "We obtain the S matrix, but the code also seems to work for complex momenta! We can use the same code to calculate dynamical structure factors. \n",
    "\n",
    "There doesn't seem to be an inherent obstacle in going to a regime where multiple two-particle states can contribute to the scatterprocess, maybe that could be interesting?\n",
    "\n",
    "The same approach should work for quasiparticle scattering on an impurity in the spin chain, and it should be far easier to implement."
   ]
  }
 ],
 "metadata": {
  "kernelspec": {
   "display_name": "Julia 1.9.0",
   "language": "julia",
   "name": "julia-1.9"
  },
  "language_info": {
   "file_extension": ".jl",
   "mimetype": "application/julia",
   "name": "julia",
   "version": "1.9.0"
  },
  "orig_nbformat": 4
 },
 "nbformat": 4,
 "nbformat_minor": 2
}
