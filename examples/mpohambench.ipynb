{
 "cells": [
  {
   "cell_type": "markdown",
   "metadata": {},
   "source": [
    "I created a new kind of mpohamiltonian for quantum chemistry hamiltonians, because you can gain some speed there by pre-summing the environments. I also invested a bunch of effort making the effective hamiltonian fast. In this notebook I try to benchmark the MPSKit effective hamiltonians against my (?optimized) implementation.\n",
    "\n",
    "I don't make use of the pre-summation in this benchmark, both codes should do the exact same thing."
   ]
  },
  {
   "cell_type": "code",
   "execution_count": 1,
   "metadata": {},
   "outputs": [],
   "source": [
    "using Revise, MPSKit, MPSKitModels, TensorKit\n",
    "using LinearAlgebra, Base.Threads, BenchmarkTools\n",
    "using MPSKitExperimental:FusedMPOHamiltonian"
   ]
  },
  {
   "cell_type": "code",
   "execution_count": 2,
   "metadata": {},
   "outputs": [],
   "source": [
    "BLAS.set_num_threads(1)"
   ]
  },
  {
   "cell_type": "code",
   "execution_count": 3,
   "metadata": {},
   "outputs": [
    {
     "data": {
      "text/plain": [
       "4"
      ]
     },
     "metadata": {},
     "output_type": "display_data"
    }
   ],
   "source": [
    "nthreads()"
   ]
  },
  {
   "cell_type": "markdown",
   "metadata": {},
   "source": [
    "## heisenberg spin 1"
   ]
  },
  {
   "cell_type": "code",
   "execution_count": 4,
   "metadata": {},
   "outputs": [],
   "source": [
    "fmps_len = 10;\n",
    "middle_site = Int(round(fmps_len/2))\n",
    "\n",
    "ts = FiniteMPS(rand,ComplexF64,fmps_len,Rep[SU₂](1=>1),Rep[SU₂](i => 20 for i in 0:10));\n",
    "\n",
    "th_orig = heisenberg_XXX(SU2Irrep);\n",
    "th_fused = convert(FusedMPOHamiltonian,repeat(th_orig,length(ts)));\n",
    "\n",
    "env_orig = environments(ts,th_orig);\n",
    "env_fused = environments(ts,th_fused);\n",
    "\n",
    "ac = ts.AC[middle_site]\n",
    "ac_eff_orig = MPSKit.∂∂AC(middle_site,ts,th_orig,env_orig);\n",
    "ac_eff_fused = MPSKit.∂∂AC(middle_site,ts,th_fused,env_fused);\n",
    "\n",
    "\n",
    "ac2 = ts.AC[middle_site]*MPSKit._transpose_tail(ts.AR[middle_site+1])\n",
    "ac2_eff_orig = MPSKit.∂∂AC2(middle_site,ts,th_orig,env_orig);\n",
    "ac2_eff_fused = MPSKit.∂∂AC2(middle_site,ts,th_fused,env_fused);"
   ]
  },
  {
   "cell_type": "code",
   "execution_count": 5,
   "metadata": {},
   "outputs": [
    {
     "data": {
      "text/plain": [
       "BenchmarkTools.Trial: 3028 samples with 1 evaluation.\n",
       " Range \u001b[90m(\u001b[39m\u001b[36m\u001b[1mmin\u001b[22m\u001b[39m … \u001b[35mmax\u001b[39m\u001b[90m):  \u001b[39m\u001b[36m\u001b[1m859.053 μs\u001b[22m\u001b[39m … \u001b[35m13.965 ms\u001b[39m  \u001b[90m┊\u001b[39m GC \u001b[90m(\u001b[39mmin … max\u001b[90m): \u001b[39m 0.00% … 80.16%\n",
       " Time  \u001b[90m(\u001b[39m\u001b[34m\u001b[1mmedian\u001b[22m\u001b[39m\u001b[90m):     \u001b[39m\u001b[34m\u001b[1m  1.368 ms              \u001b[22m\u001b[39m\u001b[90m┊\u001b[39m GC \u001b[90m(\u001b[39mmedian\u001b[90m):    \u001b[39m 0.00%\n",
       " Time  \u001b[90m(\u001b[39m\u001b[32m\u001b[1mmean\u001b[22m\u001b[39m ± \u001b[32mσ\u001b[39m\u001b[90m):   \u001b[39m\u001b[32m\u001b[1m  1.643 ms\u001b[22m\u001b[39m ± \u001b[32m 1.638 ms\u001b[39m  \u001b[90m┊\u001b[39m GC \u001b[90m(\u001b[39mmean ± σ\u001b[90m):  \u001b[39m13.85% ± 12.20%\n",
       "\n",
       "  \u001b[39m▁\u001b[39m▅\u001b[39m█\u001b[34m▅\u001b[39m\u001b[32m▁\u001b[39m\u001b[39m \u001b[39m \u001b[39m \u001b[39m \u001b[39m \u001b[39m \u001b[39m \u001b[39m \u001b[39m \u001b[39m \u001b[39m \u001b[39m \u001b[39m \u001b[39m \u001b[39m \u001b[39m \u001b[39m \u001b[39m \u001b[39m \u001b[39m \u001b[39m \u001b[39m \u001b[39m \u001b[39m \u001b[39m \u001b[39m \u001b[39m \u001b[39m \u001b[39m \u001b[39m \u001b[39m \u001b[39m \u001b[39m \u001b[39m \u001b[39m \u001b[39m \u001b[39m \u001b[39m \u001b[39m \u001b[39m \u001b[39m \u001b[39m \u001b[39m \u001b[39m \u001b[39m \u001b[39m \u001b[39m \u001b[39m \u001b[39m \u001b[39m \u001b[39m \u001b[39m \u001b[39m \u001b[39m \u001b[39m \u001b[39m \u001b[39m \n",
       "  \u001b[39m█\u001b[39m█\u001b[39m█\u001b[34m█\u001b[39m\u001b[32m█\u001b[39m\u001b[39m▅\u001b[39m▃\u001b[39m▂\u001b[39m▂\u001b[39m▂\u001b[39m▂\u001b[39m▁\u001b[39m▁\u001b[39m▁\u001b[39m▁\u001b[39m▁\u001b[39m▁\u001b[39m▁\u001b[39m▁\u001b[39m▁\u001b[39m▁\u001b[39m▁\u001b[39m▁\u001b[39m▁\u001b[39m▁\u001b[39m▁\u001b[39m▁\u001b[39m▁\u001b[39m▁\u001b[39m▁\u001b[39m▁\u001b[39m▁\u001b[39m▁\u001b[39m▁\u001b[39m▁\u001b[39m▁\u001b[39m▁\u001b[39m▁\u001b[39m▁\u001b[39m▁\u001b[39m▁\u001b[39m▁\u001b[39m▁\u001b[39m▁\u001b[39m▁\u001b[39m▁\u001b[39m▁\u001b[39m▁\u001b[39m▁\u001b[39m▁\u001b[39m▁\u001b[39m▁\u001b[39m▁\u001b[39m▁\u001b[39m▂\u001b[39m▂\u001b[39m▂\u001b[39m▂\u001b[39m▂\u001b[39m▂\u001b[39m \u001b[39m▃\n",
       "  859 μs\u001b[90m          Histogram: frequency by time\u001b[39m           12 ms \u001b[0m\u001b[1m<\u001b[22m\n",
       "\n",
       " Memory estimate\u001b[90m: \u001b[39m\u001b[33m1.43 MiB\u001b[39m, allocs estimate\u001b[90m: \u001b[39m\u001b[33m14410\u001b[39m."
      ]
     },
     "metadata": {},
     "output_type": "display_data"
    }
   ],
   "source": [
    "@benchmark ac_eff_orig(ac)"
   ]
  },
  {
   "cell_type": "code",
   "execution_count": 6,
   "metadata": {},
   "outputs": [
    {
     "data": {
      "text/plain": [
       "BenchmarkTools.Trial: 10000 samples with 1 evaluation.\n",
       " Range \u001b[90m(\u001b[39m\u001b[36m\u001b[1mmin\u001b[22m\u001b[39m … \u001b[35mmax\u001b[39m\u001b[90m):  \u001b[39m\u001b[36m\u001b[1m 34.610 μs\u001b[22m\u001b[39m … \u001b[35m 16.455 ms\u001b[39m  \u001b[90m┊\u001b[39m GC \u001b[90m(\u001b[39mmin … max\u001b[90m): \u001b[39m0.00% … 97.11%\n",
       " Time  \u001b[90m(\u001b[39m\u001b[34m\u001b[1mmedian\u001b[22m\u001b[39m\u001b[90m):     \u001b[39m\u001b[34m\u001b[1m 88.554 μs               \u001b[22m\u001b[39m\u001b[90m┊\u001b[39m GC \u001b[90m(\u001b[39mmedian\u001b[90m):    \u001b[39m0.00%\n",
       " Time  \u001b[90m(\u001b[39m\u001b[32m\u001b[1mmean\u001b[22m\u001b[39m ± \u001b[32mσ\u001b[39m\u001b[90m):   \u001b[39m\u001b[32m\u001b[1m105.244 μs\u001b[22m\u001b[39m ± \u001b[32m402.377 μs\u001b[39m  \u001b[90m┊\u001b[39m GC \u001b[90m(\u001b[39mmean ± σ\u001b[90m):  \u001b[39m9.71% ±  2.54%\n",
       "\n",
       "  \u001b[39m \u001b[39m \u001b[39m \u001b[39m \u001b[39m \u001b[39m \u001b[39m \u001b[39m \u001b[39m \u001b[39m▄\u001b[39m▆\u001b[39m█\u001b[39m▇\u001b[39m▆\u001b[39m▆\u001b[39m▇\u001b[34m▅\u001b[39m\u001b[39m▅\u001b[39m▄\u001b[39m▃\u001b[39m▃\u001b[32m▁\u001b[39m\u001b[39m \u001b[39m \u001b[39m \u001b[39m \u001b[39m \u001b[39m \u001b[39m \u001b[39m \u001b[39m \u001b[39m \u001b[39m \u001b[39m \u001b[39m \u001b[39m \u001b[39m \u001b[39m \u001b[39m \u001b[39m \u001b[39m \u001b[39m \u001b[39m \u001b[39m \u001b[39m \u001b[39m \u001b[39m \u001b[39m \u001b[39m \u001b[39m \u001b[39m \u001b[39m \u001b[39m \u001b[39m \u001b[39m \u001b[39m \u001b[39m \u001b[39m \u001b[39m \u001b[39m \u001b[39m \u001b[39m \u001b[39m \n",
       "  \u001b[39m▃\u001b[39m▆\u001b[39m▄\u001b[39m▂\u001b[39m▃\u001b[39m▄\u001b[39m▅\u001b[39m▅\u001b[39m▆\u001b[39m█\u001b[39m█\u001b[39m█\u001b[39m█\u001b[39m█\u001b[39m█\u001b[39m█\u001b[34m█\u001b[39m\u001b[39m█\u001b[39m█\u001b[39m█\u001b[39m█\u001b[32m█\u001b[39m\u001b[39m█\u001b[39m▆\u001b[39m▆\u001b[39m▅\u001b[39m▄\u001b[39m▄\u001b[39m▃\u001b[39m▃\u001b[39m▃\u001b[39m▃\u001b[39m▂\u001b[39m▂\u001b[39m▂\u001b[39m▂\u001b[39m▂\u001b[39m▂\u001b[39m▂\u001b[39m▁\u001b[39m▂\u001b[39m▂\u001b[39m▁\u001b[39m▁\u001b[39m▁\u001b[39m▁\u001b[39m▁\u001b[39m▁\u001b[39m▁\u001b[39m▁\u001b[39m▁\u001b[39m▁\u001b[39m▁\u001b[39m▁\u001b[39m▁\u001b[39m▁\u001b[39m▁\u001b[39m▁\u001b[39m▁\u001b[39m▁\u001b[39m▁\u001b[39m \u001b[39m▃\n",
       "  34.6 μs\u001b[90m          Histogram: frequency by time\u001b[39m          245 μs \u001b[0m\u001b[1m<\u001b[22m\n",
       "\n",
       " Memory estimate\u001b[90m: \u001b[39m\u001b[33m123.69 KiB\u001b[39m, allocs estimate\u001b[90m: \u001b[39m\u001b[33m971\u001b[39m."
      ]
     },
     "metadata": {},
     "output_type": "display_data"
    }
   ],
   "source": [
    "@benchmark ac_eff_fused(ac)"
   ]
  },
  {
   "cell_type": "code",
   "execution_count": 7,
   "metadata": {},
   "outputs": [
    {
     "data": {
      "text/plain": [
       "BenchmarkTools.Trial: 2227 samples with 1 evaluation.\n",
       " Range \u001b[90m(\u001b[39m\u001b[36m\u001b[1mmin\u001b[22m\u001b[39m … \u001b[35mmax\u001b[39m\u001b[90m):  \u001b[39m\u001b[36m\u001b[1m1.316 ms\u001b[22m\u001b[39m … \u001b[35m24.615 ms\u001b[39m  \u001b[90m┊\u001b[39m GC \u001b[90m(\u001b[39mmin … max\u001b[90m): \u001b[39m 0.00% … 87.28%\n",
       " Time  \u001b[90m(\u001b[39m\u001b[34m\u001b[1mmedian\u001b[22m\u001b[39m\u001b[90m):     \u001b[39m\u001b[34m\u001b[1m1.787 ms              \u001b[22m\u001b[39m\u001b[90m┊\u001b[39m GC \u001b[90m(\u001b[39mmedian\u001b[90m):    \u001b[39m 0.00%\n",
       " Time  \u001b[90m(\u001b[39m\u001b[32m\u001b[1mmean\u001b[22m\u001b[39m ± \u001b[32mσ\u001b[39m\u001b[90m):   \u001b[39m\u001b[32m\u001b[1m2.237 ms\u001b[22m\u001b[39m ± \u001b[32m 3.018 ms\u001b[39m  \u001b[90m┊\u001b[39m GC \u001b[90m(\u001b[39mmean ± σ\u001b[90m):  \u001b[39m19.29% ± 12.93%\n",
       "\n",
       "  \u001b[39m▇\u001b[34m█\u001b[39m\u001b[39m▅\u001b[32m▂\u001b[39m\u001b[39m \u001b[39m \u001b[39m \u001b[39m \u001b[39m \u001b[39m \u001b[39m \u001b[39m \u001b[39m \u001b[39m \u001b[39m \u001b[39m \u001b[39m \u001b[39m \u001b[39m \u001b[39m \u001b[39m \u001b[39m \u001b[39m \u001b[39m \u001b[39m \u001b[39m \u001b[39m \u001b[39m \u001b[39m \u001b[39m \u001b[39m \u001b[39m \u001b[39m \u001b[39m \u001b[39m \u001b[39m \u001b[39m \u001b[39m \u001b[39m \u001b[39m \u001b[39m \u001b[39m \u001b[39m \u001b[39m \u001b[39m \u001b[39m \u001b[39m \u001b[39m \u001b[39m \u001b[39m \u001b[39m \u001b[39m \u001b[39m \u001b[39m \u001b[39m \u001b[39m \u001b[39m \u001b[39m \u001b[39m \u001b[39m \n",
       "  \u001b[39m█\u001b[34m█\u001b[39m\u001b[39m█\u001b[32m█\u001b[39m\u001b[39m▃\u001b[39m▁\u001b[39m▁\u001b[39m▁\u001b[39m▁\u001b[39m▁\u001b[39m▁\u001b[39m▁\u001b[39m▁\u001b[39m▁\u001b[39m▁\u001b[39m▁\u001b[39m▁\u001b[39m▁\u001b[39m▁\u001b[39m▁\u001b[39m▁\u001b[39m▁\u001b[39m▁\u001b[39m▁\u001b[39m▁\u001b[39m▁\u001b[39m▁\u001b[39m▁\u001b[39m▁\u001b[39m▁\u001b[39m▁\u001b[39m▁\u001b[39m▁\u001b[39m▁\u001b[39m▁\u001b[39m▁\u001b[39m▁\u001b[39m▁\u001b[39m▁\u001b[39m▁\u001b[39m▁\u001b[39m▁\u001b[39m▁\u001b[39m▁\u001b[39m▁\u001b[39m▁\u001b[39m▁\u001b[39m▁\u001b[39m▃\u001b[39m▁\u001b[39m▁\u001b[39m▁\u001b[39m▁\u001b[39m▃\u001b[39m▅\u001b[39m▃\u001b[39m▇\u001b[39m▇\u001b[39m \u001b[39m█\n",
       "  1.32 ms\u001b[90m      \u001b[39m\u001b[90mHistogram: \u001b[39m\u001b[90m\u001b[1mlog(\u001b[22m\u001b[39m\u001b[90mfrequency\u001b[39m\u001b[90m\u001b[1m)\u001b[22m\u001b[39m\u001b[90m by time\u001b[39m     22.3 ms \u001b[0m\u001b[1m<\u001b[22m\n",
       "\n",
       " Memory estimate\u001b[90m: \u001b[39m\u001b[33m3.55 MiB\u001b[39m, allocs estimate\u001b[90m: \u001b[39m\u001b[33m35055\u001b[39m."
      ]
     },
     "metadata": {},
     "output_type": "display_data"
    }
   ],
   "source": [
    "@benchmark ac2_eff_orig(ac2)"
   ]
  },
  {
   "cell_type": "code",
   "execution_count": 8,
   "metadata": {},
   "outputs": [
    {
     "data": {
      "text/plain": [
       "BenchmarkTools.Trial: 10000 samples with 1 evaluation.\n",
       " Range \u001b[90m(\u001b[39m\u001b[36m\u001b[1mmin\u001b[22m\u001b[39m … \u001b[35mmax\u001b[39m\u001b[90m):  \u001b[39m\u001b[36m\u001b[1m39.529 μs\u001b[22m\u001b[39m … \u001b[35m 17.418 ms\u001b[39m  \u001b[90m┊\u001b[39m GC \u001b[90m(\u001b[39mmin … max\u001b[90m): \u001b[39m0.00% … 95.38%\n",
       " Time  \u001b[90m(\u001b[39m\u001b[34m\u001b[1mmedian\u001b[22m\u001b[39m\u001b[90m):     \u001b[39m\u001b[34m\u001b[1m78.534 μs               \u001b[22m\u001b[39m\u001b[90m┊\u001b[39m GC \u001b[90m(\u001b[39mmedian\u001b[90m):    \u001b[39m0.00%\n",
       " Time  \u001b[90m(\u001b[39m\u001b[32m\u001b[1mmean\u001b[22m\u001b[39m ± \u001b[32mσ\u001b[39m\u001b[90m):   \u001b[39m\u001b[32m\u001b[1m93.214 μs\u001b[22m\u001b[39m ± \u001b[32m297.227 μs\u001b[39m  \u001b[90m┊\u001b[39m GC \u001b[90m(\u001b[39mmean ± σ\u001b[90m):  \u001b[39m5.30% ±  1.66%\n",
       "\n",
       "  \u001b[39m \u001b[39m \u001b[39m \u001b[39m \u001b[39m \u001b[39m \u001b[39m \u001b[39m \u001b[39m \u001b[39m \u001b[39m \u001b[39m▂\u001b[39m▄\u001b[39m█\u001b[39m▂\u001b[34m \u001b[39m\u001b[39m \u001b[39m \u001b[39m \u001b[39m \u001b[39m \u001b[32m \u001b[39m\u001b[39m \u001b[39m \u001b[39m \u001b[39m \u001b[39m \u001b[39m \u001b[39m \u001b[39m \u001b[39m \u001b[39m \u001b[39m \u001b[39m \u001b[39m \u001b[39m \u001b[39m \u001b[39m \u001b[39m \u001b[39m \u001b[39m \u001b[39m \u001b[39m \u001b[39m \u001b[39m \u001b[39m \u001b[39m \u001b[39m \u001b[39m \u001b[39m \u001b[39m \u001b[39m \u001b[39m \u001b[39m \u001b[39m \u001b[39m \u001b[39m \u001b[39m \u001b[39m \u001b[39m \u001b[39m \u001b[39m \n",
       "  \u001b[39m▁\u001b[39m▂\u001b[39m▂\u001b[39m▂\u001b[39m▂\u001b[39m▃\u001b[39m▃\u001b[39m▂\u001b[39m▂\u001b[39m▂\u001b[39m▄\u001b[39m█\u001b[39m█\u001b[39m█\u001b[39m█\u001b[34m▆\u001b[39m\u001b[39m▄\u001b[39m▄\u001b[39m▄\u001b[39m▅\u001b[39m▅\u001b[32m▅\u001b[39m\u001b[39m▅\u001b[39m▅\u001b[39m▄\u001b[39m▄\u001b[39m▃\u001b[39m▃\u001b[39m▃\u001b[39m▃\u001b[39m▃\u001b[39m▃\u001b[39m▃\u001b[39m▂\u001b[39m▂\u001b[39m▂\u001b[39m▂\u001b[39m▂\u001b[39m▂\u001b[39m▂\u001b[39m▁\u001b[39m▂\u001b[39m▁\u001b[39m▁\u001b[39m▁\u001b[39m▁\u001b[39m▁\u001b[39m▁\u001b[39m▁\u001b[39m▁\u001b[39m▁\u001b[39m▁\u001b[39m▁\u001b[39m▁\u001b[39m▁\u001b[39m▁\u001b[39m▁\u001b[39m▁\u001b[39m▁\u001b[39m▁\u001b[39m \u001b[39m▂\n",
       "  39.5 μs\u001b[90m         Histogram: frequency by time\u001b[39m          191 μs \u001b[0m\u001b[1m<\u001b[22m\n",
       "\n",
       " Memory estimate\u001b[90m: \u001b[39m\u001b[33m75.88 KiB\u001b[39m, allocs estimate\u001b[90m: \u001b[39m\u001b[33m1004\u001b[39m."
      ]
     },
     "metadata": {},
     "output_type": "display_data"
    }
   ],
   "source": [
    "@benchmark ac2_eff_fused(ac2)"
   ]
  },
  {
   "cell_type": "markdown",
   "metadata": {},
   "source": [
    "## some weird hamiltonian"
   ]
  },
  {
   "cell_type": "code",
   "execution_count": 9,
   "metadata": {},
   "outputs": [],
   "source": [
    "using MAT\n",
    "include(\"haagerup/H3_anyon.jl\")"
   ]
  },
  {
   "cell_type": "code",
   "execution_count": 10,
   "metadata": {},
   "outputs": [],
   "source": [
    "fmps_len = 10;\n",
    "middle_site = Int(round(fmps_len/2))\n",
    "\n",
    "physical = Vect[H3](H3(4)=>1);\n",
    "virtual = Vect[H3](sector => 20 for sector in TensorKit.SectorValues{H3}());\n",
    "ts = FiniteMPS(rand,ComplexF64,fmps_len,physical,virtual);\n",
    "\n",
    "mpotensor = TensorMap(ones,ComplexF64,physical*physical,physical*physical);\n",
    "blocks(mpotensor)[H3(1)]*=0;\n",
    "blocks(mpotensor)[H3(5)]*=0;\n",
    "blocks(mpotensor)[H3(6)]*=0;\n",
    "th_orig = MPOHamiltonian(-mpotensor);\n",
    "th_fused = convert(FusedMPOHamiltonian,repeat(th_orig,length(ts)));\n",
    "\n",
    "env_orig = environments(ts,th_orig);\n",
    "env_fused = environments(ts,th_fused);\n",
    "\n",
    "ac = ts.AC[middle_site]\n",
    "ac_eff_orig = MPSKit.∂∂AC(middle_site,ts,th_orig,env_orig);\n",
    "ac_eff_fused = MPSKit.∂∂AC(middle_site,ts,th_fused,env_fused);\n",
    "\n",
    "\n",
    "ac2 = ts.AC[middle_site]*MPSKit._transpose_tail(ts.AR[middle_site+1])\n",
    "ac2_eff_orig = MPSKit.∂∂AC2(middle_site,ts,th_orig,env_orig);\n",
    "ac2_eff_fused = MPSKit.∂∂AC2(middle_site,ts,th_fused,env_fused);"
   ]
  },
  {
   "cell_type": "code",
   "execution_count": 11,
   "metadata": {},
   "outputs": [
    {
     "data": {
      "text/plain": [
       "BenchmarkTools.Trial: 747 samples with 1 evaluation.\n",
       " Range \u001b[90m(\u001b[39m\u001b[36m\u001b[1mmin\u001b[22m\u001b[39m … \u001b[35mmax\u001b[39m\u001b[90m):  \u001b[39m\u001b[36m\u001b[1m3.480 ms\u001b[22m\u001b[39m … \u001b[35m28.923 ms\u001b[39m  \u001b[90m┊\u001b[39m GC \u001b[90m(\u001b[39mmin … max\u001b[90m): \u001b[39m 0.00% … 75.71%\n",
       " Time  \u001b[90m(\u001b[39m\u001b[34m\u001b[1mmedian\u001b[22m\u001b[39m\u001b[90m):     \u001b[39m\u001b[34m\u001b[1m4.967 ms              \u001b[22m\u001b[39m\u001b[90m┊\u001b[39m GC \u001b[90m(\u001b[39mmedian\u001b[90m):    \u001b[39m 0.00%\n",
       " Time  \u001b[90m(\u001b[39m\u001b[32m\u001b[1mmean\u001b[22m\u001b[39m ± \u001b[32mσ\u001b[39m\u001b[90m):   \u001b[39m\u001b[32m\u001b[1m6.684 ms\u001b[22m\u001b[39m ± \u001b[32m 4.785 ms\u001b[39m  \u001b[90m┊\u001b[39m GC \u001b[90m(\u001b[39mmean ± σ\u001b[90m):  \u001b[39m24.63% ± 23.09%\n",
       "\n",
       "  \u001b[39m \u001b[39m▁\u001b[39m▄\u001b[39m█\u001b[39m█\u001b[34m▄\u001b[39m\u001b[39m▁\u001b[39m \u001b[39m \u001b[39m \u001b[32m \u001b[39m\u001b[39m \u001b[39m \u001b[39m \u001b[39m \u001b[39m \u001b[39m \u001b[39m \u001b[39m \u001b[39m \u001b[39m \u001b[39m \u001b[39m \u001b[39m \u001b[39m \u001b[39m \u001b[39m \u001b[39m \u001b[39m \u001b[39m \u001b[39m \u001b[39m \u001b[39m \u001b[39m \u001b[39m \u001b[39m \u001b[39m \u001b[39m \u001b[39m \u001b[39m \u001b[39m \u001b[39m \u001b[39m \u001b[39m \u001b[39m \u001b[39m \u001b[39m \u001b[39m \u001b[39m \u001b[39m \u001b[39m \u001b[39m \u001b[39m \u001b[39m \u001b[39m \u001b[39m \u001b[39m \u001b[39m \u001b[39m \u001b[39m \n",
       "  \u001b[39m▄\u001b[39m█\u001b[39m█\u001b[39m█\u001b[39m█\u001b[34m█\u001b[39m\u001b[39m█\u001b[39m▅\u001b[39m▄\u001b[39m▄\u001b[32m▂\u001b[39m\u001b[39m▂\u001b[39m▂\u001b[39m▂\u001b[39m▂\u001b[39m▂\u001b[39m▂\u001b[39m▂\u001b[39m▂\u001b[39m▁\u001b[39m▁\u001b[39m▁\u001b[39m▂\u001b[39m▁\u001b[39m▁\u001b[39m▁\u001b[39m▁\u001b[39m▁\u001b[39m▁\u001b[39m▁\u001b[39m▁\u001b[39m▁\u001b[39m▁\u001b[39m▁\u001b[39m▁\u001b[39m▁\u001b[39m▁\u001b[39m▁\u001b[39m▁\u001b[39m▁\u001b[39m▂\u001b[39m▂\u001b[39m▂\u001b[39m▃\u001b[39m▃\u001b[39m▃\u001b[39m▃\u001b[39m▃\u001b[39m▃\u001b[39m▂\u001b[39m▃\u001b[39m▂\u001b[39m▂\u001b[39m▂\u001b[39m▂\u001b[39m▁\u001b[39m▁\u001b[39m▂\u001b[39m \u001b[39m▃\n",
       "  3.48 ms\u001b[90m        Histogram: frequency by time\u001b[39m        22.3 ms \u001b[0m\u001b[1m<\u001b[22m\n",
       "\n",
       " Memory estimate\u001b[90m: \u001b[39m\u001b[33m6.93 MiB\u001b[39m, allocs estimate\u001b[90m: \u001b[39m\u001b[33m52565\u001b[39m."
      ]
     },
     "metadata": {},
     "output_type": "display_data"
    }
   ],
   "source": [
    "@benchmark ac_eff_orig(ac)"
   ]
  },
  {
   "cell_type": "code",
   "execution_count": 12,
   "metadata": {},
   "outputs": [
    {
     "data": {
      "text/plain": [
       "BenchmarkTools.Trial: 7108 samples with 1 evaluation.\n",
       " Range \u001b[90m(\u001b[39m\u001b[36m\u001b[1mmin\u001b[22m\u001b[39m … \u001b[35mmax\u001b[39m\u001b[90m):  \u001b[39m\u001b[36m\u001b[1m463.256 μs\u001b[22m\u001b[39m … \u001b[35m 16.480 ms\u001b[39m  \u001b[90m┊\u001b[39m GC \u001b[90m(\u001b[39mmin … max\u001b[90m): \u001b[39m0.00% … 92.75%\n",
       " Time  \u001b[90m(\u001b[39m\u001b[34m\u001b[1mmedian\u001b[22m\u001b[39m\u001b[90m):     \u001b[39m\u001b[34m\u001b[1m618.374 μs               \u001b[22m\u001b[39m\u001b[90m┊\u001b[39m GC \u001b[90m(\u001b[39mmedian\u001b[90m):    \u001b[39m0.00%\n",
       " Time  \u001b[90m(\u001b[39m\u001b[32m\u001b[1mmean\u001b[22m\u001b[39m ± \u001b[32mσ\u001b[39m\u001b[90m):   \u001b[39m\u001b[32m\u001b[1m696.599 μs\u001b[22m\u001b[39m ± \u001b[32m685.468 μs\u001b[39m  \u001b[90m┊\u001b[39m GC \u001b[90m(\u001b[39mmean ± σ\u001b[90m):  \u001b[39m4.42% ±  4.40%\n",
       "\n",
       "  \u001b[39m \u001b[39m \u001b[39m▁\u001b[39m▄\u001b[39m▆\u001b[39m█\u001b[39m█\u001b[39m▆\u001b[39m▄\u001b[39m▂\u001b[39m▂\u001b[39m \u001b[39m \u001b[39m \u001b[34m \u001b[39m\u001b[39m \u001b[39m \u001b[39m \u001b[39m \u001b[39m \u001b[39m \u001b[39m \u001b[32m \u001b[39m\u001b[39m \u001b[39m \u001b[39m \u001b[39m▁\u001b[39m \u001b[39m▁\u001b[39m▁\u001b[39m \u001b[39m \u001b[39m \u001b[39m \u001b[39m \u001b[39m \u001b[39m \u001b[39m \u001b[39m \u001b[39m \u001b[39m \u001b[39m \u001b[39m \u001b[39m \u001b[39m \u001b[39m \u001b[39m \u001b[39m \u001b[39m \u001b[39m \u001b[39m \u001b[39m \u001b[39m \u001b[39m \u001b[39m \u001b[39m \u001b[39m \u001b[39m \u001b[39m \u001b[39m \u001b[39m \u001b[39m \u001b[39m \n",
       "  \u001b[39m▅\u001b[39m█\u001b[39m█\u001b[39m█\u001b[39m█\u001b[39m█\u001b[39m█\u001b[39m█\u001b[39m█\u001b[39m█\u001b[39m█\u001b[39m█\u001b[39m▇\u001b[39m▅\u001b[34m▆\u001b[39m\u001b[39m▅\u001b[39m▄\u001b[39m▃\u001b[39m▃\u001b[39m▃\u001b[39m▃\u001b[39m▄\u001b[32m▄\u001b[39m\u001b[39m▄\u001b[39m▆\u001b[39m▇\u001b[39m█\u001b[39m█\u001b[39m█\u001b[39m█\u001b[39m█\u001b[39m█\u001b[39m█\u001b[39m▆\u001b[39m▆\u001b[39m▄\u001b[39m▄\u001b[39m▃\u001b[39m▄\u001b[39m▄\u001b[39m▃\u001b[39m▃\u001b[39m▃\u001b[39m▂\u001b[39m▂\u001b[39m▂\u001b[39m▂\u001b[39m▂\u001b[39m▂\u001b[39m▂\u001b[39m▂\u001b[39m▂\u001b[39m▁\u001b[39m▁\u001b[39m▁\u001b[39m▁\u001b[39m▁\u001b[39m▁\u001b[39m▁\u001b[39m▁\u001b[39m▁\u001b[39m \u001b[39m▄\n",
       "  463 μs\u001b[90m           Histogram: frequency by time\u001b[39m         1.12 ms \u001b[0m\u001b[1m<\u001b[22m\n",
       "\n",
       " Memory estimate\u001b[90m: \u001b[39m\u001b[33m405.84 KiB\u001b[39m, allocs estimate\u001b[90m: \u001b[39m\u001b[33m1702\u001b[39m."
      ]
     },
     "metadata": {},
     "output_type": "display_data"
    }
   ],
   "source": [
    "@benchmark ac_eff_fused(ac)"
   ]
  },
  {
   "cell_type": "code",
   "execution_count": 13,
   "metadata": {},
   "outputs": [
    {
     "data": {
      "text/plain": [
       "BenchmarkTools.Trial: 266 samples with 1 evaluation.\n",
       " Range \u001b[90m(\u001b[39m\u001b[36m\u001b[1mmin\u001b[22m\u001b[39m … \u001b[35mmax\u001b[39m\u001b[90m):  \u001b[39m\u001b[36m\u001b[1m12.984 ms\u001b[22m\u001b[39m … \u001b[35m36.734 ms\u001b[39m  \u001b[90m┊\u001b[39m GC \u001b[90m(\u001b[39mmin … max\u001b[90m): \u001b[39m 0.00% … 57.73%\n",
       " Time  \u001b[90m(\u001b[39m\u001b[34m\u001b[1mmedian\u001b[22m\u001b[39m\u001b[90m):     \u001b[39m\u001b[34m\u001b[1m14.589 ms              \u001b[22m\u001b[39m\u001b[90m┊\u001b[39m GC \u001b[90m(\u001b[39mmedian\u001b[90m):    \u001b[39m 0.00%\n",
       " Time  \u001b[90m(\u001b[39m\u001b[32m\u001b[1mmean\u001b[22m\u001b[39m ± \u001b[32mσ\u001b[39m\u001b[90m):   \u001b[39m\u001b[32m\u001b[1m18.823 ms\u001b[22m\u001b[39m ± \u001b[32m 8.341 ms\u001b[39m  \u001b[90m┊\u001b[39m GC \u001b[90m(\u001b[39mmean ± σ\u001b[90m):  \u001b[39m22.97% ± 23.63%\n",
       "\n",
       "  \u001b[39m \u001b[39m▃\u001b[39m█\u001b[39m█\u001b[34m▂\u001b[39m\u001b[39m▃\u001b[39m \u001b[39m \u001b[39m \u001b[39m \u001b[39m \u001b[39m \u001b[39m \u001b[39m \u001b[39m \u001b[32m \u001b[39m\u001b[39m \u001b[39m \u001b[39m \u001b[39m \u001b[39m \u001b[39m \u001b[39m \u001b[39m \u001b[39m \u001b[39m \u001b[39m \u001b[39m \u001b[39m \u001b[39m \u001b[39m \u001b[39m \u001b[39m \u001b[39m \u001b[39m \u001b[39m \u001b[39m \u001b[39m \u001b[39m \u001b[39m \u001b[39m \u001b[39m \u001b[39m \u001b[39m \u001b[39m \u001b[39m \u001b[39m \u001b[39m \u001b[39m \u001b[39m \u001b[39m \u001b[39m \u001b[39m \u001b[39m \u001b[39m \u001b[39m \u001b[39m \u001b[39m \u001b[39m \u001b[39m \u001b[39m \n",
       "  \u001b[39m▅\u001b[39m█\u001b[39m█\u001b[39m█\u001b[34m█\u001b[39m\u001b[39m█\u001b[39m▆\u001b[39m▄\u001b[39m▂\u001b[39m▁\u001b[39m▁\u001b[39m▁\u001b[39m▁\u001b[39m▁\u001b[39m▁\u001b[32m▁\u001b[39m\u001b[39m▁\u001b[39m▁\u001b[39m▁\u001b[39m▁\u001b[39m▁\u001b[39m▁\u001b[39m▁\u001b[39m▁\u001b[39m▁\u001b[39m▁\u001b[39m▁\u001b[39m▁\u001b[39m▁\u001b[39m▁\u001b[39m▁\u001b[39m▁\u001b[39m▁\u001b[39m▁\u001b[39m▁\u001b[39m▁\u001b[39m▁\u001b[39m▁\u001b[39m▁\u001b[39m▁\u001b[39m▁\u001b[39m▁\u001b[39m▁\u001b[39m▁\u001b[39m▁\u001b[39m▂\u001b[39m▁\u001b[39m▁\u001b[39m▁\u001b[39m▃\u001b[39m▄\u001b[39m▃\u001b[39m▅\u001b[39m▄\u001b[39m▄\u001b[39m▄\u001b[39m▂\u001b[39m▃\u001b[39m▃\u001b[39m \u001b[39m▃\n",
       "  13 ms\u001b[90m           Histogram: frequency by time\u001b[39m        36.5 ms \u001b[0m\u001b[1m<\u001b[22m\n",
       "\n",
       " Memory estimate\u001b[90m: \u001b[39m\u001b[33m33.43 MiB\u001b[39m, allocs estimate\u001b[90m: \u001b[39m\u001b[33m324725\u001b[39m."
      ]
     },
     "metadata": {},
     "output_type": "display_data"
    }
   ],
   "source": [
    "@benchmark ac2_eff_orig(ac2)"
   ]
  },
  {
   "cell_type": "code",
   "execution_count": 14,
   "metadata": {},
   "outputs": [
    {
     "data": {
      "text/plain": [
       "BenchmarkTools.Trial: 4869 samples with 1 evaluation.\n",
       " Range \u001b[90m(\u001b[39m\u001b[36m\u001b[1mmin\u001b[22m\u001b[39m … \u001b[35mmax\u001b[39m\u001b[90m):  \u001b[39m\u001b[36m\u001b[1m804.375 μs\u001b[22m\u001b[39m … \u001b[35m21.560 ms\u001b[39m  \u001b[90m┊\u001b[39m GC \u001b[90m(\u001b[39mmin … max\u001b[90m): \u001b[39m0.00% … 90.57%\n",
       " Time  \u001b[90m(\u001b[39m\u001b[34m\u001b[1mmedian\u001b[22m\u001b[39m\u001b[90m):     \u001b[39m\u001b[34m\u001b[1m897.784 μs              \u001b[22m\u001b[39m\u001b[90m┊\u001b[39m GC \u001b[90m(\u001b[39mmedian\u001b[90m):    \u001b[39m0.00%\n",
       " Time  \u001b[90m(\u001b[39m\u001b[32m\u001b[1mmean\u001b[22m\u001b[39m ± \u001b[32mσ\u001b[39m\u001b[90m):   \u001b[39m\u001b[32m\u001b[1m  1.017 ms\u001b[22m\u001b[39m ± \u001b[32m 1.048 ms\u001b[39m  \u001b[90m┊\u001b[39m GC \u001b[90m(\u001b[39mmean ± σ\u001b[90m):  \u001b[39m6.60% ±  6.10%\n",
       "\n",
       "  \u001b[39m \u001b[39m \u001b[39m▅\u001b[39m▇\u001b[39m█\u001b[39m▅\u001b[34m▃\u001b[39m\u001b[39m▁\u001b[39m \u001b[39m \u001b[39m \u001b[39m \u001b[39m \u001b[39m \u001b[32m \u001b[39m\u001b[39m \u001b[39m \u001b[39m \u001b[39m \u001b[39m \u001b[39m \u001b[39m \u001b[39m \u001b[39m \u001b[39m \u001b[39m \u001b[39m \u001b[39m \u001b[39m \u001b[39m \u001b[39m \u001b[39m \u001b[39m \u001b[39m \u001b[39m \u001b[39m \u001b[39m \u001b[39m \u001b[39m \u001b[39m \u001b[39m \u001b[39m \u001b[39m \u001b[39m \u001b[39m \u001b[39m \u001b[39m \u001b[39m \u001b[39m \u001b[39m \u001b[39m \u001b[39m \u001b[39m \u001b[39m \u001b[39m \u001b[39m \u001b[39m \u001b[39m \u001b[39m \u001b[39m \u001b[39m \u001b[39m \n",
       "  \u001b[39m▅\u001b[39m█\u001b[39m█\u001b[39m█\u001b[39m█\u001b[39m█\u001b[34m█\u001b[39m\u001b[39m█\u001b[39m▇\u001b[39m▇\u001b[39m▅\u001b[39m▅\u001b[39m▅\u001b[39m▄\u001b[32m▄\u001b[39m\u001b[39m▄\u001b[39m▃\u001b[39m▃\u001b[39m▃\u001b[39m▃\u001b[39m▃\u001b[39m▃\u001b[39m▃\u001b[39m▃\u001b[39m▃\u001b[39m▃\u001b[39m▃\u001b[39m▃\u001b[39m▃\u001b[39m▂\u001b[39m▂\u001b[39m▂\u001b[39m▂\u001b[39m▂\u001b[39m▂\u001b[39m▂\u001b[39m▂\u001b[39m▂\u001b[39m▂\u001b[39m▂\u001b[39m▂\u001b[39m▂\u001b[39m▂\u001b[39m▂\u001b[39m▂\u001b[39m▂\u001b[39m▂\u001b[39m▂\u001b[39m▂\u001b[39m▂\u001b[39m▂\u001b[39m▂\u001b[39m▂\u001b[39m▂\u001b[39m▂\u001b[39m▁\u001b[39m▁\u001b[39m▂\u001b[39m▂\u001b[39m▂\u001b[39m \u001b[39m▃\n",
       "  804 μs\u001b[90m          Histogram: frequency by time\u001b[39m         1.74 ms \u001b[0m\u001b[1m<\u001b[22m\n",
       "\n",
       " Memory estimate\u001b[90m: \u001b[39m\u001b[33m377.53 KiB\u001b[39m, allocs estimate\u001b[90m: \u001b[39m\u001b[33m4019\u001b[39m."
      ]
     },
     "metadata": {},
     "output_type": "display_data"
    }
   ],
   "source": [
    "@benchmark ac2_eff_fused(ac2)"
   ]
  },
  {
   "cell_type": "markdown",
   "metadata": {},
   "source": [
    "## manueel\n",
    "\n",
    "manually written out @tensor, compared to a version that used DelayedFact & friends. The whole recycling of intermediaries becomes mostly important when multithreading, so not very applicable here."
   ]
  },
  {
   "cell_type": "code",
   "execution_count": 15,
   "metadata": {},
   "outputs": [],
   "source": [
    "using MPSKitExperimental:DelayedFact,TransposeFact,free!"
   ]
  },
  {
   "cell_type": "code",
   "execution_count": 16,
   "metadata": {},
   "outputs": [
    {
     "data": {
      "text/plain": [
       "BenchmarkTools.Trial: 5192 samples with 1 evaluation.\n",
       " Range \u001b[90m(\u001b[39m\u001b[36m\u001b[1mmin\u001b[22m\u001b[39m … \u001b[35mmax\u001b[39m\u001b[90m):  \u001b[39m\u001b[36m\u001b[1m548.926 μs\u001b[22m\u001b[39m … \u001b[35m14.786 ms\u001b[39m  \u001b[90m┊\u001b[39m GC \u001b[90m(\u001b[39mmin … max\u001b[90m): \u001b[39m 0.00% … 90.50%\n",
       " Time  \u001b[90m(\u001b[39m\u001b[34m\u001b[1mmedian\u001b[22m\u001b[39m\u001b[90m):     \u001b[39m\u001b[34m\u001b[1m704.005 μs              \u001b[22m\u001b[39m\u001b[90m┊\u001b[39m GC \u001b[90m(\u001b[39mmedian\u001b[90m):    \u001b[39m 0.00%\n",
       " Time  \u001b[90m(\u001b[39m\u001b[32m\u001b[1mmean\u001b[22m\u001b[39m ± \u001b[32mσ\u001b[39m\u001b[90m):   \u001b[39m\u001b[32m\u001b[1m955.215 μs\u001b[22m\u001b[39m ± \u001b[32m 1.664 ms\u001b[39m  \u001b[90m┊\u001b[39m GC \u001b[90m(\u001b[39mmean ± σ\u001b[90m):  \u001b[39m23.67% ± 12.61%\n",
       "\n",
       "  \u001b[39m█\u001b[34m▇\u001b[39m\u001b[32m▄\u001b[39m\u001b[39m \u001b[39m \u001b[39m \u001b[39m \u001b[39m \u001b[39m \u001b[39m \u001b[39m \u001b[39m \u001b[39m \u001b[39m \u001b[39m \u001b[39m \u001b[39m \u001b[39m \u001b[39m \u001b[39m \u001b[39m \u001b[39m \u001b[39m \u001b[39m \u001b[39m \u001b[39m \u001b[39m \u001b[39m \u001b[39m \u001b[39m \u001b[39m \u001b[39m \u001b[39m \u001b[39m \u001b[39m \u001b[39m \u001b[39m \u001b[39m \u001b[39m \u001b[39m \u001b[39m \u001b[39m \u001b[39m \u001b[39m \u001b[39m \u001b[39m \u001b[39m \u001b[39m \u001b[39m \u001b[39m \u001b[39m \u001b[39m \u001b[39m \u001b[39m \u001b[39m \u001b[39m \u001b[39m \u001b[39m \u001b[39m \u001b[39m \u001b[39m \u001b[39m▁\n",
       "  \u001b[39m█\u001b[34m█\u001b[39m\u001b[32m█\u001b[39m\u001b[39m█\u001b[39m▄\u001b[39m▁\u001b[39m▁\u001b[39m▁\u001b[39m▁\u001b[39m▁\u001b[39m▁\u001b[39m▁\u001b[39m▁\u001b[39m▁\u001b[39m▁\u001b[39m▁\u001b[39m▁\u001b[39m▁\u001b[39m▁\u001b[39m▁\u001b[39m▁\u001b[39m▁\u001b[39m▁\u001b[39m▁\u001b[39m▁\u001b[39m▁\u001b[39m▁\u001b[39m▁\u001b[39m▁\u001b[39m▁\u001b[39m▁\u001b[39m▁\u001b[39m▁\u001b[39m▁\u001b[39m▁\u001b[39m▁\u001b[39m▁\u001b[39m▁\u001b[39m▁\u001b[39m▁\u001b[39m▁\u001b[39m▁\u001b[39m▁\u001b[39m▁\u001b[39m▁\u001b[39m▁\u001b[39m▁\u001b[39m▁\u001b[39m▁\u001b[39m▁\u001b[39m▁\u001b[39m▁\u001b[39m▁\u001b[39m▁\u001b[39m▁\u001b[39m▃\u001b[39m▄\u001b[39m▆\u001b[39m▇\u001b[39m▇\u001b[39m \u001b[39m█\n",
       "  549 μs\u001b[90m        \u001b[39m\u001b[90mHistogram: \u001b[39m\u001b[90m\u001b[1mlog(\u001b[22m\u001b[39m\u001b[90mfrequency\u001b[39m\u001b[90m\u001b[1m)\u001b[22m\u001b[39m\u001b[90m by time\u001b[39m      12.5 ms \u001b[0m\u001b[1m<\u001b[22m\n",
       "\n",
       " Memory estimate\u001b[90m: \u001b[39m\u001b[33m974.44 KiB\u001b[39m, allocs estimate\u001b[90m: \u001b[39m\u001b[33m4094\u001b[39m."
      ]
     },
     "metadata": {},
     "output_type": "display_data"
    }
   ],
   "source": [
    "virtual = Rep[SU₂](i => 20 for i in 0:10);\n",
    "physical = Rep[SU₂](1=>1)\n",
    "\n",
    "ac = TensorMap(rand,ComplexF64,virtual*physical,virtual)\n",
    "\n",
    "fun = let        \n",
    "    e = transpose(TensorMap(rand,ComplexF64,oneunit(physical)*physical,physical*oneunit(physical)),(1,),(3,4,2))\n",
    "    l = transpose(TensorMap(rand,ComplexF64,virtual*oneunit(physical)',virtual),(3,1),(2,))\n",
    "    le = transpose(l*e,(2,5,4),(1,3))\n",
    "\n",
    "    r = TensorMap(rand,ComplexF64,virtual*oneunit(physical),virtual)\n",
    "\n",
    "\n",
    "    function tobench(x)\n",
    "        @plansor y[-1 -2;-3] := le[-1 -2 5;2 3]*x[2 3;4]*r[4 5;-3]\n",
    "    end\n",
    "end\n",
    "\n",
    "@benchmark fun(ac)"
   ]
  },
  {
   "cell_type": "code",
   "execution_count": 17,
   "metadata": {},
   "outputs": [
    {
     "data": {
      "text/plain": [
       "BenchmarkTools.Trial: 6814 samples with 1 evaluation.\n",
       " Range \u001b[90m(\u001b[39m\u001b[36m\u001b[1mmin\u001b[22m\u001b[39m … \u001b[35mmax\u001b[39m\u001b[90m):  \u001b[39m\u001b[36m\u001b[1m457.697 μs\u001b[22m\u001b[39m … \u001b[35m13.747 ms\u001b[39m  \u001b[90m┊\u001b[39m GC \u001b[90m(\u001b[39mmin … max\u001b[90m): \u001b[39m 0.00% … 91.21%\n",
       " Time  \u001b[90m(\u001b[39m\u001b[34m\u001b[1mmedian\u001b[22m\u001b[39m\u001b[90m):     \u001b[39m\u001b[34m\u001b[1m523.471 μs              \u001b[22m\u001b[39m\u001b[90m┊\u001b[39m GC \u001b[90m(\u001b[39mmedian\u001b[90m):    \u001b[39m 0.00%\n",
       " Time  \u001b[90m(\u001b[39m\u001b[32m\u001b[1mmean\u001b[22m\u001b[39m ± \u001b[32mσ\u001b[39m\u001b[90m):   \u001b[39m\u001b[32m\u001b[1m725.849 μs\u001b[22m\u001b[39m ± \u001b[32m 1.418 ms\u001b[39m  \u001b[90m┊\u001b[39m GC \u001b[90m(\u001b[39mmean ± σ\u001b[90m):  \u001b[39m23.83% ± 11.48%\n",
       "\n",
       "  \u001b[34m█\u001b[39m\u001b[32m▄\u001b[39m\u001b[39m \u001b[39m \u001b[39m \u001b[39m \u001b[39m \u001b[39m \u001b[39m \u001b[39m \u001b[39m \u001b[39m \u001b[39m \u001b[39m \u001b[39m \u001b[39m \u001b[39m \u001b[39m \u001b[39m \u001b[39m \u001b[39m \u001b[39m \u001b[39m \u001b[39m \u001b[39m \u001b[39m \u001b[39m \u001b[39m \u001b[39m \u001b[39m \u001b[39m \u001b[39m \u001b[39m \u001b[39m \u001b[39m \u001b[39m \u001b[39m \u001b[39m \u001b[39m \u001b[39m \u001b[39m \u001b[39m \u001b[39m \u001b[39m \u001b[39m \u001b[39m \u001b[39m \u001b[39m \u001b[39m \u001b[39m \u001b[39m \u001b[39m \u001b[39m \u001b[39m \u001b[39m \u001b[39m \u001b[39m \u001b[39m \u001b[39m \u001b[39m \u001b[39m \u001b[39m▁\n",
       "  \u001b[34m█\u001b[39m\u001b[32m█\u001b[39m\u001b[39m█\u001b[39m▆\u001b[39m▁\u001b[39m▁\u001b[39m▁\u001b[39m▁\u001b[39m▁\u001b[39m▁\u001b[39m▁\u001b[39m▁\u001b[39m▁\u001b[39m▁\u001b[39m▁\u001b[39m▁\u001b[39m▁\u001b[39m▁\u001b[39m▁\u001b[39m▁\u001b[39m▁\u001b[39m▁\u001b[39m▁\u001b[39m▁\u001b[39m▁\u001b[39m▁\u001b[39m▁\u001b[39m▁\u001b[39m▁\u001b[39m▁\u001b[39m▁\u001b[39m▁\u001b[39m▁\u001b[39m▁\u001b[39m▁\u001b[39m▁\u001b[39m▁\u001b[39m▁\u001b[39m▁\u001b[39m▁\u001b[39m▁\u001b[39m▁\u001b[39m▁\u001b[39m▁\u001b[39m▁\u001b[39m▁\u001b[39m▁\u001b[39m▁\u001b[39m▁\u001b[39m▁\u001b[39m▁\u001b[39m▁\u001b[39m▁\u001b[39m▁\u001b[39m▁\u001b[39m▁\u001b[39m▁\u001b[39m▅\u001b[39m▆\u001b[39m▇\u001b[39m \u001b[39m█\n",
       "  458 μs\u001b[90m        \u001b[39m\u001b[90mHistogram: \u001b[39m\u001b[90m\u001b[1mlog(\u001b[22m\u001b[39m\u001b[90mfrequency\u001b[39m\u001b[90m\u001b[1m)\u001b[22m\u001b[39m\u001b[90m by time\u001b[39m      11.6 ms \u001b[0m\u001b[1m<\u001b[22m\n",
       "\n",
       " Memory estimate\u001b[90m: \u001b[39m\u001b[33m771.36 KiB\u001b[39m, allocs estimate\u001b[90m: \u001b[39m\u001b[33m2589\u001b[39m."
      ]
     },
     "metadata": {},
     "output_type": "display_data"
    }
   ],
   "source": [
    "virtual = Rep[SU₂](i => 20 for i in 0:10);\n",
    "physical = Rep[SU₂](1=>1)\n",
    "\n",
    "ac = TensorMap(rand,ComplexF64,virtual*physical,virtual)\n",
    "\n",
    "fun = let        \n",
    "    e = transpose(TensorMap(rand,ComplexF64,oneunit(physical)*physical,physical*oneunit(physical)),(1,),(3,4,2))\n",
    "    l = transpose(TensorMap(rand,ComplexF64,virtual*oneunit(physical)',virtual),(3,1),(2,))\n",
    "    le = transpose(l*e,(2,5,4),(1,3))\n",
    "\n",
    "    r = TensorMap(rand,ComplexF64,virtual*oneunit(physical),virtual)\n",
    "\n",
    "\n",
    "    function tobench(x)\n",
    "\n",
    "        lex = le*x\n",
    "        lex_trans = transpose(lex,(1,2),(4,3))\n",
    "        lex_trans*r\n",
    "    end\n",
    "end\n",
    "\n",
    "@benchmark fun(ac)"
   ]
  },
  {
   "cell_type": "code",
   "execution_count": 18,
   "metadata": {},
   "outputs": [
    {
     "data": {
      "text/plain": [
       "BenchmarkTools.Trial: 10000 samples with 1 evaluation.\n",
       " Range \u001b[90m(\u001b[39m\u001b[36m\u001b[1mmin\u001b[22m\u001b[39m … \u001b[35mmax\u001b[39m\u001b[90m):  \u001b[39m\u001b[36m\u001b[1m233.359 μs\u001b[22m\u001b[39m … \u001b[35m 15.651 ms\u001b[39m  \u001b[90m┊\u001b[39m GC \u001b[90m(\u001b[39mmin … max\u001b[90m): \u001b[39m 0.00% … 94.49%\n",
       " Time  \u001b[90m(\u001b[39m\u001b[34m\u001b[1mmedian\u001b[22m\u001b[39m\u001b[90m):     \u001b[39m\u001b[34m\u001b[1m246.359 μs               \u001b[22m\u001b[39m\u001b[90m┊\u001b[39m GC \u001b[90m(\u001b[39mmedian\u001b[90m):    \u001b[39m 0.00%\n",
       " Time  \u001b[90m(\u001b[39m\u001b[32m\u001b[1mmean\u001b[22m\u001b[39m ± \u001b[32mσ\u001b[39m\u001b[90m):   \u001b[39m\u001b[32m\u001b[1m309.244 μs\u001b[22m\u001b[39m ± \u001b[32m731.047 μs\u001b[39m  \u001b[90m┊\u001b[39m GC \u001b[90m(\u001b[39mmean ± σ\u001b[90m):  \u001b[39m15.04% ±  6.25%\n",
       "\n",
       "  \u001b[39m▄\u001b[39m▇\u001b[39m█\u001b[39m▇\u001b[34m▆\u001b[39m\u001b[39m▅\u001b[39m▄\u001b[39m▄\u001b[39m▄\u001b[39m▄\u001b[39m▄\u001b[39m▄\u001b[39m▄\u001b[39m▄\u001b[39m▃\u001b[39m▃\u001b[39m▃\u001b[39m▂\u001b[39m▂\u001b[39m▂\u001b[39m▂\u001b[39m▁\u001b[39m▁\u001b[39m▁\u001b[39m▁\u001b[32m▁\u001b[39m\u001b[39m▁\u001b[39m \u001b[39m \u001b[39m \u001b[39m \u001b[39m \u001b[39m \u001b[39m \u001b[39m \u001b[39m \u001b[39m \u001b[39m \u001b[39m \u001b[39m \u001b[39m \u001b[39m \u001b[39m \u001b[39m \u001b[39m \u001b[39m \u001b[39m \u001b[39m \u001b[39m \u001b[39m \u001b[39m \u001b[39m \u001b[39m \u001b[39m \u001b[39m \u001b[39m \u001b[39m \u001b[39m \u001b[39m \u001b[39m \u001b[39m \u001b[39m \u001b[39m▂\n",
       "  \u001b[39m█\u001b[39m█\u001b[39m█\u001b[39m█\u001b[34m█\u001b[39m\u001b[39m█\u001b[39m█\u001b[39m█\u001b[39m█\u001b[39m█\u001b[39m█\u001b[39m█\u001b[39m█\u001b[39m█\u001b[39m█\u001b[39m█\u001b[39m█\u001b[39m█\u001b[39m█\u001b[39m█\u001b[39m█\u001b[39m█\u001b[39m█\u001b[39m█\u001b[39m█\u001b[32m█\u001b[39m\u001b[39m█\u001b[39m█\u001b[39m█\u001b[39m█\u001b[39m█\u001b[39m█\u001b[39m▇\u001b[39m█\u001b[39m█\u001b[39m▇\u001b[39m█\u001b[39m█\u001b[39m█\u001b[39m█\u001b[39m▇\u001b[39m▇\u001b[39m█\u001b[39m▇\u001b[39m▆\u001b[39m▇\u001b[39m▇\u001b[39m▆\u001b[39m▆\u001b[39m▇\u001b[39m▅\u001b[39m▆\u001b[39m▅\u001b[39m▆\u001b[39m▆\u001b[39m▅\u001b[39m▆\u001b[39m▆\u001b[39m▃\u001b[39m▅\u001b[39m▄\u001b[39m \u001b[39m█\n",
       "  233 μs\u001b[90m        \u001b[39m\u001b[90mHistogram: \u001b[39m\u001b[90m\u001b[1mlog(\u001b[22m\u001b[39m\u001b[90mfrequency\u001b[39m\u001b[90m\u001b[1m)\u001b[22m\u001b[39m\u001b[90m by time\u001b[39m        419 μs \u001b[0m\u001b[1m<\u001b[22m\n",
       "\n",
       " Memory estimate\u001b[90m: \u001b[39m\u001b[33m198.03 KiB\u001b[39m, allocs estimate\u001b[90m: \u001b[39m\u001b[33m227\u001b[39m."
      ]
     },
     "metadata": {},
     "output_type": "display_data"
    }
   ],
   "source": [
    "virtual = Rep[SU₂](i => 20 for i in 0:10);\n",
    "physical = Rep[SU₂](1=>1)\n",
    "\n",
    "ac = TensorMap(rand,ComplexF64,virtual*physical,virtual)\n",
    "\n",
    "fun = let        \n",
    "    e = transpose(TensorMap(rand,ComplexF64,oneunit(physical)*physical,physical*oneunit(physical)),(1,),(3,4,2))\n",
    "    l = transpose(TensorMap(rand,ComplexF64,virtual*oneunit(physical)',virtual),(3,1),(2,))\n",
    "    le = transpose(l*e,(2,5,4),(1,3))\n",
    "\n",
    "    r = TensorMap(rand,ComplexF64,virtual*oneunit(physical),virtual)\n",
    "\n",
    "    multfactory_lex = DelayedFact(codomain(le)←virtual,storagetype(r))\n",
    "    transposefactor_lex = TransposeFact(codomain(le)←virtual,storagetype(r),(1,2),(4,3))\n",
    "    multfact_out = DelayedFact(virtual*physical←virtual,storagetype(r))\n",
    "\n",
    "    function tobench(x)\n",
    "        t_1 = multfactory_lex()\n",
    "        mul!(t_1,le,x)\n",
    "\n",
    "        t_2 = transposefactor_lex(t_1)\n",
    "        free!(multfactory_lex,t_1);\n",
    "\n",
    "        y = multfact_out()\n",
    "\n",
    "        mul!(y,t_2,r)\n",
    "\n",
    "        free!(transposefactor_lex,t_2)\n",
    "        y\n",
    "    end\n",
    "end\n",
    "\n",
    "@benchmark fun(ac)"
   ]
  },
  {
   "cell_type": "markdown",
   "metadata": {},
   "source": [
    "## Team Topo"
   ]
  },
  {
   "cell_type": "code",
   "execution_count": 19,
   "metadata": {},
   "outputs": [
    {
     "name": "stdout",
     "output_type": "stream",
     "text": [
      "4\n",
      "tests for n = 3\n"
     ]
    },
    {
     "name": "stdout",
     "output_type": "stream",
     "text": [
      "  15.569 μs (88 allocations: 10.17 KiB)\n"
     ]
    },
    {
     "name": "stdout",
     "output_type": "stream",
     "text": [
      "  114.559 μs (2504 allocations: 169.06 KiB)\n",
      "tests for n = 4\n"
     ]
    },
    {
     "name": "stdout",
     "output_type": "stream",
     "text": [
      "  37.380 μs (126 allocations: 18.50 KiB)\n"
     ]
    },
    {
     "name": "stdout",
     "output_type": "stream",
     "text": [
      "  198.259 μs (4891 allocations: 367.80 KiB)\n",
      "tests for n = 5\n"
     ]
    },
    {
     "name": "stdout",
     "output_type": "stream",
     "text": [
      "  64.930 μs (172 allocations: 33.98 KiB)\n"
     ]
    },
    {
     "name": "stdout",
     "output_type": "stream",
     "text": [
      "  384.678 μs (10019 allocations: 859.91 KiB)\n"
     ]
    }
   ],
   "source": [
    "# original\n",
    "\n",
    "using TensorKit, TensorOperations\n",
    "using BenchmarkTools\n",
    "\n",
    "tensorexpr(name::Symbol, inds) = Expr(:ref, name, inds...)\n",
    "@generated function apply_transfer2(A, x::AbstractTensorMap{S,N,0}) where {S,N}\n",
    "    N > 0 || error(\"undefined behaviour for length 0\")\n",
    "\n",
    "    out_part = tensorexpr(:y, -1:-1:-N)\n",
    "\n",
    "    in_part = Expr(:call, :*, tensorexpr(:x, 1:2:2N), tensorexpr(:A, (2N, -1, 1, 2)))\n",
    "    for i = 2:N\n",
    "        push!(in_part.args, tensorexpr(:A, (2i - 2, -i,  2i - 1, 2i)))\n",
    "    end\n",
    "\n",
    "    return :(@tensor $out_part := $in_part)\n",
    "end\n",
    "\n",
    "\n",
    "println(Threads.nthreads())\n",
    "for n = 3:5\n",
    "    println(\"tests for n = $n\")\n",
    "    let N = n, sp = ℂ^2\n",
    "        A = permute(TensorMap(rand, ComplexF64, sp^2 ← sp^2),(4,1),(3,2))\n",
    "        X = Tensor(rand, ComplexF64, (sp)^N)\n",
    "        @btime apply_transfer2($A, $X)\n",
    "        nothing\n",
    "    end\n",
    "\n",
    "    let N = n, sp = Z2Space(0 => 1, 1 => 1)\n",
    "        A = permute(TensorMap(rand, ComplexF64, sp^2 ← sp^2),(4,1),(3,2))\n",
    "        X = Tensor(rand, ComplexF64, (sp)^N)\n",
    "        @btime apply_transfer2($A, $X)\n",
    "        nothing\n",
    "    end\n",
    "end"
   ]
  },
  {
   "cell_type": "code",
   "execution_count": 18,
   "metadata": {},
   "outputs": [
    {
     "name": "stdout",
     "output_type": "stream",
     "text": [
      "4\n"
     ]
    },
    {
     "name": "stdout",
     "output_type": "stream",
     "text": [
      "FATAL ERROR: Gtk state corrupted by error thrown in a callback:\n"
     ]
    },
    {
     "name": "stdout",
     "output_type": "stream",
     "text": [
      "\n",
      "FATAL ERROR: Gtk state corrupted by error thrown in a callback:\n",
      "FATAL ERROR: Gtk state corrupted by error thrown in a callback:\n"
     ]
    },
    {
     "name": "stderr",
     "output_type": "stream",
     "text": [
      "\u001b[91m\u001b[1mERROR: \u001b[22m\u001b[39mAssertionError: g_stack === nothing && !prev\n",
      "Stacktrace:\n",
      " [1] \u001b[0m\u001b[1mg_sigatom\u001b[22m\u001b[0m\u001b[1m(\u001b[22m\u001b[90mf\u001b[39m::\u001b[0mAny\u001b[0m\u001b[1m)\u001b[22m\n",
      "\u001b[90m   @\u001b[39m \u001b[36mGtk.GLib\u001b[39m \u001b[90m~/.julia/packages/Gtk/oo3cW/src/GLib/\u001b[39m\u001b[90m\u001b[4msignals.jl:174\u001b[24m\u001b[39m\n",
      " [2] \u001b[0m\u001b[1mgtk_main\u001b[22m\u001b[0m\u001b[1m(\u001b[22m\u001b[0m\u001b[1m)\u001b[22m\n",
      "\u001b[90m   @\u001b[39m \u001b[36mGtk\u001b[39m \u001b[90m~/.julia/packages/Gtk/oo3cW/src/\u001b[39m\u001b[90m\u001b[4mevents.jl:1\u001b[24m\u001b[39m\n",
      "\u001b[91m\u001b[1mERROR: \u001b[22m\u001b[39mAssertionError: g_stack === nothing && !prev\u001b[91m\u001b[1mERROR: \u001b[22m\u001b[39m\n",
      "Stacktrace:"
     ]
    },
    {
     "name": "stdout",
     "output_type": "stream",
     "text": [
      "\n"
     ]
    },
    {
     "name": "stderr",
     "output_type": "stream",
     "text": [
      "\n",
      "  [1] AssertionError: \u001b[0m\u001b[1mg_sigatom\u001b[22mg_stack === nothing && !prev\u001b[0m\u001b[1m(\u001b[22m\n",
      "Stacktrace:\u001b[90mf\u001b[39m\n",
      ":: \u001b[0mAny[1]\u001b[0m\u001b[1m)\u001b[22m \n",
      "\u001b[0m\u001b[1mg_sigatom\u001b[22m\u001b[90m    @\u001b[39m\u001b[0m\u001b[1m(\u001b[22m \u001b[90mf\u001b[39m\u001b[36mGtk.GLib\u001b[39m:: \u001b[0mAny\u001b[90m~/.julia/packages/Gtk/oo3cW/src/GLib/\u001b[39m\u001b[0m\u001b[1m)\u001b[22m\u001b[90m\u001b[4msignals.jl:174\u001b[24m\u001b[39m\n",
      "\u001b[90m   @\u001b[39m\n",
      "  \u001b[36mGtk.GLib\u001b[39m [2]  \u001b[90m~/.julia/packages/Gtk/oo3cW/src/GLib/\u001b[39m\u001b[0m\u001b[1mmacro expansion\u001b[22m\u001b[90m\u001b[4msignals.jl:174\u001b[24m\u001b[39m\n",
      "\u001b[90m    @\u001b[39m\n",
      "  \u001b[90m~/.julia/packages/Gtk/oo3cW/src/GLib/\u001b[39m[2]\u001b[90m\u001b[4msignals.jl:200\u001b[24m\u001b[39m \u001b[90m [inlined]\u001b[39m\u001b[0m\u001b[1mgtk_main\u001b[22m\n",
      "\u001b[0m\u001b[1m(\u001b[22m \u001b[0m\u001b[1m)\u001b[22m [3]\n",
      " \u001b[90m   @\u001b[39m\u001b[0m\u001b[1mshow\u001b[22m \n",
      "\u001b[36mGtk\u001b[39m\u001b[90m    @\u001b[39m  \u001b[90m~/.julia/packages/Gtk/oo3cW/src/\u001b[39m\u001b[90m~/.julia/packages/Gtk/oo3cW/src/\u001b[39m\u001b[90m\u001b[4mevents.jl:1\u001b[24m\u001b[39m\u001b[90m\u001b[4mbase.jl:39\u001b[24m\u001b[39m\u001b[90m [inlined]\u001b[39m\n",
      "\n",
      "  [4] \u001b[0m\u001b[1mGtk.GtkWindowLeaf\u001b[22m"
     ]
    },
    {
     "name": "stdout",
     "output_type": "stream",
     "text": [
      "\n"
     ]
    },
    {
     "name": "stderr",
     "output_type": "stream",
     "text": [
      "\u001b[0m\u001b[1m(\u001b[22m\u001b[90mtitle\u001b[39m::\u001b[0mString, \u001b[90mw\u001b[39m::\u001b[0mInt64, \u001b[90mh\u001b[39m::\u001b[0mInt64, \u001b[90mresizable\u001b[39m::\u001b[0mBool, \u001b[90mtoplevel\u001b[39m::\u001b[0mBool\u001b[0m\u001b[1m)\u001b[22m\n",
      "\u001b[90m    @\u001b[39m \u001b[36mGtk\u001b[39m \u001b[90m~/.julia/packages/Gtk/oo3cW/src/\u001b[39m\u001b[90m\u001b[4mwindows.jl:14\u001b[24m\u001b[39m\n",
      "  [5] \u001b[0m\u001b[1mGtkWindowLeaf\u001b[22m\n",
      "\u001b[90m    @\u001b[39m \u001b[90m~/.julia/packages/Gtk/oo3cW/src/\u001b[39m\u001b[90m\u001b[4mwindows.jl:2\u001b[24m\u001b[39m\u001b[90m [inlined]\u001b[39m\n",
      "  [6] \u001b[0m\u001b[1m#GtkWindow#196\u001b[22m\n",
      "\u001b[90m    @\u001b[39m \u001b[90m~/.julia/packages/Gtk/oo3cW/src/GLib/\u001b[39m\u001b[90m\u001b[4mgtype.jl:226\u001b[24m\u001b[39m\u001b[90m [inlined]\u001b[39m\n",
      "  [7] \u001b[0m\u001b[1mGtkWindow\u001b[22m\n",
      "\u001b[90m    @\u001b[39m \u001b[90m~/.julia/packages/Gtk/oo3cW/src/GLib/\u001b[39m\u001b[90m\u001b[4mgtype.jl:225\u001b[24m\u001b[39m\u001b[90m [inlined]\u001b[39m\n",
      "  [8] \u001b[0m\u001b[1mviewgui\u001b[22m\u001b[0m\u001b[1m(\u001b[22m\u001b[90mfcolor\u001b[39m::\u001b[0mFlameGraphs.FlameColors, \u001b[90mgdict\u001b[39m::\u001b[0mDict\u001b[90m{Symbol, Dict{Symbol, LeftChildRightSiblingTrees.Node{FlameGraphs.NodeData}}}\u001b[39m; \u001b[90mdata\u001b[39m::\u001b[0mVector\u001b[90m{UInt64}\u001b[39m, \u001b[90mlidict\u001b[39m::\u001b[0mDict\u001b[90m{UInt64, Vector{Base.StackTraces.StackFrame}}\u001b[39m, \u001b[90mwindowname\u001b[39m::\u001b[0mString, \u001b[90mgraphtype\u001b[39m::\u001b[0mSymbol, \u001b[90mkwargs\u001b[39m::\u001b[0mBase.Pairs\u001b[90m{Symbol, Union{}, Tuple{}, NamedTuple{(), Tuple{}}}\u001b[39m\u001b[0m\u001b[1m)\u001b[22m\n",
      "\u001b[90m    @\u001b[39m \u001b[32mProfileView\u001b[39m \u001b[90m~/.julia/packages/ProfileView/IzPaD/src/\u001b[39m\u001b[90m\u001b[4mProfileView.jl:310\u001b[24m\u001b[39m\n",
      "  [9] \u001b[0m\u001b[1mviewgui\u001b[22m\n",
      "\u001b[90m    @\u001b[39m \u001b[90m~/.julia/packages/ProfileView/IzPaD/src/\u001b[39m\u001b[90m\u001b[4mProfileView.jl:230\u001b[24m\u001b[39m\u001b[90m [inlined]\u001b[39m\n",
      " [10] \u001b[0m\u001b[1m#view#13\u001b[22m\n",
      "\u001b[90m    @\u001b[39m \u001b[90m~/.julia/packages/ProfileView/IzPaD/src/\u001b[39m\u001b[90m\u001b[4mProfileView.jl:222\u001b[24m\u001b[39m\u001b[90m [inlined]\u001b[39m\n",
      " [11] \u001b[0m\u001b[1mview\u001b[22m\u001b[0m\u001b[1m(\u001b[22m\u001b[90mfcolor\u001b[39m::\u001b[0mFlameGraphs.FlameColors, \u001b[90mdata\u001b[39m::\u001b[0mVector\u001b[90m{UInt64}\u001b[39m; \u001b[90mlidict\u001b[39m::\u001b[0mDict\u001b[90m{UInt64, Vector{Base.StackTraces.StackFrame}}\u001b[39m, \u001b[90mC\u001b[39m::\u001b[0mBool, \u001b[90mcombine\u001b[39m::\u001b[0mBool, \u001b[90mrecur\u001b[39m::\u001b[0mSymbol, \u001b[90mpruned\u001b[39m::\u001b[0mVector\u001b[90m{Tuple{Symbol, Symbol}}\u001b[39m, \u001b[90mexpand_threads\u001b[39m::\u001b[0mBool, \u001b[90mexpand_tasks\u001b[39m::\u001b[0mBool, \u001b[90mkwargs\u001b[39m::\u001b[0mBase.Pairs\u001b[90m{Symbol, String, Tuple{Symbol}, NamedTuple{(:windowname,), Tuple{String}}}\u001b[39m\u001b[0m\u001b[1m)\u001b[22m\n",
      "\u001b[90m    @\u001b[39m \u001b[32mProfileView\u001b[39m \u001b[90m~/.julia/packages/ProfileView/IzPaD/src/\u001b[39m\u001b[90m\u001b[4mProfileView.jl:190\u001b[24m\u001b[39m\n",
      " [12] \u001b[0m\u001b[1m#view#6\u001b[22m\n",
      "\u001b[90m    @\u001b[39m \u001b[90m~/.julia/packages/ProfileView/IzPaD/src/\u001b[39m\u001b[90m\u001b[4mProfileView.jl:204\u001b[24m\u001b[39m\u001b[90m [inlined]\u001b[39m\n",
      " [13] \u001b[0m\u001b[1mmacro expansion\u001b[22m\n",
      "\u001b[90m    @\u001b[39m \u001b[90m~/.julia/packages/ProfileView/IzPaD/src/\u001b[39m\u001b[90m\u001b[4mProfileView.jl:125\u001b[24m\u001b[39m\u001b[90m [inlined]\u001b[39m\n",
      " [14] top-level scope\n",
      "\u001b[90m    @\u001b[39m \u001b[90m~/projects/MPSKitExperimental.jl/examples/\u001b[39m\u001b[90m\u001b[4mmpohambench.ipynb:62\u001b[24m\u001b[39m\n",
      " [15] \u001b[0m\u001b[1meval\u001b[22m\n",
      "\u001b[90m    @\u001b[39m \u001b[90m./\u001b[39m\u001b[90m\u001b[4mboot.jl:370\u001b[24m\u001b[39m\u001b[90m [inlined]\u001b[39m\n",
      " [16] \u001b[0m\u001b[1minclude_string\u001b[22m\u001b[0m\u001b[1m(\u001b[22m\u001b[90mmapexpr\u001b[39m::\u001b[0mtypeof(REPL.softscope), \u001b[90mmod\u001b[39m::\u001b[0mModule, \u001b[90mcode\u001b[39m::\u001b[0mString, \u001b[90mfilename\u001b[39m::\u001b[0mString\u001b[0m\u001b[1m)\u001b[22m\n",
      "\u001b[90m    @\u001b[39m \u001b[90mBase\u001b[39m \u001b[90m./\u001b[39m\u001b[90m\u001b[4mloading.jl:1903\u001b[24m\u001b[39m\n",
      " [17] \u001b[0m\u001b[1m#invokelatest#2\u001b[22m\n",
      "\u001b[90m    @\u001b[39m \u001b[90m./\u001b[39m\u001b[90m\u001b[4messentials.jl:819\u001b[24m\u001b[39m\u001b[90m [inlined]\u001b[39m\n",
      " [18] \u001b[0m\u001b[1minvokelatest\u001b[22m\n",
      "\u001b[90m    @\u001b[39m \u001b[90m./\u001b[39m\u001b[90m\u001b[4messentials.jl:816\u001b[24m\u001b[39m\u001b[90m [inlined]\u001b[39m\n",
      " [19] \u001b[0m\u001b[1m(::VSCodeServer.var\"#208#209\"{VSCodeServer.NotebookRunCellArguments, String})\u001b[22m\u001b[0m\u001b[1m(\u001b[22m\u001b[0m\u001b[1m)\u001b[22m\n",
      "\u001b[90m    @\u001b[39m \u001b[33mVSCodeServer\u001b[39m \u001b[90m~/.vscode-server/extensions/julialang.language-julia-1.65.2/scripts/packages/VSCodeServer/src/\u001b[39m\u001b[90m\u001b[4mserve_notebook.jl:19\u001b[24m\u001b[39m\n",
      " [20] \u001b[0m\u001b[1mwithpath\u001b[22m\u001b[0m\u001b[1m(\u001b[22m\u001b[90mf\u001b[39m::\u001b[0mVSCodeServer.var\"#208#209\"\u001b[90m{VSCodeServer.NotebookRunCellArguments, String}\u001b[39m, \u001b[90mpath\u001b[39m::\u001b[0mString\u001b[0m\u001b[1m)\u001b[22m\n",
      "\u001b[90m    @\u001b[39m \u001b[33mVSCodeServer\u001b[39m \u001b[90m~/.vscode-server/extensions/julialang.language-julia-1.65.2/scripts/packages/VSCodeServer/src/\u001b[39m\u001b[90m\u001b[4mrepl.jl:274\u001b[24m\u001b[39m\n",
      " [21] \u001b[0m\u001b[1mnotebook_runcell_request\u001b[22m\u001b[0m\u001b[1m(\u001b[22m\u001b[90mconn\u001b[39m::\u001b[0mVSCodeServer.JSONRPC.JSONRPCEndpoint\u001b[90m{Base.PipeEndpoint, Base.PipeEndpoint}\u001b[39m, \u001b[90mparams\u001b[39m::\u001b[0mVSCodeServer.NotebookRunCellArguments\u001b[0m\u001b[1m)\u001b[22m\n",
      "\u001b[90m    @\u001b[39m \u001b[33mVSCodeServer\u001b[39m \u001b[90m~/.vscode-server/extensions/julialang.language-julia-1.65.2/scripts/packages/VSCodeServer/src/\u001b[39m\u001b[90m\u001b[4mserve_notebook.jl:13\u001b[24m\u001b[39m\n",
      " [22] \u001b[0m\u001b[1mdispatch_msg\u001b[22m\u001b[0m\u001b[1m(\u001b[22m\u001b[90mx\u001b[39m::\u001b[0mVSCodeServer.JSONRPC.JSONRPCEndpoint\u001b[90m{Base.PipeEndpoint, Base.PipeEndpoint}\u001b[39m, \u001b[90mdispatcher\u001b[39m::\u001b[0mVSCodeServer.JSONRPC.MsgDispatcher, \u001b[90mmsg\u001b[39m::\u001b[0mDict\u001b[90m{String, Any}\u001b[39m\u001b[0m\u001b[1m)\u001b[22m\n",
      "\u001b[90m    @\u001b[39m \u001b[33mVSCodeServer.JSONRPC\u001b[39m \u001b[90m~/.vscode-server/extensions/julialang.language-julia-1.65.2/scripts/packages/JSONRPC/src/\u001b[39m\u001b[90m\u001b[4mtyped.jl:67\u001b[24m\u001b[39m\n",
      " [23] \u001b[0m\u001b[1mserve_notebook\u001b[22m\u001b[0m\u001b[1m(\u001b[22m\u001b[90mpipename\u001b[39m::\u001b[0mString, \u001b[90moutputchannel_logger\u001b[39m::\u001b[0mBase.CoreLogging.SimpleLogger; \u001b[90mcrashreporting_pipename\u001b[39m::\u001b[0mString\u001b[0m\u001b[1m)\u001b[22m\n",
      "\u001b[90m    @\u001b[39m \u001b[33mVSCodeServer\u001b[39m \u001b[90m~/.vscode-server/extensions/julialang.language-julia-1.65.2/scripts/packages/VSCodeServer/src/\u001b[39m\u001b[90m\u001b[4mserve_notebook.jl:139\u001b[24m\u001b[39m\n",
      " [24] top-level scope\n",
      "\u001b[90m    @\u001b[39m \u001b[90m~/.vscode-server/extensions/julialang.language-julia-1.65.2/scripts/notebook/\u001b[39m\u001b[90m\u001b[4mnotebook.jl:32\u001b[24m\u001b[39m\n",
      " [25] \u001b[0m\u001b[1minclude\u001b[22m\u001b[0m\u001b[1m(\u001b[22m\u001b[90mmod\u001b[39m::\u001b[0mModule, \u001b[90m_path\u001b[39m::\u001b[0mString\u001b[0m\u001b[1m)\u001b[22m\n",
      "\u001b[90m    @\u001b[39m \u001b[90mBase\u001b[39m \u001b[90m./\u001b[39m\u001b[90m\u001b[4mBase.jl:457\u001b[24m\u001b[39m\n",
      " [26] \u001b[0m\u001b[1mexec_options\u001b[22m\u001b[0m\u001b[1m(\u001b[22m\u001b[90mopts\u001b[39m::\u001b[0mBase.JLOptions\u001b[0m\u001b[1m)\u001b[22m\n",
      "\u001b[90m    @\u001b[39m \u001b[90mBase\u001b[39m \u001b[90m./\u001b[39m\u001b[90m\u001b[4mclient.jl:307\u001b[24m\u001b[39m\n",
      " [27] \u001b[0m\u001b[1m_start\u001b[22m\u001b[0m\u001b[1m(\u001b[22m\u001b[0m\u001b[1m)\u001b[22m\n",
      "\u001b[90m    @\u001b[39m \u001b[90mBase\u001b[39m \u001b[90m./\u001b[39m\u001b[90m\u001b[4mclient.jl:522\u001b[24m\u001b[39m\n"
     ]
    },
    {
     "name": "stderr",
     "output_type": "stream",
     "text": [
      "error in running finalizer: AssertionError(msg=\"xor(prev, current_task() !== g_stack)\")\n",
      "g_siginterruptible at /home/maarten/.julia/packages/Gtk/oo3cW/src/GLib/signals.jl:209\n",
      "unknown function (ip: 0x7fce8fb69f36)\n",
      "GClosureMarshal at /home/maarten/.julia/packages/Gtk/oo3cW/src/GLib/signals.jl:58\n",
      "unknown function (ip: 0x7fce8fb55f8a)\n",
      "jlcapi_GClosureMarshal_1208 at /home/maarten/.julia/compiled/v1.9/Gtk/Vjnq0_ClZO7.so (unknown line)\n",
      "g_closure_invoke at /home/maarten/.julia/artifacts/b6ebc4def1211ec4043d7c055f450d59f56747cc/lib/libgobject-2.0.so.0 (unknown line)\n",
      "signal_emit_unlocked_R at /home/maarten/.julia/artifacts/b6ebc4def1211ec4043d7c055f450d59f56747cc/lib/libgobject-2.0.so.0 (unknown line)\n",
      "g_signal_emit_valist at /home/maarten/.julia/artifacts/b6ebc4def1211ec4043d7c055f450d59f56747cc/lib/libgobject-2.0.so.0 (unknown line)\n",
      "g_signal_emit at /home/maarten/.julia/artifacts/b6ebc4def1211ec4043d7c055f450d59f56747cc/lib/libgobject-2.0.so.0 (unknown line)\n",
      "gtk_widget_dispose at /workspace/srcdir/gtk/build-gtk/../gtk/gtkwidget.c:12166\n",
      "g_object_run_dispose at /home/maarten/.julia/artifacts/b6ebc4def1211ec4043d7c055f450d59f56747cc/lib/libgobject-2.0.so.0 (unknown line)\n",
      "gtk_box_forall at /workspace/srcdir/gtk/build-gtk/../gtk/gtkbox.c:2678\n",
      "gtk_container_destroy at /workspace/srcdir/gtk/build-gtk/../gtk/gtkcontainer.c:1702\n",
      "g_closure_invoke at /home/maarten/.julia/artifacts/b6ebc4def1211ec4043d7c055f450d59f56747cc/lib/libgobject-2.0.so.0 (unknown line)\n",
      "signal_emit_unlocked_R at /home/maarten/.julia/artifacts/b6ebc4def1211ec4043d7c055f450d59f56747cc/lib/libgobject-2.0.so.0 (unknown line)\n",
      "g_signal_emit_valist at /home/maarten/.julia/artifacts/b6ebc4def1211ec4043d7c055f450d59f56747cc/lib/libgobject-2.0.so.0 (unknown line)\n",
      "g_signal_emit at /home/maarten/.julia/artifacts/b6ebc4def1211ec4043d7c055f450d59f56747cc/lib/libgobject-2.0.so.0 (unknown line)\n",
      "gtk_widget_dispose at /workspace/srcdir/gtk/build-gtk/../gtk/gtkwidget.c:12166\n",
      "g_object_unref at /home/maarten/.julia/artifacts/b6ebc4def1211ec4043d7c055f450d59f56747cc/lib/libgobject-2.0.so.0 (unknown line)\n",
      "gc_unref at /home/maarten/.julia/packages/Gtk/oo3cW/src/GLib/gtype.jl:376 [inlined]\n",
      "finalize_gc_unref at /home/maarten/.julia/packages/Gtk/oo3cW/src/GLib/gtype.jl:396\n",
      "delref at /home/maarten/.julia/packages/Gtk/oo3cW/src/GLib/gtype.jl:412\n",
      "jfptr_delref_1326 at /home/maarten/.julia/compiled/v1.9/Gtk/Vjnq0_ClZO7.so (unknown line)\n",
      "run_finalizer at /home/maarten/julia/src/gc.c:417\n",
      "jl_gc_run_finalizers_in_list at /home/maarten/julia/src/gc.c:507\n",
      "run_finalizers at /home/maarten/julia/src/gc.c:553\n",
      "jl_mutex_unlock at /home/maarten/julia/src/julia_locks.h:81 [inlined]\n",
      "jl_generate_fptr_impl at /home/maarten/julia/src/jitlayers.cpp:467\n",
      "jl_compile_method_internal at /home/maarten/julia/src/gf.c:2348 [inlined]\n",
      "jl_compile_method_internal at /home/maarten/julia/src/gf.c:2237\n",
      "_jl_invoke at /home/maarten/julia/src/gf.c:2750 [inlined]\n",
      "ijl_apply_generic at /home/maarten/julia/src/gf.c:2940\n",
      "show_signature_function at ./show.jl:2421\n",
      "#show_tuple_as_call#539 at ./show.jl:2459\n",
      "show_tuple_as_call at ./show.jl:2441 [inlined]\n",
      "show_spec_linfo at ./stacktraces.jl:244\n",
      "print_stackframe at ./errorshow.jl:730\n",
      "print_stackframe at ./errorshow.jl:695\n",
      "#show_full_backtrace#922 at ./errorshow.jl:594\n",
      "show_full_backtrace at ./errorshow.jl:587 [inlined]\n",
      "show_backtrace at ./errorshow.jl:791\n",
      "unknown function (ip: 0x7fce8fb20b16)\n",
      "#sprint#484 at ./strings/io.jl:114\n",
      "sprint at ./strings/io.jl:107\n",
      "unknown function (ip: 0x7fce8fb16ae6)\n",
      "jl_apply at /home/maarten/julia/src/julia.h:1880 [inlined]\n",
      "jl_f__call_latest at /home/maarten/julia/src/builtins.c:774\n",
      "#invokelatest#2 at ./essentials.jl:819 [inlined]\n",
      "invokelatest at ./essentials.jl:816 [inlined]\n",
      "#208 at /home/maarten/.vscode-server/extensions/julialang.language-julia-1.65.2/scripts/packages/VSCodeServer/src/serve_notebook.jl:29\n",
      "withpath at /home/maarten/.vscode-server/extensions/julialang.language-julia-1.65.2/scripts/packages/VSCodeServer/src/repl.jl:274\n",
      "notebook_runcell_request at /home/maarten/.vscode-server/extensions/julialang.language-julia-1.65.2/scripts/packages/VSCodeServer/src/serve_notebook.jl:13\n",
      "unknown function (ip: 0x7fcefcd2ff06)\n",
      "dispatch_msg at /home/maarten/.vscode-server/extensions/julialang.language-julia-1.65.2/scripts/packages/JSONRPC/src/typed.jl:67\n",
      "#serve_notebook#210 at /home/maarten/.vscode-server/extensions/julialang.language-julia-1.65.2/scripts/packages/VSCodeServer/src/serve_notebook.jl:139\n",
      "serve_notebook at /home/maarten/.vscode-server/extensions/julialang.language-julia-1.65.2/scripts/packages/VSCodeServer/src/serve_notebook.jl:75\n",
      "unknown function (ip: 0x7fcefcd1ae9d)\n",
      "top-level scope at /home/maarten/.vscode-server/extensions/julialang.language-julia-1.65.2/scripts/notebook/notebook.jl:32\n",
      "jl_toplevel_eval_flex at /home/maarten/julia/src/toplevel.c:903\n",
      "jl_toplevel_eval_flex at /home/maarten/julia/src/toplevel.c:856\n",
      "ijl_toplevel_eval_in at /home/maarten/julia/src/toplevel.c:971\n",
      "eval at ./boot.jl:370 [inlined]\n",
      "include_string at ./loading.jl:1903\n",
      "_include at ./loading.jl:1963\n",
      "include at ./Base.jl:457\n",
      "jfptr_include_50485 at /home/maarten/julia/usr/lib/julia/sys.so (unknown line)\n",
      "exec_options at ./client.jl:307\n",
      "_start at ./client.jl:522\n",
      "jfptr__start_54922 at /home/maarten/julia/usr/lib/julia/sys.so (unknown line)\n",
      "jl_apply at /home/maarten/julia/src/julia.h:1880 [inlined]\n",
      "true_main at /home/maarten/julia/src/jlapi.c:573\n",
      "jl_repl_entrypoint at /home/maarten/julia/src/jlapi.c:717\n",
      "main at julia (unknown line)\n",
      "unknown function (ip: 0x7fcf16815d8f)\n",
      "__libc_start_main at /lib/x86_64-linux-gnu/libc.so.6 (unknown line)\n",
      "_start at julia (unknown line)\n"
     ]
    },
    {
     "ename": "AssertionError",
     "evalue": "AssertionError: g_stack === nothing && !prev",
     "output_type": "error",
     "traceback": [
      "AssertionError: g_stack === nothing && !prev\n",
      "\n",
      "Stacktrace:\n",
      "  [1] g_sigatom(f::Any)\n",
      "    @ Gtk.GLib ~/.julia/packages/Gtk/oo3cW/src/GLib/signals.jl:174\n",
      "  [2] macro expansion\n",
      "    @ ~/.julia/packages/Gtk/oo3cW/src/GLib/signals.jl:200 [inlined]\n",
      "  [3] show\n",
      "    @ ~/.julia/packages/Gtk/oo3cW/src/base.jl:39 [inlined]\n",
      "  [4] Gtk.GtkWindowLeaf(title::String, w::Int64, h::Int64, resizable::Bool, toplevel::Bool)\n",
      "    @ Gtk ~/.julia/packages/Gtk/oo3cW/src/windows.jl:14\n",
      "  [5] GtkWindowLeaf\n",
      "    @ ~/.julia/packages/Gtk/oo3cW/src/windows.jl:2 [inlined]\n",
      "  [6] #GtkWindow#196\n",
      "    @ ~/.julia/packages/Gtk/oo3cW/src/GLib/gtype.jl:226 [inlined]\n",
      "  [7] GtkWindow\n",
      "    @ ~/.julia/packages/Gtk/oo3cW/src/GLib/gtype.jl:225 [inlined]\n",
      "  [8] viewgui(fcolor::FlameGraphs.FlameColors, gdict::Dict{Symbol, Dict{Symbol, LeftChildRightSiblingTrees.Node{FlameGraphs.NodeData}}}; data::Vector{UInt64}, lidict::Dict{UInt64, Vector{Base.StackTraces.StackFrame}}, windowname::String, graphtype::Symbol, kwargs::Base.Pairs{Symbol, Union{}, Tuple{}, NamedTuple{(), Tuple{}}})\n",
      "    @ ProfileView ~/.julia/packages/ProfileView/IzPaD/src/ProfileView.jl:310\n",
      "  [9] viewgui\n",
      "    @ ~/.julia/packages/ProfileView/IzPaD/src/ProfileView.jl:230 [inlined]\n",
      " [10] #view#13\n",
      "    @ ~/.julia/packages/ProfileView/IzPaD/src/ProfileView.jl:222 [inlined]\n",
      " [11] view(fcolor::FlameGraphs.FlameColors, data::Vector{UInt64}; lidict::Dict{UInt64, Vector{Base.StackTraces.StackFrame}}, C::Bool, combine::Bool, recur::Symbol, pruned::Vector{Tuple{Symbol, Symbol}}, expand_threads::Bool, expand_tasks::Bool, kwargs::Base.Pairs{Symbol, String, Tuple{Symbol}, NamedTuple{(:windowname,), Tuple{String}}})\n",
      "    @ ProfileView ~/.julia/packages/ProfileView/IzPaD/src/ProfileView.jl:190\n",
      " [12] #view#6\n",
      "    @ ~/.julia/packages/ProfileView/IzPaD/src/ProfileView.jl:204 [inlined]\n",
      " [13] macro expansion\n",
      "    @ ~/.julia/packages/ProfileView/IzPaD/src/ProfileView.jl:125 [inlined]\n",
      " [14] top-level scope\n",
      "    @ ~/projects/MPSKitExperimental.jl/examples/mpohambench.ipynb:62"
     ]
    }
   ],
   "source": [
    "# now with transposefactory\n",
    "using ProfileView\n",
    "using PProf\n",
    "function apply_transfer_fast(A,x::AbstractTensorMap{S,N,0}) where {S,N}\n",
    "    N > 0 || error(\"undefined behaviour for length 0\")\n",
    "\n",
    "    trans_x_first = TransposeFact(codomain(x)←domain(x),storagetype(x),(1,),tuple(N:-1:2...))\n",
    "    trans_A_first = TransposeFact(codomain(A)←domain(A),storagetype(A),(1,2,4),(3,))\n",
    "    \n",
    "    multcache_1 = DelayedFact(trans_A_first.delayed.cod←trans_x_first.delayed.dom,storagetype(x))\n",
    "\n",
    "    trans_AX_first = TransposeFact(multcache_1,(3,N+2),(2,1,4:N+1...))\n",
    "\n",
    "    trans_A_middle = TransposeFact(codomain(A)←domain(A),storagetype(A),(2,4),(1,3))\n",
    "    multcache_middle = DelayedFact(trans_A_middle.delayed.cod←prod(space(x,1)' for i in 1:N),storagetype(A))\n",
    "    trans_AX_middle = TransposeFact(multcache_middle.cod←multcache_middle.dom,storagetype(A),(2,N+2),(1,3:N+1...))\n",
    "\n",
    "    function ff(A,x)\n",
    "        for top in 1:1000\n",
    "            t_A1 = trans_A_first(A)\n",
    "            t_x1 = trans_x_first(x)\n",
    "            \n",
    "            t_Ax1 = multcache_1()\n",
    "            mul!(t_Ax1,t_A1,t_x1)\n",
    "            free!(trans_A_first,t_A1)\n",
    "            free!(trans_x_first,t_x1)\n",
    "\n",
    "            t_Ax2 = trans_AX_first(t_Ax1)\n",
    "            free!(multcache_1,t_Ax1)\n",
    "\n",
    "            for i in 2:N-1\n",
    "                tA = trans_A_middle(A)\n",
    "                t_m = multcache_middle()\n",
    "                mul!(t_m,tA,t_Ax2)\n",
    "                \n",
    "                free!(trans_A_middle,tA)\n",
    "                if i == 2\n",
    "                    free!(trans_AX_first,t_Ax2)\n",
    "                else\n",
    "                    free!(trans_AX_middle,t_Ax2)\n",
    "                end\n",
    "\n",
    "                t_Ax2 = trans_AX_middle(t_m)\n",
    "                free!(multcache_middle,t_m)\n",
    "            end\n",
    "        end\n",
    "    end\n",
    "\n",
    "end\n",
    "\n",
    "println(Threads.nthreads())\n",
    "n = 4\n",
    "using Profile\n",
    "Profile.clear()\n",
    "let N = n, sp = Z2Space(0 => 1, 1 => 1)\n",
    "    A = TensorMap(rand, ComplexF64, sp*sp ← sp*sp)\n",
    "    X = Tensor(rand, ComplexF64, (sp)^N)\n",
    "    fastfun = apply_transfer_fast(A,X)\n",
    "    #@btime $fastfun($A, $X)\n",
    "    fastfun(A,X)\n",
    "    #VSCodeServer.@profview fastfun(A,X)\n",
    "    ProfileView.@profview fastfun(A,X)\n",
    "end"
   ]
  },
  {
   "cell_type": "code",
   "execution_count": null,
   "metadata": {},
   "outputs": [],
   "source": []
  }
 ],
 "metadata": {
  "kernelspec": {
   "display_name": "Julia 1.9.4",
   "language": "julia",
   "name": "julia-1.9"
  },
  "language_info": {
   "file_extension": ".jl",
   "mimetype": "application/julia",
   "name": "julia",
   "version": "1.9.4"
  }
 },
 "nbformat": 4,
 "nbformat_minor": 2
}
