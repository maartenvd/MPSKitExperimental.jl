{
 "cells": [
  {
   "cell_type": "markdown",
   "metadata": {},
   "source": [
    "I created a new kind of mpohamiltonian for quantum chemistry hamiltonians, because you can gain some speed there by pre-summing the environments. I also invested a bunch of effort making the effective hamiltonian fast. In this notebook I try to benchmark the MPSKit effective hamiltonians against my (?optimized) implementation.\n",
    "\n",
    "I don't make use of the pre-summation in this benchmark, both codes should do the exact same thing."
   ]
  },
  {
   "cell_type": "code",
   "execution_count": 1,
   "metadata": {},
   "outputs": [],
   "source": [
    "using Revise, MPSKit, MPSKitModels, TensorKit\n",
    "using LinearAlgebra, Base.Threads, BenchmarkTools\n",
    "using MPSKitExperimental:FusedMPOHamiltonian"
   ]
  },
  {
   "cell_type": "code",
   "execution_count": 2,
   "metadata": {},
   "outputs": [],
   "source": [
    "BLAS.set_num_threads(1)"
   ]
  },
  {
   "cell_type": "code",
   "execution_count": 3,
   "metadata": {},
   "outputs": [
    {
     "data": {
      "text/plain": [
       "4"
      ]
     },
     "metadata": {},
     "output_type": "display_data"
    }
   ],
   "source": [
    "nthreads()"
   ]
  },
  {
   "cell_type": "markdown",
   "metadata": {},
   "source": [
    "## heisenberg spin 1"
   ]
  },
  {
   "cell_type": "code",
   "execution_count": 8,
   "metadata": {},
   "outputs": [],
   "source": [
    "fmps_len = 10;\n",
    "middle_site = Int(round(fmps_len/2))\n",
    "\n",
    "ts = FiniteMPS(rand,ComplexF64,fmps_len,Rep[SU₂](1=>1),Rep[SU₂](i => 20 for i in 0:10));\n",
    "\n",
    "th_orig = heisenberg_XXX(SU2Irrep);\n",
    "th_fused = convert(FusedMPOHamiltonian,repeat(th_orig,length(ts)));\n",
    "\n",
    "env_orig = environments(ts,th_orig);\n",
    "env_fused = environments(ts,th_fused);\n",
    "\n",
    "ac = ts.AC[middle_site]\n",
    "ac_eff_orig = MPSKit.∂∂AC(middle_site,ts,th_orig,env_orig);\n",
    "ac_eff_fused = MPSKit.∂∂AC(middle_site,ts,th_fused,env_fused);\n",
    "\n",
    "\n",
    "ac2 = ts.AC[middle_site]*MPSKit._transpose_tail(ts.AR[middle_site+1])\n",
    "ac2_eff_orig = MPSKit.∂∂AC2(middle_site,ts,th_orig,env_orig);\n",
    "ac2_eff_fused = MPSKit.∂∂AC2(middle_site,ts,th_fused,env_fused);"
   ]
  },
  {
   "cell_type": "code",
   "execution_count": 9,
   "metadata": {},
   "outputs": [
    {
     "name": "stdout",
     "output_type": "stream",
     "text": [
      "  862.044 μs (14410 allocations: 1.43 MiB)\n"
     ]
    }
   ],
   "source": [
    "@btime ac_eff_orig(ac);"
   ]
  },
  {
   "cell_type": "code",
   "execution_count": 10,
   "metadata": {},
   "outputs": [
    {
     "name": "stdout",
     "output_type": "stream",
     "text": [
      "  33.170 μs (971 allocations: 123.69 KiB)\n"
     ]
    }
   ],
   "source": [
    "@btime ac_eff_fused(ac);"
   ]
  },
  {
   "cell_type": "code",
   "execution_count": 11,
   "metadata": {},
   "outputs": [
    {
     "name": "stdout",
     "output_type": "stream",
     "text": [
      "  1.313 ms (35055 allocations: 3.55 MiB)\n"
     ]
    }
   ],
   "source": [
    "@btime ac2_eff_orig(ac2);"
   ]
  },
  {
   "cell_type": "code",
   "execution_count": 12,
   "metadata": {},
   "outputs": [
    {
     "name": "stdout",
     "output_type": "stream",
     "text": [
      "  40.050 μs (1003 allocations: 75.84 KiB)\n"
     ]
    }
   ],
   "source": [
    "@btime ac2_eff_fused(ac2);"
   ]
  },
  {
   "cell_type": "markdown",
   "metadata": {},
   "source": [
    "## some weird hamiltonian"
   ]
  },
  {
   "cell_type": "code",
   "execution_count": 20,
   "metadata": {},
   "outputs": [],
   "source": [
    "using MAT\n",
    "include(\"haagerup/H3_anyon.jl\")"
   ]
  },
  {
   "cell_type": "code",
   "execution_count": 23,
   "metadata": {},
   "outputs": [],
   "source": [
    "fmps_len = 10;\n",
    "middle_site = Int(round(fmps_len/2))\n",
    "\n",
    "physical = Vect[H3](H3(4)=>1);\n",
    "virtual = Vect[H3](sector => 20 for sector in TensorKit.SectorValues{H3}());\n",
    "ts = FiniteMPS(rand,ComplexF64,fmps_len,physical,virtual);\n",
    "\n",
    "mpotensor = TensorMap(ones,ComplexF64,physical*physical,physical*physical);\n",
    "blocks(mpotensor)[H3(1)]*=0;\n",
    "blocks(mpotensor)[H3(5)]*=0;\n",
    "blocks(mpotensor)[H3(6)]*=0;\n",
    "th_orig = MPOHamiltonian(-mpotensor);\n",
    "th_fused = convert(FusedMPOHamiltonian,repeat(th_orig,length(ts)));\n",
    "\n",
    "env_orig = environments(ts,th_orig);\n",
    "env_fused = environments(ts,th_fused);\n",
    "\n",
    "ac = ts.AC[middle_site]\n",
    "ac_eff_orig = MPSKit.∂∂AC(middle_site,ts,th_orig,env_orig);\n",
    "ac_eff_fused = MPSKit.∂∂AC(middle_site,ts,th_fused,env_fused);\n",
    "\n",
    "\n",
    "ac2 = ts.AC[middle_site]*MPSKit._transpose_tail(ts.AR[middle_site+1])\n",
    "ac2_eff_orig = MPSKit.∂∂AC2(middle_site,ts,th_orig,env_orig);\n",
    "ac2_eff_fused = MPSKit.∂∂AC2(middle_site,ts,th_fused,env_fused);"
   ]
  },
  {
   "cell_type": "code",
   "execution_count": 24,
   "metadata": {},
   "outputs": [
    {
     "name": "stdout",
     "output_type": "stream",
     "text": [
      "  3.226 ms (52566 allocations: 6.93 MiB)\n"
     ]
    }
   ],
   "source": [
    "@btime ac_eff_orig(ac);"
   ]
  },
  {
   "cell_type": "code",
   "execution_count": 25,
   "metadata": {},
   "outputs": [
    {
     "name": "stdout",
     "output_type": "stream",
     "text": [
      "  456.387 μs (1703 allocations: 405.88 KiB)\n"
     ]
    }
   ],
   "source": [
    "@btime ac_eff_fused(ac);"
   ]
  },
  {
   "cell_type": "code",
   "execution_count": 26,
   "metadata": {},
   "outputs": [
    {
     "name": "stdout",
     "output_type": "stream",
     "text": [
      "  12.658 ms (324728 allocations: 33.43 MiB)\n"
     ]
    }
   ],
   "source": [
    "@btime ac2_eff_orig(ac2);"
   ]
  },
  {
   "cell_type": "code",
   "execution_count": 27,
   "metadata": {},
   "outputs": [
    {
     "name": "stdout",
     "output_type": "stream",
     "text": [
      "  828.195 μs (4019 allocations: 377.53 KiB)\n"
     ]
    }
   ],
   "source": [
    "@btime ac2_eff_fused(ac2);"
   ]
  },
  {
   "cell_type": "code",
   "execution_count": null,
   "metadata": {},
   "outputs": [],
   "source": []
  }
 ],
 "metadata": {
  "kernelspec": {
   "display_name": "Julia 1.9.4",
   "language": "julia",
   "name": "julia-1.9"
  },
  "language_info": {
   "file_extension": ".jl",
   "mimetype": "application/julia",
   "name": "julia",
   "version": "1.9.4"
  }
 },
 "nbformat": 4,
 "nbformat_minor": 2
}
